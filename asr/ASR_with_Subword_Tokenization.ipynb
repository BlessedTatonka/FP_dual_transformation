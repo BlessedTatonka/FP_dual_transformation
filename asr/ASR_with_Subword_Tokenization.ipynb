{
 "cells": [
  {
   "cell_type": "code",
   "execution_count": 45,
   "metadata": {
    "id": "HqBQwLAsme9b"
   },
   "outputs": [
    {
     "name": "stdout",
     "output_type": "stream",
     "text": [
      "Requirement already satisfied: wget in /home/boris/anaconda3/lib/python3.7/site-packages (3.2)\n",
      "E: Could not open lock file /var/lib/dpkg/lock-frontend - open (13: Permission denied)\n",
      "E: Unable to acquire the dpkg frontend lock (/var/lib/dpkg/lock-frontend), are you root?\n",
      "Requirement already satisfied: unidecode in /home/boris/anaconda3/lib/python3.7/site-packages (1.2.0)\n",
      "Requirement already satisfied: nemo_toolkit[all] from git+https://github.com/NVIDIA/NeMo.git@main#egg=nemo_toolkit[all] in /home/boris/anaconda3/lib/python3.7/site-packages (1.4.0)\n",
      "Requirement already satisfied: ruamel.yaml in /home/boris/anaconda3/lib/python3.7/site-packages (from nemo_toolkit[all]) (0.15.100)\n",
      "Requirement already satisfied: tqdm>=4.41.0 in /home/boris/anaconda3/lib/python3.7/site-packages (from nemo_toolkit[all]) (4.62.3)\n",
      "Requirement already satisfied: sentencepiece<1.0.0 in /home/boris/anaconda3/lib/python3.7/site-packages (from nemo_toolkit[all]) (0.1.96)\n",
      "Requirement already satisfied: frozendict in /home/boris/anaconda3/lib/python3.7/site-packages (from nemo_toolkit[all]) (2.0.6)\n",
      "Requirement already satisfied: unidecode in /home/boris/anaconda3/lib/python3.7/site-packages (from nemo_toolkit[all]) (1.2.0)\n",
      "Requirement already satisfied: scikit-learn in /home/boris/anaconda3/lib/python3.7/site-packages (from nemo_toolkit[all]) (0.22.1)\n",
      "Requirement already satisfied: torch>1.7 in /home/boris/anaconda3/lib/python3.7/site-packages (from nemo_toolkit[all]) (1.7.1+cu110)\n",
      "Requirement already satisfied: wget in /home/boris/anaconda3/lib/python3.7/site-packages (from nemo_toolkit[all]) (3.2)\n",
      "Requirement already satisfied: python-dateutil in /home/boris/anaconda3/lib/python3.7/site-packages (from nemo_toolkit[all]) (2.8.1)\n",
      "Requirement already satisfied: numpy>=1.18.2 in /home/boris/anaconda3/lib/python3.7/site-packages (from nemo_toolkit[all]) (1.19.5)\n",
      "Requirement already satisfied: wrapt in /home/boris/anaconda3/lib/python3.7/site-packages (from nemo_toolkit[all]) (1.12.1)\n",
      "Requirement already satisfied: numba in /home/boris/anaconda3/lib/python3.7/site-packages (from nemo_toolkit[all]) (0.48.0)\n",
      "Requirement already satisfied: onnx>=1.7.0 in /home/boris/anaconda3/lib/python3.7/site-packages (from nemo_toolkit[all]) (1.10.1)\n",
      "Requirement already satisfied: pyannote.metrics; extra == \"all\" in /home/boris/anaconda3/lib/python3.7/site-packages (from nemo_toolkit[all]) (3.1)\n",
      "Requirement already satisfied: soundfile; extra == \"all\" in /home/boris/anaconda3/lib/python3.7/site-packages (from nemo_toolkit[all]) (0.10.3.post1)\n",
      "Requirement already satisfied: opencc; extra == \"all\" in /home/boris/anaconda3/lib/python3.7/site-packages (from nemo_toolkit[all]) (1.1.2)\n",
      "Requirement already satisfied: pytest; extra == \"all\" in /home/boris/anaconda3/lib/python3.7/site-packages (from nemo_toolkit[all]) (5.3.5)\n",
      "Requirement already satisfied: h5py; extra == \"all\" in /home/boris/anaconda3/lib/python3.7/site-packages (from nemo_toolkit[all]) (3.1.0)\n",
      "Requirement already satisfied: sox; extra == \"all\" in /home/boris/anaconda3/lib/python3.7/site-packages (from nemo_toolkit[all]) (1.4.1)\n",
      "Requirement already satisfied: pytest-runner; extra == \"all\" in /home/boris/anaconda3/lib/python3.7/site-packages (from nemo_toolkit[all]) (5.3.1)\n",
      "Requirement already satisfied: g2p-en; extra == \"all\" in /home/boris/anaconda3/lib/python3.7/site-packages (from nemo_toolkit[all]) (2.1.0)\n",
      "Requirement already satisfied: ipywidgets; extra == \"all\" in /home/boris/anaconda3/lib/python3.7/site-packages (from nemo_toolkit[all]) (7.5.1)\n",
      "Requirement already satisfied: youtokentome>=1.0.5; extra == \"all\" in /home/boris/anaconda3/lib/python3.7/site-packages (from nemo_toolkit[all]) (1.0.6)\n",
      "Requirement already satisfied: parameterized; extra == \"all\" in /home/boris/anaconda3/lib/python3.7/site-packages (from nemo_toolkit[all]) (0.8.1)\n",
      "Requirement already satisfied: editdistance; extra == \"all\" in /home/boris/anaconda3/lib/python3.7/site-packages (from nemo_toolkit[all]) (0.5.3)\n",
      "Requirement already satisfied: sphinx; extra == \"all\" in /home/boris/anaconda3/lib/python3.7/site-packages (from nemo_toolkit[all]) (2.4.0)\n",
      "Requirement already satisfied: kaldi-io; extra == \"all\" in /home/boris/anaconda3/lib/python3.7/site-packages (from nemo_toolkit[all]) (0.9.4)\n",
      "Requirement already satisfied: pandas; extra == \"all\" in /home/boris/anaconda3/lib/python3.7/site-packages (from nemo_toolkit[all]) (1.0.1)\n",
      "Requirement already satisfied: webdataset<=0.1.62,>=0.1.48; extra == \"all\" in /home/boris/anaconda3/lib/python3.7/site-packages (from nemo_toolkit[all]) (0.1.62)\n",
      "Requirement already satisfied: wordninja==2.0.0; extra == \"all\" in /home/boris/anaconda3/lib/python3.7/site-packages (from nemo_toolkit[all]) (2.0.0)\n",
      "Requirement already satisfied: sacremoses>=0.0.43; extra == \"all\" in /home/boris/anaconda3/lib/python3.7/site-packages (from nemo_toolkit[all]) (0.0.45)\n",
      "Requirement already satisfied: torchmetrics>=0.4.1rc0; extra == \"all\" in /home/boris/anaconda3/lib/python3.7/site-packages (from nemo_toolkit[all]) (0.5.1)\n",
      "Requirement already satisfied: megatron-lm==2.2.0; extra == \"all\" in /home/boris/anaconda3/lib/python3.7/site-packages (from nemo_toolkit[all]) (2.2.0)\n",
      "Requirement already satisfied: kaldi-python-io; extra == \"all\" in /home/boris/anaconda3/lib/python3.7/site-packages (from nemo_toolkit[all]) (1.2.2)\n",
      "Requirement already satisfied: braceexpand; extra == \"all\" in /home/boris/anaconda3/lib/python3.7/site-packages (from nemo_toolkit[all]) (0.1.7)\n",
      "Requirement already satisfied: matplotlib>=3.3.2; extra == \"all\" in /home/boris/anaconda3/lib/python3.7/site-packages (from nemo_toolkit[all]) (3.4.3)\n",
      "Requirement already satisfied: wandb; extra == \"all\" in /home/boris/anaconda3/lib/python3.7/site-packages (from nemo_toolkit[all]) (0.12.2)\n",
      "Requirement already satisfied: inflect; extra == \"all\" in /home/boris/anaconda3/lib/python3.7/site-packages (from nemo_toolkit[all]) (5.3.0)\n",
      "Requirement already satisfied: packaging; extra == \"all\" in /home/boris/anaconda3/lib/python3.7/site-packages (from nemo_toolkit[all]) (20.1)\n",
      "Requirement already satisfied: pystoi; extra == \"all\" in /home/boris/anaconda3/lib/python3.7/site-packages (from nemo_toolkit[all]) (0.3.3)\n",
      "Requirement already satisfied: pytorch-lightning<1.5,>=1.4.8; extra == \"all\" in /home/boris/anaconda3/lib/python3.7/site-packages (from nemo_toolkit[all]) (1.4.9)\n",
      "Requirement already satisfied: fasttext; extra == \"all\" in /home/boris/anaconda3/lib/python3.7/site-packages (from nemo_toolkit[all]) (0.9.2)\n",
      "Requirement already satisfied: nltk==3.6.2; extra == \"all\" in /home/boris/anaconda3/lib/python3.7/site-packages (from nemo_toolkit[all]) (3.6.2)\n",
      "Requirement already satisfied: attrdict; extra == \"all\" in /home/boris/anaconda3/lib/python3.7/site-packages (from nemo_toolkit[all]) (2.0.1)\n",
      "Requirement already satisfied: marshmallow; extra == \"all\" in /home/boris/anaconda3/lib/python3.7/site-packages (from nemo_toolkit[all]) (3.13.0)\n",
      "Requirement already satisfied: pillow; extra == \"all\" in /home/boris/anaconda3/lib/python3.7/site-packages (from nemo_toolkit[all]) (7.0.0)\n",
      "Requirement already satisfied: pyannote.core; extra == \"all\" in /home/boris/anaconda3/lib/python3.7/site-packages (from nemo_toolkit[all]) (4.2.1)\n",
      "Requirement already satisfied: pangu; extra == \"all\" in /home/boris/anaconda3/lib/python3.7/site-packages (from nemo_toolkit[all]) (4.0.6.1)\n",
      "Requirement already satisfied: librosa; extra == \"all\" in /home/boris/anaconda3/lib/python3.7/site-packages (from nemo_toolkit[all]) (0.8.1)\n",
      "Requirement already satisfied: pesq; extra == \"all\" in /home/boris/anaconda3/lib/python3.7/site-packages (from nemo_toolkit[all]) (0.0.3)\n",
      "Requirement already satisfied: torch-stft; extra == \"all\" in /home/boris/anaconda3/lib/python3.7/site-packages (from nemo_toolkit[all]) (0.1.4)\n",
      "Requirement already satisfied: gdown; extra == \"all\" in /home/boris/anaconda3/lib/python3.7/site-packages (from nemo_toolkit[all]) (3.14.0)\n",
      "Requirement already satisfied: transformers>=4.0.1; extra == \"all\" in /home/boris/anaconda3/lib/python3.7/site-packages (from nemo_toolkit[all]) (4.8.2)\n",
      "Requirement already satisfied: pypinyin; extra == \"all\" in /home/boris/anaconda3/lib/python3.7/site-packages (from nemo_toolkit[all]) (0.42.0)\n",
      "Requirement already satisfied: regex; extra == \"all\" in /home/boris/anaconda3/lib/python3.7/site-packages (from nemo_toolkit[all]) (2021.7.6)\n",
      "Requirement already satisfied: torchvision; extra == \"all\" in /home/boris/anaconda3/lib/python3.7/site-packages (from nemo_toolkit[all]) (0.8.2+cu110)\n",
      "Requirement already satisfied: omegaconf>=2.1.0; extra == \"all\" in /home/boris/anaconda3/lib/python3.7/site-packages (from nemo_toolkit[all]) (2.1.1)\n",
      "Requirement already satisfied: hydra-core>=1.1.0; extra == \"all\" in /home/boris/anaconda3/lib/python3.7/site-packages (from nemo_toolkit[all]) (1.1.1)\n",
      "Requirement already satisfied: isort[requirements]<5; extra == \"all\" in /home/boris/anaconda3/lib/python3.7/site-packages (from nemo_toolkit[all]) (4.3.21)\n",
      "Requirement already satisfied: pydub; extra == \"all\" in /home/boris/anaconda3/lib/python3.7/site-packages (from nemo_toolkit[all]) (0.25.1)\n",
      "Requirement already satisfied: jieba; extra == \"all\" in /home/boris/anaconda3/lib/python3.7/site-packages (from nemo_toolkit[all]) (0.42.1)\n",
      "Requirement already satisfied: rapidfuzz; extra == \"all\" in /home/boris/anaconda3/lib/python3.7/site-packages (from nemo_toolkit[all]) (1.7.0)\n",
      "Requirement already satisfied: boto3; extra == \"all\" in /home/boris/anaconda3/lib/python3.7/site-packages (from nemo_toolkit[all]) (1.17.111)\n",
      "Requirement already satisfied: sacrebleu[ja]; extra == \"all\" in /home/boris/anaconda3/lib/python3.7/site-packages (from nemo_toolkit[all]) (2.0.0)\n",
      "Requirement already satisfied: kaldiio; extra == \"all\" in /home/boris/anaconda3/lib/python3.7/site-packages (from nemo_toolkit[all]) (2.17.2)\n",
      "Requirement already satisfied: sphinxcontrib-bibtex; extra == \"all\" in /home/boris/anaconda3/lib/python3.7/site-packages (from nemo_toolkit[all]) (2.4.1)\n",
      "Requirement already satisfied: black==19.10b0; extra == \"all\" in /home/boris/anaconda3/lib/python3.7/site-packages (from nemo_toolkit[all]) (19.10b0)\n"
     ]
    },
    {
     "name": "stdout",
     "output_type": "stream",
     "text": [
      "Requirement already satisfied: scipy; extra == \"all\" in /home/boris/anaconda3/lib/python3.7/site-packages (from nemo_toolkit[all]) (1.4.1)\n",
      "Requirement already satisfied: joblib>=0.11 in /home/boris/anaconda3/lib/python3.7/site-packages (from scikit-learn->nemo_toolkit[all]) (0.14.1)\n",
      "Requirement already satisfied: typing-extensions in /home/boris/anaconda3/lib/python3.7/site-packages (from torch>1.7->nemo_toolkit[all]) (3.7.4.3)\n",
      "Requirement already satisfied: six>=1.5 in /home/boris/anaconda3/lib/python3.7/site-packages (from python-dateutil->nemo_toolkit[all]) (1.15.0)\n",
      "Requirement already satisfied: llvmlite<0.32.0,>=0.31.0dev0 in /home/boris/anaconda3/lib/python3.7/site-packages (from numba->nemo_toolkit[all]) (0.31.0)\n",
      "Requirement already satisfied: setuptools in /home/boris/anaconda3/lib/python3.7/site-packages (from numba->nemo_toolkit[all]) (45.2.0.post20200210)\n",
      "Requirement already satisfied: protobuf in /home/boris/anaconda3/lib/python3.7/site-packages (from onnx>=1.7.0->nemo_toolkit[all]) (3.17.3)\n",
      "Requirement already satisfied: tabulate>=0.7.7 in /home/boris/anaconda3/lib/python3.7/site-packages (from pyannote.metrics; extra == \"all\"->nemo_toolkit[all]) (0.8.9)\n",
      "Requirement already satisfied: docopt>=0.6.2 in /home/boris/anaconda3/lib/python3.7/site-packages (from pyannote.metrics; extra == \"all\"->nemo_toolkit[all]) (0.6.2)\n",
      "Requirement already satisfied: sympy>=1.1 in /home/boris/anaconda3/lib/python3.7/site-packages (from pyannote.metrics; extra == \"all\"->nemo_toolkit[all]) (1.5.1)\n",
      "Requirement already satisfied: pyannote.database>=4.0.1 in /home/boris/anaconda3/lib/python3.7/site-packages (from pyannote.metrics; extra == \"all\"->nemo_toolkit[all]) (4.1.1)\n",
      "Requirement already satisfied: cffi>=1.0 in /home/boris/anaconda3/lib/python3.7/site-packages (from soundfile; extra == \"all\"->nemo_toolkit[all]) (1.14.0)\n",
      "Requirement already satisfied: py>=1.5.0 in /home/boris/anaconda3/lib/python3.7/site-packages (from pytest; extra == \"all\"->nemo_toolkit[all]) (1.8.1)\n",
      "Requirement already satisfied: attrs>=17.4.0 in /home/boris/anaconda3/lib/python3.7/site-packages (from pytest; extra == \"all\"->nemo_toolkit[all]) (21.2.0)\n",
      "Requirement already satisfied: more-itertools>=4.0.0 in /home/boris/anaconda3/lib/python3.7/site-packages (from pytest; extra == \"all\"->nemo_toolkit[all]) (8.2.0)\n",
      "Requirement already satisfied: pluggy<1.0,>=0.12 in /home/boris/anaconda3/lib/python3.7/site-packages (from pytest; extra == \"all\"->nemo_toolkit[all]) (0.13.1)\n",
      "Requirement already satisfied: wcwidth in /home/boris/anaconda3/lib/python3.7/site-packages (from pytest; extra == \"all\"->nemo_toolkit[all]) (0.1.8)\n",
      "Requirement already satisfied: importlib-metadata>=0.12 in /home/boris/anaconda3/lib/python3.7/site-packages (from pytest; extra == \"all\"->nemo_toolkit[all]) (1.5.0)\n",
      "Requirement already satisfied: cached-property; python_version < \"3.8\" in /home/boris/anaconda3/lib/python3.7/site-packages (from h5py; extra == \"all\"->nemo_toolkit[all]) (1.5.2)\n",
      "Requirement already satisfied: distance>=0.1.3 in /home/boris/anaconda3/lib/python3.7/site-packages (from g2p-en; extra == \"all\"->nemo_toolkit[all]) (0.1.3)\n",
      "Requirement already satisfied: ipython>=4.0.0; python_version >= \"3.3\" in /home/boris/anaconda3/lib/python3.7/site-packages (from ipywidgets; extra == \"all\"->nemo_toolkit[all]) (7.28.0)\n",
      "Requirement already satisfied: traitlets>=4.3.1 in /home/boris/anaconda3/lib/python3.7/site-packages (from ipywidgets; extra == \"all\"->nemo_toolkit[all]) (4.3.3)\n",
      "Requirement already satisfied: widgetsnbextension~=3.5.0 in /home/boris/anaconda3/lib/python3.7/site-packages (from ipywidgets; extra == \"all\"->nemo_toolkit[all]) (3.5.1)\n",
      "Requirement already satisfied: nbformat>=4.2.0 in /home/boris/anaconda3/lib/python3.7/site-packages (from ipywidgets; extra == \"all\"->nemo_toolkit[all]) (5.0.4)\n",
      "Requirement already satisfied: ipykernel>=4.5.1 in /home/boris/anaconda3/lib/python3.7/site-packages (from ipywidgets; extra == \"all\"->nemo_toolkit[all]) (5.1.4)\n",
      "Requirement already satisfied: Click>=7.0 in /home/boris/anaconda3/lib/python3.7/site-packages (from youtokentome>=1.0.5; extra == \"all\"->nemo_toolkit[all]) (7.0)\n",
      "Requirement already satisfied: sphinxcontrib-devhelp in /home/boris/anaconda3/lib/python3.7/site-packages (from sphinx; extra == \"all\"->nemo_toolkit[all]) (1.0.1)\n",
      "Requirement already satisfied: sphinxcontrib-jsmath in /home/boris/anaconda3/lib/python3.7/site-packages (from sphinx; extra == \"all\"->nemo_toolkit[all]) (1.0.1)\n",
      "Requirement already satisfied: sphinxcontrib-qthelp in /home/boris/anaconda3/lib/python3.7/site-packages (from sphinx; extra == \"all\"->nemo_toolkit[all]) (1.0.2)\n",
      "Requirement already satisfied: alabaster<0.8,>=0.7 in /home/boris/anaconda3/lib/python3.7/site-packages (from sphinx; extra == \"all\"->nemo_toolkit[all]) (0.7.12)\n",
      "Requirement already satisfied: sphinxcontrib-serializinghtml in /home/boris/anaconda3/lib/python3.7/site-packages (from sphinx; extra == \"all\"->nemo_toolkit[all]) (1.1.3)\n",
      "Requirement already satisfied: Pygments>=2.0 in /home/boris/anaconda3/lib/python3.7/site-packages (from sphinx; extra == \"all\"->nemo_toolkit[all]) (2.2.0)\n",
      "Requirement already satisfied: imagesize in /home/boris/anaconda3/lib/python3.7/site-packages (from sphinx; extra == \"all\"->nemo_toolkit[all]) (1.2.0)\n",
      "Requirement already satisfied: babel!=2.0,>=1.3 in /home/boris/anaconda3/lib/python3.7/site-packages (from sphinx; extra == \"all\"->nemo_toolkit[all]) (2.9.1)\n",
      "Requirement already satisfied: sphinxcontrib-applehelp in /home/boris/anaconda3/lib/python3.7/site-packages (from sphinx; extra == \"all\"->nemo_toolkit[all]) (1.0.1)\n",
      "Requirement already satisfied: Jinja2>=2.3 in /home/boris/anaconda3/lib/python3.7/site-packages (from sphinx; extra == \"all\"->nemo_toolkit[all]) (2.11.1)\n",
      "Requirement already satisfied: docutils>=0.12 in /home/boris/anaconda3/lib/python3.7/site-packages (from sphinx; extra == \"all\"->nemo_toolkit[all]) (0.16)\n",
      "Requirement already satisfied: requests>=2.5.0 in /home/boris/anaconda3/lib/python3.7/site-packages (from sphinx; extra == \"all\"->nemo_toolkit[all]) (2.22.0)\n",
      "Requirement already satisfied: sphinxcontrib-htmlhelp in /home/boris/anaconda3/lib/python3.7/site-packages (from sphinx; extra == \"all\"->nemo_toolkit[all]) (1.0.2)\n",
      "Requirement already satisfied: snowballstemmer>=1.1 in /home/boris/anaconda3/lib/python3.7/site-packages (from sphinx; extra == \"all\"->nemo_toolkit[all]) (2.0.0)\n",
      "Requirement already satisfied: pytz>=2017.2 in /home/boris/anaconda3/lib/python3.7/site-packages (from pandas; extra == \"all\"->nemo_toolkit[all]) (2019.3)\n",
      "Requirement already satisfied: pybind11 in /home/boris/anaconda3/lib/python3.7/site-packages (from megatron-lm==2.2.0; extra == \"all\"->nemo_toolkit[all]) (2.7.1)\n",
      "Requirement already satisfied: kiwisolver>=1.0.1 in /home/boris/anaconda3/lib/python3.7/site-packages (from matplotlib>=3.3.2; extra == \"all\"->nemo_toolkit[all]) (1.1.0)\n",
      "Requirement already satisfied: pyparsing>=2.2.1 in /home/boris/anaconda3/lib/python3.7/site-packages (from matplotlib>=3.3.2; extra == \"all\"->nemo_toolkit[all]) (2.4.6)\n",
      "Requirement already satisfied: cycler>=0.10 in /home/boris/anaconda3/lib/python3.7/site-packages (from matplotlib>=3.3.2; extra == \"all\"->nemo_toolkit[all]) (0.10.0)\n",
      "Requirement already satisfied: PyYAML in /home/boris/anaconda3/lib/python3.7/site-packages (from wandb; extra == \"all\"->nemo_toolkit[all]) (5.3)\n",
      "Requirement already satisfied: configparser>=3.8.1 in /home/boris/anaconda3/lib/python3.7/site-packages (from wandb; extra == \"all\"->nemo_toolkit[all]) (5.0.2)\n",
      "Requirement already satisfied: pathtools in /home/boris/anaconda3/lib/python3.7/site-packages (from wandb; extra == \"all\"->nemo_toolkit[all]) (0.1.2)\n",
      "Requirement already satisfied: yaspin>=1.0.0 in /home/boris/anaconda3/lib/python3.7/site-packages (from wandb; extra == \"all\"->nemo_toolkit[all]) (2.1.0)\n",
      "Requirement already satisfied: shortuuid>=0.5.0 in /home/boris/anaconda3/lib/python3.7/site-packages (from wandb; extra == \"all\"->nemo_toolkit[all]) (1.0.1)\n",
      "Requirement already satisfied: promise<3,>=2.0 in /home/boris/anaconda3/lib/python3.7/site-packages (from wandb; extra == \"all\"->nemo_toolkit[all]) (2.3)\n",
      "Requirement already satisfied: subprocess32>=3.5.3 in /home/boris/anaconda3/lib/python3.7/site-packages (from wandb; extra == \"all\"->nemo_toolkit[all]) (3.5.4)\n",
      "Requirement already satisfied: psutil>=5.0.0 in /home/boris/anaconda3/lib/python3.7/site-packages (from wandb; extra == \"all\"->nemo_toolkit[all]) (5.6.7)\n",
      "Requirement already satisfied: sentry-sdk>=1.0.0 in /home/boris/anaconda3/lib/python3.7/site-packages (from wandb; extra == \"all\"->nemo_toolkit[all]) (1.4.3)\n"
     ]
    },
    {
     "name": "stdout",
     "output_type": "stream",
     "text": [
      "Requirement already satisfied: GitPython>=1.0.0 in /home/boris/anaconda3/lib/python3.7/site-packages (from wandb; extra == \"all\"->nemo_toolkit[all]) (3.1.24)\n",
      "Requirement already satisfied: docker-pycreds>=0.4.0 in /home/boris/anaconda3/lib/python3.7/site-packages (from wandb; extra == \"all\"->nemo_toolkit[all]) (0.4.0)\n",
      "Requirement already satisfied: fsspec[http]!=2021.06.0,>=2021.05.0 in /home/boris/anaconda3/lib/python3.7/site-packages (from pytorch-lightning<1.5,>=1.4.8; extra == \"all\"->nemo_toolkit[all]) (2021.7.0)\n",
      "Requirement already satisfied: pyDeprecate==0.3.1 in /home/boris/anaconda3/lib/python3.7/site-packages (from pytorch-lightning<1.5,>=1.4.8; extra == \"all\"->nemo_toolkit[all]) (0.3.1)\n",
      "Requirement already satisfied: future>=0.17.1 in /home/boris/anaconda3/lib/python3.7/site-packages (from pytorch-lightning<1.5,>=1.4.8; extra == \"all\"->nemo_toolkit[all]) (0.18.2)\n",
      "Requirement already satisfied: tensorboard>=2.2.0 in /home/boris/anaconda3/lib/python3.7/site-packages (from pytorch-lightning<1.5,>=1.4.8; extra == \"all\"->nemo_toolkit[all]) (2.5.0)\n",
      "Requirement already satisfied: sortedcontainers>=2.0.4 in /home/boris/anaconda3/lib/python3.7/site-packages (from pyannote.core; extra == \"all\"->nemo_toolkit[all]) (2.1.0)\n",
      "Requirement already satisfied: simplejson>=3.8.1 in /home/boris/anaconda3/lib/python3.7/site-packages (from pyannote.core; extra == \"all\"->nemo_toolkit[all]) (3.17.5)\n",
      "Requirement already satisfied: audioread>=2.0.0 in /home/boris/anaconda3/lib/python3.7/site-packages (from librosa; extra == \"all\"->nemo_toolkit[all]) (2.1.9)\n",
      "Requirement already satisfied: pooch>=1.0 in /home/boris/anaconda3/lib/python3.7/site-packages (from librosa; extra == \"all\"->nemo_toolkit[all]) (1.5.1)\n",
      "Requirement already satisfied: resampy>=0.2.2 in /home/boris/anaconda3/lib/python3.7/site-packages (from librosa; extra == \"all\"->nemo_toolkit[all]) (0.2.2)\n",
      "Requirement already satisfied: decorator>=3.0.0 in /home/boris/anaconda3/lib/python3.7/site-packages (from librosa; extra == \"all\"->nemo_toolkit[all]) (4.4.1)\n",
      "Requirement already satisfied: filelock in /home/boris/anaconda3/lib/python3.7/site-packages (from gdown; extra == \"all\"->nemo_toolkit[all]) (3.0.12)\n",
      "Requirement already satisfied: tokenizers<0.11,>=0.10.1 in /home/boris/anaconda3/lib/python3.7/site-packages (from transformers>=4.0.1; extra == \"all\"->nemo_toolkit[all]) (0.10.3)\n",
      "Requirement already satisfied: huggingface-hub==0.0.12 in /home/boris/anaconda3/lib/python3.7/site-packages (from transformers>=4.0.1; extra == \"all\"->nemo_toolkit[all]) (0.0.12)\n",
      "Requirement already satisfied: antlr4-python3-runtime==4.8 in /home/boris/anaconda3/lib/python3.7/site-packages (from omegaconf>=2.1.0; extra == \"all\"->nemo_toolkit[all]) (4.8)\n",
      "Requirement already satisfied: importlib-resources; python_version < \"3.9\" in /home/boris/anaconda3/lib/python3.7/site-packages (from hydra-core>=1.1.0; extra == \"all\"->nemo_toolkit[all]) (5.2.2)\n",
      "Requirement already satisfied: pipreqs; extra == \"requirements\" in /home/boris/anaconda3/lib/python3.7/site-packages (from isort[requirements]<5; extra == \"all\"->nemo_toolkit[all]) (0.4.10)\n",
      "Requirement already satisfied: pip-api; extra == \"requirements\" in /home/boris/anaconda3/lib/python3.7/site-packages (from isort[requirements]<5; extra == \"all\"->nemo_toolkit[all]) (0.0.22)\n",
      "Requirement already satisfied: jmespath<1.0.0,>=0.7.1 in /home/boris/anaconda3/lib/python3.7/site-packages (from boto3; extra == \"all\"->nemo_toolkit[all]) (0.10.0)\n",
      "Requirement already satisfied: botocore<1.21.0,>=1.20.111 in /home/boris/anaconda3/lib/python3.7/site-packages (from boto3; extra == \"all\"->nemo_toolkit[all]) (1.20.111)\n",
      "Requirement already satisfied: s3transfer<0.5.0,>=0.4.0 in /home/boris/anaconda3/lib/python3.7/site-packages (from boto3; extra == \"all\"->nemo_toolkit[all]) (0.4.2)\n",
      "Requirement already satisfied: portalocker in /home/boris/anaconda3/lib/python3.7/site-packages (from sacrebleu[ja]; extra == \"all\"->nemo_toolkit[all]) (2.3.2)\n",
      "Requirement already satisfied: colorama in /home/boris/anaconda3/lib/python3.7/site-packages (from sacrebleu[ja]; extra == \"all\"->nemo_toolkit[all]) (0.4.3)\n",
      "Requirement already satisfied: ipadic<2.0,>=1.0; extra == \"ja\" in /home/boris/anaconda3/lib/python3.7/site-packages (from sacrebleu[ja]; extra == \"all\"->nemo_toolkit[all]) (1.0.0)\n",
      "Requirement already satisfied: mecab-python3==1.0.3; extra == \"ja\" in /home/boris/anaconda3/lib/python3.7/site-packages (from sacrebleu[ja]; extra == \"all\"->nemo_toolkit[all]) (1.0.3)\n",
      "Requirement already satisfied: pybtex>=0.20 in /home/boris/anaconda3/lib/python3.7/site-packages (from sphinxcontrib-bibtex; extra == \"all\"->nemo_toolkit[all]) (0.24.0)\n",
      "Requirement already satisfied: pybtex-docutils>=1.0.0 in /home/boris/anaconda3/lib/python3.7/site-packages (from sphinxcontrib-bibtex; extra == \"all\"->nemo_toolkit[all]) (1.0.1)\n",
      "Requirement already satisfied: appdirs in /home/boris/anaconda3/lib/python3.7/site-packages (from black==19.10b0; extra == \"all\"->nemo_toolkit[all]) (1.4.4)\n",
      "Requirement already satisfied: pathspec<1,>=0.6 in /home/boris/anaconda3/lib/python3.7/site-packages (from black==19.10b0; extra == \"all\"->nemo_toolkit[all]) (0.9.0)\n",
      "Requirement already satisfied: toml>=0.9.4 in /home/boris/anaconda3/lib/python3.7/site-packages (from black==19.10b0; extra == \"all\"->nemo_toolkit[all]) (0.10.2)\n",
      "Requirement already satisfied: typed-ast>=1.4.0 in /home/boris/anaconda3/lib/python3.7/site-packages (from black==19.10b0; extra == \"all\"->nemo_toolkit[all]) (1.4.3)\n",
      "Requirement already satisfied: mpmath>=0.19 in /home/boris/anaconda3/lib/python3.7/site-packages (from sympy>=1.1->pyannote.metrics; extra == \"all\"->nemo_toolkit[all]) (1.1.0)\n",
      "Requirement already satisfied: typer[all]>=0.2.1 in /home/boris/anaconda3/lib/python3.7/site-packages (from pyannote.database>=4.0.1->pyannote.metrics; extra == \"all\"->nemo_toolkit[all]) (0.4.0)\n",
      "Requirement already satisfied: pycparser in /home/boris/anaconda3/lib/python3.7/site-packages (from cffi>=1.0->soundfile; extra == \"all\"->nemo_toolkit[all]) (2.19)\n",
      "Requirement already satisfied: zipp>=0.5 in /home/boris/anaconda3/lib/python3.7/site-packages (from importlib-metadata>=0.12->pytest; extra == \"all\"->nemo_toolkit[all]) (3.6.0)\n",
      "Requirement already satisfied: prompt-toolkit!=3.0.0,!=3.0.1,<3.1.0,>=2.0.0 in /home/boris/anaconda3/lib/python3.7/site-packages (from ipython>=4.0.0; python_version >= \"3.3\"->ipywidgets; extra == \"all\"->nemo_toolkit[all]) (3.0.3)\n",
      "Requirement already satisfied: pexpect>4.3; sys_platform != \"win32\" in /home/boris/anaconda3/lib/python3.7/site-packages (from ipython>=4.0.0; python_version >= \"3.3\"->ipywidgets; extra == \"all\"->nemo_toolkit[all]) (4.8.0)\n",
      "Requirement already satisfied: pickleshare in /home/boris/anaconda3/lib/python3.7/site-packages (from ipython>=4.0.0; python_version >= \"3.3\"->ipywidgets; extra == \"all\"->nemo_toolkit[all]) (0.7.5)\n",
      "Requirement already satisfied: jedi>=0.16 in /home/boris/anaconda3/lib/python3.7/site-packages (from ipython>=4.0.0; python_version >= \"3.3\"->ipywidgets; extra == \"all\"->nemo_toolkit[all]) (0.18.0)\n",
      "Requirement already satisfied: matplotlib-inline in /home/boris/anaconda3/lib/python3.7/site-packages (from ipython>=4.0.0; python_version >= \"3.3\"->ipywidgets; extra == \"all\"->nemo_toolkit[all]) (0.1.3)\n",
      "Requirement already satisfied: backcall in /home/boris/anaconda3/lib/python3.7/site-packages (from ipython>=4.0.0; python_version >= \"3.3\"->ipywidgets; extra == \"all\"->nemo_toolkit[all]) (0.2.0)\n",
      "Requirement already satisfied: ipython-genutils in /home/boris/anaconda3/lib/python3.7/site-packages (from traitlets>=4.3.1->ipywidgets; extra == \"all\"->nemo_toolkit[all]) (0.2.0)\n",
      "Requirement already satisfied: notebook>=4.4.1 in /home/boris/anaconda3/lib/python3.7/site-packages (from widgetsnbextension~=3.5.0->ipywidgets; extra == \"all\"->nemo_toolkit[all]) (6.0.3)\n",
      "Requirement already satisfied: jupyter-core in /home/boris/anaconda3/lib/python3.7/site-packages (from nbformat>=4.2.0->ipywidgets; extra == \"all\"->nemo_toolkit[all]) (4.6.1)\n",
      "Requirement already satisfied: jsonschema!=2.5.0,>=2.4 in /home/boris/anaconda3/lib/python3.7/site-packages (from nbformat>=4.2.0->ipywidgets; extra == \"all\"->nemo_toolkit[all]) (3.2.0)\n",
      "Requirement already satisfied: jupyter-client in /home/boris/anaconda3/lib/python3.7/site-packages (from ipykernel>=4.5.1->ipywidgets; extra == \"all\"->nemo_toolkit[all]) (5.3.4)\n",
      "Requirement already satisfied: tornado>=4.2 in /home/boris/anaconda3/lib/python3.7/site-packages (from ipykernel>=4.5.1->ipywidgets; extra == \"all\"->nemo_toolkit[all]) (6.1)\n",
      "Requirement already satisfied: MarkupSafe>=0.23 in /home/boris/anaconda3/lib/python3.7/site-packages (from Jinja2>=2.3->sphinx; extra == \"all\"->nemo_toolkit[all]) (1.1.1)\n",
      "Requirement already satisfied: certifi>=2017.4.17 in /home/boris/anaconda3/lib/python3.7/site-packages (from requests>=2.5.0->sphinx; extra == \"all\"->nemo_toolkit[all]) (2019.11.28)\n",
      "Requirement already satisfied: chardet<3.1.0,>=3.0.2 in /home/boris/anaconda3/lib/python3.7/site-packages (from requests>=2.5.0->sphinx; extra == \"all\"->nemo_toolkit[all]) (3.0.4)\n",
      "Requirement already satisfied: idna<2.9,>=2.5 in /home/boris/anaconda3/lib/python3.7/site-packages (from requests>=2.5.0->sphinx; extra == \"all\"->nemo_toolkit[all]) (2.8)\n",
      "Requirement already satisfied: urllib3!=1.25.0,!=1.25.1,<1.26,>=1.21.1 in /home/boris/anaconda3/lib/python3.7/site-packages (from requests>=2.5.0->sphinx; extra == \"all\"->nemo_toolkit[all]) (1.25.8)\n",
      "Requirement already satisfied: termcolor<2.0.0,>=1.1.0 in /home/boris/anaconda3/lib/python3.7/site-packages (from yaspin>=1.0.0->wandb; extra == \"all\"->nemo_toolkit[all]) (1.1.0)\n",
      "Requirement already satisfied: gitdb<5,>=4.0.1 in /home/boris/anaconda3/lib/python3.7/site-packages (from GitPython>=1.0.0->wandb; extra == \"all\"->nemo_toolkit[all]) (4.0.7)\n",
      "Requirement already satisfied: aiohttp; extra == \"http\" in /home/boris/anaconda3/lib/python3.7/site-packages (from fsspec[http]!=2021.06.0,>=2021.05.0->pytorch-lightning<1.5,>=1.4.8; extra == \"all\"->nemo_toolkit[all]) (3.7.4.post0)\n",
      "Requirement already satisfied: tensorboard-plugin-wit>=1.6.0 in /home/boris/anaconda3/lib/python3.7/site-packages (from tensorboard>=2.2.0->pytorch-lightning<1.5,>=1.4.8; extra == \"all\"->nemo_toolkit[all]) (1.8.0)\n",
      "Requirement already satisfied: tensorboard-data-server<0.7.0,>=0.6.0 in /home/boris/anaconda3/lib/python3.7/site-packages (from tensorboard>=2.2.0->pytorch-lightning<1.5,>=1.4.8; extra == \"all\"->nemo_toolkit[all]) (0.6.1)\n",
      "Requirement already satisfied: absl-py>=0.4 in /home/boris/anaconda3/lib/python3.7/site-packages (from tensorboard>=2.2.0->pytorch-lightning<1.5,>=1.4.8; extra == \"all\"->nemo_toolkit[all]) (0.13.0)\n",
      "Requirement already satisfied: google-auth<2,>=1.6.3 in /home/boris/anaconda3/lib/python3.7/site-packages (from tensorboard>=2.2.0->pytorch-lightning<1.5,>=1.4.8; extra == \"all\"->nemo_toolkit[all]) (1.32.1)\n"
     ]
    },
    {
     "name": "stdout",
     "output_type": "stream",
     "text": [
      "Requirement already satisfied: grpcio>=1.24.3 in /home/boris/anaconda3/lib/python3.7/site-packages (from tensorboard>=2.2.0->pytorch-lightning<1.5,>=1.4.8; extra == \"all\"->nemo_toolkit[all]) (1.34.1)\n",
      "Requirement already satisfied: google-auth-oauthlib<0.5,>=0.4.1 in /home/boris/anaconda3/lib/python3.7/site-packages (from tensorboard>=2.2.0->pytorch-lightning<1.5,>=1.4.8; extra == \"all\"->nemo_toolkit[all]) (0.4.4)\n",
      "Requirement already satisfied: wheel>=0.26; python_version >= \"3\" in /home/boris/anaconda3/lib/python3.7/site-packages (from tensorboard>=2.2.0->pytorch-lightning<1.5,>=1.4.8; extra == \"all\"->nemo_toolkit[all]) (0.36.2)\n",
      "Requirement already satisfied: markdown>=2.6.8 in /home/boris/anaconda3/lib/python3.7/site-packages (from tensorboard>=2.2.0->pytorch-lightning<1.5,>=1.4.8; extra == \"all\"->nemo_toolkit[all]) (3.3.4)\n",
      "Requirement already satisfied: werkzeug>=0.11.15 in /home/boris/anaconda3/lib/python3.7/site-packages (from tensorboard>=2.2.0->pytorch-lightning<1.5,>=1.4.8; extra == \"all\"->nemo_toolkit[all]) (1.0.0)\n",
      "Requirement already satisfied: yarg in /home/boris/anaconda3/lib/python3.7/site-packages (from pipreqs; extra == \"requirements\"->isort[requirements]<5; extra == \"all\"->nemo_toolkit[all]) (0.1.9)\n",
      "Requirement already satisfied: pip in /home/boris/anaconda3/lib/python3.7/site-packages (from pip-api; extra == \"requirements\"->isort[requirements]<5; extra == \"all\"->nemo_toolkit[all]) (20.0.2)\n",
      "Requirement already satisfied: latexcodec>=1.0.4 in /home/boris/anaconda3/lib/python3.7/site-packages (from pybtex>=0.20->sphinxcontrib-bibtex; extra == \"all\"->nemo_toolkit[all]) (2.0.1)\n",
      "Requirement already satisfied: shellingham<2.0.0,>=1.3.0; extra == \"all\" in /home/boris/anaconda3/lib/python3.7/site-packages (from typer[all]>=0.2.1->pyannote.database>=4.0.1->pyannote.metrics; extra == \"all\"->nemo_toolkit[all]) (1.4.0)\n",
      "Requirement already satisfied: ptyprocess>=0.5 in /home/boris/anaconda3/lib/python3.7/site-packages (from pexpect>4.3; sys_platform != \"win32\"->ipython>=4.0.0; python_version >= \"3.3\"->ipywidgets; extra == \"all\"->nemo_toolkit[all]) (0.6.0)\n",
      "Requirement already satisfied: parso<0.9.0,>=0.8.0 in /home/boris/anaconda3/lib/python3.7/site-packages (from jedi>=0.16->ipython>=4.0.0; python_version >= \"3.3\"->ipywidgets; extra == \"all\"->nemo_toolkit[all]) (0.8.2)\n",
      "Requirement already satisfied: nbconvert in /home/boris/anaconda3/lib/python3.7/site-packages (from notebook>=4.4.1->widgetsnbextension~=3.5.0->ipywidgets; extra == \"all\"->nemo_toolkit[all]) (5.6.1)\n",
      "Requirement already satisfied: terminado>=0.8.1 in /home/boris/anaconda3/lib/python3.7/site-packages (from notebook>=4.4.1->widgetsnbextension~=3.5.0->ipywidgets; extra == \"all\"->nemo_toolkit[all]) (0.8.3)\n",
      "Requirement already satisfied: pyzmq>=17 in /home/boris/anaconda3/lib/python3.7/site-packages (from notebook>=4.4.1->widgetsnbextension~=3.5.0->ipywidgets; extra == \"all\"->nemo_toolkit[all]) (18.1.1)\n",
      "Requirement already satisfied: prometheus-client in /home/boris/anaconda3/lib/python3.7/site-packages (from notebook>=4.4.1->widgetsnbextension~=3.5.0->ipywidgets; extra == \"all\"->nemo_toolkit[all]) (0.7.1)\n",
      "Requirement already satisfied: Send2Trash in /home/boris/anaconda3/lib/python3.7/site-packages (from notebook>=4.4.1->widgetsnbextension~=3.5.0->ipywidgets; extra == \"all\"->nemo_toolkit[all]) (1.5.0)\n",
      "Requirement already satisfied: pyrsistent>=0.14.0 in /home/boris/anaconda3/lib/python3.7/site-packages (from jsonschema!=2.5.0,>=2.4->nbformat>=4.2.0->ipywidgets; extra == \"all\"->nemo_toolkit[all]) (0.15.7)\n",
      "Requirement already satisfied: smmap<5,>=3.0.1 in /home/boris/anaconda3/lib/python3.7/site-packages (from gitdb<5,>=4.0.1->GitPython>=1.0.0->wandb; extra == \"all\"->nemo_toolkit[all]) (4.0.0)\n",
      "Requirement already satisfied: async-timeout<4.0,>=3.0 in /home/boris/anaconda3/lib/python3.7/site-packages (from aiohttp; extra == \"http\"->fsspec[http]!=2021.06.0,>=2021.05.0->pytorch-lightning<1.5,>=1.4.8; extra == \"all\"->nemo_toolkit[all]) (3.0.1)\n",
      "Requirement already satisfied: multidict<7.0,>=4.5 in /home/boris/anaconda3/lib/python3.7/site-packages (from aiohttp; extra == \"http\"->fsspec[http]!=2021.06.0,>=2021.05.0->pytorch-lightning<1.5,>=1.4.8; extra == \"all\"->nemo_toolkit[all]) (5.1.0)\n",
      "Requirement already satisfied: yarl<2.0,>=1.0 in /home/boris/anaconda3/lib/python3.7/site-packages (from aiohttp; extra == \"http\"->fsspec[http]!=2021.06.0,>=2021.05.0->pytorch-lightning<1.5,>=1.4.8; extra == \"all\"->nemo_toolkit[all]) (1.6.3)\n",
      "Requirement already satisfied: rsa<5,>=3.1.4; python_version >= \"3.6\" in /home/boris/anaconda3/lib/python3.7/site-packages (from google-auth<2,>=1.6.3->tensorboard>=2.2.0->pytorch-lightning<1.5,>=1.4.8; extra == \"all\"->nemo_toolkit[all]) (4.7.2)\n",
      "Requirement already satisfied: cachetools<5.0,>=2.0.0 in /home/boris/anaconda3/lib/python3.7/site-packages (from google-auth<2,>=1.6.3->tensorboard>=2.2.0->pytorch-lightning<1.5,>=1.4.8; extra == \"all\"->nemo_toolkit[all]) (4.2.2)\n",
      "Requirement already satisfied: pyasn1-modules>=0.2.1 in /home/boris/anaconda3/lib/python3.7/site-packages (from google-auth<2,>=1.6.3->tensorboard>=2.2.0->pytorch-lightning<1.5,>=1.4.8; extra == \"all\"->nemo_toolkit[all]) (0.2.8)\n",
      "Requirement already satisfied: requests-oauthlib>=0.7.0 in /home/boris/anaconda3/lib/python3.7/site-packages (from google-auth-oauthlib<0.5,>=0.4.1->tensorboard>=2.2.0->pytorch-lightning<1.5,>=1.4.8; extra == \"all\"->nemo_toolkit[all]) (1.3.0)\n",
      "Requirement already satisfied: bleach in /home/boris/anaconda3/lib/python3.7/site-packages (from nbconvert->notebook>=4.4.1->widgetsnbextension~=3.5.0->ipywidgets; extra == \"all\"->nemo_toolkit[all]) (4.1.0)\n",
      "Requirement already satisfied: mistune<2,>=0.8.1 in /home/boris/anaconda3/lib/python3.7/site-packages (from nbconvert->notebook>=4.4.1->widgetsnbextension~=3.5.0->ipywidgets; extra == \"all\"->nemo_toolkit[all]) (0.8.4)\n",
      "Requirement already satisfied: defusedxml in /home/boris/anaconda3/lib/python3.7/site-packages (from nbconvert->notebook>=4.4.1->widgetsnbextension~=3.5.0->ipywidgets; extra == \"all\"->nemo_toolkit[all]) (0.6.0)\n",
      "Requirement already satisfied: testpath in /home/boris/anaconda3/lib/python3.7/site-packages (from nbconvert->notebook>=4.4.1->widgetsnbextension~=3.5.0->ipywidgets; extra == \"all\"->nemo_toolkit[all]) (0.4.4)\n",
      "Requirement already satisfied: entrypoints>=0.2.2 in /home/boris/anaconda3/lib/python3.7/site-packages (from nbconvert->notebook>=4.4.1->widgetsnbextension~=3.5.0->ipywidgets; extra == \"all\"->nemo_toolkit[all]) (0.3)\n",
      "Requirement already satisfied: pandocfilters>=1.4.1 in /home/boris/anaconda3/lib/python3.7/site-packages (from nbconvert->notebook>=4.4.1->widgetsnbextension~=3.5.0->ipywidgets; extra == \"all\"->nemo_toolkit[all]) (1.4.2)\n",
      "Requirement already satisfied: pyasn1>=0.1.3 in /home/boris/anaconda3/lib/python3.7/site-packages (from rsa<5,>=3.1.4; python_version >= \"3.6\"->google-auth<2,>=1.6.3->tensorboard>=2.2.0->pytorch-lightning<1.5,>=1.4.8; extra == \"all\"->nemo_toolkit[all]) (0.4.8)\n",
      "Requirement already satisfied: oauthlib>=3.0.0 in /home/boris/anaconda3/lib/python3.7/site-packages (from requests-oauthlib>=0.7.0->google-auth-oauthlib<0.5,>=0.4.1->tensorboard>=2.2.0->pytorch-lightning<1.5,>=1.4.8; extra == \"all\"->nemo_toolkit[all]) (3.1.1)\n",
      "Requirement already satisfied: webencodings in /home/boris/anaconda3/lib/python3.7/site-packages (from bleach->nbconvert->notebook>=4.4.1->widgetsnbextension~=3.5.0->ipywidgets; extra == \"all\"->nemo_toolkit[all]) (0.5.1)\n",
      "mkdir: cannot create directory ‘configs’: File exists\n",
      "--2021-10-26 13:27:12--  https://raw.githubusercontent.com/NVIDIA/NeMo/main/examples/asr/conf/citrinet/config_bpe.yaml\n",
      "Resolving raw.githubusercontent.com (raw.githubusercontent.com)... 185.199.110.133, 185.199.111.133, 185.199.108.133, ...\n",
      "Connecting to raw.githubusercontent.com (raw.githubusercontent.com)|185.199.110.133|:443... connected.\n",
      "HTTP request sent, awaiting response... 200 OK\n",
      "Length: 4098 (4,0K) [text/plain]\n",
      "Saving to: ‘configs/config_bpe.yaml.1’\n",
      "\n",
      "config_bpe.yaml.1   100%[===================>]   4,00K  --.-KB/s    in 0s      \n",
      "\n",
      "2021-10-26 13:27:13 (31,7 MB/s) - ‘configs/config_bpe.yaml.1’ saved [4098/4098]\n",
      "\n",
      "--2021-10-26 13:27:13--  https://raw.githubusercontent.com/NVIDIA/NeMo/main/examples/asr/conf/citrinet/citrinet_512.yaml\n",
      "Resolving raw.githubusercontent.com (raw.githubusercontent.com)... 185.199.109.133, 185.199.108.133, 185.199.111.133, ...\n"
     ]
    },
    {
     "name": "stdout",
     "output_type": "stream",
     "text": [
      "Connecting to raw.githubusercontent.com (raw.githubusercontent.com)|185.199.109.133|:443... connected.\n",
      "HTTP request sent, awaiting response... 200 OK\n",
      "Length: 13966 (14K) [text/plain]\n",
      "Saving to: ‘configs/citrinet_512.yaml’\n",
      "\n",
      "citrinet_512.yaml   100%[===================>]  13,64K  --.-KB/s    in 0,002s  \n",
      "\n",
      "2021-10-26 13:27:13 (6,87 MB/s) - ‘configs/citrinet_512.yaml’ saved [13966/13966]\n",
      "\n"
     ]
    },
    {
     "data": {
      "text/plain": [
       "'\\nRemember to restart the runtime for the kernel to pick up any upgraded packages (e.g. matplotlib)!\\nAlternatively, you can uncomment the exit() below to crash and restart the kernel, in the case\\nthat you want to use the \"Run All Cells\" (or similar) option.\\n'"
      ]
     },
     "execution_count": 45,
     "metadata": {},
     "output_type": "execute_result"
    }
   ],
   "source": [
    "\"\"\"\n",
    "You can run either this notebook locally (if you have all the dependencies and a GPU) or on Google Colab.\n",
    "\n",
    "Instructions for setting up Colab are as follows:\n",
    "1. Open a new Python 3 notebook.\n",
    "2. Import this notebook from GitHub (File -> Upload Notebook -> \"GITHUB\" tab -> copy/paste GitHub URL)\n",
    "3. Connect to an instance with a GPU (Runtime -> Change runtime type -> select \"GPU\" for hardware accelerator)\n",
    "4. Run this cell to set up dependencies.\n",
    "5. Restart the runtime (Runtime -> Restart Runtime) for any upgraded packages to take effect\n",
    "\"\"\"\n",
    "\n",
    "# Install dependencies\n",
    "!pip install wget\n",
    "!apt-get install sox libsndfile1 ffmpeg\n",
    "!pip install unidecode\n",
    "!pip install matplotlib>=3.3.2\n",
    "\n",
    "## Install NeMo\n",
    "BRANCH = 'main'\n",
    "!python -m pip install git+https://github.com/NVIDIA/NeMo.git@$BRANCH#egg=nemo_toolkit[all]\n",
    "\n",
    "## Grab the config we'll use in this example\n",
    "!mkdir configs\n",
    "!wget -P configs/ https://raw.githubusercontent.com/NVIDIA/NeMo/$BRANCH/examples/asr/conf/citrinet/config_bpe.yaml\n",
    "!wget -P configs/ https://raw.githubusercontent.com/NVIDIA/NeMo/$BRANCH/examples/asr/conf/citrinet/citrinet_512.yaml\n",
    "\n",
    "    \n",
    "    \n",
    "\"\"\"\n",
    "Remember to restart the runtime for the kernel to pick up any upgraded packages (e.g. matplotlib)!\n",
    "Alternatively, you can uncomment the exit() below to crash and restart the kernel, in the case\n",
    "that you want to use the \"Run All Cells\" (or similar) option.\n",
    "\"\"\"\n",
    "# exit()"
   ]
  },
  {
   "cell_type": "markdown",
   "metadata": {
    "id": "jW8pMLX4EKb0"
   },
   "source": [
    "# Automatic Speech Recognition with Subword Tokenization\n",
    "\n",
    "In the [ASR with NeMo notebook](https://colab.research.google.com/github/NVIDIA/NeMo/blob/stable/tutorials/asr/ASR_with_NeMo.ipynb), we discuss the pipeline necessary for Automatic Speech Recognition (ASR), and then use the NeMo toolkit to construct a functioning speech recognition model.\n",
    "\n",
    "In this notebook, we take a step further and look into subword tokenization as a useful encoding scheme for ASR models, and why they are necessary. We then construct a custom tokenizer from the dataset, and use it to construct and train an ASR model on the  [AN4 dataset from CMU](http://www.speech.cs.cmu.edu/databases/an4/) (with processing using `sox`)."
   ]
  },
  {
   "cell_type": "markdown",
   "metadata": {
    "id": "w2pDg6jJLLVM"
   },
   "source": [
    "## Subword Tokenization\n",
    "\n",
    "We begin with a short intro to what exactly is subword tokenization. If you are familiar with some Natural Language Processing terminologies, then you might have heard of the term \"<i>subword</i>\" frequently.\n",
    "\n",
    "So what is a subword in the first place? Simply put, it is either a single character or a group of characters. When combined according to a tokenization-detokenization algorithm, it generates a set of characters, words, or entire sentences. \n",
    "\n",
    "Many subword tokenization-detokenization algorithms exist, which can be built using large corpora of text data to tokenize and detokenize the data to and from subwords effectively. Some of the most commonly used subword tokenization methods are [Byte Pair Encoding](https://arxiv.org/abs/1508.07909), [Word Piece Encoding](https://static.googleusercontent.com/media/research.google.com/ja//pubs/archive/37842.pdf) and [Sentence Piece Encoding](https://www.aclweb.org/anthology/D18-2012/), to name just a few.\n",
    "\n",
    "------\n",
    "\n",
    "Here, we will show a short demo on why subword tokenization is necessary for Automatic Speech Recognition under certain situations and its benefits to the model in terms of efficiency and accuracy."
   ]
  },
  {
   "cell_type": "markdown",
   "metadata": {
    "id": "AkWcsSG2Po7Z"
   },
   "source": [
    "We will implement the general steps that a subword tokenization algorithm might perform. Note - this is just a simplified demonstration of the underlying technique."
   ]
  },
  {
   "cell_type": "code",
   "execution_count": 1,
   "metadata": {
    "id": "M_MQ7NLlBbup"
   },
   "outputs": [],
   "source": [
    "TEXT_CORPUS = [\n",
    "  \"hello world\",\n",
    "  \"today is a good day\",\n",
    "]"
   ]
  },
  {
   "cell_type": "markdown",
   "metadata": {
    "id": "I8yowgMlQO4E"
   },
   "source": [
    "We first start with a simple character tokenizer"
   ]
  },
  {
   "cell_type": "code",
   "execution_count": 2,
   "metadata": {
    "id": "3tusMof9QMs7"
   },
   "outputs": [],
   "source": [
    "def char_tokenize(text):\n",
    "  tokens = []\n",
    "  for char in text:\n",
    "    tokens.append(ord(char))\n",
    "  return tokens\n",
    "\n",
    "def char_detokenize(tokens):\n",
    "  tokens = [chr(t) for t in tokens]\n",
    "  text = \"\".join(tokens)\n",
    "  return text"
   ]
  },
  {
   "cell_type": "markdown",
   "metadata": {
    "id": "lKgkvA2iQsbX"
   },
   "source": [
    "Now make sure that character tokenizer is doing its job correctly !"
   ]
  },
  {
   "cell_type": "code",
   "execution_count": 3,
   "metadata": {
    "id": "2stpuRsNQpMJ"
   },
   "outputs": [
    {
     "name": "stdout",
     "output_type": "stream",
     "text": [
      "Tokenized tokens : [104, 101, 108, 108, 111, 32, 119, 111, 114, 108, 100]\n",
      "Detokenized text : hello world\n"
     ]
    }
   ],
   "source": [
    "char_tokens = char_tokenize(TEXT_CORPUS[0])\n",
    "print(\"Tokenized tokens :\", char_tokens)\n",
    "text = char_detokenize(char_tokens)\n",
    "print(\"Detokenized text :\", text)"
   ]
  },
  {
   "cell_type": "markdown",
   "metadata": {
    "id": "gY6G6Ow1RSf4"
   },
   "source": [
    "-----\n",
    "Great! The character tokenizer did its job correctly - each character is separated as an individual token, and they can be reconstructed into precisely the original text!\n",
    "\n",
    "Now let's create a simple dictionary-based tokenizer - it will have a select set of subwords that it will use to map tokens back and forth. Note - to simplify the technique's demonstration; we will use a vocabulary with entire words. However, note that this is an uncommon occurrence unless the vocabulary sizes are huge when built on natural text."
   ]
  },
  {
   "cell_type": "code",
   "execution_count": 4,
   "metadata": {
    "id": "Mhn2MxODRNTv"
   },
   "outputs": [],
   "source": [
    "def dict_tokenize(text, vocabulary):\n",
    "  tokens = []\n",
    "\n",
    "  # first do full word searches\n",
    "  split_text = text.split()\n",
    "  for split in split_text:\n",
    "    if split in vocabulary:\n",
    "      tokens.append(vocabulary[split])\n",
    "    else:\n",
    "      chars = list(split)\n",
    "      t_chars = [vocabulary[c] for c in chars]\n",
    "      tokens.extend(t_chars)\n",
    "    tokens.append(vocabulary[\" \"])\n",
    "\n",
    "  # remove extra space token\n",
    "  tokens.pop(-1)\n",
    "  return tokens\n",
    "\n",
    "def dict_detokenize(tokens, vocabulary):\n",
    "  text = \"\"\n",
    "  reverse_vocab = {v: k for k, v in vocabulary.items()}\n",
    "  for token in tokens:\n",
    "    if token in reverse_vocab:\n",
    "      text = text + reverse_vocab[token]\n",
    "    else:\n",
    "      text = text + \"\".join(token)\n",
    "  return text"
   ]
  },
  {
   "cell_type": "markdown",
   "metadata": {
    "id": "STIeESPQUj0h"
   },
   "source": [
    "First, we need to build a vocabulary for this tokenizer. It will contain all the lower case English characters, space, and a few whole words for simplicity."
   ]
  },
  {
   "cell_type": "code",
   "execution_count": 5,
   "metadata": {
    "id": "rone69s8Ui3q"
   },
   "outputs": [
    {
     "name": "stdout",
     "output_type": "stream",
     "text": [
      "{'a': 1, 'b': 2, 'c': 3, 'd': 4, 'e': 5, 'f': 6, 'g': 7, 'h': 8, 'i': 9, 'j': 10, 'k': 11, 'l': 12, 'm': 13, 'n': 14, 'o': 15, 'p': 16, 'q': 17, 'r': 18, 's': 19, 't': 20, 'u': 21, 'v': 22, 'w': 23, 'x': 24, 'y': 25, 'z': 26, ' ': 0, 'hello': 28, 'today': 29, 'good': 30}\n"
     ]
    }
   ],
   "source": [
    "vocabulary = {chr(i + ord(\"a\")) : (i + 1) for i in range(26)}\n",
    "# add whole words and special tokens\n",
    "vocabulary[\" \"] = 0\n",
    "vocabulary[\"hello\"] = len(vocabulary) + 1\n",
    "vocabulary[\"today\"] = len(vocabulary) + 1\n",
    "vocabulary[\"good\"] = len(vocabulary) + 1\n",
    "print(vocabulary)"
   ]
  },
  {
   "cell_type": "code",
   "execution_count": 6,
   "metadata": {
    "id": "sGLGaLtXUgrN"
   },
   "outputs": [
    {
     "name": "stdout",
     "output_type": "stream",
     "text": [
      "Tokenized tokens : [28, 0, 23, 15, 18, 12, 4]\n",
      "Detokenized text : hello world\n"
     ]
    }
   ],
   "source": [
    "dict_tokens = dict_tokenize(TEXT_CORPUS[0], vocabulary)\n",
    "print(\"Tokenized tokens :\", dict_tokens)\n",
    "text = dict_detokenize(dict_tokens, vocabulary)\n",
    "print(\"Detokenized text :\", text)"
   ]
  },
  {
   "cell_type": "markdown",
   "metadata": {
    "id": "rUETSbM-XYUl"
   },
   "source": [
    "------\n",
    "Great! Our dictionary tokenizer works well and tokenizes-detokenizes the data correctly.\n",
    "\n",
    "You might be wondering - why did we have to go through all this trouble to tokenize and detokenize data if we get back the same thing?\n",
    "\n",
    "For ASR - the hidden benefit lies in the length of the tokenized representation!"
   ]
  },
  {
   "cell_type": "code",
   "execution_count": 7,
   "metadata": {
    "id": "eZFGuLqUVhLW"
   },
   "outputs": [
    {
     "name": "stdout",
     "output_type": "stream",
     "text": [
      "Character tokenization length - 11\n",
      "Dict tokenization length - 7\n"
     ]
    }
   ],
   "source": [
    "print(\"Character tokenization length -\", len(char_tokens))\n",
    "print(\"Dict tokenization length -\", len(dict_tokens))"
   ]
  },
  {
   "cell_type": "markdown",
   "metadata": {
    "id": "vw6jJD8eYJpK"
   },
   "source": [
    "By having the whole word \"hello\" in our tokenizer's dictionary, we could reduce the length of the tokenized data by four tokens and still represent the same information!\n",
    "\n",
    "Actual subword algorithms like the ones discussed above go several steps further - they partition whole words based on occurrence in text and build tokens for them too! So instead of wasting 5 tokens for `[\"h\", \"e\", \"l\", \"l\", \"o\"]`, we can represent it as `[\"hel##\", \"##lo\"]` and then merge the `##` tokens together to get back `hello` by using just 2 tokens !"
   ]
  },
  {
   "cell_type": "markdown",
   "metadata": {
    "id": "hcCbVA3GY-TZ"
   },
   "source": [
    "## The necessity of subword tokenization\n",
    "\n",
    "It has been found via extensive research in the domain of Neural Machine Translation and Language Modelling (and its variants), that subword tokenization not only reduces the length of the tokenized representation (thereby making sentences shorter and more manageable for models to learn), but also boosts the accuracy of prediction of correct tokens (refer to the earlier cited papers).\n",
    "\n",
    "You might remember that earlier; we mentioned subword tokenization as a <i>necessity</i> rather than just a nice-to-have component for ASR. In the previous tutorial, we used the [Connectionist Temporal Classification](https://www.cs.toronto.edu/~graves/icml_2006.pdf) loss function to train the model, but this loss function has a few limitations- \n",
    "\n",
    " - **Generated tokens are conditionally independent of each other**. In other words - the probability of character \"l\" being predicted after \"hel##\" is conditionally independent of the previous token - so any other token can also be predicted unless the model has future information!\n",
    " - **The length of the generated (target) sequence must be shorter than that of the source sequence.** \n",
    "\n",
    "------\n",
    "\n",
    "It turns out - subword tokenization helps alleviate both of these issues!\n",
    "\n",
    " - Sophisticated subword tokenization algorithms build their vocabularies based on large text corpora. To accurately tokenize such large volumes of text with minimal vocabulary size, the subwords that are learned inherently model the interdependency between tokens of that language to some degree. \n",
    " \n",
    "Looking at the previous example, the token `hel##` is a single token that represents the relationship `h` => `e` => `l`. When the model predicts the singe token `hel##`, it implicitly predicts this relationship - even though the subsequent token can be either `l` (for `hell`) or `##lo` (for `hello`) and is predicted independently of the previous token!\n",
    "\n",
    " - By reducing the target sentence length by subword tokenization (target sentence here being the characters/subwords transcribed from the audio signal), we entirely sidestep the sequence length limitation of CTC loss!\n",
    "\n",
    "This means we can perform a larger number of pooling steps in our acoustic models, thereby improving execution speed while simultaneously reducing memory requirements."
   ]
  },
  {
   "cell_type": "markdown",
   "metadata": {
    "id": "KAFSGJRAeTe6"
   },
   "source": [
    "# Building a custom subword tokenizer\n",
    "\n",
    "After all that talk about subword tokenization, let's finally build a custom tokenizer for our ASR model! While the `AN4` dataset is simple enough to be trained using character-based models, its small size is also perfect for a demonstration on a notebook."
   ]
  },
  {
   "cell_type": "markdown",
   "metadata": {
    "id": "Ire6cSmEe2GU"
   },
   "source": [
    "## Preparing the dataset (AN4)\n",
    "\n",
    "The AN4 dataset, also known as the Alphanumeric dataset, was collected and published by Carnegie Mellon University. It consists of recordings of people spelling out addresses, names, telephone numbers, etc., one letter or number at a time, and their corresponding transcripts. We choose to use AN4 for this tutorial because it is relatively small, with 948 training and 130 test utterances, and so it trains quickly.\n",
    "\n",
    "Before we get started, let's download and prepare the dataset. The utterances are available as `.sph` files, so we will need to convert them to `.wav` for later processing. If you are not using Google Colab, please make sure you have [Sox](http://sox.sourceforge.net/) installed for this step--see the \"Downloads\" section of the linked Sox homepage. (If you are using Google Colab, Sox should have already been installed in the setup cell at the beginning.)"
   ]
  },
  {
   "cell_type": "code",
   "execution_count": 8,
   "metadata": {
    "id": "dLB_KedzYHCw"
   },
   "outputs": [],
   "source": [
    "# This is where the an4/ directory will be placed.\n",
    "# Change this if you don't want the data to be extracted in the current directory.\n",
    "# The directory should exist.\n",
    "data_dir = \".\"\n",
    "datasets_dir = \"../../datasets\""
   ]
  },
  {
   "cell_type": "code",
   "execution_count": 9,
   "metadata": {
    "id": "AsHdRslhe-7W"
   },
   "outputs": [
    {
     "name": "stdout",
     "output_type": "stream",
     "text": [
      "******\n",
      "Tarfile already exists.\n",
      "Finished conversion.\n",
      "******\n"
     ]
    }
   ],
   "source": [
    "import glob\n",
    "import os\n",
    "import subprocess\n",
    "import tarfile\n",
    "import wget\n",
    "\n",
    "# Download the dataset. This will take a few moments...\n",
    "print(\"******\")\n",
    "if not os.path.exists(datasets_dir + '/an4'):\n",
    "    an4_url = 'http://www.speech.cs.cmu.edu/databases/an4/an4_sphere.tar.gz'\n",
    "    an4_path = wget.download(an4_url, datasets_dir)\n",
    "    print(f\"Dataset downloaded at: {an4_path}\")\n",
    "else:\n",
    "    print(\"Tarfile already exists.\")\n",
    "    an4_path = datasets_dir + '/an4_sphere.tar.gz'\n",
    "\n",
    "if not os.path.exists(datasets_dir + '/an4/'):\n",
    "    # Untar and convert .sph to .wav (using sox)\n",
    "    tar = tarfile.open(an4_path)\n",
    "    tar.extractall(path=datasets_dir)\n",
    "\n",
    "    print(\"Converting .sph to .wav...\")\n",
    "    sph_list = glob.glob(datasets_dir + '/an4/**/*.sph', recursive=True)\n",
    "    for sph_path in sph_list:\n",
    "        wav_path = sph_path[:-4] + '.wav'\n",
    "        cmd = [\"sox\", sph_path, wav_path]\n",
    "        subprocess.run(cmd)\n",
    "print(\"Finished conversion.\\n******\")"
   ]
  },
  {
   "cell_type": "markdown",
   "metadata": {
    "id": "6kOuy-OWfUWn"
   },
   "source": [
    "You should now have a folder called `an4` that contains `etc/an4_train.transcription`, `etc/an4_test.transcription`, audio files in `wav/an4_clstk` and `wav/an4test_clstk`, along with some other files we will not need.\n"
   ]
  },
  {
   "cell_type": "markdown",
   "metadata": {
    "id": "S2S--I3kftF0"
   },
   "source": [
    "## Creating Data Manifests\n",
    "\n",
    "The first thing we need to do now is to create manifests for our training and evaluation data, which will contain the metadata of our audio files. NeMo data sets take in a standardized manifest format where each line corresponds to one sample of audio, such that the number of lines in a manifest is equal to the number of samples that are represented by that manifest. A line must contain the path to an audio file, the corresponding transcript (or path to a transcript file), and the duration of the audio sample.\n",
    "\n",
    "Here's an example of what one line in a NeMo-compatible manifest might look like:\n",
    "```\n",
    "{\"audio_filepath\": \"path/to/audio.wav\", \"duration\": 3.45, \"text\": \"this is a nemo tutorial\"}\n",
    "```\n",
    "\n",
    "We can build our training and evaluation manifests using `an4/etc/an4_train.transcription` and `an4/etc/an4_test.transcription`, which have lines containing transcripts and their corresponding audio file IDs:\n",
    "```\n",
    "...\n",
    "<s> P I T T S B U R G H </s> (cen5-fash-b)\n",
    "<s> TWO SIX EIGHT FOUR FOUR ONE EIGHT </s> (cen7-fash-b)\n",
    "...\n",
    "```"
   ]
  },
  {
   "cell_type": "code",
   "execution_count": 50,
   "metadata": {
    "id": "sFyGsk80fRp7"
   },
   "outputs": [
    {
     "name": "stdout",
     "output_type": "stream",
     "text": [
      "******\n",
      "Manifests created.\n"
     ]
    }
   ],
   "source": [
    "import pandas as pd\n",
    "from sklearn.model_selection import train_test_split\n",
    "# --- Building Manifest Files For LJSpeech --- #\n",
    "\n",
    "\n",
    "# Function to build a manifest\n",
    "def build_manifest(transcripts_path, manifest_path, wav_path, test_size=0.2, random_state=42):\n",
    "    with open(transcripts_path, 'r') as fin:\n",
    "        metadata = pd.read_csv(fin, sep='|', names=['file_name', 'transcript', 'normalized'])\n",
    "        metadata_train, metadata_test = train_test_split(metadata, test_size=test_size, random_state=random_state)\n",
    "        for m, m_path in [(metadata_train, 'train_manifest.json'), (metadata_test, 'test_manifest.json')]:\n",
    "            with open(manifest_path + m_path, 'w') as fout:\n",
    "                for row in m.iterrows():\n",
    "                    file_id = row[1]['file_name']  # e.g. \"cen4-fash-b\"\n",
    "                    audio_path = os.path.join(\n",
    "                        manifest_path, wav_path, file_id + '.wav')\n",
    "\n",
    "                    duration = librosa.core.get_duration(filename=audio_path)\n",
    "\n",
    "                    transcript = row[1]['transcript']\n",
    "\n",
    "                    # Write the metadata to the manifest\n",
    "                    metadata = {\n",
    "                        \"audio_filepath\": audio_path,\n",
    "                        \"duration\": duration,\n",
    "                        \"text\": transcript\n",
    "                    }\n",
    "                    json.dump(metadata, fout)\n",
    "                    fout.write('\\n')\n",
    "                \n",
    "# Building Manifests\n",
    "print(\"******\")\n",
    "train_transcripts = datasets_dir + '/LJSpeech-1.1/metadata.csv'\n",
    "manifest = datasets_dir + '/LJSpeech-1.1/'\n",
    "train_manifest = manifest + 'train_manifest.json'\n",
    "test_manifest = manifest + 'train_manifest.json'\n",
    "build_manifest(train_transcripts, manifest, 'wavs')\n",
    "print(\"Manifests created.\")"
   ]
  },
  {
   "cell_type": "code",
   "execution_count": 111,
   "metadata": {},
   "outputs": [
    {
     "data": {
      "text/plain": [
       "'../../datasets/LJSpeech-1.1/train_manifest.json'"
      ]
     },
     "execution_count": 111,
     "metadata": {},
     "output_type": "execute_result"
    }
   ],
   "source": [
    "train_manifest"
   ]
  },
  {
   "cell_type": "markdown",
   "metadata": {
    "id": "gCRjbu5igERH"
   },
   "source": [
    "Let's look at a few files from this manifest - "
   ]
  },
  {
   "cell_type": "code",
   "execution_count": 51,
   "metadata": {
    "id": "PSv_wZTQf50U"
   },
   "outputs": [
    {
     "name": "stdout",
     "output_type": "stream",
     "text": [
      "{\"audio_filepath\": \"../../datasets/an4/wav/an4_clstk/fash/an251-fash-b.wav\", \"duration\": 1.0, \"text\": \"yes\"}\r\n",
      "{\"audio_filepath\": \"../../datasets/an4/wav/an4_clstk/fash/an253-fash-b.wav\", \"duration\": 0.7, \"text\": \"go\"}\r\n",
      "{\"audio_filepath\": \"../../datasets/an4/wav/an4_clstk/fash/an254-fash-b.wav\", \"duration\": 0.9, \"text\": \"yes\"}\r\n",
      "{\"audio_filepath\": \"../../datasets/an4/wav/an4_clstk/fash/an255-fash-b.wav\", \"duration\": 2.6, \"text\": \"u m n y h six\"}\r\n",
      "{\"audio_filepath\": \"../../datasets/an4/wav/an4_clstk/fash/cen1-fash-b.wav\", \"duration\": 3.5, \"text\": \"h i n i c h\"}\r\n"
     ]
    }
   ],
   "source": [
    "!head -n 5 {datasets_dir}/an4/train_manifest.json"
   ]
  },
  {
   "cell_type": "markdown",
   "metadata": {
    "id": "3S80tsTHhDmU"
   },
   "source": [
    "## Build a custom tokenizer\n",
    "\n",
    "Next, we will use a NeMo script to easily build a tokenizer for the above dataset. The script takes a few arguments, which will be explained in detail.\n",
    "\n",
    "First, download the tokenizer creation script from the nemo repository."
   ]
  },
  {
   "cell_type": "code",
   "execution_count": 52,
   "metadata": {
    "id": "ESHI2piTgJRO"
   },
   "outputs": [],
   "source": [
    "if not os.path.exists(\"scripts/tokenizers/process_asr_text_tokenizer.py\"):\n",
    "  !mkdir scripts\n",
    "  !wget -P scripts/ https://raw.githubusercontent.com/NVIDIA/NeMo/$BRANCH/scripts/tokenizers/process_asr_text_tokenizer.py"
   ]
  },
  {
   "cell_type": "markdown",
   "metadata": {
    "id": "BkcpeYp1iIsU"
   },
   "source": [
    "The script above takes a few important arguments -\n",
    "\n",
    " - either `--manifest` or `--data_file`: If your text data lies inside of an ASR manifest file, then use the `--manifest` path. If instead the text data is inside a file with separate lines corresponding to different text lines, then use `--data_file`. In either case, you can add commas to concatenate different manifests or different data files.\n",
    "\n",
    " - `--data_root`: The output directory (whose subdirectories will be created if not present) where the tokenizers will be placed.\n",
    "\n",
    " - `--vocab_size`: The size of the tokenizer vocabulary. Larger vocabularies can accommodate almost entire words, but the decoder size of any model will grow proportionally.\n",
    "\n",
    " - `--tokenizer`: Can be either `spe` or  `wpe` . `spe` refers to the Google `sentencepiece` library tokenizer. `wpe` refers to the HuggingFace BERT Word Piece tokenizer. Please refer to the papers above for the relevant technique in order to select an appropriate tokenizer.\n",
    "\n",
    " - `--no_lower_case`: When this flag is passed, it will force the tokenizer to create separate tokens for upper and lower case characters. By default, the script will turn all the text to lower case before tokenization (and if upper case characters are passed during training/inference, the tokenizer will emit a token equivalent to Out-Of-Vocabulary). Used primarily for the English language. \n",
    "\n",
    " - `--spe_type`: The `sentencepiece` library has a few implementations of the tokenization technique, and `spe_type` refers to these implementations. Currently supported types are `unigram`, `bpe`, `char`, `word`. Defaults to `bpe`.\n",
    "\n",
    " - `--spe_character_coverage`: The `sentencepiece` library considers how much of the original vocabulary it should cover in its \"base set\" of tokens (akin to the lower and upper case characters of the English language). For almost all languages with small base token sets `(<1000 tokens)`, this should be kept at its default of 1.0. For languages with larger vocabularies (say Japanese, Mandarin, Korean etc), the suggested value is 0.9995.\n",
    "\n",
    " - `--spe_sample_size`: If the dataset is too large, consider using a sampled dataset indicated by a positive integer. By default, any negative value (default = -1) will use the entire dataset.\n",
    "\n",
    " - `--spe_train_extremely_large_corpus`: When training a sentencepiece tokenizer on very large amounts of text, sometimes the tokenizer will run out of memory or wont be able to process so much data on RAM. At some point you might receive the following error - \"Input corpus too large, try with train_extremely_large_corpus=true\". If your machine has large amounts of RAM, it might still be possible to build the tokenizer using the above flag. Will silently fail if it runs out of RAM.\n",
    "\n",
    " - `--log`: Whether the script should display log messages"
   ]
  },
  {
   "cell_type": "code",
   "execution_count": 54,
   "metadata": {
    "id": "mAw4WMqbh6ii",
    "scrolled": true
   },
   "outputs": [
    {
     "name": "stdout",
     "output_type": "stream",
     "text": [
      "[NeMo W 2021-10-26 14:24:11 optimizers:47] Apex was not found. Using the lamb optimizer will error out.\n",
      "INFO:root:Finished extracting manifest : ../../datasets/LJSpeech-1.1/train_manifest.json\n",
      "INFO:root:Finished extracting all manifests ! Number of sentences : 10480\n",
      "[NeMo I 2021-10-26 14:24:11 sentencepiece_tokenizer:283] Processing ../../datasets/tokenizers/LJSpeech-1.1/text_corpus/document.txt and store at ../../datasets/tokenizers/LJSpeech-1.1/tokenizer_spe_unigram_v1024\n",
      "sentencepiece_trainer.cc(177) LOG(INFO) Running command: --input=../../datasets/tokenizers/LJSpeech-1.1/text_corpus/document.txt --model_prefix=../../datasets/tokenizers/LJSpeech-1.1/tokenizer_spe_unigram_v1024/tokenizer --vocab_size=1024 --shuffle_input_sentence=true --hard_vocab_limit=false --model_type=unigram --character_coverage=1.0 --bos_id=-1 --eos_id=-1\n",
      "sentencepiece_trainer.cc(77) LOG(INFO) Starts training with : \n",
      "trainer_spec {\n",
      "  input: ../../datasets/tokenizers/LJSpeech-1.1/text_corpus/document.txt\n",
      "  input_format: \n",
      "  model_prefix: ../../datasets/tokenizers/LJSpeech-1.1/tokenizer_spe_unigram_v1024/tokenizer\n",
      "  model_type: UNIGRAM\n",
      "  vocab_size: 1024\n",
      "  self_test_sample_size: 0\n",
      "  character_coverage: 1\n",
      "  input_sentence_size: 0\n",
      "  shuffle_input_sentence: 1\n",
      "  seed_sentencepiece_size: 1000000\n",
      "  shrinking_factor: 0.75\n",
      "  max_sentence_length: 4192\n",
      "  num_threads: 16\n",
      "  num_sub_iterations: 2\n",
      "  max_sentencepiece_length: 16\n",
      "  split_by_unicode_script: 1\n",
      "  split_by_number: 1\n",
      "  split_by_whitespace: 1\n",
      "  split_digits: 0\n",
      "  treat_whitespace_as_suffix: 0\n",
      "  allow_whitespace_only_pieces: 0\n",
      "  required_chars: \n",
      "  byte_fallback: 0\n",
      "  vocabulary_output_piece_score: 1\n",
      "  train_extremely_large_corpus: 0\n",
      "  hard_vocab_limit: 0\n",
      "  use_all_vocab: 0\n",
      "  unk_id: 0\n",
      "  bos_id: -1\n",
      "  eos_id: -1\n",
      "  pad_id: -1\n",
      "  unk_piece: <unk>\n",
      "  bos_piece: <s>\n",
      "  eos_piece: </s>\n",
      "  pad_piece: <pad>\n",
      "  unk_surface:  ⁇ \n",
      "}\n",
      "normalizer_spec {\n",
      "  name: nmt_nfkc\n",
      "  add_dummy_prefix: 1\n",
      "  remove_extra_whitespaces: 1\n",
      "  escape_whitespaces: 1\n",
      "  normalization_rule_tsv: \n",
      "}\n",
      "denormalizer_spec {}\n",
      "trainer_interface.cc(329) LOG(INFO) SentenceIterator is not specified. Using MultiFileSentenceIterator.\n",
      "trainer_interface.cc(178) LOG(INFO) Loading corpus: ../../datasets/tokenizers/LJSpeech-1.1/text_corpus/document.txt\n",
      "trainer_interface.cc(385) LOG(INFO) Loaded all 10480 sentences\n",
      "trainer_interface.cc(400) LOG(INFO) Adding meta_piece: <unk>\n",
      "trainer_interface.cc(405) LOG(INFO) Normalizing sentences...\n",
      "trainer_interface.cc(466) LOG(INFO) all chars count=1040420\n",
      "trainer_interface.cc(487) LOG(INFO) Alphabet size=88\n",
      "trainer_interface.cc(488) LOG(INFO) Final character coverage=1\n",
      "trainer_interface.cc(520) LOG(INFO) Done! preprocessed 10480 sentences.\n",
      "unigram_model_trainer.cc(139) LOG(INFO) Making suffix array...\n",
      "unigram_model_trainer.cc(143) LOG(INFO) Extracting frequent sub strings...\n",
      "unigram_model_trainer.cc(194) LOG(INFO) Initialized 41341 seed sentencepieces\n",
      "trainer_interface.cc(526) LOG(INFO) Tokenizing input sentences with whitespace: 10480\n",
      "trainer_interface.cc(537) LOG(INFO) Done! 22060\n",
      "unigram_model_trainer.cc(489) LOG(INFO) Using 22060 sentences for EM training\n",
      "unigram_model_trainer.cc(505) LOG(INFO) EM sub_iter=0 size=13815 obj=10.6137 num_tokens=42497 num_tokens/piece=3.07615\n",
      "unigram_model_trainer.cc(505) LOG(INFO) EM sub_iter=1 size=11860 obj=8.43749 num_tokens=42746 num_tokens/piece=3.60422\n",
      "unigram_model_trainer.cc(505) LOG(INFO) EM sub_iter=0 size=8894 obj=8.47327 num_tokens=46126 num_tokens/piece=5.18619\n",
      "unigram_model_trainer.cc(505) LOG(INFO) EM sub_iter=1 size=8891 obj=8.43335 num_tokens=46127 num_tokens/piece=5.18806\n",
      "unigram_model_trainer.cc(505) LOG(INFO) EM sub_iter=0 size=6667 obj=8.67026 num_tokens=51622 num_tokens/piece=7.74291\n",
      "unigram_model_trainer.cc(505) LOG(INFO) EM sub_iter=1 size=6665 obj=8.61327 num_tokens=51626 num_tokens/piece=7.74584\n",
      "unigram_model_trainer.cc(505) LOG(INFO) EM sub_iter=0 size=4998 obj=8.94395 num_tokens=58239 num_tokens/piece=11.6525\n",
      "unigram_model_trainer.cc(505) LOG(INFO) EM sub_iter=1 size=4998 obj=8.87678 num_tokens=58243 num_tokens/piece=11.6533\n",
      "unigram_model_trainer.cc(505) LOG(INFO) EM sub_iter=0 size=3748 obj=9.26883 num_tokens=65286 num_tokens/piece=17.4189\n",
      "unigram_model_trainer.cc(505) LOG(INFO) EM sub_iter=1 size=3748 obj=9.19815 num_tokens=65291 num_tokens/piece=17.4202\n",
      "unigram_model_trainer.cc(505) LOG(INFO) EM sub_iter=0 size=2811 obj=9.64308 num_tokens=71940 num_tokens/piece=25.5923\n",
      "unigram_model_trainer.cc(505) LOG(INFO) EM sub_iter=1 size=2811 obj=9.56811 num_tokens=71944 num_tokens/piece=25.5937\n",
      "unigram_model_trainer.cc(505) LOG(INFO) EM sub_iter=0 size=2108 obj=10.0844 num_tokens=78511 num_tokens/piece=37.2443\n",
      "unigram_model_trainer.cc(505) LOG(INFO) EM sub_iter=1 size=2108 obj=9.9982 num_tokens=78522 num_tokens/piece=37.2495\n",
      "unigram_model_trainer.cc(505) LOG(INFO) EM sub_iter=0 size=1581 obj=10.558 num_tokens=84582 num_tokens/piece=53.4991\n",
      "unigram_model_trainer.cc(505) LOG(INFO) EM sub_iter=1 size=1581 obj=10.4624 num_tokens=84583 num_tokens/piece=53.4997\n",
      "unigram_model_trainer.cc(505) LOG(INFO) EM sub_iter=0 size=1185 obj=11.0871 num_tokens=90225 num_tokens/piece=76.1392\n",
      "unigram_model_trainer.cc(505) LOG(INFO) EM sub_iter=1 size=1185 obj=10.9914 num_tokens=90220 num_tokens/piece=76.135\n",
      "unigram_model_trainer.cc(505) LOG(INFO) EM sub_iter=0 size=1126 obj=11.1101 num_tokens=91273 num_tokens/piece=81.0595\n",
      "unigram_model_trainer.cc(505) LOG(INFO) EM sub_iter=1 size=1126 obj=11.0948 num_tokens=91272 num_tokens/piece=81.0586\n",
      "trainer_interface.cc(615) LOG(INFO) Saving model: ../../datasets/tokenizers/LJSpeech-1.1/tokenizer_spe_unigram_v1024/tokenizer.model\n",
      "trainer_interface.cc(626) LOG(INFO) Saving vocabs: ../../datasets/tokenizers/LJSpeech-1.1/tokenizer_spe_unigram_v1024/tokenizer.vocab\n",
      "Serialized tokenizer at location : ../../datasets/tokenizers/LJSpeech-1.1/tokenizer_spe_unigram_v1024\n",
      "INFO:root:Done!\n"
     ]
    }
   ],
   "source": [
    "!python ./scripts/tokenizers/process_asr_text_tokenizer.py \\\n",
    "  --manifest=\"{datasets_dir}/LJSpeech-1.1/train_manifest.json\" \\\n",
    "  --data_root=\"{datasets_dir}/tokenizers/LJSpeech-1.1/\" \\\n",
    "  --vocab_size=1024 \\\n",
    "  --tokenizer=\"spe\" \\\n",
    "  --no_lower_case \\\n",
    "  --spe_type=\"unigram\" \\\n",
    "  --log"
   ]
  },
  {
   "cell_type": "markdown",
   "metadata": {
    "id": "gaIFIKgol-p2"
   },
   "source": [
    "-----\n",
    "\n",
    "That's it! Our tokenizer is now built and stored inside the `data_root` directory that we provided to the script.\n",
    "\n",
    "First we start by inspecting the tokenizer vocabulary itself. To keep it manageable, we will print just the first 10 tokens of the vocabulary:"
   ]
  },
  {
   "cell_type": "code",
   "execution_count": 57,
   "metadata": {},
   "outputs": [
    {
     "name": "stdout",
     "output_type": "stream",
     "text": [
      "'=3.3.2'\t\t\t       configs\t\t   nemo_experiments\r\n",
      " ASR-LJSpeech.ipynb\t\t       DOT_RUN\t\t   scripts\r\n",
      " ASR_with_Subword_Tokenization.ipynb   finetune_model.py   tokenizers\r\n",
      " citrinet_tokenizer\t\t       first_model.nemo\r\n",
      " conf\t\t\t\t       lightning_logs\r\n"
     ]
    }
   ],
   "source": [
    "!ls"
   ]
  },
  {
   "cell_type": "code",
   "execution_count": 56,
   "metadata": {
    "id": "0A9fSpr4l58u"
   },
   "outputs": [
    {
     "name": "stdout",
     "output_type": "stream",
     "text": [
      "head: cannot open '../../datasets/tokenizers/LJSpeech-1.1/tokenizer_spe_unigram_v32/vocab.txt' for reading: No such file or directory\r\n"
     ]
    }
   ],
   "source": [
    "!head -n 10 {datasets_dir}/tokenizers/'LJSpeech-1.1'/tokenizer_spe_unigram_v32/vocab.txt"
   ]
  },
  {
   "cell_type": "markdown",
   "metadata": {
    "id": "kPuyTHGTm8Q-"
   },
   "source": [
    "# Training an ASR Model with subword tokenization\n",
    "\n",
    "Now that our tokenizer is built, let's begin constructing an ASR model that will use this tokenizer for its dataset pre-processing and post-processing steps.\n",
    "\n",
    "We will use a Citrinet model to demonstrate the usage of subword tokenization models for training and inference. Citrinet is a [QuartzNet-like architecture](https://arxiv.org/abs/1910.10261), but it uses subword-tokenization along with 8x subsampling and [Squeeze-and-Excitation](https://arxiv.org/abs/1709.01507) to achieve strong accuracy in transcriptions while still using non-autoregressive decoding for efficient inference.\n",
    "\n",
    "We'll be using the **Neural Modules (NeMo) toolkit** for this part, so if you haven't already, you should download and install NeMo and its dependencies. To do so, just follow the directions on the [GitHub page](https://github.com/NVIDIA/NeMo), or in the [documentation](https://docs.nvidia.com/deeplearning/nemo/user-guide/docs/en/stable/).\n",
    "\n",
    "NeMo let us easily hook together the components (modules) of our model, such as the data layer, intermediate layers, and various losses, without worrying too much about implementation details of individual parts or connections between modules. NeMo also comes with complete models which only require your data and hyperparameters for training."
   ]
  },
  {
   "cell_type": "code",
   "execution_count": 58,
   "metadata": {
    "id": "jALgpGLjmaCw"
   },
   "outputs": [],
   "source": [
    "# NeMo's \"core\" package\n",
    "import nemo\n",
    "# NeMo's ASR collection - this collections contains complete ASR models and\n",
    "# building blocks (modules) for ASR\n",
    "import nemo.collections.asr as nemo_asr"
   ]
  },
  {
   "cell_type": "markdown",
   "metadata": {
    "id": "msxCiR8epEZu"
   },
   "source": [
    "## Training from scratch\n",
    "\n",
    "To train from scratch, you need to prepare your training data in the right format and specify your models architecture."
   ]
  },
  {
   "cell_type": "markdown",
   "metadata": {
    "id": "PasvgSEwpWXd"
   },
   "source": [
    "### Specifying Our Model with a YAML Config File\n",
    "\n",
    "We'll build a *Citrinet* model for this tutorial and use *greedy CTC decoder*, using the configuration found in `./configs/citrinet_bpe.yaml`.\n",
    "\n",
    "If we open up this config file, we find model section which describes architecture of our model. A model contains an entry labeled `encoder`, with a field called `jasper` that contains a list with multiple entries. Each of the members in this list specifies one block in our model, and looks something like this:\n",
    "```\n",
    "- filters: 192\n",
    "  repeat: 5\n",
    "  kernel: [11]\n",
    "  stride: [1]\n",
    "  dilation: [1]\n",
    "  dropout: 0.0\n",
    "  residual: false\n",
    "  separable: true\n",
    "  se: true\n",
    "  se_context_size: -1\n",
    "```\n",
    "The first member of the list corresponds to the first block in the QuartzNet/Citrinet architecture diagram. \n",
    "\n",
    "Some entries at the top of the file specify how we will handle training (`train_ds`) and validation (`validation_ds`) data.\n",
    "\n",
    "Using a YAML config such as this helps get a quick and human-readable overview of what your architecture looks like, and allows you to swap out model and run configurations easily without needing to change your code."
   ]
  },
  {
   "cell_type": "code",
   "execution_count": 59,
   "metadata": {
    "id": "XLUDyWOmo8xZ"
   },
   "outputs": [],
   "source": [
    "from omegaconf import OmegaConf, open_dict"
   ]
  },
  {
   "cell_type": "code",
   "execution_count": 83,
   "metadata": {
    "id": "p1O8JRk1qXX9"
   },
   "outputs": [],
   "source": [
    "params = OmegaConf.load(\"./configs/citrinet_256_gamma_025.yaml\")"
   ]
  },
  {
   "cell_type": "code",
   "execution_count": 84,
   "metadata": {
    "id": "raXzemtIqjL-"
   },
   "outputs": [
    {
     "name": "stdout",
     "output_type": "stream",
     "text": [
      "sample_rate: 16000\n",
      "train_ds:\n",
      "  manifest_filepath: null\n",
      "  sample_rate: 16000\n",
      "  batch_size: 4\n",
      "  trim_silence: false\n",
      "  max_duration: 20.0\n",
      "  shuffle: true\n",
      "  is_tarred: false\n",
      "  tarred_audio_filepaths: null\n",
      "  use_start_end_token: false\n",
      "validation_ds:\n",
      "  manifest_filepath: null\n",
      "  sample_rate: 16000\n",
      "  batch_size: 4\n",
      "  shuffle: false\n",
      "  use_start_end_token: false\n",
      "test_ds:\n",
      "  manifest_filepath: null\n",
      "  sample_rate: 16000\n",
      "  batch_size: 4\n",
      "  shuffle: false\n",
      "  use_start_end_token: false\n",
      "model_defaults:\n",
      "  repeat: 5\n",
      "  dropout: 0.0\n",
      "  separable: true\n",
      "  se: true\n",
      "  se_context_size: -1\n",
      "  kernel_size_factor: 0.25\n",
      "tokenizer:\n",
      "  dir: ../../manifests/nemo/asrset_1.4/asrset_1.4.1/tokenizers/tokenizer_spe_unigram_v1024/\n",
      "  type: bpe\n",
      "preprocessor:\n",
      "  _target_: nemo.collections.asr.modules.AudioToMelSpectrogramPreprocessor\n",
      "  sample_rate: 16000\n",
      "  normalize: per_feature\n",
      "  window_size: 0.025\n",
      "  window_stride: 0.01\n",
      "  window: hann\n",
      "  features: 80\n",
      "  n_fft: 512\n",
      "  frame_splicing: 1\n",
      "  dither: 1.0e-05\n",
      "  pad_to: 16\n",
      "  stft_conv: false\n",
      "spec_augment:\n",
      "  _target_: nemo.collections.asr.modules.SpectrogramAugmentation\n",
      "  freq_masks: 2\n",
      "  time_masks: 2\n",
      "  freq_width: 27\n",
      "  time_width: 0.05\n",
      "encoder:\n",
      "  _target_: nemo.collections.asr.modules.ConvASREncoder\n",
      "  feat_in: 80\n",
      "  activation: relu\n",
      "  conv_mask: true\n",
      "  jasper:\n",
      "  - filters: 256\n",
      "    repeat: 1\n",
      "    kernel:\n",
      "    - 5\n",
      "    stride:\n",
      "    - 1\n",
      "    dilation:\n",
      "    - 1\n",
      "    dropout: 0.0\n",
      "    residual: false\n",
      "    separable: true\n",
      "    se: true\n",
      "    se_context_size: -1\n",
      "  - filters: 256\n",
      "    repeat: 5\n",
      "    kernel:\n",
      "    - 11\n",
      "    stride:\n",
      "    - 2\n",
      "    dilation:\n",
      "    - 1\n",
      "    dropout: 0.0\n",
      "    residual: true\n",
      "    separable: true\n",
      "    se: true\n",
      "    se_context_size: -1\n",
      "    stride_last: true\n",
      "    residual_mode: stride_add\n",
      "    kernel_size_factor: 0.25\n",
      "  - filters: 256\n",
      "    repeat: 5\n",
      "    kernel:\n",
      "    - 13\n",
      "    stride:\n",
      "    - 1\n",
      "    dilation:\n",
      "    - 1\n",
      "    dropout: 0.0\n",
      "    residual: true\n",
      "    separable: true\n",
      "    se: true\n",
      "    se_context_size: -1\n",
      "    kernel_size_factor: 0.25\n",
      "  - filters: 256\n",
      "    repeat: 5\n",
      "    kernel:\n",
      "    - 15\n",
      "    stride:\n",
      "    - 1\n",
      "    dilation:\n",
      "    - 1\n",
      "    dropout: 0.0\n",
      "    residual: true\n",
      "    separable: true\n",
      "    se: true\n",
      "    se_context_size: -1\n",
      "    kernel_size_factor: 0.25\n",
      "  - filters: 256\n",
      "    repeat: 5\n",
      "    kernel:\n",
      "    - 17\n",
      "    stride:\n",
      "    - 1\n",
      "    dilation:\n",
      "    - 1\n",
      "    dropout: 0.0\n",
      "    residual: true\n",
      "    separable: true\n",
      "    se: true\n",
      "    se_context_size: -1\n",
      "    kernel_size_factor: 0.25\n",
      "  - filters: 256\n",
      "    repeat: 5\n",
      "    kernel:\n",
      "    - 19\n",
      "    stride:\n",
      "    - 1\n",
      "    dilation:\n",
      "    - 1\n",
      "    dropout: 0.0\n",
      "    residual: true\n",
      "    separable: true\n",
      "    se: true\n",
      "    se_context_size: -1\n",
      "    kernel_size_factor: 0.25\n",
      "  - filters: 256\n",
      "    repeat: 5\n",
      "    kernel:\n",
      "    - 21\n",
      "    stride:\n",
      "    - 1\n",
      "    dilation:\n",
      "    - 1\n",
      "    dropout: 0.0\n",
      "    residual: true\n",
      "    separable: true\n",
      "    se: true\n",
      "    se_context_size: -1\n",
      "    kernel_size_factor: 0.25\n",
      "  - filters: 256\n",
      "    repeat: 5\n",
      "    kernel:\n",
      "    - 13\n",
      "    stride:\n",
      "    - 2\n",
      "    dilation:\n",
      "    - 1\n",
      "    dropout: 0.0\n",
      "    residual: true\n",
      "    separable: true\n",
      "    se: true\n",
      "    se_context_size: -1\n",
      "    stride_last: true\n",
      "    residual_mode: stride_add\n",
      "    kernel_size_factor: 0.25\n",
      "  - filters: 256\n",
      "    repeat: 5\n",
      "    kernel:\n",
      "    - 15\n",
      "    stride:\n",
      "    - 1\n",
      "    dilation:\n",
      "    - 1\n",
      "    dropout: 0.0\n",
      "    residual: true\n",
      "    separable: true\n",
      "    se: true\n",
      "    se_context_size: -1\n",
      "    kernel_size_factor: 0.25\n",
      "  - filters: 256\n",
      "    repeat: 5\n",
      "    kernel:\n",
      "    - 17\n",
      "    stride:\n",
      "    - 1\n",
      "    dilation:\n",
      "    - 1\n",
      "    dropout: 0.0\n",
      "    residual: true\n",
      "    separable: true\n",
      "    se: true\n",
      "    se_context_size: -1\n",
      "    kernel_size_factor: 0.25\n",
      "  - filters: 256\n",
      "    repeat: 5\n",
      "    kernel:\n",
      "    - 19\n",
      "    stride:\n",
      "    - 1\n",
      "    dilation:\n",
      "    - 1\n",
      "    dropout: 0.0\n",
      "    residual: true\n",
      "    separable: true\n",
      "    se: true\n",
      "    se_context_size: -1\n",
      "    kernel_size_factor: 0.25\n",
      "  - filters: 256\n",
      "    repeat: 5\n",
      "    kernel:\n",
      "    - 21\n",
      "    stride:\n",
      "    - 1\n",
      "    dilation:\n",
      "    - 1\n",
      "    dropout: 0.0\n",
      "    residual: true\n",
      "    separable: true\n",
      "    se: true\n",
      "    se_context_size: -1\n",
      "    kernel_size_factor: 0.25\n",
      "  - filters: 256\n",
      "    repeat: 5\n",
      "    kernel:\n",
      "    - 23\n",
      "    stride:\n",
      "    - 1\n",
      "    dilation:\n",
      "    - 1\n",
      "    dropout: 0.0\n",
      "    residual: true\n",
      "    separable: true\n",
      "    se: true\n",
      "    se_context_size: -1\n",
      "    kernel_size_factor: 0.25\n",
      "  - filters: 256\n",
      "    repeat: 5\n",
      "    kernel:\n",
      "    - 25\n",
      "    stride:\n",
      "    - 1\n",
      "    dilation:\n",
      "    - 1\n",
      "    dropout: 0.0\n",
      "    residual: true\n",
      "    separable: true\n",
      "    se: true\n",
      "    se_context_size: -1\n",
      "    kernel_size_factor: 0.25\n",
      "  - filters: 256\n",
      "    repeat: 5\n",
      "    kernel:\n",
      "    - 25\n",
      "    stride:\n",
      "    - 2\n",
      "    dilation:\n",
      "    - 1\n",
      "    dropout: 0.0\n",
      "    residual: true\n",
      "    separable: true\n",
      "    se: true\n",
      "    se_context_size: -1\n",
      "    stride_last: true\n",
      "    residual_mode: stride_add\n",
      "    kernel_size_factor: 0.25\n",
      "  - filters: 256\n",
      "    repeat: 5\n",
      "    kernel:\n",
      "    - 27\n",
      "    stride:\n",
      "    - 1\n",
      "    dilation:\n",
      "    - 1\n",
      "    dropout: 0.0\n",
      "    residual: true\n",
      "    separable: true\n",
      "    se: true\n",
      "    se_context_size: -1\n",
      "    kernel_size_factor: 0.25\n",
      "  - filters: 256\n",
      "    repeat: 5\n",
      "    kernel:\n",
      "    - 29\n",
      "    stride:\n",
      "    - 1\n",
      "    dilation:\n",
      "    - 1\n",
      "    dropout: 0.0\n",
      "    residual: true\n",
      "    separable: true\n",
      "    se: true\n",
      "    se_context_size: -1\n",
      "    kernel_size_factor: 0.25\n",
      "  - filters: 256\n",
      "    repeat: 5\n",
      "    kernel:\n",
      "    - 31\n",
      "    stride:\n",
      "    - 1\n",
      "    dilation:\n",
      "    - 1\n",
      "    dropout: 0.0\n",
      "    residual: true\n",
      "    separable: true\n",
      "    se: true\n",
      "    se_context_size: -1\n",
      "    kernel_size_factor: 0.25\n",
      "  - filters: 256\n",
      "    repeat: 5\n",
      "    kernel:\n",
      "    - 33\n",
      "    stride:\n",
      "    - 1\n",
      "    dilation:\n",
      "    - 1\n",
      "    dropout: 0.0\n",
      "    residual: true\n",
      "    separable: true\n",
      "    se: true\n",
      "    se_context_size: -1\n",
      "    kernel_size_factor: 0.25\n",
      "  - filters: 256\n",
      "    repeat: 5\n",
      "    kernel:\n",
      "    - 35\n",
      "    stride:\n",
      "    - 1\n",
      "    dilation:\n",
      "    - 1\n",
      "    dropout: 0.0\n",
      "    residual: true\n",
      "    separable: true\n",
      "    se: true\n",
      "    se_context_size: -1\n",
      "    kernel_size_factor: 0.25\n",
      "  - filters: 256\n",
      "    repeat: 5\n",
      "    kernel:\n",
      "    - 37\n",
      "    stride:\n",
      "    - 1\n",
      "    dilation:\n",
      "    - 1\n",
      "    dropout: 0.0\n",
      "    residual: true\n",
      "    separable: true\n",
      "    se: true\n",
      "    se_context_size: -1\n",
      "    kernel_size_factor: 0.25\n",
      "  - filters: 256\n",
      "    repeat: 5\n",
      "    kernel:\n",
      "    - 39\n",
      "    stride:\n",
      "    - 1\n",
      "    dilation:\n",
      "    - 1\n",
      "    dropout: 0.0\n",
      "    residual: true\n",
      "    separable: true\n",
      "    se: true\n",
      "    se_context_size: -1\n",
      "    kernel_size_factor: 0.25\n",
      "  - filters: 640\n",
      "    repeat: 1\n",
      "    kernel:\n",
      "    - 41\n",
      "    stride:\n",
      "    - 1\n",
      "    dilation:\n",
      "    - 1\n",
      "    dropout: 0.0\n",
      "    residual: false\n",
      "    separable: true\n",
      "    se: true\n",
      "    se_context_size: -1\n",
      "    kernel_size_factor: 0.25\n",
      "decoder:\n",
      "  _target_: nemo.collections.asr.modules.ConvASRDecoder\n",
      "  feat_in: 640\n",
      "  num_classes: 1024\n",
      "  vocabulary:\n",
      "  - <unk>\n",
      "  - '##s'\n",
      "  - the\n",
      "  - '##t'\n",
      "  - a\n",
      "  - i\n",
      "  - '##'''\n",
      "  - and\n",
      "  - to\n",
      "  - '##ed'\n",
      "  - '##d'\n",
      "  - '##e'\n",
      "  - of\n",
      "  - '##ing'\n",
      "  - in\n",
      "  - it\n",
      "  - you\n",
      "  - that\n",
      "  - '##n'\n",
      "  - '##er'\n",
      "  - '##y'\n",
      "  - '##m'\n",
      "  - '##r'\n",
      "  - be\n",
      "  - was\n",
      "  - he\n",
      "  - is\n",
      "  - for\n",
      "  - know\n",
      "  - '##re'\n",
      "  - '##p'\n",
      "  - '##ly'\n",
      "  - but\n",
      "  - they\n",
      "  - '##g'\n",
      "  - so\n",
      "  - yeah\n",
      "  - have\n",
      "  - we\n",
      "  - '##o'\n",
      "  - '##c'\n",
      "  - s\n",
      "  - like\n",
      "  - '##or'\n",
      "  - 'on'\n",
      "  - '##a'\n",
      "  - '##i'\n",
      "  - re\n",
      "  - with\n",
      "  - '##ll'\n",
      "  - do\n",
      "  - not\n",
      "  - '##al'\n",
      "  - are\n",
      "  - '##b'\n",
      "  - '##le'\n",
      "  - '##u'\n",
      "  - '##ar'\n",
      "  - c\n",
      "  - '##es'\n",
      "  - this\n",
      "  - as\n",
      "  - '##l'\n",
      "  - '##en'\n",
      "  - uh\n",
      "  - '##ion'\n",
      "  - what\n",
      "  - '##in'\n",
      "  - '##ve'\n",
      "  - '##k'\n",
      "  - there\n",
      "  - or\n",
      "  - my\n",
      "  - can\n",
      "  - all\n",
      "  - '##ent'\n",
      "  - '##f'\n",
      "  - his\n",
      "  - me\n",
      "  - just\n",
      "  - at\n",
      "  - de\n",
      "  - f\n",
      "  - don\n",
      "  - um\n",
      "  - '##il'\n",
      "  - '##w'\n",
      "  - had\n",
      "  - 'no'\n",
      "  - '##an'\n",
      "  - think\n",
      "  - '##it'\n",
      "  - '##ri'\n",
      "  - she\n",
      "  - one\n",
      "  - '##ra'\n",
      "  - go\n",
      "  - if\n",
      "  - '##h'\n",
      "  - from\n",
      "  - '##ation'\n",
      "  - '##on'\n",
      "  - e\n",
      "  - '##v'\n",
      "  - an\n",
      "  - ▁\n",
      "  - '##ce'\n",
      "  - t\n",
      "  - would\n",
      "  - right\n",
      "  - '##ch'\n",
      "  - were\n",
      "  - '##ic'\n",
      "  - out\n",
      "  - will\n",
      "  - '##ur'\n",
      "  - about\n",
      "  - well\n",
      "  - '##ment'\n",
      "  - oh\n",
      "  - '##ck'\n",
      "  - by\n",
      "  - her\n",
      "  - up\n",
      "  - con\n",
      "  - when\n",
      "  - st\n",
      "  - '##cause'\n",
      "  - '##th'\n",
      "  - '##ir'\n",
      "  - also\n",
      "  - their\n",
      "  - more\n",
      "  - time\n",
      "  - w\n",
      "  - people\n",
      "  - how\n",
      "  - has\n",
      "  - pa\n",
      "  - mean\n",
      "  - '##li'\n",
      "  - g\n",
      "  - some\n",
      "  - get\n",
      "  - d\n",
      "  - really\n",
      "  - ex\n",
      "  - '##ro'\n",
      "  - '##ate'\n",
      "  - said\n",
      "  - been\n",
      "  - '##ge'\n",
      "  - '##ne'\n",
      "  - who\n",
      "  - '##el'\n",
      "  - other\n",
      "  - ba\n",
      "  - bu\n",
      "  - '##ist'\n",
      "  - them\n",
      "  - '##ut'\n",
      "  - now\n",
      "  - work\n",
      "  - '##ol'\n",
      "  - co\n",
      "  - po\n",
      "  - un\n",
      "  - your\n",
      "  - him\n",
      "  - '##lo'\n",
      "  - good\n",
      "  - '##ver'\n",
      "  - could\n",
      "  - '##us'\n",
      "  - '##te'\n",
      "  - pro\n",
      "  - even\n",
      "  - ra\n",
      "  - '##ies'\n",
      "  - see\n",
      "  - '##la'\n",
      "  - '##est'\n",
      "  - fa\n",
      "  - '##ad'\n",
      "  - then\n",
      "  - ro\n",
      "  - mo\n",
      "  - '##at'\n",
      "  - '##x'\n",
      "  - '##as'\n",
      "  - any\n",
      "  - '##ow'\n",
      "  - '##ance'\n",
      "  - su\n",
      "  - bo\n",
      "  - '##ul'\n",
      "  - '##ive'\n",
      "  - two\n",
      "  - p\n",
      "  - '##ng'\n",
      "  - la\n",
      "  - say\n",
      "  - o\n",
      "  - '##z'\n",
      "  - ma\n",
      "  - over\n",
      "  - '##id'\n",
      "  - '##age'\n",
      "  - very\n",
      "  - which\n",
      "  - did\n",
      "  - '##ry'\n",
      "  - our\n",
      "  - want\n",
      "  - after\n",
      "  - new\n",
      "  - v\n",
      "  - ha\n",
      "  - ah\n",
      "  - where\n",
      "  - '##oo'\n",
      "  - '##ity'\n",
      "  - '##ke'\n",
      "  - ch\n",
      "  - lot\n",
      "  - into\n",
      "  - lo\n",
      "  - se\n",
      "  - sp\n",
      "  - '##ure'\n",
      "  - kind\n",
      "  - day\n",
      "  - than\n",
      "  - dis\n",
      "  - these\n",
      "  - li\n",
      "  - take\n",
      "  - going\n",
      "  - di\n",
      "  - '##ence'\n",
      "  - k\n",
      "  - make\n",
      "  - look\n",
      "  - too\n",
      "  - got\n",
      "  - '##able'\n",
      "  - here\n",
      "  - ho\n",
      "  - much\n",
      "  - '##um'\n",
      "  - part\n",
      "  - b\n",
      "  - '##ish'\n",
      "  - '##is'\n",
      "  - man\n",
      "  - mhm\n",
      "  - something\n",
      "  - '##ant'\n",
      "  - way\n",
      "  - com\n",
      "  - us\n",
      "  - pre\n",
      "  - '##qu'\n",
      "  - '##ard'\n",
      "  - '##vi'\n",
      "  - sa\n",
      "  - back\n",
      "  - should\n",
      "  - '##ci'\n",
      "  - '##per'\n",
      "  - le\n",
      "  - only\n",
      "  - '##ru'\n",
      "  - '##ot'\n",
      "  - first\n",
      "  - '##les'\n",
      "  - little\n",
      "  - school\n",
      "  - hu\n",
      "  - bi\n",
      "  - th\n",
      "  - '##ff'\n",
      "  - '##man'\n",
      "  - 'off'\n",
      "  - '##ated'\n",
      "  - come\n",
      "  - car\n",
      "  - '##im'\n",
      "  - down\n",
      "  - m\n",
      "  - '##un'\n",
      "  - mi\n",
      "  - okay\n",
      "  - fi\n",
      "  - things\n",
      "  - '##ac'\n",
      "  - '##ain'\n",
      "  - need\n",
      "  - many\n",
      "  - thing\n",
      "  - '##ta'\n",
      "  - '##pt'\n",
      "  - '##ight'\n",
      "  - '##om'\n",
      "  - year\n",
      "  - fl\n",
      "  - sc\n",
      "  - ri\n",
      "  - te\n",
      "  - ru\n",
      "  - '##co'\n",
      "  - never\n",
      "  - da\n",
      "  - still\n",
      "  - al\n",
      "  - most\n",
      "  - '##pe'\n",
      "  - hi\n",
      "  - singapore\n",
      "  - '##ful'\n",
      "  - long\n",
      "  - call\n",
      "  - '##ine'\n",
      "  - years\n",
      "  - '##ig'\n",
      "  - '##huh'\n",
      "  - three\n",
      "  - '##ide'\n",
      "  - fe\n",
      "  - those\n",
      "  - '##ec'\n",
      "  - live\n",
      "  - before\n",
      "  - sta\n",
      "  - '##ise'\n",
      "  - again\n",
      "  - '##am'\n",
      "  - '##ical'\n",
      "  - play\n",
      "  - old\n",
      "  - '##ma'\n",
      "  - en\n",
      "  - ''''\n",
      "  - '##mi'\n",
      "  - '##tic'\n",
      "  - '##ction'\n",
      "  - '##mo'\n",
      "  - comp\n",
      "  - hear\n",
      "  - friend\n",
      "  - '##ian'\n",
      "  - vi\n",
      "  - '##mb'\n",
      "  - '##und'\n",
      "  - gu\n",
      "  - through\n",
      "  - '##em'\n",
      "  - sha\n",
      "  - min\n",
      "  - '##ary'\n",
      "  - home\n",
      "  - guess\n",
      "  - give\n",
      "  - talk\n",
      "  - high\n",
      "  - such\n",
      "  - bl\n",
      "  - help\n",
      "  - '##ho'\n",
      "  - '##ous'\n",
      "  - '##po'\n",
      "  - pi\n",
      "  - ga\n",
      "  - may\n",
      "  - didn\n",
      "  - '##ti'\n",
      "  - '##ia'\n",
      "  - '##no'\n",
      "  - app\n",
      "  - every\n",
      "  - '##pp'\n",
      "  - '##ni'\n",
      "  - ta\n",
      "  - own\n",
      "  - life\n",
      "  - made\n",
      "  - r\n",
      "  - mar\n",
      "  - '##ath'\n",
      "  - 'y'\n",
      "  - place\n",
      "  - '##ally'\n",
      "  - alway\n",
      "  - pe\n",
      "  - start\n",
      "  - name\n",
      "  - same\n",
      "  - let\n",
      "  - '##ph'\n",
      "  - last\n",
      "  - actually\n",
      "  - ne\n",
      "  - both\n",
      "  - '##iv'\n",
      "  - another\n",
      "  - pri\n",
      "  - 'yes'\n",
      "  - great\n",
      "  - person\n",
      "  - boy\n",
      "  - thought\n",
      "  - watch\n",
      "  - '##ward'\n",
      "  - money\n",
      "  - went\n",
      "  - show\n",
      "  - feel\n",
      "  - h\n",
      "  - different\n",
      "  - used\n",
      "  - hand\n",
      "  - gra\n",
      "  - tra\n",
      "  - big\n",
      "  - 'n'\n",
      "  - real\n",
      "  - wa\n",
      "  - why\n",
      "  - four\n",
      "  - find\n",
      "  - '##for'\n",
      "  - five\n",
      "  - being\n",
      "  - '##ud'\n",
      "  - '##ze'\n",
      "  - read\n",
      "  - '##lic'\n",
      "  - '##da'\n",
      "  - family\n",
      "  - che\n",
      "  - per\n",
      "  - end\n",
      "  - change\n",
      "  - '##ness'\n",
      "  - imp\n",
      "  - put\n",
      "  - '##ca'\n",
      "  - under\n",
      "  - came\n",
      "  - '##ick'\n",
      "  - '##ag'\n",
      "  - seem\n",
      "  - win\n",
      "  - ten\n",
      "  - jo\n",
      "  - tri\n",
      "  - happen\n",
      "  - pu\n",
      "  - around\n",
      "  - plan\n",
      "  - sure\n",
      "  - house\n",
      "  - far\n",
      "  - '##j'\n",
      "  - sh\n",
      "  - while\n",
      "  - cha\n",
      "  - anything\n",
      "  - war\n",
      "  - '##nna'\n",
      "  - use\n",
      "  - love\n",
      "  - world\n",
      "  - stuff\n",
      "  - better\n",
      "  - '##ster'\n",
      "  - ca\n",
      "  - does\n",
      "  - probably\n",
      "  - hard\n",
      "  - '##gg'\n",
      "  - '##ctor'\n",
      "  - ja\n",
      "  - must\n",
      "  - doing\n",
      "  - '##ha'\n",
      "  - found\n",
      "  - care\n",
      "  - du\n",
      "  - '##row'\n",
      "  - state\n",
      "  - point\n",
      "  - '##min'\n",
      "  - '##ach'\n",
      "  - '##ative'\n",
      "  - pretty\n",
      "  - interest\n",
      "  - '##our'\n",
      "  - '##ever'\n",
      "  - '##led'\n",
      "  - ju\n",
      "  - week\n",
      "  - tell\n",
      "  - cre\n",
      "  - '##ft'\n",
      "  - might\n",
      "  - ki\n",
      "  - cl\n",
      "  - inter\n",
      "  - six\n",
      "  - '##ton'\n",
      "  - '##ak'\n",
      "  - '##ite'\n",
      "  - '##ling'\n",
      "  - acc\n",
      "  - '##land'\n",
      "  - business\n",
      "  - ph\n",
      "  - away\n",
      "  - though\n",
      "  - '##lu'\n",
      "  - each\n",
      "  - pay\n",
      "  - keep\n",
      "  - everything\n",
      "  - '##fi'\n",
      "  - '##av'\n",
      "  - children\n",
      "  - public\n",
      "  - pass\n",
      "  - '##com'\n",
      "  - '##ual'\n",
      "  - em\n",
      "  - ti\n",
      "  - maybe\n",
      "  - young\n",
      "  - '##ough'\n",
      "  - u\n",
      "  - '##ities'\n",
      "  - few\n",
      "  - month\n",
      "  - ste\n",
      "  - move\n",
      "  - close\n",
      "  - sea\n",
      "  - '##son'\n",
      "  - pl\n",
      "  - turn\n",
      "  - men\n",
      "  - add\n",
      "  - '##ious'\n",
      "  - '##ible'\n",
      "  - '##qui'\n",
      "  - am\n",
      "  - '##nch'\n",
      "  - grow\n",
      "  - miss\n",
      "  - cor\n",
      "  - fun\n",
      "  - done\n",
      "  - government\n",
      "  - ever\n",
      "  - act\n",
      "  - set\n",
      "  - kids\n",
      "  - na\n",
      "  - eight\n",
      "  - exact\n",
      "  - '##way'\n",
      "  - open\n",
      "  - getting\n",
      "  - next\n",
      "  - '##ab'\n",
      "  - problem\n",
      "  - er\n",
      "  - cri\n",
      "  - job\n",
      "  - produc\n",
      "  - cat\n",
      "  - night\n",
      "  - book\n",
      "  - learn\n",
      "  - '##line'\n",
      "  - small\n",
      "  - '##ating'\n",
      "  - without\n",
      "  - '##ial'\n",
      "  - course\n",
      "  - country\n",
      "  - area\n",
      "  - during\n",
      "  - once\n",
      "  - best\n",
      "  - bad\n",
      "  - mister\n",
      "  - trans\n",
      "  - nothing\n",
      "  - believe\n",
      "  - head\n",
      "  - seven\n",
      "  - whole\n",
      "  - face\n",
      "  - water\n",
      "  - service\n",
      "  - cap\n",
      "  - bro\n",
      "  - later\n",
      "  - '##amp'\n",
      "  - took\n",
      "  - va\n",
      "  - hour\n",
      "  - 'true'\n",
      "  - mu\n",
      "  - since\n",
      "  - nine\n",
      "  - '##op'\n",
      "  - large\n",
      "  - city\n",
      "  - doesn\n",
      "  - having\n",
      "  - sub\n",
      "  - art\n",
      "  - '##ship'\n",
      "  - continue\n",
      "  - market\n",
      "  - seen\n",
      "  - game\n",
      "  - sit\n",
      "  - case\n",
      "  - law\n",
      "  - lu\n",
      "  - certain\n",
      "  - je\n",
      "  - tru\n",
      "  - else\n",
      "  - qua\n",
      "  - enough\n",
      "  - second\n",
      "  - hope\n",
      "  - between\n",
      "  - fact\n",
      "  - saw\n",
      "  - food\n",
      "  - left\n",
      "  - company\n",
      "  - stand\n",
      "  - able\n",
      "  - teach\n",
      "  - expect\n",
      "  - sometimes\n",
      "  - yet\n",
      "  - follow\n",
      "  - main\n",
      "  - told\n",
      "  - girl\n",
      "  - system\n",
      "  - bri\n",
      "  - walk\n",
      "  - bra\n",
      "  - near\n",
      "  - word\n",
      "  - '##bb'\n",
      "  - group\n",
      "  - less\n",
      "  - number\n",
      "  - consider\n",
      "  - remain\n",
      "  - develop\n",
      "  - train\n",
      "  - town\n",
      "  - lead\n",
      "  - free\n",
      "  - idea\n",
      "  - together\n",
      "  - important\n",
      "  - gen\n",
      "  - agree\n",
      "  - quite\n",
      "  - nice\n",
      "  - try\n",
      "  - understand\n",
      "  - reason\n",
      "  - support\n",
      "  - trying\n",
      "  - low\n",
      "  - stop\n",
      "  - sort\n",
      "  - hundred\n",
      "  - '##ash'\n",
      "  - become\n",
      "  - eat\n",
      "  - today\n",
      "  - '##ready'\n",
      "  - remember\n",
      "  - issue\n",
      "  - side\n",
      "  - '##bi'\n",
      "  - line\n",
      "  - '##wi'\n",
      "  - matter\n",
      "  - question\n",
      "  - asked\n",
      "  - dollars\n",
      "  - '##nder'\n",
      "  - twenty\n",
      "  - rest\n",
      "  - upon\n",
      "  - student\n",
      "  - count\n",
      "  - father\n",
      "  - half\n",
      "  - office\n",
      "  - mother\n",
      "  - won\n",
      "  - class\n",
      "  - almos\n",
      "  - def\n",
      "  - wait\n",
      "  - cause\n",
      "  - '##bility'\n",
      "  - sound\n",
      "  - least\n",
      "  - either\n",
      "  - sign\n",
      "  - fire\n",
      "  - light\n",
      "  - several\n",
      "  - whatever\n",
      "  - himself\n",
      "  - computer\n",
      "  - room\n",
      "  - report\n",
      "  - america\n",
      "  - minute\n",
      "  - wh\n",
      "  - general\n",
      "  - price\n",
      "  - child\n",
      "  - bre\n",
      "  - definitely\n",
      "  - parents\n",
      "  - suppose\n",
      "  - direct\n",
      "  - operat\n",
      "  - among\n",
      "  - couple\n",
      "  - cost\n",
      "  - '##light'\n",
      "  - often\n",
      "  - arm\n",
      "  - appear\n",
      "  - wow\n",
      "  - term\n",
      "  - return\n",
      "  - speak\n",
      "  - usually\n",
      "  - meet\n",
      "  - ski\n",
      "  - power\n",
      "  - elect\n",
      "  - south\n",
      "  - team\n",
      "  - local\n",
      "  - north\n",
      "  - current\n",
      "  - wonder\n",
      "  - include\n",
      "  - strong\n",
      "  - shi\n",
      "  - making\n",
      "  - full\n",
      "  - leave\n",
      "  - everyone\n",
      "  - somebody\n",
      "  - provide\n",
      "  - movie\n",
      "  - member\n",
      "  - experience\n",
      "  - woman\n",
      "  - possib\n",
      "  - order\n",
      "  - '##rself'\n",
      "  - york\n",
      "  - someone\n",
      "  - tax\n",
      "  - short\n",
      "  - umhu\n",
      "  - sport\n",
      "  - companies\n",
      "  - health\n",
      "  - bank\n",
      "  - until\n",
      "  - answer\n",
      "  - everybody\n",
      "  - police\n",
      "  - especial\n",
      "  - '##where'\n",
      "  - major\n",
      "  - travel\n",
      "  - knew\n",
      "  - program\n",
      "  - land\n",
      "  - employ\n",
      "  - type\n",
      "  - along\n",
      "  - college\n",
      "  - manag\n",
      "  - music\n",
      "  - clear\n",
      "  - safe\n",
      "  - myself\n",
      "  - education\n",
      "  - result\n",
      "  - bring\n",
      "  - court\n",
      "  - enter\n",
      "  - enjoy\n",
      "  - hold\n",
      "  - involv\n",
      "  - mode\n",
      "  - wheth\n",
      "  - husband\n",
      "  - '##came'\n",
      "  - million\n",
      "  - black\n",
      "  - difficult\n",
      "  - social\n",
      "  - morning\n",
      "  - '##ency'\n",
      "  - level\n",
      "  - felt\n",
      "  - married\n",
      "  - taking\n",
      "  - require\n",
      "  - living\n",
      "  - early\n",
      "  - wife\n",
      "  - white\n",
      "  - present\n",
      "  - visit\n",
      "  - effect\n",
      "  - serve\n",
      "  - affect\n",
      "  - further\n",
      "  - brother\n",
      "  - simp\n",
      "  - shop\n",
      "  - period\n",
      "  - daughter\n",
      "  - national\n",
      "  - break\n",
      "  - quick\n",
      "  - common\n",
      "  - view\n",
      "  - situation\n",
      "  - outside\n",
      "  - east\n",
      "  - community\n",
      "  - rather\n",
      "  - thousand\n",
      "  - future\n",
      "  - concern\n",
      "  - success\n",
      "  - nu\n",
      "  - grand\n",
      "  - complete\n",
      "  - spend\n",
      "  - began\n",
      "  - topic\n",
      "  - example\n",
      "  - phone\n",
      "  - increase\n",
      "  - street\n",
      "  - sense\n",
      "  - final\n",
      "  - locat\n",
      "  - perform\n",
      "  - charge\n",
      "  - record\n",
      "  - instead\n",
      "  - women\n",
      "  - information\n",
      "  - countries\n",
      "  - born\n",
      "  - '##lthough'\n",
      "  - acros\n",
      "  - funny\n",
      "  - security\n",
      "  - cold\n",
      "  - smoke\n",
      "  - depend\n",
      "  - treat\n",
      "  - process\n",
      "  - condition\n",
      "  - themselves\n",
      "  - recent\n",
      "  - ground\n",
      "  - behind\n",
      "  - '##ified'\n",
      "  - custom\n",
      "  - gold\n",
      "  - design\n",
      "  - thirty\n",
      "  - third\n",
      "  - drink\n",
      "  - strange\n",
      "  - slow\n",
      "  - particular\n",
      "  - attack\n",
      "  - project\n",
      "  - hello\n",
      "  - special\n",
      "  - listen\n",
      "  - wrong\n",
      "  - space\n",
      "  - story\n",
      "  - improve\n",
      "  - english\n",
      "  - happy\n",
      "  - value\n",
      "  - voice\n",
      "  - spoke\n",
      "  - account\n",
      "  - brought\n",
      "  - green\n",
      "  - private\n",
      "  - control\n",
      "  - media\n",
      "  - author\n",
      "  - figure\n",
      "  - china\n",
      "  - university\n",
      "  - easy\n",
      "  - language\n",
      "  - foreign\n",
      "  - includ\n",
      "  - please\n",
      "  - easi\n",
      "  - according\n",
      "  - decided\n",
      "  - dream\n",
      "  - sudden\n",
      "  - society\n",
      "  - subject\n",
      "  - '##place'\n",
      "  - animal\n",
      "  - horse\n",
      "  - cook\n",
      "  - serious\n",
      "  - draw\n",
      "  - opportunit\n",
      "  - front\n",
      "  - church\n",
      "  - president\n",
      "  - addition\n",
      "  - fifty\n",
      "  - worth\n",
      "  - financial\n",
      "  - hospital\n",
      "  - difference\n",
      "  - collect\n",
      "  - study\n",
      "  - individual\n",
      "  - effort\n",
      "  - laugh\n",
      "  - industry\n",
      "  - stock\n",
      "  - position\n",
      "  - basicall\n",
      "  - similar\n",
      "  - regular\n",
      "  - connect\n",
      "  - research\n",
      "  - accept\n",
      "  - restaurant\n",
      "  - protect\n",
      "  - amount\n",
      "  - write\n",
      "  - drop\n",
      "  - john\n",
      "  - history\n",
      "  - threat\n",
      "  - middle\n",
      "  - political\n",
      "  - cross\n",
      "  - sleep\n",
      "  - original\n",
      "  - popular\n",
      "  - immediate\n",
      "  - engine\n",
      "  - kept\n",
      "  - drug\n",
      "  - decision\n",
      "  - economy\n",
      "  - measure\n",
      "  - california\n",
      "  - video\n",
      "  - challenge\n",
      "  - surprise\n",
      "  - entire\n",
      "  - exercise\n",
      "  - itself\n",
      "  - available\n",
      "  - benefit\n",
      "  - character\n",
      "  - economic\n",
      "  - patient\n",
      "  - despite\n",
      "  - feature\n",
      "  - absolute\n",
      "  - picture\n",
      "  - club\n",
      "  - football\n",
      "  - focus\n",
      "  - discuss\n",
      "  - alchemist\n",
      "  - respect\n",
      "  - perhaps\n",
      "  - technology\n",
      "  - natural\n",
      "  - summer\n",
      "  - observ\n",
      "  - express\n",
      "  - '##q'\n",
      "optim:\n",
      "  name: novograd\n",
      "  lr: 0.05\n",
      "  betas:\n",
      "  - 0.8\n",
      "  - 0.25\n",
      "  weight_decay: 0.001\n",
      "  sched:\n",
      "    name: CosineAnnealing\n",
      "    warmup_steps: 1000\n",
      "    warmup_ratio: null\n",
      "    min_lr: 1.0e-05\n",
      "    last_epoch: -1\n",
      "target: nemo.collections.asr.models.ctc_bpe_models.EncDecCTCModelBPE\n",
      "\n"
     ]
    }
   ],
   "source": [
    "print(OmegaConf.to_yaml(params))"
   ]
  },
  {
   "cell_type": "markdown",
   "metadata": {
    "id": "Nw-8epOcuCcG"
   },
   "source": [
    "## Specifying the tokenizer to the model\n",
    "\n",
    "Now that we have a model config, we are almost ready to train it ! We just have to inform it where the tokenizer directory exists and it will do the rest for us !\n",
    "\n",
    "We have to provide just two pieces of information via the config:\n",
    "\n",
    " - `tokenizer.dir`: The directory where the tokenizer files are stored\n",
    " - `tokenizer.type`: Can be `bpe` (for `sentencepiece` based tokenizers) or `wpe` (for HuggingFace based BERT Word Piece Tokenizers. Represents what type of tokenizer is being supplied and parse its directory to construct the actual tokenizer.\n",
    "\n",
    "**Note**: We only have to provide the **directory** where the tokenizer file exists along with its vocabulary and any other essential components. We pass the directory instead of an explicit vocabulary path, since not all libraries construct their tokenizer in the same manner, so the model will figure out how it should prepare the tokenizer.\n"
   ]
  },
  {
   "cell_type": "code",
   "execution_count": 85,
   "metadata": {
    "id": "YME-v0rcudUz"
   },
   "outputs": [],
   "source": [
    "params.tokenizer.dir = datasets_dir + \"/tokenizers/LJSpeech-1.1/tokenizer_spe_unigram_v1024/\"  # note this is a directory, not a path to a vocabulary file\n",
    "params.tokenizer.type = \"bpe\""
   ]
  },
  {
   "cell_type": "markdown",
   "metadata": {
    "id": "ceelkfIHrHTR"
   },
   "source": [
    "### Training with PyTorch Lightning\n",
    "\n",
    "NeMo models and modules can be used in any PyTorch code where torch.nn.Module is expected.\n",
    "\n",
    "However, NeMo's models are based on [PytorchLightning's](https://github.com/PyTorchLightning/pytorch-lightning) LightningModule and we recommend you use PytorchLightning for training and fine-tuning as it makes using mixed precision and distributed training very easy. So to start, let's create Trainer instance for training on GPU for 50 epochs"
   ]
  },
  {
   "cell_type": "code",
   "execution_count": 110,
   "metadata": {},
   "outputs": [],
   "source": [
    "from itertools import zip_longest\n",
    "from typing import Any, Callable, Dict, List, Optional\n",
    "\n",
    "from pytorch_lightning import LightningModule, Trainer\n",
    "from pytorch_lightning.callbacks import Callback\n",
    "from pytorch_lightning.utilities import rank_zero_info\n",
    "\n",
    "import copy\n",
    "\n",
    "class PrintTableMetricsCallback(Callback):\n",
    "    \"\"\"Prints a table with the metrics in columns on every epoch end.\n",
    "    Example::\n",
    "        from pl_bolts.callbacks import PrintTableMetricsCallback\n",
    "        callback = PrintTableMetricsCallback()\n",
    "    Pass into trainer like so:\n",
    "    .. code-block:: python\n",
    "        trainer = pl.Trainer(callbacks=[callback])\n",
    "        trainer.fit(...)\n",
    "        # ------------------------------\n",
    "        # at the end of every epoch it will print\n",
    "        # ------------------------------\n",
    "        # loss│train_loss│val_loss│epoch\n",
    "        # ──────────────────────────────\n",
    "        # 2.2541470527648926│2.2541470527648926│2.2158432006835938│0\n",
    "    \"\"\"\n",
    "\n",
    "    def __init__(self) -> None:\n",
    "        self.metrics: List = []\n",
    "\n",
    "    def on_epoch_end(self, trainer: Trainer, pl_module: LightningModule) -> None:\n",
    "        metrics_dict = copy.copy(trainer.callback_metrics)\n",
    "        self.metrics.append(metrics_dict)\n",
    "        rank_zero_info(dicts_to_table(self.metrics))\n",
    "        \n",
    "def dicts_to_table(\n",
    "    dicts: List[Dict],\n",
    "    keys: Optional[List[str]] = None,\n",
    "    pads: Optional[List[str]] = None,\n",
    "    fcodes: Optional[List[str]] = None,\n",
    "    convert_headers: Optional[Dict[str, Callable]] = None,\n",
    "    header_names: Optional[List[str]] = None,\n",
    "    skip_none_lines: bool = False,\n",
    "    replace_values: Optional[Dict[str, Any]] = None,\n",
    ") -> str:\n",
    "    \"\"\"Generate ascii table from dictionary Taken from (https://stackoverflow.com/questions/40056747/print-a-list-\n",
    "    of-dictionaries-in-table-form)\n",
    "    Args:\n",
    "        dicts: input dictionary list; empty lists make keys OR header_names mandatory\n",
    "        keys: order list of keys to generate columns for; no key/dict-key should\n",
    "            suffix with '____' else adjust code-suffix\n",
    "        pads: indicate padding direction and size, eg <10 to right pad alias left-align\n",
    "        fcodes: formating codes for respective column type, eg .3f\n",
    "        convert_headers: apply converters(dict) on column keys k, eg timestamps\n",
    "        header_names: supply for custom column headers instead of keys\n",
    "        skip_none_lines: skip line if contains None\n",
    "        replace_values: specify per column keys k a map from seen value to new value;\n",
    "                        new value must comply with the columns fcode; CAUTION: modifies input (due speed)\n",
    "    Example:\n",
    "        >>> a = {'a': 1, 'b': 2}\n",
    "        >>> b = {'a': 3, 'b': 4}\n",
    "        >>> print(dicts_to_table([a, b]))\n",
    "        a│b\n",
    "        ───\n",
    "        1│2\n",
    "        3│4\n",
    "    \"\"\"\n",
    "    # optional arg prelude\n",
    "    if keys is None:\n",
    "        if len(dicts) > 0:\n",
    "            keys = dicts[0].keys()  # type: ignore[assignment]\n",
    "        elif header_names is not None:\n",
    "            keys = header_names\n",
    "        else:\n",
    "            raise ValueError(\"keys or header_names mandatory on empty input list\")\n",
    "    if pads is None:\n",
    "        pads = [\"\"] * len(keys)  # type: ignore[arg-type]\n",
    "    elif len(pads) != len(keys):  # type: ignore[arg-type]\n",
    "        raise ValueError(f\"bad pad length {len(pads)}, expected: {len(keys)}\")  # type: ignore[arg-type]\n",
    "    if fcodes is None:\n",
    "        fcodes = [\"\"] * len(keys)  # type: ignore[arg-type]\n",
    "    elif len(fcodes) != len(fcodes):\n",
    "        raise ValueError(f\"bad fcodes length {len(fcodes)}, expected: {len(keys)}\")  # type: ignore[arg-type]\n",
    "    if convert_headers is None:\n",
    "        convert_headers = {}\n",
    "    if header_names is None:\n",
    "        header_names = keys\n",
    "    if replace_values is None:\n",
    "        replace_values = {}\n",
    "    # build header\n",
    "    headline = \"│\".join(f\"{v:{pad}}\" for v, pad in zip_longest(header_names, pads))  # type: ignore[arg-type]\n",
    "    underline = \"─\" * len(headline)\n",
    "    # suffix special keys to apply converters to later on\n",
    "    marked_keys = [h + \"____\" if h in convert_headers else h for h in keys]  # type: ignore[union-attr]\n",
    "    marked_values = {}\n",
    "    s = \"│\".join(f\"{{{h}:{pad}{fcode}}}\" for h, pad, fcode in zip_longest(marked_keys, pads, fcodes))\n",
    "    lines = [headline, underline]\n",
    "    for d in dicts:\n",
    "        none_keys = [k for k, v in d.items() if v is None]\n",
    "        if skip_none_lines and none_keys:\n",
    "            continue\n",
    "        elif replace_values:\n",
    "            for k in d.keys():\n",
    "                if k in replace_values and d[k] in replace_values[k]:\n",
    "                    d[k] = replace_values[k][d[k]]\n",
    "                if d[k] is None:\n",
    "                    raise ValueError(f\"bad or no mapping for key '{k}' is None. Use skip or change replace mapping.\")\n",
    "        elif none_keys:\n",
    "            raise ValueError(f\"keys {none_keys} are None in {d}. Do skip or use replace mapping.\")\n",
    "        for h in convert_headers:\n",
    "            if h in keys:  # type: ignore[operator]\n",
    "                converter = convert_headers[h]\n",
    "                marked_values[h + \"____\"] = converter(d)\n",
    "        line = s.format(**d, **marked_values)\n",
    "        lines.append(line)\n",
    "    return \"\\n\".join(lines)"
   ]
  },
  {
   "cell_type": "code",
   "execution_count": 87,
   "metadata": {
    "id": "3rslHEKeq9qy"
   },
   "outputs": [
    {
     "name": "stderr",
     "output_type": "stream",
     "text": [
      "GPU available: True, used: True\n",
      "TPU available: False, using: 0 TPU cores\n",
      "IPU available: False, using: 0 IPUs\n"
     ]
    }
   ],
   "source": [
    "import pytorch_lightning as pl\n",
    "\n",
    "callback = PrintTableMetricsCallback()\n",
    "trainer = pl.Trainer(gpus=1, max_epochs=20, callbacks=[callback])"
   ]
  },
  {
   "cell_type": "markdown",
   "metadata": {
    "id": "pLbXg1swre_M"
   },
   "source": [
    "Next, we instantiate and ASR model based on our ``citrinet_bpe.yaml`` file from the previous section.\n",
    "Note that this is a stage during which we also tell the model where our training and validation manifests are."
   ]
  },
  {
   "cell_type": "code",
   "execution_count": 88,
   "metadata": {
    "id": "v7RnwRpprb2S"
   },
   "outputs": [],
   "source": [
    "# Update paths to dataset\n",
    "params.train_ds.manifest_filepath = train_manifest\n",
    "params.validation_ds.manifest_filepath = test_manifest\n",
    "\n",
    "params.train_ds.num_workers = 12\n",
    "params.train_ds.pin_memory=True\n",
    "params.validation_ds.num_workers=12\n",
    "params.validation_ds.pin_memory=True\n",
    "\n",
    "# remove spec augment for this dataset\n",
    "params.spec_augment.rect_masks = 0"
   ]
  },
  {
   "cell_type": "markdown",
   "metadata": {
    "id": "2qLDHHOOx8T1"
   },
   "source": [
    "Note the subtle difference in the model that we instantiate - `EncDecCTCModelBPE` instead of `EncDecCTCModel`. \n",
    "\n",
    "`EncDecCTCModelBPE` is nearly identical to `EncDecCTCModel` (it is in fact a subclass!) that simply adds support for subword tokenization."
   ]
  },
  {
   "cell_type": "code",
   "execution_count": 89,
   "metadata": {},
   "outputs": [
    {
     "data": {
      "text/plain": [
       "{'sample_rate': 16000, 'train_ds': {'manifest_filepath': '../../datasets/LJSpeech-1.1/train_manifest.json', 'sample_rate': 16000, 'batch_size': 4, 'trim_silence': False, 'max_duration': 20.0, 'shuffle': True, 'is_tarred': False, 'tarred_audio_filepaths': None, 'use_start_end_token': False, 'num_workers': 12, 'pin_memory': True}, 'validation_ds': {'manifest_filepath': '../../datasets/LJSpeech-1.1/train_manifest.json', 'sample_rate': 16000, 'batch_size': 4, 'shuffle': False, 'use_start_end_token': False, 'num_workers': 12, 'pin_memory': True}, 'test_ds': {'manifest_filepath': None, 'sample_rate': 16000, 'batch_size': 4, 'shuffle': False, 'use_start_end_token': False}, 'model_defaults': {'repeat': 5, 'dropout': 0.0, 'separable': True, 'se': True, 'se_context_size': -1, 'kernel_size_factor': 0.25}, 'tokenizer': {'dir': '../../datasets/tokenizers/LJSpeech-1.1/tokenizer_spe_unigram_v1024/', 'type': 'bpe'}, 'preprocessor': {'_target_': 'nemo.collections.asr.modules.AudioToMelSpectrogramPreprocessor', 'sample_rate': 16000, 'normalize': 'per_feature', 'window_size': 0.025, 'window_stride': 0.01, 'window': 'hann', 'features': 80, 'n_fft': 512, 'frame_splicing': 1, 'dither': 1e-05, 'pad_to': 16, 'stft_conv': False}, 'spec_augment': {'_target_': 'nemo.collections.asr.modules.SpectrogramAugmentation', 'freq_masks': 2, 'time_masks': 2, 'freq_width': 27, 'time_width': 0.05, 'rect_masks': 0}, 'encoder': {'_target_': 'nemo.collections.asr.modules.ConvASREncoder', 'feat_in': 80, 'activation': 'relu', 'conv_mask': True, 'jasper': [{'filters': 256, 'repeat': 1, 'kernel': [5], 'stride': [1], 'dilation': [1], 'dropout': 0.0, 'residual': False, 'separable': True, 'se': True, 'se_context_size': -1}, {'filters': 256, 'repeat': 5, 'kernel': [11], 'stride': [2], 'dilation': [1], 'dropout': 0.0, 'residual': True, 'separable': True, 'se': True, 'se_context_size': -1, 'stride_last': True, 'residual_mode': 'stride_add', 'kernel_size_factor': 0.25}, {'filters': 256, 'repeat': 5, 'kernel': [13], 'stride': [1], 'dilation': [1], 'dropout': 0.0, 'residual': True, 'separable': True, 'se': True, 'se_context_size': -1, 'kernel_size_factor': 0.25}, {'filters': 256, 'repeat': 5, 'kernel': [15], 'stride': [1], 'dilation': [1], 'dropout': 0.0, 'residual': True, 'separable': True, 'se': True, 'se_context_size': -1, 'kernel_size_factor': 0.25}, {'filters': 256, 'repeat': 5, 'kernel': [17], 'stride': [1], 'dilation': [1], 'dropout': 0.0, 'residual': True, 'separable': True, 'se': True, 'se_context_size': -1, 'kernel_size_factor': 0.25}, {'filters': 256, 'repeat': 5, 'kernel': [19], 'stride': [1], 'dilation': [1], 'dropout': 0.0, 'residual': True, 'separable': True, 'se': True, 'se_context_size': -1, 'kernel_size_factor': 0.25}, {'filters': 256, 'repeat': 5, 'kernel': [21], 'stride': [1], 'dilation': [1], 'dropout': 0.0, 'residual': True, 'separable': True, 'se': True, 'se_context_size': -1, 'kernel_size_factor': 0.25}, {'filters': 256, 'repeat': 5, 'kernel': [13], 'stride': [2], 'dilation': [1], 'dropout': 0.0, 'residual': True, 'separable': True, 'se': True, 'se_context_size': -1, 'stride_last': True, 'residual_mode': 'stride_add', 'kernel_size_factor': 0.25}, {'filters': 256, 'repeat': 5, 'kernel': [15], 'stride': [1], 'dilation': [1], 'dropout': 0.0, 'residual': True, 'separable': True, 'se': True, 'se_context_size': -1, 'kernel_size_factor': 0.25}, {'filters': 256, 'repeat': 5, 'kernel': [17], 'stride': [1], 'dilation': [1], 'dropout': 0.0, 'residual': True, 'separable': True, 'se': True, 'se_context_size': -1, 'kernel_size_factor': 0.25}, {'filters': 256, 'repeat': 5, 'kernel': [19], 'stride': [1], 'dilation': [1], 'dropout': 0.0, 'residual': True, 'separable': True, 'se': True, 'se_context_size': -1, 'kernel_size_factor': 0.25}, {'filters': 256, 'repeat': 5, 'kernel': [21], 'stride': [1], 'dilation': [1], 'dropout': 0.0, 'residual': True, 'separable': True, 'se': True, 'se_context_size': -1, 'kernel_size_factor': 0.25}, {'filters': 256, 'repeat': 5, 'kernel': [23], 'stride': [1], 'dilation': [1], 'dropout': 0.0, 'residual': True, 'separable': True, 'se': True, 'se_context_size': -1, 'kernel_size_factor': 0.25}, {'filters': 256, 'repeat': 5, 'kernel': [25], 'stride': [1], 'dilation': [1], 'dropout': 0.0, 'residual': True, 'separable': True, 'se': True, 'se_context_size': -1, 'kernel_size_factor': 0.25}, {'filters': 256, 'repeat': 5, 'kernel': [25], 'stride': [2], 'dilation': [1], 'dropout': 0.0, 'residual': True, 'separable': True, 'se': True, 'se_context_size': -1, 'stride_last': True, 'residual_mode': 'stride_add', 'kernel_size_factor': 0.25}, {'filters': 256, 'repeat': 5, 'kernel': [27], 'stride': [1], 'dilation': [1], 'dropout': 0.0, 'residual': True, 'separable': True, 'se': True, 'se_context_size': -1, 'kernel_size_factor': 0.25}, {'filters': 256, 'repeat': 5, 'kernel': [29], 'stride': [1], 'dilation': [1], 'dropout': 0.0, 'residual': True, 'separable': True, 'se': True, 'se_context_size': -1, 'kernel_size_factor': 0.25}, {'filters': 256, 'repeat': 5, 'kernel': [31], 'stride': [1], 'dilation': [1], 'dropout': 0.0, 'residual': True, 'separable': True, 'se': True, 'se_context_size': -1, 'kernel_size_factor': 0.25}, {'filters': 256, 'repeat': 5, 'kernel': [33], 'stride': [1], 'dilation': [1], 'dropout': 0.0, 'residual': True, 'separable': True, 'se': True, 'se_context_size': -1, 'kernel_size_factor': 0.25}, {'filters': 256, 'repeat': 5, 'kernel': [35], 'stride': [1], 'dilation': [1], 'dropout': 0.0, 'residual': True, 'separable': True, 'se': True, 'se_context_size': -1, 'kernel_size_factor': 0.25}, {'filters': 256, 'repeat': 5, 'kernel': [37], 'stride': [1], 'dilation': [1], 'dropout': 0.0, 'residual': True, 'separable': True, 'se': True, 'se_context_size': -1, 'kernel_size_factor': 0.25}, {'filters': 256, 'repeat': 5, 'kernel': [39], 'stride': [1], 'dilation': [1], 'dropout': 0.0, 'residual': True, 'separable': True, 'se': True, 'se_context_size': -1, 'kernel_size_factor': 0.25}, {'filters': 640, 'repeat': 1, 'kernel': [41], 'stride': [1], 'dilation': [1], 'dropout': 0.0, 'residual': False, 'separable': True, 'se': True, 'se_context_size': -1, 'kernel_size_factor': 0.25}]}, 'decoder': {'_target_': 'nemo.collections.asr.modules.ConvASRDecoder', 'feat_in': 640, 'num_classes': 1024, 'vocabulary': ['<unk>', '##s', 'the', '##t', 'a', 'i', \"##'\", 'and', 'to', '##ed', '##d', '##e', 'of', '##ing', 'in', 'it', 'you', 'that', '##n', '##er', '##y', '##m', '##r', 'be', 'was', 'he', 'is', 'for', 'know', '##re', '##p', '##ly', 'but', 'they', '##g', 'so', 'yeah', 'have', 'we', '##o', '##c', 's', 'like', '##or', 'on', '##a', '##i', 're', 'with', '##ll', 'do', 'not', '##al', 'are', '##b', '##le', '##u', '##ar', 'c', '##es', 'this', 'as', '##l', '##en', 'uh', '##ion', 'what', '##in', '##ve', '##k', 'there', 'or', 'my', 'can', 'all', '##ent', '##f', 'his', 'me', 'just', 'at', 'de', 'f', 'don', 'um', '##il', '##w', 'had', 'no', '##an', 'think', '##it', '##ri', 'she', 'one', '##ra', 'go', 'if', '##h', 'from', '##ation', '##on', 'e', '##v', 'an', '▁', '##ce', 't', 'would', 'right', '##ch', 'were', '##ic', 'out', 'will', '##ur', 'about', 'well', '##ment', 'oh', '##ck', 'by', 'her', 'up', 'con', 'when', 'st', '##cause', '##th', '##ir', 'also', 'their', 'more', 'time', 'w', 'people', 'how', 'has', 'pa', 'mean', '##li', 'g', 'some', 'get', 'd', 'really', 'ex', '##ro', '##ate', 'said', 'been', '##ge', '##ne', 'who', '##el', 'other', 'ba', 'bu', '##ist', 'them', '##ut', 'now', 'work', '##ol', 'co', 'po', 'un', 'your', 'him', '##lo', 'good', '##ver', 'could', '##us', '##te', 'pro', 'even', 'ra', '##ies', 'see', '##la', '##est', 'fa', '##ad', 'then', 'ro', 'mo', '##at', '##x', '##as', 'any', '##ow', '##ance', 'su', 'bo', '##ul', '##ive', 'two', 'p', '##ng', 'la', 'say', 'o', '##z', 'ma', 'over', '##id', '##age', 'very', 'which', 'did', '##ry', 'our', 'want', 'after', 'new', 'v', 'ha', 'ah', 'where', '##oo', '##ity', '##ke', 'ch', 'lot', 'into', 'lo', 'se', 'sp', '##ure', 'kind', 'day', 'than', 'dis', 'these', 'li', 'take', 'going', 'di', '##ence', 'k', 'make', 'look', 'too', 'got', '##able', 'here', 'ho', 'much', '##um', 'part', 'b', '##ish', '##is', 'man', 'mhm', 'something', '##ant', 'way', 'com', 'us', 'pre', '##qu', '##ard', '##vi', 'sa', 'back', 'should', '##ci', '##per', 'le', 'only', '##ru', '##ot', 'first', '##les', 'little', 'school', 'hu', 'bi', 'th', '##ff', '##man', 'off', '##ated', 'come', 'car', '##im', 'down', 'm', '##un', 'mi', 'okay', 'fi', 'things', '##ac', '##ain', 'need', 'many', 'thing', '##ta', '##pt', '##ight', '##om', 'year', 'fl', 'sc', 'ri', 'te', 'ru', '##co', 'never', 'da', 'still', 'al', 'most', '##pe', 'hi', 'singapore', '##ful', 'long', 'call', '##ine', 'years', '##ig', '##huh', 'three', '##ide', 'fe', 'those', '##ec', 'live', 'before', 'sta', '##ise', 'again', '##am', '##ical', 'play', 'old', '##ma', 'en', \"'\", '##mi', '##tic', '##ction', '##mo', 'comp', 'hear', 'friend', '##ian', 'vi', '##mb', '##und', 'gu', 'through', '##em', 'sha', 'min', '##ary', 'home', 'guess', 'give', 'talk', 'high', 'such', 'bl', 'help', '##ho', '##ous', '##po', 'pi', 'ga', 'may', 'didn', '##ti', '##ia', '##no', 'app', 'every', '##pp', '##ni', 'ta', 'own', 'life', 'made', 'r', 'mar', '##ath', 'y', 'place', '##ally', 'alway', 'pe', 'start', 'name', 'same', 'let', '##ph', 'last', 'actually', 'ne', 'both', '##iv', 'another', 'pri', 'yes', 'great', 'person', 'boy', 'thought', 'watch', '##ward', 'money', 'went', 'show', 'feel', 'h', 'different', 'used', 'hand', 'gra', 'tra', 'big', 'n', 'real', 'wa', 'why', 'four', 'find', '##for', 'five', 'being', '##ud', '##ze', 'read', '##lic', '##da', 'family', 'che', 'per', 'end', 'change', '##ness', 'imp', 'put', '##ca', 'under', 'came', '##ick', '##ag', 'seem', 'win', 'ten', 'jo', 'tri', 'happen', 'pu', 'around', 'plan', 'sure', 'house', 'far', '##j', 'sh', 'while', 'cha', 'anything', 'war', '##nna', 'use', 'love', 'world', 'stuff', 'better', '##ster', 'ca', 'does', 'probably', 'hard', '##gg', '##ctor', 'ja', 'must', 'doing', '##ha', 'found', 'care', 'du', '##row', 'state', 'point', '##min', '##ach', '##ative', 'pretty', 'interest', '##our', '##ever', '##led', 'ju', 'week', 'tell', 'cre', '##ft', 'might', 'ki', 'cl', 'inter', 'six', '##ton', '##ak', '##ite', '##ling', 'acc', '##land', 'business', 'ph', 'away', 'though', '##lu', 'each', 'pay', 'keep', 'everything', '##fi', '##av', 'children', 'public', 'pass', '##com', '##ual', 'em', 'ti', 'maybe', 'young', '##ough', 'u', '##ities', 'few', 'month', 'ste', 'move', 'close', 'sea', '##son', 'pl', 'turn', 'men', 'add', '##ious', '##ible', '##qui', 'am', '##nch', 'grow', 'miss', 'cor', 'fun', 'done', 'government', 'ever', 'act', 'set', 'kids', 'na', 'eight', 'exact', '##way', 'open', 'getting', 'next', '##ab', 'problem', 'er', 'cri', 'job', 'produc', 'cat', 'night', 'book', 'learn', '##line', 'small', '##ating', 'without', '##ial', 'course', 'country', 'area', 'during', 'once', 'best', 'bad', 'mister', 'trans', 'nothing', 'believe', 'head', 'seven', 'whole', 'face', 'water', 'service', 'cap', 'bro', 'later', '##amp', 'took', 'va', 'hour', 'true', 'mu', 'since', 'nine', '##op', 'large', 'city', 'doesn', 'having', 'sub', 'art', '##ship', 'continue', 'market', 'seen', 'game', 'sit', 'case', 'law', 'lu', 'certain', 'je', 'tru', 'else', 'qua', 'enough', 'second', 'hope', 'between', 'fact', 'saw', 'food', 'left', 'company', 'stand', 'able', 'teach', 'expect', 'sometimes', 'yet', 'follow', 'main', 'told', 'girl', 'system', 'bri', 'walk', 'bra', 'near', 'word', '##bb', 'group', 'less', 'number', 'consider', 'remain', 'develop', 'train', 'town', 'lead', 'free', 'idea', 'together', 'important', 'gen', 'agree', 'quite', 'nice', 'try', 'understand', 'reason', 'support', 'trying', 'low', 'stop', 'sort', 'hundred', '##ash', 'become', 'eat', 'today', '##ready', 'remember', 'issue', 'side', '##bi', 'line', '##wi', 'matter', 'question', 'asked', 'dollars', '##nder', 'twenty', 'rest', 'upon', 'student', 'count', 'father', 'half', 'office', 'mother', 'won', 'class', 'almos', 'def', 'wait', 'cause', '##bility', 'sound', 'least', 'either', 'sign', 'fire', 'light', 'several', 'whatever', 'himself', 'computer', 'room', 'report', 'america', 'minute', 'wh', 'general', 'price', 'child', 'bre', 'definitely', 'parents', 'suppose', 'direct', 'operat', 'among', 'couple', 'cost', '##light', 'often', 'arm', 'appear', 'wow', 'term', 'return', 'speak', 'usually', 'meet', 'ski', 'power', 'elect', 'south', 'team', 'local', 'north', 'current', 'wonder', 'include', 'strong', 'shi', 'making', 'full', 'leave', 'everyone', 'somebody', 'provide', 'movie', 'member', 'experience', 'woman', 'possib', 'order', '##rself', 'york', 'someone', 'tax', 'short', 'umhu', 'sport', 'companies', 'health', 'bank', 'until', 'answer', 'everybody', 'police', 'especial', '##where', 'major', 'travel', 'knew', 'program', 'land', 'employ', 'type', 'along', 'college', 'manag', 'music', 'clear', 'safe', 'myself', 'education', 'result', 'bring', 'court', 'enter', 'enjoy', 'hold', 'involv', 'mode', 'wheth', 'husband', '##came', 'million', 'black', 'difficult', 'social', 'morning', '##ency', 'level', 'felt', 'married', 'taking', 'require', 'living', 'early', 'wife', 'white', 'present', 'visit', 'effect', 'serve', 'affect', 'further', 'brother', 'simp', 'shop', 'period', 'daughter', 'national', 'break', 'quick', 'common', 'view', 'situation', 'outside', 'east', 'community', 'rather', 'thousand', 'future', 'concern', 'success', 'nu', 'grand', 'complete', 'spend', 'began', 'topic', 'example', 'phone', 'increase', 'street', 'sense', 'final', 'locat', 'perform', 'charge', 'record', 'instead', 'women', 'information', 'countries', 'born', '##lthough', 'acros', 'funny', 'security', 'cold', 'smoke', 'depend', 'treat', 'process', 'condition', 'themselves', 'recent', 'ground', 'behind', '##ified', 'custom', 'gold', 'design', 'thirty', 'third', 'drink', 'strange', 'slow', 'particular', 'attack', 'project', 'hello', 'special', 'listen', 'wrong', 'space', 'story', 'improve', 'english', 'happy', 'value', 'voice', 'spoke', 'account', 'brought', 'green', 'private', 'control', 'media', 'author', 'figure', 'china', 'university', 'easy', 'language', 'foreign', 'includ', 'please', 'easi', 'according', 'decided', 'dream', 'sudden', 'society', 'subject', '##place', 'animal', 'horse', 'cook', 'serious', 'draw', 'opportunit', 'front', 'church', 'president', 'addition', 'fifty', 'worth', 'financial', 'hospital', 'difference', 'collect', 'study', 'individual', 'effort', 'laugh', 'industry', 'stock', 'position', 'basicall', 'similar', 'regular', 'connect', 'research', 'accept', 'restaurant', 'protect', 'amount', 'write', 'drop', 'john', 'history', 'threat', 'middle', 'political', 'cross', 'sleep', 'original', 'popular', 'immediate', 'engine', 'kept', 'drug', 'decision', 'economy', 'measure', 'california', 'video', 'challenge', 'surprise', 'entire', 'exercise', 'itself', 'available', 'benefit', 'character', 'economic', 'patient', 'despite', 'feature', 'absolute', 'picture', 'club', 'football', 'focus', 'discuss', 'alchemist', 'respect', 'perhaps', 'technology', 'natural', 'summer', 'observ', 'express', '##q']}, 'optim': {'name': 'novograd', 'lr': 0.05, 'betas': [0.8, 0.25], 'weight_decay': 0.001, 'sched': {'name': 'CosineAnnealing', 'warmup_steps': 1000, 'warmup_ratio': None, 'min_lr': 1e-05, 'last_epoch': -1}}, 'target': 'nemo.collections.asr.models.ctc_bpe_models.EncDecCTCModelBPE'}"
      ]
     },
     "execution_count": 89,
     "metadata": {},
     "output_type": "execute_result"
    }
   ],
   "source": [
    "params"
   ]
  },
  {
   "cell_type": "code",
   "execution_count": 106,
   "metadata": {
    "id": "YVNc9IxdwXp7"
   },
   "outputs": [
    {
     "name": "stdout",
     "output_type": "stream",
     "text": [
      "[NeMo I 2021-10-26 15:12:26 cloud:56] Found existing object /home/boris/.cache/torch/NeMo/NeMo_1.4.0/stt_en_citrinet_256_gamma_0_25/d6eff3868f2f7a4791eb935c8366fc46/stt_en_citrinet_256_gamma_0_25.nemo.\n",
      "[NeMo I 2021-10-26 15:12:26 cloud:62] Re-using file from: /home/boris/.cache/torch/NeMo/NeMo_1.4.0/stt_en_citrinet_256_gamma_0_25/d6eff3868f2f7a4791eb935c8366fc46/stt_en_citrinet_256_gamma_0_25.nemo\n",
      "[NeMo I 2021-10-26 15:12:26 common:702] Instantiating model from pre-trained checkpoint\n",
      "[NeMo I 2021-10-26 15:12:27 mixins:149] Tokenizer SentencePieceTokenizer initialized with 1024 tokens\n"
     ]
    },
    {
     "name": "stderr",
     "output_type": "stream",
     "text": [
      "[NeMo W 2021-10-26 15:12:27 modelPT:131] If you intend to do training or fine-tuning, please call the ModelPT.setup_training_data() method and provide a valid configuration file to setup the train data loader.\n",
      "    Train config : \n",
      "    manifest_filepath: null\n",
      "    sample_rate: 16000\n",
      "    batch_size: 32\n",
      "    trim_silence: false\n",
      "    max_duration: 20.0\n",
      "    shuffle: true\n",
      "    is_tarred: false\n",
      "    tarred_audio_filepaths: null\n",
      "    use_start_end_token: false\n",
      "    \n",
      "[NeMo W 2021-10-26 15:12:27 modelPT:138] If you intend to do validation, please call the ModelPT.setup_validation_data() or ModelPT.setup_multiple_validation_data() method and provide a valid configuration file to setup the validation data loader(s). \n",
      "    Validation config : \n",
      "    manifest_filepath: null\n",
      "    sample_rate: 16000\n",
      "    batch_size: 32\n",
      "    shuffle: false\n",
      "    use_start_end_token: false\n",
      "    \n",
      "[NeMo W 2021-10-26 15:12:27 modelPT:144] Please call the ModelPT.setup_test_data() or ModelPT.setup_multiple_test_data() method and provide a valid configuration file to setup the test data loader(s).\n",
      "    Test config : \n",
      "    manifest_filepath: null\n",
      "    sample_rate: 16000\n",
      "    batch_size: 32\n",
      "    shuffle: false\n",
      "    use_start_end_token: false\n",
      "    \n"
     ]
    },
    {
     "name": "stdout",
     "output_type": "stream",
     "text": [
      "[NeMo I 2021-10-26 15:12:27 features:262] PADDING: 16\n",
      "[NeMo I 2021-10-26 15:12:27 features:279] STFT using torch\n",
      "[NeMo I 2021-10-26 15:12:28 save_restore_connector:143] Model EncDecCTCModelBPE was successfully restored from /home/boris/.cache/torch/NeMo/NeMo_1.4.0/stt_en_citrinet_256_gamma_0_25/d6eff3868f2f7a4791eb935c8366fc46/stt_en_citrinet_256_gamma_0_25.nemo.\n"
     ]
    }
   ],
   "source": [
    "first_asr_model = nemo_asr.models.EncDecCTCModelBPE.from_pretrained(model_name=\"stt_en_citrinet_256_gamma_0_25\")"
   ]
  },
  {
   "cell_type": "code",
   "execution_count": 107,
   "metadata": {},
   "outputs": [],
   "source": [
    "first_asr_model.trainer = trainer\n",
    "first_asr_model.cfg = params"
   ]
  },
  {
   "cell_type": "markdown",
   "metadata": {
    "id": "gJd4gE1uzCuO"
   },
   "source": [
    "### Training: Monitoring Progress\n",
    "We can  now start Tensorboard to see how training went. Recall that WER stands for Word Error Rate and so the lower it is, the better."
   ]
  },
  {
   "cell_type": "code",
   "execution_count": 108,
   "metadata": {
    "id": "50qMnqagy8VM"
   },
   "outputs": [
    {
     "name": "stdout",
     "output_type": "stream",
     "text": [
      "To use tensorboard, please use this notebook in a Google Colab environment.\n"
     ]
    }
   ],
   "source": [
    "try:\n",
    "  from google import colab\n",
    "  COLAB_ENV = True\n",
    "except (ImportError, ModuleNotFoundError):\n",
    "  COLAB_ENV = False\n",
    "\n",
    "# Load the TensorBoard notebook extension\n",
    "if COLAB_ENV:\n",
    "  %load_ext tensorboard\n",
    "  %tensorboard --logdir lightning_logs/\n",
    "else:\n",
    "  print(\"To use tensorboard, please use this notebook in a Google Colab environment.\")"
   ]
  },
  {
   "cell_type": "markdown",
   "metadata": {
    "id": "kKZuX5Wavocr"
   },
   "source": [
    "With that, we can start training with just one line!"
   ]
  },
  {
   "cell_type": "code",
   "execution_count": 102,
   "metadata": {
    "id": "_iFfkFBTryQn",
    "scrolled": true
   },
   "outputs": [
    {
     "name": "stderr",
     "output_type": "stream",
     "text": [
      "LOCAL_RANK: 0 - CUDA_VISIBLE_DEVICES: [0]\n",
      "[NeMo W 2021-10-26 15:08:59 modelPT:436] Trainer wasn't specified in model constructor. Make sure that you really wanted it.\n"
     ]
    },
    {
     "name": "stdout",
     "output_type": "stream",
     "text": [
      "[NeMo I 2021-10-26 15:08:59 modelPT:544] Optimizer config = Novograd (\n",
      "    Parameter Group 0\n",
      "        amsgrad: False\n",
      "        betas: [0.8, 0.25]\n",
      "        eps: 1e-08\n",
      "        grad_averaging: False\n",
      "        lr: 0.05\n",
      "        weight_decay: 0.001\n",
      "    )\n"
     ]
    },
    {
     "name": "stderr",
     "output_type": "stream",
     "text": [
      "[NeMo W 2021-10-26 15:08:59 lr_scheduler:605] Neither `max_steps` nor `iters_per_batch` were provided to `optim.sched`, cannot compute effective `max_steps` !\n",
      "    Scheduler will not be instantiated !\n",
      "\n",
      "  | Name              | Type                              | Params\n",
      "------------------------------------------------------------------------\n",
      "0 | preprocessor      | AudioToMelSpectrogramPreprocessor | 0     \n",
      "1 | encoder           | ConvASREncoder                    | 9.1 M \n",
      "2 | decoder           | ConvASRDecoder                    | 657 K \n",
      "3 | loss              | CTCLoss                           | 0     \n",
      "4 | spec_augmentation | SpectrogramAugmentation           | 0     \n",
      "5 | _wer              | WERBPE                            | 0     \n",
      "------------------------------------------------------------------------\n",
      "9.8 M     Trainable params\n",
      "0         Non-trainable params\n",
      "9.8 M     Total params\n",
      "39.145    Total estimated model params size (MB)\n"
     ]
    },
    {
     "data": {
      "application/vnd.jupyter.widget-view+json": {
       "model_id": "",
       "version_major": 2,
       "version_minor": 0
      },
      "text/plain": [
       "Validation sanity check: 0it [00:00, ?it/s]"
      ]
     },
     "metadata": {},
     "output_type": "display_data"
    },
    {
     "name": "stderr",
     "output_type": "stream",
     "text": [
      "3\n"
     ]
    },
    {
     "data": {
      "application/vnd.jupyter.widget-view+json": {
       "model_id": "bc37e6f868274c10b9ba5f0be5738edf",
       "version_major": 2,
       "version_minor": 0
      },
      "text/plain": [
       "Training: 2145it [00:00, ?it/s]"
      ]
     },
     "metadata": {},
     "output_type": "display_data"
    },
    {
     "name": "stderr",
     "output_type": "stream",
     "text": [
      "Traceback (most recent call last):\n",
      "  File \"/home/boris/anaconda3/lib/python3.7/multiprocessing/queues.py\", line 242, in _feed\n",
      "    send_bytes(obj)\n",
      "  File \"/home/boris/anaconda3/lib/python3.7/multiprocessing/connection.py\", line 200, in send_bytes\n",
      "    self._send_bytes(m[offset:offset + size])\n",
      "  File \"/home/boris/anaconda3/lib/python3.7/multiprocessing/connection.py\", line 404, in _send_bytes\n",
      "    self._send(header + buf)\n",
      "  File \"/home/boris/anaconda3/lib/python3.7/multiprocessing/connection.py\", line 368, in _send\n",
      "    n = write(self._handle, buf)\n",
      "BrokenPipeError: [Errno 32] Broken pipe\n",
      "Traceback (most recent call last):\n",
      "  File \"/home/boris/anaconda3/lib/python3.7/multiprocessing/queues.py\", line 242, in _feed\n",
      "    send_bytes(obj)\n",
      "  File \"/home/boris/anaconda3/lib/python3.7/multiprocessing/connection.py\", line 200, in send_bytes\n",
      "    self._send_bytes(m[offset:offset + size])\n",
      "  File \"/home/boris/anaconda3/lib/python3.7/multiprocessing/connection.py\", line 404, in _send_bytes\n",
      "    self._send(header + buf)\n",
      "  File \"/home/boris/anaconda3/lib/python3.7/multiprocessing/connection.py\", line 368, in _send\n",
      "    n = write(self._handle, buf)\n",
      "BrokenPipeError: [Errno 32] Broken pipe\n",
      "[NeMo W 2021-10-26 15:11:14 nemo_logging:349] /home/boris/anaconda3/lib/python3.7/site-packages/pytorch_lightning/trainer/trainer.py:1051: UserWarning: Detected KeyboardInterrupt, attempting graceful shutdown...\n",
      "      rank_zero_warn(\"Detected KeyboardInterrupt, attempting graceful shutdown...\")\n",
      "    \n"
     ]
    }
   ],
   "source": [
    "# Start training!!!\n",
    "trainer.fit(first_asr_model)"
   ]
  },
  {
   "cell_type": "markdown",
   "metadata": {
    "id": "HQ2aSenF90hs"
   },
   "source": [
    "Save the model easily along with the tokenizer using `save_to`. \n",
    "\n",
    "Later, we use `restore_from` to restore the model, it will also reinitialize the tokenizer !"
   ]
  },
  {
   "cell_type": "code",
   "execution_count": 109,
   "metadata": {
    "id": "6idt0dfO9z-S"
   },
   "outputs": [],
   "source": [
    "first_asr_model.save_to(\"first_model.nemo\")"
   ]
  },
  {
   "cell_type": "code",
   "execution_count": 104,
   "metadata": {
    "id": "RpHwCTk1-q4t"
   },
   "outputs": [
    {
     "name": "stdout",
     "output_type": "stream",
     "text": [
      "-rw-rw-r-- 1 boris boris 36913371 окт 26 15:11 first_model.nemo\r\n",
      "-rw-rw-r-- 1 boris boris 36346778 июн 16 01:54 stt_en_citrinet_256_gamma_0_25.nemo\r\n"
     ]
    }
   ],
   "source": [
    "!ls -l -- *.nemo"
   ]
  },
  {
   "cell_type": "markdown",
   "metadata": {
    "id": "VIupynXOxODi"
   },
   "source": [
    "There we go! We've put together a full training pipeline for the model and trained it for 50 epochs.\n",
    "\n",
    "If you'd like to save this model checkpoint for loading later (e.g. for fine-tuning, or for continuing training), you can simply call `first_asr_model.save_to(<checkpoint_path>)`. Then, to restore your weights, you can rebuild the model using the config (let's say you call it `first_asr_model_continued` this time) and call `first_asr_model_continued.restore_from(<checkpoint_path>)`."
   ]
  },
  {
   "cell_type": "markdown",
   "metadata": {
    "id": "igxnj51WxdSf"
   },
   "source": [
    "We could improve this model by playing with hyperparameters. We can look at the current hyperparameters with the following:"
   ]
  },
  {
   "cell_type": "code",
   "execution_count": 27,
   "metadata": {
    "id": "wLR7PfEzxbO1"
   },
   "outputs": [
    {
     "name": "stdout",
     "output_type": "stream",
     "text": [
      "{'name': 'novograd', 'lr': 0.05, 'betas': [0.8, 0.25], 'weight_decay': 0.001, 'sched': {'name': 'CosineAnnealing', 'warmup_steps': 1000, 'warmup_ratio': None, 'min_lr': 1e-05, 'last_epoch': -1}}\n"
     ]
    }
   ],
   "source": [
    "print(params.model.optim)"
   ]
  },
  {
   "cell_type": "markdown",
   "metadata": {
    "id": "7wfmZWf-xlNV"
   },
   "source": [
    "### After training and hyper parameter tuning\n",
    "\n",
    "Let's say we wanted to change the learning rate. To do so, we can create a `new_opt` dict and set our desired learning rate, then call `<model>.setup_optimization()` with the new optimization parameters."
   ]
  },
  {
   "cell_type": "code",
   "execution_count": null,
   "metadata": {
    "id": "cH31LyZwxi_p"
   },
   "outputs": [],
   "source": [
    "import copy\n",
    "new_opt = copy.deepcopy(params.model.optim)\n",
    "new_opt.lr = 0.1\n",
    "first_asr_model.setup_optimization(optim_config=new_opt);\n",
    "# And then you can invoke trainer.fit(first_asr_model)"
   ]
  },
  {
   "cell_type": "markdown",
   "metadata": {
    "id": "azH7U-K8x0rd"
   },
   "source": [
    "## Inference\n",
    "\n",
    "Let's have a quick look at how one could run inference with NeMo's ASR model.\n",
    "\n",
    "First, ``EncDecCTCModelBPE`` and its subclasses contain a handy ``transcribe`` method which can be used to simply obtain audio files' transcriptions. It also has batch_size argument to improve performance."
   ]
  },
  {
   "cell_type": "code",
   "execution_count": null,
   "metadata": {
    "id": "O64yk8C4xvTG"
   },
   "outputs": [],
   "source": [
    "print(first_asr_model.transcribe(paths2audio_files=[data_dir + '/an4/wav/an4_clstk/mgah/cen2-mgah-b.wav',\n",
    "                                                    data_dir + '/an4/wav/an4_clstk/fmjd/cen7-fmjd-b.wav',\n",
    "                                                    data_dir + '/an4/wav/an4_clstk/fmjd/cen8-fmjd-b.wav',\n",
    "                                                    data_dir + '/an4/wav/an4_clstk/fkai/cen8-fkai-b.wav'],\n",
    "                                 batch_size=4))"
   ]
  },
  {
   "cell_type": "markdown",
   "metadata": {
    "id": "sfcfBxIkznU8"
   },
   "source": [
    "Below is an example of a simple inference loop in pure PyTorch. It also shows how one can compute Word Error Rate (WER) metric between predictions and references."
   ]
  },
  {
   "cell_type": "code",
   "execution_count": null,
   "metadata": {
    "id": "Eo2TcBkozlEG"
   },
   "outputs": [],
   "source": [
    "# Bigger batch-size = bigger throughput\n",
    "params['model']['validation_ds']['batch_size'] = 16\n",
    "\n",
    "# Setup the test data loader and make sure the model is on GPU\n",
    "first_asr_model.setup_test_data(test_data_config=params['model']['validation_ds'])\n",
    "first_asr_model.cuda()\n",
    "first_asr_model.eval()\n",
    "\n",
    "# We remove some preprocessing artifacts which benefit training\n",
    "first_asr_model.preprocessor.featurizer.pad_to = 0\n",
    "first_asr_model.preprocessor.featurizer.dither = 0.0\n",
    "\n",
    "# We will be computing Word Error Rate (WER) metric between our hypothesis and predictions.\n",
    "# WER is computed as numerator/denominator.\n",
    "# We'll gather all the test batches' numerators and denominators.\n",
    "wer_nums = []\n",
    "wer_denoms = []\n",
    "\n",
    "# Loop over all test batches.\n",
    "# Iterating over the model's `test_dataloader` will give us:\n",
    "# (audio_signal, audio_signal_length, transcript_tokens, transcript_length)\n",
    "# See the AudioToCharDataset for more details.\n",
    "for test_batch in first_asr_model.test_dataloader():\n",
    "        test_batch = [x.cuda() for x in test_batch]\n",
    "        targets = test_batch[2]\n",
    "        targets_lengths = test_batch[3]        \n",
    "        log_probs, encoded_len, greedy_predictions = first_asr_model(\n",
    "            input_signal=test_batch[0], input_signal_length=test_batch[1]\n",
    "        )\n",
    "        # Notice the model has a helper object to compute WER\n",
    "        first_asr_model._wer.update(greedy_predictions, targets, targets_lengths)\n",
    "        _, wer_num, wer_denom = first_asr_model._wer.compute()\n",
    "        wer_nums.append(wer_num.detach().cpu().numpy())\n",
    "        wer_denoms.append(wer_denom.detach().cpu().numpy())\n",
    "\n",
    "# We need to sum all numerators and denominators first. Then divide.\n",
    "print(f\"WER = {sum(wer_nums)/sum(wer_denoms)}\")"
   ]
  },
  {
   "cell_type": "markdown",
   "metadata": {
    "id": "T1po9EnY28RM"
   },
   "source": [
    "This WER is not particularly impressive and could be significantly improved. You could train longer (try 100 epochs) to get a better number."
   ]
  },
  {
   "cell_type": "markdown",
   "metadata": {
    "id": "dtl9vEhx3MG7"
   },
   "source": [
    "## Utilizing the underlying tokenizer\n",
    "\n",
    "Since the model has an underlying tokenizer, it would be nice to use it externally as well - say for getting the subwords of the transcript or to tokenize a dataset using the same tokenizer as the ASR model."
   ]
  },
  {
   "cell_type": "code",
   "execution_count": null,
   "metadata": {
    "id": "fdXg21if2YRp"
   },
   "outputs": [],
   "source": [
    "tokenizer = first_asr_model.tokenizer\n",
    "tokenizer"
   ]
  },
  {
   "cell_type": "markdown",
   "metadata": {
    "id": "Y96SOqpJ3kG3"
   },
   "source": [
    "You can get the tokenizer's vocabulary using the `tokenizer.tokenizer.get_vocab()` method. \n",
    "\n",
    "ASR tokenizers will map the subword to an integer index in the vocabulary for convenience."
   ]
  },
  {
   "cell_type": "code",
   "execution_count": null,
   "metadata": {
    "id": "F56_tIRM3g3f"
   },
   "outputs": [],
   "source": [
    "vocab = tokenizer.tokenizer.get_vocab()\n",
    "vocab"
   ]
  },
  {
   "cell_type": "markdown",
   "metadata": {
    "id": "80EqyAfK37-K"
   },
   "source": [
    "You can also tokenize and detokenize some text using this tokenizer, with the same API across all of NeMo."
   ]
  },
  {
   "cell_type": "code",
   "execution_count": null,
   "metadata": {
    "id": "-2tMVskF3uUf"
   },
   "outputs": [],
   "source": [
    "tokens = tokenizer.text_to_tokens(\"hello world\")\n",
    "tokens"
   ]
  },
  {
   "cell_type": "code",
   "execution_count": null,
   "metadata": {
    "id": "CkxHkKQn4Q-E"
   },
   "outputs": [],
   "source": [
    "token_ids = tokenizer.text_to_ids(\"hello world\")\n",
    "token_ids"
   ]
  },
  {
   "cell_type": "code",
   "execution_count": null,
   "metadata": {
    "id": "tpdoIrRt4Xim"
   },
   "outputs": [],
   "source": [
    "subwords = tokenizer.ids_to_tokens(token_ids)\n",
    "subwords"
   ]
  },
  {
   "cell_type": "code",
   "execution_count": null,
   "metadata": {
    "id": "wudNyONi4og8"
   },
   "outputs": [],
   "source": [
    "text = tokenizer.ids_to_text(token_ids)\n",
    "text"
   ]
  },
  {
   "cell_type": "markdown",
   "metadata": {
    "id": "E35VBsbf4yWy"
   },
   "source": [
    "## Model Improvements\n",
    "\n",
    "You already have all you need to create your own ASR model in NeMo, but there are a few more tricks that you can employ if you so desire. In this section, we'll briefly cover a few possibilities for improving an ASR model.\n",
    "\n",
    "### Data Augmentation\n",
    "\n",
    "There exist several ASR data augmentation methods that can increase the size of our training set.\n",
    "\n",
    "For example, we can perform augmentation on the spectrograms by zeroing out specific frequency segments (\"frequency masking\") or time segments (\"time masking\") as described by [SpecAugment](https://arxiv.org/abs/1904.08779), or zero out rectangles on the spectrogram as in [Cutout](https://arxiv.org/pdf/1708.04552.pdf). In NeMo, we can do all three of these by simply adding a `SpectrogramAugmentation` neural module. (As of now, it does not perform the time warping from the SpecAugment paper.)\n",
    "\n",
    "Our toy model disables spectrogram augmentation, because it is not significantly beneficial for the short demo."
   ]
  },
  {
   "cell_type": "code",
   "execution_count": null,
   "metadata": {
    "id": "SMi6Bauy4Jhg"
   },
   "outputs": [],
   "source": [
    "print(OmegaConf.to_yaml(first_asr_model._cfg['spec_augment']))"
   ]
  },
  {
   "cell_type": "markdown",
   "metadata": {
    "id": "ATpO9JDw5MzF"
   },
   "source": [
    "If you want to enable SpecAugment in your model, make sure your .yaml config file contains 'model/spec_augment' section which looks like the one above."
   ]
  },
  {
   "cell_type": "markdown",
   "metadata": {
    "id": "fDTC4fXZ5QnT"
   },
   "source": [
    "### Transfer learning\n",
    "\n",
    "Transfer learning is an important machine learning technique that uses a model’s knowledge of one task to perform better on another. Fine-tuning is one of the techniques to perform transfer learning. It is an essential part of the recipe for many state-of-the-art results where a base model is first pretrained on a task with abundant training data and then fine-tuned on different tasks of interest where the training data is less abundant or even scarce.\n",
    "\n",
    "In ASR you might want to do fine-tuning in multiple scenarios, for example, when you want to improve your model's performance on a particular domain (medical, financial, etc.) or accented speech. You can even transfer learn from one language to another! Check out [this paper](https://arxiv.org/abs/2005.04290) for examples.\n",
    "\n",
    "Transfer learning with NeMo is simple. Let's demonstrate how we could fine-tune the model we trained earlier on AN4 data. (NOTE: this is a toy example). And, while we are at it, we will change the model's vocabulary to demonstrate how it's done."
   ]
  },
  {
   "cell_type": "markdown",
   "metadata": {
    "id": "IN0LbDbY5YR1"
   },
   "source": [
    "-----\n",
    "First, let's create another tokenizer - perhaps using a larger vocabulary size than the small tokenizer we created earlier. Also we swap out `sentencepiece` for `BERT Word Piece` tokenizer."
   ]
  },
  {
   "cell_type": "code",
   "execution_count": null,
   "metadata": {
    "id": "LFENXcXw48fc"
   },
   "outputs": [],
   "source": [
    "!python ./scripts/process_asr_text_tokenizer.py \\\n",
    "  --manifest=\"{data_dir}/an4/train_manifest.json\" \\\n",
    "  --data_root=\"{data_dir}/tokenizers/an4/\" \\\n",
    "  --vocab_size=64 \\\n",
    "  --tokenizer=\"wpe\" \\\n",
    "  --no_lower_case \\\n",
    "  --log"
   ]
  },
  {
   "cell_type": "markdown",
   "metadata": {
    "id": "y5XTyk3M_o7O"
   },
   "source": [
    "Now let's load the previously trained model so that we can fine tune it-"
   ]
  },
  {
   "cell_type": "code",
   "execution_count": null,
   "metadata": {
    "id": "QtyAB9fQ_qbj"
   },
   "outputs": [],
   "source": [
    "restored_model = nemo_asr.models.EncDecCTCModelBPE.restore_from(\"./first_model.nemo\")"
   ]
  },
  {
   "cell_type": "markdown",
   "metadata": {
    "id": "5BBtk30g5sHJ"
   },
   "source": [
    "Now let's update the vocabulary in this model"
   ]
  },
  {
   "cell_type": "code",
   "execution_count": null,
   "metadata": {
    "id": "4Ey9CUkJ5o56"
   },
   "outputs": [],
   "source": [
    "# Check what kind of vocabulary/alphabet the model has right now\n",
    "print(restored_model.decoder.vocabulary)\n",
    "\n",
    "# Lets change the tokenizer vocabulary by passing the path to the new directory,\n",
    "# and also change the type\n",
    "restored_model.change_vocabulary(\n",
    "    new_tokenizer_dir=data_dir + \"/tokenizers/an4/tokenizer_wpe_v64/\",\n",
    "    new_tokenizer_type=\"wpe\"\n",
    ")"
   ]
  },
  {
   "cell_type": "markdown",
   "metadata": {
    "id": "UZ3sf2P26SiA"
   },
   "source": [
    "After this, our decoder has completely changed, but our encoder (where most of the weights are) remained intact. Let's fine tune-this model for 20 epochs on AN4 dataset. We will also use the smaller learning rate from ``new_opt` (see the \"After Training\" section)`.\n",
    "\n",
    "**Note**: For this demonstration, we will also freeze the encoder to speed up finetuning (since both tokenizers are built on the same train set), but in general it should not be done for proper training on a new language (or on a different corpus than the original train corpus)."
   ]
  },
  {
   "cell_type": "code",
   "execution_count": null,
   "metadata": {
    "id": "7m_CRtH46BjO"
   },
   "outputs": [],
   "source": [
    "# Use the smaller learning rate we set before\n",
    "restored_model.setup_optimization(optim_config=new_opt)\n",
    "\n",
    "# Point to the data we'll use for fine-tuning as the training set\n",
    "restored_model.setup_training_data(train_data_config=params['model']['train_ds'])\n",
    "\n",
    "# Point to the new validation data for fine-tuning\n",
    "restored_model.setup_validation_data(val_data_config=params['model']['validation_ds'])\n",
    "\n",
    "# Freeze the encoder layers (should not be done for finetuning, only done for demo)\n",
    "restored_model.encoder.freeze()"
   ]
  },
  {
   "cell_type": "code",
   "execution_count": null,
   "metadata": {
    "id": "uCmUWZLD63d9"
   },
   "outputs": [],
   "source": [
    "# Load the TensorBoard notebook extension\n",
    "if COLAB_ENV:\n",
    "  %load_ext tensorboard\n",
    "  %tensorboard --logdir lightning_logs/\n",
    "else:\n",
    "  print(\"To use tensorboard, please use this notebook in a Google Colab environment.\")"
   ]
  },
  {
   "cell_type": "code",
   "execution_count": null,
   "metadata": {
    "id": "fs2aK7xB6pAd"
   },
   "outputs": [],
   "source": [
    "# And now we can create a PyTorch Lightning trainer and call `fit` again.\n",
    "trainer = pl.Trainer(gpus=1, max_epochs=20)\n",
    "trainer.fit(restored_model)"
   ]
  },
  {
   "cell_type": "markdown",
   "metadata": {
    "id": "a33WIRR9B_gR"
   },
   "source": [
    "So we get fast convergence even though the decoder vocabulary is double the size and we freeze the encoder."
   ]
  },
  {
   "cell_type": "markdown",
   "metadata": {
    "id": "alykABQ3CNpf"
   },
   "source": [
    "### Fast Training\n",
    "\n",
    "Last but not least, we could simply speed up training our model! If you have the resources, you can speed up training by splitting the workload across multiple GPUs. Otherwise (or in addition), there's always mixed precision training, which allows you to increase your batch size.\n",
    "\n",
    "You can use [PyTorch Lightning's Trainer object](https://pytorch-lightning.readthedocs.io/en/latest/common/trainer.html?highlight=Trainer) to handle mixed-precision and distributed training for you. Below are some examples of flags you would pass to the `Trainer` to use these features:\n",
    "\n",
    "```python\n",
    "# Mixed precision:\n",
    "trainer = pl.Trainer(amp_level='O1', precision=16)\n",
    "\n",
    "# Trainer with a distributed backend:\n",
    "trainer = pl.Trainer(gpus=2, num_nodes=2, accelerator='ddp')\n",
    "\n",
    "# Of course, you can combine these flags as well.\n",
    "```\n",
    "\n",
    "Finally, have a look at [example scripts in NeMo repository](https://github.com/NVIDIA/NeMo/blob/stable/examples/asr/speech_to_text_bpe.py) which can handle mixed precision and distributed training using command-line arguments."
   ]
  },
  {
   "cell_type": "markdown",
   "metadata": {
    "id": "4uQGWtRJDF0O"
   },
   "source": [
    "## Under the Hood\n",
    "\n",
    "NeMo is open-source and we do all our model development in the open, so you can inspect our code if you wish.\n",
    "\n",
    "In particular, ``nemo_asr.model.EncDecCTCModelBPE`` is an encoder-decoder model which is constructed using several ``Neural Modules`` taken from ``nemo_asr.modules.`` Here is what its forward pass looks like:\n",
    "```python\n",
    "def forward(self, input_signal, input_signal_length):\n",
    "    processed_signal, processed_signal_len = self.preprocessor(\n",
    "        input_signal=input_signal, length=input_signal_length,\n",
    "    )\n",
    "    # Spec augment is not applied during evaluation/testing\n",
    "    if self.spec_augmentation is not None and self.training:\n",
    "        processed_signal = self.spec_augmentation(input_spec=processed_signal)\n",
    "    encoded, encoded_len = self.encoder(audio_signal=processed_signal, length=processed_signal_len)\n",
    "    log_probs = self.decoder(encoder_output=encoded)\n",
    "    greedy_predictions = log_probs.argmax(dim=-1, keepdim=False)\n",
    "    return log_probs, encoded_len, greedy_predictions\n",
    "```\n",
    "Here:\n",
    "\n",
    "* ``self.preprocessor`` is an instance of ``nemo_asr.modules.AudioToMelSpectrogramPreprocessor``, which is a neural module that takes audio signal and converts it into a Mel-Spectrogram\n",
    "* ``self.spec_augmentation`` - is a neural module of type ```nemo_asr.modules.SpectrogramAugmentation``, which implements data augmentation. \n",
    "* ``self.encoder`` - is a convolutional Jasper, QuartzNet or Citrinet-like encoder of type ``nemo_asr.modules.ConvASREncoder``\n",
    "* ``self.decoder`` - is a ``nemo_asr.modules.ConvASRDecoder`` which simply projects into the target alphabet (vocabulary).\n",
    "\n",
    "Also, ``EncDecCTCModelBPE`` uses the audio dataset class ``nemo_asr.data.AudioToBPEDataset`` and CTC loss implemented in ``nemo_asr.losses.CTCLoss``.\n",
    "\n",
    "You can use these and other neural modules (or create new ones yourself!) to construct new ASR models."
   ]
  },
  {
   "cell_type": "markdown",
   "metadata": {
    "id": "5kKcSb7LDdI3"
   },
   "source": [
    "# Further Reading/Watching:\n",
    "\n",
    "That's all for now! If you'd like to learn more about the topics covered in this tutorial, here are some resources that may interest you:\n",
    "- [Stanford Lecture on ASR](https://www.youtube.com/watch?v=3MjIkWxXigM)\n",
    "- [\"An Intuitive Explanation of Connectionist Temporal Classification\"](https://towardsdatascience.com/intuitively-understanding-connectionist-temporal-classification-3797e43a86c)\n",
    "- [Explanation of CTC with Prefix Beam Search](https://medium.com/corti-ai/ctc-networks-and-language-models-prefix-beam-search-explained-c11d1ee23306)\n",
    "- [Byte Pair Encoding](https://arxiv.org/abs/1508.07909)\n",
    "- [Word Piece Encoding](https://static.googleusercontent.com/media/research.google.com/ja//pubs/archive/37842.pdf)\n",
    "- [SentencePiece: A simple and language independent subword tokenizer and detokenizer for Neural Text Processing](https://www.aclweb.org/anthology/D18-2012/)\n",
    "- [Jasper Paper](https://arxiv.org/abs/1904.03288)\n",
    "- [QuartzNet paper](https://arxiv.org/abs/1910.10261)\n",
    "- [SpecAugment Paper](https://arxiv.org/abs/1904.08779)\n",
    "- [Explanation and visualization of SpecAugment](https://towardsdatascience.com/state-of-the-art-audio-data-augmentation-with-google-brains-specaugment-and-pytorch-d3d1a3ce291e)\n",
    "- [Cutout Paper](https://arxiv.org/pdf/1708.04552.pdf)\n",
    "- [Squeeze-and-Excitation Networks](https://arxiv.org/abs/1709.01507)\n",
    "- [Transfer Learning Blogpost](https://developer.nvidia.com/blog/jump-start-training-for-speech-recognition-models-with-nemo/)"
   ]
  }
 ],
 "metadata": {
  "accelerator": "GPU",
  "colab": {
   "collapsed_sections": [],
   "name": "ASR_with_Subword_Tokenization.ipynb",
   "provenance": [],
   "toc_visible": true
  },
  "kernelspec": {
   "display_name": "Python 3",
   "language": "python",
   "name": "python3"
  },
  "language_info": {
   "codemirror_mode": {
    "name": "ipython",
    "version": 3
   },
   "file_extension": ".py",
   "mimetype": "text/x-python",
   "name": "python",
   "nbconvert_exporter": "python",
   "pygments_lexer": "ipython3",
   "version": "3.7.6"
  }
 },
 "nbformat": 4,
 "nbformat_minor": 2
}
