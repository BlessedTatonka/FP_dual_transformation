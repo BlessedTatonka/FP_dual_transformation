{
 "cells": [
  {
   "cell_type": "code",
   "execution_count": 1,
   "metadata": {},
   "outputs": [
    {
     "name": "stdout",
     "output_type": "stream",
     "text": [
      "Requirement already satisfied: wget in /home/boris/anaconda3/lib/python3.7/site-packages (3.2)\n",
      "E: Could not open lock file /var/lib/dpkg/lock-frontend - open (13: Permission denied)\n",
      "E: Unable to acquire the dpkg frontend lock (/var/lib/dpkg/lock-frontend), are you root?\n",
      "Requirement already satisfied: unidecode in /home/boris/anaconda3/lib/python3.7/site-packages (1.2.0)\n",
      "Requirement already satisfied: nemo_toolkit[all] from git+https://github.com/NVIDIA/NeMo.git@main#egg=nemo_toolkit[all] in /home/boris/anaconda3/lib/python3.7/site-packages (1.4.0)\n",
      "Requirement already satisfied: numpy>=1.18.2 in /home/boris/anaconda3/lib/python3.7/site-packages (from nemo_toolkit[all]) (1.19.5)\n",
      "Requirement already satisfied: onnx>=1.7.0 in /home/boris/anaconda3/lib/python3.7/site-packages (from nemo_toolkit[all]) (1.10.1)\n",
      "Requirement already satisfied: scikit-learn in /home/boris/anaconda3/lib/python3.7/site-packages (from nemo_toolkit[all]) (0.22.1)\n",
      "Requirement already satisfied: wget in /home/boris/anaconda3/lib/python3.7/site-packages (from nemo_toolkit[all]) (3.2)\n",
      "Requirement already satisfied: frozendict in /home/boris/anaconda3/lib/python3.7/site-packages (from nemo_toolkit[all]) (2.0.6)\n",
      "Requirement already satisfied: ruamel.yaml in /home/boris/anaconda3/lib/python3.7/site-packages (from nemo_toolkit[all]) (0.15.100)\n",
      "Requirement already satisfied: unidecode in /home/boris/anaconda3/lib/python3.7/site-packages (from nemo_toolkit[all]) (1.2.0)\n",
      "Requirement already satisfied: wrapt in /home/boris/anaconda3/lib/python3.7/site-packages (from nemo_toolkit[all]) (1.12.1)\n",
      "Requirement already satisfied: numba in /home/boris/anaconda3/lib/python3.7/site-packages (from nemo_toolkit[all]) (0.48.0)\n",
      "Requirement already satisfied: torch>1.7 in /home/boris/anaconda3/lib/python3.7/site-packages (from nemo_toolkit[all]) (1.7.1+cu110)\n",
      "Requirement already satisfied: tqdm>=4.41.0 in /home/boris/anaconda3/lib/python3.7/site-packages (from nemo_toolkit[all]) (4.62.3)\n",
      "Requirement already satisfied: python-dateutil in /home/boris/anaconda3/lib/python3.7/site-packages (from nemo_toolkit[all]) (2.8.1)\n",
      "Requirement already satisfied: sentencepiece<1.0.0 in /home/boris/anaconda3/lib/python3.7/site-packages (from nemo_toolkit[all]) (0.1.96)\n",
      "Requirement already satisfied: librosa; extra == \"all\" in /home/boris/anaconda3/lib/python3.7/site-packages (from nemo_toolkit[all]) (0.8.1)\n",
      "Requirement already satisfied: scipy; extra == \"all\" in /home/boris/anaconda3/lib/python3.7/site-packages (from nemo_toolkit[all]) (1.4.1)\n",
      "Requirement already satisfied: h5py; extra == \"all\" in /home/boris/anaconda3/lib/python3.7/site-packages (from nemo_toolkit[all]) (3.1.0)\n",
      "Requirement already satisfied: sox; extra == \"all\" in /home/boris/anaconda3/lib/python3.7/site-packages (from nemo_toolkit[all]) (1.4.1)\n",
      "Requirement already satisfied: sphinx; extra == \"all\" in /home/boris/anaconda3/lib/python3.7/site-packages (from nemo_toolkit[all]) (2.4.0)\n",
      "Requirement already satisfied: pyannote.core; extra == \"all\" in /home/boris/anaconda3/lib/python3.7/site-packages (from nemo_toolkit[all]) (4.2.1)\n",
      "Requirement already satisfied: pangu; extra == \"all\" in /home/boris/anaconda3/lib/python3.7/site-packages (from nemo_toolkit[all]) (4.0.6.1)\n",
      "Requirement already satisfied: wandb; extra == \"all\" in /home/boris/anaconda3/lib/python3.7/site-packages (from nemo_toolkit[all]) (0.12.2)\n",
      "Requirement already satisfied: sphinxcontrib-bibtex; extra == \"all\" in /home/boris/anaconda3/lib/python3.7/site-packages (from nemo_toolkit[all]) (2.4.1)\n",
      "Requirement already satisfied: torch-stft; extra == \"all\" in /home/boris/anaconda3/lib/python3.7/site-packages (from nemo_toolkit[all]) (0.1.4)\n",
      "Requirement already satisfied: matplotlib; extra == \"all\" in /home/boris/anaconda3/lib/python3.7/site-packages (from nemo_toolkit[all]) (3.4.3)\n",
      "Requirement already satisfied: packaging; extra == \"all\" in /home/boris/anaconda3/lib/python3.7/site-packages (from nemo_toolkit[all]) (20.1)\n",
      "Requirement already satisfied: gdown; extra == \"all\" in /home/boris/anaconda3/lib/python3.7/site-packages (from nemo_toolkit[all]) (3.14.0)\n",
      "Requirement already satisfied: megatron-lm==2.2.0; extra == \"all\" in /home/boris/anaconda3/lib/python3.7/site-packages (from nemo_toolkit[all]) (2.2.0)\n",
      "Requirement already satisfied: jieba; extra == \"all\" in /home/boris/anaconda3/lib/python3.7/site-packages (from nemo_toolkit[all]) (0.42.1)\n",
      "Requirement already satisfied: soundfile; extra == \"all\" in /home/boris/anaconda3/lib/python3.7/site-packages (from nemo_toolkit[all]) (0.10.3.post1)\n",
      "Requirement already satisfied: braceexpand; extra == \"all\" in /home/boris/anaconda3/lib/python3.7/site-packages (from nemo_toolkit[all]) (0.1.7)\n",
      "Requirement already satisfied: isort[requirements]<5; extra == \"all\" in /home/boris/anaconda3/lib/python3.7/site-packages (from nemo_toolkit[all]) (4.3.21)\n",
      "Requirement already satisfied: youtokentome>=1.0.5; extra == \"all\" in /home/boris/anaconda3/lib/python3.7/site-packages (from nemo_toolkit[all]) (1.0.6)\n",
      "Requirement already satisfied: pytest; extra == \"all\" in /home/boris/anaconda3/lib/python3.7/site-packages (from nemo_toolkit[all]) (5.3.5)\n",
      "Requirement already satisfied: transformers>=4.0.1; extra == \"all\" in /home/boris/anaconda3/lib/python3.7/site-packages (from nemo_toolkit[all]) (4.8.2)\n",
      "Requirement already satisfied: inflect; extra == \"all\" in /home/boris/anaconda3/lib/python3.7/site-packages (from nemo_toolkit[all]) (5.3.0)\n",
      "Requirement already satisfied: webdataset<=0.1.62,>=0.1.48; extra == \"all\" in /home/boris/anaconda3/lib/python3.7/site-packages (from nemo_toolkit[all]) (0.1.62)\n",
      "Requirement already satisfied: hydra-core>=1.1.0; extra == \"all\" in /home/boris/anaconda3/lib/python3.7/site-packages (from nemo_toolkit[all]) (1.1.1)\n",
      "Requirement already satisfied: kaldi-io; extra == \"all\" in /home/boris/anaconda3/lib/python3.7/site-packages (from nemo_toolkit[all]) (0.9.4)\n",
      "Requirement already satisfied: pytest-runner; extra == \"all\" in /home/boris/anaconda3/lib/python3.7/site-packages (from nemo_toolkit[all]) (5.3.1)\n",
      "Collecting pytorch-lightning<1.5,>=1.4.8; extra == \"all\"\n",
      "  Using cached pytorch_lightning-1.4.9-py3-none-any.whl (925 kB)\n",
      "Requirement already satisfied: pystoi; extra == \"all\" in /home/boris/anaconda3/lib/python3.7/site-packages (from nemo_toolkit[all]) (0.3.3)\n",
      "Requirement already satisfied: wordninja==2.0.0; extra == \"all\" in /home/boris/anaconda3/lib/python3.7/site-packages (from nemo_toolkit[all]) (2.0.0)\n",
      "Requirement already satisfied: rapidfuzz; extra == \"all\" in /home/boris/anaconda3/lib/python3.7/site-packages (from nemo_toolkit[all]) (1.7.0)\n",
      "Requirement already satisfied: torchvision; extra == \"all\" in /home/boris/anaconda3/lib/python3.7/site-packages (from nemo_toolkit[all]) (0.8.2+cu110)\n",
      "Requirement already satisfied: pandas; extra == \"all\" in /home/boris/anaconda3/lib/python3.7/site-packages (from nemo_toolkit[all]) (1.0.1)\n",
      "Requirement already satisfied: kaldi-python-io; extra == \"all\" in /home/boris/anaconda3/lib/python3.7/site-packages (from nemo_toolkit[all]) (1.2.2)\n",
      "Requirement already satisfied: fasttext; extra == \"all\" in /home/boris/anaconda3/lib/python3.7/site-packages (from nemo_toolkit[all]) (0.9.2)\n",
      "Requirement already satisfied: editdistance; extra == \"all\" in /home/boris/anaconda3/lib/python3.7/site-packages (from nemo_toolkit[all]) (0.5.3)\n",
      "Requirement already satisfied: opencc; extra == \"all\" in /home/boris/anaconda3/lib/python3.7/site-packages (from nemo_toolkit[all]) (1.1.2)\n",
      "Requirement already satisfied: parameterized; extra == \"all\" in /home/boris/anaconda3/lib/python3.7/site-packages (from nemo_toolkit[all]) (0.8.1)\n",
      "Requirement already satisfied: omegaconf>=2.1.0; extra == \"all\" in /home/boris/anaconda3/lib/python3.7/site-packages (from nemo_toolkit[all]) (2.1.1)\n",
      "Requirement already satisfied: g2p-en; extra == \"all\" in /home/boris/anaconda3/lib/python3.7/site-packages (from nemo_toolkit[all]) (2.1.0)\n",
      "Requirement already satisfied: regex; extra == \"all\" in /home/boris/anaconda3/lib/python3.7/site-packages (from nemo_toolkit[all]) (2021.7.6)\n",
      "Requirement already satisfied: torchmetrics>=0.4.1rc0; extra == \"all\" in /home/boris/anaconda3/lib/python3.7/site-packages (from nemo_toolkit[all]) (0.5.1)\n",
      "Requirement already satisfied: pillow; extra == \"all\" in /home/boris/anaconda3/lib/python3.7/site-packages (from nemo_toolkit[all]) (7.0.0)\n",
      "Requirement already satisfied: nltk; extra == \"all\" in /home/boris/anaconda3/lib/python3.7/site-packages (from nemo_toolkit[all]) (3.6.2)\n",
      "Requirement already satisfied: pypinyin; extra == \"all\" in /home/boris/anaconda3/lib/python3.7/site-packages (from nemo_toolkit[all]) (0.42.0)\n",
      "Requirement already satisfied: black==19.10b0; extra == \"all\" in /home/boris/anaconda3/lib/python3.7/site-packages (from nemo_toolkit[all]) (19.10b0)\n",
      "Requirement already satisfied: marshmallow; extra == \"all\" in /home/boris/anaconda3/lib/python3.7/site-packages (from nemo_toolkit[all]) (3.13.0)\n"
     ]
    },
    {
     "name": "stdout",
     "output_type": "stream",
     "text": [
      "Requirement already satisfied: pyannote.metrics; extra == \"all\" in /home/boris/anaconda3/lib/python3.7/site-packages (from nemo_toolkit[all]) (3.1)\n",
      "Requirement already satisfied: pesq; extra == \"all\" in /home/boris/anaconda3/lib/python3.7/site-packages (from nemo_toolkit[all]) (0.0.3)\n",
      "Requirement already satisfied: ipywidgets; extra == \"all\" in /home/boris/anaconda3/lib/python3.7/site-packages (from nemo_toolkit[all]) (7.5.1)\n",
      "Requirement already satisfied: attrdict; extra == \"all\" in /home/boris/anaconda3/lib/python3.7/site-packages (from nemo_toolkit[all]) (2.0.1)\n",
      "Requirement already satisfied: boto3; extra == \"all\" in /home/boris/anaconda3/lib/python3.7/site-packages (from nemo_toolkit[all]) (1.17.111)\n",
      "Requirement already satisfied: sacrebleu[ja]; extra == \"all\" in /home/boris/anaconda3/lib/python3.7/site-packages (from nemo_toolkit[all]) (2.0.0)\n",
      "Requirement already satisfied: sacremoses>=0.0.43; extra == \"all\" in /home/boris/anaconda3/lib/python3.7/site-packages (from nemo_toolkit[all]) (0.0.45)\n",
      "Requirement already satisfied: kaldiio; extra == \"all\" in /home/boris/anaconda3/lib/python3.7/site-packages (from nemo_toolkit[all]) (2.17.2)\n",
      "Requirement already satisfied: pydub; extra == \"all\" in /home/boris/anaconda3/lib/python3.7/site-packages (from nemo_toolkit[all]) (0.25.1)\n",
      "Requirement already satisfied: six in /home/boris/anaconda3/lib/python3.7/site-packages (from onnx>=1.7.0->nemo_toolkit[all]) (1.15.0)\n",
      "Requirement already satisfied: protobuf in /home/boris/anaconda3/lib/python3.7/site-packages (from onnx>=1.7.0->nemo_toolkit[all]) (3.17.3)\n",
      "Requirement already satisfied: typing-extensions>=3.6.2.1 in /home/boris/anaconda3/lib/python3.7/site-packages (from onnx>=1.7.0->nemo_toolkit[all]) (3.7.4.3)\n",
      "Requirement already satisfied: joblib>=0.11 in /home/boris/anaconda3/lib/python3.7/site-packages (from scikit-learn->nemo_toolkit[all]) (0.14.1)\n",
      "Requirement already satisfied: llvmlite<0.32.0,>=0.31.0dev0 in /home/boris/anaconda3/lib/python3.7/site-packages (from numba->nemo_toolkit[all]) (0.31.0)\n",
      "Requirement already satisfied: setuptools in /home/boris/anaconda3/lib/python3.7/site-packages (from numba->nemo_toolkit[all]) (45.2.0.post20200210)\n",
      "Requirement already satisfied: resampy>=0.2.2 in /home/boris/anaconda3/lib/python3.7/site-packages (from librosa; extra == \"all\"->nemo_toolkit[all]) (0.2.2)\n",
      "Requirement already satisfied: decorator>=3.0.0 in /home/boris/anaconda3/lib/python3.7/site-packages (from librosa; extra == \"all\"->nemo_toolkit[all]) (4.4.1)\n",
      "Requirement already satisfied: pooch>=1.0 in /home/boris/anaconda3/lib/python3.7/site-packages (from librosa; extra == \"all\"->nemo_toolkit[all]) (1.5.1)\n",
      "Requirement already satisfied: audioread>=2.0.0 in /home/boris/anaconda3/lib/python3.7/site-packages (from librosa; extra == \"all\"->nemo_toolkit[all]) (2.1.9)\n",
      "Requirement already satisfied: cached-property; python_version < \"3.8\" in /home/boris/anaconda3/lib/python3.7/site-packages (from h5py; extra == \"all\"->nemo_toolkit[all]) (1.5.2)\n",
      "Requirement already satisfied: alabaster<0.8,>=0.7 in /home/boris/anaconda3/lib/python3.7/site-packages (from sphinx; extra == \"all\"->nemo_toolkit[all]) (0.7.12)\n",
      "Requirement already satisfied: sphinxcontrib-devhelp in /home/boris/anaconda3/lib/python3.7/site-packages (from sphinx; extra == \"all\"->nemo_toolkit[all]) (1.0.1)\n",
      "Requirement already satisfied: sphinxcontrib-jsmath in /home/boris/anaconda3/lib/python3.7/site-packages (from sphinx; extra == \"all\"->nemo_toolkit[all]) (1.0.1)\n",
      "Requirement already satisfied: sphinxcontrib-qthelp in /home/boris/anaconda3/lib/python3.7/site-packages (from sphinx; extra == \"all\"->nemo_toolkit[all]) (1.0.2)\n",
      "Requirement already satisfied: snowballstemmer>=1.1 in /home/boris/anaconda3/lib/python3.7/site-packages (from sphinx; extra == \"all\"->nemo_toolkit[all]) (2.0.0)\n",
      "Requirement already satisfied: sphinxcontrib-serializinghtml in /home/boris/anaconda3/lib/python3.7/site-packages (from sphinx; extra == \"all\"->nemo_toolkit[all]) (1.1.3)\n",
      "Requirement already satisfied: sphinxcontrib-htmlhelp in /home/boris/anaconda3/lib/python3.7/site-packages (from sphinx; extra == \"all\"->nemo_toolkit[all]) (1.0.2)\n",
      "Requirement already satisfied: imagesize in /home/boris/anaconda3/lib/python3.7/site-packages (from sphinx; extra == \"all\"->nemo_toolkit[all]) (1.2.0)\n",
      "Requirement already satisfied: sphinxcontrib-applehelp in /home/boris/anaconda3/lib/python3.7/site-packages (from sphinx; extra == \"all\"->nemo_toolkit[all]) (1.0.1)\n",
      "Requirement already satisfied: requests>=2.5.0 in /home/boris/anaconda3/lib/python3.7/site-packages (from sphinx; extra == \"all\"->nemo_toolkit[all]) (2.22.0)\n",
      "Requirement already satisfied: Pygments>=2.0 in /home/boris/anaconda3/lib/python3.7/site-packages (from sphinx; extra == \"all\"->nemo_toolkit[all]) (2.2.0)\n",
      "Requirement already satisfied: docutils>=0.12 in /home/boris/anaconda3/lib/python3.7/site-packages (from sphinx; extra == \"all\"->nemo_toolkit[all]) (0.16)\n",
      "Requirement already satisfied: babel!=2.0,>=1.3 in /home/boris/anaconda3/lib/python3.7/site-packages (from sphinx; extra == \"all\"->nemo_toolkit[all]) (2.9.1)\n",
      "Requirement already satisfied: Jinja2>=2.3 in /home/boris/anaconda3/lib/python3.7/site-packages (from sphinx; extra == \"all\"->nemo_toolkit[all]) (2.11.1)\n",
      "Requirement already satisfied: sortedcontainers>=2.0.4 in /home/boris/anaconda3/lib/python3.7/site-packages (from pyannote.core; extra == \"all\"->nemo_toolkit[all]) (2.1.0)\n",
      "Requirement already satisfied: simplejson>=3.8.1 in /home/boris/anaconda3/lib/python3.7/site-packages (from pyannote.core; extra == \"all\"->nemo_toolkit[all]) (3.17.5)\n",
      "Requirement already satisfied: sentry-sdk>=1.0.0 in /home/boris/anaconda3/lib/python3.7/site-packages (from wandb; extra == \"all\"->nemo_toolkit[all]) (1.4.3)\n",
      "Requirement already satisfied: configparser>=3.8.1 in /home/boris/anaconda3/lib/python3.7/site-packages (from wandb; extra == \"all\"->nemo_toolkit[all]) (5.0.2)\n",
      "Requirement already satisfied: psutil>=5.0.0 in /home/boris/anaconda3/lib/python3.7/site-packages (from wandb; extra == \"all\"->nemo_toolkit[all]) (5.6.7)\n",
      "Requirement already satisfied: Click!=8.0.0,>=7.0 in /home/boris/anaconda3/lib/python3.7/site-packages (from wandb; extra == \"all\"->nemo_toolkit[all]) (7.0)\n",
      "Requirement already satisfied: promise<3,>=2.0 in /home/boris/anaconda3/lib/python3.7/site-packages (from wandb; extra == \"all\"->nemo_toolkit[all]) (2.3)\n",
      "Requirement already satisfied: PyYAML in /home/boris/anaconda3/lib/python3.7/site-packages (from wandb; extra == \"all\"->nemo_toolkit[all]) (5.3)\n",
      "Requirement already satisfied: shortuuid>=0.5.0 in /home/boris/anaconda3/lib/python3.7/site-packages (from wandb; extra == \"all\"->nemo_toolkit[all]) (1.0.1)\n",
      "Requirement already satisfied: subprocess32>=3.5.3 in /home/boris/anaconda3/lib/python3.7/site-packages (from wandb; extra == \"all\"->nemo_toolkit[all]) (3.5.4)\n",
      "Requirement already satisfied: pathtools in /home/boris/anaconda3/lib/python3.7/site-packages (from wandb; extra == \"all\"->nemo_toolkit[all]) (0.1.2)\n",
      "Requirement already satisfied: yaspin>=1.0.0 in /home/boris/anaconda3/lib/python3.7/site-packages (from wandb; extra == \"all\"->nemo_toolkit[all]) (2.1.0)\n",
      "Requirement already satisfied: GitPython>=1.0.0 in /home/boris/anaconda3/lib/python3.7/site-packages (from wandb; extra == \"all\"->nemo_toolkit[all]) (3.1.24)\n",
      "Requirement already satisfied: docker-pycreds>=0.4.0 in /home/boris/anaconda3/lib/python3.7/site-packages (from wandb; extra == \"all\"->nemo_toolkit[all]) (0.4.0)\n",
      "Requirement already satisfied: pybtex>=0.20 in /home/boris/anaconda3/lib/python3.7/site-packages (from sphinxcontrib-bibtex; extra == \"all\"->nemo_toolkit[all]) (0.24.0)\n",
      "Requirement already satisfied: pybtex-docutils>=1.0.0 in /home/boris/anaconda3/lib/python3.7/site-packages (from sphinxcontrib-bibtex; extra == \"all\"->nemo_toolkit[all]) (1.0.1)\n",
      "Requirement already satisfied: kiwisolver>=1.0.1 in /home/boris/anaconda3/lib/python3.7/site-packages (from matplotlib; extra == \"all\"->nemo_toolkit[all]) (1.1.0)\n",
      "Requirement already satisfied: pyparsing>=2.2.1 in /home/boris/anaconda3/lib/python3.7/site-packages (from matplotlib; extra == \"all\"->nemo_toolkit[all]) (2.4.6)\n",
      "Requirement already satisfied: cycler>=0.10 in /home/boris/anaconda3/lib/python3.7/site-packages (from matplotlib; extra == \"all\"->nemo_toolkit[all]) (0.10.0)\n",
      "Requirement already satisfied: filelock in /home/boris/anaconda3/lib/python3.7/site-packages (from gdown; extra == \"all\"->nemo_toolkit[all]) (3.0.12)\n",
      "Requirement already satisfied: pybind11 in /home/boris/anaconda3/lib/python3.7/site-packages (from megatron-lm==2.2.0; extra == \"all\"->nemo_toolkit[all]) (2.7.1)\n",
      "Requirement already satisfied: cffi>=1.0 in /home/boris/anaconda3/lib/python3.7/site-packages (from soundfile; extra == \"all\"->nemo_toolkit[all]) (1.14.0)\n",
      "Requirement already satisfied: pipreqs; extra == \"requirements\" in /home/boris/anaconda3/lib/python3.7/site-packages (from isort[requirements]<5; extra == \"all\"->nemo_toolkit[all]) (0.4.10)\n",
      "Requirement already satisfied: pip-api; extra == \"requirements\" in /home/boris/anaconda3/lib/python3.7/site-packages (from isort[requirements]<5; extra == \"all\"->nemo_toolkit[all]) (0.0.22)\n",
      "Requirement already satisfied: py>=1.5.0 in /home/boris/anaconda3/lib/python3.7/site-packages (from pytest; extra == \"all\"->nemo_toolkit[all]) (1.8.1)\n",
      "Requirement already satisfied: attrs>=17.4.0 in /home/boris/anaconda3/lib/python3.7/site-packages (from pytest; extra == \"all\"->nemo_toolkit[all]) (21.2.0)\n"
     ]
    },
    {
     "name": "stdout",
     "output_type": "stream",
     "text": [
      "Requirement already satisfied: more-itertools>=4.0.0 in /home/boris/anaconda3/lib/python3.7/site-packages (from pytest; extra == \"all\"->nemo_toolkit[all]) (8.2.0)\n",
      "Requirement already satisfied: pluggy<1.0,>=0.12 in /home/boris/anaconda3/lib/python3.7/site-packages (from pytest; extra == \"all\"->nemo_toolkit[all]) (0.13.1)\n",
      "Requirement already satisfied: wcwidth in /home/boris/anaconda3/lib/python3.7/site-packages (from pytest; extra == \"all\"->nemo_toolkit[all]) (0.1.8)\n",
      "Requirement already satisfied: importlib-metadata>=0.12 in /home/boris/anaconda3/lib/python3.7/site-packages (from pytest; extra == \"all\"->nemo_toolkit[all]) (1.5.0)\n",
      "Requirement already satisfied: tokenizers<0.11,>=0.10.1 in /home/boris/anaconda3/lib/python3.7/site-packages (from transformers>=4.0.1; extra == \"all\"->nemo_toolkit[all]) (0.10.3)\n",
      "Requirement already satisfied: huggingface-hub==0.0.12 in /home/boris/anaconda3/lib/python3.7/site-packages (from transformers>=4.0.1; extra == \"all\"->nemo_toolkit[all]) (0.0.12)\n",
      "Requirement already satisfied: antlr4-python3-runtime==4.8 in /home/boris/anaconda3/lib/python3.7/site-packages (from hydra-core>=1.1.0; extra == \"all\"->nemo_toolkit[all]) (4.8)\n",
      "Requirement already satisfied: importlib-resources; python_version < \"3.9\" in /home/boris/anaconda3/lib/python3.7/site-packages (from hydra-core>=1.1.0; extra == \"all\"->nemo_toolkit[all]) (5.2.2)\n",
      "Requirement already satisfied: tensorboard>=2.2.0 in /home/boris/anaconda3/lib/python3.7/site-packages (from pytorch-lightning<1.5,>=1.4.8; extra == \"all\"->nemo_toolkit[all]) (2.5.0)\n",
      "Requirement already satisfied: fsspec[http]!=2021.06.0,>=2021.05.0 in /home/boris/anaconda3/lib/python3.7/site-packages (from pytorch-lightning<1.5,>=1.4.8; extra == \"all\"->nemo_toolkit[all]) (2021.7.0)\n",
      "Requirement already satisfied: future>=0.17.1 in /home/boris/anaconda3/lib/python3.7/site-packages (from pytorch-lightning<1.5,>=1.4.8; extra == \"all\"->nemo_toolkit[all]) (0.18.2)\n",
      "Requirement already satisfied: pyDeprecate==0.3.1 in /home/boris/anaconda3/lib/python3.7/site-packages (from pytorch-lightning<1.5,>=1.4.8; extra == \"all\"->nemo_toolkit[all]) (0.3.1)\n",
      "Requirement already satisfied: pytz>=2017.2 in /home/boris/anaconda3/lib/python3.7/site-packages (from pandas; extra == \"all\"->nemo_toolkit[all]) (2019.3)\n",
      "Requirement already satisfied: distance>=0.1.3 in /home/boris/anaconda3/lib/python3.7/site-packages (from g2p-en; extra == \"all\"->nemo_toolkit[all]) (0.1.3)\n",
      "Requirement already satisfied: pathspec<1,>=0.6 in /home/boris/anaconda3/lib/python3.7/site-packages (from black==19.10b0; extra == \"all\"->nemo_toolkit[all]) (0.9.0)\n",
      "Requirement already satisfied: toml>=0.9.4 in /home/boris/anaconda3/lib/python3.7/site-packages (from black==19.10b0; extra == \"all\"->nemo_toolkit[all]) (0.10.2)\n",
      "Requirement already satisfied: appdirs in /home/boris/anaconda3/lib/python3.7/site-packages (from black==19.10b0; extra == \"all\"->nemo_toolkit[all]) (1.4.4)\n",
      "Requirement already satisfied: typed-ast>=1.4.0 in /home/boris/anaconda3/lib/python3.7/site-packages (from black==19.10b0; extra == \"all\"->nemo_toolkit[all]) (1.4.3)\n",
      "Requirement already satisfied: docopt>=0.6.2 in /home/boris/anaconda3/lib/python3.7/site-packages (from pyannote.metrics; extra == \"all\"->nemo_toolkit[all]) (0.6.2)\n",
      "Requirement already satisfied: tabulate>=0.7.7 in /home/boris/anaconda3/lib/python3.7/site-packages (from pyannote.metrics; extra == \"all\"->nemo_toolkit[all]) (0.8.9)\n",
      "Requirement already satisfied: pyannote.database>=4.0.1 in /home/boris/anaconda3/lib/python3.7/site-packages (from pyannote.metrics; extra == \"all\"->nemo_toolkit[all]) (4.1.1)\n",
      "Requirement already satisfied: sympy>=1.1 in /home/boris/anaconda3/lib/python3.7/site-packages (from pyannote.metrics; extra == \"all\"->nemo_toolkit[all]) (1.5.1)\n",
      "Requirement already satisfied: nbformat>=4.2.0 in /home/boris/anaconda3/lib/python3.7/site-packages (from ipywidgets; extra == \"all\"->nemo_toolkit[all]) (5.0.4)\n",
      "Requirement already satisfied: ipython>=4.0.0; python_version >= \"3.3\" in /home/boris/anaconda3/lib/python3.7/site-packages (from ipywidgets; extra == \"all\"->nemo_toolkit[all]) (7.12.0)\n",
      "Requirement already satisfied: traitlets>=4.3.1 in /home/boris/anaconda3/lib/python3.7/site-packages (from ipywidgets; extra == \"all\"->nemo_toolkit[all]) (4.3.3)\n",
      "Requirement already satisfied: widgetsnbextension~=3.5.0 in /home/boris/anaconda3/lib/python3.7/site-packages (from ipywidgets; extra == \"all\"->nemo_toolkit[all]) (3.5.1)\n",
      "Requirement already satisfied: ipykernel>=4.5.1 in /home/boris/anaconda3/lib/python3.7/site-packages (from ipywidgets; extra == \"all\"->nemo_toolkit[all]) (5.1.4)\n",
      "Requirement already satisfied: botocore<1.21.0,>=1.20.111 in /home/boris/anaconda3/lib/python3.7/site-packages (from boto3; extra == \"all\"->nemo_toolkit[all]) (1.20.111)\n",
      "Requirement already satisfied: s3transfer<0.5.0,>=0.4.0 in /home/boris/anaconda3/lib/python3.7/site-packages (from boto3; extra == \"all\"->nemo_toolkit[all]) (0.4.2)\n",
      "Requirement already satisfied: jmespath<1.0.0,>=0.7.1 in /home/boris/anaconda3/lib/python3.7/site-packages (from boto3; extra == \"all\"->nemo_toolkit[all]) (0.10.0)\n",
      "Requirement already satisfied: portalocker in /home/boris/anaconda3/lib/python3.7/site-packages (from sacrebleu[ja]; extra == \"all\"->nemo_toolkit[all]) (2.3.2)\n",
      "Requirement already satisfied: colorama in /home/boris/anaconda3/lib/python3.7/site-packages (from sacrebleu[ja]; extra == \"all\"->nemo_toolkit[all]) (0.4.3)\n",
      "Requirement already satisfied: ipadic<2.0,>=1.0; extra == \"ja\" in /home/boris/anaconda3/lib/python3.7/site-packages (from sacrebleu[ja]; extra == \"all\"->nemo_toolkit[all]) (1.0.0)\n",
      "Requirement already satisfied: mecab-python3==1.0.3; extra == \"ja\" in /home/boris/anaconda3/lib/python3.7/site-packages (from sacrebleu[ja]; extra == \"all\"->nemo_toolkit[all]) (1.0.3)\n",
      "Requirement already satisfied: chardet<3.1.0,>=3.0.2 in /home/boris/anaconda3/lib/python3.7/site-packages (from requests>=2.5.0->sphinx; extra == \"all\"->nemo_toolkit[all]) (3.0.4)\n",
      "Requirement already satisfied: urllib3!=1.25.0,!=1.25.1,<1.26,>=1.21.1 in /home/boris/anaconda3/lib/python3.7/site-packages (from requests>=2.5.0->sphinx; extra == \"all\"->nemo_toolkit[all]) (1.25.8)\n",
      "Requirement already satisfied: idna<2.9,>=2.5 in /home/boris/anaconda3/lib/python3.7/site-packages (from requests>=2.5.0->sphinx; extra == \"all\"->nemo_toolkit[all]) (2.8)\n",
      "Requirement already satisfied: certifi>=2017.4.17 in /home/boris/anaconda3/lib/python3.7/site-packages (from requests>=2.5.0->sphinx; extra == \"all\"->nemo_toolkit[all]) (2019.11.28)\n",
      "Requirement already satisfied: MarkupSafe>=0.23 in /home/boris/anaconda3/lib/python3.7/site-packages (from Jinja2>=2.3->sphinx; extra == \"all\"->nemo_toolkit[all]) (1.1.1)\n",
      "Requirement already satisfied: termcolor<2.0.0,>=1.1.0 in /home/boris/anaconda3/lib/python3.7/site-packages (from yaspin>=1.0.0->wandb; extra == \"all\"->nemo_toolkit[all]) (1.1.0)\n",
      "Requirement already satisfied: gitdb<5,>=4.0.1 in /home/boris/anaconda3/lib/python3.7/site-packages (from GitPython>=1.0.0->wandb; extra == \"all\"->nemo_toolkit[all]) (4.0.7)\n",
      "Requirement already satisfied: latexcodec>=1.0.4 in /home/boris/anaconda3/lib/python3.7/site-packages (from pybtex>=0.20->sphinxcontrib-bibtex; extra == \"all\"->nemo_toolkit[all]) (2.0.1)\n",
      "Requirement already satisfied: pycparser in /home/boris/anaconda3/lib/python3.7/site-packages (from cffi>=1.0->soundfile; extra == \"all\"->nemo_toolkit[all]) (2.19)\n",
      "Requirement already satisfied: yarg in /home/boris/anaconda3/lib/python3.7/site-packages (from pipreqs; extra == \"requirements\"->isort[requirements]<5; extra == \"all\"->nemo_toolkit[all]) (0.1.9)\n",
      "Requirement already satisfied: pip in /home/boris/anaconda3/lib/python3.7/site-packages (from pip-api; extra == \"requirements\"->isort[requirements]<5; extra == \"all\"->nemo_toolkit[all]) (20.0.2)\n",
      "Requirement already satisfied: zipp>=0.5 in /home/boris/anaconda3/lib/python3.7/site-packages (from importlib-metadata>=0.12->pytest; extra == \"all\"->nemo_toolkit[all]) (3.6.0)\n",
      "Requirement already satisfied: google-auth-oauthlib<0.5,>=0.4.1 in /home/boris/anaconda3/lib/python3.7/site-packages (from tensorboard>=2.2.0->pytorch-lightning<1.5,>=1.4.8; extra == \"all\"->nemo_toolkit[all]) (0.4.4)\n",
      "Requirement already satisfied: tensorboard-data-server<0.7.0,>=0.6.0 in /home/boris/anaconda3/lib/python3.7/site-packages (from tensorboard>=2.2.0->pytorch-lightning<1.5,>=1.4.8; extra == \"all\"->nemo_toolkit[all]) (0.6.1)\n",
      "Requirement already satisfied: grpcio>=1.24.3 in /home/boris/anaconda3/lib/python3.7/site-packages (from tensorboard>=2.2.0->pytorch-lightning<1.5,>=1.4.8; extra == \"all\"->nemo_toolkit[all]) (1.34.1)\n",
      "Requirement already satisfied: absl-py>=0.4 in /home/boris/anaconda3/lib/python3.7/site-packages (from tensorboard>=2.2.0->pytorch-lightning<1.5,>=1.4.8; extra == \"all\"->nemo_toolkit[all]) (0.13.0)\n",
      "Requirement already satisfied: tensorboard-plugin-wit>=1.6.0 in /home/boris/anaconda3/lib/python3.7/site-packages (from tensorboard>=2.2.0->pytorch-lightning<1.5,>=1.4.8; extra == \"all\"->nemo_toolkit[all]) (1.8.0)\n",
      "Requirement already satisfied: google-auth<2,>=1.6.3 in /home/boris/anaconda3/lib/python3.7/site-packages (from tensorboard>=2.2.0->pytorch-lightning<1.5,>=1.4.8; extra == \"all\"->nemo_toolkit[all]) (1.32.1)\n",
      "Requirement already satisfied: markdown>=2.6.8 in /home/boris/anaconda3/lib/python3.7/site-packages (from tensorboard>=2.2.0->pytorch-lightning<1.5,>=1.4.8; extra == \"all\"->nemo_toolkit[all]) (3.3.4)\n",
      "Requirement already satisfied: werkzeug>=0.11.15 in /home/boris/anaconda3/lib/python3.7/site-packages (from tensorboard>=2.2.0->pytorch-lightning<1.5,>=1.4.8; extra == \"all\"->nemo_toolkit[all]) (1.0.0)\n",
      "Requirement already satisfied: wheel>=0.26; python_version >= \"3\" in /home/boris/anaconda3/lib/python3.7/site-packages (from tensorboard>=2.2.0->pytorch-lightning<1.5,>=1.4.8; extra == \"all\"->nemo_toolkit[all]) (0.36.2)\n",
      "Requirement already satisfied: aiohttp; extra == \"http\" in /home/boris/anaconda3/lib/python3.7/site-packages (from fsspec[http]!=2021.06.0,>=2021.05.0->pytorch-lightning<1.5,>=1.4.8; extra == \"all\"->nemo_toolkit[all]) (3.7.4.post0)\n",
      "Requirement already satisfied: typer[all]>=0.2.1 in /home/boris/anaconda3/lib/python3.7/site-packages (from pyannote.database>=4.0.1->pyannote.metrics; extra == \"all\"->nemo_toolkit[all]) (0.4.0)\n",
      "Requirement already satisfied: mpmath>=0.19 in /home/boris/anaconda3/lib/python3.7/site-packages (from sympy>=1.1->pyannote.metrics; extra == \"all\"->nemo_toolkit[all]) (1.1.0)\n"
     ]
    },
    {
     "name": "stdout",
     "output_type": "stream",
     "text": [
      "Requirement already satisfied: ipython-genutils in /home/boris/anaconda3/lib/python3.7/site-packages (from nbformat>=4.2.0->ipywidgets; extra == \"all\"->nemo_toolkit[all]) (0.2.0)\n",
      "Requirement already satisfied: jsonschema!=2.5.0,>=2.4 in /home/boris/anaconda3/lib/python3.7/site-packages (from nbformat>=4.2.0->ipywidgets; extra == \"all\"->nemo_toolkit[all]) (3.2.0)\n",
      "Requirement already satisfied: jupyter-core in /home/boris/anaconda3/lib/python3.7/site-packages (from nbformat>=4.2.0->ipywidgets; extra == \"all\"->nemo_toolkit[all]) (4.6.1)\n",
      "Requirement already satisfied: prompt-toolkit!=3.0.0,!=3.0.1,<3.1.0,>=2.0.0 in /home/boris/anaconda3/lib/python3.7/site-packages (from ipython>=4.0.0; python_version >= \"3.3\"->ipywidgets; extra == \"all\"->nemo_toolkit[all]) (3.0.3)\n",
      "Requirement already satisfied: pickleshare in /home/boris/anaconda3/lib/python3.7/site-packages (from ipython>=4.0.0; python_version >= \"3.3\"->ipywidgets; extra == \"all\"->nemo_toolkit[all]) (0.7.5)\n",
      "Requirement already satisfied: backcall in /home/boris/anaconda3/lib/python3.7/site-packages (from ipython>=4.0.0; python_version >= \"3.3\"->ipywidgets; extra == \"all\"->nemo_toolkit[all]) (0.2.0)\n",
      "Requirement already satisfied: jedi>=0.10 in /home/boris/anaconda3/lib/python3.7/site-packages (from ipython>=4.0.0; python_version >= \"3.3\"->ipywidgets; extra == \"all\"->nemo_toolkit[all]) (0.14.1)\n",
      "Requirement already satisfied: pexpect; sys_platform != \"win32\" in /home/boris/anaconda3/lib/python3.7/site-packages (from ipython>=4.0.0; python_version >= \"3.3\"->ipywidgets; extra == \"all\"->nemo_toolkit[all]) (4.8.0)\n",
      "Requirement already satisfied: notebook>=4.4.1 in /home/boris/anaconda3/lib/python3.7/site-packages (from widgetsnbextension~=3.5.0->ipywidgets; extra == \"all\"->nemo_toolkit[all]) (6.0.3)\n",
      "Requirement already satisfied: tornado>=4.2 in /home/boris/anaconda3/lib/python3.7/site-packages (from ipykernel>=4.5.1->ipywidgets; extra == \"all\"->nemo_toolkit[all]) (6.1)\n",
      "Requirement already satisfied: jupyter-client in /home/boris/anaconda3/lib/python3.7/site-packages (from ipykernel>=4.5.1->ipywidgets; extra == \"all\"->nemo_toolkit[all]) (5.3.4)\n",
      "Requirement already satisfied: smmap<5,>=3.0.1 in /home/boris/anaconda3/lib/python3.7/site-packages (from gitdb<5,>=4.0.1->GitPython>=1.0.0->wandb; extra == \"all\"->nemo_toolkit[all]) (4.0.0)\n",
      "Requirement already satisfied: requests-oauthlib>=0.7.0 in /home/boris/anaconda3/lib/python3.7/site-packages (from google-auth-oauthlib<0.5,>=0.4.1->tensorboard>=2.2.0->pytorch-lightning<1.5,>=1.4.8; extra == \"all\"->nemo_toolkit[all]) (1.3.0)\n",
      "Requirement already satisfied: pyasn1-modules>=0.2.1 in /home/boris/anaconda3/lib/python3.7/site-packages (from google-auth<2,>=1.6.3->tensorboard>=2.2.0->pytorch-lightning<1.5,>=1.4.8; extra == \"all\"->nemo_toolkit[all]) (0.2.8)\n",
      "Requirement already satisfied: rsa<5,>=3.1.4; python_version >= \"3.6\" in /home/boris/anaconda3/lib/python3.7/site-packages (from google-auth<2,>=1.6.3->tensorboard>=2.2.0->pytorch-lightning<1.5,>=1.4.8; extra == \"all\"->nemo_toolkit[all]) (4.7.2)\n",
      "Requirement already satisfied: cachetools<5.0,>=2.0.0 in /home/boris/anaconda3/lib/python3.7/site-packages (from google-auth<2,>=1.6.3->tensorboard>=2.2.0->pytorch-lightning<1.5,>=1.4.8; extra == \"all\"->nemo_toolkit[all]) (4.2.2)\n",
      "Requirement already satisfied: multidict<7.0,>=4.5 in /home/boris/anaconda3/lib/python3.7/site-packages (from aiohttp; extra == \"http\"->fsspec[http]!=2021.06.0,>=2021.05.0->pytorch-lightning<1.5,>=1.4.8; extra == \"all\"->nemo_toolkit[all]) (5.1.0)\n",
      "Requirement already satisfied: async-timeout<4.0,>=3.0 in /home/boris/anaconda3/lib/python3.7/site-packages (from aiohttp; extra == \"http\"->fsspec[http]!=2021.06.0,>=2021.05.0->pytorch-lightning<1.5,>=1.4.8; extra == \"all\"->nemo_toolkit[all]) (3.0.1)\n",
      "Requirement already satisfied: yarl<2.0,>=1.0 in /home/boris/anaconda3/lib/python3.7/site-packages (from aiohttp; extra == \"http\"->fsspec[http]!=2021.06.0,>=2021.05.0->pytorch-lightning<1.5,>=1.4.8; extra == \"all\"->nemo_toolkit[all]) (1.6.3)\n",
      "Requirement already satisfied: shellingham<2.0.0,>=1.3.0; extra == \"all\" in /home/boris/anaconda3/lib/python3.7/site-packages (from typer[all]>=0.2.1->pyannote.database>=4.0.1->pyannote.metrics; extra == \"all\"->nemo_toolkit[all]) (1.4.0)\n",
      "Requirement already satisfied: pyrsistent>=0.14.0 in /home/boris/anaconda3/lib/python3.7/site-packages (from jsonschema!=2.5.0,>=2.4->nbformat>=4.2.0->ipywidgets; extra == \"all\"->nemo_toolkit[all]) (0.15.7)\n",
      "Requirement already satisfied: parso>=0.5.0 in /home/boris/anaconda3/lib/python3.7/site-packages (from jedi>=0.10->ipython>=4.0.0; python_version >= \"3.3\"->ipywidgets; extra == \"all\"->nemo_toolkit[all]) (0.5.2)\n",
      "Requirement already satisfied: ptyprocess>=0.5 in /home/boris/anaconda3/lib/python3.7/site-packages (from pexpect; sys_platform != \"win32\"->ipython>=4.0.0; python_version >= \"3.3\"->ipywidgets; extra == \"all\"->nemo_toolkit[all]) (0.6.0)\n",
      "Requirement already satisfied: nbconvert in /home/boris/anaconda3/lib/python3.7/site-packages (from notebook>=4.4.1->widgetsnbextension~=3.5.0->ipywidgets; extra == \"all\"->nemo_toolkit[all]) (5.6.1)\n",
      "Requirement already satisfied: prometheus-client in /home/boris/anaconda3/lib/python3.7/site-packages (from notebook>=4.4.1->widgetsnbextension~=3.5.0->ipywidgets; extra == \"all\"->nemo_toolkit[all]) (0.7.1)\n",
      "Requirement already satisfied: pyzmq>=17 in /home/boris/anaconda3/lib/python3.7/site-packages (from notebook>=4.4.1->widgetsnbextension~=3.5.0->ipywidgets; extra == \"all\"->nemo_toolkit[all]) (18.1.1)\n",
      "Requirement already satisfied: terminado>=0.8.1 in /home/boris/anaconda3/lib/python3.7/site-packages (from notebook>=4.4.1->widgetsnbextension~=3.5.0->ipywidgets; extra == \"all\"->nemo_toolkit[all]) (0.8.3)\n",
      "Requirement already satisfied: Send2Trash in /home/boris/anaconda3/lib/python3.7/site-packages (from notebook>=4.4.1->widgetsnbextension~=3.5.0->ipywidgets; extra == \"all\"->nemo_toolkit[all]) (1.5.0)\n",
      "Requirement already satisfied: oauthlib>=3.0.0 in /home/boris/anaconda3/lib/python3.7/site-packages (from requests-oauthlib>=0.7.0->google-auth-oauthlib<0.5,>=0.4.1->tensorboard>=2.2.0->pytorch-lightning<1.5,>=1.4.8; extra == \"all\"->nemo_toolkit[all]) (3.1.1)\n",
      "Requirement already satisfied: pyasn1<0.5.0,>=0.4.6 in /home/boris/anaconda3/lib/python3.7/site-packages (from pyasn1-modules>=0.2.1->google-auth<2,>=1.6.3->tensorboard>=2.2.0->pytorch-lightning<1.5,>=1.4.8; extra == \"all\"->nemo_toolkit[all]) (0.4.8)\n",
      "Requirement already satisfied: testpath in /home/boris/anaconda3/lib/python3.7/site-packages (from nbconvert->notebook>=4.4.1->widgetsnbextension~=3.5.0->ipywidgets; extra == \"all\"->nemo_toolkit[all]) (0.4.4)\n",
      "Requirement already satisfied: pandocfilters>=1.4.1 in /home/boris/anaconda3/lib/python3.7/site-packages (from nbconvert->notebook>=4.4.1->widgetsnbextension~=3.5.0->ipywidgets; extra == \"all\"->nemo_toolkit[all]) (1.4.2)\n",
      "Requirement already satisfied: mistune<2,>=0.8.1 in /home/boris/anaconda3/lib/python3.7/site-packages (from nbconvert->notebook>=4.4.1->widgetsnbextension~=3.5.0->ipywidgets; extra == \"all\"->nemo_toolkit[all]) (0.8.4)\n",
      "Requirement already satisfied: bleach in /home/boris/anaconda3/lib/python3.7/site-packages (from nbconvert->notebook>=4.4.1->widgetsnbextension~=3.5.0->ipywidgets; extra == \"all\"->nemo_toolkit[all]) (4.1.0)\n",
      "Requirement already satisfied: entrypoints>=0.2.2 in /home/boris/anaconda3/lib/python3.7/site-packages (from nbconvert->notebook>=4.4.1->widgetsnbextension~=3.5.0->ipywidgets; extra == \"all\"->nemo_toolkit[all]) (0.3)\n",
      "Requirement already satisfied: defusedxml in /home/boris/anaconda3/lib/python3.7/site-packages (from nbconvert->notebook>=4.4.1->widgetsnbextension~=3.5.0->ipywidgets; extra == \"all\"->nemo_toolkit[all]) (0.6.0)\n",
      "Requirement already satisfied: webencodings in /home/boris/anaconda3/lib/python3.7/site-packages (from bleach->nbconvert->notebook>=4.4.1->widgetsnbextension~=3.5.0->ipywidgets; extra == \"all\"->nemo_toolkit[all]) (0.5.1)\n",
      "Installing collected packages: pytorch-lightning\n",
      "  Attempting uninstall: pytorch-lightning\n",
      "    Found existing installation: pytorch-lightning 1.2.0\n",
      "    Uninstalling pytorch-lightning-1.2.0:\n",
      "      Successfully uninstalled pytorch-lightning-1.2.0\n",
      "Successfully installed pytorch-lightning-1.4.9\n"
     ]
    },
    {
     "data": {
      "text/plain": [
       "'\\nRemember to restart the runtime for the kernel to pick up any upgraded packages (e.g. matplotlib)!\\nAlternatively, you can uncomment the exit() below to crash and restart the kernel, in the case\\nthat you want to use the \"Run All Cells\" (or similar) option.\\n'"
      ]
     },
     "execution_count": 1,
     "metadata": {},
     "output_type": "execute_result"
    }
   ],
   "source": [
    "\"\"\"\n",
    "You can run either this notebook locally (if you have all the dependencies and a GPU) or on Google Colab.\n",
    "\n",
    "Instructions for setting up Colab are as follows:\n",
    "1. Open a new Python 3 notebook.\n",
    "2. Import this notebook from GitHub (File -> Upload Notebook -> \"GITHUB\" tab -> copy/paste GitHub URL)\n",
    "3. Connect to an instance with a GPU (Runtime -> Change runtime type -> select \"GPU\" for hardware accelerator)\n",
    "4. Run this cell to set up dependencies.\n",
    "5. Restart the runtime (Runtime -> Restart Runtime) for any upgraded packages to take effect\n",
    "\"\"\"\n",
    "# If you're using Google Colab and not running locally, run this cell.\n",
    "\n",
    "## Install dependencies\n",
    "!pip install wget\n",
    "!apt-get install sox libsndfile1 ffmpeg\n",
    "!pip install unidecode\n",
    "!pip install matplotlib>=3.3.2\n",
    "\n",
    "## Install NeMo\n",
    "BRANCH = 'main'\n",
    "!python -m pip install git+https://github.com/NVIDIA/NeMo.git@$BRANCH#egg=nemo_toolkit[all]\n",
    "\n",
    "# ## Grab the config we'll use in this example\n",
    "# !mkdir configs\n",
    "# !wget -P configs/ https://raw.githubusercontent.com/NVIDIA/NeMo/$BRANCH/examples/asr/conf/config.yaml\n",
    "\n",
    "\"\"\"\n",
    "Remember to restart the runtime for the kernel to pick up any upgraded packages (e.g. matplotlib)!\n",
    "Alternatively, you can uncomment the exit() below to crash and restart the kernel, in the case\n",
    "that you want to use the \"Run All Cells\" (or similar) option.\n",
    "\"\"\"\n",
    "# exit()"
   ]
  },
  {
   "cell_type": "code",
   "execution_count": 30,
   "metadata": {
    "scrolled": true
   },
   "outputs": [
    {
     "name": "stdout",
     "output_type": "stream",
     "text": [
      "mkdir: cannot create directory ‘configs’: File exists\n",
      "--2021-10-25 14:01:58--  https://raw.githubusercontent.com/NVIDIA/NeMo/main/examples/asr/conf/config.yaml\n",
      "Resolving raw.githubusercontent.com (raw.githubusercontent.com)... 185.199.108.133, 185.199.111.133, 185.199.110.133, ...\n",
      "Connecting to raw.githubusercontent.com (raw.githubusercontent.com)|185.199.108.133|:443... connected.\n",
      "HTTP request sent, awaiting response... 200 OK\n",
      "Length: 4040 (3,9K) [text/plain]\n",
      "Saving to: ‘configs/config.yaml.14’\n",
      "\n",
      "config.yaml.14      100%[===================>]   3,95K  --.-KB/s    in 0s      \n",
      "\n",
      "2021-10-25 14:01:58 (27,6 MB/s) - ‘configs/config.yaml.14’ saved [4040/4040]\n",
      "\n",
      "--2021-10-25 14:01:58--  https://raw.githubusercontent.com/NVIDIA/NeMo/main/examples/asr/conf/quartznet/quartznet_15x5.yaml\n",
      "Resolving raw.githubusercontent.com (raw.githubusercontent.com)... 185.199.108.133, 185.199.111.133, 185.199.110.133, ...\n",
      "Connecting to raw.githubusercontent.com (raw.githubusercontent.com)|185.199.108.133|:443... connected.\n",
      "HTTP request sent, awaiting response... 200 OK\n",
      "Length: 5803 (5,7K) [text/plain]\n",
      "Saving to: ‘configs/quartznet_15x5.yaml.10’\n",
      "\n",
      "quartznet_15x5.yaml 100%[===================>]   5,67K  --.-KB/s    in 0s      \n",
      "\n",
      "2021-10-25 14:01:59 (18,8 MB/s) - ‘configs/quartznet_15x5.yaml.10’ saved [5803/5803]\n",
      "\n",
      "--2021-10-25 14:01:59--  https://raw.githubusercontent.com/NVIDIA/NeMo/main/examples/asr/conf/citrinet/citrinet_512.yaml\n",
      "Resolving raw.githubusercontent.com (raw.githubusercontent.com)... 185.199.108.133, 185.199.111.133, 185.199.110.133, ...\n",
      "Connecting to raw.githubusercontent.com (raw.githubusercontent.com)|185.199.108.133|:443... connected.\n",
      "HTTP request sent, awaiting response... 200 OK\n",
      "Length: 13966 (14K) [text/plain]\n",
      "Saving to: ‘configs/citrinet_512.yaml.9’\n",
      "\n",
      "citrinet_512.yaml.9 100%[===================>]  13,64K  --.-KB/s    in 0,003s  \n",
      "\n",
      "2021-10-25 14:01:59 (3,81 MB/s) - ‘configs/citrinet_512.yaml.9’ saved [13966/13966]\n",
      "\n",
      "--2021-10-25 14:01:59--  https://raw.githubusercontent.com/NVIDIA/NeMo/main/examples/asr/conf/citrinet/config_bpe.yaml\n",
      "Resolving raw.githubusercontent.com (raw.githubusercontent.com)... 185.199.108.133, 185.199.111.133, 185.199.110.133, ...\n",
      "Connecting to raw.githubusercontent.com (raw.githubusercontent.com)|185.199.108.133|:443... connected.\n",
      "HTTP request sent, awaiting response... 200 OK\n",
      "Length: 4098 (4,0K) [text/plain]\n",
      "Saving to: ‘configs/config_bpe.yaml’\n",
      "\n",
      "config_bpe.yaml     100%[===================>]   4,00K  --.-KB/s    in 0s      \n",
      "\n",
      "2021-10-25 14:02:00 (49,4 MB/s) - ‘configs/config_bpe.yaml’ saved [4098/4098]\n",
      "\n"
     ]
    }
   ],
   "source": [
    "# Load model configs\n",
    "BRANCH = 'main'\n",
    "\n",
    "!mkdir configs\n",
    "!wget -P configs/ https://raw.githubusercontent.com/NVIDIA/NeMo/$BRANCH/examples/asr/conf/config.yaml\n",
    "!wget -P configs/ https://raw.githubusercontent.com/NVIDIA/NeMo/$BRANCH/examples/asr/conf/quartznet/quartznet_15x5.yaml\n",
    "!wget -P configs/ https://raw.githubusercontent.com/NVIDIA/NeMo/$BRANCH/examples/asr/conf/citrinet/citrinet_512.yaml\n",
    "!wget -P configs/ https://raw.githubusercontent.com/NVIDIA/NeMo/$BRANCH/examples/asr/conf/citrinet/config_bpe.yaml\n"
   ]
  },
  {
   "cell_type": "code",
   "execution_count": 2,
   "metadata": {
    "scrolled": false
   },
   "outputs": [
    {
     "name": "stderr",
     "output_type": "stream",
     "text": [
      "[NeMo W 2021-10-27 19:24:05 optimizers:47] Apex was not found. Using the lamb optimizer will error out.\n",
      "[NeMo W 2021-10-27 19:24:05 nemo_logging:349] /home/boris/anaconda3/lib/python3.7/site-packages/pydub/utils.py:170: RuntimeWarning: Couldn't find ffmpeg or avconv - defaulting to ffmpeg, but may not work\n",
      "      warn(\"Couldn't find ffmpeg or avconv - defaulting to ffmpeg, but may not work\", RuntimeWarning)\n",
      "    \n",
      "[NeMo W 2021-10-27 19:24:05 nmse_clustering:54] Using eigen decomposition from scipy, upgrade torch to 1.9 or higher for faster clustering\n",
      "################################################################################\n",
      "### WARNING, path does not exist: KALDI_ROOT=/mnt/matylda5/iveselyk/Tools/kaldi-trunk\n",
      "###          (please add 'export KALDI_ROOT=<your_path>' in your $HOME/.profile)\n",
      "###          (or run as: KALDI_ROOT=<your_path> python <your_script>.py)\n",
      "################################################################################\n",
      "\n",
      "[NeMo W 2021-10-27 19:24:05 nemo_logging:349] /home/boris/anaconda3/lib/python3.7/site-packages/torchaudio/backend/utils.py:54: UserWarning: \"sox\" backend is being deprecated. The default backend will be changed to \"sox_io\" backend in 0.8.0 and \"sox\" backend will be removed in 0.9.0. Please migrate to \"sox_io\" backend. Please refer to https://github.com/pytorch/audio/issues/903 for the detail.\n",
      "      '\"sox\" backend is being deprecated. '\n",
      "    \n",
      "[NeMo W 2021-10-27 19:24:05 experimental:28] Module <class 'nemo.collections.asr.data.audio_to_text_dali._AudioTextDALIDataset'> is experimental, not ready for production and is not fully supported. Use at your own risk.\n"
     ]
    }
   ],
   "source": [
    "import glob\n",
    "import os\n",
    "import subprocess\n",
    "import tarfile\n",
    "import wget\n",
    "\n",
    "import numpy as np\n",
    "import pandas as pd\n",
    "\n",
    "from sklearn.model_selection import train_test_split\n",
    "\n",
    "import nemo\n",
    "import nemo.collections.asr as nemo_asr\n",
    "\n",
    "import fastwer\n",
    "\n",
    "import json\n",
    "import librosa\n",
    "\n",
    "import librosa\n",
    "import json\n",
    "import copy\n",
    "\n",
    "from omegaconf import DictConfig\n",
    "import copy"
   ]
  },
  {
   "cell_type": "code",
   "execution_count": 3,
   "metadata": {},
   "outputs": [],
   "source": [
    "data_dir = '../../'\n",
    "datasets_dir = '../../datasets/'"
   ]
  },
  {
   "cell_type": "code",
   "execution_count": null,
   "metadata": {},
   "outputs": [],
   "source": [
    "# --- Building Manifest Files --- #\n",
    "\n",
    "# Function to build a manifest\n",
    "def build_manifest(transcripts_path, manifest_path, wav_path):\n",
    "    metadata_df = pd.DataFrame(columns=['file_name', 'transcript'])\n",
    "    with open(transcripts_path, 'r') as fin:\n",
    "        with open(manifest_path, 'w') as fout:\n",
    "            for line in fin:\n",
    "                # Lines look like this:\n",
    "                # <s> transcript </s> (fileID)\n",
    "                transcript = line[: line.find('(')-1].lower()\n",
    "                transcript = transcript.replace('<s>', '').replace('</s>', '')\n",
    "                transcript = transcript.strip()\n",
    "\n",
    "                file_id = line[line.find('(')+1 : -2]  # e.g. \"cen4-fash-b\"\n",
    "                audio_path = os.path.join(\n",
    "                    data_dir, wav_path,\n",
    "                    file_id[file_id.find('-')+1 : file_id.rfind('-')],\n",
    "                    file_id + '.wav')\n",
    "\n",
    "                duration = librosa.core.get_duration(filename=audio_path)\n",
    "\n",
    "                # Write the metadata to the manifest\n",
    "                metadata = {\n",
    "                    \"audio_filepath\": audio_path,\n",
    "                    \"duration\": duration,\n",
    "                    \"text\": transcript\n",
    "                }\n",
    "                metadata_df = metadata_df.append(pd.DataFrame({'file_name':audio_path, 'transcript':transcript}, index=[1]), \\\n",
    "                                                 ignore_index=True)\n",
    "                json.dump(metadata, fout)\n",
    "                fout.write('\\n')\n",
    "    metadata_df.to_csv(datasets_dir + 'an4/metadata.csv')\n",
    "    \n",
    "    \n",
    "# Building Manifests\n",
    "print(\"******\")\n",
    "train_transcripts = datasets_dir + 'an4/etc/an4_train.transcription'\n",
    "train_manifest_an4 = datasets_dir + 'an4/train_manifest.json'\n",
    "build_manifest(train_transcripts, train_manifest_an4, 'datasets/an4/wav/an4_clstk')\n",
    "print(\"Training manifest created.\")\n",
    "\n",
    "test_transcripts = datasets_dir + '/an4/etc/an4_test.transcription'\n",
    "test_manifest_an4 = datasets_dir + '/an4/test_manifest.json'\n",
    "build_manifest(test_transcripts, test_manifest_an4, 'datasets/an4/wav/an4test_clstk')\n",
    "print(\"Test manifest created.\")\n",
    "print(\"***Done***\")"
   ]
  },
  {
   "cell_type": "code",
   "execution_count": 4,
   "metadata": {
    "scrolled": false
   },
   "outputs": [
    {
     "name": "stdout",
     "output_type": "stream",
     "text": [
      "******\n",
      "Manifests created.\n"
     ]
    }
   ],
   "source": [
    "# --- Building Manifest Files For LJSpeech --- #\n",
    "\n",
    "# Function to build a manifest\n",
    "def build_manifest(transcripts_path, manifest_path, wav_path, test_size=0.2, random_state=42):\n",
    "    with open(transcripts_path, 'r') as fin:\n",
    "        metadata = pd.read_csv(fin, sep='|', names=['file_name', 'transcript', 'normalized'])\n",
    "        metadata['transcript'] = metadata['transcript'].apply(lambda x: x.lower())\n",
    "        metadata_train, metadata_test = train_test_split(metadata, test_size=test_size, random_state=random_state)\n",
    "        for m, m_path in [(metadata_train, 'train_manifest.json'), (metadata_test, 'test_manifest.json')]:\n",
    "            with open(manifest_path + m_path, 'w') as fout:\n",
    "                for row in m.iterrows():\n",
    "                    file_id = row[1]['file_name']  # e.g. \"cen4-fash-b\"\n",
    "                    audio_path = os.path.join(\n",
    "                        manifest_path, wav_path, file_id + '.wav')\n",
    "\n",
    "                    duration = librosa.core.get_duration(filename=audio_path)\n",
    "\n",
    "                    transcript = row[1]['transcript']\n",
    "\n",
    "                    # Write the metadata to the manifest\n",
    "                    metadata = {\n",
    "                        \"audio_filepath\": audio_path,\n",
    "                        \"duration\": duration,\n",
    "                        \"text\": transcript\n",
    "                    }\n",
    "                    json.dump(metadata, fout)\n",
    "                    fout.write('\\n')\n",
    "        metadata_train.to_csv(datasets_dir + 'LJSpeech-1.1/metadata_train.csv')\n",
    "        metadata_test.to_csv(datasets_dir + 'LJSpeech-1.1/metadata_test.csv')\n",
    "    \n",
    "# Building Manifests\n",
    "print(\"******\")\n",
    "train_transcripts = datasets_dir + '/LJSpeech-1.1/metadata.csv'\n",
    "manifest = datasets_dir + '/LJSpeech-1.1/'\n",
    "train_manifest_ljspeech = manifest + 'train_manifest.json'\n",
    "test_manifest_ljspeech = manifest + 'train_manifest.json'\n",
    "build_manifest(train_transcripts, manifest, 'wavs')\n",
    "print(\"Manifests created.\")"
   ]
  },
  {
   "cell_type": "code",
   "execution_count": 5,
   "metadata": {},
   "outputs": [
    {
     "data": {
      "text/html": [
       "<div>\n",
       "<style scoped>\n",
       "    .dataframe tbody tr th:only-of-type {\n",
       "        vertical-align: middle;\n",
       "    }\n",
       "\n",
       "    .dataframe tbody tr th {\n",
       "        vertical-align: top;\n",
       "    }\n",
       "\n",
       "    .dataframe thead th {\n",
       "        text-align: right;\n",
       "    }\n",
       "</style>\n",
       "<table border=\"1\" class=\"dataframe\">\n",
       "  <thead>\n",
       "    <tr style=\"text-align: right;\">\n",
       "      <th></th>\n",
       "      <th>Unnamed: 0</th>\n",
       "      <th>file_name</th>\n",
       "      <th>transcript</th>\n",
       "      <th>normalized</th>\n",
       "    </tr>\n",
       "  </thead>\n",
       "  <tbody>\n",
       "    <tr>\n",
       "      <th>0</th>\n",
       "      <td>5758</td>\n",
       "      <td>LJ019-0224</td>\n",
       "      <td>with the reduction of numbers to be accommodat...</td>\n",
       "      <td>With the reduction of numbers to be accommodat...</td>\n",
       "    </tr>\n",
       "    <tr>\n",
       "      <th>1</th>\n",
       "      <td>4244</td>\n",
       "      <td>LJ015-0144</td>\n",
       "      <td>developed to a colossal extent the frauds he h...</td>\n",
       "      <td>developed to a colossal extent the frauds he h...</td>\n",
       "    </tr>\n",
       "    <tr>\n",
       "      <th>2</th>\n",
       "      <td>9517</td>\n",
       "      <td>LJ036-0123</td>\n",
       "      <td>unloaded at 500 north beckley at 12:45 p.m.</td>\n",
       "      <td>unloaded at five hundred North Beckley at twel...</td>\n",
       "    </tr>\n",
       "    <tr>\n",
       "      <th>3</th>\n",
       "      <td>415</td>\n",
       "      <td>LJ002-0231</td>\n",
       "      <td>there was no distinct place for the female deb...</td>\n",
       "      <td>There was no distinct place for the female deb...</td>\n",
       "    </tr>\n",
       "    <tr>\n",
       "      <th>4</th>\n",
       "      <td>12024</td>\n",
       "      <td>LJ046-0224</td>\n",
       "      <td>the state department advised the secret servic...</td>\n",
       "      <td>The State Department advised the Secret Servic...</td>\n",
       "    </tr>\n",
       "    <tr>\n",
       "      <th>...</th>\n",
       "      <td>...</td>\n",
       "      <td>...</td>\n",
       "      <td>...</td>\n",
       "      <td>...</td>\n",
       "    </tr>\n",
       "    <tr>\n",
       "      <th>10475</th>\n",
       "      <td>11964</td>\n",
       "      <td>LJ046-0164</td>\n",
       "      <td>prs investigated 34 newly established or react...</td>\n",
       "      <td>PRS investigated thirty-four newly established...</td>\n",
       "    </tr>\n",
       "    <tr>\n",
       "      <th>10476</th>\n",
       "      <td>5191</td>\n",
       "      <td>LJ018-0055</td>\n",
       "      <td>he is described as not a bad-looking man, with...</td>\n",
       "      <td>He is described as not a bad-looking man, with...</td>\n",
       "    </tr>\n",
       "    <tr>\n",
       "      <th>10477</th>\n",
       "      <td>5390</td>\n",
       "      <td>LJ018-0254</td>\n",
       "      <td>he declined to plead, but a plea of \"not guilt...</td>\n",
       "      <td>He declined to plead, but a plea of \"Not Guilt...</td>\n",
       "    </tr>\n",
       "    <tr>\n",
       "      <th>10478</th>\n",
       "      <td>860</td>\n",
       "      <td>LJ003-0339</td>\n",
       "      <td>could possibly afford.</td>\n",
       "      <td>could possibly afford.</td>\n",
       "    </tr>\n",
       "    <tr>\n",
       "      <th>10479</th>\n",
       "      <td>7270</td>\n",
       "      <td>LJ028-0012</td>\n",
       "      <td>she realizes that she is bound on the long jou...</td>\n",
       "      <td>she realizes that she is bound on the long jou...</td>\n",
       "    </tr>\n",
       "  </tbody>\n",
       "</table>\n",
       "<p>10480 rows × 4 columns</p>\n",
       "</div>"
      ],
      "text/plain": [
       "       Unnamed: 0   file_name  \\\n",
       "0            5758  LJ019-0224   \n",
       "1            4244  LJ015-0144   \n",
       "2            9517  LJ036-0123   \n",
       "3             415  LJ002-0231   \n",
       "4           12024  LJ046-0224   \n",
       "...           ...         ...   \n",
       "10475       11964  LJ046-0164   \n",
       "10476        5191  LJ018-0055   \n",
       "10477        5390  LJ018-0254   \n",
       "10478         860  LJ003-0339   \n",
       "10479        7270  LJ028-0012   \n",
       "\n",
       "                                              transcript  \\\n",
       "0      with the reduction of numbers to be accommodat...   \n",
       "1      developed to a colossal extent the frauds he h...   \n",
       "2            unloaded at 500 north beckley at 12:45 p.m.   \n",
       "3      there was no distinct place for the female deb...   \n",
       "4      the state department advised the secret servic...   \n",
       "...                                                  ...   \n",
       "10475  prs investigated 34 newly established or react...   \n",
       "10476  he is described as not a bad-looking man, with...   \n",
       "10477  he declined to plead, but a plea of \"not guilt...   \n",
       "10478                             could possibly afford.   \n",
       "10479  she realizes that she is bound on the long jou...   \n",
       "\n",
       "                                              normalized  \n",
       "0      With the reduction of numbers to be accommodat...  \n",
       "1      developed to a colossal extent the frauds he h...  \n",
       "2      unloaded at five hundred North Beckley at twel...  \n",
       "3      There was no distinct place for the female deb...  \n",
       "4      The State Department advised the Secret Servic...  \n",
       "...                                                  ...  \n",
       "10475  PRS investigated thirty-four newly established...  \n",
       "10476  He is described as not a bad-looking man, with...  \n",
       "10477  He declined to plead, but a plea of \"Not Guilt...  \n",
       "10478                             could possibly afford.  \n",
       "10479  she realizes that she is bound on the long jou...  \n",
       "\n",
       "[10480 rows x 4 columns]"
      ]
     },
     "execution_count": 5,
     "metadata": {},
     "output_type": "execute_result"
    }
   ],
   "source": [
    "pd.read_csv(datasets_dir + 'LJSpeech-1.1/metadata_train.csv')"
   ]
  },
  {
   "cell_type": "code",
   "execution_count": 6,
   "metadata": {},
   "outputs": [],
   "source": [
    "# nemo_asr.models.EncDecCTCModelBPE.list_available_models()"
   ]
  },
  {
   "cell_type": "code",
   "execution_count": 7,
   "metadata": {
    "scrolled": true
   },
   "outputs": [
    {
     "name": "stdout",
     "output_type": "stream",
     "text": [
      "[NeMo I 2021-10-27 19:24:11 cloud:56] Found existing object /home/boris/.cache/torch/NeMo/NeMo_1.4.0/stt_en_citrinet_256_gamma_0_25/d6eff3868f2f7a4791eb935c8366fc46/stt_en_citrinet_256_gamma_0_25.nemo.\n",
      "[NeMo I 2021-10-27 19:24:11 cloud:62] Re-using file from: /home/boris/.cache/torch/NeMo/NeMo_1.4.0/stt_en_citrinet_256_gamma_0_25/d6eff3868f2f7a4791eb935c8366fc46/stt_en_citrinet_256_gamma_0_25.nemo\n",
      "[NeMo I 2021-10-27 19:24:11 common:702] Instantiating model from pre-trained checkpoint\n",
      "[NeMo I 2021-10-27 19:24:12 mixins:149] Tokenizer SentencePieceTokenizer initialized with 1024 tokens\n"
     ]
    },
    {
     "name": "stderr",
     "output_type": "stream",
     "text": [
      "[NeMo W 2021-10-27 19:24:12 modelPT:131] If you intend to do training or fine-tuning, please call the ModelPT.setup_training_data() method and provide a valid configuration file to setup the train data loader.\n",
      "    Train config : \n",
      "    manifest_filepath: null\n",
      "    sample_rate: 16000\n",
      "    batch_size: 32\n",
      "    trim_silence: false\n",
      "    max_duration: 20.0\n",
      "    shuffle: true\n",
      "    is_tarred: false\n",
      "    tarred_audio_filepaths: null\n",
      "    use_start_end_token: false\n",
      "    \n",
      "[NeMo W 2021-10-27 19:24:12 modelPT:138] If you intend to do validation, please call the ModelPT.setup_validation_data() or ModelPT.setup_multiple_validation_data() method and provide a valid configuration file to setup the validation data loader(s). \n",
      "    Validation config : \n",
      "    manifest_filepath: null\n",
      "    sample_rate: 16000\n",
      "    batch_size: 32\n",
      "    shuffle: false\n",
      "    use_start_end_token: false\n",
      "    \n",
      "[NeMo W 2021-10-27 19:24:12 modelPT:144] Please call the ModelPT.setup_test_data() or ModelPT.setup_multiple_test_data() method and provide a valid configuration file to setup the test data loader(s).\n",
      "    Test config : \n",
      "    manifest_filepath: null\n",
      "    sample_rate: 16000\n",
      "    batch_size: 32\n",
      "    shuffle: false\n",
      "    use_start_end_token: false\n",
      "    \n"
     ]
    },
    {
     "name": "stdout",
     "output_type": "stream",
     "text": [
      "[NeMo I 2021-10-27 19:24:12 features:262] PADDING: 16\n",
      "[NeMo I 2021-10-27 19:24:12 features:279] STFT using torch\n",
      "[NeMo I 2021-10-27 19:24:15 save_restore_connector:143] Model EncDecCTCModelBPE was successfully restored from /home/boris/.cache/torch/NeMo/NeMo_1.4.0/stt_en_citrinet_256_gamma_0_25/d6eff3868f2f7a4791eb935c8366fc46/stt_en_citrinet_256_gamma_0_25.nemo.\n"
     ]
    }
   ],
   "source": [
    "# List of models \n",
    "\n",
    "# EncDecCTCModel\n",
    "# quartznet15x5 = nemo_asr.models.EncDecCTCModel.from_pretrained(model_name=\"QuartzNet15x5Base-En\")\n",
    "# asr_talknet_aligner = nemo_asr.models.EncDecCTCModel.from_pretrained(model_name=\"asr_talknet_aligner\")\n",
    "\n",
    "# EncDecCTCModelBPE\n",
    "# stt_en_citrinet_256 = nemo_asr.models.EncDecCTCModelBPE.from_pretrained(model_name=\"stt_en_citrinet_256\")\n",
    "# stt_en_citrinet_512 = nemo_asr.models.EncDecCTCModelBPE.from_pretrained(model_name=\"stt_en_citrinet_512\")\n",
    "# stt_en_citrinet_1024\n",
    "stt_en_citrinet_256_gamma_0_25 = nemo_asr.models.EncDecCTCModelBPE.from_pretrained(model_name=\"stt_en_citrinet_256_gamma_0_25\")\n",
    "# stt_en_citrinet_512_gamma_0_25 = nemo_asr.models.EncDecCTCModelBPE.from_pretrained(model_name=\"stt_en_citrinet_256_gamma_0_25\")\n",
    "# stt_en_citrinet_1024_gamma_0_25 = nemo_asr.models.EncDecCTCModelBPE.from_pretrained(model_name=\"stt_en_citrinet_1024_gamma_0_25\")\n",
    "# stt_en_conformer_ctc_small = nemo_asr.models.EncDecCTCModelBPE.from_pretrained(model_name=\"stt_en_conformer_ctc_small\")\n",
    "# stt_en_conformer_ctc_medium\n",
    "# stt_en_conformer_ctc_large\n",
    "# stt_en_conformer_ctc_small_ls = nemo_asr.models.EncDecCTCModelBPE.from_pretrained(model_name=\"stt_en_conformer_ctc_small_ls\")\n",
    "# stt_en_conformer_ctc_medium_ls\n",
    "# stt_en_conformer_ctc_large_ls\n"
   ]
  },
  {
   "cell_type": "code",
   "execution_count": 10,
   "metadata": {},
   "outputs": [
    {
     "data": {
      "text/plain": [
       "{'sample_rate': 16000, 'train_ds': {'manifest_filepath': None, 'sample_rate': 16000, 'batch_size': 32, 'trim_silence': True, 'max_duration': 16.7, 'shuffle': True, 'is_tarred': False, 'tarred_audio_filepaths': None}, 'validation_ds': {'manifest_filepath': None, 'sample_rate': 16000, 'batch_size': 32, 'shuffle': False}, 'test_ds': {'manifest_filepath': ['/home/smajumdar/PycharmProjects/nemo-eval/nemo_eval/librispeech/manifests/dev_other.json'], 'sample_rate': 16000, 'batch_size': 32, 'shuffle': False, 'num_workers': 12, 'pin_memory': True}, 'model_defaults': {'repeat': 5, 'dropout': 0.0, 'separable': True, 'se': True, 'se_context_size': -1}, 'tokenizer': {'dir': '/home/smajumdar/PycharmProjects/nemo-eval/nemo_beta_eval/asrset/manifests/asrset_1.4/tokenizers/no_appen/tokenizer_spe_unigram_v1024/', 'type': 'bpe'}, 'preprocessor': {'_target_': 'nemo.collections.asr.modules.AudioToMelSpectrogramPreprocessor', 'sample_rate': 16000, 'normalize': 'per_feature', 'window_size': 0.025, 'window_stride': 0.01, 'window': 'hann', 'features': 80, 'n_fft': 512, 'frame_splicing': 1, 'dither': 1e-05, 'pad_to': 16, 'stft_conv': False}, 'spec_augment': {'_target_': 'nemo.collections.asr.modules.SpectrogramAugmentation', 'freq_masks': 2, 'time_masks': 10, 'freq_width': 27, 'time_width': 0.05}, 'encoder': {'_target_': 'nemo.collections.asr.modules.ConvASREncoder', 'feat_in': 80, 'activation': 'relu', 'conv_mask': True, 'jasper': [{'filters': 512, 'repeat': 1, 'kernel': [5], 'stride': [1], 'dilation': [1], 'dropout': 0.0, 'residual': False, 'separable': True, 'se': True, 'se_context_size': -1}, {'filters': 512, 'repeat': 5, 'kernel': [11], 'stride': [2], 'dilation': [1], 'dropout': 0.0, 'residual': True, 'separable': True, 'se': True, 'se_context_size': -1, 'stride_last': True, 'residual_mode': 'stride_add'}, {'filters': 512, 'repeat': 5, 'kernel': [13], 'stride': [1], 'dilation': [1], 'dropout': 0.0, 'residual': True, 'separable': True, 'se': True, 'se_context_size': -1}, {'filters': 512, 'repeat': 5, 'kernel': [15], 'stride': [1], 'dilation': [1], 'dropout': 0.0, 'residual': True, 'separable': True, 'se': True, 'se_context_size': -1}, {'filters': 512, 'repeat': 5, 'kernel': [17], 'stride': [1], 'dilation': [1], 'dropout': 0.0, 'residual': True, 'separable': True, 'se': True, 'se_context_size': -1}, {'filters': 512, 'repeat': 5, 'kernel': [19], 'stride': [1], 'dilation': [1], 'dropout': 0.0, 'residual': True, 'separable': True, 'se': True, 'se_context_size': -1}, {'filters': 512, 'repeat': 5, 'kernel': [21], 'stride': [1], 'dilation': [1], 'dropout': 0.0, 'residual': True, 'separable': True, 'se': True, 'se_context_size': -1}, {'filters': 512, 'repeat': 5, 'kernel': [13], 'stride': [2], 'dilation': [1], 'dropout': 0.0, 'residual': True, 'separable': True, 'se': True, 'se_context_size': -1, 'stride_last': True, 'residual_mode': 'stride_add'}, {'filters': 512, 'repeat': 5, 'kernel': [15], 'stride': [1], 'dilation': [1], 'dropout': 0.0, 'residual': True, 'separable': True, 'se': True, 'se_context_size': -1}, {'filters': 512, 'repeat': 5, 'kernel': [17], 'stride': [1], 'dilation': [1], 'dropout': 0.0, 'residual': True, 'separable': True, 'se': True, 'se_context_size': -1}, {'filters': 512, 'repeat': 5, 'kernel': [19], 'stride': [1], 'dilation': [1], 'dropout': 0.0, 'residual': True, 'separable': True, 'se': True, 'se_context_size': -1}, {'filters': 512, 'repeat': 5, 'kernel': [21], 'stride': [1], 'dilation': [1], 'dropout': 0.0, 'residual': True, 'separable': True, 'se': True, 'se_context_size': -1}, {'filters': 512, 'repeat': 5, 'kernel': [23], 'stride': [1], 'dilation': [1], 'dropout': 0.0, 'residual': True, 'separable': True, 'se': True, 'se_context_size': -1}, {'filters': 512, 'repeat': 5, 'kernel': [25], 'stride': [1], 'dilation': [1], 'dropout': 0.0, 'residual': True, 'separable': True, 'se': True, 'se_context_size': -1}, {'filters': 512, 'repeat': 5, 'kernel': [25], 'stride': [2], 'dilation': [1], 'dropout': 0.0, 'residual': True, 'separable': True, 'se': True, 'se_context_size': -1, 'stride_last': True, 'residual_mode': 'stride_add'}, {'filters': 512, 'repeat': 5, 'kernel': [27], 'stride': [1], 'dilation': [1], 'dropout': 0.0, 'residual': True, 'separable': True, 'se': True, 'se_context_size': -1}, {'filters': 512, 'repeat': 5, 'kernel': [29], 'stride': [1], 'dilation': [1], 'dropout': 0.0, 'residual': True, 'separable': True, 'se': True, 'se_context_size': -1}, {'filters': 512, 'repeat': 5, 'kernel': [31], 'stride': [1], 'dilation': [1], 'dropout': 0.0, 'residual': True, 'separable': True, 'se': True, 'se_context_size': -1}, {'filters': 512, 'repeat': 5, 'kernel': [33], 'stride': [1], 'dilation': [1], 'dropout': 0.0, 'residual': True, 'separable': True, 'se': True, 'se_context_size': -1}, {'filters': 512, 'repeat': 5, 'kernel': [35], 'stride': [1], 'dilation': [1], 'dropout': 0.0, 'residual': True, 'separable': True, 'se': True, 'se_context_size': -1}, {'filters': 512, 'repeat': 5, 'kernel': [37], 'stride': [1], 'dilation': [1], 'dropout': 0.0, 'residual': True, 'separable': True, 'se': True, 'se_context_size': -1}, {'filters': 512, 'repeat': 5, 'kernel': [39], 'stride': [1], 'dilation': [1], 'dropout': 0.0, 'residual': True, 'separable': True, 'se': True, 'se_context_size': -1}, {'filters': 640, 'repeat': 1, 'kernel': [41], 'stride': [1], 'dilation': [1], 'dropout': 0.0, 'residual': False, 'separable': True, 'se': True, 'se_context_size': -1}]}, 'decoder': {'_target_': 'nemo.collections.asr.modules.ConvASRDecoder', 'feat_in': 640, 'num_classes': 1024, 'vocabulary': ['<unk>', '##s', 'the', '##t', 'a', 'i', \"##'\", 'and', 'to', '##ed', '##d', 'of', '##e', 'in', '##ing', '##.', 'it', 'you', '##n', 'that', '##m', '##y', '##er', 'he', '##re', '##r', 'was', 'is', 'for', 'know', '##a', '##p', '##c', '##,', 'be', '##o', 'but', 'they', '##g', 'so', '##ly', '##b', 's', 'yeah', 'we', 'have', 're', 'like', '##l', 'on', '##ll', '##u', 'with', 'do', '##al', 'not', 'are', '##or', '##ar', '##le', 'this', 'as', '##es', 'c', 'de', '##f', '##in', '##i', '##ve', 'uh', '##ent', 'or', 'what', 'me', 't', 'at', 'my', 'his', 'there', '##w', 'all', 'just', '##h', 'can', '##ri', '##il', '##k', '##ic', 'e', '▁', 'um', 'don', 'b', 'had', '##ch', '##ation', '##en', '##th', 'no', 'she', '##it', 'one', 'think', 'st', 'if', 'from', '##ter', 'an', '##an', '##ur', 'out', '##on', 'go', '##ck', 'would', 'were', 'w', 'will', 'about', 'right', '##ment', 'her', '##te', '##ion', 'well', 'by', '##ce', 'g', 'oh', 'up', '##ro', '##ra', 'when', 'some', 'also', 'their', '##ers', '##ow', 'more', 'time', '##ate', 'has', 'people', 'see', 'pa', '##el', 'get', 'ex', 'mean', '##li', 'really', '##v', 'ra', 'been', 'said', '##-', '##la', '##ge', 'how', 'po', '##ir', 'mo', 'who', 'because', 'co', 'other', 'f', '##id', '##ol', 'un', 'now', 'work', '##ist', '##us', 'your', 'them', '##ver', '##as', '##ne', 'ca', '##lo', 'fa', 'him', '##ng', 'good', 'could', 'pro', '##ive', 'con', '##de', '##un', '##age', 'ma', '##?', '##at', 'ro', 'ba', 'then', 'com', '##est', '##vi', 'dis', '##ies', '##ance', 'su', 'even', 'any', '##ut', '##ad', '##ul', 'se', 'two', 'bu', 'lo', 'say', 'la', 'fi', '##is', 'li', 'over', 'new', 'man', 'sp', '##ity', 'did', 'bo', 'very', '##x', '##end', 'which', 'our', 'after', 'o', '##ke', 'p', '##im', 'want', 'ha', 'v', '##z', 'where', '##ard', '##um', 'into', '##ru', 'di', 'lot', 'dr', '##mp', 'day', '##ated', '##ci', 'these', 'than', 'take', 'kind', 'got', '##ight', 'make', '##ence', 'pre', 'going', '##ish', 'k', '##able', 'look', '##ti', '##per', 'here', 'en', 'ah', '##ry', 'too', 'part', '##ant', '##one', 'ho', 'much', 'way', 'sa', 'something', '##mo', 'us', 'th', 'mhm', 'mi', 'off', '##pe', 'back', '##les', 'cr', 'ri', 'fe', '##und', 'fl', '##port', 'school', 'ch', 'should', 'first', 'only', 'le', '##ot', '##tion', 'little', 'da', 'hu', 'd', '##me', '##ta', 'down', 'okay', 'come', '##ain', '##ff', 'car', '##co', 'need', '##ture', 'many', 'things', 'ta', '##qu', '##man', '##ty', '##iv', 'year', '##he', 'thing', '##ho', 'singapore', '##po', 'vi', 'sc', 'still', '##der', 'hi', 'never', 'qu', '##ia', 'fr', 'min', 'most', '##om', '##ful', 'bi', 'long', '##ig', 'years', '##ous', 'three', 'play', 'before', 'pi', '##ical', 'those', 'comp', '##huh', 'live', '##tor', '##ise', 'old', '##am', '##rr', 'sta', 'n', '##ick', '##di', '##ma', '##ary', '##ction', 'friend', '##ition', 'gu', 'through', '##pp', '##for', '##ie', '##ious', 'sh', 'home', '##lu', 'high', '##ian', '##cu', 'help', 'give', 'talk', 'sha', 'such', 'didn', '##em', 'may', 'ga', \"'\", 'gra', 'guess', 'every', 'app', '##tic', 'tra', '\"', '##op', 'made', '##\"', 'op', 'own', 'mar', '##no', 'ph', 'life', 'y', '##ak', '##ine', 'pu', 'place', 'always', 'start', 'jo', 'pe', 'let', 'name', '##ni', 'same', 'last', 'cl', '##ph', 'both', 'pri', '##ities', 'another', '##and', 'al', 'boy', '##ving', 'actually', 'person', 'went', 'yes', '##ca', '##ally', 'h', 'great', 'thought', 'used', '##act', 'feel', '##ward', 'different', 'cons', 'show', 'watch', 'being', 'money', '##ay', 'try', 'why', 'big', '##ens', 'cha', 'find', 'hand', 'real', 'four', '##ial', 'ne', 'che', 'read', 'five', 'family', '##ag', 'change', 'add', '##ha', 'put', '##par', '##lic', '##side', 'came', 'under', '##ness', 'per', '##j', 'around', 'end', 'house', '##if', 'while', '##vo', 'act', 'happen', 'plan', '##mit', 'far', 'tri', 'ten', 'du', 'win', 'tea', '##ze', 'better', 'sure', 'mu', 'use', 'anything', 'love', 'world', 'hard', '##ure', 'does', 'war', 'stuff', 'ja', 'must', '##min', '##gg', 'ru', 'care', 'tell', 'pl', 'doing', 'probably', 'found', '##ative', 'point', '##ach', 'ju', '##ip', 'again', 'interest', 'state', 'week', '##na', 'might', 'pretty', 'ki', 'fo', '##ber', 'am', '##line', '##led', 'six', 'acc', 'bri', 'call', 'sw', 'each', 'business', 'keep', 'away', '##cause', 'pass', 'va', 'children', 'pay', 'count', 'public', 'everything', '##land', 'though', 'men', '##bo', 'young', 'na', 'move', '##ough', '##ating', '##com', 'month', '##ton', 'close', 'few', '##!', 'maybe', 'imp', '##son', 'grow', 'u', 'turn', '##ible', 'em', 'air', 'ever', '##our', 'sea', 'fun', 'government', 'miss', 'done', 'next', 'kids', 'cor', 'set', 'run', '##way', 'wa', 'getting', 'eight', 'open', 'job', 'problem', '##ook', 'night', 'learn', 'book', '##ual', 'ti', 'best', '##cept', 'during', 'small', '##ex', 'without', 'water', 'trans', 'course', 'once', 'sit', 'area', 'country', 'mister', 'nothing', 'whole', 'believe', 'service', 'took', 'face', 'bad', 'later', 'head', 'called', 'seven', 'art', 'since', 'er', 'fact', 'city', 'market', 'hour', 'continue', '##ship', 'invest', 'exactly', 'large', 'true', 'nine', 'sub', 'having', 'game', '##va', 'lu', 'conf', 'case', 'doesn', 'certain', 'wi', 'law', 'else', '##fi', 'left', 'enough', 'second', 'gonna', 'food', 'hope', 'saw', 'between', 'je', '##bi', 'girl', 'company', 'able', 'expect', 'told', 'stand', 'group', 'main', 'walk', 'cause', 'however', 'number', 'follow', 'near', 'yet', 'sometimes', 'train', 'lead', 'system', 'remain', 'develop', '##gra', 'word', 'exc', 'together', 'consider', 'town', 'less', '##ator', 'important', 'remember', 'free', 'quite', 'understand', 'bra', 'support', 'idea', 'stop', 'reason', 'nice', 'mm', 'agree', 'low', 'against', 'issue', 'become', 'today', 'side', 'student', 'matter', 'question', 'mother', 'father', 'hundred', 'sort', 'eat', 'already', 'rest', 'line', 'asked', 'include', 'upon', 'office', 'won', 'class', 'wait', 'twenty', 'half', 'light', 'price', 'almost', '##ash', 'child', 'sign', 'least', 'several', '##press', 'either', 'minute', 'himself', 'parents', 'room', 'whatever', 'general', 'cost', 'among', 'direct', 'computer', 'appear', 'meet', 'ski', 'return', 'couple', 'product', 'suppose', 'definitely', 'america', 'term', 'usually', 'strong', 'current', 'arm', 'speak', 'local', 'south', 'experience', 'full', 'north', 'elect', 'leave', 'provide', '##qui', 'power', 'movie', 'everyone', 'making', 'member', 'woman', 'somebody', 'wonder', 'short', 'health', 'police', 'bank', 'until', 'companies', 'everybody', 'knew', 'program', 'music', 'york', 'land', 'doctor', 'answer', 'building', 'employ', 'travel', 'major', 'seems', 'safe', '##gue', 'college', 'along', 'clear', 'especially', 'umhu', 'result', 'type', 'court', 'black', 'hold', 'myself', 'education', 'social', 'enjoy', 'became', 'whether', 'morning', 'difficult', 'shi', 'felt', 'husband', 'white', 'taking', 'million', 'require', 'early', '##ency', 'visit', 'level', 'brother', 'married', 'further', 'affect', 'serve', 'present', 'park', 'effect', 'wife', 'teacher', 'cannot', 'community', 'street', 'period', 'national', 'view', 'future', 'daughter', 'situation', 'grand', 'success', 'perform', 'concern', 'complete', 'example', '##ized', 'thousand', 'increase', 'began', 'final', 'east', 'sense', 'charge', 'record', 'born', 'instead', 'receive', 'women', 'across', 'information', 'although', 'process', 'condition', 'security', 'treat', 'funny', 'custom', 'cold', 'behind', '##ified', 'ground', '##cycl', 'depend', 'themselves', 'design', 'slow', 'third', 'smoke', 'wrong', 'project', 'space', 'drink', 'particular', 'listen', 'thirty', 'special', '##ability', 'improve', 'attack', 'happy', 'strange', 'english', 'value', 'brought', 'private', 'account', 'china', 'spoke', 'foreign', 'possible', 'author', 'circ', 'voice', 'figure', 'control', 'according', 'green', 'university', 'language', 'please', 'animal', 'church', 'society', 'dream', '##’', '##q', '##:', '##;', '##—', '##‘', '##”', '##_', '##3', '##8', '##<', '##>', '##1', '##–', '##7', '##(', '##)', '##0', '##2', '##4', '##+', '##&', '##5', '##9', '##ü', '##é', '##/', '##á', '##ó', '##ō', '##ú', '##]', '##â', '##í', '##ã', '##ð', '##ā', '##ć', '##č', '##š', '##è', '##ë', '##`', '##ç', '##ū', '##ạ', '##ø', '##=', '##à', '##ł', '##α', '##ô', '##к', '##}', '##å', '##ă', '##и', '##ī', '##π', '##œ', '##\\\\', '##[', '##ñ', '##ß', '##ö', '##ä', '##6', '##з', '##н', '##û', '##%', '##{', '##¡', '##æ', '##ê', '##þ', '##ę', '##ě', '##ğ', '##ń', '##ő', '##ř', '##ž', '##ʻ', '##в', '##е', '##й', '##л', '##ь', '##χ', '##“']}, 'optim': {'name': 'novograd', 'lr': 0.05, 'betas': [0.8, 0.25], 'weight_decay': 0.001, 'sched': {'name': 'CosineAnnealing', 'warmup_steps': 1000, 'warmup_ratio': None, 'min_lr': 1e-09, 'last_epoch': -1}}, 'target': 'nemo.collections.asr.models.ctc_bpe_models.EncDecCTCModelBPE'}"
      ]
     },
     "execution_count": 10,
     "metadata": {},
     "output_type": "execute_result"
    }
   ],
   "source": [
    "stt_en_citrinet_512.cfg"
   ]
  },
  {
   "cell_type": "code",
   "execution_count": 12,
   "metadata": {
    "scrolled": true
   },
   "outputs": [
    {
     "name": "stdout",
     "output_type": "stream",
     "text": [
      "[NeMo I 2021-10-26 15:12:46 mixins:149] Tokenizer SentencePieceTokenizer initialized with 1024 tokens\n"
     ]
    },
    {
     "name": "stderr",
     "output_type": "stream",
     "text": [
      "[NeMo W 2021-10-26 15:12:46 modelPT:131] If you intend to do training or fine-tuning, please call the ModelPT.setup_training_data() method and provide a valid configuration file to setup the train data loader.\n",
      "    Train config : \n",
      "    manifest_filepath: ../../datasets/LJSpeech-1.1/train_manifest.json\n",
      "    sample_rate: 16000\n",
      "    batch_size: 4\n",
      "    trim_silence: false\n",
      "    max_duration: 20.0\n",
      "    shuffle: true\n",
      "    is_tarred: false\n",
      "    tarred_audio_filepaths: null\n",
      "    use_start_end_token: false\n",
      "    num_workers: 12\n",
      "    pin_memory: true\n",
      "    \n",
      "[NeMo W 2021-10-26 15:12:46 modelPT:138] If you intend to do validation, please call the ModelPT.setup_validation_data() or ModelPT.setup_multiple_validation_data() method and provide a valid configuration file to setup the validation data loader(s). \n",
      "    Validation config : \n",
      "    manifest_filepath: ../../datasets/LJSpeech-1.1/train_manifest.json\n",
      "    sample_rate: 16000\n",
      "    batch_size: 4\n",
      "    shuffle: false\n",
      "    use_start_end_token: false\n",
      "    num_workers: 12\n",
      "    pin_memory: true\n",
      "    \n",
      "[NeMo W 2021-10-26 15:12:46 modelPT:144] Please call the ModelPT.setup_test_data() or ModelPT.setup_multiple_test_data() method and provide a valid configuration file to setup the test data loader(s).\n",
      "    Test config : \n",
      "    manifest_filepath: null\n",
      "    sample_rate: 16000\n",
      "    batch_size: 4\n",
      "    shuffle: false\n",
      "    use_start_end_token: false\n",
      "    \n"
     ]
    },
    {
     "name": "stdout",
     "output_type": "stream",
     "text": [
      "[NeMo I 2021-10-26 15:12:46 features:262] PADDING: 16\n",
      "[NeMo I 2021-10-26 15:12:46 features:279] STFT using torch\n",
      "[NeMo I 2021-10-26 15:12:47 save_restore_connector:143] Model EncDecCTCModelBPE was successfully restored from /home/boris/Documents/NeMo_own_research/asr/first_model.nemo.\n"
     ]
    }
   ],
   "source": [
    "first_asr_model = nemo_asr.models.EncDecCTCModelBPE.restore_from('first_model.nemo')"
   ]
  },
  {
   "cell_type": "code",
   "execution_count": 10,
   "metadata": {
    "scrolled": true
   },
   "outputs": [
    {
     "name": "stdout",
     "output_type": "stream",
     "text": [
      "Calculating score for model quartznet_15x5 on LJSpeech\n"
     ]
    },
    {
     "data": {
      "application/vnd.jupyter.widget-view+json": {
       "model_id": "5972099023fe48428d5d336b8df6bbb1",
       "version_major": 2,
       "version_minor": 0
      },
      "text/plain": [
       "Transcribing:   0%|          | 0/25 [00:00<?, ?it/s]"
      ]
     },
     "metadata": {},
     "output_type": "display_data"
    },
    {
     "name": "stdout",
     "output_type": "stream",
     "text": [
      "a notorious miser, robert smith, had recently died in seven dials, where he had amassed a considerable fortune.\n",
      "a notorious miser robert smith had recently died in seven dials where he had a massed a considerable fortune\n",
      "wer:8.23; cer:3.8\n",
      "Calculating score for model quartznet_15x5 on AN4\n"
     ]
    },
    {
     "data": {
      "application/vnd.jupyter.widget-view+json": {
       "model_id": "b8dff0a2052a4647bb35bb897c9aff3e",
       "version_major": 2,
       "version_minor": 0
      },
      "text/plain": [
       "Transcribing:   0%|          | 0/33 [00:00<?, ?it/s]"
      ]
     },
     "metadata": {},
     "output_type": "display_data"
    },
    {
     "name": "stdout",
     "output_type": "stream",
     "text": [
      "one three seven\n",
      "one three seven\n",
      "wer:4.42; cer:1.87\n"
     ]
    },
    {
     "data": {
      "text/plain": [
       "(4.42, 1.87)"
      ]
     },
     "execution_count": 10,
     "metadata": {},
     "output_type": "execute_result"
    }
   ],
   "source": [
    "import pandas as pd\n",
    "import numpy as np\n",
    "import fastwer\n",
    "import re\n",
    "\n",
    "def calculate_score(dataset, model, model_name='-', k=None, log=True):\n",
    "    print(f'Calculating score for model {model_name} on {dataset}')\n",
    "    if dataset == 'LJSpeech':\n",
    "        metadata = pd.read_csv(datasets_dir + 'LJSpeech-1.1/metadata_test.csv')\n",
    "        if k is not None:\n",
    "            metadata = metadata[:k]\n",
    "        files = metadata['file_name'].apply(lambda x: f'{datasets_dir}/LJSpeech-1.1/wavs/{x}.wav').values\n",
    "        texts = metadata['transcript'].values\n",
    "    elif dataset == 'AN4':\n",
    "        metadata = pd.read_csv(f'{datasets_dir}/an4/metadata.csv')\n",
    "        files = metadata['file_name'].values\n",
    "        texts = metadata['transcript'].values\n",
    "        \n",
    "    \n",
    "    wer = []\n",
    "    cer = []\n",
    "    predictions = model.transcribe(paths2audio_files=files)\n",
    "    r = np.random.randint(1, 10)\n",
    "    print(texts[r])\n",
    "    print(predictions[r].replace('⁇', ''))\n",
    "    for i in range(len(predictions)):\n",
    "        text = texts[i].lower()\n",
    "        text = re.sub('[^a-zA-Z ]+', '', text)\n",
    "        prediction = predictions[i]\n",
    "        prediction = re.sub('[^a-zA-Z ]+', '', prediction)\n",
    "        wer.append(fastwer.score_sent(text, prediction, char_level=False))\n",
    "        cer.append(fastwer.score_sent(text, prediction, char_level=True))\n",
    "    wer = np.array(wer)\n",
    "    cer = np.array(cer)\n",
    "    \n",
    "    wer = wer[wer != float('+inf')]\n",
    "    cer = cer[cer != float('+inf')]\n",
    "    \n",
    "    wer = np.round(np.mean(wer), 2)\n",
    "    cer = np.round(np.mean(cer), 2)\n",
    "    if log:\n",
    "        print(f'wer:{np.round(wer, 2)}; cer:{np.round(cer, 2)}')\n",
    "    \n",
    "    return wer, cer\n",
    "        \n",
    "calculate_score('LJSpeech', stt_en_citrinet_256_gamma_0_25, 'quartznet_15x5', k=100)\n",
    "calculate_score('AN4', stt_en_citrinet_256_gamma_0_25, 'quartznet_15x5', k=100)\n",
    "# calculate_score('AN4', quartznet15x5, 'quartznet15x5', k=100)\n",
    "# calculate_score('AN4', stt_en_citrinet_1024_gamma_0_25, 'quartznet15x5', k=100)\n",
    "\n"
   ]
  },
  {
   "cell_type": "code",
   "execution_count": null,
   "metadata": {
    "scrolled": true
   },
   "outputs": [],
   "source": [
    "models = [\n",
    "    'QuartzNet15x5Base-En',\n",
    "    'stt_en_citrinet_256',\n",
    "    'stt_en_citrinet_256_gamma_0_25',\n",
    "    'stt_en_conformer_ctc_small',\n",
    "    'stt_en_conformer_ctc_small_ls'\n",
    "]\n",
    "\n",
    "wer_an4_list = []\n",
    "cer_an4_list = []\n",
    "wer_ljspeech_list = []\n",
    "cer_ljspeech_list = []\n",
    "\n",
    "for model_name in models:\n",
    "    try:\n",
    "        model = nemo_asr.models.EncDecCTCModel.from_pretrained(model_name=model_name)\n",
    "    except Exception:\n",
    "        model = nemo_asr.models.EncDecCTCModelBPE.from_pretrained(model_name=model_name)\n",
    "    wer_an4, cer_an4 = calculate_score('AN4', model, model_name)\n",
    "    wer_ljspeech, cer_ljspeech = calculate_score('LJSpeech', model, model_name, k=100)\n",
    "    \n",
    "    wer_an4_list.append(wer_an4)\n",
    "    cer_an4_list.append(cer_an4)\n",
    "    wer_ljspeech_list.append(wer_ljspeech)\n",
    "    cer_ljspeech_list.append(cer_ljspeech)"
   ]
  },
  {
   "cell_type": "code",
   "execution_count": 100,
   "metadata": {},
   "outputs": [
    {
     "data": {
      "text/plain": [
       "Text(0, 0.5, 'WER')"
      ]
     },
     "execution_count": 100,
     "metadata": {},
     "output_type": "execute_result"
    },
    {
     "data": {
      "image/png": "[encoded data removed]",
      "text/plain": [
       "<Figure size 1008x360 with 1 Axes>"
      ]
     },
     "metadata": {
      "needs_background": "light"
     },
     "output_type": "display_data"
    }
   ],
   "source": [
    "import matplotlib.pyplot as plt\n",
    "\n",
    "order = np.argsort(wer_an4_list)\n",
    "\n",
    "fig = plt.figure(figsize=(14,5))\n",
    "\n",
    "plt.plot(np.array(models)[order], np.array(wer_an4_list)[order] / 100, label='AN4')\n",
    "plt.plot(np.array(models)[order], np.array(wer_ljspeech_list)[order] / 100, label='LJSpeech')\n",
    "\n",
    "leg = plt.legend()\n",
    "\n",
    "plt.xlabel('models', fontsize=18)\n",
    "plt.ylabel('WER', fontsize=16)"
   ]
  },
  {
   "cell_type": "code",
   "execution_count": 101,
   "metadata": {},
   "outputs": [
    {
     "data": {
      "text/plain": [
       "Text(0, 0.5, 'CER')"
      ]
     },
     "execution_count": 101,
     "metadata": {},
     "output_type": "execute_result"
    },
    {
     "data": {
      "image/png": "[encoded data removed]",
      "text/plain": [
       "<Figure size 1008x360 with 1 Axes>"
      ]
     },
     "metadata": {
      "needs_background": "light"
     },
     "output_type": "display_data"
    }
   ],
   "source": [
    "fig = plt.figure(figsize=(14,5))\n",
    "\n",
    "plt.plot(np.array(models)[order], np.array(cer_an4_list)[order] / 100, label='AN4')\n",
    "plt.plot(np.array(models)[order], np.array(cer_ljspeech_list)[order] / 100, label='LJSpeech')\n",
    "\n",
    "leg = plt.legend()\n",
    "\n",
    "plt.xlabel('models', fontsize=18)\n",
    "plt.ylabel('CER', fontsize=16)"
   ]
  },
  {
   "cell_type": "code",
   "execution_count": 27,
   "metadata": {},
   "outputs": [],
   "source": [
    "# --- Config Information ---#\n",
    "try:\n",
    "    from ruamel.yaml import YAML\n",
    "except ModuleNotFoundError:\n",
    "    from ruamel_yaml import YAML\n",
    "\n",
    "config_path = './configs/model_config.yaml'\n",
    "config_path_quartznet = './configs/quartznet_15x5.yaml'\n",
    "# config_path_citrinet = './configs/citrinet_512.yaml'\n",
    "# config_path_citrinet = './configs/config_bpe.yaml'\n",
    "config_path_citrinet = './configs/model_config.yaml'\n",
    "\n",
    "yaml = YAML(typ='safe')\n",
    "with open(config_path) as f:\n",
    "    params_quartznet4x1 = yaml.load(f)\n",
    "\n",
    "with open(config_path_quartznet) as f:\n",
    "    params_quartznet15x5 = yaml.load(f)\n",
    "    \n",
    "with open(config_path_citrinet) as f:\n",
    "    params_citrinet = yaml.load(f)"
   ]
  },
  {
   "cell_type": "code",
   "execution_count": 6,
   "metadata": {},
   "outputs": [],
   "source": [
    "from itertools import zip_longest\n",
    "from typing import Any, Callable, Dict, List, Optional\n",
    "\n",
    "from pytorch_lightning import LightningModule, Trainer\n",
    "from pytorch_lightning.callbacks import Callback\n",
    "from pytorch_lightning.utilities import rank_zero_info\n",
    "\n",
    "class PrintTableMetricsCallback(Callback):\n",
    "    \"\"\"Prints a table with the metrics in columns on every epoch end.\n",
    "    Example::\n",
    "        from pl_bolts.callbacks import PrintTableMetricsCallback\n",
    "        callback = PrintTableMetricsCallback()\n",
    "    Pass into trainer like so:\n",
    "    .. code-block:: python\n",
    "        trainer = pl.Trainer(callbacks=[callback])\n",
    "        trainer.fit(...)\n",
    "        # ------------------------------\n",
    "        # at the end of every epoch it will print\n",
    "        # ------------------------------\n",
    "        # loss│train_loss│val_loss│epoch\n",
    "        # ──────────────────────────────\n",
    "        # 2.2541470527648926│2.2541470527648926│2.2158432006835938│0\n",
    "    \"\"\"\n",
    "\n",
    "    def __init__(self) -> None:\n",
    "        self.metrics: List = []\n",
    "\n",
    "    def on_epoch_end(self, trainer: Trainer, pl_module: LightningModule) -> None:\n",
    "        metrics_dict = copy.copy(trainer.callback_metrics)\n",
    "        self.metrics.append(metrics_dict)\n",
    "        rank_zero_info(dicts_to_table(self.metrics))\n",
    "        \n",
    "def dicts_to_table(\n",
    "    dicts: List[Dict],\n",
    "    keys: Optional[List[str]] = None,\n",
    "    pads: Optional[List[str]] = None,\n",
    "    fcodes: Optional[List[str]] = None,\n",
    "    convert_headers: Optional[Dict[str, Callable]] = None,\n",
    "    header_names: Optional[List[str]] = None,\n",
    "    skip_none_lines: bool = False,\n",
    "    replace_values: Optional[Dict[str, Any]] = None,\n",
    ") -> str:\n",
    "    \"\"\"Generate ascii table from dictionary Taken from (https://stackoverflow.com/questions/40056747/print-a-list-\n",
    "    of-dictionaries-in-table-form)\n",
    "    Args:\n",
    "        dicts: input dictionary list; empty lists make keys OR header_names mandatory\n",
    "        keys: order list of keys to generate columns for; no key/dict-key should\n",
    "            suffix with '____' else adjust code-suffix\n",
    "        pads: indicate padding direction and size, eg <10 to right pad alias left-align\n",
    "        fcodes: formating codes for respective column type, eg .3f\n",
    "        convert_headers: apply converters(dict) on column keys k, eg timestamps\n",
    "        header_names: supply for custom column headers instead of keys\n",
    "        skip_none_lines: skip line if contains None\n",
    "        replace_values: specify per column keys k a map from seen value to new value;\n",
    "                        new value must comply with the columns fcode; CAUTION: modifies input (due speed)\n",
    "    Example:\n",
    "        >>> a = {'a': 1, 'b': 2}\n",
    "        >>> b = {'a': 3, 'b': 4}\n",
    "        >>> print(dicts_to_table([a, b]))\n",
    "        a│b\n",
    "        ───\n",
    "        1│2\n",
    "        3│4\n",
    "    \"\"\"\n",
    "    # optional arg prelude\n",
    "    if keys is None:\n",
    "        if len(dicts) > 0:\n",
    "            keys = dicts[0].keys()  # type: ignore[assignment]\n",
    "        elif header_names is not None:\n",
    "            keys = header_names\n",
    "        else:\n",
    "            raise ValueError(\"keys or header_names mandatory on empty input list\")\n",
    "    if pads is None:\n",
    "        pads = [\"\"] * len(keys)  # type: ignore[arg-type]\n",
    "    elif len(pads) != len(keys):  # type: ignore[arg-type]\n",
    "        raise ValueError(f\"bad pad length {len(pads)}, expected: {len(keys)}\")  # type: ignore[arg-type]\n",
    "    if fcodes is None:\n",
    "        fcodes = [\"\"] * len(keys)  # type: ignore[arg-type]\n",
    "    elif len(fcodes) != len(fcodes):\n",
    "        raise ValueError(f\"bad fcodes length {len(fcodes)}, expected: {len(keys)}\")  # type: ignore[arg-type]\n",
    "    if convert_headers is None:\n",
    "        convert_headers = {}\n",
    "    if header_names is None:\n",
    "        header_names = keys\n",
    "    if replace_values is None:\n",
    "        replace_values = {}\n",
    "    # build header\n",
    "    headline = \"│\".join(f\"{v:{pad}}\" for v, pad in zip_longest(header_names, pads))  # type: ignore[arg-type]\n",
    "    underline = \"─\" * len(headline)\n",
    "    # suffix special keys to apply converters to later on\n",
    "    marked_keys = [h + \"____\" if h in convert_headers else h for h in keys]  # type: ignore[union-attr]\n",
    "    marked_values = {}\n",
    "    s = \"│\".join(f\"{{{h}:{pad}{fcode}}}\" for h, pad, fcode in zip_longest(marked_keys, pads, fcodes))\n",
    "    lines = [headline, underline]\n",
    "    for d in dicts:\n",
    "        none_keys = [k for k, v in d.items() if v is None]\n",
    "        if skip_none_lines and none_keys:\n",
    "            continue\n",
    "        elif replace_values:\n",
    "            for k in d.keys():\n",
    "                if k in replace_values and d[k] in replace_values[k]:\n",
    "                    d[k] = replace_values[k][d[k]]\n",
    "                if d[k] is None:\n",
    "                    raise ValueError(f\"bad or no mapping for key '{k}' is None. Use skip or change replace mapping.\")\n",
    "        elif none_keys:\n",
    "            raise ValueError(f\"keys {none_keys} are None in {d}. Do skip or use replace mapping.\")\n",
    "        for h in convert_headers:\n",
    "            if h in keys:  # type: ignore[operator]\n",
    "                converter = convert_headers[h]\n",
    "                marked_values[h + \"____\"] = converter(d)\n",
    "        line = s.format(**d, **marked_values)\n",
    "        lines.append(line)\n",
    "    return \"\\n\".join(lines)"
   ]
  },
  {
   "cell_type": "code",
   "execution_count": 28,
   "metadata": {},
   "outputs": [],
   "source": [
    "params = params_quartznet4x1\n",
    "train_manifest = train_manifest_an4\n",
    "test_manifest = test_manifest_an4"
   ]
  },
  {
   "cell_type": "code",
   "execution_count": 31,
   "metadata": {
    "scrolled": true
   },
   "outputs": [
    {
     "name": "stderr",
     "output_type": "stream",
     "text": [
      "GPU available: True, used: True\n",
      "TPU available: False, using: 0 TPU cores\n",
      "IPU available: False, using: 0 IPUs\n"
     ]
    },
    {
     "ename": "ConfigKeyError",
     "evalue": "Key 'train_ds' is not in struct\n    full_key: train_ds\n    object_type=dict",
     "output_type": "error",
     "traceback": [
      "\u001b[0;31m---------------------------------------------------------------------------\u001b[0m",
      "\u001b[0;31mConfigKeyError\u001b[0m                            Traceback (most recent call last)",
      "\u001b[0;32m<ipython-input-31-eb669e5b1a3e>\u001b[0m in \u001b[0;36m<module>\u001b[0;34m\u001b[0m\n\u001b[1;32m      6\u001b[0m \u001b[0mtrainer\u001b[0m \u001b[0;34m=\u001b[0m \u001b[0mpl\u001b[0m\u001b[0;34m.\u001b[0m\u001b[0mTrainer\u001b[0m\u001b[0;34m(\u001b[0m\u001b[0mgpus\u001b[0m\u001b[0;34m=\u001b[0m\u001b[0;36m1\u001b[0m\u001b[0;34m,\u001b[0m \u001b[0mmax_epochs\u001b[0m\u001b[0;34m=\u001b[0m\u001b[0;36m10\u001b[0m\u001b[0;34m,\u001b[0m \u001b[0mcallbacks\u001b[0m\u001b[0;34m=\u001b[0m\u001b[0;34m[\u001b[0m\u001b[0mcallback\u001b[0m\u001b[0;34m]\u001b[0m\u001b[0;34m)\u001b[0m\u001b[0;34m\u001b[0m\u001b[0;34m\u001b[0m\u001b[0m\n\u001b[1;32m      7\u001b[0m \u001b[0;34m\u001b[0m\u001b[0m\n\u001b[0;32m----> 8\u001b[0;31m \u001b[0mparams\u001b[0m\u001b[0;34m[\u001b[0m\u001b[0;34m'train_ds'\u001b[0m\u001b[0;34m]\u001b[0m\u001b[0;34m[\u001b[0m\u001b[0;34m'manifest_filepath'\u001b[0m\u001b[0;34m]\u001b[0m \u001b[0;34m=\u001b[0m \u001b[0mtrain_manifest\u001b[0m\u001b[0;34m\u001b[0m\u001b[0;34m\u001b[0m\u001b[0m\n\u001b[0m\u001b[1;32m      9\u001b[0m \u001b[0mparams\u001b[0m\u001b[0;34m[\u001b[0m\u001b[0;34m'model'\u001b[0m\u001b[0;34m]\u001b[0m\u001b[0;34m[\u001b[0m\u001b[0;34m'validation_ds'\u001b[0m\u001b[0;34m]\u001b[0m\u001b[0;34m[\u001b[0m\u001b[0;34m'manifest_filepath'\u001b[0m\u001b[0;34m]\u001b[0m \u001b[0;34m=\u001b[0m \u001b[0mtest_manifest\u001b[0m\u001b[0;34m\u001b[0m\u001b[0;34m\u001b[0m\u001b[0m\n\u001b[1;32m     10\u001b[0m \u001b[0;34m\u001b[0m\u001b[0m\n",
      "\u001b[0;32m~/anaconda3/lib/python3.7/site-packages/omegaconf/dictconfig.py\u001b[0m in \u001b[0;36m__getitem__\u001b[0;34m(self, key)\u001b[0m\n\u001b[1;32m    368\u001b[0m         \u001b[0;32mexcept\u001b[0m \u001b[0mAttributeError\u001b[0m \u001b[0;32mas\u001b[0m \u001b[0me\u001b[0m\u001b[0;34m:\u001b[0m\u001b[0;34m\u001b[0m\u001b[0;34m\u001b[0m\u001b[0m\n\u001b[1;32m    369\u001b[0m             self._format_and_raise(\n\u001b[0;32m--> 370\u001b[0;31m                 \u001b[0mkey\u001b[0m\u001b[0;34m=\u001b[0m\u001b[0mkey\u001b[0m\u001b[0;34m,\u001b[0m \u001b[0mvalue\u001b[0m\u001b[0;34m=\u001b[0m\u001b[0;32mNone\u001b[0m\u001b[0;34m,\u001b[0m \u001b[0mcause\u001b[0m\u001b[0;34m=\u001b[0m\u001b[0me\u001b[0m\u001b[0;34m,\u001b[0m \u001b[0mtype_override\u001b[0m\u001b[0;34m=\u001b[0m\u001b[0mConfigKeyError\u001b[0m\u001b[0;34m\u001b[0m\u001b[0;34m\u001b[0m\u001b[0m\n\u001b[0m\u001b[1;32m    371\u001b[0m             )\n\u001b[1;32m    372\u001b[0m         \u001b[0;32mexcept\u001b[0m \u001b[0mException\u001b[0m \u001b[0;32mas\u001b[0m \u001b[0me\u001b[0m\u001b[0;34m:\u001b[0m\u001b[0;34m\u001b[0m\u001b[0;34m\u001b[0m\u001b[0m\n",
      "\u001b[0;32m~/anaconda3/lib/python3.7/site-packages/omegaconf/base.py\u001b[0m in \u001b[0;36m_format_and_raise\u001b[0;34m(self, key, value, cause, type_override)\u001b[0m\n\u001b[1;32m    194\u001b[0m             \u001b[0mmsg\u001b[0m\u001b[0;34m=\u001b[0m\u001b[0mstr\u001b[0m\u001b[0;34m(\u001b[0m\u001b[0mcause\u001b[0m\u001b[0;34m)\u001b[0m\u001b[0;34m,\u001b[0m\u001b[0;34m\u001b[0m\u001b[0;34m\u001b[0m\u001b[0m\n\u001b[1;32m    195\u001b[0m             \u001b[0mcause\u001b[0m\u001b[0;34m=\u001b[0m\u001b[0mcause\u001b[0m\u001b[0;34m,\u001b[0m\u001b[0;34m\u001b[0m\u001b[0;34m\u001b[0m\u001b[0m\n\u001b[0;32m--> 196\u001b[0;31m             \u001b[0mtype_override\u001b[0m\u001b[0;34m=\u001b[0m\u001b[0mtype_override\u001b[0m\u001b[0;34m,\u001b[0m\u001b[0;34m\u001b[0m\u001b[0;34m\u001b[0m\u001b[0m\n\u001b[0m\u001b[1;32m    197\u001b[0m         )\n\u001b[1;32m    198\u001b[0m         \u001b[0;32massert\u001b[0m \u001b[0;32mFalse\u001b[0m\u001b[0;34m\u001b[0m\u001b[0;34m\u001b[0m\u001b[0m\n",
      "\u001b[0;32m~/anaconda3/lib/python3.7/site-packages/omegaconf/_utils.py\u001b[0m in \u001b[0;36mformat_and_raise\u001b[0;34m(node, key, value, msg, cause, type_override)\u001b[0m\n\u001b[1;32m    739\u001b[0m             \u001b[0mex\u001b[0m \u001b[0;34m=\u001b[0m \u001b[0mtype_override\u001b[0m\u001b[0;34m(\u001b[0m\u001b[0mstr\u001b[0m\u001b[0;34m(\u001b[0m\u001b[0mcause\u001b[0m\u001b[0;34m)\u001b[0m\u001b[0;34m)\u001b[0m\u001b[0;34m\u001b[0m\u001b[0;34m\u001b[0m\u001b[0m\n\u001b[1;32m    740\u001b[0m             \u001b[0mex\u001b[0m\u001b[0;34m.\u001b[0m\u001b[0m__dict__\u001b[0m \u001b[0;34m=\u001b[0m \u001b[0mcopy\u001b[0m\u001b[0;34m.\u001b[0m\u001b[0mdeepcopy\u001b[0m\u001b[0;34m(\u001b[0m\u001b[0mcause\u001b[0m\u001b[0;34m.\u001b[0m\u001b[0m__dict__\u001b[0m\u001b[0;34m)\u001b[0m\u001b[0;34m\u001b[0m\u001b[0;34m\u001b[0m\u001b[0m\n\u001b[0;32m--> 741\u001b[0;31m         \u001b[0m_raise\u001b[0m\u001b[0;34m(\u001b[0m\u001b[0mex\u001b[0m\u001b[0;34m,\u001b[0m \u001b[0mcause\u001b[0m\u001b[0;34m)\u001b[0m\u001b[0;34m\u001b[0m\u001b[0;34m\u001b[0m\u001b[0m\n\u001b[0m\u001b[1;32m    742\u001b[0m \u001b[0;34m\u001b[0m\u001b[0m\n\u001b[1;32m    743\u001b[0m     \u001b[0mobject_type\u001b[0m\u001b[0;34m:\u001b[0m \u001b[0mOptional\u001b[0m\u001b[0;34m[\u001b[0m\u001b[0mType\u001b[0m\u001b[0;34m[\u001b[0m\u001b[0mAny\u001b[0m\u001b[0;34m]\u001b[0m\u001b[0;34m]\u001b[0m\u001b[0;34m\u001b[0m\u001b[0;34m\u001b[0m\u001b[0m\n",
      "\u001b[0;32m~/anaconda3/lib/python3.7/site-packages/omegaconf/_utils.py\u001b[0m in \u001b[0;36m_raise\u001b[0;34m(ex, cause)\u001b[0m\n\u001b[1;32m    717\u001b[0m     \u001b[0;32melse\u001b[0m\u001b[0;34m:\u001b[0m\u001b[0;34m\u001b[0m\u001b[0;34m\u001b[0m\u001b[0m\n\u001b[1;32m    718\u001b[0m         \u001b[0mex\u001b[0m\u001b[0;34m.\u001b[0m\u001b[0m__cause__\u001b[0m \u001b[0;34m=\u001b[0m \u001b[0;32mNone\u001b[0m\u001b[0;34m\u001b[0m\u001b[0;34m\u001b[0m\u001b[0m\n\u001b[0;32m--> 719\u001b[0;31m     \u001b[0;32mraise\u001b[0m \u001b[0mex\u001b[0m\u001b[0;34m.\u001b[0m\u001b[0mwith_traceback\u001b[0m\u001b[0;34m(\u001b[0m\u001b[0msys\u001b[0m\u001b[0;34m.\u001b[0m\u001b[0mexc_info\u001b[0m\u001b[0;34m(\u001b[0m\u001b[0;34m)\u001b[0m\u001b[0;34m[\u001b[0m\u001b[0;36m2\u001b[0m\u001b[0;34m]\u001b[0m\u001b[0;34m)\u001b[0m  \u001b[0;31m# set end OC_CAUSE=1 for full backtrace\u001b[0m\u001b[0;34m\u001b[0m\u001b[0;34m\u001b[0m\u001b[0m\n\u001b[0m\u001b[1;32m    720\u001b[0m \u001b[0;34m\u001b[0m\u001b[0m\n\u001b[1;32m    721\u001b[0m \u001b[0;34m\u001b[0m\u001b[0m\n",
      "\u001b[0;32m~/anaconda3/lib/python3.7/site-packages/omegaconf/dictconfig.py\u001b[0m in \u001b[0;36m__getitem__\u001b[0;34m(self, key)\u001b[0m\n\u001b[1;32m    365\u001b[0m \u001b[0;34m\u001b[0m\u001b[0m\n\u001b[1;32m    366\u001b[0m         \u001b[0;32mtry\u001b[0m\u001b[0;34m:\u001b[0m\u001b[0;34m\u001b[0m\u001b[0;34m\u001b[0m\u001b[0m\n\u001b[0;32m--> 367\u001b[0;31m             \u001b[0;32mreturn\u001b[0m \u001b[0mself\u001b[0m\u001b[0;34m.\u001b[0m\u001b[0m_get_impl\u001b[0m\u001b[0;34m(\u001b[0m\u001b[0mkey\u001b[0m\u001b[0;34m=\u001b[0m\u001b[0mkey\u001b[0m\u001b[0;34m,\u001b[0m \u001b[0mdefault_value\u001b[0m\u001b[0;34m=\u001b[0m\u001b[0m_DEFAULT_MARKER_\u001b[0m\u001b[0;34m)\u001b[0m\u001b[0;34m\u001b[0m\u001b[0;34m\u001b[0m\u001b[0m\n\u001b[0m\u001b[1;32m    368\u001b[0m         \u001b[0;32mexcept\u001b[0m \u001b[0mAttributeError\u001b[0m \u001b[0;32mas\u001b[0m \u001b[0me\u001b[0m\u001b[0;34m:\u001b[0m\u001b[0;34m\u001b[0m\u001b[0;34m\u001b[0m\u001b[0m\n\u001b[1;32m    369\u001b[0m             self._format_and_raise(\n",
      "\u001b[0;32m~/anaconda3/lib/python3.7/site-packages/omegaconf/dictconfig.py\u001b[0m in \u001b[0;36m_get_impl\u001b[0;34m(self, key, default_value)\u001b[0m\n\u001b[1;32m    436\u001b[0m     \u001b[0;32mdef\u001b[0m \u001b[0m_get_impl\u001b[0m\u001b[0;34m(\u001b[0m\u001b[0mself\u001b[0m\u001b[0;34m,\u001b[0m \u001b[0mkey\u001b[0m\u001b[0;34m:\u001b[0m \u001b[0mDictKeyType\u001b[0m\u001b[0;34m,\u001b[0m \u001b[0mdefault_value\u001b[0m\u001b[0;34m:\u001b[0m \u001b[0mAny\u001b[0m\u001b[0;34m)\u001b[0m \u001b[0;34m->\u001b[0m \u001b[0mAny\u001b[0m\u001b[0;34m:\u001b[0m\u001b[0;34m\u001b[0m\u001b[0;34m\u001b[0m\u001b[0m\n\u001b[1;32m    437\u001b[0m         \u001b[0;32mtry\u001b[0m\u001b[0;34m:\u001b[0m\u001b[0;34m\u001b[0m\u001b[0;34m\u001b[0m\u001b[0m\n\u001b[0;32m--> 438\u001b[0;31m             \u001b[0mnode\u001b[0m \u001b[0;34m=\u001b[0m \u001b[0mself\u001b[0m\u001b[0;34m.\u001b[0m\u001b[0m_get_node\u001b[0m\u001b[0;34m(\u001b[0m\u001b[0mkey\u001b[0m\u001b[0;34m=\u001b[0m\u001b[0mkey\u001b[0m\u001b[0;34m,\u001b[0m \u001b[0mthrow_on_missing_key\u001b[0m\u001b[0;34m=\u001b[0m\u001b[0;32mTrue\u001b[0m\u001b[0;34m)\u001b[0m\u001b[0;34m\u001b[0m\u001b[0;34m\u001b[0m\u001b[0m\n\u001b[0m\u001b[1;32m    439\u001b[0m         \u001b[0;32mexcept\u001b[0m \u001b[0;34m(\u001b[0m\u001b[0mConfigAttributeError\u001b[0m\u001b[0;34m,\u001b[0m \u001b[0mConfigKeyError\u001b[0m\u001b[0;34m)\u001b[0m\u001b[0;34m:\u001b[0m\u001b[0;34m\u001b[0m\u001b[0;34m\u001b[0m\u001b[0m\n\u001b[1;32m    440\u001b[0m             \u001b[0;32mif\u001b[0m \u001b[0mdefault_value\u001b[0m \u001b[0;32mis\u001b[0m \u001b[0;32mnot\u001b[0m \u001b[0m_DEFAULT_MARKER_\u001b[0m\u001b[0;34m:\u001b[0m\u001b[0;34m\u001b[0m\u001b[0;34m\u001b[0m\u001b[0m\n",
      "\u001b[0;32m~/anaconda3/lib/python3.7/site-packages/omegaconf/dictconfig.py\u001b[0m in \u001b[0;36m_get_node\u001b[0;34m(self, key, validate_access, throw_on_missing_value, throw_on_missing_key)\u001b[0m\n\u001b[1;32m    463\u001b[0m \u001b[0;34m\u001b[0m\u001b[0m\n\u001b[1;32m    464\u001b[0m         \u001b[0;32mif\u001b[0m \u001b[0mvalidate_access\u001b[0m\u001b[0;34m:\u001b[0m\u001b[0;34m\u001b[0m\u001b[0;34m\u001b[0m\u001b[0m\n\u001b[0;32m--> 465\u001b[0;31m             \u001b[0mself\u001b[0m\u001b[0;34m.\u001b[0m\u001b[0m_validate_get\u001b[0m\u001b[0;34m(\u001b[0m\u001b[0mkey\u001b[0m\u001b[0;34m)\u001b[0m\u001b[0;34m\u001b[0m\u001b[0;34m\u001b[0m\u001b[0m\n\u001b[0m\u001b[1;32m    466\u001b[0m \u001b[0;34m\u001b[0m\u001b[0m\n\u001b[1;32m    467\u001b[0m         \u001b[0mvalue\u001b[0m\u001b[0;34m:\u001b[0m \u001b[0mOptional\u001b[0m\u001b[0;34m[\u001b[0m\u001b[0mNode\u001b[0m\u001b[0;34m]\u001b[0m \u001b[0;34m=\u001b[0m \u001b[0mself\u001b[0m\u001b[0;34m.\u001b[0m\u001b[0m__dict__\u001b[0m\u001b[0;34m[\u001b[0m\u001b[0;34m\"_content\"\u001b[0m\u001b[0;34m]\u001b[0m\u001b[0;34m.\u001b[0m\u001b[0mget\u001b[0m\u001b[0;34m(\u001b[0m\u001b[0mkey\u001b[0m\u001b[0;34m)\u001b[0m\u001b[0;34m\u001b[0m\u001b[0;34m\u001b[0m\u001b[0m\n",
      "\u001b[0;32m~/anaconda3/lib/python3.7/site-packages/omegaconf/dictconfig.py\u001b[0m in \u001b[0;36m_validate_get\u001b[0;34m(self, key, value)\u001b[0m\n\u001b[1;32m    165\u001b[0m                     \u001b[0mmsg\u001b[0m \u001b[0;34m=\u001b[0m \u001b[0;34mf\"Key '{key}' is not in struct\"\u001b[0m\u001b[0;34m\u001b[0m\u001b[0;34m\u001b[0m\u001b[0m\n\u001b[1;32m    166\u001b[0m                 self._format_and_raise(\n\u001b[0;32m--> 167\u001b[0;31m                     \u001b[0mkey\u001b[0m\u001b[0;34m=\u001b[0m\u001b[0mkey\u001b[0m\u001b[0;34m,\u001b[0m \u001b[0mvalue\u001b[0m\u001b[0;34m=\u001b[0m\u001b[0mvalue\u001b[0m\u001b[0;34m,\u001b[0m \u001b[0mcause\u001b[0m\u001b[0;34m=\u001b[0m\u001b[0mConfigAttributeError\u001b[0m\u001b[0;34m(\u001b[0m\u001b[0mmsg\u001b[0m\u001b[0;34m)\u001b[0m\u001b[0;34m\u001b[0m\u001b[0;34m\u001b[0m\u001b[0m\n\u001b[0m\u001b[1;32m    168\u001b[0m                 )\n\u001b[1;32m    169\u001b[0m \u001b[0;34m\u001b[0m\u001b[0m\n",
      "\u001b[0;32m~/anaconda3/lib/python3.7/site-packages/omegaconf/base.py\u001b[0m in \u001b[0;36m_format_and_raise\u001b[0;34m(self, key, value, cause, type_override)\u001b[0m\n\u001b[1;32m    194\u001b[0m             \u001b[0mmsg\u001b[0m\u001b[0;34m=\u001b[0m\u001b[0mstr\u001b[0m\u001b[0;34m(\u001b[0m\u001b[0mcause\u001b[0m\u001b[0;34m)\u001b[0m\u001b[0;34m,\u001b[0m\u001b[0;34m\u001b[0m\u001b[0;34m\u001b[0m\u001b[0m\n\u001b[1;32m    195\u001b[0m             \u001b[0mcause\u001b[0m\u001b[0;34m=\u001b[0m\u001b[0mcause\u001b[0m\u001b[0;34m,\u001b[0m\u001b[0;34m\u001b[0m\u001b[0;34m\u001b[0m\u001b[0m\n\u001b[0;32m--> 196\u001b[0;31m             \u001b[0mtype_override\u001b[0m\u001b[0;34m=\u001b[0m\u001b[0mtype_override\u001b[0m\u001b[0;34m,\u001b[0m\u001b[0;34m\u001b[0m\u001b[0;34m\u001b[0m\u001b[0m\n\u001b[0m\u001b[1;32m    197\u001b[0m         )\n\u001b[1;32m    198\u001b[0m         \u001b[0;32massert\u001b[0m \u001b[0;32mFalse\u001b[0m\u001b[0;34m\u001b[0m\u001b[0;34m\u001b[0m\u001b[0m\n",
      "\u001b[0;32m~/anaconda3/lib/python3.7/site-packages/omegaconf/_utils.py\u001b[0m in \u001b[0;36mformat_and_raise\u001b[0;34m(node, key, value, msg, cause, type_override)\u001b[0m\n\u001b[1;32m    819\u001b[0m         \u001b[0mex\u001b[0m\u001b[0;34m.\u001b[0m\u001b[0mref_type_str\u001b[0m \u001b[0;34m=\u001b[0m \u001b[0mref_type_str\u001b[0m\u001b[0;34m\u001b[0m\u001b[0;34m\u001b[0m\u001b[0m\n\u001b[1;32m    820\u001b[0m \u001b[0;34m\u001b[0m\u001b[0m\n\u001b[0;32m--> 821\u001b[0;31m     \u001b[0m_raise\u001b[0m\u001b[0;34m(\u001b[0m\u001b[0mex\u001b[0m\u001b[0;34m,\u001b[0m \u001b[0mcause\u001b[0m\u001b[0;34m)\u001b[0m\u001b[0;34m\u001b[0m\u001b[0;34m\u001b[0m\u001b[0m\n\u001b[0m\u001b[1;32m    822\u001b[0m \u001b[0;34m\u001b[0m\u001b[0m\n\u001b[1;32m    823\u001b[0m \u001b[0;34m\u001b[0m\u001b[0m\n",
      "\u001b[0;32m~/anaconda3/lib/python3.7/site-packages/omegaconf/_utils.py\u001b[0m in \u001b[0;36m_raise\u001b[0;34m(ex, cause)\u001b[0m\n\u001b[1;32m    717\u001b[0m     \u001b[0;32melse\u001b[0m\u001b[0;34m:\u001b[0m\u001b[0;34m\u001b[0m\u001b[0;34m\u001b[0m\u001b[0m\n\u001b[1;32m    718\u001b[0m         \u001b[0mex\u001b[0m\u001b[0;34m.\u001b[0m\u001b[0m__cause__\u001b[0m \u001b[0;34m=\u001b[0m \u001b[0;32mNone\u001b[0m\u001b[0;34m\u001b[0m\u001b[0;34m\u001b[0m\u001b[0m\n\u001b[0;32m--> 719\u001b[0;31m     \u001b[0;32mraise\u001b[0m \u001b[0mex\u001b[0m\u001b[0;34m.\u001b[0m\u001b[0mwith_traceback\u001b[0m\u001b[0;34m(\u001b[0m\u001b[0msys\u001b[0m\u001b[0;34m.\u001b[0m\u001b[0mexc_info\u001b[0m\u001b[0;34m(\u001b[0m\u001b[0;34m)\u001b[0m\u001b[0;34m[\u001b[0m\u001b[0;36m2\u001b[0m\u001b[0;34m]\u001b[0m\u001b[0;34m)\u001b[0m  \u001b[0;31m# set end OC_CAUSE=1 for full backtrace\u001b[0m\u001b[0;34m\u001b[0m\u001b[0;34m\u001b[0m\u001b[0m\n\u001b[0m\u001b[1;32m    720\u001b[0m \u001b[0;34m\u001b[0m\u001b[0m\n\u001b[1;32m    721\u001b[0m \u001b[0;34m\u001b[0m\u001b[0m\n",
      "\u001b[0;31mConfigKeyError\u001b[0m: Key 'train_ds' is not in struct\n    full_key: train_ds\n    object_type=dict"
     ]
    }
   ],
   "source": [
    "from omegaconf import DictConfig\n",
    "import pytorch_lightning as pl\n",
    "\n",
    "callback = PrintTableMetricsCallback()\n",
    "\n",
    "trainer = pl.Trainer(gpus=1, max_epochs=10, callbacks=[callback])\n",
    "\n",
    "params['train_ds']['manifest_filepath'] = train_manifest\n",
    "params['model']['validation_ds']['manifest_filepath'] = test_manifest\n",
    "\n",
    "model = nemo_asr.models.EncDecCTCModel(cfg=DictConfig(params['model']), trainer=trainer)\n",
    "\n",
    "new_opt = copy.deepcopy(params_citrinet['optim'])\n",
    "new_opt['lr'] = 0.001\n",
    "new_opt['betas'] = [0.95, 0.25]\n",
    "\n",
    "model.setup_optimization(optim_config=DictConfig(new_opt))"
   ]
  },
  {
   "cell_type": "code",
   "execution_count": 32,
   "metadata": {},
   "outputs": [
    {
     "data": {
      "text/plain": [
       "{'preprocessor': {'_target_': 'nemo.collections.asr.modules.AudioToMelSpectrogramPreprocessor', 'normalize': 'per_feature', 'window_size': 0.02, 'sample_rate': 16000, 'window_stride': 0.01, 'window': 'hann', 'features': 64, 'n_fft': 512, 'frame_splicing': 1, 'dither': 1e-05, 'stft_conv': False}, 'spec_augment': {'_target_': 'nemo.collections.asr.modules.SpectrogramAugmentation', 'rect_freq': 50, 'rect_masks': 5, 'rect_time': 120}, 'encoder': {'_target_': 'nemo.collections.asr.modules.ConvASREncoder', 'feat_in': 64, 'activation': 'relu', 'conv_mask': True, 'jasper': [{'filters': 256, 'repeat': 1, 'kernel': [33], 'stride': [2], 'dilation': [1], 'dropout': 0.0, 'residual': False, 'separable': True}, {'filters': 256, 'repeat': 5, 'kernel': [33], 'stride': [1], 'dilation': [1], 'dropout': 0.0, 'residual': True, 'separable': True}, {'filters': 256, 'repeat': 5, 'kernel': [33], 'stride': [1], 'dilation': [1], 'dropout': 0.0, 'residual': True, 'separable': True}, {'filters': 256, 'repeat': 5, 'kernel': [33], 'stride': [1], 'dilation': [1], 'dropout': 0.0, 'residual': True, 'separable': True}, {'filters': 256, 'repeat': 5, 'kernel': [39], 'stride': [1], 'dilation': [1], 'dropout': 0.0, 'residual': True, 'separable': True}, {'filters': 256, 'repeat': 5, 'kernel': [39], 'stride': [1], 'dilation': [1], 'dropout': 0.0, 'residual': True, 'separable': True}, {'filters': 256, 'repeat': 5, 'kernel': [39], 'stride': [1], 'dilation': [1], 'dropout': 0.0, 'residual': True, 'separable': True}, {'filters': 512, 'repeat': 5, 'kernel': [51], 'stride': [1], 'dilation': [1], 'dropout': 0.0, 'residual': True, 'separable': True}, {'filters': 512, 'repeat': 5, 'kernel': [51], 'stride': [1], 'dilation': [1], 'dropout': 0.0, 'residual': True, 'separable': True}, {'filters': 512, 'repeat': 5, 'kernel': [51], 'stride': [1], 'dilation': [1], 'dropout': 0.0, 'residual': True, 'separable': True}, {'filters': 512, 'repeat': 5, 'kernel': [63], 'stride': [1], 'dilation': [1], 'dropout': 0.0, 'residual': True, 'separable': True}, {'filters': 512, 'repeat': 5, 'kernel': [63], 'stride': [1], 'dilation': [1], 'dropout': 0.0, 'residual': True, 'separable': True}, {'filters': 512, 'repeat': 5, 'kernel': [63], 'stride': [1], 'dilation': [1], 'dropout': 0.0, 'residual': True, 'separable': True}, {'filters': 512, 'repeat': 5, 'kernel': [75], 'stride': [1], 'dilation': [1], 'dropout': 0.0, 'residual': True, 'separable': True}, {'filters': 512, 'repeat': 5, 'kernel': [75], 'stride': [1], 'dilation': [1], 'dropout': 0.0, 'residual': True, 'separable': True}, {'filters': 512, 'repeat': 5, 'kernel': [75], 'stride': [1], 'dilation': [1], 'dropout': 0.0, 'residual': True, 'separable': True}, {'filters': 512, 'repeat': 1, 'kernel': [87], 'stride': [1], 'dilation': [2], 'dropout': 0.0, 'residual': False, 'separable': True}, {'filters': 1024, 'repeat': 1, 'kernel': [1], 'stride': [1], 'dilation': [1], 'dropout': 0.0, 'residual': False}]}, 'decoder': {'_target_': 'nemo.collections.asr.modules.ConvASRDecoder', 'feat_in': 1024, 'num_classes': 28, 'vocabulary': [' ', 'a', 'b', 'c', 'd', 'e', 'f', 'g', 'h', 'i', 'j', 'k', 'l', 'm', 'n', 'o', 'p', 'q', 'r', 's', 't', 'u', 'v', 'w', 'x', 'y', 'z', \"'\"]}, 'optim': {'name': 'novograd', 'lr': 0.01, 'betas': [0.8, 0.5], 'weight_decay': 0.001}, 'target': 'nemo.collections.asr.models.ctc_models.EncDecCTCModel'}"
      ]
     },
     "execution_count": 32,
     "metadata": {},
     "output_type": "execute_result"
    }
   ],
   "source": [
    "params"
   ]
  },
  {
   "cell_type": "code",
   "execution_count": 23,
   "metadata": {
    "scrolled": true
   },
   "outputs": [
    {
     "name": "stderr",
     "output_type": "stream",
     "text": [
      "LOCAL_RANK: 0 - CUDA_VISIBLE_DEVICES: [0]\n",
      "[NeMo W 2021-10-25 15:40:06 modelPT:436] Trainer wasn't specified in model constructor. Make sure that you really wanted it.\n"
     ]
    },
    {
     "name": "stdout",
     "output_type": "stream",
     "text": [
      "[NeMo I 2021-10-25 15:40:06 modelPT:544] Optimizer config = Novograd (\n",
      "    Parameter Group 0\n",
      "        amsgrad: False\n",
      "        betas: [0.8, 0.5]\n",
      "        eps: 1e-08\n",
      "        grad_averaging: False\n",
      "        lr: 0.01\n",
      "        weight_decay: 0.001\n",
      "    )\n",
      "[NeMo I 2021-10-25 15:40:06 lr_scheduler:496] Scheduler not initialized as no `sched` config supplied to setup_optimizer()\n"
     ]
    },
    {
     "name": "stderr",
     "output_type": "stream",
     "text": [
      "\n",
      "  | Name              | Type                              | Params\n",
      "------------------------------------------------------------------------\n",
      "0 | preprocessor      | AudioToMelSpectrogramPreprocessor | 0     \n",
      "1 | encoder           | ConvASREncoder                    | 18.9 M\n",
      "2 | decoder           | ConvASRDecoder                    | 29.7 K\n",
      "3 | loss              | CTCLoss                           | 0     \n",
      "4 | spec_augmentation | SpectrogramAugmentation           | 0     \n",
      "5 | _wer              | WER                               | 0     \n",
      "------------------------------------------------------------------------\n",
      "18.9 M    Trainable params\n",
      "0         Non-trainable params\n",
      "18.9 M    Total params\n",
      "75.698    Total estimated model params size (MB)\n"
     ]
    },
    {
     "data": {
      "application/vnd.jupyter.widget-view+json": {
       "model_id": "",
       "version_major": 2,
       "version_minor": 0
      },
      "text/plain": [
       "Validation sanity check: 0it [00:00, ?it/s]"
      ]
     },
     "metadata": {},
     "output_type": "display_data"
    },
    {
     "name": "stderr",
     "output_type": "stream",
     "text": [
      "val_loss│val_wer\n",
      "────────────────\n",
      "871.3516845703125│0.9869109988212585\n",
      "825.8925170898438│1.0\n",
      "825.8925170898438│1.0\n",
      "792.4340209960938│0.9987063407897949\n",
      "792.4340209960938│0.9987063407897949\n",
      "584.275390625│1.0\n",
      "584.275390625│1.0\n",
      "352.31671142578125│0.9935317039489746\n",
      "352.31671142578125│0.9935317039489746\n",
      "211.39988708496094│1.0\n",
      "211.39988708496094│1.0\n",
      "154.7186737060547│1.0\n",
      "154.7186737060547│1.0\n",
      "84.98248291015625│1.0\n",
      "84.98248291015625│1.0\n",
      "84.27655029296875│1.0\n",
      "84.27655029296875│1.0\n",
      "84.6351547241211│1.0\n",
      "84.6351547241211│1.0\n",
      "78.88441467285156│1.0\n",
      "78.88441467285156│1.0\n",
      "1.2564302682876587│0.09162303805351257\n"
     ]
    },
    {
     "data": {
      "application/vnd.jupyter.widget-view+json": {
       "model_id": "f0a38b5a422a47f6afbfc4b76b5025b4",
       "version_major": 2,
       "version_minor": 0
      },
      "text/plain": [
       "Training: 29it [00:00, ?it/s]"
      ]
     },
     "metadata": {},
     "output_type": "display_data"
    },
    {
     "ename": "RuntimeError",
     "evalue": "CUDA out of memory. Tried to allocate 20.00 MiB (GPU 0; 7.79 GiB total capacity; 4.17 GiB already allocated; 30.69 MiB free; 4.18 GiB reserved in total by PyTorch)",
     "output_type": "error",
     "traceback": [
      "\u001b[0;31m---------------------------------------------------------------------------\u001b[0m",
      "\u001b[0;31mRuntimeError\u001b[0m                              Traceback (most recent call last)",
      "\u001b[0;32m<ipython-input-23-37014a21f5ae>\u001b[0m in \u001b[0;36m<module>\u001b[0;34m\u001b[0m\n\u001b[0;32m----> 1\u001b[0;31m \u001b[0mtrainer\u001b[0m\u001b[0;34m.\u001b[0m\u001b[0mfit\u001b[0m\u001b[0;34m(\u001b[0m\u001b[0mquartznet15x5\u001b[0m\u001b[0;34m)\u001b[0m\u001b[0;34m\u001b[0m\u001b[0;34m\u001b[0m\u001b[0m\n\u001b[0m",
      "\u001b[0;32m~/anaconda3/lib/python3.7/site-packages/pytorch_lightning/trainer/trainer.py\u001b[0m in \u001b[0;36mfit\u001b[0;34m(self, model, train_dataloaders, val_dataloaders, datamodule, train_dataloader)\u001b[0m\n\u001b[1;32m    550\u001b[0m         \u001b[0mself\u001b[0m\u001b[0;34m.\u001b[0m\u001b[0mcheckpoint_connector\u001b[0m\u001b[0;34m.\u001b[0m\u001b[0mresume_start\u001b[0m\u001b[0;34m(\u001b[0m\u001b[0;34m)\u001b[0m\u001b[0;34m\u001b[0m\u001b[0;34m\u001b[0m\u001b[0m\n\u001b[1;32m    551\u001b[0m \u001b[0;34m\u001b[0m\u001b[0m\n\u001b[0;32m--> 552\u001b[0;31m         \u001b[0mself\u001b[0m\u001b[0;34m.\u001b[0m\u001b[0m_run\u001b[0m\u001b[0;34m(\u001b[0m\u001b[0mmodel\u001b[0m\u001b[0;34m)\u001b[0m\u001b[0;34m\u001b[0m\u001b[0;34m\u001b[0m\u001b[0m\n\u001b[0m\u001b[1;32m    553\u001b[0m \u001b[0;34m\u001b[0m\u001b[0m\n\u001b[1;32m    554\u001b[0m         \u001b[0;32massert\u001b[0m \u001b[0mself\u001b[0m\u001b[0;34m.\u001b[0m\u001b[0mstate\u001b[0m\u001b[0;34m.\u001b[0m\u001b[0mstopped\u001b[0m\u001b[0;34m\u001b[0m\u001b[0;34m\u001b[0m\u001b[0m\n",
      "\u001b[0;32m~/anaconda3/lib/python3.7/site-packages/pytorch_lightning/trainer/trainer.py\u001b[0m in \u001b[0;36m_run\u001b[0;34m(self, model)\u001b[0m\n\u001b[1;32m    920\u001b[0m \u001b[0;34m\u001b[0m\u001b[0m\n\u001b[1;32m    921\u001b[0m         \u001b[0;31m# dispatch `start_training` or `start_evaluating` or `start_predicting`\u001b[0m\u001b[0;34m\u001b[0m\u001b[0;34m\u001b[0m\u001b[0;34m\u001b[0m\u001b[0m\n\u001b[0;32m--> 922\u001b[0;31m         \u001b[0mself\u001b[0m\u001b[0;34m.\u001b[0m\u001b[0m_dispatch\u001b[0m\u001b[0;34m(\u001b[0m\u001b[0;34m)\u001b[0m\u001b[0;34m\u001b[0m\u001b[0;34m\u001b[0m\u001b[0m\n\u001b[0m\u001b[1;32m    923\u001b[0m \u001b[0;34m\u001b[0m\u001b[0m\n\u001b[1;32m    924\u001b[0m         \u001b[0;31m# plugin will finalized fitting (e.g. ddp_spawn will load trained model)\u001b[0m\u001b[0;34m\u001b[0m\u001b[0;34m\u001b[0m\u001b[0;34m\u001b[0m\u001b[0m\n",
      "\u001b[0;32m~/anaconda3/lib/python3.7/site-packages/pytorch_lightning/trainer/trainer.py\u001b[0m in \u001b[0;36m_dispatch\u001b[0;34m(self)\u001b[0m\n\u001b[1;32m    988\u001b[0m             \u001b[0mself\u001b[0m\u001b[0;34m.\u001b[0m\u001b[0maccelerator\u001b[0m\u001b[0;34m.\u001b[0m\u001b[0mstart_predicting\u001b[0m\u001b[0;34m(\u001b[0m\u001b[0mself\u001b[0m\u001b[0;34m)\u001b[0m\u001b[0;34m\u001b[0m\u001b[0;34m\u001b[0m\u001b[0m\n\u001b[1;32m    989\u001b[0m         \u001b[0;32melse\u001b[0m\u001b[0;34m:\u001b[0m\u001b[0;34m\u001b[0m\u001b[0;34m\u001b[0m\u001b[0m\n\u001b[0;32m--> 990\u001b[0;31m             \u001b[0mself\u001b[0m\u001b[0;34m.\u001b[0m\u001b[0maccelerator\u001b[0m\u001b[0;34m.\u001b[0m\u001b[0mstart_training\u001b[0m\u001b[0;34m(\u001b[0m\u001b[0mself\u001b[0m\u001b[0;34m)\u001b[0m\u001b[0;34m\u001b[0m\u001b[0;34m\u001b[0m\u001b[0m\n\u001b[0m\u001b[1;32m    991\u001b[0m \u001b[0;34m\u001b[0m\u001b[0m\n\u001b[1;32m    992\u001b[0m     \u001b[0;32mdef\u001b[0m \u001b[0mrun_stage\u001b[0m\u001b[0;34m(\u001b[0m\u001b[0mself\u001b[0m\u001b[0;34m)\u001b[0m\u001b[0;34m:\u001b[0m\u001b[0;34m\u001b[0m\u001b[0;34m\u001b[0m\u001b[0m\n",
      "\u001b[0;32m~/anaconda3/lib/python3.7/site-packages/pytorch_lightning/accelerators/accelerator.py\u001b[0m in \u001b[0;36mstart_training\u001b[0;34m(self, trainer)\u001b[0m\n\u001b[1;32m     90\u001b[0m \u001b[0;34m\u001b[0m\u001b[0m\n\u001b[1;32m     91\u001b[0m     \u001b[0;32mdef\u001b[0m \u001b[0mstart_training\u001b[0m\u001b[0;34m(\u001b[0m\u001b[0mself\u001b[0m\u001b[0;34m,\u001b[0m \u001b[0mtrainer\u001b[0m\u001b[0;34m:\u001b[0m \u001b[0;34m\"pl.Trainer\"\u001b[0m\u001b[0;34m)\u001b[0m \u001b[0;34m->\u001b[0m \u001b[0;32mNone\u001b[0m\u001b[0;34m:\u001b[0m\u001b[0;34m\u001b[0m\u001b[0;34m\u001b[0m\u001b[0m\n\u001b[0;32m---> 92\u001b[0;31m         \u001b[0mself\u001b[0m\u001b[0;34m.\u001b[0m\u001b[0mtraining_type_plugin\u001b[0m\u001b[0;34m.\u001b[0m\u001b[0mstart_training\u001b[0m\u001b[0;34m(\u001b[0m\u001b[0mtrainer\u001b[0m\u001b[0;34m)\u001b[0m\u001b[0;34m\u001b[0m\u001b[0;34m\u001b[0m\u001b[0m\n\u001b[0m\u001b[1;32m     93\u001b[0m \u001b[0;34m\u001b[0m\u001b[0m\n\u001b[1;32m     94\u001b[0m     \u001b[0;32mdef\u001b[0m \u001b[0mstart_evaluating\u001b[0m\u001b[0;34m(\u001b[0m\u001b[0mself\u001b[0m\u001b[0;34m,\u001b[0m \u001b[0mtrainer\u001b[0m\u001b[0;34m:\u001b[0m \u001b[0;34m\"pl.Trainer\"\u001b[0m\u001b[0;34m)\u001b[0m \u001b[0;34m->\u001b[0m \u001b[0;32mNone\u001b[0m\u001b[0;34m:\u001b[0m\u001b[0;34m\u001b[0m\u001b[0;34m\u001b[0m\u001b[0m\n",
      "\u001b[0;32m~/anaconda3/lib/python3.7/site-packages/pytorch_lightning/plugins/training_type/training_type_plugin.py\u001b[0m in \u001b[0;36mstart_training\u001b[0;34m(self, trainer)\u001b[0m\n\u001b[1;32m    159\u001b[0m     \u001b[0;32mdef\u001b[0m \u001b[0mstart_training\u001b[0m\u001b[0;34m(\u001b[0m\u001b[0mself\u001b[0m\u001b[0;34m,\u001b[0m \u001b[0mtrainer\u001b[0m\u001b[0;34m:\u001b[0m \u001b[0;34m\"pl.Trainer\"\u001b[0m\u001b[0;34m)\u001b[0m \u001b[0;34m->\u001b[0m \u001b[0;32mNone\u001b[0m\u001b[0;34m:\u001b[0m\u001b[0;34m\u001b[0m\u001b[0;34m\u001b[0m\u001b[0m\n\u001b[1;32m    160\u001b[0m         \u001b[0;31m# double dispatch to initiate the training loop\u001b[0m\u001b[0;34m\u001b[0m\u001b[0;34m\u001b[0m\u001b[0;34m\u001b[0m\u001b[0m\n\u001b[0;32m--> 161\u001b[0;31m         \u001b[0mself\u001b[0m\u001b[0;34m.\u001b[0m\u001b[0m_results\u001b[0m \u001b[0;34m=\u001b[0m \u001b[0mtrainer\u001b[0m\u001b[0;34m.\u001b[0m\u001b[0mrun_stage\u001b[0m\u001b[0;34m(\u001b[0m\u001b[0;34m)\u001b[0m\u001b[0;34m\u001b[0m\u001b[0;34m\u001b[0m\u001b[0m\n\u001b[0m\u001b[1;32m    162\u001b[0m \u001b[0;34m\u001b[0m\u001b[0m\n\u001b[1;32m    163\u001b[0m     \u001b[0;32mdef\u001b[0m \u001b[0mstart_evaluating\u001b[0m\u001b[0;34m(\u001b[0m\u001b[0mself\u001b[0m\u001b[0;34m,\u001b[0m \u001b[0mtrainer\u001b[0m\u001b[0;34m:\u001b[0m \u001b[0;34m\"pl.Trainer\"\u001b[0m\u001b[0;34m)\u001b[0m \u001b[0;34m->\u001b[0m \u001b[0;32mNone\u001b[0m\u001b[0;34m:\u001b[0m\u001b[0;34m\u001b[0m\u001b[0;34m\u001b[0m\u001b[0m\n",
      "\u001b[0;32m~/anaconda3/lib/python3.7/site-packages/pytorch_lightning/trainer/trainer.py\u001b[0m in \u001b[0;36mrun_stage\u001b[0;34m(self)\u001b[0m\n\u001b[1;32m    998\u001b[0m         \u001b[0;32mif\u001b[0m \u001b[0mself\u001b[0m\u001b[0;34m.\u001b[0m\u001b[0mpredicting\u001b[0m\u001b[0;34m:\u001b[0m\u001b[0;34m\u001b[0m\u001b[0;34m\u001b[0m\u001b[0m\n\u001b[1;32m    999\u001b[0m             \u001b[0;32mreturn\u001b[0m \u001b[0mself\u001b[0m\u001b[0;34m.\u001b[0m\u001b[0m_run_predict\u001b[0m\u001b[0;34m(\u001b[0m\u001b[0;34m)\u001b[0m\u001b[0;34m\u001b[0m\u001b[0;34m\u001b[0m\u001b[0m\n\u001b[0;32m-> 1000\u001b[0;31m         \u001b[0;32mreturn\u001b[0m \u001b[0mself\u001b[0m\u001b[0;34m.\u001b[0m\u001b[0m_run_train\u001b[0m\u001b[0;34m(\u001b[0m\u001b[0;34m)\u001b[0m\u001b[0;34m\u001b[0m\u001b[0;34m\u001b[0m\u001b[0m\n\u001b[0m\u001b[1;32m   1001\u001b[0m \u001b[0;34m\u001b[0m\u001b[0m\n\u001b[1;32m   1002\u001b[0m     \u001b[0;32mdef\u001b[0m \u001b[0m_pre_training_routine\u001b[0m\u001b[0;34m(\u001b[0m\u001b[0mself\u001b[0m\u001b[0;34m)\u001b[0m\u001b[0;34m:\u001b[0m\u001b[0;34m\u001b[0m\u001b[0;34m\u001b[0m\u001b[0m\n",
      "\u001b[0;32m~/anaconda3/lib/python3.7/site-packages/pytorch_lightning/trainer/trainer.py\u001b[0m in \u001b[0;36m_run_train\u001b[0;34m(self)\u001b[0m\n\u001b[1;32m   1047\u001b[0m             \u001b[0;31m# reset trainer on this loop and all child loops in case user connected a custom loop\u001b[0m\u001b[0;34m\u001b[0m\u001b[0;34m\u001b[0m\u001b[0;34m\u001b[0m\u001b[0m\n\u001b[1;32m   1048\u001b[0m             \u001b[0mself\u001b[0m\u001b[0;34m.\u001b[0m\u001b[0mfit_loop\u001b[0m\u001b[0;34m.\u001b[0m\u001b[0mtrainer\u001b[0m \u001b[0;34m=\u001b[0m \u001b[0mself\u001b[0m\u001b[0;34m\u001b[0m\u001b[0;34m\u001b[0m\u001b[0m\n\u001b[0;32m-> 1049\u001b[0;31m             \u001b[0mself\u001b[0m\u001b[0;34m.\u001b[0m\u001b[0mfit_loop\u001b[0m\u001b[0;34m.\u001b[0m\u001b[0mrun\u001b[0m\u001b[0;34m(\u001b[0m\u001b[0;34m)\u001b[0m\u001b[0;34m\u001b[0m\u001b[0;34m\u001b[0m\u001b[0m\n\u001b[0m\u001b[1;32m   1050\u001b[0m         \u001b[0;32mexcept\u001b[0m \u001b[0mKeyboardInterrupt\u001b[0m\u001b[0;34m:\u001b[0m\u001b[0;34m\u001b[0m\u001b[0;34m\u001b[0m\u001b[0m\n\u001b[1;32m   1051\u001b[0m             \u001b[0mrank_zero_warn\u001b[0m\u001b[0;34m(\u001b[0m\u001b[0;34m\"Detected KeyboardInterrupt, attempting graceful shutdown...\"\u001b[0m\u001b[0;34m)\u001b[0m\u001b[0;34m\u001b[0m\u001b[0;34m\u001b[0m\u001b[0m\n",
      "\u001b[0;32m~/anaconda3/lib/python3.7/site-packages/pytorch_lightning/loops/base.py\u001b[0m in \u001b[0;36mrun\u001b[0;34m(self, *args, **kwargs)\u001b[0m\n\u001b[1;32m    109\u001b[0m             \u001b[0;32mtry\u001b[0m\u001b[0;34m:\u001b[0m\u001b[0;34m\u001b[0m\u001b[0;34m\u001b[0m\u001b[0m\n\u001b[1;32m    110\u001b[0m                 \u001b[0mself\u001b[0m\u001b[0;34m.\u001b[0m\u001b[0mon_advance_start\u001b[0m\u001b[0;34m(\u001b[0m\u001b[0;34m*\u001b[0m\u001b[0margs\u001b[0m\u001b[0;34m,\u001b[0m \u001b[0;34m**\u001b[0m\u001b[0mkwargs\u001b[0m\u001b[0;34m)\u001b[0m\u001b[0;34m\u001b[0m\u001b[0;34m\u001b[0m\u001b[0m\n\u001b[0;32m--> 111\u001b[0;31m                 \u001b[0mself\u001b[0m\u001b[0;34m.\u001b[0m\u001b[0madvance\u001b[0m\u001b[0;34m(\u001b[0m\u001b[0;34m*\u001b[0m\u001b[0margs\u001b[0m\u001b[0;34m,\u001b[0m \u001b[0;34m**\u001b[0m\u001b[0mkwargs\u001b[0m\u001b[0;34m)\u001b[0m\u001b[0;34m\u001b[0m\u001b[0;34m\u001b[0m\u001b[0m\n\u001b[0m\u001b[1;32m    112\u001b[0m                 \u001b[0mself\u001b[0m\u001b[0;34m.\u001b[0m\u001b[0mon_advance_end\u001b[0m\u001b[0;34m(\u001b[0m\u001b[0;34m)\u001b[0m\u001b[0;34m\u001b[0m\u001b[0;34m\u001b[0m\u001b[0m\n\u001b[1;32m    113\u001b[0m                 \u001b[0mself\u001b[0m\u001b[0;34m.\u001b[0m\u001b[0miteration_count\u001b[0m \u001b[0;34m+=\u001b[0m \u001b[0;36m1\u001b[0m\u001b[0;34m\u001b[0m\u001b[0;34m\u001b[0m\u001b[0m\n",
      "\u001b[0;32m~/anaconda3/lib/python3.7/site-packages/pytorch_lightning/loops/fit_loop.py\u001b[0m in \u001b[0;36madvance\u001b[0;34m(self)\u001b[0m\n\u001b[1;32m    198\u001b[0m         \u001b[0;32mwith\u001b[0m \u001b[0mself\u001b[0m\u001b[0;34m.\u001b[0m\u001b[0mtrainer\u001b[0m\u001b[0;34m.\u001b[0m\u001b[0mprofiler\u001b[0m\u001b[0;34m.\u001b[0m\u001b[0mprofile\u001b[0m\u001b[0;34m(\u001b[0m\u001b[0;34m\"run_training_epoch\"\u001b[0m\u001b[0;34m)\u001b[0m\u001b[0;34m:\u001b[0m\u001b[0;34m\u001b[0m\u001b[0;34m\u001b[0m\u001b[0m\n\u001b[1;32m    199\u001b[0m             \u001b[0;31m# run train epoch\u001b[0m\u001b[0;34m\u001b[0m\u001b[0;34m\u001b[0m\u001b[0;34m\u001b[0m\u001b[0m\n\u001b[0;32m--> 200\u001b[0;31m             \u001b[0mepoch_output\u001b[0m \u001b[0;34m=\u001b[0m \u001b[0mself\u001b[0m\u001b[0;34m.\u001b[0m\u001b[0mepoch_loop\u001b[0m\u001b[0;34m.\u001b[0m\u001b[0mrun\u001b[0m\u001b[0;34m(\u001b[0m\u001b[0mtrain_dataloader\u001b[0m\u001b[0;34m)\u001b[0m\u001b[0;34m\u001b[0m\u001b[0;34m\u001b[0m\u001b[0m\n\u001b[0m\u001b[1;32m    201\u001b[0m \u001b[0;34m\u001b[0m\u001b[0m\n\u001b[1;32m    202\u001b[0m             \u001b[0;32mif\u001b[0m \u001b[0mepoch_output\u001b[0m \u001b[0;32mis\u001b[0m \u001b[0;32mNone\u001b[0m\u001b[0;34m:\u001b[0m\u001b[0;34m\u001b[0m\u001b[0;34m\u001b[0m\u001b[0m\n",
      "\u001b[0;32m~/anaconda3/lib/python3.7/site-packages/pytorch_lightning/loops/base.py\u001b[0m in \u001b[0;36mrun\u001b[0;34m(self, *args, **kwargs)\u001b[0m\n\u001b[1;32m    109\u001b[0m             \u001b[0;32mtry\u001b[0m\u001b[0;34m:\u001b[0m\u001b[0;34m\u001b[0m\u001b[0;34m\u001b[0m\u001b[0m\n\u001b[1;32m    110\u001b[0m                 \u001b[0mself\u001b[0m\u001b[0;34m.\u001b[0m\u001b[0mon_advance_start\u001b[0m\u001b[0;34m(\u001b[0m\u001b[0;34m*\u001b[0m\u001b[0margs\u001b[0m\u001b[0;34m,\u001b[0m \u001b[0;34m**\u001b[0m\u001b[0mkwargs\u001b[0m\u001b[0;34m)\u001b[0m\u001b[0;34m\u001b[0m\u001b[0;34m\u001b[0m\u001b[0m\n\u001b[0;32m--> 111\u001b[0;31m                 \u001b[0mself\u001b[0m\u001b[0;34m.\u001b[0m\u001b[0madvance\u001b[0m\u001b[0;34m(\u001b[0m\u001b[0;34m*\u001b[0m\u001b[0margs\u001b[0m\u001b[0;34m,\u001b[0m \u001b[0;34m**\u001b[0m\u001b[0mkwargs\u001b[0m\u001b[0;34m)\u001b[0m\u001b[0;34m\u001b[0m\u001b[0;34m\u001b[0m\u001b[0m\n\u001b[0m\u001b[1;32m    112\u001b[0m                 \u001b[0mself\u001b[0m\u001b[0;34m.\u001b[0m\u001b[0mon_advance_end\u001b[0m\u001b[0;34m(\u001b[0m\u001b[0;34m)\u001b[0m\u001b[0;34m\u001b[0m\u001b[0;34m\u001b[0m\u001b[0m\n\u001b[1;32m    113\u001b[0m                 \u001b[0mself\u001b[0m\u001b[0;34m.\u001b[0m\u001b[0miteration_count\u001b[0m \u001b[0;34m+=\u001b[0m \u001b[0;36m1\u001b[0m\u001b[0;34m\u001b[0m\u001b[0;34m\u001b[0m\u001b[0m\n",
      "\u001b[0;32m~/anaconda3/lib/python3.7/site-packages/pytorch_lightning/loops/epoch/training_epoch_loop.py\u001b[0m in \u001b[0;36madvance\u001b[0;34m(self, dataloader_iter, **kwargs)\u001b[0m\n\u001b[1;32m    128\u001b[0m \u001b[0;34m\u001b[0m\u001b[0m\n\u001b[1;32m    129\u001b[0m         \u001b[0;32mwith\u001b[0m \u001b[0mself\u001b[0m\u001b[0;34m.\u001b[0m\u001b[0mtrainer\u001b[0m\u001b[0;34m.\u001b[0m\u001b[0mprofiler\u001b[0m\u001b[0;34m.\u001b[0m\u001b[0mprofile\u001b[0m\u001b[0;34m(\u001b[0m\u001b[0;34m\"run_training_batch\"\u001b[0m\u001b[0;34m)\u001b[0m\u001b[0;34m:\u001b[0m\u001b[0;34m\u001b[0m\u001b[0;34m\u001b[0m\u001b[0m\n\u001b[0;32m--> 130\u001b[0;31m             \u001b[0mbatch_output\u001b[0m \u001b[0;34m=\u001b[0m \u001b[0mself\u001b[0m\u001b[0;34m.\u001b[0m\u001b[0mbatch_loop\u001b[0m\u001b[0;34m.\u001b[0m\u001b[0mrun\u001b[0m\u001b[0;34m(\u001b[0m\u001b[0mbatch\u001b[0m\u001b[0;34m,\u001b[0m \u001b[0mself\u001b[0m\u001b[0;34m.\u001b[0m\u001b[0miteration_count\u001b[0m\u001b[0;34m,\u001b[0m \u001b[0mself\u001b[0m\u001b[0;34m.\u001b[0m\u001b[0m_dataloader_idx\u001b[0m\u001b[0;34m)\u001b[0m\u001b[0;34m\u001b[0m\u001b[0;34m\u001b[0m\u001b[0m\n\u001b[0m\u001b[1;32m    131\u001b[0m             \u001b[0mself\u001b[0m\u001b[0;34m.\u001b[0m\u001b[0mbatches_seen\u001b[0m \u001b[0;34m+=\u001b[0m \u001b[0;36m1\u001b[0m\u001b[0;34m\u001b[0m\u001b[0;34m\u001b[0m\u001b[0m\n\u001b[1;32m    132\u001b[0m \u001b[0;34m\u001b[0m\u001b[0m\n",
      "\u001b[0;32m~/anaconda3/lib/python3.7/site-packages/pytorch_lightning/loops/batch/training_batch_loop.py\u001b[0m in \u001b[0;36mrun\u001b[0;34m(self, batch, batch_idx, dataloader_idx)\u001b[0m\n\u001b[1;32m     98\u001b[0m         \u001b[0mself\u001b[0m\u001b[0;34m.\u001b[0m\u001b[0mtrainer\u001b[0m\u001b[0;34m.\u001b[0m\u001b[0mfit_loop\u001b[0m\u001b[0;34m.\u001b[0m\u001b[0mepoch_loop\u001b[0m\u001b[0;34m.\u001b[0m\u001b[0mbatch_progress\u001b[0m\u001b[0;34m.\u001b[0m\u001b[0mincrement_started\u001b[0m\u001b[0;34m(\u001b[0m\u001b[0;34m)\u001b[0m\u001b[0;34m\u001b[0m\u001b[0;34m\u001b[0m\u001b[0m\n\u001b[1;32m     99\u001b[0m \u001b[0;34m\u001b[0m\u001b[0m\n\u001b[0;32m--> 100\u001b[0;31m         \u001b[0msuper\u001b[0m\u001b[0;34m(\u001b[0m\u001b[0;34m)\u001b[0m\u001b[0;34m.\u001b[0m\u001b[0mrun\u001b[0m\u001b[0;34m(\u001b[0m\u001b[0mbatch\u001b[0m\u001b[0;34m,\u001b[0m \u001b[0mbatch_idx\u001b[0m\u001b[0;34m,\u001b[0m \u001b[0mdataloader_idx\u001b[0m\u001b[0;34m)\u001b[0m\u001b[0;34m\u001b[0m\u001b[0;34m\u001b[0m\u001b[0m\n\u001b[0m\u001b[1;32m    101\u001b[0m         \u001b[0moutput\u001b[0m \u001b[0;34m=\u001b[0m \u001b[0mAttributeDict\u001b[0m\u001b[0;34m(\u001b[0m\u001b[0msignal\u001b[0m\u001b[0;34m=\u001b[0m\u001b[0;36m0\u001b[0m\u001b[0;34m,\u001b[0m \u001b[0mtraining_step_output\u001b[0m\u001b[0;34m=\u001b[0m\u001b[0mself\u001b[0m\u001b[0;34m.\u001b[0m\u001b[0mbatch_outputs\u001b[0m\u001b[0;34m)\u001b[0m\u001b[0;34m\u001b[0m\u001b[0;34m\u001b[0m\u001b[0m\n\u001b[1;32m    102\u001b[0m         \u001b[0mself\u001b[0m\u001b[0;34m.\u001b[0m\u001b[0mbatch_outputs\u001b[0m \u001b[0;34m=\u001b[0m \u001b[0;32mNone\u001b[0m  \u001b[0;31m# free memory\u001b[0m\u001b[0;34m\u001b[0m\u001b[0;34m\u001b[0m\u001b[0m\n",
      "\u001b[0;32m~/anaconda3/lib/python3.7/site-packages/pytorch_lightning/loops/base.py\u001b[0m in \u001b[0;36mrun\u001b[0;34m(self, *args, **kwargs)\u001b[0m\n\u001b[1;32m    109\u001b[0m             \u001b[0;32mtry\u001b[0m\u001b[0;34m:\u001b[0m\u001b[0;34m\u001b[0m\u001b[0;34m\u001b[0m\u001b[0m\n\u001b[1;32m    110\u001b[0m                 \u001b[0mself\u001b[0m\u001b[0;34m.\u001b[0m\u001b[0mon_advance_start\u001b[0m\u001b[0;34m(\u001b[0m\u001b[0;34m*\u001b[0m\u001b[0margs\u001b[0m\u001b[0;34m,\u001b[0m \u001b[0;34m**\u001b[0m\u001b[0mkwargs\u001b[0m\u001b[0;34m)\u001b[0m\u001b[0;34m\u001b[0m\u001b[0;34m\u001b[0m\u001b[0m\n\u001b[0;32m--> 111\u001b[0;31m                 \u001b[0mself\u001b[0m\u001b[0;34m.\u001b[0m\u001b[0madvance\u001b[0m\u001b[0;34m(\u001b[0m\u001b[0;34m*\u001b[0m\u001b[0margs\u001b[0m\u001b[0;34m,\u001b[0m \u001b[0;34m**\u001b[0m\u001b[0mkwargs\u001b[0m\u001b[0;34m)\u001b[0m\u001b[0;34m\u001b[0m\u001b[0;34m\u001b[0m\u001b[0m\n\u001b[0m\u001b[1;32m    112\u001b[0m                 \u001b[0mself\u001b[0m\u001b[0;34m.\u001b[0m\u001b[0mon_advance_end\u001b[0m\u001b[0;34m(\u001b[0m\u001b[0;34m)\u001b[0m\u001b[0;34m\u001b[0m\u001b[0;34m\u001b[0m\u001b[0m\n\u001b[1;32m    113\u001b[0m                 \u001b[0mself\u001b[0m\u001b[0;34m.\u001b[0m\u001b[0miteration_count\u001b[0m \u001b[0;34m+=\u001b[0m \u001b[0;36m1\u001b[0m\u001b[0;34m\u001b[0m\u001b[0;34m\u001b[0m\u001b[0m\n",
      "\u001b[0;32m~/anaconda3/lib/python3.7/site-packages/pytorch_lightning/loops/batch/training_batch_loop.py\u001b[0m in \u001b[0;36madvance\u001b[0;34m(self, batch, batch_idx, dataloader_idx)\u001b[0m\n\u001b[1;32m    145\u001b[0m                 \u001b[0mself\u001b[0m\u001b[0;34m.\u001b[0m\u001b[0moptim_progress\u001b[0m\u001b[0;34m.\u001b[0m\u001b[0moptimizer_idx\u001b[0m \u001b[0;34m=\u001b[0m \u001b[0mopt_idx\u001b[0m\u001b[0;34m\u001b[0m\u001b[0;34m\u001b[0m\u001b[0m\n\u001b[1;32m    146\u001b[0m \u001b[0;34m\u001b[0m\u001b[0m\n\u001b[0;32m--> 147\u001b[0;31m                 \u001b[0mresult\u001b[0m \u001b[0;34m=\u001b[0m \u001b[0mself\u001b[0m\u001b[0;34m.\u001b[0m\u001b[0m_run_optimization\u001b[0m\u001b[0;34m(\u001b[0m\u001b[0mbatch_idx\u001b[0m\u001b[0;34m,\u001b[0m \u001b[0msplit_batch\u001b[0m\u001b[0;34m,\u001b[0m \u001b[0mopt_idx\u001b[0m\u001b[0;34m,\u001b[0m \u001b[0moptimizer\u001b[0m\u001b[0;34m)\u001b[0m\u001b[0;34m\u001b[0m\u001b[0;34m\u001b[0m\u001b[0m\n\u001b[0m\u001b[1;32m    148\u001b[0m                 \u001b[0;32mif\u001b[0m \u001b[0mresult\u001b[0m\u001b[0;34m:\u001b[0m\u001b[0;34m\u001b[0m\u001b[0;34m\u001b[0m\u001b[0m\n\u001b[1;32m    149\u001b[0m                     \u001b[0mself\u001b[0m\u001b[0;34m.\u001b[0m\u001b[0mbatch_outputs\u001b[0m\u001b[0;34m[\u001b[0m\u001b[0mopt_idx\u001b[0m\u001b[0;34m]\u001b[0m\u001b[0;34m.\u001b[0m\u001b[0mappend\u001b[0m\u001b[0;34m(\u001b[0m\u001b[0mdeepcopy\u001b[0m\u001b[0;34m(\u001b[0m\u001b[0mresult\u001b[0m\u001b[0;34m.\u001b[0m\u001b[0mtraining_step_output\u001b[0m\u001b[0;34m)\u001b[0m\u001b[0;34m)\u001b[0m\u001b[0;34m\u001b[0m\u001b[0;34m\u001b[0m\u001b[0m\n",
      "\u001b[0;32m~/anaconda3/lib/python3.7/site-packages/pytorch_lightning/loops/batch/training_batch_loop.py\u001b[0m in \u001b[0;36m_run_optimization\u001b[0;34m(self, batch_idx, split_batch, opt_idx, optimizer)\u001b[0m\n\u001b[1;32m    199\u001b[0m         \u001b[0;32melse\u001b[0m\u001b[0;34m:\u001b[0m\u001b[0;34m\u001b[0m\u001b[0;34m\u001b[0m\u001b[0m\n\u001b[1;32m    200\u001b[0m             \u001b[0;32mif\u001b[0m \u001b[0mself\u001b[0m\u001b[0;34m.\u001b[0m\u001b[0mtrainer\u001b[0m\u001b[0;34m.\u001b[0m\u001b[0mlightning_module\u001b[0m\u001b[0;34m.\u001b[0m\u001b[0mautomatic_optimization\u001b[0m\u001b[0;34m:\u001b[0m\u001b[0;34m\u001b[0m\u001b[0;34m\u001b[0m\u001b[0m\n\u001b[0;32m--> 201\u001b[0;31m                 \u001b[0mself\u001b[0m\u001b[0;34m.\u001b[0m\u001b[0m_optimizer_step\u001b[0m\u001b[0;34m(\u001b[0m\u001b[0moptimizer\u001b[0m\u001b[0;34m,\u001b[0m \u001b[0mopt_idx\u001b[0m\u001b[0;34m,\u001b[0m \u001b[0mbatch_idx\u001b[0m\u001b[0;34m,\u001b[0m \u001b[0mclosure\u001b[0m\u001b[0;34m)\u001b[0m\u001b[0;34m\u001b[0m\u001b[0;34m\u001b[0m\u001b[0m\n\u001b[0m\u001b[1;32m    202\u001b[0m             \u001b[0;32melse\u001b[0m\u001b[0;34m:\u001b[0m\u001b[0;34m\u001b[0m\u001b[0;34m\u001b[0m\u001b[0m\n\u001b[1;32m    203\u001b[0m                 \u001b[0mresult\u001b[0m \u001b[0;34m=\u001b[0m \u001b[0mself\u001b[0m\u001b[0;34m.\u001b[0m\u001b[0m_training_step\u001b[0m\u001b[0;34m(\u001b[0m\u001b[0msplit_batch\u001b[0m\u001b[0;34m,\u001b[0m \u001b[0mbatch_idx\u001b[0m\u001b[0;34m,\u001b[0m \u001b[0mopt_idx\u001b[0m\u001b[0;34m,\u001b[0m \u001b[0mself\u001b[0m\u001b[0;34m.\u001b[0m\u001b[0m_hiddens\u001b[0m\u001b[0;34m)\u001b[0m\u001b[0;34m\u001b[0m\u001b[0;34m\u001b[0m\u001b[0m\n",
      "\u001b[0;32m~/anaconda3/lib/python3.7/site-packages/pytorch_lightning/loops/batch/training_batch_loop.py\u001b[0m in \u001b[0;36m_optimizer_step\u001b[0;34m(self, optimizer, opt_idx, batch_idx, train_step_and_backward_closure)\u001b[0m\n\u001b[1;32m    401\u001b[0m             \u001b[0mon_tpu\u001b[0m\u001b[0;34m=\u001b[0m\u001b[0;34m(\u001b[0m\u001b[0mself\u001b[0m\u001b[0;34m.\u001b[0m\u001b[0mtrainer\u001b[0m\u001b[0;34m.\u001b[0m\u001b[0m_device_type\u001b[0m \u001b[0;34m==\u001b[0m \u001b[0mDeviceType\u001b[0m\u001b[0;34m.\u001b[0m\u001b[0mTPU\u001b[0m \u001b[0;32mand\u001b[0m \u001b[0m_TPU_AVAILABLE\u001b[0m\u001b[0;34m)\u001b[0m\u001b[0;34m,\u001b[0m\u001b[0;34m\u001b[0m\u001b[0;34m\u001b[0m\u001b[0m\n\u001b[1;32m    402\u001b[0m             \u001b[0musing_native_amp\u001b[0m\u001b[0;34m=\u001b[0m\u001b[0musing_native_amp\u001b[0m\u001b[0;34m,\u001b[0m\u001b[0;34m\u001b[0m\u001b[0;34m\u001b[0m\u001b[0m\n\u001b[0;32m--> 403\u001b[0;31m             \u001b[0musing_lbfgs\u001b[0m\u001b[0;34m=\u001b[0m\u001b[0mis_lbfgs\u001b[0m\u001b[0;34m,\u001b[0m\u001b[0;34m\u001b[0m\u001b[0;34m\u001b[0m\u001b[0m\n\u001b[0m\u001b[1;32m    404\u001b[0m         )\n\u001b[1;32m    405\u001b[0m \u001b[0;34m\u001b[0m\u001b[0m\n",
      "\u001b[0;32m~/anaconda3/lib/python3.7/site-packages/pytorch_lightning/core/lightning.py\u001b[0m in \u001b[0;36moptimizer_step\u001b[0;34m(self, epoch, batch_idx, optimizer, optimizer_idx, optimizer_closure, on_tpu, using_native_amp, using_lbfgs)\u001b[0m\n\u001b[1;32m   1614\u001b[0m \u001b[0;34m\u001b[0m\u001b[0m\n\u001b[1;32m   1615\u001b[0m         \"\"\"\n\u001b[0;32m-> 1616\u001b[0;31m         \u001b[0moptimizer\u001b[0m\u001b[0;34m.\u001b[0m\u001b[0mstep\u001b[0m\u001b[0;34m(\u001b[0m\u001b[0mclosure\u001b[0m\u001b[0;34m=\u001b[0m\u001b[0moptimizer_closure\u001b[0m\u001b[0;34m)\u001b[0m\u001b[0;34m\u001b[0m\u001b[0;34m\u001b[0m\u001b[0m\n\u001b[0m\u001b[1;32m   1617\u001b[0m \u001b[0;34m\u001b[0m\u001b[0m\n\u001b[1;32m   1618\u001b[0m     \u001b[0;32mdef\u001b[0m \u001b[0moptimizer_zero_grad\u001b[0m\u001b[0;34m(\u001b[0m\u001b[0mself\u001b[0m\u001b[0;34m,\u001b[0m \u001b[0mepoch\u001b[0m\u001b[0;34m:\u001b[0m \u001b[0mint\u001b[0m\u001b[0;34m,\u001b[0m \u001b[0mbatch_idx\u001b[0m\u001b[0;34m:\u001b[0m \u001b[0mint\u001b[0m\u001b[0;34m,\u001b[0m \u001b[0moptimizer\u001b[0m\u001b[0;34m:\u001b[0m \u001b[0mOptimizer\u001b[0m\u001b[0;34m,\u001b[0m \u001b[0moptimizer_idx\u001b[0m\u001b[0;34m:\u001b[0m \u001b[0mint\u001b[0m\u001b[0;34m)\u001b[0m\u001b[0;34m:\u001b[0m\u001b[0;34m\u001b[0m\u001b[0;34m\u001b[0m\u001b[0m\n",
      "\u001b[0;32m~/anaconda3/lib/python3.7/site-packages/pytorch_lightning/core/optimizer.py\u001b[0m in \u001b[0;36mstep\u001b[0;34m(self, closure, **kwargs)\u001b[0m\n\u001b[1;32m    204\u001b[0m             \u001b[0mprofiler_name\u001b[0m \u001b[0;34m=\u001b[0m \u001b[0;34mf\"optimizer_step_and_closure_{self._optimizer_idx}\"\u001b[0m\u001b[0;34m\u001b[0m\u001b[0;34m\u001b[0m\u001b[0m\n\u001b[1;32m    205\u001b[0m \u001b[0;34m\u001b[0m\u001b[0m\n\u001b[0;32m--> 206\u001b[0;31m         \u001b[0mself\u001b[0m\u001b[0;34m.\u001b[0m\u001b[0m__optimizer_step\u001b[0m\u001b[0;34m(\u001b[0m\u001b[0mclosure\u001b[0m\u001b[0;34m=\u001b[0m\u001b[0mclosure\u001b[0m\u001b[0;34m,\u001b[0m \u001b[0mprofiler_name\u001b[0m\u001b[0;34m=\u001b[0m\u001b[0mprofiler_name\u001b[0m\u001b[0;34m,\u001b[0m \u001b[0;34m**\u001b[0m\u001b[0mkwargs\u001b[0m\u001b[0;34m)\u001b[0m\u001b[0;34m\u001b[0m\u001b[0;34m\u001b[0m\u001b[0m\n\u001b[0m\u001b[1;32m    207\u001b[0m         \u001b[0mself\u001b[0m\u001b[0;34m.\u001b[0m\u001b[0m_total_optimizer_step_calls\u001b[0m \u001b[0;34m+=\u001b[0m \u001b[0;36m1\u001b[0m\u001b[0;34m\u001b[0m\u001b[0;34m\u001b[0m\u001b[0m\n\u001b[1;32m    208\u001b[0m \u001b[0;34m\u001b[0m\u001b[0m\n",
      "\u001b[0;32m~/anaconda3/lib/python3.7/site-packages/pytorch_lightning/core/optimizer.py\u001b[0m in \u001b[0;36m__optimizer_step\u001b[0;34m(self, closure, profiler_name, **kwargs)\u001b[0m\n\u001b[1;32m    126\u001b[0m \u001b[0;34m\u001b[0m\u001b[0m\n\u001b[1;32m    127\u001b[0m         \u001b[0;32mwith\u001b[0m \u001b[0mtrainer\u001b[0m\u001b[0;34m.\u001b[0m\u001b[0mprofiler\u001b[0m\u001b[0;34m.\u001b[0m\u001b[0mprofile\u001b[0m\u001b[0;34m(\u001b[0m\u001b[0mprofiler_name\u001b[0m\u001b[0;34m)\u001b[0m\u001b[0;34m:\u001b[0m\u001b[0;34m\u001b[0m\u001b[0;34m\u001b[0m\u001b[0m\n\u001b[0;32m--> 128\u001b[0;31m             \u001b[0mtrainer\u001b[0m\u001b[0;34m.\u001b[0m\u001b[0maccelerator\u001b[0m\u001b[0;34m.\u001b[0m\u001b[0moptimizer_step\u001b[0m\u001b[0;34m(\u001b[0m\u001b[0mself\u001b[0m\u001b[0;34m.\u001b[0m\u001b[0m_optimizer\u001b[0m\u001b[0;34m,\u001b[0m \u001b[0mself\u001b[0m\u001b[0;34m.\u001b[0m\u001b[0m_optimizer_idx\u001b[0m\u001b[0;34m,\u001b[0m \u001b[0mlambda_closure\u001b[0m\u001b[0;34m=\u001b[0m\u001b[0mclosure\u001b[0m\u001b[0;34m,\u001b[0m \u001b[0;34m**\u001b[0m\u001b[0mkwargs\u001b[0m\u001b[0;34m)\u001b[0m\u001b[0;34m\u001b[0m\u001b[0;34m\u001b[0m\u001b[0m\n\u001b[0m\u001b[1;32m    129\u001b[0m \u001b[0;34m\u001b[0m\u001b[0m\n\u001b[1;32m    130\u001b[0m     \u001b[0;32mdef\u001b[0m \u001b[0mstep\u001b[0m\u001b[0;34m(\u001b[0m\u001b[0mself\u001b[0m\u001b[0;34m,\u001b[0m \u001b[0mclosure\u001b[0m\u001b[0;34m:\u001b[0m \u001b[0mOptional\u001b[0m\u001b[0;34m[\u001b[0m\u001b[0mCallable\u001b[0m\u001b[0;34m]\u001b[0m \u001b[0;34m=\u001b[0m \u001b[0;32mNone\u001b[0m\u001b[0;34m,\u001b[0m \u001b[0;34m**\u001b[0m\u001b[0mkwargs\u001b[0m\u001b[0;34m)\u001b[0m\u001b[0;34m:\u001b[0m\u001b[0;34m\u001b[0m\u001b[0;34m\u001b[0m\u001b[0m\n",
      "\u001b[0;32m~/anaconda3/lib/python3.7/site-packages/pytorch_lightning/accelerators/accelerator.py\u001b[0m in \u001b[0;36moptimizer_step\u001b[0;34m(self, optimizer, opt_idx, lambda_closure, **kwargs)\u001b[0m\n\u001b[1;32m    294\u001b[0m         )\n\u001b[1;32m    295\u001b[0m         \u001b[0;32mif\u001b[0m \u001b[0mmake_optimizer_step\u001b[0m\u001b[0;34m:\u001b[0m\u001b[0;34m\u001b[0m\u001b[0;34m\u001b[0m\u001b[0m\n\u001b[0;32m--> 296\u001b[0;31m             \u001b[0mself\u001b[0m\u001b[0;34m.\u001b[0m\u001b[0mrun_optimizer_step\u001b[0m\u001b[0;34m(\u001b[0m\u001b[0moptimizer\u001b[0m\u001b[0;34m,\u001b[0m \u001b[0mopt_idx\u001b[0m\u001b[0;34m,\u001b[0m \u001b[0mlambda_closure\u001b[0m\u001b[0;34m,\u001b[0m \u001b[0;34m**\u001b[0m\u001b[0mkwargs\u001b[0m\u001b[0;34m)\u001b[0m\u001b[0;34m\u001b[0m\u001b[0;34m\u001b[0m\u001b[0m\n\u001b[0m\u001b[1;32m    297\u001b[0m         \u001b[0mself\u001b[0m\u001b[0;34m.\u001b[0m\u001b[0mprecision_plugin\u001b[0m\u001b[0;34m.\u001b[0m\u001b[0mpost_optimizer_step\u001b[0m\u001b[0;34m(\u001b[0m\u001b[0moptimizer\u001b[0m\u001b[0;34m,\u001b[0m \u001b[0mopt_idx\u001b[0m\u001b[0;34m)\u001b[0m\u001b[0;34m\u001b[0m\u001b[0;34m\u001b[0m\u001b[0m\n\u001b[1;32m    298\u001b[0m         \u001b[0mself\u001b[0m\u001b[0;34m.\u001b[0m\u001b[0mtraining_type_plugin\u001b[0m\u001b[0;34m.\u001b[0m\u001b[0mpost_optimizer_step\u001b[0m\u001b[0;34m(\u001b[0m\u001b[0moptimizer\u001b[0m\u001b[0;34m,\u001b[0m \u001b[0mopt_idx\u001b[0m\u001b[0;34m,\u001b[0m \u001b[0;34m**\u001b[0m\u001b[0mkwargs\u001b[0m\u001b[0;34m)\u001b[0m\u001b[0;34m\u001b[0m\u001b[0;34m\u001b[0m\u001b[0m\n",
      "\u001b[0;32m~/anaconda3/lib/python3.7/site-packages/pytorch_lightning/accelerators/accelerator.py\u001b[0m in \u001b[0;36mrun_optimizer_step\u001b[0;34m(self, optimizer, optimizer_idx, lambda_closure, **kwargs)\u001b[0m\n\u001b[1;32m    301\u001b[0m         \u001b[0mself\u001b[0m\u001b[0;34m,\u001b[0m \u001b[0moptimizer\u001b[0m\u001b[0;34m:\u001b[0m \u001b[0mOptimizer\u001b[0m\u001b[0;34m,\u001b[0m \u001b[0moptimizer_idx\u001b[0m\u001b[0;34m:\u001b[0m \u001b[0mint\u001b[0m\u001b[0;34m,\u001b[0m \u001b[0mlambda_closure\u001b[0m\u001b[0;34m:\u001b[0m \u001b[0mCallable\u001b[0m\u001b[0;34m,\u001b[0m \u001b[0;34m**\u001b[0m\u001b[0mkwargs\u001b[0m\u001b[0;34m:\u001b[0m \u001b[0mAny\u001b[0m\u001b[0;34m\u001b[0m\u001b[0;34m\u001b[0m\u001b[0m\n\u001b[1;32m    302\u001b[0m     ) -> None:\n\u001b[0;32m--> 303\u001b[0;31m         \u001b[0mself\u001b[0m\u001b[0;34m.\u001b[0m\u001b[0mtraining_type_plugin\u001b[0m\u001b[0;34m.\u001b[0m\u001b[0moptimizer_step\u001b[0m\u001b[0;34m(\u001b[0m\u001b[0moptimizer\u001b[0m\u001b[0;34m,\u001b[0m \u001b[0mlambda_closure\u001b[0m\u001b[0;34m=\u001b[0m\u001b[0mlambda_closure\u001b[0m\u001b[0;34m,\u001b[0m \u001b[0;34m**\u001b[0m\u001b[0mkwargs\u001b[0m\u001b[0;34m)\u001b[0m\u001b[0;34m\u001b[0m\u001b[0;34m\u001b[0m\u001b[0m\n\u001b[0m\u001b[1;32m    304\u001b[0m \u001b[0;34m\u001b[0m\u001b[0m\n\u001b[1;32m    305\u001b[0m     \u001b[0;32mdef\u001b[0m \u001b[0moptimizer_zero_grad\u001b[0m\u001b[0;34m(\u001b[0m\u001b[0mself\u001b[0m\u001b[0;34m,\u001b[0m \u001b[0mcurrent_epoch\u001b[0m\u001b[0;34m:\u001b[0m \u001b[0mint\u001b[0m\u001b[0;34m,\u001b[0m \u001b[0mbatch_idx\u001b[0m\u001b[0;34m:\u001b[0m \u001b[0mint\u001b[0m\u001b[0;34m,\u001b[0m \u001b[0moptimizer\u001b[0m\u001b[0;34m:\u001b[0m \u001b[0mOptimizer\u001b[0m\u001b[0;34m,\u001b[0m \u001b[0mopt_idx\u001b[0m\u001b[0;34m:\u001b[0m \u001b[0mint\u001b[0m\u001b[0;34m)\u001b[0m \u001b[0;34m->\u001b[0m \u001b[0;32mNone\u001b[0m\u001b[0;34m:\u001b[0m\u001b[0;34m\u001b[0m\u001b[0;34m\u001b[0m\u001b[0m\n",
      "\u001b[0;32m~/anaconda3/lib/python3.7/site-packages/pytorch_lightning/plugins/training_type/training_type_plugin.py\u001b[0m in \u001b[0;36moptimizer_step\u001b[0;34m(self, optimizer, lambda_closure, **kwargs)\u001b[0m\n\u001b[1;32m    224\u001b[0m \u001b[0;34m\u001b[0m\u001b[0m\n\u001b[1;32m    225\u001b[0m     \u001b[0;32mdef\u001b[0m \u001b[0moptimizer_step\u001b[0m\u001b[0;34m(\u001b[0m\u001b[0mself\u001b[0m\u001b[0;34m,\u001b[0m \u001b[0moptimizer\u001b[0m\u001b[0;34m:\u001b[0m \u001b[0mtorch\u001b[0m\u001b[0;34m.\u001b[0m\u001b[0moptim\u001b[0m\u001b[0;34m.\u001b[0m\u001b[0mOptimizer\u001b[0m\u001b[0;34m,\u001b[0m \u001b[0mlambda_closure\u001b[0m\u001b[0;34m:\u001b[0m \u001b[0mCallable\u001b[0m\u001b[0;34m,\u001b[0m \u001b[0;34m**\u001b[0m\u001b[0mkwargs\u001b[0m\u001b[0;34m)\u001b[0m\u001b[0;34m:\u001b[0m\u001b[0;34m\u001b[0m\u001b[0;34m\u001b[0m\u001b[0m\n\u001b[0;32m--> 226\u001b[0;31m         \u001b[0moptimizer\u001b[0m\u001b[0;34m.\u001b[0m\u001b[0mstep\u001b[0m\u001b[0;34m(\u001b[0m\u001b[0mclosure\u001b[0m\u001b[0;34m=\u001b[0m\u001b[0mlambda_closure\u001b[0m\u001b[0;34m,\u001b[0m \u001b[0;34m**\u001b[0m\u001b[0mkwargs\u001b[0m\u001b[0;34m)\u001b[0m\u001b[0;34m\u001b[0m\u001b[0;34m\u001b[0m\u001b[0m\n\u001b[0m\u001b[1;32m    227\u001b[0m \u001b[0;34m\u001b[0m\u001b[0m\n\u001b[1;32m    228\u001b[0m     \u001b[0;34m@\u001b[0m\u001b[0mproperty\u001b[0m\u001b[0;34m\u001b[0m\u001b[0;34m\u001b[0m\u001b[0m\n",
      "\u001b[0;32m~/anaconda3/lib/python3.7/site-packages/nemo/core/optim/novograd.py\u001b[0m in \u001b[0;36mstep\u001b[0;34m(self, closure)\u001b[0m\n\u001b[1;32m     81\u001b[0m         \u001b[0mloss\u001b[0m \u001b[0;34m=\u001b[0m \u001b[0;32mNone\u001b[0m\u001b[0;34m\u001b[0m\u001b[0;34m\u001b[0m\u001b[0m\n\u001b[1;32m     82\u001b[0m         \u001b[0;32mif\u001b[0m \u001b[0mclosure\u001b[0m \u001b[0;32mis\u001b[0m \u001b[0;32mnot\u001b[0m \u001b[0;32mNone\u001b[0m\u001b[0;34m:\u001b[0m\u001b[0;34m\u001b[0m\u001b[0;34m\u001b[0m\u001b[0m\n\u001b[0;32m---> 83\u001b[0;31m             \u001b[0mloss\u001b[0m \u001b[0;34m=\u001b[0m \u001b[0mclosure\u001b[0m\u001b[0;34m(\u001b[0m\u001b[0;34m)\u001b[0m\u001b[0;34m\u001b[0m\u001b[0;34m\u001b[0m\u001b[0m\n\u001b[0m\u001b[1;32m     84\u001b[0m \u001b[0;34m\u001b[0m\u001b[0m\n\u001b[1;32m     85\u001b[0m         \u001b[0;32mfor\u001b[0m \u001b[0mgroup\u001b[0m \u001b[0;32min\u001b[0m \u001b[0mself\u001b[0m\u001b[0;34m.\u001b[0m\u001b[0mparam_groups\u001b[0m\u001b[0;34m:\u001b[0m\u001b[0;34m\u001b[0m\u001b[0;34m\u001b[0m\u001b[0m\n",
      "\u001b[0;32m~/anaconda3/lib/python3.7/site-packages/pytorch_lightning/loops/batch/training_batch_loop.py\u001b[0m in \u001b[0;36m_training_step_and_backward_closure\u001b[0;34m(self, split_batch, batch_idx, opt_idx, optimizer, hiddens, return_result)\u001b[0m\n\u001b[1;32m    233\u001b[0m         \"\"\"\n\u001b[1;32m    234\u001b[0m \u001b[0;34m\u001b[0m\u001b[0m\n\u001b[0;32m--> 235\u001b[0;31m         \u001b[0mresult\u001b[0m \u001b[0;34m=\u001b[0m \u001b[0mself\u001b[0m\u001b[0;34m.\u001b[0m\u001b[0mtraining_step_and_backward\u001b[0m\u001b[0;34m(\u001b[0m\u001b[0msplit_batch\u001b[0m\u001b[0;34m,\u001b[0m \u001b[0mbatch_idx\u001b[0m\u001b[0;34m,\u001b[0m \u001b[0mopt_idx\u001b[0m\u001b[0;34m,\u001b[0m \u001b[0moptimizer\u001b[0m\u001b[0;34m,\u001b[0m \u001b[0mhiddens\u001b[0m\u001b[0;34m)\u001b[0m\u001b[0;34m\u001b[0m\u001b[0;34m\u001b[0m\u001b[0m\n\u001b[0m\u001b[1;32m    236\u001b[0m         \u001b[0;32mif\u001b[0m \u001b[0mresult\u001b[0m \u001b[0;32mis\u001b[0m \u001b[0;32mnot\u001b[0m \u001b[0;32mNone\u001b[0m\u001b[0;34m:\u001b[0m\u001b[0;34m\u001b[0m\u001b[0;34m\u001b[0m\u001b[0m\n\u001b[1;32m    237\u001b[0m             \u001b[0mreturn_result\u001b[0m\u001b[0;34m.\u001b[0m\u001b[0mupdate\u001b[0m\u001b[0;34m(\u001b[0m\u001b[0mresult\u001b[0m\u001b[0;34m)\u001b[0m\u001b[0;34m\u001b[0m\u001b[0;34m\u001b[0m\u001b[0m\n",
      "\u001b[0;32m~/anaconda3/lib/python3.7/site-packages/pytorch_lightning/loops/batch/training_batch_loop.py\u001b[0m in \u001b[0;36mtraining_step_and_backward\u001b[0;34m(self, split_batch, batch_idx, opt_idx, optimizer, hiddens)\u001b[0m\n\u001b[1;32m    534\u001b[0m         \u001b[0;32mwith\u001b[0m \u001b[0mself\u001b[0m\u001b[0;34m.\u001b[0m\u001b[0mtrainer\u001b[0m\u001b[0;34m.\u001b[0m\u001b[0mprofiler\u001b[0m\u001b[0;34m.\u001b[0m\u001b[0mprofile\u001b[0m\u001b[0;34m(\u001b[0m\u001b[0;34m\"training_step_and_backward\"\u001b[0m\u001b[0;34m)\u001b[0m\u001b[0;34m:\u001b[0m\u001b[0;34m\u001b[0m\u001b[0;34m\u001b[0m\u001b[0m\n\u001b[1;32m    535\u001b[0m             \u001b[0;31m# lightning module hook\u001b[0m\u001b[0;34m\u001b[0m\u001b[0;34m\u001b[0m\u001b[0;34m\u001b[0m\u001b[0m\n\u001b[0;32m--> 536\u001b[0;31m             \u001b[0mresult\u001b[0m \u001b[0;34m=\u001b[0m \u001b[0mself\u001b[0m\u001b[0;34m.\u001b[0m\u001b[0m_training_step\u001b[0m\u001b[0;34m(\u001b[0m\u001b[0msplit_batch\u001b[0m\u001b[0;34m,\u001b[0m \u001b[0mbatch_idx\u001b[0m\u001b[0;34m,\u001b[0m \u001b[0mopt_idx\u001b[0m\u001b[0;34m,\u001b[0m \u001b[0mhiddens\u001b[0m\u001b[0;34m)\u001b[0m\u001b[0;34m\u001b[0m\u001b[0;34m\u001b[0m\u001b[0m\n\u001b[0m\u001b[1;32m    537\u001b[0m \u001b[0;34m\u001b[0m\u001b[0m\n\u001b[1;32m    538\u001b[0m             \u001b[0;32mif\u001b[0m \u001b[0;32mnot\u001b[0m \u001b[0mself\u001b[0m\u001b[0;34m.\u001b[0m\u001b[0m_skip_backward\u001b[0m \u001b[0;32mand\u001b[0m \u001b[0mself\u001b[0m\u001b[0;34m.\u001b[0m\u001b[0mtrainer\u001b[0m\u001b[0;34m.\u001b[0m\u001b[0mlightning_module\u001b[0m\u001b[0;34m.\u001b[0m\u001b[0mautomatic_optimization\u001b[0m\u001b[0;34m:\u001b[0m\u001b[0;34m\u001b[0m\u001b[0;34m\u001b[0m\u001b[0m\n",
      "\u001b[0;32m~/anaconda3/lib/python3.7/site-packages/pytorch_lightning/loops/batch/training_batch_loop.py\u001b[0m in \u001b[0;36m_training_step\u001b[0;34m(self, split_batch, batch_idx, opt_idx, hiddens)\u001b[0m\n\u001b[1;32m    304\u001b[0m             \u001b[0mmodel_ref\u001b[0m\u001b[0;34m.\u001b[0m\u001b[0m_current_fx_name\u001b[0m \u001b[0;34m=\u001b[0m \u001b[0;34m\"training_step\"\u001b[0m\u001b[0;34m\u001b[0m\u001b[0;34m\u001b[0m\u001b[0m\n\u001b[1;32m    305\u001b[0m             \u001b[0;32mwith\u001b[0m \u001b[0mself\u001b[0m\u001b[0;34m.\u001b[0m\u001b[0mtrainer\u001b[0m\u001b[0;34m.\u001b[0m\u001b[0mprofiler\u001b[0m\u001b[0;34m.\u001b[0m\u001b[0mprofile\u001b[0m\u001b[0;34m(\u001b[0m\u001b[0;34m\"training_step\"\u001b[0m\u001b[0;34m)\u001b[0m\u001b[0;34m:\u001b[0m\u001b[0;34m\u001b[0m\u001b[0;34m\u001b[0m\u001b[0m\n\u001b[0;32m--> 306\u001b[0;31m                 \u001b[0mtraining_step_output\u001b[0m \u001b[0;34m=\u001b[0m \u001b[0mself\u001b[0m\u001b[0;34m.\u001b[0m\u001b[0mtrainer\u001b[0m\u001b[0;34m.\u001b[0m\u001b[0maccelerator\u001b[0m\u001b[0;34m.\u001b[0m\u001b[0mtraining_step\u001b[0m\u001b[0;34m(\u001b[0m\u001b[0mstep_kwargs\u001b[0m\u001b[0;34m)\u001b[0m\u001b[0;34m\u001b[0m\u001b[0;34m\u001b[0m\u001b[0m\n\u001b[0m\u001b[1;32m    307\u001b[0m                 \u001b[0mself\u001b[0m\u001b[0;34m.\u001b[0m\u001b[0mtrainer\u001b[0m\u001b[0;34m.\u001b[0m\u001b[0maccelerator\u001b[0m\u001b[0;34m.\u001b[0m\u001b[0mpost_training_step\u001b[0m\u001b[0;34m(\u001b[0m\u001b[0;34m)\u001b[0m\u001b[0;34m\u001b[0m\u001b[0;34m\u001b[0m\u001b[0m\n\u001b[1;32m    308\u001b[0m \u001b[0;34m\u001b[0m\u001b[0m\n",
      "\u001b[0;32m~/anaconda3/lib/python3.7/site-packages/pytorch_lightning/accelerators/accelerator.py\u001b[0m in \u001b[0;36mtraining_step\u001b[0;34m(self, step_kwargs)\u001b[0m\n\u001b[1;32m    191\u001b[0m         \"\"\"\n\u001b[1;32m    192\u001b[0m         \u001b[0;32mwith\u001b[0m \u001b[0mself\u001b[0m\u001b[0;34m.\u001b[0m\u001b[0mprecision_plugin\u001b[0m\u001b[0;34m.\u001b[0m\u001b[0mtrain_step_context\u001b[0m\u001b[0;34m(\u001b[0m\u001b[0;34m)\u001b[0m\u001b[0;34m,\u001b[0m \u001b[0mself\u001b[0m\u001b[0;34m.\u001b[0m\u001b[0mtraining_type_plugin\u001b[0m\u001b[0;34m.\u001b[0m\u001b[0mtrain_step_context\u001b[0m\u001b[0;34m(\u001b[0m\u001b[0;34m)\u001b[0m\u001b[0;34m:\u001b[0m\u001b[0;34m\u001b[0m\u001b[0;34m\u001b[0m\u001b[0m\n\u001b[0;32m--> 193\u001b[0;31m             \u001b[0;32mreturn\u001b[0m \u001b[0mself\u001b[0m\u001b[0;34m.\u001b[0m\u001b[0mtraining_type_plugin\u001b[0m\u001b[0;34m.\u001b[0m\u001b[0mtraining_step\u001b[0m\u001b[0;34m(\u001b[0m\u001b[0;34m*\u001b[0m\u001b[0mstep_kwargs\u001b[0m\u001b[0;34m.\u001b[0m\u001b[0mvalues\u001b[0m\u001b[0;34m(\u001b[0m\u001b[0;34m)\u001b[0m\u001b[0;34m)\u001b[0m\u001b[0;34m\u001b[0m\u001b[0;34m\u001b[0m\u001b[0m\n\u001b[0m\u001b[1;32m    194\u001b[0m \u001b[0;34m\u001b[0m\u001b[0m\n\u001b[1;32m    195\u001b[0m     \u001b[0;32mdef\u001b[0m \u001b[0mpost_training_step\u001b[0m\u001b[0;34m(\u001b[0m\u001b[0mself\u001b[0m\u001b[0;34m)\u001b[0m \u001b[0;34m->\u001b[0m \u001b[0;32mNone\u001b[0m\u001b[0;34m:\u001b[0m\u001b[0;34m\u001b[0m\u001b[0;34m\u001b[0m\u001b[0m\n",
      "\u001b[0;32m~/anaconda3/lib/python3.7/site-packages/pytorch_lightning/plugins/training_type/training_type_plugin.py\u001b[0m in \u001b[0;36mtraining_step\u001b[0;34m(self, *args, **kwargs)\u001b[0m\n\u001b[1;32m    170\u001b[0m \u001b[0;34m\u001b[0m\u001b[0m\n\u001b[1;32m    171\u001b[0m     \u001b[0;32mdef\u001b[0m \u001b[0mtraining_step\u001b[0m\u001b[0;34m(\u001b[0m\u001b[0mself\u001b[0m\u001b[0;34m,\u001b[0m \u001b[0;34m*\u001b[0m\u001b[0margs\u001b[0m\u001b[0;34m,\u001b[0m \u001b[0;34m**\u001b[0m\u001b[0mkwargs\u001b[0m\u001b[0;34m)\u001b[0m\u001b[0;34m:\u001b[0m\u001b[0;34m\u001b[0m\u001b[0;34m\u001b[0m\u001b[0m\n\u001b[0;32m--> 172\u001b[0;31m         \u001b[0;32mreturn\u001b[0m \u001b[0mself\u001b[0m\u001b[0;34m.\u001b[0m\u001b[0mmodel\u001b[0m\u001b[0;34m.\u001b[0m\u001b[0mtraining_step\u001b[0m\u001b[0;34m(\u001b[0m\u001b[0;34m*\u001b[0m\u001b[0margs\u001b[0m\u001b[0;34m,\u001b[0m \u001b[0;34m**\u001b[0m\u001b[0mkwargs\u001b[0m\u001b[0;34m)\u001b[0m\u001b[0;34m\u001b[0m\u001b[0;34m\u001b[0m\u001b[0m\n\u001b[0m\u001b[1;32m    173\u001b[0m \u001b[0;34m\u001b[0m\u001b[0m\n\u001b[1;32m    174\u001b[0m     \u001b[0;32mdef\u001b[0m \u001b[0mpost_training_step\u001b[0m\u001b[0;34m(\u001b[0m\u001b[0mself\u001b[0m\u001b[0;34m)\u001b[0m\u001b[0;34m:\u001b[0m\u001b[0;34m\u001b[0m\u001b[0;34m\u001b[0m\u001b[0m\n",
      "\u001b[0;32m~/anaconda3/lib/python3.7/site-packages/nemo/utils/model_utils.py\u001b[0m in \u001b[0;36mwrap_training_step\u001b[0;34m(wrapped, instance, args, kwargs)\u001b[0m\n\u001b[1;32m    351\u001b[0m \u001b[0;34m@\u001b[0m\u001b[0mwrapt\u001b[0m\u001b[0;34m.\u001b[0m\u001b[0mdecorator\u001b[0m\u001b[0;34m\u001b[0m\u001b[0;34m\u001b[0m\u001b[0m\n\u001b[1;32m    352\u001b[0m \u001b[0;32mdef\u001b[0m \u001b[0mwrap_training_step\u001b[0m\u001b[0;34m(\u001b[0m\u001b[0mwrapped\u001b[0m\u001b[0;34m,\u001b[0m \u001b[0minstance\u001b[0m\u001b[0;34m:\u001b[0m \u001b[0;34m'pl.LightningModule'\u001b[0m\u001b[0;34m,\u001b[0m \u001b[0margs\u001b[0m\u001b[0;34m,\u001b[0m \u001b[0mkwargs\u001b[0m\u001b[0;34m)\u001b[0m\u001b[0;34m:\u001b[0m\u001b[0;34m\u001b[0m\u001b[0;34m\u001b[0m\u001b[0m\n\u001b[0;32m--> 353\u001b[0;31m     \u001b[0moutput_dict\u001b[0m \u001b[0;34m=\u001b[0m \u001b[0mwrapped\u001b[0m\u001b[0;34m(\u001b[0m\u001b[0;34m*\u001b[0m\u001b[0margs\u001b[0m\u001b[0;34m,\u001b[0m \u001b[0;34m**\u001b[0m\u001b[0mkwargs\u001b[0m\u001b[0;34m)\u001b[0m\u001b[0;34m\u001b[0m\u001b[0;34m\u001b[0m\u001b[0m\n\u001b[0m\u001b[1;32m    354\u001b[0m \u001b[0;34m\u001b[0m\u001b[0m\n\u001b[1;32m    355\u001b[0m     \u001b[0;32mif\u001b[0m \u001b[0misinstance\u001b[0m\u001b[0;34m(\u001b[0m\u001b[0moutput_dict\u001b[0m\u001b[0;34m,\u001b[0m \u001b[0mdict\u001b[0m\u001b[0;34m)\u001b[0m \u001b[0;32mand\u001b[0m \u001b[0moutput_dict\u001b[0m \u001b[0;32mis\u001b[0m \u001b[0;32mnot\u001b[0m \u001b[0;32mNone\u001b[0m \u001b[0;32mand\u001b[0m \u001b[0;34m'log'\u001b[0m \u001b[0;32min\u001b[0m \u001b[0moutput_dict\u001b[0m\u001b[0;34m:\u001b[0m\u001b[0;34m\u001b[0m\u001b[0;34m\u001b[0m\u001b[0m\n",
      "\u001b[0;32m~/anaconda3/lib/python3.7/site-packages/nemo/collections/asr/models/ctc_models.py\u001b[0m in \u001b[0;36mtraining_step\u001b[0;34m(self, batch, batch_nb)\u001b[0m\n\u001b[1;32m    565\u001b[0m             )\n\u001b[1;32m    566\u001b[0m         \u001b[0;32melse\u001b[0m\u001b[0;34m:\u001b[0m\u001b[0;34m\u001b[0m\u001b[0;34m\u001b[0m\u001b[0m\n\u001b[0;32m--> 567\u001b[0;31m             \u001b[0mlog_probs\u001b[0m\u001b[0;34m,\u001b[0m \u001b[0mencoded_len\u001b[0m\u001b[0;34m,\u001b[0m \u001b[0mpredictions\u001b[0m \u001b[0;34m=\u001b[0m \u001b[0mself\u001b[0m\u001b[0;34m.\u001b[0m\u001b[0mforward\u001b[0m\u001b[0;34m(\u001b[0m\u001b[0minput_signal\u001b[0m\u001b[0;34m=\u001b[0m\u001b[0msignal\u001b[0m\u001b[0;34m,\u001b[0m \u001b[0minput_signal_length\u001b[0m\u001b[0;34m=\u001b[0m\u001b[0msignal_len\u001b[0m\u001b[0;34m)\u001b[0m\u001b[0;34m\u001b[0m\u001b[0;34m\u001b[0m\u001b[0m\n\u001b[0m\u001b[1;32m    568\u001b[0m \u001b[0;34m\u001b[0m\u001b[0m\n\u001b[1;32m    569\u001b[0m         loss_value = self.loss(\n",
      "\u001b[0;32m~/anaconda3/lib/python3.7/site-packages/nemo/core/classes/common.py\u001b[0m in \u001b[0;36m__call__\u001b[0;34m(self, wrapped, instance, args, kwargs)\u001b[0m\n\u001b[1;32m    817\u001b[0m \u001b[0;34m\u001b[0m\u001b[0m\n\u001b[1;32m    818\u001b[0m         \u001b[0;31m# Call the method - this can be forward, or any other callable method\u001b[0m\u001b[0;34m\u001b[0m\u001b[0;34m\u001b[0m\u001b[0;34m\u001b[0m\u001b[0m\n\u001b[0;32m--> 819\u001b[0;31m         \u001b[0moutputs\u001b[0m \u001b[0;34m=\u001b[0m \u001b[0mwrapped\u001b[0m\u001b[0;34m(\u001b[0m\u001b[0;34m*\u001b[0m\u001b[0margs\u001b[0m\u001b[0;34m,\u001b[0m \u001b[0;34m**\u001b[0m\u001b[0mkwargs\u001b[0m\u001b[0;34m)\u001b[0m\u001b[0;34m\u001b[0m\u001b[0;34m\u001b[0m\u001b[0m\n\u001b[0m\u001b[1;32m    820\u001b[0m \u001b[0;34m\u001b[0m\u001b[0m\n\u001b[1;32m    821\u001b[0m         instance._attach_and_validate_output_types(\n",
      "\u001b[0;32m~/anaconda3/lib/python3.7/site-packages/nemo/collections/asr/models/ctc_models.py\u001b[0m in \u001b[0;36mforward\u001b[0;34m(self, input_signal, input_signal_length, processed_signal, processed_signal_length)\u001b[0m\n\u001b[1;32m    551\u001b[0m             \u001b[0mprocessed_signal\u001b[0m \u001b[0;34m=\u001b[0m \u001b[0mself\u001b[0m\u001b[0;34m.\u001b[0m\u001b[0mspec_augmentation\u001b[0m\u001b[0;34m(\u001b[0m\u001b[0minput_spec\u001b[0m\u001b[0;34m=\u001b[0m\u001b[0mprocessed_signal\u001b[0m\u001b[0;34m,\u001b[0m \u001b[0mlength\u001b[0m\u001b[0;34m=\u001b[0m\u001b[0mprocessed_signal_length\u001b[0m\u001b[0;34m)\u001b[0m\u001b[0;34m\u001b[0m\u001b[0;34m\u001b[0m\u001b[0m\n\u001b[1;32m    552\u001b[0m \u001b[0;34m\u001b[0m\u001b[0m\n\u001b[0;32m--> 553\u001b[0;31m         \u001b[0mencoded\u001b[0m\u001b[0;34m,\u001b[0m \u001b[0mencoded_len\u001b[0m \u001b[0;34m=\u001b[0m \u001b[0mself\u001b[0m\u001b[0;34m.\u001b[0m\u001b[0mencoder\u001b[0m\u001b[0;34m(\u001b[0m\u001b[0maudio_signal\u001b[0m\u001b[0;34m=\u001b[0m\u001b[0mprocessed_signal\u001b[0m\u001b[0;34m,\u001b[0m \u001b[0mlength\u001b[0m\u001b[0;34m=\u001b[0m\u001b[0mprocessed_signal_length\u001b[0m\u001b[0;34m)\u001b[0m\u001b[0;34m\u001b[0m\u001b[0;34m\u001b[0m\u001b[0m\n\u001b[0m\u001b[1;32m    554\u001b[0m         \u001b[0mlog_probs\u001b[0m \u001b[0;34m=\u001b[0m \u001b[0mself\u001b[0m\u001b[0;34m.\u001b[0m\u001b[0mdecoder\u001b[0m\u001b[0;34m(\u001b[0m\u001b[0mencoder_output\u001b[0m\u001b[0;34m=\u001b[0m\u001b[0mencoded\u001b[0m\u001b[0;34m)\u001b[0m\u001b[0;34m\u001b[0m\u001b[0;34m\u001b[0m\u001b[0m\n\u001b[1;32m    555\u001b[0m         \u001b[0mgreedy_predictions\u001b[0m \u001b[0;34m=\u001b[0m \u001b[0mlog_probs\u001b[0m\u001b[0;34m.\u001b[0m\u001b[0margmax\u001b[0m\u001b[0;34m(\u001b[0m\u001b[0mdim\u001b[0m\u001b[0;34m=\u001b[0m\u001b[0;34m-\u001b[0m\u001b[0;36m1\u001b[0m\u001b[0;34m,\u001b[0m \u001b[0mkeepdim\u001b[0m\u001b[0;34m=\u001b[0m\u001b[0;32mFalse\u001b[0m\u001b[0;34m)\u001b[0m\u001b[0;34m\u001b[0m\u001b[0;34m\u001b[0m\u001b[0m\n",
      "\u001b[0;32m~/anaconda3/lib/python3.7/site-packages/torch/nn/modules/module.py\u001b[0m in \u001b[0;36m_call_impl\u001b[0;34m(self, *input, **kwargs)\u001b[0m\n\u001b[1;32m    725\u001b[0m             \u001b[0mresult\u001b[0m \u001b[0;34m=\u001b[0m \u001b[0mself\u001b[0m\u001b[0;34m.\u001b[0m\u001b[0m_slow_forward\u001b[0m\u001b[0;34m(\u001b[0m\u001b[0;34m*\u001b[0m\u001b[0minput\u001b[0m\u001b[0;34m,\u001b[0m \u001b[0;34m**\u001b[0m\u001b[0mkwargs\u001b[0m\u001b[0;34m)\u001b[0m\u001b[0;34m\u001b[0m\u001b[0;34m\u001b[0m\u001b[0m\n\u001b[1;32m    726\u001b[0m         \u001b[0;32melse\u001b[0m\u001b[0;34m:\u001b[0m\u001b[0;34m\u001b[0m\u001b[0;34m\u001b[0m\u001b[0m\n\u001b[0;32m--> 727\u001b[0;31m             \u001b[0mresult\u001b[0m \u001b[0;34m=\u001b[0m \u001b[0mself\u001b[0m\u001b[0;34m.\u001b[0m\u001b[0mforward\u001b[0m\u001b[0;34m(\u001b[0m\u001b[0;34m*\u001b[0m\u001b[0minput\u001b[0m\u001b[0;34m,\u001b[0m \u001b[0;34m**\u001b[0m\u001b[0mkwargs\u001b[0m\u001b[0;34m)\u001b[0m\u001b[0;34m\u001b[0m\u001b[0;34m\u001b[0m\u001b[0m\n\u001b[0m\u001b[1;32m    728\u001b[0m         for hook in itertools.chain(\n\u001b[1;32m    729\u001b[0m                 \u001b[0m_global_forward_hooks\u001b[0m\u001b[0;34m.\u001b[0m\u001b[0mvalues\u001b[0m\u001b[0;34m(\u001b[0m\u001b[0;34m)\u001b[0m\u001b[0;34m,\u001b[0m\u001b[0;34m\u001b[0m\u001b[0;34m\u001b[0m\u001b[0m\n",
      "\u001b[0;32m~/anaconda3/lib/python3.7/site-packages/nemo/core/classes/common.py\u001b[0m in \u001b[0;36m__call__\u001b[0;34m(self, wrapped, instance, args, kwargs)\u001b[0m\n\u001b[1;32m    817\u001b[0m \u001b[0;34m\u001b[0m\u001b[0m\n\u001b[1;32m    818\u001b[0m         \u001b[0;31m# Call the method - this can be forward, or any other callable method\u001b[0m\u001b[0;34m\u001b[0m\u001b[0;34m\u001b[0m\u001b[0;34m\u001b[0m\u001b[0m\n\u001b[0;32m--> 819\u001b[0;31m         \u001b[0moutputs\u001b[0m \u001b[0;34m=\u001b[0m \u001b[0mwrapped\u001b[0m\u001b[0;34m(\u001b[0m\u001b[0;34m*\u001b[0m\u001b[0margs\u001b[0m\u001b[0;34m,\u001b[0m \u001b[0;34m**\u001b[0m\u001b[0mkwargs\u001b[0m\u001b[0;34m)\u001b[0m\u001b[0;34m\u001b[0m\u001b[0;34m\u001b[0m\u001b[0m\n\u001b[0m\u001b[1;32m    820\u001b[0m \u001b[0;34m\u001b[0m\u001b[0m\n\u001b[1;32m    821\u001b[0m         instance._attach_and_validate_output_types(\n",
      "\u001b[0;32m~/anaconda3/lib/python3.7/site-packages/nemo/collections/asr/modules/conv_asr.py\u001b[0m in \u001b[0;36mforward\u001b[0;34m(self, audio_signal, length)\u001b[0m\n\u001b[1;32m    220\u001b[0m     \u001b[0;34m@\u001b[0m\u001b[0mtypecheck\u001b[0m\u001b[0;34m(\u001b[0m\u001b[0;34m)\u001b[0m\u001b[0;34m\u001b[0m\u001b[0;34m\u001b[0m\u001b[0m\n\u001b[1;32m    221\u001b[0m     \u001b[0;32mdef\u001b[0m \u001b[0mforward\u001b[0m\u001b[0;34m(\u001b[0m\u001b[0mself\u001b[0m\u001b[0;34m,\u001b[0m \u001b[0maudio_signal\u001b[0m\u001b[0;34m,\u001b[0m \u001b[0mlength\u001b[0m\u001b[0;34m=\u001b[0m\u001b[0;32mNone\u001b[0m\u001b[0;34m)\u001b[0m\u001b[0;34m:\u001b[0m\u001b[0;34m\u001b[0m\u001b[0;34m\u001b[0m\u001b[0m\n\u001b[0;32m--> 222\u001b[0;31m         \u001b[0ms_input\u001b[0m\u001b[0;34m,\u001b[0m \u001b[0mlength\u001b[0m \u001b[0;34m=\u001b[0m \u001b[0mself\u001b[0m\u001b[0;34m.\u001b[0m\u001b[0mencoder\u001b[0m\u001b[0;34m(\u001b[0m\u001b[0;34m(\u001b[0m\u001b[0;34m[\u001b[0m\u001b[0maudio_signal\u001b[0m\u001b[0;34m]\u001b[0m\u001b[0;34m,\u001b[0m \u001b[0mlength\u001b[0m\u001b[0;34m)\u001b[0m\u001b[0;34m)\u001b[0m\u001b[0;34m\u001b[0m\u001b[0;34m\u001b[0m\u001b[0m\n\u001b[0m\u001b[1;32m    223\u001b[0m         \u001b[0;32mif\u001b[0m \u001b[0mlength\u001b[0m \u001b[0;32mis\u001b[0m \u001b[0;32mNone\u001b[0m\u001b[0;34m:\u001b[0m\u001b[0;34m\u001b[0m\u001b[0;34m\u001b[0m\u001b[0m\n\u001b[1;32m    224\u001b[0m             \u001b[0;32mreturn\u001b[0m \u001b[0ms_input\u001b[0m\u001b[0;34m[\u001b[0m\u001b[0;34m-\u001b[0m\u001b[0;36m1\u001b[0m\u001b[0;34m]\u001b[0m\u001b[0;34m\u001b[0m\u001b[0;34m\u001b[0m\u001b[0m\n",
      "\u001b[0;32m~/anaconda3/lib/python3.7/site-packages/torch/nn/modules/module.py\u001b[0m in \u001b[0;36m_call_impl\u001b[0;34m(self, *input, **kwargs)\u001b[0m\n\u001b[1;32m    725\u001b[0m             \u001b[0mresult\u001b[0m \u001b[0;34m=\u001b[0m \u001b[0mself\u001b[0m\u001b[0;34m.\u001b[0m\u001b[0m_slow_forward\u001b[0m\u001b[0;34m(\u001b[0m\u001b[0;34m*\u001b[0m\u001b[0minput\u001b[0m\u001b[0;34m,\u001b[0m \u001b[0;34m**\u001b[0m\u001b[0mkwargs\u001b[0m\u001b[0;34m)\u001b[0m\u001b[0;34m\u001b[0m\u001b[0;34m\u001b[0m\u001b[0m\n\u001b[1;32m    726\u001b[0m         \u001b[0;32melse\u001b[0m\u001b[0;34m:\u001b[0m\u001b[0;34m\u001b[0m\u001b[0;34m\u001b[0m\u001b[0m\n\u001b[0;32m--> 727\u001b[0;31m             \u001b[0mresult\u001b[0m \u001b[0;34m=\u001b[0m \u001b[0mself\u001b[0m\u001b[0;34m.\u001b[0m\u001b[0mforward\u001b[0m\u001b[0;34m(\u001b[0m\u001b[0;34m*\u001b[0m\u001b[0minput\u001b[0m\u001b[0;34m,\u001b[0m \u001b[0;34m**\u001b[0m\u001b[0mkwargs\u001b[0m\u001b[0;34m)\u001b[0m\u001b[0;34m\u001b[0m\u001b[0;34m\u001b[0m\u001b[0m\n\u001b[0m\u001b[1;32m    728\u001b[0m         for hook in itertools.chain(\n\u001b[1;32m    729\u001b[0m                 \u001b[0m_global_forward_hooks\u001b[0m\u001b[0;34m.\u001b[0m\u001b[0mvalues\u001b[0m\u001b[0;34m(\u001b[0m\u001b[0;34m)\u001b[0m\u001b[0;34m,\u001b[0m\u001b[0;34m\u001b[0m\u001b[0;34m\u001b[0m\u001b[0m\n",
      "\u001b[0;32m~/anaconda3/lib/python3.7/site-packages/torch/nn/modules/container.py\u001b[0m in \u001b[0;36mforward\u001b[0;34m(self, input)\u001b[0m\n\u001b[1;32m    115\u001b[0m     \u001b[0;32mdef\u001b[0m \u001b[0mforward\u001b[0m\u001b[0;34m(\u001b[0m\u001b[0mself\u001b[0m\u001b[0;34m,\u001b[0m \u001b[0minput\u001b[0m\u001b[0;34m)\u001b[0m\u001b[0;34m:\u001b[0m\u001b[0;34m\u001b[0m\u001b[0;34m\u001b[0m\u001b[0m\n\u001b[1;32m    116\u001b[0m         \u001b[0;32mfor\u001b[0m \u001b[0mmodule\u001b[0m \u001b[0;32min\u001b[0m \u001b[0mself\u001b[0m\u001b[0;34m:\u001b[0m\u001b[0;34m\u001b[0m\u001b[0;34m\u001b[0m\u001b[0m\n\u001b[0;32m--> 117\u001b[0;31m             \u001b[0minput\u001b[0m \u001b[0;34m=\u001b[0m \u001b[0mmodule\u001b[0m\u001b[0;34m(\u001b[0m\u001b[0minput\u001b[0m\u001b[0;34m)\u001b[0m\u001b[0;34m\u001b[0m\u001b[0;34m\u001b[0m\u001b[0m\n\u001b[0m\u001b[1;32m    118\u001b[0m         \u001b[0;32mreturn\u001b[0m \u001b[0minput\u001b[0m\u001b[0;34m\u001b[0m\u001b[0;34m\u001b[0m\u001b[0m\n\u001b[1;32m    119\u001b[0m \u001b[0;34m\u001b[0m\u001b[0m\n",
      "\u001b[0;32m~/anaconda3/lib/python3.7/site-packages/torch/nn/modules/module.py\u001b[0m in \u001b[0;36m_call_impl\u001b[0;34m(self, *input, **kwargs)\u001b[0m\n\u001b[1;32m    725\u001b[0m             \u001b[0mresult\u001b[0m \u001b[0;34m=\u001b[0m \u001b[0mself\u001b[0m\u001b[0;34m.\u001b[0m\u001b[0m_slow_forward\u001b[0m\u001b[0;34m(\u001b[0m\u001b[0;34m*\u001b[0m\u001b[0minput\u001b[0m\u001b[0;34m,\u001b[0m \u001b[0;34m**\u001b[0m\u001b[0mkwargs\u001b[0m\u001b[0;34m)\u001b[0m\u001b[0;34m\u001b[0m\u001b[0;34m\u001b[0m\u001b[0m\n\u001b[1;32m    726\u001b[0m         \u001b[0;32melse\u001b[0m\u001b[0;34m:\u001b[0m\u001b[0;34m\u001b[0m\u001b[0;34m\u001b[0m\u001b[0m\n\u001b[0;32m--> 727\u001b[0;31m             \u001b[0mresult\u001b[0m \u001b[0;34m=\u001b[0m \u001b[0mself\u001b[0m\u001b[0;34m.\u001b[0m\u001b[0mforward\u001b[0m\u001b[0;34m(\u001b[0m\u001b[0;34m*\u001b[0m\u001b[0minput\u001b[0m\u001b[0;34m,\u001b[0m \u001b[0;34m**\u001b[0m\u001b[0mkwargs\u001b[0m\u001b[0;34m)\u001b[0m\u001b[0;34m\u001b[0m\u001b[0;34m\u001b[0m\u001b[0m\n\u001b[0m\u001b[1;32m    728\u001b[0m         for hook in itertools.chain(\n\u001b[1;32m    729\u001b[0m                 \u001b[0m_global_forward_hooks\u001b[0m\u001b[0;34m.\u001b[0m\u001b[0mvalues\u001b[0m\u001b[0;34m(\u001b[0m\u001b[0;34m)\u001b[0m\u001b[0;34m,\u001b[0m\u001b[0;34m\u001b[0m\u001b[0;34m\u001b[0m\u001b[0m\n",
      "\u001b[0;32m~/anaconda3/lib/python3.7/site-packages/nemo/collections/asr/parts/submodules/jasper.py\u001b[0m in \u001b[0;36mforward\u001b[0;34m(self, input_)\u001b[0m\n\u001b[1;32m    904\u001b[0m             \u001b[0;31m# if (i % 4) == 0 and self.conv_mask:\u001b[0m\u001b[0;34m\u001b[0m\u001b[0;34m\u001b[0m\u001b[0;34m\u001b[0m\u001b[0m\n\u001b[1;32m    905\u001b[0m             \u001b[0;32mif\u001b[0m \u001b[0misinstance\u001b[0m\u001b[0;34m(\u001b[0m\u001b[0ml\u001b[0m\u001b[0;34m,\u001b[0m \u001b[0mMaskedConv1d\u001b[0m\u001b[0;34m)\u001b[0m\u001b[0;34m:\u001b[0m\u001b[0;34m\u001b[0m\u001b[0;34m\u001b[0m\u001b[0m\n\u001b[0;32m--> 906\u001b[0;31m                 \u001b[0mout\u001b[0m\u001b[0;34m,\u001b[0m \u001b[0mlens\u001b[0m \u001b[0;34m=\u001b[0m \u001b[0ml\u001b[0m\u001b[0;34m(\u001b[0m\u001b[0mout\u001b[0m\u001b[0;34m,\u001b[0m \u001b[0mlens\u001b[0m\u001b[0;34m)\u001b[0m\u001b[0;34m\u001b[0m\u001b[0;34m\u001b[0m\u001b[0m\n\u001b[0m\u001b[1;32m    907\u001b[0m             \u001b[0;32melse\u001b[0m\u001b[0;34m:\u001b[0m\u001b[0;34m\u001b[0m\u001b[0;34m\u001b[0m\u001b[0m\n\u001b[1;32m    908\u001b[0m                 \u001b[0mout\u001b[0m \u001b[0;34m=\u001b[0m \u001b[0ml\u001b[0m\u001b[0;34m(\u001b[0m\u001b[0mout\u001b[0m\u001b[0;34m)\u001b[0m\u001b[0;34m\u001b[0m\u001b[0;34m\u001b[0m\u001b[0m\n",
      "\u001b[0;32m~/anaconda3/lib/python3.7/site-packages/torch/nn/modules/module.py\u001b[0m in \u001b[0;36m_call_impl\u001b[0;34m(self, *input, **kwargs)\u001b[0m\n\u001b[1;32m    725\u001b[0m             \u001b[0mresult\u001b[0m \u001b[0;34m=\u001b[0m \u001b[0mself\u001b[0m\u001b[0;34m.\u001b[0m\u001b[0m_slow_forward\u001b[0m\u001b[0;34m(\u001b[0m\u001b[0;34m*\u001b[0m\u001b[0minput\u001b[0m\u001b[0;34m,\u001b[0m \u001b[0;34m**\u001b[0m\u001b[0mkwargs\u001b[0m\u001b[0;34m)\u001b[0m\u001b[0;34m\u001b[0m\u001b[0;34m\u001b[0m\u001b[0m\n\u001b[1;32m    726\u001b[0m         \u001b[0;32melse\u001b[0m\u001b[0;34m:\u001b[0m\u001b[0;34m\u001b[0m\u001b[0;34m\u001b[0m\u001b[0m\n\u001b[0;32m--> 727\u001b[0;31m             \u001b[0mresult\u001b[0m \u001b[0;34m=\u001b[0m \u001b[0mself\u001b[0m\u001b[0;34m.\u001b[0m\u001b[0mforward\u001b[0m\u001b[0;34m(\u001b[0m\u001b[0;34m*\u001b[0m\u001b[0minput\u001b[0m\u001b[0;34m,\u001b[0m \u001b[0;34m**\u001b[0m\u001b[0mkwargs\u001b[0m\u001b[0;34m)\u001b[0m\u001b[0;34m\u001b[0m\u001b[0;34m\u001b[0m\u001b[0m\n\u001b[0m\u001b[1;32m    728\u001b[0m         for hook in itertools.chain(\n\u001b[1;32m    729\u001b[0m                 \u001b[0m_global_forward_hooks\u001b[0m\u001b[0;34m.\u001b[0m\u001b[0mvalues\u001b[0m\u001b[0;34m(\u001b[0m\u001b[0;34m)\u001b[0m\u001b[0;34m,\u001b[0m\u001b[0;34m\u001b[0m\u001b[0;34m\u001b[0m\u001b[0m\n",
      "\u001b[0;32m~/anaconda3/lib/python3.7/site-packages/nemo/collections/asr/parts/submodules/jasper.py\u001b[0m in \u001b[0;36mforward\u001b[0;34m(self, x, lens)\u001b[0m\n\u001b[1;32m    296\u001b[0m             \u001b[0mx\u001b[0m \u001b[0;34m=\u001b[0m \u001b[0mx\u001b[0m\u001b[0;34m.\u001b[0m\u001b[0mview\u001b[0m\u001b[0;34m(\u001b[0m\u001b[0;34m-\u001b[0m\u001b[0;36m1\u001b[0m\u001b[0;34m,\u001b[0m \u001b[0mself\u001b[0m\u001b[0;34m.\u001b[0m\u001b[0mheads\u001b[0m\u001b[0;34m,\u001b[0m \u001b[0msh\u001b[0m\u001b[0;34m[\u001b[0m\u001b[0;34m-\u001b[0m\u001b[0;36m1\u001b[0m\u001b[0;34m]\u001b[0m\u001b[0;34m)\u001b[0m\u001b[0;34m\u001b[0m\u001b[0;34m\u001b[0m\u001b[0m\n\u001b[1;32m    297\u001b[0m \u001b[0;34m\u001b[0m\u001b[0m\n\u001b[0;32m--> 298\u001b[0;31m         \u001b[0mout\u001b[0m \u001b[0;34m=\u001b[0m \u001b[0mself\u001b[0m\u001b[0;34m.\u001b[0m\u001b[0mconv\u001b[0m\u001b[0;34m(\u001b[0m\u001b[0mx\u001b[0m\u001b[0;34m)\u001b[0m\u001b[0;34m\u001b[0m\u001b[0;34m\u001b[0m\u001b[0m\n\u001b[0m\u001b[1;32m    299\u001b[0m \u001b[0;34m\u001b[0m\u001b[0m\n\u001b[1;32m    300\u001b[0m         \u001b[0;32mif\u001b[0m \u001b[0mself\u001b[0m\u001b[0;34m.\u001b[0m\u001b[0mheads\u001b[0m \u001b[0;34m!=\u001b[0m \u001b[0;34m-\u001b[0m\u001b[0;36m1\u001b[0m\u001b[0;34m:\u001b[0m\u001b[0;34m\u001b[0m\u001b[0;34m\u001b[0m\u001b[0m\n",
      "\u001b[0;32m~/anaconda3/lib/python3.7/site-packages/torch/nn/modules/module.py\u001b[0m in \u001b[0;36m_call_impl\u001b[0;34m(self, *input, **kwargs)\u001b[0m\n\u001b[1;32m    725\u001b[0m             \u001b[0mresult\u001b[0m \u001b[0;34m=\u001b[0m \u001b[0mself\u001b[0m\u001b[0;34m.\u001b[0m\u001b[0m_slow_forward\u001b[0m\u001b[0;34m(\u001b[0m\u001b[0;34m*\u001b[0m\u001b[0minput\u001b[0m\u001b[0;34m,\u001b[0m \u001b[0;34m**\u001b[0m\u001b[0mkwargs\u001b[0m\u001b[0;34m)\u001b[0m\u001b[0;34m\u001b[0m\u001b[0;34m\u001b[0m\u001b[0m\n\u001b[1;32m    726\u001b[0m         \u001b[0;32melse\u001b[0m\u001b[0;34m:\u001b[0m\u001b[0;34m\u001b[0m\u001b[0;34m\u001b[0m\u001b[0m\n\u001b[0;32m--> 727\u001b[0;31m             \u001b[0mresult\u001b[0m \u001b[0;34m=\u001b[0m \u001b[0mself\u001b[0m\u001b[0;34m.\u001b[0m\u001b[0mforward\u001b[0m\u001b[0;34m(\u001b[0m\u001b[0;34m*\u001b[0m\u001b[0minput\u001b[0m\u001b[0;34m,\u001b[0m \u001b[0;34m**\u001b[0m\u001b[0mkwargs\u001b[0m\u001b[0;34m)\u001b[0m\u001b[0;34m\u001b[0m\u001b[0;34m\u001b[0m\u001b[0m\n\u001b[0m\u001b[1;32m    728\u001b[0m         for hook in itertools.chain(\n\u001b[1;32m    729\u001b[0m                 \u001b[0m_global_forward_hooks\u001b[0m\u001b[0;34m.\u001b[0m\u001b[0mvalues\u001b[0m\u001b[0;34m(\u001b[0m\u001b[0;34m)\u001b[0m\u001b[0;34m,\u001b[0m\u001b[0;34m\u001b[0m\u001b[0;34m\u001b[0m\u001b[0m\n",
      "\u001b[0;32m~/anaconda3/lib/python3.7/site-packages/torch/nn/modules/conv.py\u001b[0m in \u001b[0;36mforward\u001b[0;34m(self, input)\u001b[0m\n\u001b[1;32m    257\u001b[0m                             _single(0), self.dilation, self.groups)\n\u001b[1;32m    258\u001b[0m         return F.conv1d(input, self.weight, self.bias, self.stride,\n\u001b[0;32m--> 259\u001b[0;31m                         self.padding, self.dilation, self.groups)\n\u001b[0m\u001b[1;32m    260\u001b[0m \u001b[0;34m\u001b[0m\u001b[0m\n\u001b[1;32m    261\u001b[0m \u001b[0;34m\u001b[0m\u001b[0m\n",
      "\u001b[0;31mRuntimeError\u001b[0m: CUDA out of memory. Tried to allocate 20.00 MiB (GPU 0; 7.79 GiB total capacity; 4.17 GiB already allocated; 30.69 MiB free; 4.18 GiB reserved in total by PyTorch)"
     ]
    }
   ],
   "source": [
    "trainer.fit(quartznet15x5)"
   ]
  },
  {
   "cell_type": "code",
   "execution_count": 19,
   "metadata": {},
   "outputs": [
    {
     "name": "stdout",
     "output_type": "stream",
     "text": [
      "Calculating score for model fine_tuned on LJSpeech\n"
     ]
    },
    {
     "data": {
      "application/vnd.jupyter.widget-view+json": {
       "model_id": "634de76d394b4600b620e790cfdab579",
       "version_major": 2,
       "version_minor": 0
      },
      "text/plain": [
       "Transcribing:   0%|          | 0/25 [00:00<?, ?it/s]"
      ]
     },
     "metadata": {},
     "output_type": "display_data"
    },
    {
     "name": "stdout",
     "output_type": "stream",
     "text": [
      "inf\n"
     ]
    },
    {
     "data": {
      "text/plain": [
       "(inf, inf)"
      ]
     },
     "execution_count": 19,
     "metadata": {},
     "output_type": "execute_result"
    }
   ],
   "source": [
    "calculate_score('LJSpeech', model, 'fine_tuned', k=100)"
   ]
  },
  {
   "cell_type": "code",
   "execution_count": 79,
   "metadata": {},
   "outputs": [],
   "source": [
    "df = pd.DataFrame(callback.metrics).astype(float)"
   ]
  },
  {
   "cell_type": "code",
   "execution_count": 10,
   "metadata": {},
   "outputs": [
    {
     "name": "stderr",
     "output_type": "stream",
     "text": [
      "GPU available: True, used: True\n",
      "TPU available: False, using: 0 TPU cores\n",
      "IPU available: False, using: 0 IPUs\n"
     ]
    },
    {
     "ename": "InterpolationKeyError",
     "evalue": "Interpolation key 'model.model_defaults.separable' not found\n    full_key: encoder.jasper[0].separable\n    object_type=dict",
     "output_type": "error",
     "traceback": [
      "\u001b[0;31m---------------------------------------------------------------------------\u001b[0m",
      "\u001b[0;31mInterpolationKeyError\u001b[0m                     Traceback (most recent call last)",
      "\u001b[0;32m<ipython-input-10-614a3ed541ec>\u001b[0m in \u001b[0;36m<module>\u001b[0;34m\u001b[0m\n\u001b[1;32m      6\u001b[0m \u001b[0mtrainer\u001b[0m \u001b[0;34m=\u001b[0m \u001b[0mTrainer\u001b[0m\u001b[0;34m(\u001b[0m\u001b[0mgpus\u001b[0m\u001b[0;34m=\u001b[0m\u001b[0;36m1\u001b[0m\u001b[0;34m,\u001b[0m \u001b[0mmax_epochs\u001b[0m\u001b[0;34m=\u001b[0m\u001b[0;36m50\u001b[0m\u001b[0;34m,\u001b[0m \u001b[0mcallbacks\u001b[0m\u001b[0;34m=\u001b[0m\u001b[0;34m[\u001b[0m\u001b[0mcallback\u001b[0m\u001b[0;34m]\u001b[0m\u001b[0;34m)\u001b[0m\u001b[0;34m\u001b[0m\u001b[0;34m\u001b[0m\u001b[0m\n\u001b[1;32m      7\u001b[0m \u001b[0;34m\u001b[0m\u001b[0m\n\u001b[0;32m----> 8\u001b[0;31m \u001b[0mcitrinet_512\u001b[0m \u001b[0;34m=\u001b[0m \u001b[0mnemo_asr\u001b[0m\u001b[0;34m.\u001b[0m\u001b[0mmodels\u001b[0m\u001b[0;34m.\u001b[0m\u001b[0mEncDecCTCModelBPE\u001b[0m\u001b[0;34m(\u001b[0m\u001b[0mcfg\u001b[0m\u001b[0;34m=\u001b[0m\u001b[0mDictConfig\u001b[0m\u001b[0;34m(\u001b[0m\u001b[0mparams_citrinet\u001b[0m\u001b[0;34m[\u001b[0m\u001b[0;34m'model'\u001b[0m\u001b[0;34m]\u001b[0m\u001b[0;34m)\u001b[0m\u001b[0;34m,\u001b[0m \u001b[0mtrainer\u001b[0m\u001b[0;34m=\u001b[0m\u001b[0mtrainer\u001b[0m\u001b[0;34m)\u001b[0m\u001b[0;34m\u001b[0m\u001b[0;34m\u001b[0m\u001b[0m\n\u001b[0m\u001b[1;32m      9\u001b[0m \u001b[0;34m\u001b[0m\u001b[0m\n\u001b[1;32m     10\u001b[0m \u001b[0mnew_opt\u001b[0m \u001b[0;34m=\u001b[0m \u001b[0mcopy\u001b[0m\u001b[0;34m.\u001b[0m\u001b[0mdeepcopy\u001b[0m\u001b[0;34m(\u001b[0m\u001b[0mparams_citrinet\u001b[0m\u001b[0;34m[\u001b[0m\u001b[0;34m'model'\u001b[0m\u001b[0;34m]\u001b[0m\u001b[0;34m[\u001b[0m\u001b[0;34m'optim'\u001b[0m\u001b[0;34m]\u001b[0m\u001b[0;34m)\u001b[0m\u001b[0;34m\u001b[0m\u001b[0;34m\u001b[0m\u001b[0m\n",
      "\u001b[0;32m~/anaconda3/lib/python3.7/site-packages/nemo/collections/asr/models/ctc_bpe_models.py\u001b[0m in \u001b[0;36m__init__\u001b[0;34m(self, cfg, trainer)\u001b[0m\n\u001b[1;32m    150\u001b[0m     \u001b[0;32mdef\u001b[0m \u001b[0m__init__\u001b[0m\u001b[0;34m(\u001b[0m\u001b[0mself\u001b[0m\u001b[0;34m,\u001b[0m \u001b[0mcfg\u001b[0m\u001b[0;34m:\u001b[0m \u001b[0mDictConfig\u001b[0m\u001b[0;34m,\u001b[0m \u001b[0mtrainer\u001b[0m\u001b[0;34m=\u001b[0m\u001b[0;32mNone\u001b[0m\u001b[0;34m)\u001b[0m\u001b[0;34m:\u001b[0m\u001b[0;34m\u001b[0m\u001b[0;34m\u001b[0m\u001b[0m\n\u001b[1;32m    151\u001b[0m         \u001b[0;31m# Convert to Hydra 1.0 compatible DictConfig\u001b[0m\u001b[0;34m\u001b[0m\u001b[0;34m\u001b[0m\u001b[0;34m\u001b[0m\u001b[0m\n\u001b[0;32m--> 152\u001b[0;31m         \u001b[0mcfg\u001b[0m \u001b[0;34m=\u001b[0m \u001b[0mmodel_utils\u001b[0m\u001b[0;34m.\u001b[0m\u001b[0mconvert_model_config_to_dict_config\u001b[0m\u001b[0;34m(\u001b[0m\u001b[0mcfg\u001b[0m\u001b[0;34m)\u001b[0m\u001b[0;34m\u001b[0m\u001b[0;34m\u001b[0m\u001b[0m\n\u001b[0m\u001b[1;32m    153\u001b[0m         \u001b[0mcfg\u001b[0m \u001b[0;34m=\u001b[0m \u001b[0mmodel_utils\u001b[0m\u001b[0;34m.\u001b[0m\u001b[0mmaybe_update_config_version\u001b[0m\u001b[0;34m(\u001b[0m\u001b[0mcfg\u001b[0m\u001b[0;34m)\u001b[0m\u001b[0;34m\u001b[0m\u001b[0;34m\u001b[0m\u001b[0m\n\u001b[1;32m    154\u001b[0m \u001b[0;34m\u001b[0m\u001b[0m\n",
      "\u001b[0;32m~/anaconda3/lib/python3.7/site-packages/nemo/utils/model_utils.py\u001b[0m in \u001b[0;36mconvert_model_config_to_dict_config\u001b[0;34m(cfg)\u001b[0m\n\u001b[1;32m    382\u001b[0m         \u001b[0;32mraise\u001b[0m \u001b[0mValueError\u001b[0m\u001b[0;34m(\u001b[0m\u001b[0;34mf\"cfg constructor argument must be of type DictConfig/dict but got {type(cfg)} instead.\"\u001b[0m\u001b[0;34m)\u001b[0m\u001b[0;34m\u001b[0m\u001b[0;34m\u001b[0m\u001b[0m\n\u001b[1;32m    383\u001b[0m \u001b[0;34m\u001b[0m\u001b[0m\n\u001b[0;32m--> 384\u001b[0;31m     \u001b[0mconfig\u001b[0m \u001b[0;34m=\u001b[0m \u001b[0mOmegaConf\u001b[0m\u001b[0;34m.\u001b[0m\u001b[0mto_container\u001b[0m\u001b[0;34m(\u001b[0m\u001b[0mcfg\u001b[0m\u001b[0;34m,\u001b[0m \u001b[0mresolve\u001b[0m\u001b[0;34m=\u001b[0m\u001b[0;32mTrue\u001b[0m\u001b[0;34m)\u001b[0m\u001b[0;34m\u001b[0m\u001b[0;34m\u001b[0m\u001b[0m\n\u001b[0m\u001b[1;32m    385\u001b[0m     \u001b[0mconfig\u001b[0m \u001b[0;34m=\u001b[0m \u001b[0mOmegaConf\u001b[0m\u001b[0;34m.\u001b[0m\u001b[0mcreate\u001b[0m\u001b[0;34m(\u001b[0m\u001b[0mconfig\u001b[0m\u001b[0;34m)\u001b[0m\u001b[0;34m\u001b[0m\u001b[0;34m\u001b[0m\u001b[0m\n\u001b[1;32m    386\u001b[0m     \u001b[0;32mreturn\u001b[0m \u001b[0mconfig\u001b[0m\u001b[0;34m\u001b[0m\u001b[0;34m\u001b[0m\u001b[0m\n",
      "\u001b[0;32m~/anaconda3/lib/python3.7/site-packages/omegaconf/omegaconf.py\u001b[0m in \u001b[0;36mto_container\u001b[0;34m(cfg, resolve, throw_on_missing, enum_to_str, structured_config_mode)\u001b[0m\n\u001b[1;32m    556\u001b[0m             \u001b[0mthrow_on_missing\u001b[0m\u001b[0;34m=\u001b[0m\u001b[0mthrow_on_missing\u001b[0m\u001b[0;34m,\u001b[0m\u001b[0;34m\u001b[0m\u001b[0;34m\u001b[0m\u001b[0m\n\u001b[1;32m    557\u001b[0m             \u001b[0menum_to_str\u001b[0m\u001b[0;34m=\u001b[0m\u001b[0menum_to_str\u001b[0m\u001b[0;34m,\u001b[0m\u001b[0;34m\u001b[0m\u001b[0;34m\u001b[0m\u001b[0m\n\u001b[0;32m--> 558\u001b[0;31m             \u001b[0mstructured_config_mode\u001b[0m\u001b[0;34m=\u001b[0m\u001b[0mstructured_config_mode\u001b[0m\u001b[0;34m,\u001b[0m\u001b[0;34m\u001b[0m\u001b[0;34m\u001b[0m\u001b[0m\n\u001b[0m\u001b[1;32m    559\u001b[0m         )\n\u001b[1;32m    560\u001b[0m \u001b[0;34m\u001b[0m\u001b[0m\n",
      "\u001b[0;32m~/anaconda3/lib/python3.7/site-packages/omegaconf/basecontainer.py\u001b[0m in \u001b[0;36m_to_content\u001b[0;34m(conf, resolve, throw_on_missing, enum_to_str, structured_config_mode)\u001b[0m\n\u001b[1;32m    251\u001b[0m             \u001b[0mretdict\u001b[0m\u001b[0;34m:\u001b[0m \u001b[0mDict\u001b[0m\u001b[0;34m[\u001b[0m\u001b[0mDictKeyType\u001b[0m\u001b[0;34m,\u001b[0m \u001b[0mAny\u001b[0m\u001b[0;34m]\u001b[0m \u001b[0;34m=\u001b[0m \u001b[0;34m{\u001b[0m\u001b[0;34m}\u001b[0m\u001b[0;34m\u001b[0m\u001b[0;34m\u001b[0m\u001b[0m\n\u001b[1;32m    252\u001b[0m             \u001b[0;32mfor\u001b[0m \u001b[0mkey\u001b[0m \u001b[0;32min\u001b[0m \u001b[0mconf\u001b[0m\u001b[0;34m.\u001b[0m\u001b[0mkeys\u001b[0m\u001b[0;34m(\u001b[0m\u001b[0;34m)\u001b[0m\u001b[0;34m:\u001b[0m\u001b[0;34m\u001b[0m\u001b[0;34m\u001b[0m\u001b[0m\n\u001b[0;32m--> 253\u001b[0;31m                 \u001b[0mvalue\u001b[0m \u001b[0;34m=\u001b[0m \u001b[0mget_node_value\u001b[0m\u001b[0;34m(\u001b[0m\u001b[0mkey\u001b[0m\u001b[0;34m)\u001b[0m\u001b[0;34m\u001b[0m\u001b[0;34m\u001b[0m\u001b[0m\n\u001b[0m\u001b[1;32m    254\u001b[0m                 \u001b[0;32mif\u001b[0m \u001b[0menum_to_str\u001b[0m \u001b[0;32mand\u001b[0m \u001b[0misinstance\u001b[0m\u001b[0;34m(\u001b[0m\u001b[0mkey\u001b[0m\u001b[0;34m,\u001b[0m \u001b[0mEnum\u001b[0m\u001b[0;34m)\u001b[0m\u001b[0;34m:\u001b[0m\u001b[0;34m\u001b[0m\u001b[0;34m\u001b[0m\u001b[0m\n\u001b[1;32m    255\u001b[0m                     \u001b[0mkey\u001b[0m \u001b[0;34m=\u001b[0m \u001b[0;34mf\"{key.name}\"\u001b[0m\u001b[0;34m\u001b[0m\u001b[0;34m\u001b[0m\u001b[0m\n",
      "\u001b[0;32m~/anaconda3/lib/python3.7/site-packages/omegaconf/basecontainer.py\u001b[0m in \u001b[0;36mget_node_value\u001b[0;34m(key)\u001b[0m\n\u001b[1;32m    211\u001b[0m                     \u001b[0mthrow_on_missing\u001b[0m\u001b[0;34m=\u001b[0m\u001b[0mthrow_on_missing\u001b[0m\u001b[0;34m,\u001b[0m\u001b[0;34m\u001b[0m\u001b[0;34m\u001b[0m\u001b[0m\n\u001b[1;32m    212\u001b[0m                     \u001b[0menum_to_str\u001b[0m\u001b[0;34m=\u001b[0m\u001b[0menum_to_str\u001b[0m\u001b[0;34m,\u001b[0m\u001b[0;34m\u001b[0m\u001b[0;34m\u001b[0m\u001b[0m\n\u001b[0;32m--> 213\u001b[0;31m                     \u001b[0mstructured_config_mode\u001b[0m\u001b[0;34m=\u001b[0m\u001b[0mstructured_config_mode\u001b[0m\u001b[0;34m,\u001b[0m\u001b[0;34m\u001b[0m\u001b[0;34m\u001b[0m\u001b[0m\n\u001b[0m\u001b[1;32m    214\u001b[0m                 )\n\u001b[1;32m    215\u001b[0m             \u001b[0;32melse\u001b[0m\u001b[0;34m:\u001b[0m\u001b[0;34m\u001b[0m\u001b[0;34m\u001b[0m\u001b[0m\n",
      "\u001b[0;32m~/anaconda3/lib/python3.7/site-packages/omegaconf/basecontainer.py\u001b[0m in \u001b[0;36m_to_content\u001b[0;34m(conf, resolve, throw_on_missing, enum_to_str, structured_config_mode)\u001b[0m\n\u001b[1;32m    251\u001b[0m             \u001b[0mretdict\u001b[0m\u001b[0;34m:\u001b[0m \u001b[0mDict\u001b[0m\u001b[0;34m[\u001b[0m\u001b[0mDictKeyType\u001b[0m\u001b[0;34m,\u001b[0m \u001b[0mAny\u001b[0m\u001b[0;34m]\u001b[0m \u001b[0;34m=\u001b[0m \u001b[0;34m{\u001b[0m\u001b[0;34m}\u001b[0m\u001b[0;34m\u001b[0m\u001b[0;34m\u001b[0m\u001b[0m\n\u001b[1;32m    252\u001b[0m             \u001b[0;32mfor\u001b[0m \u001b[0mkey\u001b[0m \u001b[0;32min\u001b[0m \u001b[0mconf\u001b[0m\u001b[0;34m.\u001b[0m\u001b[0mkeys\u001b[0m\u001b[0;34m(\u001b[0m\u001b[0;34m)\u001b[0m\u001b[0;34m:\u001b[0m\u001b[0;34m\u001b[0m\u001b[0;34m\u001b[0m\u001b[0m\n\u001b[0;32m--> 253\u001b[0;31m                 \u001b[0mvalue\u001b[0m \u001b[0;34m=\u001b[0m \u001b[0mget_node_value\u001b[0m\u001b[0;34m(\u001b[0m\u001b[0mkey\u001b[0m\u001b[0;34m)\u001b[0m\u001b[0;34m\u001b[0m\u001b[0;34m\u001b[0m\u001b[0m\n\u001b[0m\u001b[1;32m    254\u001b[0m                 \u001b[0;32mif\u001b[0m \u001b[0menum_to_str\u001b[0m \u001b[0;32mand\u001b[0m \u001b[0misinstance\u001b[0m\u001b[0;34m(\u001b[0m\u001b[0mkey\u001b[0m\u001b[0;34m,\u001b[0m \u001b[0mEnum\u001b[0m\u001b[0;34m)\u001b[0m\u001b[0;34m:\u001b[0m\u001b[0;34m\u001b[0m\u001b[0;34m\u001b[0m\u001b[0m\n\u001b[1;32m    255\u001b[0m                     \u001b[0mkey\u001b[0m \u001b[0;34m=\u001b[0m \u001b[0;34mf\"{key.name}\"\u001b[0m\u001b[0;34m\u001b[0m\u001b[0;34m\u001b[0m\u001b[0m\n",
      "\u001b[0;32m~/anaconda3/lib/python3.7/site-packages/omegaconf/basecontainer.py\u001b[0m in \u001b[0;36mget_node_value\u001b[0;34m(key)\u001b[0m\n\u001b[1;32m    211\u001b[0m                     \u001b[0mthrow_on_missing\u001b[0m\u001b[0;34m=\u001b[0m\u001b[0mthrow_on_missing\u001b[0m\u001b[0;34m,\u001b[0m\u001b[0;34m\u001b[0m\u001b[0;34m\u001b[0m\u001b[0m\n\u001b[1;32m    212\u001b[0m                     \u001b[0menum_to_str\u001b[0m\u001b[0;34m=\u001b[0m\u001b[0menum_to_str\u001b[0m\u001b[0;34m,\u001b[0m\u001b[0;34m\u001b[0m\u001b[0;34m\u001b[0m\u001b[0m\n\u001b[0;32m--> 213\u001b[0;31m                     \u001b[0mstructured_config_mode\u001b[0m\u001b[0;34m=\u001b[0m\u001b[0mstructured_config_mode\u001b[0m\u001b[0;34m,\u001b[0m\u001b[0;34m\u001b[0m\u001b[0;34m\u001b[0m\u001b[0m\n\u001b[0m\u001b[1;32m    214\u001b[0m                 )\n\u001b[1;32m    215\u001b[0m             \u001b[0;32melse\u001b[0m\u001b[0;34m:\u001b[0m\u001b[0;34m\u001b[0m\u001b[0;34m\u001b[0m\u001b[0m\n",
      "\u001b[0;32m~/anaconda3/lib/python3.7/site-packages/omegaconf/basecontainer.py\u001b[0m in \u001b[0;36m_to_content\u001b[0;34m(conf, resolve, throw_on_missing, enum_to_str, structured_config_mode)\u001b[0m\n\u001b[1;32m    259\u001b[0m             \u001b[0mretlist\u001b[0m\u001b[0;34m:\u001b[0m \u001b[0mList\u001b[0m\u001b[0;34m[\u001b[0m\u001b[0mAny\u001b[0m\u001b[0;34m]\u001b[0m \u001b[0;34m=\u001b[0m \u001b[0;34m[\u001b[0m\u001b[0;34m]\u001b[0m\u001b[0;34m\u001b[0m\u001b[0;34m\u001b[0m\u001b[0m\n\u001b[1;32m    260\u001b[0m             \u001b[0;32mfor\u001b[0m \u001b[0mindex\u001b[0m \u001b[0;32min\u001b[0m \u001b[0mrange\u001b[0m\u001b[0;34m(\u001b[0m\u001b[0mlen\u001b[0m\u001b[0;34m(\u001b[0m\u001b[0mconf\u001b[0m\u001b[0;34m)\u001b[0m\u001b[0;34m)\u001b[0m\u001b[0;34m:\u001b[0m\u001b[0;34m\u001b[0m\u001b[0;34m\u001b[0m\u001b[0m\n\u001b[0;32m--> 261\u001b[0;31m                 \u001b[0mitem\u001b[0m \u001b[0;34m=\u001b[0m \u001b[0mget_node_value\u001b[0m\u001b[0;34m(\u001b[0m\u001b[0mindex\u001b[0m\u001b[0;34m)\u001b[0m\u001b[0;34m\u001b[0m\u001b[0;34m\u001b[0m\u001b[0m\n\u001b[0m\u001b[1;32m    262\u001b[0m                 \u001b[0mretlist\u001b[0m\u001b[0;34m.\u001b[0m\u001b[0mappend\u001b[0m\u001b[0;34m(\u001b[0m\u001b[0mitem\u001b[0m\u001b[0;34m)\u001b[0m\u001b[0;34m\u001b[0m\u001b[0;34m\u001b[0m\u001b[0m\n\u001b[1;32m    263\u001b[0m \u001b[0;34m\u001b[0m\u001b[0m\n",
      "\u001b[0;32m~/anaconda3/lib/python3.7/site-packages/omegaconf/basecontainer.py\u001b[0m in \u001b[0;36mget_node_value\u001b[0;34m(key)\u001b[0m\n\u001b[1;32m    211\u001b[0m                     \u001b[0mthrow_on_missing\u001b[0m\u001b[0;34m=\u001b[0m\u001b[0mthrow_on_missing\u001b[0m\u001b[0;34m,\u001b[0m\u001b[0;34m\u001b[0m\u001b[0;34m\u001b[0m\u001b[0m\n\u001b[1;32m    212\u001b[0m                     \u001b[0menum_to_str\u001b[0m\u001b[0;34m=\u001b[0m\u001b[0menum_to_str\u001b[0m\u001b[0;34m,\u001b[0m\u001b[0;34m\u001b[0m\u001b[0;34m\u001b[0m\u001b[0m\n\u001b[0;32m--> 213\u001b[0;31m                     \u001b[0mstructured_config_mode\u001b[0m\u001b[0;34m=\u001b[0m\u001b[0mstructured_config_mode\u001b[0m\u001b[0;34m,\u001b[0m\u001b[0;34m\u001b[0m\u001b[0;34m\u001b[0m\u001b[0m\n\u001b[0m\u001b[1;32m    214\u001b[0m                 )\n\u001b[1;32m    215\u001b[0m             \u001b[0;32melse\u001b[0m\u001b[0;34m:\u001b[0m\u001b[0;34m\u001b[0m\u001b[0;34m\u001b[0m\u001b[0m\n",
      "\u001b[0;32m~/anaconda3/lib/python3.7/site-packages/omegaconf/basecontainer.py\u001b[0m in \u001b[0;36m_to_content\u001b[0;34m(conf, resolve, throw_on_missing, enum_to_str, structured_config_mode)\u001b[0m\n\u001b[1;32m    251\u001b[0m             \u001b[0mretdict\u001b[0m\u001b[0;34m:\u001b[0m \u001b[0mDict\u001b[0m\u001b[0;34m[\u001b[0m\u001b[0mDictKeyType\u001b[0m\u001b[0;34m,\u001b[0m \u001b[0mAny\u001b[0m\u001b[0;34m]\u001b[0m \u001b[0;34m=\u001b[0m \u001b[0;34m{\u001b[0m\u001b[0;34m}\u001b[0m\u001b[0;34m\u001b[0m\u001b[0;34m\u001b[0m\u001b[0m\n\u001b[1;32m    252\u001b[0m             \u001b[0;32mfor\u001b[0m \u001b[0mkey\u001b[0m \u001b[0;32min\u001b[0m \u001b[0mconf\u001b[0m\u001b[0;34m.\u001b[0m\u001b[0mkeys\u001b[0m\u001b[0;34m(\u001b[0m\u001b[0;34m)\u001b[0m\u001b[0;34m:\u001b[0m\u001b[0;34m\u001b[0m\u001b[0;34m\u001b[0m\u001b[0m\n\u001b[0;32m--> 253\u001b[0;31m                 \u001b[0mvalue\u001b[0m \u001b[0;34m=\u001b[0m \u001b[0mget_node_value\u001b[0m\u001b[0;34m(\u001b[0m\u001b[0mkey\u001b[0m\u001b[0;34m)\u001b[0m\u001b[0;34m\u001b[0m\u001b[0;34m\u001b[0m\u001b[0m\n\u001b[0m\u001b[1;32m    254\u001b[0m                 \u001b[0;32mif\u001b[0m \u001b[0menum_to_str\u001b[0m \u001b[0;32mand\u001b[0m \u001b[0misinstance\u001b[0m\u001b[0;34m(\u001b[0m\u001b[0mkey\u001b[0m\u001b[0;34m,\u001b[0m \u001b[0mEnum\u001b[0m\u001b[0;34m)\u001b[0m\u001b[0;34m:\u001b[0m\u001b[0;34m\u001b[0m\u001b[0;34m\u001b[0m\u001b[0m\n\u001b[1;32m    255\u001b[0m                     \u001b[0mkey\u001b[0m \u001b[0;34m=\u001b[0m \u001b[0;34mf\"{key.name}\"\u001b[0m\u001b[0;34m\u001b[0m\u001b[0;34m\u001b[0m\u001b[0m\n",
      "\u001b[0;32m~/anaconda3/lib/python3.7/site-packages/omegaconf/basecontainer.py\u001b[0m in \u001b[0;36mget_node_value\u001b[0;34m(key)\u001b[0m\n\u001b[1;32m    203\u001b[0m                     \u001b[0mnode\u001b[0m \u001b[0;34m=\u001b[0m \u001b[0mnode\u001b[0m\u001b[0;34m.\u001b[0m\u001b[0m_dereference_node\u001b[0m\u001b[0;34m(\u001b[0m\u001b[0;34m)\u001b[0m\u001b[0;34m\u001b[0m\u001b[0;34m\u001b[0m\u001b[0m\n\u001b[1;32m    204\u001b[0m                 \u001b[0;32mexcept\u001b[0m \u001b[0mInterpolationResolutionError\u001b[0m \u001b[0;32mas\u001b[0m \u001b[0me\u001b[0m\u001b[0;34m:\u001b[0m\u001b[0;34m\u001b[0m\u001b[0;34m\u001b[0m\u001b[0m\n\u001b[0;32m--> 205\u001b[0;31m                     \u001b[0mconf\u001b[0m\u001b[0;34m.\u001b[0m\u001b[0m_format_and_raise\u001b[0m\u001b[0;34m(\u001b[0m\u001b[0mkey\u001b[0m\u001b[0;34m=\u001b[0m\u001b[0mkey\u001b[0m\u001b[0;34m,\u001b[0m \u001b[0mvalue\u001b[0m\u001b[0;34m=\u001b[0m\u001b[0;32mNone\u001b[0m\u001b[0;34m,\u001b[0m \u001b[0mcause\u001b[0m\u001b[0;34m=\u001b[0m\u001b[0me\u001b[0m\u001b[0;34m)\u001b[0m\u001b[0;34m\u001b[0m\u001b[0;34m\u001b[0m\u001b[0m\n\u001b[0m\u001b[1;32m    206\u001b[0m \u001b[0;34m\u001b[0m\u001b[0m\n\u001b[1;32m    207\u001b[0m             \u001b[0;32mif\u001b[0m \u001b[0misinstance\u001b[0m\u001b[0;34m(\u001b[0m\u001b[0mnode\u001b[0m\u001b[0;34m,\u001b[0m \u001b[0mContainer\u001b[0m\u001b[0;34m)\u001b[0m\u001b[0;34m:\u001b[0m\u001b[0;34m\u001b[0m\u001b[0;34m\u001b[0m\u001b[0m\n",
      "\u001b[0;32m~/anaconda3/lib/python3.7/site-packages/omegaconf/base.py\u001b[0m in \u001b[0;36m_format_and_raise\u001b[0;34m(self, key, value, cause, type_override)\u001b[0m\n\u001b[1;32m    194\u001b[0m             \u001b[0mmsg\u001b[0m\u001b[0;34m=\u001b[0m\u001b[0mstr\u001b[0m\u001b[0;34m(\u001b[0m\u001b[0mcause\u001b[0m\u001b[0;34m)\u001b[0m\u001b[0;34m,\u001b[0m\u001b[0;34m\u001b[0m\u001b[0;34m\u001b[0m\u001b[0m\n\u001b[1;32m    195\u001b[0m             \u001b[0mcause\u001b[0m\u001b[0;34m=\u001b[0m\u001b[0mcause\u001b[0m\u001b[0;34m,\u001b[0m\u001b[0;34m\u001b[0m\u001b[0;34m\u001b[0m\u001b[0m\n\u001b[0;32m--> 196\u001b[0;31m             \u001b[0mtype_override\u001b[0m\u001b[0;34m=\u001b[0m\u001b[0mtype_override\u001b[0m\u001b[0;34m,\u001b[0m\u001b[0;34m\u001b[0m\u001b[0;34m\u001b[0m\u001b[0m\n\u001b[0m\u001b[1;32m    197\u001b[0m         )\n\u001b[1;32m    198\u001b[0m         \u001b[0;32massert\u001b[0m \u001b[0;32mFalse\u001b[0m\u001b[0;34m\u001b[0m\u001b[0;34m\u001b[0m\u001b[0m\n",
      "\u001b[0;32m~/anaconda3/lib/python3.7/site-packages/omegaconf/_utils.py\u001b[0m in \u001b[0;36mformat_and_raise\u001b[0;34m(node, key, value, msg, cause, type_override)\u001b[0m\n\u001b[1;32m    819\u001b[0m         \u001b[0mex\u001b[0m\u001b[0;34m.\u001b[0m\u001b[0mref_type_str\u001b[0m \u001b[0;34m=\u001b[0m \u001b[0mref_type_str\u001b[0m\u001b[0;34m\u001b[0m\u001b[0;34m\u001b[0m\u001b[0m\n\u001b[1;32m    820\u001b[0m \u001b[0;34m\u001b[0m\u001b[0m\n\u001b[0;32m--> 821\u001b[0;31m     \u001b[0m_raise\u001b[0m\u001b[0;34m(\u001b[0m\u001b[0mex\u001b[0m\u001b[0;34m,\u001b[0m \u001b[0mcause\u001b[0m\u001b[0;34m)\u001b[0m\u001b[0;34m\u001b[0m\u001b[0;34m\u001b[0m\u001b[0m\n\u001b[0m\u001b[1;32m    822\u001b[0m \u001b[0;34m\u001b[0m\u001b[0m\n\u001b[1;32m    823\u001b[0m \u001b[0;34m\u001b[0m\u001b[0m\n",
      "\u001b[0;32m~/anaconda3/lib/python3.7/site-packages/omegaconf/_utils.py\u001b[0m in \u001b[0;36m_raise\u001b[0;34m(ex, cause)\u001b[0m\n\u001b[1;32m    717\u001b[0m     \u001b[0;32melse\u001b[0m\u001b[0;34m:\u001b[0m\u001b[0;34m\u001b[0m\u001b[0;34m\u001b[0m\u001b[0m\n\u001b[1;32m    718\u001b[0m         \u001b[0mex\u001b[0m\u001b[0;34m.\u001b[0m\u001b[0m__cause__\u001b[0m \u001b[0;34m=\u001b[0m \u001b[0;32mNone\u001b[0m\u001b[0;34m\u001b[0m\u001b[0;34m\u001b[0m\u001b[0m\n\u001b[0;32m--> 719\u001b[0;31m     \u001b[0;32mraise\u001b[0m \u001b[0mex\u001b[0m\u001b[0;34m.\u001b[0m\u001b[0mwith_traceback\u001b[0m\u001b[0;34m(\u001b[0m\u001b[0msys\u001b[0m\u001b[0;34m.\u001b[0m\u001b[0mexc_info\u001b[0m\u001b[0;34m(\u001b[0m\u001b[0;34m)\u001b[0m\u001b[0;34m[\u001b[0m\u001b[0;36m2\u001b[0m\u001b[0;34m]\u001b[0m\u001b[0;34m)\u001b[0m  \u001b[0;31m# set end OC_CAUSE=1 for full backtrace\u001b[0m\u001b[0;34m\u001b[0m\u001b[0;34m\u001b[0m\u001b[0m\n\u001b[0m\u001b[1;32m    720\u001b[0m \u001b[0;34m\u001b[0m\u001b[0m\n\u001b[1;32m    721\u001b[0m \u001b[0;34m\u001b[0m\u001b[0m\n",
      "\u001b[0;32m~/anaconda3/lib/python3.7/site-packages/omegaconf/basecontainer.py\u001b[0m in \u001b[0;36mget_node_value\u001b[0;34m(key)\u001b[0m\n\u001b[1;32m    201\u001b[0m             \u001b[0;32mif\u001b[0m \u001b[0mresolve\u001b[0m\u001b[0;34m:\u001b[0m\u001b[0;34m\u001b[0m\u001b[0;34m\u001b[0m\u001b[0m\n\u001b[1;32m    202\u001b[0m                 \u001b[0;32mtry\u001b[0m\u001b[0;34m:\u001b[0m\u001b[0;34m\u001b[0m\u001b[0;34m\u001b[0m\u001b[0m\n\u001b[0;32m--> 203\u001b[0;31m                     \u001b[0mnode\u001b[0m \u001b[0;34m=\u001b[0m \u001b[0mnode\u001b[0m\u001b[0;34m.\u001b[0m\u001b[0m_dereference_node\u001b[0m\u001b[0;34m(\u001b[0m\u001b[0;34m)\u001b[0m\u001b[0;34m\u001b[0m\u001b[0;34m\u001b[0m\u001b[0m\n\u001b[0m\u001b[1;32m    204\u001b[0m                 \u001b[0;32mexcept\u001b[0m \u001b[0mInterpolationResolutionError\u001b[0m \u001b[0;32mas\u001b[0m \u001b[0me\u001b[0m\u001b[0;34m:\u001b[0m\u001b[0;34m\u001b[0m\u001b[0;34m\u001b[0m\u001b[0m\n\u001b[1;32m    205\u001b[0m                     \u001b[0mconf\u001b[0m\u001b[0;34m.\u001b[0m\u001b[0m_format_and_raise\u001b[0m\u001b[0;34m(\u001b[0m\u001b[0mkey\u001b[0m\u001b[0;34m=\u001b[0m\u001b[0mkey\u001b[0m\u001b[0;34m,\u001b[0m \u001b[0mvalue\u001b[0m\u001b[0;34m=\u001b[0m\u001b[0;32mNone\u001b[0m\u001b[0;34m,\u001b[0m \u001b[0mcause\u001b[0m\u001b[0;34m=\u001b[0m\u001b[0me\u001b[0m\u001b[0;34m)\u001b[0m\u001b[0;34m\u001b[0m\u001b[0;34m\u001b[0m\u001b[0m\n",
      "\u001b[0;32m~/anaconda3/lib/python3.7/site-packages/omegaconf/base.py\u001b[0m in \u001b[0;36m_dereference_node\u001b[0;34m(self)\u001b[0m\n\u001b[1;32m    203\u001b[0m \u001b[0;34m\u001b[0m\u001b[0m\n\u001b[1;32m    204\u001b[0m     \u001b[0;32mdef\u001b[0m \u001b[0m_dereference_node\u001b[0m\u001b[0;34m(\u001b[0m\u001b[0mself\u001b[0m\u001b[0;34m)\u001b[0m \u001b[0;34m->\u001b[0m \u001b[0;34m\"Node\"\u001b[0m\u001b[0;34m:\u001b[0m\u001b[0;34m\u001b[0m\u001b[0;34m\u001b[0m\u001b[0m\n\u001b[0;32m--> 205\u001b[0;31m         \u001b[0mnode\u001b[0m \u001b[0;34m=\u001b[0m \u001b[0mself\u001b[0m\u001b[0;34m.\u001b[0m\u001b[0m_dereference_node_impl\u001b[0m\u001b[0;34m(\u001b[0m\u001b[0mthrow_on_resolution_failure\u001b[0m\u001b[0;34m=\u001b[0m\u001b[0;32mTrue\u001b[0m\u001b[0;34m)\u001b[0m\u001b[0;34m\u001b[0m\u001b[0;34m\u001b[0m\u001b[0m\n\u001b[0m\u001b[1;32m    206\u001b[0m         \u001b[0;32massert\u001b[0m \u001b[0mnode\u001b[0m \u001b[0;32mis\u001b[0m \u001b[0;32mnot\u001b[0m \u001b[0;32mNone\u001b[0m\u001b[0;34m\u001b[0m\u001b[0;34m\u001b[0m\u001b[0m\n\u001b[1;32m    207\u001b[0m         \u001b[0;32mreturn\u001b[0m \u001b[0mnode\u001b[0m\u001b[0;34m\u001b[0m\u001b[0;34m\u001b[0m\u001b[0m\n",
      "\u001b[0;32m~/anaconda3/lib/python3.7/site-packages/omegaconf/base.py\u001b[0m in \u001b[0;36m_dereference_node_impl\u001b[0;34m(self, throw_on_resolution_failure, memo)\u001b[0m\n\u001b[1;32m    240\u001b[0m             \u001b[0mparse_tree\u001b[0m\u001b[0;34m=\u001b[0m\u001b[0mparse\u001b[0m\u001b[0;34m(\u001b[0m\u001b[0m_get_value\u001b[0m\u001b[0;34m(\u001b[0m\u001b[0mself\u001b[0m\u001b[0;34m)\u001b[0m\u001b[0;34m)\u001b[0m\u001b[0;34m,\u001b[0m\u001b[0;34m\u001b[0m\u001b[0;34m\u001b[0m\u001b[0m\n\u001b[1;32m    241\u001b[0m             \u001b[0mthrow_on_resolution_failure\u001b[0m\u001b[0;34m=\u001b[0m\u001b[0mthrow_on_resolution_failure\u001b[0m\u001b[0;34m,\u001b[0m\u001b[0;34m\u001b[0m\u001b[0;34m\u001b[0m\u001b[0m\n\u001b[0;32m--> 242\u001b[0;31m             \u001b[0mmemo\u001b[0m\u001b[0;34m=\u001b[0m\u001b[0mmemo\u001b[0m\u001b[0;34m,\u001b[0m\u001b[0;34m\u001b[0m\u001b[0;34m\u001b[0m\u001b[0m\n\u001b[0m\u001b[1;32m    243\u001b[0m         )\n\u001b[1;32m    244\u001b[0m \u001b[0;34m\u001b[0m\u001b[0m\n",
      "\u001b[0;32m~/anaconda3/lib/python3.7/site-packages/omegaconf/base.py\u001b[0m in \u001b[0;36m_resolve_interpolation_from_parse_tree\u001b[0;34m(self, parent, value, key, parse_tree, throw_on_resolution_failure, memo)\u001b[0m\n\u001b[1;32m    481\u001b[0m         \u001b[0;32mtry\u001b[0m\u001b[0;34m:\u001b[0m\u001b[0;34m\u001b[0m\u001b[0;34m\u001b[0m\u001b[0m\n\u001b[1;32m    482\u001b[0m             resolved = self.resolve_parse_tree(\n\u001b[0;32m--> 483\u001b[0;31m                 \u001b[0mparse_tree\u001b[0m\u001b[0;34m=\u001b[0m\u001b[0mparse_tree\u001b[0m\u001b[0;34m,\u001b[0m \u001b[0mnode\u001b[0m\u001b[0;34m=\u001b[0m\u001b[0mvalue\u001b[0m\u001b[0;34m,\u001b[0m \u001b[0mkey\u001b[0m\u001b[0;34m=\u001b[0m\u001b[0mkey\u001b[0m\u001b[0;34m,\u001b[0m \u001b[0mparent\u001b[0m\u001b[0;34m=\u001b[0m\u001b[0mparent\u001b[0m\u001b[0;34m,\u001b[0m \u001b[0mmemo\u001b[0m\u001b[0;34m=\u001b[0m\u001b[0mmemo\u001b[0m\u001b[0;34m\u001b[0m\u001b[0;34m\u001b[0m\u001b[0m\n\u001b[0m\u001b[1;32m    484\u001b[0m             )\n\u001b[1;32m    485\u001b[0m         \u001b[0;32mexcept\u001b[0m \u001b[0mInterpolationResolutionError\u001b[0m\u001b[0;34m:\u001b[0m\u001b[0;34m\u001b[0m\u001b[0;34m\u001b[0m\u001b[0m\n",
      "\u001b[0;32m~/anaconda3/lib/python3.7/site-packages/omegaconf/base.py\u001b[0m in \u001b[0;36mresolve_parse_tree\u001b[0;34m(self, parse_tree, node, memo, key, parent)\u001b[0m\n\u001b[1;32m    660\u001b[0m         )\n\u001b[1;32m    661\u001b[0m         \u001b[0;32mtry\u001b[0m\u001b[0;34m:\u001b[0m\u001b[0;34m\u001b[0m\u001b[0;34m\u001b[0m\u001b[0m\n\u001b[0;32m--> 662\u001b[0;31m             \u001b[0;32mreturn\u001b[0m \u001b[0mvisitor\u001b[0m\u001b[0;34m.\u001b[0m\u001b[0mvisit\u001b[0m\u001b[0;34m(\u001b[0m\u001b[0mparse_tree\u001b[0m\u001b[0;34m)\u001b[0m\u001b[0;34m\u001b[0m\u001b[0;34m\u001b[0m\u001b[0m\n\u001b[0m\u001b[1;32m    663\u001b[0m         \u001b[0;32mexcept\u001b[0m \u001b[0mInterpolationResolutionError\u001b[0m\u001b[0;34m:\u001b[0m\u001b[0;34m\u001b[0m\u001b[0;34m\u001b[0m\u001b[0m\n\u001b[1;32m    664\u001b[0m             \u001b[0;32mraise\u001b[0m\u001b[0;34m\u001b[0m\u001b[0;34m\u001b[0m\u001b[0m\n",
      "\u001b[0;32m~/anaconda3/lib/python3.7/site-packages/antlr4/tree/Tree.py\u001b[0m in \u001b[0;36mvisit\u001b[0;34m(self, tree)\u001b[0m\n\u001b[1;32m     32\u001b[0m \u001b[0;32mclass\u001b[0m \u001b[0mParseTreeVisitor\u001b[0m\u001b[0;34m(\u001b[0m\u001b[0mobject\u001b[0m\u001b[0;34m)\u001b[0m\u001b[0;34m:\u001b[0m\u001b[0;34m\u001b[0m\u001b[0;34m\u001b[0m\u001b[0m\n\u001b[1;32m     33\u001b[0m     \u001b[0;32mdef\u001b[0m \u001b[0mvisit\u001b[0m\u001b[0;34m(\u001b[0m\u001b[0mself\u001b[0m\u001b[0;34m,\u001b[0m \u001b[0mtree\u001b[0m\u001b[0;34m)\u001b[0m\u001b[0;34m:\u001b[0m\u001b[0;34m\u001b[0m\u001b[0;34m\u001b[0m\u001b[0m\n\u001b[0;32m---> 34\u001b[0;31m         \u001b[0;32mreturn\u001b[0m \u001b[0mtree\u001b[0m\u001b[0;34m.\u001b[0m\u001b[0maccept\u001b[0m\u001b[0;34m(\u001b[0m\u001b[0mself\u001b[0m\u001b[0;34m)\u001b[0m\u001b[0;34m\u001b[0m\u001b[0;34m\u001b[0m\u001b[0m\n\u001b[0m\u001b[1;32m     35\u001b[0m \u001b[0;34m\u001b[0m\u001b[0m\n\u001b[1;32m     36\u001b[0m     \u001b[0;32mdef\u001b[0m \u001b[0mvisitChildren\u001b[0m\u001b[0;34m(\u001b[0m\u001b[0mself\u001b[0m\u001b[0;34m,\u001b[0m \u001b[0mnode\u001b[0m\u001b[0;34m)\u001b[0m\u001b[0;34m:\u001b[0m\u001b[0;34m\u001b[0m\u001b[0;34m\u001b[0m\u001b[0m\n",
      "\u001b[0;32m~/anaconda3/lib/python3.7/site-packages/omegaconf/grammar/gen/OmegaConfGrammarParser.py\u001b[0m in \u001b[0;36maccept\u001b[0;34m(self, visitor)\u001b[0m\n\u001b[1;32m    203\u001b[0m         \u001b[0;32mdef\u001b[0m \u001b[0maccept\u001b[0m\u001b[0;34m(\u001b[0m\u001b[0mself\u001b[0m\u001b[0;34m,\u001b[0m \u001b[0mvisitor\u001b[0m\u001b[0;34m:\u001b[0m\u001b[0mParseTreeVisitor\u001b[0m\u001b[0;34m)\u001b[0m\u001b[0;34m:\u001b[0m\u001b[0;34m\u001b[0m\u001b[0;34m\u001b[0m\u001b[0m\n\u001b[1;32m    204\u001b[0m             \u001b[0;32mif\u001b[0m \u001b[0mhasattr\u001b[0m\u001b[0;34m(\u001b[0m \u001b[0mvisitor\u001b[0m\u001b[0;34m,\u001b[0m \u001b[0;34m\"visitConfigValue\"\u001b[0m \u001b[0;34m)\u001b[0m\u001b[0;34m:\u001b[0m\u001b[0;34m\u001b[0m\u001b[0;34m\u001b[0m\u001b[0m\n\u001b[0;32m--> 205\u001b[0;31m                 \u001b[0;32mreturn\u001b[0m \u001b[0mvisitor\u001b[0m\u001b[0;34m.\u001b[0m\u001b[0mvisitConfigValue\u001b[0m\u001b[0;34m(\u001b[0m\u001b[0mself\u001b[0m\u001b[0;34m)\u001b[0m\u001b[0;34m\u001b[0m\u001b[0;34m\u001b[0m\u001b[0m\n\u001b[0m\u001b[1;32m    206\u001b[0m             \u001b[0;32melse\u001b[0m\u001b[0;34m:\u001b[0m\u001b[0;34m\u001b[0m\u001b[0;34m\u001b[0m\u001b[0m\n\u001b[1;32m    207\u001b[0m                 \u001b[0;32mreturn\u001b[0m \u001b[0mvisitor\u001b[0m\u001b[0;34m.\u001b[0m\u001b[0mvisitChildren\u001b[0m\u001b[0;34m(\u001b[0m\u001b[0mself\u001b[0m\u001b[0;34m)\u001b[0m\u001b[0;34m\u001b[0m\u001b[0;34m\u001b[0m\u001b[0m\n",
      "\u001b[0;32m~/anaconda3/lib/python3.7/site-packages/omegaconf/grammar_visitor.py\u001b[0m in \u001b[0;36mvisitConfigValue\u001b[0;34m(self, ctx)\u001b[0m\n\u001b[1;32m     99\u001b[0m         \u001b[0;31m# text EOF\u001b[0m\u001b[0;34m\u001b[0m\u001b[0;34m\u001b[0m\u001b[0;34m\u001b[0m\u001b[0m\n\u001b[1;32m    100\u001b[0m         \u001b[0;32massert\u001b[0m \u001b[0mctx\u001b[0m\u001b[0;34m.\u001b[0m\u001b[0mgetChildCount\u001b[0m\u001b[0;34m(\u001b[0m\u001b[0;34m)\u001b[0m \u001b[0;34m==\u001b[0m \u001b[0;36m2\u001b[0m\u001b[0;34m\u001b[0m\u001b[0;34m\u001b[0m\u001b[0m\n\u001b[0;32m--> 101\u001b[0;31m         \u001b[0;32mreturn\u001b[0m \u001b[0mself\u001b[0m\u001b[0;34m.\u001b[0m\u001b[0mvisit\u001b[0m\u001b[0;34m(\u001b[0m\u001b[0mctx\u001b[0m\u001b[0;34m.\u001b[0m\u001b[0mgetChild\u001b[0m\u001b[0;34m(\u001b[0m\u001b[0;36m0\u001b[0m\u001b[0;34m)\u001b[0m\u001b[0;34m)\u001b[0m\u001b[0;34m\u001b[0m\u001b[0;34m\u001b[0m\u001b[0m\n\u001b[0m\u001b[1;32m    102\u001b[0m \u001b[0;34m\u001b[0m\u001b[0m\n\u001b[1;32m    103\u001b[0m     \u001b[0;32mdef\u001b[0m \u001b[0mvisitDictKey\u001b[0m\u001b[0;34m(\u001b[0m\u001b[0mself\u001b[0m\u001b[0;34m,\u001b[0m \u001b[0mctx\u001b[0m\u001b[0;34m:\u001b[0m \u001b[0mOmegaConfGrammarParser\u001b[0m\u001b[0;34m.\u001b[0m\u001b[0mDictKeyContext\u001b[0m\u001b[0;34m)\u001b[0m \u001b[0;34m->\u001b[0m \u001b[0mAny\u001b[0m\u001b[0;34m:\u001b[0m\u001b[0;34m\u001b[0m\u001b[0;34m\u001b[0m\u001b[0m\n",
      "\u001b[0;32m~/anaconda3/lib/python3.7/site-packages/antlr4/tree/Tree.py\u001b[0m in \u001b[0;36mvisit\u001b[0;34m(self, tree)\u001b[0m\n\u001b[1;32m     32\u001b[0m \u001b[0;32mclass\u001b[0m \u001b[0mParseTreeVisitor\u001b[0m\u001b[0;34m(\u001b[0m\u001b[0mobject\u001b[0m\u001b[0;34m)\u001b[0m\u001b[0;34m:\u001b[0m\u001b[0;34m\u001b[0m\u001b[0;34m\u001b[0m\u001b[0m\n\u001b[1;32m     33\u001b[0m     \u001b[0;32mdef\u001b[0m \u001b[0mvisit\u001b[0m\u001b[0;34m(\u001b[0m\u001b[0mself\u001b[0m\u001b[0;34m,\u001b[0m \u001b[0mtree\u001b[0m\u001b[0;34m)\u001b[0m\u001b[0;34m:\u001b[0m\u001b[0;34m\u001b[0m\u001b[0;34m\u001b[0m\u001b[0m\n\u001b[0;32m---> 34\u001b[0;31m         \u001b[0;32mreturn\u001b[0m \u001b[0mtree\u001b[0m\u001b[0;34m.\u001b[0m\u001b[0maccept\u001b[0m\u001b[0;34m(\u001b[0m\u001b[0mself\u001b[0m\u001b[0;34m)\u001b[0m\u001b[0;34m\u001b[0m\u001b[0;34m\u001b[0m\u001b[0m\n\u001b[0m\u001b[1;32m     35\u001b[0m \u001b[0;34m\u001b[0m\u001b[0m\n\u001b[1;32m     36\u001b[0m     \u001b[0;32mdef\u001b[0m \u001b[0mvisitChildren\u001b[0m\u001b[0;34m(\u001b[0m\u001b[0mself\u001b[0m\u001b[0;34m,\u001b[0m \u001b[0mnode\u001b[0m\u001b[0;34m)\u001b[0m\u001b[0;34m:\u001b[0m\u001b[0;34m\u001b[0m\u001b[0;34m\u001b[0m\u001b[0m\n",
      "\u001b[0;32m~/anaconda3/lib/python3.7/site-packages/omegaconf/grammar/gen/OmegaConfGrammarParser.py\u001b[0m in \u001b[0;36maccept\u001b[0;34m(self, visitor)\u001b[0m\n\u001b[1;32m    337\u001b[0m         \u001b[0;32mdef\u001b[0m \u001b[0maccept\u001b[0m\u001b[0;34m(\u001b[0m\u001b[0mself\u001b[0m\u001b[0;34m,\u001b[0m \u001b[0mvisitor\u001b[0m\u001b[0;34m:\u001b[0m\u001b[0mParseTreeVisitor\u001b[0m\u001b[0;34m)\u001b[0m\u001b[0;34m:\u001b[0m\u001b[0;34m\u001b[0m\u001b[0;34m\u001b[0m\u001b[0m\n\u001b[1;32m    338\u001b[0m             \u001b[0;32mif\u001b[0m \u001b[0mhasattr\u001b[0m\u001b[0;34m(\u001b[0m \u001b[0mvisitor\u001b[0m\u001b[0;34m,\u001b[0m \u001b[0;34m\"visitText\"\u001b[0m \u001b[0;34m)\u001b[0m\u001b[0;34m:\u001b[0m\u001b[0;34m\u001b[0m\u001b[0;34m\u001b[0m\u001b[0m\n\u001b[0;32m--> 339\u001b[0;31m                 \u001b[0;32mreturn\u001b[0m \u001b[0mvisitor\u001b[0m\u001b[0;34m.\u001b[0m\u001b[0mvisitText\u001b[0m\u001b[0;34m(\u001b[0m\u001b[0mself\u001b[0m\u001b[0;34m)\u001b[0m\u001b[0;34m\u001b[0m\u001b[0;34m\u001b[0m\u001b[0m\n\u001b[0m\u001b[1;32m    340\u001b[0m             \u001b[0;32melse\u001b[0m\u001b[0;34m:\u001b[0m\u001b[0;34m\u001b[0m\u001b[0;34m\u001b[0m\u001b[0m\n\u001b[1;32m    341\u001b[0m                 \u001b[0;32mreturn\u001b[0m \u001b[0mvisitor\u001b[0m\u001b[0;34m.\u001b[0m\u001b[0mvisitChildren\u001b[0m\u001b[0;34m(\u001b[0m\u001b[0mself\u001b[0m\u001b[0;34m)\u001b[0m\u001b[0;34m\u001b[0m\u001b[0;34m\u001b[0m\u001b[0m\n",
      "\u001b[0;32m~/anaconda3/lib/python3.7/site-packages/omegaconf/grammar_visitor.py\u001b[0m in \u001b[0;36mvisitText\u001b[0;34m(self, ctx)\u001b[0m\n\u001b[1;32m    296\u001b[0m             \u001b[0mc\u001b[0m \u001b[0;34m=\u001b[0m \u001b[0mctx\u001b[0m\u001b[0;34m.\u001b[0m\u001b[0mgetChild\u001b[0m\u001b[0;34m(\u001b[0m\u001b[0;36m0\u001b[0m\u001b[0;34m)\u001b[0m\u001b[0;34m\u001b[0m\u001b[0;34m\u001b[0m\u001b[0m\n\u001b[1;32m    297\u001b[0m             \u001b[0;32mif\u001b[0m \u001b[0misinstance\u001b[0m\u001b[0;34m(\u001b[0m\u001b[0mc\u001b[0m\u001b[0;34m,\u001b[0m \u001b[0mOmegaConfGrammarParser\u001b[0m\u001b[0;34m.\u001b[0m\u001b[0mInterpolationContext\u001b[0m\u001b[0;34m)\u001b[0m\u001b[0;34m:\u001b[0m\u001b[0;34m\u001b[0m\u001b[0;34m\u001b[0m\u001b[0m\n\u001b[0;32m--> 298\u001b[0;31m                 \u001b[0;32mreturn\u001b[0m \u001b[0mself\u001b[0m\u001b[0;34m.\u001b[0m\u001b[0mvisitInterpolation\u001b[0m\u001b[0;34m(\u001b[0m\u001b[0mc\u001b[0m\u001b[0;34m)\u001b[0m\u001b[0;34m\u001b[0m\u001b[0;34m\u001b[0m\u001b[0m\n\u001b[0m\u001b[1;32m    299\u001b[0m \u001b[0;34m\u001b[0m\u001b[0m\n\u001b[1;32m    300\u001b[0m         \u001b[0;31m# Otherwise, concatenate string representations together.\u001b[0m\u001b[0;34m\u001b[0m\u001b[0;34m\u001b[0m\u001b[0;34m\u001b[0m\u001b[0m\n",
      "\u001b[0;32m~/anaconda3/lib/python3.7/site-packages/omegaconf/grammar_visitor.py\u001b[0m in \u001b[0;36mvisitInterpolation\u001b[0;34m(self, ctx)\u001b[0m\n\u001b[1;32m    123\u001b[0m     ) -> Any:\n\u001b[1;32m    124\u001b[0m         \u001b[0;32massert\u001b[0m \u001b[0mctx\u001b[0m\u001b[0;34m.\u001b[0m\u001b[0mgetChildCount\u001b[0m\u001b[0;34m(\u001b[0m\u001b[0;34m)\u001b[0m \u001b[0;34m==\u001b[0m \u001b[0;36m1\u001b[0m  \u001b[0;31m# interpolationNode | interpolationResolver\u001b[0m\u001b[0;34m\u001b[0m\u001b[0;34m\u001b[0m\u001b[0m\n\u001b[0;32m--> 125\u001b[0;31m         \u001b[0;32mreturn\u001b[0m \u001b[0mself\u001b[0m\u001b[0;34m.\u001b[0m\u001b[0mvisit\u001b[0m\u001b[0;34m(\u001b[0m\u001b[0mctx\u001b[0m\u001b[0;34m.\u001b[0m\u001b[0mgetChild\u001b[0m\u001b[0;34m(\u001b[0m\u001b[0;36m0\u001b[0m\u001b[0;34m)\u001b[0m\u001b[0;34m)\u001b[0m\u001b[0;34m\u001b[0m\u001b[0;34m\u001b[0m\u001b[0m\n\u001b[0m\u001b[1;32m    126\u001b[0m \u001b[0;34m\u001b[0m\u001b[0m\n\u001b[1;32m    127\u001b[0m     def visitInterpolationNode(\n",
      "\u001b[0;32m~/anaconda3/lib/python3.7/site-packages/antlr4/tree/Tree.py\u001b[0m in \u001b[0;36mvisit\u001b[0;34m(self, tree)\u001b[0m\n\u001b[1;32m     32\u001b[0m \u001b[0;32mclass\u001b[0m \u001b[0mParseTreeVisitor\u001b[0m\u001b[0;34m(\u001b[0m\u001b[0mobject\u001b[0m\u001b[0;34m)\u001b[0m\u001b[0;34m:\u001b[0m\u001b[0;34m\u001b[0m\u001b[0;34m\u001b[0m\u001b[0m\n\u001b[1;32m     33\u001b[0m     \u001b[0;32mdef\u001b[0m \u001b[0mvisit\u001b[0m\u001b[0;34m(\u001b[0m\u001b[0mself\u001b[0m\u001b[0;34m,\u001b[0m \u001b[0mtree\u001b[0m\u001b[0;34m)\u001b[0m\u001b[0;34m:\u001b[0m\u001b[0;34m\u001b[0m\u001b[0;34m\u001b[0m\u001b[0m\n\u001b[0;32m---> 34\u001b[0;31m         \u001b[0;32mreturn\u001b[0m \u001b[0mtree\u001b[0m\u001b[0;34m.\u001b[0m\u001b[0maccept\u001b[0m\u001b[0;34m(\u001b[0m\u001b[0mself\u001b[0m\u001b[0;34m)\u001b[0m\u001b[0;34m\u001b[0m\u001b[0;34m\u001b[0m\u001b[0m\n\u001b[0m\u001b[1;32m     35\u001b[0m \u001b[0;34m\u001b[0m\u001b[0m\n\u001b[1;32m     36\u001b[0m     \u001b[0;32mdef\u001b[0m \u001b[0mvisitChildren\u001b[0m\u001b[0;34m(\u001b[0m\u001b[0mself\u001b[0m\u001b[0;34m,\u001b[0m \u001b[0mnode\u001b[0m\u001b[0;34m)\u001b[0m\u001b[0;34m:\u001b[0m\u001b[0;34m\u001b[0m\u001b[0;34m\u001b[0m\u001b[0m\n",
      "\u001b[0;32m~/anaconda3/lib/python3.7/site-packages/omegaconf/grammar/gen/OmegaConfGrammarParser.py\u001b[0m in \u001b[0;36maccept\u001b[0;34m(self, visitor)\u001b[0m\n\u001b[1;32m    909\u001b[0m         \u001b[0;32mdef\u001b[0m \u001b[0maccept\u001b[0m\u001b[0;34m(\u001b[0m\u001b[0mself\u001b[0m\u001b[0;34m,\u001b[0m \u001b[0mvisitor\u001b[0m\u001b[0;34m:\u001b[0m\u001b[0mParseTreeVisitor\u001b[0m\u001b[0;34m)\u001b[0m\u001b[0;34m:\u001b[0m\u001b[0;34m\u001b[0m\u001b[0;34m\u001b[0m\u001b[0m\n\u001b[1;32m    910\u001b[0m             \u001b[0;32mif\u001b[0m \u001b[0mhasattr\u001b[0m\u001b[0;34m(\u001b[0m \u001b[0mvisitor\u001b[0m\u001b[0;34m,\u001b[0m \u001b[0;34m\"visitInterpolationNode\"\u001b[0m \u001b[0;34m)\u001b[0m\u001b[0;34m:\u001b[0m\u001b[0;34m\u001b[0m\u001b[0;34m\u001b[0m\u001b[0m\n\u001b[0;32m--> 911\u001b[0;31m                 \u001b[0;32mreturn\u001b[0m \u001b[0mvisitor\u001b[0m\u001b[0;34m.\u001b[0m\u001b[0mvisitInterpolationNode\u001b[0m\u001b[0;34m(\u001b[0m\u001b[0mself\u001b[0m\u001b[0;34m)\u001b[0m\u001b[0;34m\u001b[0m\u001b[0;34m\u001b[0m\u001b[0m\n\u001b[0m\u001b[1;32m    912\u001b[0m             \u001b[0;32melse\u001b[0m\u001b[0;34m:\u001b[0m\u001b[0;34m\u001b[0m\u001b[0;34m\u001b[0m\u001b[0m\n\u001b[1;32m    913\u001b[0m                 \u001b[0;32mreturn\u001b[0m \u001b[0mvisitor\u001b[0m\u001b[0;34m.\u001b[0m\u001b[0mvisitChildren\u001b[0m\u001b[0;34m(\u001b[0m\u001b[0mself\u001b[0m\u001b[0;34m)\u001b[0m\u001b[0;34m\u001b[0m\u001b[0;34m\u001b[0m\u001b[0m\n",
      "\u001b[0;32m~/anaconda3/lib/python3.7/site-packages/omegaconf/grammar_visitor.py\u001b[0m in \u001b[0;36mvisitInterpolationNode\u001b[0;34m(self, ctx)\u001b[0m\n\u001b[1;32m    156\u001b[0m \u001b[0;34m\u001b[0m\u001b[0m\n\u001b[1;32m    157\u001b[0m         \u001b[0minter_key\u001b[0m \u001b[0;34m=\u001b[0m \u001b[0;34m\"\"\u001b[0m\u001b[0;34m.\u001b[0m\u001b[0mjoin\u001b[0m\u001b[0;34m(\u001b[0m\u001b[0minter_key_tokens\u001b[0m\u001b[0;34m)\u001b[0m\u001b[0;34m\u001b[0m\u001b[0;34m\u001b[0m\u001b[0m\n\u001b[0;32m--> 158\u001b[0;31m         \u001b[0;32mreturn\u001b[0m \u001b[0mself\u001b[0m\u001b[0;34m.\u001b[0m\u001b[0mnode_interpolation_callback\u001b[0m\u001b[0;34m(\u001b[0m\u001b[0minter_key\u001b[0m\u001b[0;34m,\u001b[0m \u001b[0mself\u001b[0m\u001b[0;34m.\u001b[0m\u001b[0mmemo\u001b[0m\u001b[0;34m)\u001b[0m\u001b[0;34m\u001b[0m\u001b[0;34m\u001b[0m\u001b[0m\n\u001b[0m\u001b[1;32m    159\u001b[0m \u001b[0;34m\u001b[0m\u001b[0m\n\u001b[1;32m    160\u001b[0m     def visitInterpolationResolver(\n",
      "\u001b[0;32m~/anaconda3/lib/python3.7/site-packages/omegaconf/base.py\u001b[0m in \u001b[0;36mnode_interpolation_callback\u001b[0;34m(inter_key, memo)\u001b[0m\n\u001b[1;32m    641\u001b[0m             \u001b[0minter_key\u001b[0m\u001b[0;34m:\u001b[0m \u001b[0mstr\u001b[0m\u001b[0;34m,\u001b[0m \u001b[0mmemo\u001b[0m\u001b[0;34m:\u001b[0m \u001b[0mOptional\u001b[0m\u001b[0;34m[\u001b[0m\u001b[0mSet\u001b[0m\u001b[0;34m[\u001b[0m\u001b[0mint\u001b[0m\u001b[0;34m]\u001b[0m\u001b[0;34m]\u001b[0m\u001b[0;34m\u001b[0m\u001b[0;34m\u001b[0m\u001b[0m\n\u001b[1;32m    642\u001b[0m         ) -> Optional[\"Node\"]:\n\u001b[0;32m--> 643\u001b[0;31m             \u001b[0;32mreturn\u001b[0m \u001b[0mself\u001b[0m\u001b[0;34m.\u001b[0m\u001b[0m_resolve_node_interpolation\u001b[0m\u001b[0;34m(\u001b[0m\u001b[0minter_key\u001b[0m\u001b[0;34m=\u001b[0m\u001b[0minter_key\u001b[0m\u001b[0;34m,\u001b[0m \u001b[0mmemo\u001b[0m\u001b[0;34m=\u001b[0m\u001b[0mmemo\u001b[0m\u001b[0;34m)\u001b[0m\u001b[0;34m\u001b[0m\u001b[0;34m\u001b[0m\u001b[0m\n\u001b[0m\u001b[1;32m    644\u001b[0m \u001b[0;34m\u001b[0m\u001b[0m\n\u001b[1;32m    645\u001b[0m         def resolver_interpolation_callback(\n",
      "\u001b[0;32m~/anaconda3/lib/python3.7/site-packages/omegaconf/base.py\u001b[0m in \u001b[0;36m_resolve_node_interpolation\u001b[0;34m(self, inter_key, memo)\u001b[0m\n\u001b[1;32m    571\u001b[0m \u001b[0;34m\u001b[0m\u001b[0m\n\u001b[1;32m    572\u001b[0m         \u001b[0;32mif\u001b[0m \u001b[0mparent\u001b[0m \u001b[0;32mis\u001b[0m \u001b[0;32mNone\u001b[0m \u001b[0;32mor\u001b[0m \u001b[0mvalue\u001b[0m \u001b[0;32mis\u001b[0m \u001b[0;32mNone\u001b[0m\u001b[0;34m:\u001b[0m\u001b[0;34m\u001b[0m\u001b[0;34m\u001b[0m\u001b[0m\n\u001b[0;32m--> 573\u001b[0;31m             \u001b[0;32mraise\u001b[0m \u001b[0mInterpolationKeyError\u001b[0m\u001b[0;34m(\u001b[0m\u001b[0;34mf\"Interpolation key '{inter_key}' not found\"\u001b[0m\u001b[0;34m)\u001b[0m\u001b[0;34m\u001b[0m\u001b[0;34m\u001b[0m\u001b[0m\n\u001b[0m\u001b[1;32m    574\u001b[0m         \u001b[0;32melse\u001b[0m\u001b[0;34m:\u001b[0m\u001b[0;34m\u001b[0m\u001b[0;34m\u001b[0m\u001b[0m\n\u001b[1;32m    575\u001b[0m             \u001b[0mself\u001b[0m\u001b[0;34m.\u001b[0m\u001b[0m_validate_not_dereferencing_to_parent\u001b[0m\u001b[0;34m(\u001b[0m\u001b[0mnode\u001b[0m\u001b[0;34m=\u001b[0m\u001b[0mself\u001b[0m\u001b[0;34m,\u001b[0m \u001b[0mtarget\u001b[0m\u001b[0;34m=\u001b[0m\u001b[0mvalue\u001b[0m\u001b[0;34m)\u001b[0m\u001b[0;34m\u001b[0m\u001b[0;34m\u001b[0m\u001b[0m\n",
      "\u001b[0;31mInterpolationKeyError\u001b[0m: Interpolation key 'model.model_defaults.separable' not found\n    full_key: encoder.jasper[0].separable\n    object_type=dict"
     ]
    }
   ],
   "source": [
    "# params_citrinet['model']['train_ds']['manifest_filepath'] = train_manifest_an4\n",
    "# params_citrinet['model']['validation_ds']['manifest_filepath'] = test_manifest_an4\n",
    "\n",
    "# callback = PrintTableMetricsCallback()\n",
    "\n",
    "# trainer = Trainer(gpus=1, max_epochs=50, callbacks=[callback])\n",
    "\n",
    "# citrinet_512 = nemo_asr.models.EncDecCTCModelBPE(cfg=DictConfig(params_citrinet['model']), trainer=trainer)\n",
    "\n",
    "# new_opt = copy.deepcopy(params_citrinet['model']['optim'])\n",
    "# new_opt['lr'] = 0.001\n",
    "# new_opt['betas'] = [0.95, 0.25]\n",
    "\n",
    "# citrinet_512.setup_optimization(optim_config=DictConfig(new_opt))"
   ]
  },
  {
   "cell_type": "code",
   "execution_count": null,
   "metadata": {},
   "outputs": [],
   "source": [
    "import pytorch_lightning as pl\n",
    "import copy\n",
    "\n",
    "callback = PrintTableMetricsCallback()\n",
    "\n",
    "trainer = pl.Trainer(gpus=1, max_epochs=50, callbacks=[callback])"
   ]
  },
  {
   "cell_type": "code",
   "execution_count": 18,
   "metadata": {},
   "outputs": [],
   "source": [
    "from omegaconf import DictConfig\n",
    "\n",
    "params['model']['train_ds']['manifest_filepath'] = train_manifest\n",
    "params['model']['validation_ds']['manifest_filepath'] = test_manifest\n",
    "\n",
    "first_asr_model = nemo_asr.models.EncDecCTCModel(cfg=DictConfig(params['model']), trainer=trainer)"
   ]
  },
  {
   "cell_type": "code",
   "execution_count": 71,
   "metadata": {},
   "outputs": [
    {
     "name": "stdout",
     "output_type": "stream",
     "text": [
      "[NeMo I 2021-10-13 14:18:33 modelPT:544] Optimizer config = Novograd (\n",
      "    Parameter Group 0\n",
      "        amsgrad: False\n",
      "        betas: [0.95, 0.25]\n",
      "        eps: 1e-08\n",
      "        grad_averaging: False\n",
      "        lr: 0.001\n",
      "        weight_decay: 0.001\n",
      "    )\n",
      "[NeMo I 2021-10-13 14:18:33 lr_scheduler:625] Scheduler \"<nemo.core.optim.lr_scheduler.CosineAnnealing object at 0x7fdea6e9fc90>\" \n",
      "    will be used during training (effective maximum steps = 16400) - \n",
      "    Parameters : \n",
      "    (warmup_steps: null\n",
      "    warmup_ratio: null\n",
      "    min_lr: 0.0\n",
      "    last_epoch: -1\n",
      "    max_steps: 16400\n",
      "    )\n"
     ]
    },
    {
     "data": {
      "text/plain": [
       "(Novograd (\n",
       " Parameter Group 0\n",
       "     amsgrad: False\n",
       "     betas: [0.95, 0.25]\n",
       "     eps: 1e-08\n",
       "     grad_averaging: False\n",
       "     initial_lr: 0.001\n",
       "     lr: 0.001\n",
       "     weight_decay: 0.001\n",
       " ),\n",
       " {'scheduler': <nemo.core.optim.lr_scheduler.CosineAnnealing at 0x7fdea6e9fc90>,\n",
       "  'interval': 'step',\n",
       "  'frequency': 1,\n",
       "  'monitor': 'val_loss',\n",
       "  'reduce_on_plateau': False})"
      ]
     },
     "execution_count": 71,
     "metadata": {},
     "output_type": "execute_result"
    }
   ],
   "source": [
    "new_opt = copy.deepcopy(params['model']['optim'])\n",
    "new_opt['lr'] = 0.001\n",
    "new_opt['betas'] = [0.95, 0.25]\n",
    "first_asr_model.setup_optimization(optim_config=DictConfig(new_opt))"
   ]
  },
  {
   "cell_type": "code",
   "execution_count": 72,
   "metadata": {},
   "outputs": [
    {
     "name": "stderr",
     "output_type": "stream",
     "text": [
      "LOCAL_RANK: 0 - CUDA_VISIBLE_DEVICES: [0]\n"
     ]
    },
    {
     "name": "stdout",
     "output_type": "stream",
     "text": [
      "[NeMo I 2021-10-13 14:18:36 modelPT:544] Optimizer config = Novograd (\n",
      "    Parameter Group 0\n",
      "        amsgrad: False\n",
      "        betas: [0.95, 0.25]\n",
      "        eps: 1e-08\n",
      "        grad_averaging: False\n",
      "        lr: 0.001\n",
      "        weight_decay: 0.001\n",
      "    )\n",
      "[NeMo I 2021-10-13 14:18:36 lr_scheduler:625] Scheduler \"<nemo.core.optim.lr_scheduler.CosineAnnealing object at 0x7fdea6ea57d0>\" \n",
      "    will be used during training (effective maximum steps = 16400) - \n",
      "    Parameters : \n",
      "    (warmup_steps: null\n",
      "    warmup_ratio: null\n",
      "    min_lr: 0.0\n",
      "    last_epoch: -1\n",
      "    max_steps: 16400\n",
      "    )\n"
     ]
    },
    {
     "name": "stderr",
     "output_type": "stream",
     "text": [
      "\n",
      "  | Name              | Type                              | Params\n",
      "------------------------------------------------------------------------\n",
      "0 | preprocessor      | AudioToMelSpectrogramPreprocessor | 0     \n",
      "1 | encoder           | ConvASREncoder                    | 1.2 M \n",
      "2 | decoder           | ConvASRDecoder                    | 29.7 K\n",
      "3 | loss              | CTCLoss                           | 0     \n",
      "4 | spec_augmentation | SpectrogramAugmentation           | 0     \n",
      "5 | _wer              | WER                               | 0     \n",
      "------------------------------------------------------------------------\n",
      "1.2 M     Trainable params\n",
      "0         Non-trainable params\n",
      "1.2 M     Total params\n",
      "4.836     Total estimated model params size (MB)\n"
     ]
    },
    {
     "data": {
      "application/vnd.jupyter.widget-view+json": {
       "model_id": "",
       "version_major": 2,
       "version_minor": 0
      },
      "text/plain": [
       "HBox(children=(FloatProgress(value=1.0, bar_style='info', description='Validation sanity check', layout=Layout…"
      ]
     },
     "metadata": {},
     "output_type": "display_data"
    },
    {
     "name": "stderr",
     "output_type": "stream",
     "text": [
      "[NeMo W 2021-10-13 14:18:36 nemo_logging:349] /home/boris/anaconda3/lib/python3.7/site-packages/pytorch_lightning/trainer/data_loading.py:106: UserWarning: The dataloader, val dataloader 0, does not have many workers which may be a bottleneck. Consider increasing the value of the `num_workers` argument` (try 12 which is the number of cpus on this machine) in the `DataLoader` init to improve performance.\n",
      "      f\"The dataloader, {name}, does not have many workers which may be a bottleneck.\"\n",
      "    \n",
      "val_loss│val_wer\n",
      "────────────────\n",
      "1756.451416015625│1.0\n",
      "[NeMo W 2021-10-13 14:18:41 nemo_logging:349] /home/boris/anaconda3/lib/python3.7/site-packages/pytorch_lightning/trainer/data_loading.py:106: UserWarning: The dataloader, train dataloader, does not have many workers which may be a bottleneck. Consider increasing the value of the `num_workers` argument` (try 12 which is the number of cpus on this machine) in the `DataLoader` init to improve performance.\n",
      "      f\"The dataloader, {name}, does not have many workers which may be a bottleneck.\"\n",
      "    \n"
     ]
    },
    {
     "name": "stdout",
     "output_type": "stream",
     "text": [
      "\r"
     ]
    },
    {
     "data": {
      "application/vnd.jupyter.widget-view+json": {
       "model_id": "74abbdab043a4bc58433e68f4885de8b",
       "version_major": 2,
       "version_minor": 0
      },
      "text/plain": [
       "HBox(children=(FloatProgress(value=1.0, bar_style='info', description='Training', layout=Layout(flex='2'), max…"
      ]
     },
     "metadata": {},
     "output_type": "display_data"
    },
    {
     "name": "stderr",
     "output_type": "stream",
     "text": [
      "[NeMo W 2021-10-13 14:19:20 nemo_logging:349] /home/boris/anaconda3/lib/python3.7/site-packages/pytorch_lightning/trainer/trainer.py:1046: UserWarning: Detected KeyboardInterrupt, attempting graceful shutdown...\n",
      "      rank_zero_warn(\"Detected KeyboardInterrupt, attempting graceful shutdown...\")\n",
      "    \n"
     ]
    }
   ],
   "source": [
    "trainer.fit(first_asr_model)"
   ]
  },
  {
   "cell_type": "code",
   "execution_count": 11,
   "metadata": {},
   "outputs": [],
   "source": [
    "import pandas as pd\n",
    "\n",
    "df = pd.DataFrame(callback.metrics).astype(float)"
   ]
  },
  {
   "cell_type": "code",
   "execution_count": 13,
   "metadata": {},
   "outputs": [
    {
     "data": {
      "text/plain": [
       "<AxesSubplot:>"
      ]
     },
     "execution_count": 13,
     "metadata": {},
     "output_type": "execute_result"
    },
    {
     "data": {
      "image/png": "[encoded data removed]",
      "text/plain": [
       "<Figure size 432x288 with 1 Axes>"
      ]
     },
     "metadata": {
      "needs_background": "light"
     },
     "output_type": "display_data"
    }
   ],
   "source": [
    "df['val_wer'].plot()"
   ]
  },
  {
   "cell_type": "code",
   "execution_count": 24,
   "metadata": {},
   "outputs": [],
   "source": [
    "# This line will download pre-trained QuartzNet15x5 model from NVIDIA's NGC cloud and instantiate it for you\n",
    "# quartznet = nemo_asr.models.EncDecCTCModelBPE.from_pretrained(model_name=\"stt_en_citrinet_256_gamma_0_25\")"
   ]
  },
  {
   "cell_type": "code",
   "execution_count": 63,
   "metadata": {},
   "outputs": [
    {
     "ename": "NameError",
     "evalue": "name 'params' is not defined",
     "output_type": "error",
     "traceback": [
      "\u001b[0;31m---------------------------------------------------------------------------\u001b[0m",
      "\u001b[0;31mNameError\u001b[0m                                 Traceback (most recent call last)",
      "\u001b[0;32m<ipython-input-63-ee67eda90200>\u001b[0m in \u001b[0;36m<module>\u001b[0;34m\u001b[0m\n\u001b[1;32m      1\u001b[0m \u001b[0;31m# Bigger batch-size = bigger throughput\u001b[0m\u001b[0;34m\u001b[0m\u001b[0;34m\u001b[0m\u001b[0;34m\u001b[0m\u001b[0m\n\u001b[0;32m----> 2\u001b[0;31m \u001b[0mparams\u001b[0m\u001b[0;34m[\u001b[0m\u001b[0;34m'model'\u001b[0m\u001b[0;34m]\u001b[0m\u001b[0;34m[\u001b[0m\u001b[0;34m'validation_ds'\u001b[0m\u001b[0;34m]\u001b[0m\u001b[0;34m[\u001b[0m\u001b[0;34m'batch_size'\u001b[0m\u001b[0;34m]\u001b[0m \u001b[0;34m=\u001b[0m \u001b[0;36m16\u001b[0m\u001b[0;34m\u001b[0m\u001b[0;34m\u001b[0m\u001b[0m\n\u001b[0m\u001b[1;32m      3\u001b[0m \u001b[0;34m\u001b[0m\u001b[0m\n\u001b[1;32m      4\u001b[0m \u001b[0;31m# Setup the test data loader and make sure the model is on GPU\u001b[0m\u001b[0;34m\u001b[0m\u001b[0;34m\u001b[0m\u001b[0;34m\u001b[0m\u001b[0m\n\u001b[1;32m      5\u001b[0m \u001b[0mquartznet\u001b[0m\u001b[0;34m.\u001b[0m\u001b[0msetup_test_data\u001b[0m\u001b[0;34m(\u001b[0m\u001b[0mtest_data_config\u001b[0m\u001b[0;34m=\u001b[0m\u001b[0mparams\u001b[0m\u001b[0;34m[\u001b[0m\u001b[0;34m'model'\u001b[0m\u001b[0;34m]\u001b[0m\u001b[0;34m[\u001b[0m\u001b[0;34m'validation_ds'\u001b[0m\u001b[0;34m]\u001b[0m\u001b[0;34m)\u001b[0m\u001b[0;34m\u001b[0m\u001b[0;34m\u001b[0m\u001b[0m\n",
      "\u001b[0;31mNameError\u001b[0m: name 'params' is not defined"
     ]
    }
   ],
   "source": [
    "# Bigger batch-size = bigger throughput\n",
    "params['model']['validation_ds']['batch_size'] = 16\n",
    "\n",
    "# Setup the test data loader and make sure the model is on GPU\n",
    "quartznet.setup_test_data(test_data_config=params['model']['validation_ds'])\n",
    "quartznet.cuda()\n",
    "\n",
    "# first_asr_model.setup_test_data(test_data_config=params['model']['validation_ds'])\n",
    "# first_asr_model.cuda()\n",
    "\n",
    "# We will be computing Word Error Rate (WER) metric between our hypothesis and predictions.\n",
    "# WER is computed as numerator/denominator.\n",
    "# We'll gather all the test batches' numerators and denominators.\n",
    "wer_nums = []\n",
    "wer_denoms = []\n",
    "\n",
    "# Loop over all test batches.\n",
    "# Iterating over the model's `test_dataloader` will give us:\n",
    "# (audio_signal, audio_signal_length, transcript_tokens, transcript_length)\n",
    "# See the AudioToCharDataset for more details.\n",
    "for test_batch in quartznet.test_dataloader():\n",
    "        test_batch = [x.cuda() for x in test_batch]\n",
    "        targets = test_batch[2]\n",
    "        targets_lengths = test_batch[3]        \n",
    "        log_probs, encoded_len, greedy_predictions = quartznet(\n",
    "            input_signal=test_batch[0], input_signal_length=test_batch[1]\n",
    "        )\n",
    "        # Notice the model has a helper object to compute WER\n",
    "        quartznet._wer.update(greedy_predictions, targets, targets_lengths)\n",
    "        _, wer_num, wer_denom = quartznet._wer.compute()\n",
    "        quartznet._wer.reset()\n",
    "        wer_nums.append(wer_num.detach().cpu().numpy())\n",
    "        wer_denoms.append(wer_denom.detach().cpu().numpy())\n",
    "\n",
    "        # Release tensors from GPU memory\n",
    "        del test_batch, log_probs, targets, targets_lengths, encoded_len, greedy_predictions\n",
    "\n",
    "# We need to sum all numerators and denominators first. Then divide.\n",
    "print(f\"WER = {sum(wer_nums)/sum(wer_denoms) * 100}%\")"
   ]
  },
  {
   "cell_type": "code",
   "execution_count": null,
   "metadata": {},
   "outputs": [],
   "source": []
  }
 ],
 "metadata": {
  "kernelspec": {
   "display_name": "Python 3",
   "language": "python",
   "name": "python3"
  },
  "language_info": {
   "codemirror_mode": {
    "name": "ipython",
    "version": 3
   },
   "file_extension": ".py",
   "mimetype": "text/x-python",
   "name": "python",
   "nbconvert_exporter": "python",
   "pygments_lexer": "ipython3",
   "version": "3.7.6"
  }
 },
 "nbformat": 4,
 "nbformat_minor": 4
}
