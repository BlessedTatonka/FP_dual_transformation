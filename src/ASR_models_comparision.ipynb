{
 "cells": [
  {
   "cell_type": "code",
   "execution_count": 1,
   "id": "950f7fc7",
   "metadata": {},
   "outputs": [
    {
     "name": "stderr",
     "output_type": "stream",
     "text": [
      "/media/boris/F/anaconda3/envs/nemo/lib/python3.9/site-packages/apex/pyprof/__init__.py:5: FutureWarning: pyprof will be removed by the end of June, 2022\n",
      "  warnings.warn(\"pyprof will be removed by the end of June, 2022\", FutureWarning)\n",
      "################################################################################\n",
      "### WARNING, path does not exist: KALDI_ROOT=media/boris/F/pykaldi/kaldi\n",
      "###          (please add 'export KALDI_ROOT=<your_path>' in your $HOME/.profile)\n",
      "###          (or run as: KALDI_ROOT=<your_path> python <your_script>.py)\n",
      "################################################################################\n",
      "\n"
     ]
    }
   ],
   "source": [
    "import glob\n",
    "import os\n",
    "import subprocess\n",
    "import tarfile\n",
    "import wget\n",
    "\n",
    "import random\n",
    "import numpy as np\n",
    "import pandas as pd\n",
    "import torch\n",
    "\n",
    "from sklearn.model_selection import train_test_split\n",
    "\n",
    "import nemo\n",
    "import nemo.collections.asr as nemo_asr\n",
    "\n",
    "import json\n",
    "import librosa\n",
    "\n",
    "import librosa\n",
    "import json\n",
    "import copy\n",
    "\n",
    "from omegaconf import DictConfig\n",
    "import copy\n",
    "\n",
    "import pytorch_lightning as pl\n",
    "from IPython.utils import io\n",
    "from datetime import datetime\n",
    "import json\n",
    "\n",
    "from matplotlib.pyplot import figure\n",
    "import matplotlib.pyplot as plt\n",
    "\n",
    "from itertools import zip_longest\n",
    "from typing import Any, Callable, Dict, List, Optional\n",
    "\n",
    "from pytorch_lightning import LightningModule, Trainer\n",
    "from pytorch_lightning.callbacks import Callback\n",
    "from pytorch_lightning.utilities import rank_zero_info"
   ]
  },
  {
   "cell_type": "code",
   "execution_count": 2,
   "id": "7750de0f",
   "metadata": {},
   "outputs": [],
   "source": [
    "from parts.models import EncDecCTCModelBPE_extended"
   ]
  },
  {
   "cell_type": "code",
   "execution_count": 3,
   "id": "eefb722c",
   "metadata": {},
   "outputs": [],
   "source": [
    "import os\n",
    "from omegaconf import DictConfig\n",
    "\n",
    "try:\n",
    "    from ruamel.yaml import YAML\n",
    "except ModuleNotFoundError:\n",
    "    from ruamel_yaml import YAML\n",
    "\n",
    "yaml = YAML(typ='safe')"
   ]
  },
  {
   "cell_type": "code",
   "execution_count": 4,
   "id": "561f2722",
   "metadata": {},
   "outputs": [],
   "source": [
    "root_dir = '/media/boris/F/Research_final/'"
   ]
  },
  {
   "cell_type": "code",
   "execution_count": 5,
   "id": "fc3dcce1",
   "metadata": {
    "scrolled": true
   },
   "outputs": [],
   "source": [
    "models = {\n",
    "#     'jasper': {\n",
    "#         'config_path': f'{root_dir}conf/jasper/jasper_5x1.yaml',\n",
    "#         'class': nemo_asr.models.EncDecCTCModel\n",
    "#     },\n",
    "#     'quartznet': {\n",
    "#         'config_path': f'{root_dir}conf/quartznet/quartznet_15x5.yaml',\n",
    "#         'class': nemo_asr.models.EncDecCTCModel\n",
    "#     },\n",
    "#     'citrinet': {\n",
    "#         'config_path': f'{root_dir}conf/citrinet/citrinet_384.yaml',\n",
    "#         'class': nemo_asr.models.EncDecCTCModelBPE\n",
    "#     },\n",
    "#     'carnelinet': {\n",
    "#         'config_path': f'{root_dir}conf/carnelinet/carnelinet_384.yaml',\n",
    "#         'class': nemo_asr.models.EncDecCTCModelBPE\n",
    "#     },\n",
    "    ### Unable to train on 200 paired\n",
    "    'contextnet_rnnt': {\n",
    "        'config_path': f'{root_dir}conf/contextnet_rnnt/config_rnnt_bpe.yaml',\n",
    "        'class': nemo_asr.models.EncDecRNNTBPEModel\n",
    "    },\n",
    "    'conformer_ctc_bpe': {\n",
    "        'config_path': f'{root_dir}conf/conformer/conformer_ctc_bpe.yaml',\n",
    "        'class': nemo_asr.models.EncDecCTCModelBPE\n",
    "    },\n",
    "    'conformer_transducer': {\n",
    "        'config_path': f'{root_dir}conf/conformer/conformer_transducer_bpe.yaml',\n",
    "        'class': nemo_asr.models.EncDecRNNTBPEModel\n",
    "    },\n",
    "    'lstm_transducer_bpe': {\n",
    "        'config_path': f'{root_dir}conf/lstm/lstm_transducer_bpe.yaml',\n",
    "        'class': nemo_asr.models.EncDecRNNTBPEModel\n",
    "    },\n",
    "    'lstm_ctc_bpe': {\n",
    "        'config_path': f'{root_dir}conf/lstm/lstm_ctc_bpe.yaml',\n",
    "        'class': nemo_asr.models.EncDecCTCModelBPE\n",
    "    },\n",
    "}"
   ]
  },
  {
   "cell_type": "code",
   "execution_count": 6,
   "id": "9bc2cef1",
   "metadata": {},
   "outputs": [],
   "source": [
    "class PrintTableMetricsCallback(Callback):\n",
    "    def __init__(self) -> None:\n",
    "        self.metrics: List = []\n",
    "\n",
    "    def on_epoch_end(self, trainer: Trainer, pl_module: LightningModule) -> None:\n",
    "        metrics_dict = copy.copy(trainer.callback_metrics)\n",
    "        self.metrics.append(metrics_dict)"
   ]
  },
  {
   "cell_type": "code",
   "execution_count": 7,
   "id": "6a440b35",
   "metadata": {
    "scrolled": true
   },
   "outputs": [
    {
     "name": "stdout",
     "output_type": "stream",
     "text": [
      "contextnet_rnnt\n",
      "[NeMo I 2022-05-26 06:14:43 mixins:165] Tokenizer SentencePieceTokenizer initialized with 339 tokens\n",
      "[NeMo I 2022-05-26 06:14:43 collections:186] Dataset loaded with 200 files totalling 0.16 hours\n",
      "[NeMo I 2022-05-26 06:14:43 collections:187] 0 files were filtered totalling 0.00 hours\n",
      "[NeMo I 2022-05-26 06:14:44 collections:186] Dataset loaded with 130 files totalling 0.10 hours\n",
      "[NeMo I 2022-05-26 06:14:44 collections:187] 0 files were filtered totalling 0.00 hours\n",
      "[NeMo I 2022-05-26 06:14:44 features:259] PADDING: 16\n",
      "[NeMo I 2022-05-26 06:14:44 features:276] STFT using torch\n",
      "[NeMo I 2022-05-26 06:14:44 rnnt_models:210] Using RNNT Loss : warprnnt_numba\n",
      "    Loss warprnnt_numba_kwargs: {'fastemit_lambda': 0.0, 'clamp': -1.0}\n"
     ]
    },
    {
     "name": "stderr",
     "output_type": "stream",
     "text": [
      "GPU available: True, used: True\n",
      "TPU available: False, using: 0 TPU cores\n",
      "IPU available: False, using: 0 IPUs\n",
      "HPU available: False, using: 0 HPUs\n",
      "[NeMo W 2022-05-26 06:14:44 nemo_logging:349] /media/boris/F/anaconda3/envs/nemo/lib/python3.9/site-packages/pytorch_lightning/trainer/configuration_validator.py:385: LightningDeprecationWarning: The `Callback.on_epoch_end` hook was deprecated in v1.6 and will be removed in v1.8. Please use `Callback.on_<train/validation/test>_epoch_end` instead.\n",
      "      rank_zero_deprecation(\n",
      "    \n",
      "LOCAL_RANK: 0 - CUDA_VISIBLE_DEVICES: [0]\n",
      "[NeMo W 2022-05-26 06:14:46 modelPT:475] Trainer wasn't specified in model constructor. Make sure that you really wanted it.\n"
     ]
    },
    {
     "name": "stdout",
     "output_type": "stream",
     "text": [
      "[NeMo I 2022-05-26 06:14:46 modelPT:587] Optimizer config = Adam (\n",
      "    Parameter Group 0\n",
      "        amsgrad: False\n",
      "        betas: [0.9, 0.999]\n",
      "        eps: 1e-08\n",
      "        foreach: None\n",
      "        lr: 0.01\n",
      "        maximize: False\n",
      "        weight_decay: 0.0001\n",
      "    )\n"
     ]
    },
    {
     "name": "stderr",
     "output_type": "stream",
     "text": [
      "[NeMo W 2022-05-26 06:14:46 lr_scheduler:816] Neither `max_steps` nor `iters_per_batch` were provided to `optim.sched`, cannot compute effective `max_steps` !\n",
      "    Scheduler will not be instantiated !\n",
      "\n",
      "  | Name              | Type                              | Params\n",
      "------------------------------------------------------------------------\n",
      "0 | preprocessor      | AudioToMelSpectrogramPreprocessor | 0     \n",
      "1 | encoder           | ConvASREncoder                    | 2.3 M \n",
      "2 | decoder           | RNNTDecoder                       | 930 K \n",
      "3 | joint             | RNNTJoint                         | 539 K \n",
      "4 | loss              | RNNTLoss                          | 0     \n",
      "5 | spec_augmentation | SpectrogramAugmentation           | 0     \n",
      "6 | wer               | RNNTBPEWER                        | 0     \n",
      "------------------------------------------------------------------------\n",
      "3.8 M     Trainable params\n",
      "0         Non-trainable params\n",
      "3.8 M     Total params\n",
      "15.105    Total estimated model params size (MB)\n"
     ]
    },
    {
     "data": {
      "application/vnd.jupyter.widget-view+json": {
       "model_id": "",
       "version_major": 2,
       "version_minor": 0
      },
      "text/plain": [
       "Sanity Checking: 0it [00:00, ?it/s]"
      ]
     },
     "metadata": {},
     "output_type": "display_data"
    },
    {
     "name": "stderr",
     "output_type": "stream",
     "text": [
      "[NeMo W 2022-05-26 06:14:46 nemo_logging:349] /media/boris/F/anaconda3/envs/nemo/lib/python3.9/site-packages/pytorch_lightning/trainer/connectors/data_connector.py:240: PossibleUserWarning: The dataloader, val_dataloader 0, does not have many workers which may be a bottleneck. Consider increasing the value of the `num_workers` argument` (try 24 which is the number of cpus on this machine) in the `DataLoader` init to improve performance.\n",
      "      rank_zero_warn(\n",
      "    \n",
      "OMP: Info #276: omp_set_nested routine deprecated, please use omp_set_max_active_levels instead.\n",
      "[NeMo W 2022-05-26 06:14:48 nemo_logging:349] /media/boris/F/anaconda3/envs/nemo/lib/python3.9/site-packages/numba/cuda/compiler.py:726: NumbaPerformanceWarning: \u001b[1mGrid size (4) < 2 * SM count (96) will likely result in GPU under utilization due to low occupancy.\u001b[0m\n",
      "      warn(NumbaPerformanceWarning(msg))\n",
      "    \n",
      "[NeMo W 2022-05-26 06:14:49 nemo_logging:349] /media/boris/F/anaconda3/envs/nemo/lib/python3.9/site-packages/numba/cuda/compiler.py:726: NumbaPerformanceWarning: \u001b[1mGrid size (1) < 2 * SM count (96) will likely result in GPU under utilization due to low occupancy.\u001b[0m\n",
      "      warn(NumbaPerformanceWarning(msg))\n",
      "    \n"
     ]
    },
    {
     "name": "stdout",
     "output_type": "stream",
     "text": [
      "[NeMo I 2022-05-26 06:14:49 rnnt_wer_bpe:231] \n",
      "    \n",
      "[NeMo I 2022-05-26 06:14:49 rnnt_wer_bpe:232] reference :rubout g m e f three nine\n",
      "[NeMo I 2022-05-26 06:14:49 rnnt_wer_bpe:233] predicted :twentieth twentieth twentieth twentieth twentieth twentieth twentieth twentiethobzer hu twentieth hu twentieth hu twentieth hu twentieth hu twentieth hu twentieth hu twentieth hu hu huryl hunthnthnthnthnthnthnthnthctnthnthnthctnthnthnthctnthnthnthctnthnthnthctnthnthnthctnthnthnthctnthnthnthctnthnthnthctnthnthnthctnthnthnthctnthnthnthctnthnthnthctnthnthnthctnthnthnthctnthnthnthctnthnthnthctnthnthnthctnthnthnthctnthnthnthctnthnthnthctnthnthnthctnthnthnthctnthnthnthctnthnthnthctnthnthnthctnthnthnthctnthnthnthctnthnthnthctnthnthnthctnthnthnthctnthnthnthctnthnthnthctnthnthnthctnthnthnthctnthnthnthctnthnthnthctnthnthnthctnthnthnthctnthnthnthctnthnthnthctnthnthnthctnthnthnthctnthnthnthctnthnthnthctnthnthnthctnthnthnthctnthnthnthctnthnthnthctnthnthnthctnthnthnthctnthnthnthctnthnthnthctnthnthnthctnthnthnthctnthnthnthctnthnthnthctnthnthnthctnthnthnthctnthnthnthctnthnthnthctnthnthnthctnthnthnthctnthnthnthctnthnthnthctnthnthnthctnthnthnthctnthnthnthctnthnthnthctnthnthnthctnthnthnthctnthnthnthctnthnthnthctnthnthnthctnthnthnthctnthnthnthctnthnthnthctnthnthnthctnthnthnthctnthnthnthctnthnthnthctnthnthnthctnthnthnthctnthnthnthctnthnthnthctnthnthnthctnthnthnthctnthnthnthctnthnthnthctnthnthnthctnthnthnthctnthnthnthctnthnthnthctnthnthnthctnthnthnthctnthnthnthctnthnthnthctnthnthnthctnthnthnthctnthnthnthctnthnthnthctnthnthnthctnthnthnthctnthnthnthctnthnthnthctnthnthnthctnthnthnthctnthnthnthctnthnthnthctnthnthnthctnthnthnthctnthnthnthctnthnthnthctnthnthnthctnthnthnthctnthnthnthctnthnthnthctnthnthnthctnthnthnth\n"
     ]
    },
    {
     "name": "stderr",
     "output_type": "stream",
     "text": [
      "[NeMo W 2022-05-26 06:14:49 nemo_logging:349] /media/boris/F/anaconda3/envs/nemo/lib/python3.9/site-packages/numba/cuda/compiler.py:726: NumbaPerformanceWarning: \u001b[1mGrid size (4) < 2 * SM count (96) will likely result in GPU under utilization due to low occupancy.\u001b[0m\n",
      "      warn(NumbaPerformanceWarning(msg))\n",
      "    \n",
      "[NeMo W 2022-05-26 06:14:49 nemo_logging:349] /media/boris/F/anaconda3/envs/nemo/lib/python3.9/site-packages/numba/cuda/compiler.py:726: NumbaPerformanceWarning: \u001b[1mGrid size (1) < 2 * SM count (96) will likely result in GPU under utilization due to low occupancy.\u001b[0m\n",
      "      warn(NumbaPerformanceWarning(msg))\n",
      "    \n"
     ]
    },
    {
     "name": "stdout",
     "output_type": "stream",
     "text": [
      "[NeMo I 2022-05-26 06:14:49 rnnt_wer_bpe:231] \n",
      "    \n",
      "[NeMo I 2022-05-26 06:14:49 rnnt_wer_bpe:232] reference :rubout n i m n one\n",
      "[NeMo I 2022-05-26 06:14:49 rnnt_wer_bpe:233] predicted :twentieth twentieth twentieth twentieth twentieth twentieth twentieth twentiethobzer hu twentieth hu twentieth hu twentieth hu twentieth hu twentieth hu twentieth hu twentieth hu hu huryl hunthnthnthnthnthnthnthnthctnthnthnthctnthnthnthctnthnthnthctnthnthnthctnthnthnthctnthnthnthctnthnthnthctnthnthnthctnthnthnthctnthnthnthctnthnthnthctnthnthnthctnthnthnthctnthnthnthctnthnthnthctnthnthnthctnthnthnthctnthnthnthctnthnthnthctnthnthnthctnthnthnthctnthnthnthctnthnthnthctnthnthnthctnthnthnthctnthnthnthctnthnthnthctnthnthnthctnthnthnthctnthnthnthctnthnthnthctnthnthnthctnthnthnthctnthnthnthctnthnthnthctnthnthnthctnthnthnthctnthnthnthctnthnthnthctnthnthnthctnthnthnthctnthnthnthctnthnthnthctnthnthnthctnthnthnthctnthnthnthctnthnthnthctnthnthnthctnthnthnthctnthnthnthctnthnthnthctnthnthnthctnthnthnthctnthnthnthctnthnthnthctnthnthnthctnthnthnthctnthnthnthctnthnthnthctnthnthnthctnthnthnthctnthnthnthctnthnthnthctnthnthnthctnthnthnthctnthnthnthctnthnthnthctnthnthnthctnthnthnthctnthnthnthctnthnthnthctnthnthnthctnthnthnthctnthnthnthctnthnthnthctnthnthnthctnthnthnthctnthnthnthctnthnthnthctnthnthnthctnthnthnthctnthnthnthctnthnthnthctnthnthnthctnthnthnthctnthnthnthctnthnthnthctnthnthnthctnthnthnthctnthnthnthctnthnthnthctnthnthnthctnthnthnthctnthnthnthctnthnthnthctnthnthnthctnthnthnthctnthnthnthctnthnthnthctnthnthnthctnthnthnthctnthnthnthctnthnthnthctnthnthnthctnthnthnthctnth\n"
     ]
    },
    {
     "name": "stderr",
     "output_type": "stream",
     "text": [
      "[NeMo W 2022-05-26 06:14:49 nemo_logging:349] /media/boris/F/anaconda3/envs/nemo/lib/python3.9/site-packages/pytorch_lightning/trainer/connectors/data_connector.py:240: PossibleUserWarning: The dataloader, train_dataloader, does not have many workers which may be a bottleneck. Consider increasing the value of the `num_workers` argument` (try 24 which is the number of cpus on this machine) in the `DataLoader` init to improve performance.\n",
      "      rank_zero_warn(\n",
      "    \n"
     ]
    },
    {
     "data": {
      "application/vnd.jupyter.widget-view+json": {
       "model_id": "8f89b8a4d09c4321b1b532c76d9810ab",
       "version_major": 2,
       "version_minor": 0
      },
      "text/plain": [
       "Training: 0it [00:00, ?it/s]"
      ]
     },
     "metadata": {},
     "output_type": "display_data"
    },
    {
     "name": "stderr",
     "output_type": "stream",
     "text": [
      "[NeMo W 2022-05-26 06:14:50 nemo_logging:349] /media/boris/F/anaconda3/envs/nemo/lib/python3.9/site-packages/numba/cuda/compiler.py:726: NumbaPerformanceWarning: \u001b[1mGrid size (1) < 2 * SM count (96) will likely result in GPU under utilization due to low occupancy.\u001b[0m\n",
      "      warn(NumbaPerformanceWarning(msg))\n",
      "    \n"
     ]
    },
    {
     "name": "stdout",
     "output_type": "stream",
     "text": [
      "[NeMo I 2022-05-26 06:14:50 rnnt_wer_bpe:231] \n",
      "    \n",
      "[NeMo I 2022-05-26 06:14:50 rnnt_wer_bpe:232] reference :no\n",
      "[NeMo I 2022-05-26 06:14:50 rnnt_wer_bpe:233] predicted :aonel twentiethtem m twentieth twentieth twentieth twentieth m mee mnthreeanuanuobaob nine nine nine nine nine nineanu nine ninekkkanunthkkkkkaaaaaundraundr paanuanuanu kanu kanuanu kanuobreeaaaundraundr pel nine nineanuanuob nine nineanuwoanuepeat mtem mtem m m m m m m m m m m m m m m m m m m m m m m m m manuanuanuanuanuanutoberaanutoberaaael b b b b eleven june\n"
     ]
    },
    {
     "name": "stderr",
     "output_type": "stream",
     "text": [
      "[NeMo W 2022-05-26 06:14:51 nemo_logging:349] /media/boris/F/anaconda3/envs/nemo/lib/python3.9/site-packages/numba/cuda/compiler.py:726: NumbaPerformanceWarning: \u001b[1mGrid size (4) < 2 * SM count (96) will likely result in GPU under utilization due to low occupancy.\u001b[0m\n",
      "      warn(NumbaPerformanceWarning(msg))\n",
      "    \n"
     ]
    },
    {
     "name": "stdout",
     "output_type": "stream",
     "text": [
      "[NeMo I 2022-05-26 06:14:51 rnnt_wer_bpe:231] \n",
      "    \n",
      "[NeMo I 2022-05-26 06:14:51 rnnt_wer_bpe:232] reference :j u l i e\n",
      "[NeMo I 2022-05-26 06:14:51 rnnt_wer_bpe:233] predicted :\n",
      "[NeMo I 2022-05-26 06:14:51 rnnt_wer_bpe:231] \n",
      "    \n",
      "[NeMo I 2022-05-26 06:14:51 rnnt_wer_bpe:232] reference :g c d o four\n",
      "[NeMo I 2022-05-26 06:14:51 rnnt_wer_bpe:233] predicted :\n",
      "[NeMo I 2022-05-26 06:14:52 rnnt_wer_bpe:231] \n",
      "    \n",
      "[NeMo I 2022-05-26 06:14:52 rnnt_wer_bpe:232] reference :eight eight two eight one oh two\n",
      "[NeMo I 2022-05-26 06:14:52 rnnt_wer_bpe:233] predicted :\n",
      "[NeMo I 2022-05-26 06:14:52 rnnt_wer_bpe:231] \n",
      "    \n",
      "[NeMo I 2022-05-26 06:14:52 rnnt_wer_bpe:232] reference :erase z y g n p eight hundred and twenty three\n",
      "[NeMo I 2022-05-26 06:14:52 rnnt_wer_bpe:233] predicted :\n",
      "[NeMo I 2022-05-26 06:14:52 rnnt_wer_bpe:231] \n",
      "    \n",
      "[NeMo I 2022-05-26 06:14:52 rnnt_wer_bpe:232] reference :one five one three three\n",
      "[NeMo I 2022-05-26 06:14:52 rnnt_wer_bpe:233] predicted :\n",
      "[NeMo I 2022-05-26 06:14:53 rnnt_wer_bpe:231] \n",
      "    \n",
      "[NeMo I 2022-05-26 06:14:53 rnnt_wer_bpe:232] reference :f r a n c e s m a r y\n",
      "[NeMo I 2022-05-26 06:14:53 rnnt_wer_bpe:233] predicted :\n",
      "[NeMo I 2022-05-26 06:14:53 rnnt_wer_bpe:231] \n",
      "    \n",
      "[NeMo I 2022-05-26 06:14:53 rnnt_wer_bpe:232] reference :enter five zero\n",
      "[NeMo I 2022-05-26 06:14:53 rnnt_wer_bpe:233] predicted :\n",
      "[NeMo I 2022-05-26 06:14:54 rnnt_wer_bpe:231] \n",
      "    \n",
      "[NeMo I 2022-05-26 06:14:54 rnnt_wer_bpe:232] reference :oh seven nine two two\n",
      "[NeMo I 2022-05-26 06:14:54 rnnt_wer_bpe:233] predicted :\n",
      "[NeMo I 2022-05-26 06:14:54 rnnt_wer_bpe:231] \n",
      "    \n",
      "[NeMo I 2022-05-26 06:14:54 rnnt_wer_bpe:232] reference :p i t t s b u r g h\n",
      "[NeMo I 2022-05-26 06:14:54 rnnt_wer_bpe:233] predicted :\n",
      "[NeMo I 2022-05-26 06:14:54 rnnt_wer_bpe:231] \n",
      "    \n",
      "[NeMo I 2022-05-26 06:14:54 rnnt_wer_bpe:232] reference :h i n i c h\n",
      "[NeMo I 2022-05-26 06:14:54 rnnt_wer_bpe:233] predicted :\n",
      "[NeMo I 2022-05-26 06:14:55 rnnt_wer_bpe:231] \n",
      "    \n",
      "[NeMo I 2022-05-26 06:14:55 rnnt_wer_bpe:232] reference :rubout y y f x zero\n",
      "[NeMo I 2022-05-26 06:14:55 rnnt_wer_bpe:233] predicted :\n",
      "[NeMo I 2022-05-26 06:14:55 rnnt_wer_bpe:231] \n",
      "    \n",
      "[NeMo I 2022-05-26 06:14:55 rnnt_wer_bpe:232] reference :one five six six eight\n",
      "[NeMo I 2022-05-26 06:14:55 rnnt_wer_bpe:233] predicted :\n",
      "[NeMo I 2022-05-26 06:14:56 rnnt_wer_bpe:231] \n",
      "    \n",
      "[NeMo I 2022-05-26 06:14:56 rnnt_wer_bpe:232] reference :two two nine three\n",
      "[NeMo I 2022-05-26 06:14:56 rnnt_wer_bpe:233] predicted :\n",
      "[NeMo I 2022-05-26 06:14:56 rnnt_wer_bpe:231] \n",
      "    \n",
      "[NeMo I 2022-05-26 06:14:56 rnnt_wer_bpe:232] reference :one five two one oh\n",
      "[NeMo I 2022-05-26 06:14:56 rnnt_wer_bpe:233] predicted :\n",
      "[NeMo I 2022-05-26 06:14:56 rnnt_wer_bpe:231] \n",
      "    \n",
      "[NeMo I 2022-05-26 06:14:56 rnnt_wer_bpe:232] reference :no\n",
      "[NeMo I 2022-05-26 06:14:56 rnnt_wer_bpe:233] predicted :\n",
      "[NeMo I 2022-05-26 06:14:57 rnnt_wer_bpe:231] \n",
      "    \n",
      "[NeMo I 2022-05-26 06:14:57 rnnt_wer_bpe:232] reference :v a d r thirty one oh seven\n",
      "[NeMo I 2022-05-26 06:14:57 rnnt_wer_bpe:233] predicted :\n",
      "[NeMo I 2022-05-26 06:14:57 rnnt_wer_bpe:231] \n",
      "    \n",
      "[NeMo I 2022-05-26 06:14:57 rnnt_wer_bpe:232] reference :one seven three six eight\n",
      "[NeMo I 2022-05-26 06:14:57 rnnt_wer_bpe:233] predicted :\n",
      "[NeMo I 2022-05-26 06:14:57 rnnt_wer_bpe:231] \n",
      "    \n",
      "[NeMo I 2022-05-26 06:14:57 rnnt_wer_bpe:232] reference :seven fifty five\n",
      "[NeMo I 2022-05-26 06:14:57 rnnt_wer_bpe:233] predicted :\n",
      "[NeMo I 2022-05-26 06:14:58 rnnt_wer_bpe:231] \n",
      "    \n",
      "[NeMo I 2022-05-26 06:14:58 rnnt_wer_bpe:232] reference :six six four seven two nine three\n",
      "[NeMo I 2022-05-26 06:14:58 rnnt_wer_bpe:233] predicted :\n",
      "[NeMo I 2022-05-26 06:14:58 rnnt_wer_bpe:231] \n",
      "    \n",
      "[NeMo I 2022-05-26 06:14:58 rnnt_wer_bpe:232] reference :one five two three two\n",
      "[NeMo I 2022-05-26 06:14:58 rnnt_wer_bpe:233] predicted :\n",
      "[NeMo I 2022-05-26 06:14:58 rnnt_wer_bpe:231] \n",
      "    \n",
      "[NeMo I 2022-05-26 06:14:58 rnnt_wer_bpe:232] reference :enter seventy eight\n",
      "[NeMo I 2022-05-26 06:14:58 rnnt_wer_bpe:233] predicted :\n",
      "[NeMo I 2022-05-26 06:14:59 rnnt_wer_bpe:231] \n",
      "    \n",
      "[NeMo I 2022-05-26 06:14:59 rnnt_wer_bpe:232] reference :nine twenty three sixty three\n",
      "[NeMo I 2022-05-26 06:14:59 rnnt_wer_bpe:233] predicted :\n",
      "[NeMo I 2022-05-26 06:14:59 rnnt_wer_bpe:231] \n",
      "    \n",
      "[NeMo I 2022-05-26 06:14:59 rnnt_wer_bpe:232] reference :c e l l i o\n",
      "[NeMo I 2022-05-26 06:14:59 rnnt_wer_bpe:233] predicted :\n",
      "[NeMo I 2022-05-26 06:14:59 rnnt_wer_bpe:231] \n",
      "    \n",
      "[NeMo I 2022-05-26 06:14:59 rnnt_wer_bpe:232] reference :o a m j one five three\n",
      "[NeMo I 2022-05-26 06:14:59 rnnt_wer_bpe:233] predicted :\n",
      "[NeMo I 2022-05-26 06:15:00 rnnt_wer_bpe:231] \n",
      "    \n",
      "[NeMo I 2022-05-26 06:15:00 rnnt_wer_bpe:232] reference :january fifteenth nineteen sixty three\n",
      "[NeMo I 2022-05-26 06:15:00 rnnt_wer_bpe:233] predicted :\n",
      "[NeMo I 2022-05-26 06:15:00 rnnt_wer_bpe:231] \n",
      "    \n",
      "[NeMo I 2022-05-26 06:15:00 rnnt_wer_bpe:232] reference :m o r e w o o d\n",
      "[NeMo I 2022-05-26 06:15:00 rnnt_wer_bpe:233] predicted :\n",
      "[NeMo I 2022-05-26 06:15:00 rnnt_wer_bpe:231] \n",
      "    \n",
      "[NeMo I 2022-05-26 06:15:00 rnnt_wer_bpe:232] reference :six five three four\n",
      "[NeMo I 2022-05-26 06:15:00 rnnt_wer_bpe:233] predicted :\n",
      "[NeMo I 2022-05-26 06:15:01 rnnt_wer_bpe:231] \n",
      "    \n",
      "[NeMo I 2022-05-26 06:15:01 rnnt_wer_bpe:232] reference :z i r k six four four\n",
      "[NeMo I 2022-05-26 06:15:01 rnnt_wer_bpe:233] predicted :\n",
      "[NeMo I 2022-05-26 06:15:01 rnnt_wer_bpe:231] \n",
      "    \n",
      "[NeMo I 2022-05-26 06:15:01 rnnt_wer_bpe:232] reference :one ten\n",
      "[NeMo I 2022-05-26 06:15:01 rnnt_wer_bpe:233] predicted :\n",
      "[NeMo I 2022-05-26 06:15:02 rnnt_wer_bpe:231] \n",
      "    \n",
      "[NeMo I 2022-05-26 06:15:02 rnnt_wer_bpe:232] reference :p r i n c e\n",
      "[NeMo I 2022-05-26 06:15:02 rnnt_wer_bpe:233] predicted :\n",
      "[NeMo I 2022-05-26 06:15:02 rnnt_wer_bpe:231] \n",
      "    \n",
      "[NeMo I 2022-05-26 06:15:02 rnnt_wer_bpe:232] reference :erase v x s x two four nine nine\n",
      "[NeMo I 2022-05-26 06:15:02 rnnt_wer_bpe:233] predicted :\n",
      "[NeMo I 2022-05-26 06:15:02 rnnt_wer_bpe:231] \n",
      "    \n",
      "[NeMo I 2022-05-26 06:15:02 rnnt_wer_bpe:232] reference :x g i c two\n",
      "[NeMo I 2022-05-26 06:15:02 rnnt_wer_bpe:233] predicted :\n",
      "[NeMo I 2022-05-26 06:15:03 rnnt_wer_bpe:231] \n",
      "    \n",
      "[NeMo I 2022-05-26 06:15:03 rnnt_wer_bpe:232] reference :erase c k c w fourteen eighty five\n",
      "[NeMo I 2022-05-26 06:15:03 rnnt_wer_bpe:233] predicted :\n",
      "[NeMo I 2022-05-26 06:15:03 rnnt_wer_bpe:231] \n",
      "    \n",
      "[NeMo I 2022-05-26 06:15:03 rnnt_wer_bpe:232] reference :june eleventh nineteen sixty seven\n",
      "[NeMo I 2022-05-26 06:15:03 rnnt_wer_bpe:233] predicted :\n",
      "[NeMo I 2022-05-26 06:15:03 rnnt_wer_bpe:231] \n",
      "    \n",
      "[NeMo I 2022-05-26 06:15:03 rnnt_wer_bpe:232] reference :e a r l f o r d\n",
      "[NeMo I 2022-05-26 06:15:03 rnnt_wer_bpe:233] predicted :\n",
      "[NeMo I 2022-05-26 06:15:04 rnnt_wer_bpe:231] \n",
      "    \n",
      "[NeMo I 2022-05-26 06:15:04 rnnt_wer_bpe:232] reference :enter four\n",
      "[NeMo I 2022-05-26 06:15:04 rnnt_wer_bpe:233] predicted :\n",
      "[NeMo I 2022-05-26 06:15:04 rnnt_wer_bpe:231] \n",
      "    \n",
      "[NeMo I 2022-05-26 06:15:04 rnnt_wer_bpe:232] reference :enter six two four\n",
      "[NeMo I 2022-05-26 06:15:04 rnnt_wer_bpe:233] predicted :\n",
      "[NeMo I 2022-05-26 06:15:04 rnnt_wer_bpe:231] \n",
      "    \n",
      "[NeMo I 2022-05-26 06:15:04 rnnt_wer_bpe:232] reference :c i n d y\n",
      "[NeMo I 2022-05-26 06:15:04 rnnt_wer_bpe:233] predicted :\n",
      "[NeMo I 2022-05-26 06:15:05 rnnt_wer_bpe:231] \n",
      "    \n",
      "[NeMo I 2022-05-26 06:15:05 rnnt_wer_bpe:232] reference :enter fifteen\n",
      "[NeMo I 2022-05-26 06:15:05 rnnt_wer_bpe:233] predicted :\n",
      "[NeMo I 2022-05-26 06:15:05 rnnt_wer_bpe:231] \n",
      "    \n",
      "[NeMo I 2022-05-26 06:15:05 rnnt_wer_bpe:232] reference :erase y b e j q five oh seven\n",
      "[NeMo I 2022-05-26 06:15:05 rnnt_wer_bpe:233] predicted :\n",
      "[NeMo I 2022-05-26 06:15:05 rnnt_wer_bpe:231] \n",
      "    \n",
      "[NeMo I 2022-05-26 06:15:05 rnnt_wer_bpe:232] reference :erase j g q y eight six one\n",
      "[NeMo I 2022-05-26 06:15:05 rnnt_wer_bpe:233] predicted :\n",
      "[NeMo I 2022-05-26 06:15:06 rnnt_wer_bpe:231] \n",
      "    \n",
      "[NeMo I 2022-05-26 06:15:06 rnnt_wer_bpe:232] reference :k a r e n\n",
      "[NeMo I 2022-05-26 06:15:06 rnnt_wer_bpe:233] predicted :\n",
      "[NeMo I 2022-05-26 06:15:06 rnnt_wer_bpe:231] \n",
      "    \n",
      "[NeMo I 2022-05-26 06:15:06 rnnt_wer_bpe:232] reference :fifty six thirty two\n",
      "[NeMo I 2022-05-26 06:15:06 rnnt_wer_bpe:233] predicted :\n",
      "[NeMo I 2022-05-26 06:15:06 rnnt_wer_bpe:231] \n",
      "    \n",
      "[NeMo I 2022-05-26 06:15:06 rnnt_wer_bpe:232] reference :k l m u five two seven four\n"
     ]
    },
    {
     "name": "stdout",
     "output_type": "stream",
     "text": [
      "[NeMo I 2022-05-26 06:15:06 rnnt_wer_bpe:233] predicted :\n",
      "[NeMo I 2022-05-26 06:15:06 rnnt_wer_bpe:231] \n",
      "    \n",
      "[NeMo I 2022-05-26 06:15:06 rnnt_wer_bpe:232] reference :help\n",
      "[NeMo I 2022-05-26 06:15:06 rnnt_wer_bpe:233] predicted :\n",
      "[NeMo I 2022-05-26 06:15:07 rnnt_wer_bpe:231] \n",
      "    \n",
      "[NeMo I 2022-05-26 06:15:07 rnnt_wer_bpe:232] reference :rubout w l f x y seven oh six nine\n",
      "[NeMo I 2022-05-26 06:15:07 rnnt_wer_bpe:233] predicted :\n",
      "[NeMo I 2022-05-26 06:15:07 rnnt_wer_bpe:231] \n",
      "    \n",
      "[NeMo I 2022-05-26 06:15:07 rnnt_wer_bpe:232] reference :two six eight four four one eight\n",
      "[NeMo I 2022-05-26 06:15:07 rnnt_wer_bpe:233] predicted :\n",
      "[NeMo I 2022-05-26 06:15:07 rnnt_wer_bpe:231] \n",
      "    \n",
      "[NeMo I 2022-05-26 06:15:07 rnnt_wer_bpe:232] reference :erase o j t k s thirty five\n",
      "[NeMo I 2022-05-26 06:15:07 rnnt_wer_bpe:233] predicted :\n",
      "[NeMo I 2022-05-26 06:15:08 rnnt_wer_bpe:231] \n",
      "    \n",
      "[NeMo I 2022-05-26 06:15:08 rnnt_wer_bpe:232] reference :k u n t z\n",
      "[NeMo I 2022-05-26 06:15:08 rnnt_wer_bpe:233] predicted :\n",
      "conformer_ctc_bpe\n",
      "[NeMo I 2022-05-26 06:15:08 mixins:165] Tokenizer SentencePieceTokenizer initialized with 339 tokens\n",
      "[NeMo I 2022-05-26 06:15:08 ctc_bpe_models:246] \n",
      "    Replacing placeholder number of classes (-1) with actual number of classes - 339\n",
      "[NeMo I 2022-05-26 06:15:08 collections:186] Dataset loaded with 200 files totalling 0.16 hours\n",
      "[NeMo I 2022-05-26 06:15:08 collections:187] 0 files were filtered totalling 0.00 hours\n",
      "[NeMo I 2022-05-26 06:15:08 collections:186] Dataset loaded with 130 files totalling 0.10 hours\n",
      "[NeMo I 2022-05-26 06:15:08 collections:187] 0 files were filtered totalling 0.00 hours\n"
     ]
    },
    {
     "name": "stderr",
     "output_type": "stream",
     "text": [
      "[NeMo W 2022-05-26 06:15:08 ctc_bpe_models:309] Could not load dataset as `manifest_filepath` was None. Provided config : {'manifest_filepath': None, 'sample_rate': 22050, 'batch_size': 4, 'shuffle': False, 'num_workers': 8, 'pin_memory': True, 'use_start_end_token': False}\n"
     ]
    },
    {
     "name": "stdout",
     "output_type": "stream",
     "text": [
      "[NeMo I 2022-05-26 06:15:08 features:259] PADDING: 0\n",
      "[NeMo I 2022-05-26 06:15:08 features:276] STFT using torch\n"
     ]
    },
    {
     "name": "stderr",
     "output_type": "stream",
     "text": [
      "GPU available: True, used: True\n",
      "TPU available: False, using: 0 TPU cores\n",
      "IPU available: False, using: 0 IPUs\n",
      "HPU available: False, using: 0 HPUs\n",
      "[NeMo W 2022-05-26 06:15:09 nemo_logging:349] /media/boris/F/anaconda3/envs/nemo/lib/python3.9/site-packages/pytorch_lightning/trainer/configuration_validator.py:385: LightningDeprecationWarning: The `Callback.on_epoch_end` hook was deprecated in v1.6 and will be removed in v1.8. Please use `Callback.on_<train/validation/test>_epoch_end` instead.\n",
      "      rank_zero_deprecation(\n",
      "    \n",
      "LOCAL_RANK: 0 - CUDA_VISIBLE_DEVICES: [0]\n",
      "[NeMo W 2022-05-26 06:15:09 modelPT:475] Trainer wasn't specified in model constructor. Make sure that you really wanted it.\n"
     ]
    },
    {
     "name": "stdout",
     "output_type": "stream",
     "text": [
      "[NeMo I 2022-05-26 06:15:09 modelPT:587] Optimizer config = AdamW (\n",
      "    Parameter Group 0\n",
      "        amsgrad: False\n",
      "        betas: [0.9, 0.98]\n",
      "        eps: 1e-08\n",
      "        foreach: None\n",
      "        lr: 5\n",
      "        maximize: False\n",
      "        weight_decay: 0.001\n",
      "    )\n"
     ]
    },
    {
     "name": "stderr",
     "output_type": "stream",
     "text": [
      "[NeMo W 2022-05-26 06:15:09 lr_scheduler:816] Neither `max_steps` nor `iters_per_batch` were provided to `optim.sched`, cannot compute effective `max_steps` !\n",
      "    Scheduler will not be instantiated !\n",
      "\n",
      "  | Name              | Type                              | Params\n",
      "------------------------------------------------------------------------\n",
      "0 | preprocessor      | AudioToMelSpectrogramPreprocessor | 0     \n",
      "1 | encoder           | ConformerEncoder                  | 13.0 M\n",
      "2 | decoder           | ConvASRDecoder                    | 60.2 K\n",
      "3 | loss              | CTCLoss                           | 0     \n",
      "4 | spec_augmentation | SpectrogramAugmentation           | 0     \n",
      "5 | _wer              | WERBPE                            | 0     \n",
      "------------------------------------------------------------------------\n",
      "13.0 M    Trainable params\n",
      "0         Non-trainable params\n",
      "13.0 M    Total params\n",
      "52.131    Total estimated model params size (MB)\n"
     ]
    },
    {
     "data": {
      "application/vnd.jupyter.widget-view+json": {
       "model_id": "",
       "version_major": 2,
       "version_minor": 0
      },
      "text/plain": [
       "Sanity Checking: 0it [00:00, ?it/s]"
      ]
     },
     "metadata": {},
     "output_type": "display_data"
    },
    {
     "name": "stdout",
     "output_type": "stream",
     "text": [
      "[NeMo I 2022-05-26 06:15:09 wer_bpe:212] \n",
      "    \n",
      "[NeMo I 2022-05-26 06:15:09 wer_bpe:213] reference:rubout g m e f three nine\n",
      "[NeMo I 2022-05-26 06:15:09 wer_bpe:214] predicted:orty onortyasorty\n",
      "[NeMo I 2022-05-26 06:15:10 wer_bpe:212] \n",
      "    \n",
      "[NeMo I 2022-05-26 06:15:10 wer_bpe:213] reference:rubout n i m n one\n",
      "[NeMo I 2022-05-26 06:15:10 wer_bpe:214] predicted:ortyousa\n"
     ]
    },
    {
     "data": {
      "application/vnd.jupyter.widget-view+json": {
       "model_id": "1b12edaac6c84612b9c0a7b9a28d8291",
       "version_major": 2,
       "version_minor": 0
      },
      "text/plain": [
       "Training: 0it [00:00, ?it/s]"
      ]
     },
     "metadata": {},
     "output_type": "display_data"
    },
    {
     "name": "stdout",
     "output_type": "stream",
     "text": [
      "[NeMo I 2022-05-26 06:15:10 wer_bpe:212] \n",
      "    \n",
      "[NeMo I 2022-05-26 06:15:10 wer_bpe:213] reference:erase m y a m seven\n",
      "[NeMo I 2022-05-26 06:15:10 wer_bpe:214] predicted:orty zeroh sixty zersi anorty zerortyundrirty zerortyhobe marourasundr sixtyforty sixty thirtyortyyepeentiethuar three ninetanuaryentieth eleventhteriorty sixty no rubortyaseortykentiethterentie noortyirtyoutubout junen peaentieth no four fourteen panuaryrtyanuaryter fifty w k an threeberfoes eleventh onnteaiventieth oneanuaryunnentiethortyndrteras sixtyentiethye zer eightyxty anb four hek zerun\n"
     ]
    },
    {
     "name": "stderr",
     "output_type": "stream",
     "text": [
      "[NeMo W 2022-05-26 06:15:10 nemo_logging:349] /media/boris/F/anaconda3/envs/nemo/lib/python3.9/site-packages/pytorch_lightning/trainer/connectors/logger_connector/result.py:229: UserWarning: You called `self.log('learning_rate', ...)` in your `training_step` but the value needs to be floating point. Converting it to torch.float32.\n",
      "      warning_cache.warn(\n",
      "    \n"
     ]
    },
    {
     "name": "stdout",
     "output_type": "stream",
     "text": [
      "[NeMo I 2022-05-26 06:15:11 wer_bpe:212] \n",
      "    \n",
      "[NeMo I 2022-05-26 06:15:11 wer_bpe:213] reference:e a r l f o r d\n",
      "[NeMo I 2022-05-26 06:15:11 wer_bpe:214] predicted:\n",
      "[NeMo I 2022-05-26 06:15:11 wer_bpe:212] \n",
      "    \n",
      "[NeMo I 2022-05-26 06:15:11 wer_bpe:213] reference:erase v x s x two four nine nine\n",
      "[NeMo I 2022-05-26 06:15:11 wer_bpe:214] predicted:ep seventy thouep thouep seventyep thouep thouep seventyep thou seventyep seventyep thouep seventygoep thouep\n",
      "[NeMo I 2022-05-26 06:15:11 wer_bpe:212] \n",
      "    \n",
      "[NeMo I 2022-05-26 06:15:11 wer_bpe:213] reference:erase r b d k t fifty\n",
      "[NeMo I 2022-05-26 06:15:11 wer_bpe:214] predicted:l\n",
      "[NeMo I 2022-05-26 06:15:11 wer_bpe:212] \n",
      "    \n",
      "[NeMo I 2022-05-26 06:15:11 wer_bpe:213] reference:m e m o r y l a n e\n",
      "[NeMo I 2022-05-26 06:15:11 wer_bpe:214] predicted:five\n",
      "[NeMo I 2022-05-26 06:15:11 wer_bpe:212] \n",
      "    \n",
      "[NeMo I 2022-05-26 06:15:11 wer_bpe:213] reference:r q z h four\n",
      "[NeMo I 2022-05-26 06:15:11 wer_bpe:214] predicted:fifteen n fifteen n fifteen n fifteen n fifteen n fifteen n fifteen\n",
      "[NeMo I 2022-05-26 06:15:11 wer_bpe:212] \n",
      "    \n",
      "[NeMo I 2022-05-26 06:15:11 wer_bpe:213] reference:p i t t s b u r g h\n",
      "[NeMo I 2022-05-26 06:15:11 wer_bpe:214] predicted:n\n",
      "[NeMo I 2022-05-26 06:15:12 wer_bpe:212] \n",
      "    \n",
      "[NeMo I 2022-05-26 06:15:12 wer_bpe:213] reference:enter nine eighty nine\n",
      "[NeMo I 2022-05-26 06:15:12 wer_bpe:214] predicted:\n",
      "[NeMo I 2022-05-26 06:15:12 wer_bpe:212] \n",
      "    \n",
      "[NeMo I 2022-05-26 06:15:12 wer_bpe:213] reference:two six eight five nine five two\n",
      "[NeMo I 2022-05-26 06:15:12 wer_bpe:214] predicted:i i i i i i i i i i i i i i i\n",
      "[NeMo I 2022-05-26 06:15:12 wer_bpe:212] \n",
      "    \n",
      "[NeMo I 2022-05-26 06:15:12 wer_bpe:213] reference:m e a d o w g a t e d r i v e\n",
      "[NeMo I 2022-05-26 06:15:12 wer_bpe:214] predicted:\n",
      "[NeMo I 2022-05-26 06:15:12 wer_bpe:212] \n",
      "    \n",
      "[NeMo I 2022-05-26 06:15:12 wer_bpe:213] reference:k u n t z\n",
      "[NeMo I 2022-05-26 06:15:12 wer_bpe:214] predicted:\n",
      "[NeMo I 2022-05-26 06:15:12 wer_bpe:212] \n",
      "    \n",
      "[NeMo I 2022-05-26 06:15:12 wer_bpe:213] reference:n l n s one seventy five\n",
      "[NeMo I 2022-05-26 06:15:12 wer_bpe:214] predicted:\n",
      "[NeMo I 2022-05-26 06:15:12 wer_bpe:212] \n",
      "    \n",
      "[NeMo I 2022-05-26 06:15:12 wer_bpe:213] reference:rubout j l y z two\n",
      "[NeMo I 2022-05-26 06:15:12 wer_bpe:214] predicted:\n",
      "[NeMo I 2022-05-26 06:15:13 wer_bpe:212] \n",
      "    \n",
      "[NeMo I 2022-05-26 06:15:13 wer_bpe:213] reference:u m n y h six\n",
      "[NeMo I 2022-05-26 06:15:13 wer_bpe:214] predicted:six\n",
      "[NeMo I 2022-05-26 06:15:13 wer_bpe:212] \n",
      "    \n",
      "[NeMo I 2022-05-26 06:15:13 wer_bpe:213] reference:nine twenty three sixty three\n",
      "[NeMo I 2022-05-26 06:15:13 wer_bpe:214] predicted:rubout nineteen rubout rubout rubout rubout rubout\n",
      "[NeMo I 2022-05-26 06:15:13 wer_bpe:212] \n",
      "    \n",
      "[NeMo I 2022-05-26 06:15:13 wer_bpe:213] reference:g i b s o n i a\n",
      "[NeMo I 2022-05-26 06:15:13 wer_bpe:214] predicted:\n",
      "[NeMo I 2022-05-26 06:15:13 wer_bpe:212] \n",
      "    \n",
      "[NeMo I 2022-05-26 06:15:13 wer_bpe:213] reference:five five three five\n",
      "[NeMo I 2022-05-26 06:15:13 wer_bpe:214] predicted:j j stop j stop j j j stop j stop j stop j j j stop j\n",
      "[NeMo I 2022-05-26 06:15:13 wer_bpe:212] \n",
      "    \n",
      "[NeMo I 2022-05-26 06:15:13 wer_bpe:213] reference:march third nineteen twenty eight\n",
      "[NeMo I 2022-05-26 06:15:13 wer_bpe:214] predicted:\n",
      "[NeMo I 2022-05-26 06:15:13 wer_bpe:212] \n",
      "    \n",
      "[NeMo I 2022-05-26 06:15:13 wer_bpe:213] reference:thirty three\n",
      "[NeMo I 2022-05-26 06:15:13 wer_bpe:214] predicted:one one one one one one\n",
      "[NeMo I 2022-05-26 06:15:14 wer_bpe:212] \n",
      "    \n",
      "[NeMo I 2022-05-26 06:15:14 wer_bpe:213] reference:one seven three six eight\n",
      "[NeMo I 2022-05-26 06:15:14 wer_bpe:214] predicted:u u u u u u\n",
      "[NeMo I 2022-05-26 06:15:14 wer_bpe:212] \n",
      "    \n",
      "[NeMo I 2022-05-26 06:15:14 wer_bpe:213] reference:z c b e g seventy nine\n",
      "[NeMo I 2022-05-26 06:15:14 wer_bpe:214] predicted:\n",
      "[NeMo I 2022-05-26 06:15:14 wer_bpe:212] \n",
      "    \n",
      "[NeMo I 2022-05-26 06:15:14 wer_bpe:213] reference:five six one five\n",
      "[NeMo I 2022-05-26 06:15:14 wer_bpe:214] predicted:\n",
      "[NeMo I 2022-05-26 06:15:14 wer_bpe:212] \n",
      "    \n",
      "[NeMo I 2022-05-26 06:15:14 wer_bpe:213] reference:fifty one fifty six\n",
      "[NeMo I 2022-05-26 06:15:14 wer_bpe:214] predicted:t z t z t\n",
      "[NeMo I 2022-05-26 06:15:14 wer_bpe:212] \n",
      "    \n",
      "[NeMo I 2022-05-26 06:15:14 wer_bpe:213] reference:h i n i c h\n",
      "[NeMo I 2022-05-26 06:15:14 wer_bpe:214] predicted:s s s three s s thirty three s s s s s three s s s s s s\n",
      "[NeMo I 2022-05-26 06:15:14 wer_bpe:212] \n",
      "    \n",
      "[NeMo I 2022-05-26 06:15:14 wer_bpe:213] reference:l i n d a\n",
      "[NeMo I 2022-05-26 06:15:14 wer_bpe:214] predicted:\n",
      "[NeMo I 2022-05-26 06:15:15 wer_bpe:212] \n",
      "    \n",
      "[NeMo I 2022-05-26 06:15:15 wer_bpe:213] reference:one five two one seven\n",
      "[NeMo I 2022-05-26 06:15:15 wer_bpe:214] predicted:\n",
      "[NeMo I 2022-05-26 06:15:15 wer_bpe:212] \n",
      "    \n",
      "[NeMo I 2022-05-26 06:15:15 wer_bpe:213] reference:enter seven oh three eight\n",
      "[NeMo I 2022-05-26 06:15:15 wer_bpe:214] predicted:\n",
      "[NeMo I 2022-05-26 06:15:15 wer_bpe:212] \n",
      "    \n",
      "[NeMo I 2022-05-26 06:15:15 wer_bpe:213] reference:p i t t s b u r g h\n",
      "[NeMo I 2022-05-26 06:15:15 wer_bpe:214] predicted:zero\n",
      "[NeMo I 2022-05-26 06:15:15 wer_bpe:212] \n",
      "    \n",
      "[NeMo I 2022-05-26 06:15:15 wer_bpe:213] reference:oh seven nine two two\n",
      "[NeMo I 2022-05-26 06:15:15 wer_bpe:214] predicted:\n",
      "[NeMo I 2022-05-26 06:15:15 wer_bpe:212] \n",
      "    \n",
      "[NeMo I 2022-05-26 06:15:15 wer_bpe:213] reference:rubout c y r b seven eight\n",
      "[NeMo I 2022-05-26 06:15:15 wer_bpe:214] predicted:p p p p p p p p p p p p\n",
      "[NeMo I 2022-05-26 06:15:15 wer_bpe:212] \n",
      "    \n",
      "[NeMo I 2022-05-26 06:15:15 wer_bpe:213] reference:p r i n c e\n",
      "[NeMo I 2022-05-26 06:15:15 wer_bpe:214] predicted:\n",
      "[NeMo I 2022-05-26 06:15:15 wer_bpe:212] \n",
      "    \n",
      "[NeMo I 2022-05-26 06:15:15 wer_bpe:213] reference:s c a v i n c k y\n",
      "[NeMo I 2022-05-26 06:15:15 wer_bpe:214] predicted:\n",
      "[NeMo I 2022-05-26 06:15:16 wer_bpe:212] \n",
      "    \n",
      "[NeMo I 2022-05-26 06:15:16 wer_bpe:213] reference:c e l l i o\n",
      "[NeMo I 2022-05-26 06:15:16 wer_bpe:214] predicted:seven\n",
      "[NeMo I 2022-05-26 06:15:16 wer_bpe:212] \n",
      "    \n",
      "[NeMo I 2022-05-26 06:15:16 wer_bpe:213] reference:rubout n x f e eight nine six\n",
      "[NeMo I 2022-05-26 06:15:16 wer_bpe:214] predicted:\n",
      "[NeMo I 2022-05-26 06:15:16 wer_bpe:212] \n",
      "    \n",
      "[NeMo I 2022-05-26 06:15:16 wer_bpe:213] reference:erase j g q y eight six one\n",
      "[NeMo I 2022-05-26 06:15:16 wer_bpe:214] predicted:\n",
      "[NeMo I 2022-05-26 06:15:16 wer_bpe:212] \n",
      "    \n",
      "[NeMo I 2022-05-26 06:15:16 wer_bpe:213] reference:p t q d q one\n",
      "[NeMo I 2022-05-26 06:15:16 wer_bpe:214] predicted:\n",
      "[NeMo I 2022-05-26 06:15:16 wer_bpe:212] \n",
      "    \n",
      "[NeMo I 2022-05-26 06:15:16 wer_bpe:213] reference:three four eight zero\n",
      "[NeMo I 2022-05-26 06:15:16 wer_bpe:214] predicted:g\n",
      "[NeMo I 2022-05-26 06:15:16 wer_bpe:212] \n",
      "    \n",
      "[NeMo I 2022-05-26 06:15:16 wer_bpe:213] reference:three twenty seven sixty eight\n",
      "[NeMo I 2022-05-26 06:15:16 wer_bpe:214] predicted:y y g y g y g y y g y g y g\n",
      "[NeMo I 2022-05-26 06:15:16 wer_bpe:212] \n",
      "    \n",
      "[NeMo I 2022-05-26 06:15:16 wer_bpe:213] reference:rubout y y f x zero\n",
      "[NeMo I 2022-05-26 06:15:16 wer_bpe:214] predicted:\n",
      "[NeMo I 2022-05-26 06:15:17 wer_bpe:212] \n",
      "    \n",
      "[NeMo I 2022-05-26 06:15:17 wer_bpe:213] reference:c o n n e l l y\n",
      "[NeMo I 2022-05-26 06:15:17 wer_bpe:214] predicted:\n",
      "[NeMo I 2022-05-26 06:15:17 wer_bpe:212] \n",
      "    \n",
      "[NeMo I 2022-05-26 06:15:17 wer_bpe:213] reference:p i t t s b u r g h\n",
      "[NeMo I 2022-05-26 06:15:17 wer_bpe:214] predicted:eighty eighty eighty eighty eighty eighty eighty eighty eighty eighty eighty eighty eighty eighty eighty eighty eighty eighty eighty eighty eighty\n",
      "[NeMo I 2022-05-26 06:15:17 wer_bpe:212] \n",
      "    \n",
      "[NeMo I 2022-05-26 06:15:17 wer_bpe:213] reference:may twenty first nineteen sixty\n",
      "[NeMo I 2022-05-26 06:15:17 wer_bpe:214] predicted:one one one one one\n",
      "[NeMo I 2022-05-26 06:15:17 wer_bpe:212] \n",
      "    \n",
      "[NeMo I 2022-05-26 06:15:17 wer_bpe:213] reference:enter five\n",
      "[NeMo I 2022-05-26 06:15:17 wer_bpe:214] predicted:thirty thirty thirty\n",
      "[NeMo I 2022-05-26 06:15:17 wer_bpe:212] \n",
      "    \n",
      "[NeMo I 2022-05-26 06:15:17 wer_bpe:213] reference:rubout f m q n h three seventy\n",
      "[NeMo I 2022-05-26 06:15:17 wer_bpe:214] predicted:a oh a\n",
      "[NeMo I 2022-05-26 06:15:17 wer_bpe:212] \n",
      "    \n",
      "[NeMo I 2022-05-26 06:15:17 wer_bpe:213] reference:one thousand\n",
      "[NeMo I 2022-05-26 06:15:17 wer_bpe:214] predicted:r u r u r u r\n"
     ]
    },
    {
     "name": "stdout",
     "output_type": "stream",
     "text": [
      "[NeMo I 2022-05-26 06:15:17 wer_bpe:212] \n",
      "    \n",
      "[NeMo I 2022-05-26 06:15:17 wer_bpe:213] reference:two oh one four six four six oh eight three\n",
      "[NeMo I 2022-05-26 06:15:17 wer_bpe:214] predicted:seventy m m seventy m m seventy seventy seventy m m six seventy seventy seventy m seventy seventy m seventy m seventy seventy seventy m seventy m\n",
      "[NeMo I 2022-05-26 06:15:17 wer_bpe:212] \n",
      "    \n",
      "[NeMo I 2022-05-26 06:15:17 wer_bpe:213] reference:repeat\n",
      "[NeMo I 2022-05-26 06:15:17 wer_bpe:214] predicted:\n",
      "[NeMo I 2022-05-26 06:15:18 wer_bpe:212] \n",
      "    \n",
      "[NeMo I 2022-05-26 06:15:18 wer_bpe:213] reference:m a r g a r e t\n",
      "[NeMo I 2022-05-26 06:15:18 wer_bpe:214] predicted:\n",
      "[NeMo I 2022-05-26 06:15:18 wer_bpe:212] \n",
      "    \n",
      "[NeMo I 2022-05-26 06:15:18 wer_bpe:213] reference:march twentieth nineteen seventy\n",
      "[NeMo I 2022-05-26 06:15:18 wer_bpe:214] predicted:i\n",
      "[NeMo I 2022-05-26 06:15:18 wer_bpe:212] \n",
      "    \n",
      "[NeMo I 2022-05-26 06:15:18 wer_bpe:213] reference:january fifteenth nineteen sixty three\n",
      "[NeMo I 2022-05-26 06:15:18 wer_bpe:214] predicted:nineteen i nineteen i nineteen nineteen i nineteen i i i nineteen i nineteen i nineteen i i i nineteen nineteen i nineteen nineteen nineteen i nineteen i nineteen i nineteen i nineteen i i nineteen nineteen i\n",
      "conformer_transducer\n",
      "[NeMo I 2022-05-26 06:15:18 mixins:165] Tokenizer SentencePieceTokenizer initialized with 339 tokens\n",
      "[NeMo I 2022-05-26 06:15:19 collections:186] Dataset loaded with 200 files totalling 0.16 hours\n",
      "[NeMo I 2022-05-26 06:15:19 collections:187] 0 files were filtered totalling 0.00 hours\n",
      "[NeMo I 2022-05-26 06:15:19 collections:186] Dataset loaded with 130 files totalling 0.10 hours\n",
      "[NeMo I 2022-05-26 06:15:19 collections:187] 0 files were filtered totalling 0.00 hours\n"
     ]
    },
    {
     "name": "stderr",
     "output_type": "stream",
     "text": [
      "[NeMo W 2022-05-26 06:15:19 rnnt_bpe_models:410] Could not load dataset as `manifest_filepath` was None. Provided config : {'manifest_filepath': None, 'sample_rate': 22050, 'batch_size': 16, 'shuffle': False, 'num_workers': 8, 'pin_memory': True, 'use_start_end_token': False}\n"
     ]
    },
    {
     "name": "stdout",
     "output_type": "stream",
     "text": [
      "[NeMo I 2022-05-26 06:15:19 features:259] PADDING: 0\n",
      "[NeMo I 2022-05-26 06:15:19 features:276] STFT using torch\n"
     ]
    },
    {
     "name": "stderr",
     "output_type": "stream",
     "text": [
      "[NeMo W 2022-05-26 06:15:19 nemo_logging:349] /media/boris/F/anaconda3/envs/nemo/lib/python3.9/site-packages/torch/nn/modules/rnn.py:62: UserWarning: dropout option adds dropout after all but last recurrent layer, so non-zero dropout expects num_layers greater than 1, but got dropout=0.1 and num_layers=1\n",
      "      warnings.warn(\"dropout option adds dropout after all but last \"\n",
      "    \n"
     ]
    },
    {
     "name": "stdout",
     "output_type": "stream",
     "text": [
      "[NeMo I 2022-05-26 06:15:19 rnnt_models:210] Using RNNT Loss : warprnnt_numba\n",
      "    Loss warprnnt_numba_kwargs: {'fastemit_lambda': 0.0, 'clamp': -1.0}\n"
     ]
    },
    {
     "name": "stderr",
     "output_type": "stream",
     "text": [
      "GPU available: True, used: True\n",
      "TPU available: False, using: 0 TPU cores\n",
      "IPU available: False, using: 0 IPUs\n",
      "HPU available: False, using: 0 HPUs\n",
      "LOCAL_RANK: 0 - CUDA_VISIBLE_DEVICES: [0]\n",
      "[NeMo W 2022-05-26 06:15:19 modelPT:475] Trainer wasn't specified in model constructor. Make sure that you really wanted it.\n"
     ]
    },
    {
     "name": "stdout",
     "output_type": "stream",
     "text": [
      "[NeMo I 2022-05-26 06:15:19 modelPT:587] Optimizer config = AdamW (\n",
      "    Parameter Group 0\n",
      "        amsgrad: False\n",
      "        betas: [0.9, 0.98]\n",
      "        eps: 1e-08\n",
      "        foreach: None\n",
      "        lr: 0.05\n",
      "        maximize: False\n",
      "        weight_decay: 0.0\n",
      "    )\n"
     ]
    },
    {
     "name": "stderr",
     "output_type": "stream",
     "text": [
      "[NeMo W 2022-05-26 06:15:19 lr_scheduler:816] Neither `max_steps` nor `iters_per_batch` were provided to `optim.sched`, cannot compute effective `max_steps` !\n",
      "    Scheduler will not be instantiated !\n",
      "\n",
      "  | Name              | Type                              | Params\n",
      "------------------------------------------------------------------------\n",
      "0 | preprocessor      | AudioToMelSpectrogramPreprocessor | 0     \n",
      "1 | encoder           | ConformerEncoder                  | 13.0 M\n",
      "2 | decoder           | RNNTDecoder                       | 930 K \n",
      "3 | joint             | RNNTJoint                         | 268 K \n",
      "4 | loss              | RNNTLoss                          | 0     \n",
      "5 | spec_augmentation | SpectrogramAugmentation           | 0     \n",
      "6 | wer               | RNNTBPEWER                        | 0     \n",
      "------------------------------------------------------------------------\n",
      "14.2 M    Trainable params\n",
      "0         Non-trainable params\n",
      "14.2 M    Total params\n",
      "56.687    Total estimated model params size (MB)\n"
     ]
    },
    {
     "data": {
      "application/vnd.jupyter.widget-view+json": {
       "model_id": "44e0cf55e1924754954012f81a5253fb",
       "version_major": 2,
       "version_minor": 0
      },
      "text/plain": [
       "Sanity Checking: 0it [00:00, ?it/s]"
      ]
     },
     "metadata": {},
     "output_type": "display_data"
    },
    {
     "name": "stderr",
     "output_type": "stream",
     "text": [
      "[NeMo W 2022-05-26 06:15:21 nemo_logging:349] /media/boris/F/anaconda3/envs/nemo/lib/python3.9/site-packages/pytorch_lightning/trainer/trainer.py:724: UserWarning: Detected KeyboardInterrupt, attempting graceful shutdown...\n",
      "      rank_zero_warn(\"Detected KeyboardInterrupt, attempting graceful shutdown...\")\n",
      "    \n"
     ]
    },
    {
     "name": "stdout",
     "output_type": "stream",
     "text": [
      "lstm_transducer_bpe\n",
      "[NeMo I 2022-05-26 06:15:21 mixins:165] Tokenizer SentencePieceTokenizer initialized with 339 tokens\n",
      "[NeMo I 2022-05-26 06:15:21 collections:186] Dataset loaded with 200 files totalling 0.16 hours\n",
      "[NeMo I 2022-05-26 06:15:21 collections:187] 0 files were filtered totalling 0.00 hours\n",
      "[NeMo I 2022-05-26 06:15:21 collections:186] Dataset loaded with 130 files totalling 0.10 hours\n",
      "[NeMo I 2022-05-26 06:15:21 collections:187] 0 files were filtered totalling 0.00 hours\n"
     ]
    },
    {
     "name": "stderr",
     "output_type": "stream",
     "text": [
      "[NeMo W 2022-05-26 06:15:21 rnnt_bpe_models:410] Could not load dataset as `manifest_filepath` was None. Provided config : {'manifest_filepath': None, 'sample_rate': 22050, 'batch_size': 16, 'shuffle': False, 'num_workers': 4, 'pin_memory': True, 'use_start_end_token': False}\n"
     ]
    },
    {
     "name": "stdout",
     "output_type": "stream",
     "text": [
      "[NeMo I 2022-05-26 06:15:21 features:259] PADDING: 0\n",
      "[NeMo I 2022-05-26 06:15:21 features:276] STFT using torch\n",
      "[NeMo I 2022-05-26 06:15:22 rnnt_models:210] Using RNNT Loss : warprnnt_numba\n",
      "    Loss warprnnt_numba_kwargs: {'fastemit_lambda': 0.0}\n"
     ]
    },
    {
     "name": "stderr",
     "output_type": "stream",
     "text": [
      "GPU available: True, used: True\n",
      "TPU available: False, using: 0 TPU cores\n",
      "IPU available: False, using: 0 IPUs\n",
      "HPU available: False, using: 0 HPUs\n",
      "LOCAL_RANK: 0 - CUDA_VISIBLE_DEVICES: [0]\n",
      "[NeMo W 2022-05-26 06:15:22 modelPT:475] Trainer wasn't specified in model constructor. Make sure that you really wanted it.\n"
     ]
    },
    {
     "name": "stdout",
     "output_type": "stream",
     "text": [
      "[NeMo I 2022-05-26 06:15:22 modelPT:587] Optimizer config = AdamW (\n",
      "    Parameter Group 0\n",
      "        amsgrad: False\n",
      "        betas: [0.9, 0.98]\n",
      "        eps: 1e-08\n",
      "        foreach: None\n",
      "        lr: 5.0\n",
      "        maximize: False\n",
      "        weight_decay: 0.01\n",
      "    )\n"
     ]
    },
    {
     "name": "stderr",
     "output_type": "stream",
     "text": [
      "[NeMo W 2022-05-26 06:15:22 lr_scheduler:816] Neither `max_steps` nor `iters_per_batch` were provided to `optim.sched`, cannot compute effective `max_steps` !\n",
      "    Scheduler will not be instantiated !\n",
      "\n",
      "  | Name              | Type                              | Params\n",
      "------------------------------------------------------------------------\n",
      "0 | preprocessor      | AudioToMelSpectrogramPreprocessor | 0     \n",
      "1 | encoder           | RNNEncoder                        | 34.3 M\n",
      "2 | decoder           | RNNTDecoder                       | 11.9 M\n",
      "3 | joint             | RNNTJoint                         | 314 K \n",
      "4 | loss              | RNNTLoss                          | 0     \n",
      "5 | spec_augmentation | SpectrogramAugmentation           | 0     \n",
      "6 | wer               | RNNTBPEWER                        | 0     \n",
      "------------------------------------------------------------------------\n",
      "46.6 M    Trainable params\n",
      "0         Non-trainable params\n",
      "46.6 M    Total params\n",
      "186.281   Total estimated model params size (MB)\n"
     ]
    },
    {
     "data": {
      "application/vnd.jupyter.widget-view+json": {
       "model_id": "",
       "version_major": 2,
       "version_minor": 0
      },
      "text/plain": [
       "Sanity Checking: 0it [00:00, ?it/s]"
      ]
     },
     "metadata": {},
     "output_type": "display_data"
    },
    {
     "name": "stdout",
     "output_type": "stream",
     "text": [
      "[NeMo I 2022-05-26 06:15:23 rnnt_wer_bpe:231] \n",
      "    \n",
      "[NeMo I 2022-05-26 06:15:23 rnnt_wer_bpe:232] reference :rubout g m e f three nine\n",
      "[NeMo I 2022-05-26 06:15:23 rnnt_wer_bpe:233] predicted :b b b b b b b b b b b b b b b b b b b b b b b b b b b b b b b b b b b b b b b b b b b b b b b b b b five five five five five five five five five five five five five five five five five five five five five five five five five five five five five five hundred hundred hundred hundred hundred hundred hundred hundred hundred hundred hundred hundred hundred hundred hundred hundred hundred hundred hundred hundred hundred hundred hundred hundred hundred hundred hundred hundred hundred hundred hundred hundred hundred hundred hundred hundred hundred hundred hundred hundred hundred hundred hundred hundred hundred hundred hundred hundred hundred hundredeptembereptembereptembereptembereptembereptembereptembereptembereptembereptember s s s s s s s s s s s s s s s s s s s s s s s s s s s s s s s s s s s s s s s s s s s s s s s s s s s s s s s s s s s s u u u u u u u u u u u u u u u u u u u u u u u u u u u u u u h h h h h h h h h h h h h h h h h h h h h h h h h h h h h h b b b b b b b b b b b b b b b b b b b b b b b b b b b b b b mar mar mar mar mar mar mar mar mar mar mar mar mar mar mar mar mar mar mar marrrrrrrrrrrrrrrrrrrrrrrrrrrrrrr sept sept sept sept sept sept sept sept sept sept sept sept sept sept sept sept sept sept sept sept sept sept sept sept sept sept sept sept sept sept sept sept sept sept sept sept sept sept sept sept sept sept sept sept sept sept sept sept sept sept sept sept sept sept sept sept sept sept sept sept sept sept sept sept sept sept sept sept sept sept sept sept sept sept sept sept sept sept sept sept sept sept sept sept sept sept sept sept sept sept sept sept sept sept sept sept sept sept sept septwewewewewewe septweweweerererererererererererererererererererer hundred hundredweweweweweweweweiiiiiiiiiiiiiiiiiiiiiiiiiiiiiiiriririririririririririririririririririririririririririririririririririririririririririririririririririririririririririririririririririririririririririririririr w w w w w w w w w wwewewewewewewewewewewewewewewewewewewewewewewewewewewewewewe sept sept sept sept sept sept sept sept sept sept sept sept sept sept sept sept sept sept sept sept sept sept sept sept sept sept sept sept sept sept sept sept sept sept sept sept sept sept sept sept sept sept sept sept sept sept sept sept sept septeptemeptemeptemeptemeptemeptemeptemeptemeptemeptemeptemeptemeptemeptemeptemeptemeptemeptemeptemeptemeptemeptemeptemeptemeptemeptemeptemeptemeptemeptemeptemeptemeptemeptemeptemeptemeptemeptemeptemeptemeptemeptemeptemeptemeptemeptemeptemeptemeptemeptemeptemeptemeptemeptemeptemeptemeptemeptemeptemeptemeptemeptemeptemeptemeptemeptemeptemeptemeptemeptemeptemeptemeptemeptemeptemeptemeptemeptemeptemeptemeptemeptemeptemeptemeptemeptemeptemeptemeptemeptemeptemeptemeptemeptemeptemeptemeptemeptemeptemeptemeptemeptemeptemeptemeptemeptemeptemeptemeptemeptemeptemeptemeptemeptemeptemeptemeptemeptemeptemeptemeptemeptemeptemeptemeptemeptemeptemeptemeptemeptemeptemeptemeptemeptemeptemeptemeptemeptemeptemeptemeptemeptemeptemeptemeptemeptemeptemeptemeptemeptem on on on on on on on on on on on on on on on on on on on on on on on on on on on on on on on on on on on on on on on on twentieth twentieth twentieth twentieth twentieth twentieth twentieth twentieth twentieth twentieth twentieth twentieth twentieth twentieth twentieth twentieth twentieth twentieth twentieth twentieth twentieth twentieth twentieth twentieth twentieth twentieth twentieth twentieth twentieth twentieth twentieth twentieth twentieth twentieth twentieth twentieth twentieth twentieth twentieth twentieth b b b b b b b twentieth twentieth b q q q q q q q q q qiriririririririririririririririririririr qiririririririririr q q q q q q q q q q zer zer zer zer zer zer zer zer zer zer zer zer zer zer zer zer zer zer zer zer zer zer zer zer zer zer zer zer zer zer\n",
      "[NeMo I 2022-05-26 06:15:24 rnnt_wer_bpe:231] \n",
      "    \n",
      "[NeMo I 2022-05-26 06:15:24 rnnt_wer_bpe:232] reference :rubout n i m n one\n",
      "[NeMo I 2022-05-26 06:15:24 rnnt_wer_bpe:233] predicted :mbermbermbermbermbermbermbermbermbermbermbermbermbermbermbermbermbermbermbermbermbermbermbermbermbermbermbermbermbermbermbermbermbermbermbermbermbermbermbermbermbermbermbermbermbermbermbermbermbermber june june june june june june june june june june june june june june june june june june june junehouhouhouhouhouhou twenty twenty twenty twentyhouhouhouhouhouhouhouhouhouhou twenty twenty twenty twenty twenty twenty twenty twenty twenty twenty hundred hundred hundred hundred hundred hundred hundred hundred hundred hundred hundred hundred hundred hundred hundred hundred hundred hundred hundred hundred sept sept sept sept sept sept sept sept sept sept sept sept sept sept sept sept sept sept sept septeptembereptembereptembereptembereptembereptembereptembereptembereptembereptembereptembereptembereptembereptembereptembereptembereptembereptembereptembereptember twentieth twentieth twentieth twentieth twentieth twentieth twentieth twentieth twentieth twentieth twentieth twentieth twentieth twentieth twentieth twentieth twentieth twentieth twentieth twentieth twentieth twentieth twentieth twentieth twentieth twentieth twentieth twentieth twentieth twentieth twentieth twentieth twentieth twentieth twentieth twentieth twentieth twentieth twentieth twentiethsesesesesesesesesesesesesesesesesesesese q q q q q q q q q q q q q q q q q q q q q q q q q q q q q q q q q q q q q q q q x x x x x x x x x x x x x x x x x x x x x x x x x x x x x x q q q q q q q q q qvevevevevevevevevevegogogogogogogogogogogogogogogogogogogogo sept sept sept sept sept sept sept sept sept sept sept sept sept sept sept sept sept sept sept sept sept sept sept sept sept sept sept sept sept sept twentieth twentieth twentieth twentieth twentieth twentieth twentieth twentieth twentieth twentieth twentieth twentieth twentieth twentieth twentieth twentieth twentieth twentieth twentieth twentieth twentieth twentieth twentieth twentieth twentieth twentieth twentieth twentieth twentieth twentieth twentieth twentieth twentieth twentieth twentieth twentieth twentieth twentieth twentieth twentieth twentieth twentieth twentieth twentieth twentieth twentieth twentieth twentieth twentieth twentieth twentieth twentieth twentieth twentieth twentieth twentieth twentieth twentieth twentieth twentieth twentieth twentieth twentieth twentieth twentieth twentieth twentieth twentieth twentieth twentieth sept sept sept sept sept sept sept sept sept sept sept sept sept sept sept sept sept sept sept sept sept sept sept sept sept sept sept sept sept sept sept sept sept sept sept sept sept sept sept sept sept sept sept sept sept sept sept sept sept sept sept sept sept sept sept sept sept sept sept sept sept sept sept sept sept sept sept sept sept sept sept sept sept sept sept sept sept sept sept sept sept sept sept sept sept sept sept sept sept sept sept sept sept sept sept sept sept sept sept sept sept sept sept sept sept sept sept sept sept sept sept sept sept sept sept sept sept sept sept sept sept sept sept sept sept sept sept sept sept sept sept sept sept sept sept sept sept sept sept septererererererererererererererererererereririririririririririririririririririririrerererererererererererererererererererererererererererererererererererererererereventeventeventeventeventeventeventeventeventeventiriririririririririririririririririririririririririririririririririririririririrxtxtxtxtxtxtxtxtxtxtxtxtxtxtxtxtxtxtxtxtsasasasasasasasasasasasasasasasasasasasa         june june june june june june june june june june june june june june june june june june june june june junegogogogogogogogogobougogogogogogogogogogogogogogogogogogogogoinininininininininin q q q q q q q q q q q q q q q q q q q q q q q q q q q q q q q q q q q q q q q q q q q q q q q q q q q q q q q q q q q qmbermbermbermbermbermbermbermbermbermbermbermbermbermbermbermbermbermbermbermbermbermbermbermbermbermbermbermbermbermbermbermbermbermbermbermbermbermbermbermber\n"
     ]
    },
    {
     "data": {
      "application/vnd.jupyter.widget-view+json": {
       "model_id": "5e9add1e808f457d869721e3523df086",
       "version_major": 2,
       "version_minor": 0
      },
      "text/plain": [
       "Training: 0it [00:00, ?it/s]"
      ]
     },
     "metadata": {},
     "output_type": "display_data"
    },
    {
     "name": "stdout",
     "output_type": "stream",
     "text": [
      "lstm_ctc_bpe\n",
      "[NeMo I 2022-05-26 06:15:24 mixins:165] Tokenizer SentencePieceTokenizer initialized with 339 tokens\n",
      "[NeMo I 2022-05-26 06:15:24 ctc_bpe_models:246] \n",
      "    Replacing placeholder number of classes (-1) with actual number of classes - 339\n",
      "[NeMo I 2022-05-26 06:15:24 collections:186] Dataset loaded with 200 files totalling 0.16 hours\n",
      "[NeMo I 2022-05-26 06:15:24 collections:187] 0 files were filtered totalling 0.00 hours\n"
     ]
    },
    {
     "name": "stderr",
     "output_type": "stream",
     "text": [
      "Exception ignored in: <function WeakSet.__init__.<locals>._remove at 0x7fc3c5093820>\n",
      "Traceback (most recent call last):\n",
      "  File \"/media/boris/F/anaconda3/envs/nemo/lib/python3.9/_weakrefset.py\", line 39, in _remove\n",
      "    def _remove(item, selfref=ref(self)):\n",
      "KeyboardInterrupt: \n",
      "\n",
      "KeyboardInterrupt\n",
      "\n"
     ]
    }
   ],
   "source": [
    "for model_name in models:\n",
    "    print(model_name)\n",
    "    config_path = models[model_name]['config_path']\n",
    "    with open(config_path) as f:\n",
    "        config = yaml.load(f)\n",
    "    \n",
    "    model = models[model_name]['class'].from_config_dict(DictConfig(config['model']))\n",
    "    \n",
    "    callback = PrintTableMetricsCallback()\n",
    "\n",
    "    trainer = pl.Trainer(devices=1, accelerator='gpu', max_epochs=1, check_val_every_n_epoch=5,\n",
    "                         callbacks=[callback])\n",
    "    trainer.fit(model)"
   ]
  },
  {
   "cell_type": "code",
   "execution_count": null,
   "id": "1e502002",
   "metadata": {},
   "outputs": [],
   "source": [
    "def flip_batch(batch):\n",
    "    new_batch = torch.clone(batch[0]), torch.clone(batch[1]), torch.clone(batch[2]), torch.clone(batch[3])\n",
    "    for i in range(len(new_batch)):\n",
    "        try:\n",
    "            for j in range(len(new_batch[i])):\n",
    "                new_batch[i][j] = torch.flip(new_batch[i][j], dims=[0])\n",
    "        except Exception:\n",
    "            pass\n",
    "    return new_batch"
   ]
  },
  {
   "cell_type": "code",
   "execution_count": null,
   "id": "7ff3588b",
   "metadata": {},
   "outputs": [],
   "source": [
    "class EncDecCTCModelBPE_extended(nemo_asr.models.EncDecCTCModelBPE):\n",
    "    def __init__(self, cfg: DictConfig, trainer=None, corruption_prob=0):\n",
    "        super().__init__(cfg=cfg, trainer=trainer)\n",
    "        self.corruption_prob = corruption_prob\n",
    "        \n",
    "    def training_step(self, batch, batch_idx):\n",
    "    \n",
    "        ### Biderectional sequence modeling\n",
    "        flipped_batch = flip_batch(batch)\n",
    "    \n",
    "        new_batch = []\n",
    "\n",
    "        new_batch.append(torch.vstack((batch[0], flipped_batch[0])))\n",
    "        new_batch.append(torch.hstack((batch[1], flipped_batch[1])))\n",
    "        new_batch.append(torch.vstack((batch[2], flipped_batch[2])))\n",
    "        new_batch.append(torch.hstack((batch[3], flipped_batch[3])))\n",
    "        batch = new_batch\n",
    "        \n",
    "        ###\n",
    "        \n",
    "        return super().training_step(batch, batch_idx)\n",
    "    \n",
    "    def forward(\n",
    "        self, input_signal=None, input_signal_length=None, processed_signal=None, processed_signal_length=None\n",
    "    ):\n",
    "        \n",
    "        processed_signal, processed_signal_length = self.preprocessor(\n",
    "            input_signal=input_signal, length=input_signal_length,\n",
    "        )\n",
    "        \n",
    "        ### Denoising auto-encoder\n",
    "        for i in range(processed_signal.shape[0]):\n",
    "            if i // 2:\n",
    "                corruption = np.random.choice([0,1], (processed_signal[i].shape[0], processed_signal[i].shape[1]),\n",
    "                                              p=[self.corruption_prob, 1 - self.corruption_prob])\n",
    "                processed_signal[i] = processed_signal[i].cpu() * corruption\n",
    "                processed_signal[i].cuda()\n",
    "        \n",
    "        ###\n",
    "        \n",
    "        encoded, encoded_len = self.encoder(audio_signal=processed_signal, length=processed_signal_length)\n",
    "        log_probs = self.decoder(encoder_output=encoded)\n",
    "        greedy_predictions = log_probs.argmax(dim=-1, keepdim=False)\n",
    "\n",
    "        return log_probs, encoded_len, greedy_predictions\n",
    "    "
   ]
  },
  {
   "cell_type": "code",
   "execution_count": null,
   "id": "416db2ef",
   "metadata": {
    "scrolled": false
   },
   "outputs": [],
   "source": [
    "figure(figsize=(8, 5), dpi=160)\n",
    "\n",
    "for model_name in models:\n",
    "    res = pd.read_csv(root_dir + f'experiment_results/{model_name}_200_paired.csv')\n",
    "    res['Value'].rolling(10, win_type='gaussian').mean(std=5).plot(label=f'{model_name}_200_paired')\n",
    "\n",
    "plt.legend(loc=\"upper right\")\n",
    "plt.ylabel('cer')\n",
    "plt.xlabel('validation step')"
   ]
  },
  {
   "cell_type": "code",
   "execution_count": 8,
   "id": "fc0d21a5",
   "metadata": {
    "scrolled": true
   },
   "outputs": [
    {
     "name": "stdout",
     "output_type": "stream",
     "text": [
      "carnelinet\n",
      "[NeMo I 2022-05-24 01:23:58 mixins:165] Tokenizer SentencePieceTokenizer initialized with 339 tokens\n",
      "[NeMo I 2022-05-24 01:23:58 ctc_bpe_models:246] \n",
      "    Replacing placeholder number of classes (-1) with actual number of classes - 339\n",
      "[NeMo I 2022-05-24 01:23:58 collections:186] Dataset loaded with 200 files totalling 0.16 hours\n",
      "[NeMo I 2022-05-24 01:23:58 collections:187] 0 files were filtered totalling 0.00 hours\n",
      "[NeMo I 2022-05-24 01:23:58 collections:186] Dataset loaded with 130 files totalling 0.10 hours\n",
      "[NeMo I 2022-05-24 01:23:58 collections:187] 0 files were filtered totalling 0.00 hours\n"
     ]
    },
    {
     "name": "stderr",
     "output_type": "stream",
     "text": [
      "[NeMo W 2022-05-24 01:23:58 ctc_bpe_models:309] Could not load dataset as `manifest_filepath` was None. Provided config : {'manifest_filepath': None, 'sample_rate': 22050, 'batch_size': 32, 'shuffle': False, 'use_start_end_token': False}\n"
     ]
    },
    {
     "name": "stdout",
     "output_type": "stream",
     "text": [
      "[NeMo I 2022-05-24 01:23:58 features:259] PADDING: 16\n",
      "[NeMo I 2022-05-24 01:23:58 features:276] STFT using torch\n"
     ]
    },
    {
     "name": "stderr",
     "output_type": "stream",
     "text": [
      "GPU available: True, used: True\n",
      "TPU available: False, using: 0 TPU cores\n",
      "IPU available: False, using: 0 IPUs\n",
      "HPU available: False, using: 0 HPUs\n",
      "[NeMo W 2022-05-24 01:23:58 nemo_logging:349] /media/boris/F/anaconda3/envs/nemo/lib/python3.9/site-packages/pytorch_lightning/trainer/configuration_validator.py:385: LightningDeprecationWarning: The `Callback.on_epoch_end` hook was deprecated in v1.6 and will be removed in v1.8. Please use `Callback.on_<train/validation/test>_epoch_end` instead.\n",
      "      rank_zero_deprecation(\n",
      "    \n",
      "LOCAL_RANK: 0 - CUDA_VISIBLE_DEVICES: [0]\n",
      "[NeMo W 2022-05-24 01:23:59 modelPT:475] Trainer wasn't specified in model constructor. Make sure that you really wanted it.\n"
     ]
    },
    {
     "name": "stdout",
     "output_type": "stream",
     "text": [
      "[NeMo I 2022-05-24 01:23:59 modelPT:587] Optimizer config = Novograd (\n",
      "    Parameter Group 0\n",
      "        amsgrad: False\n",
      "        betas: [0.8, 0.25]\n",
      "        eps: 1e-08\n",
      "        grad_averaging: False\n",
      "        lr: 0.1\n",
      "        weight_decay: 0.001\n",
      "    )\n"
     ]
    },
    {
     "name": "stderr",
     "output_type": "stream",
     "text": [
      "[NeMo W 2022-05-24 01:23:59 lr_scheduler:816] Neither `max_steps` nor `iters_per_batch` were provided to `optim.sched`, cannot compute effective `max_steps` !\n",
      "    Scheduler will not be instantiated !\n",
      "\n",
      "  | Name              | Type                              | Params\n",
      "------------------------------------------------------------------------\n",
      "0 | preprocessor      | AudioToMelSpectrogramPreprocessor | 0     \n",
      "1 | encoder           | ParallelConvASREncoder            | 7.5 M \n",
      "2 | decoder           | ConvASRDecoder                    | 217 K \n",
      "3 | loss              | CTCLoss                           | 0     \n",
      "4 | spec_augmentation | SpectrogramAugmentation           | 0     \n",
      "5 | _wer              | WERBPE                            | 0     \n",
      "------------------------------------------------------------------------\n",
      "7.7 M     Trainable params\n",
      "0         Non-trainable params\n",
      "7.7 M     Total params\n",
      "30.902    Total estimated model params size (MB)\n"
     ]
    },
    {
     "data": {
      "application/vnd.jupyter.widget-view+json": {
       "model_id": "",
       "version_major": 2,
       "version_minor": 0
      },
      "text/plain": [
       "Sanity Checking: 0it [00:00, ?it/s]"
      ]
     },
     "metadata": {},
     "output_type": "display_data"
    },
    {
     "name": "stderr",
     "output_type": "stream",
     "text": [
      "[NeMo W 2022-05-24 01:23:59 nemo_logging:349] /media/boris/F/anaconda3/envs/nemo/lib/python3.9/site-packages/pytorch_lightning/trainer/connectors/data_connector.py:240: PossibleUserWarning: The dataloader, val_dataloader 0, does not have many workers which may be a bottleneck. Consider increasing the value of the `num_workers` argument` (try 24 which is the number of cpus on this machine) in the `DataLoader` init to improve performance.\n",
      "      rank_zero_warn(\n",
      "    \n",
      "[NeMo W 2022-05-24 01:24:01 nemo_logging:349] /media/boris/F/anaconda3/envs/nemo/lib/python3.9/site-packages/pytorch_lightning/trainer/connectors/data_connector.py:240: PossibleUserWarning: The dataloader, train_dataloader, does not have many workers which may be a bottleneck. Consider increasing the value of the `num_workers` argument` (try 24 which is the number of cpus on this machine) in the `DataLoader` init to improve performance.\n",
      "      rank_zero_warn(\n",
      "    \n",
      "[NeMo W 2022-05-24 01:24:01 nemo_logging:349] /media/boris/F/anaconda3/envs/nemo/lib/python3.9/site-packages/pytorch_lightning/trainer/trainer.py:1927: PossibleUserWarning: The number of training batches (7) is smaller than the logging interval Trainer(log_every_n_steps=50). Set a lower value for log_every_n_steps if you want to see logs for the training epoch.\n",
      "      rank_zero_warn(\n",
      "    \n"
     ]
    },
    {
     "data": {
      "application/vnd.jupyter.widget-view+json": {
       "model_id": "90c2deefbf6d484dad1006b86e184283",
       "version_major": 2,
       "version_minor": 0
      },
      "text/plain": [
       "Training: 0it [00:00, ?it/s]"
      ]
     },
     "metadata": {},
     "output_type": "display_data"
    },
    {
     "data": {
      "application/vnd.jupyter.widget-view+json": {
       "model_id": "",
       "version_major": 2,
       "version_minor": 0
      },
      "text/plain": [
       "Validation: 0it [00:00, ?it/s]"
      ]
     },
     "metadata": {},
     "output_type": "display_data"
    },
    {
     "name": "stderr",
     "output_type": "stream",
     "text": [
      "[NeMo W 2022-05-24 01:24:55 nemo_logging:349] /media/boris/F/anaconda3/envs/nemo/lib/python3.9/site-packages/torch/nn/modules/module.py:1385: UserWarning: positional arguments and argument \"destination\" are deprecated. nn.Module.state_dict will not accept them in the future. Refer to https://pytorch.org/docs/master/generated/torch.nn.Module.html#torch.nn.Module.state_dict for details.\n",
      "      warnings.warn(\n",
      "    \n",
      "[NeMo W 2022-05-24 01:24:55 nemo_logging:349] /media/boris/F/anaconda3/envs/nemo/lib/python3.9/site-packages/torch/nn/modules/module.py:1385: UserWarning: argument \"destination\" are deprecated. nn.Module.state_dict will not accept them in the future. Refer to https://pytorch.org/docs/master/generated/torch.nn.Module.html#torch.nn.Module.state_dict for details.\n",
      "      warnings.warn(\n",
      "    \n"
     ]
    },
    {
     "data": {
      "application/vnd.jupyter.widget-view+json": {
       "model_id": "",
       "version_major": 2,
       "version_minor": 0
      },
      "text/plain": [
       "Validation: 0it [00:00, ?it/s]"
      ]
     },
     "metadata": {},
     "output_type": "display_data"
    },
    {
     "data": {
      "application/vnd.jupyter.widget-view+json": {
       "model_id": "",
       "version_major": 2,
       "version_minor": 0
      },
      "text/plain": [
       "Validation: 0it [00:00, ?it/s]"
      ]
     },
     "metadata": {},
     "output_type": "display_data"
    },
    {
     "data": {
      "application/vnd.jupyter.widget-view+json": {
       "model_id": "",
       "version_major": 2,
       "version_minor": 0
      },
      "text/plain": [
       "Validation: 0it [00:00, ?it/s]"
      ]
     },
     "metadata": {},
     "output_type": "display_data"
    },
    {
     "data": {
      "application/vnd.jupyter.widget-view+json": {
       "model_id": "",
       "version_major": 2,
       "version_minor": 0
      },
      "text/plain": [
       "Validation: 0it [00:00, ?it/s]"
      ]
     },
     "metadata": {},
     "output_type": "display_data"
    },
    {
     "data": {
      "application/vnd.jupyter.widget-view+json": {
       "model_id": "",
       "version_major": 2,
       "version_minor": 0
      },
      "text/plain": [
       "Validation: 0it [00:00, ?it/s]"
      ]
     },
     "metadata": {},
     "output_type": "display_data"
    },
    {
     "data": {
      "application/vnd.jupyter.widget-view+json": {
       "model_id": "",
       "version_major": 2,
       "version_minor": 0
      },
      "text/plain": [
       "Validation: 0it [00:00, ?it/s]"
      ]
     },
     "metadata": {},
     "output_type": "display_data"
    },
    {
     "data": {
      "application/vnd.jupyter.widget-view+json": {
       "model_id": "",
       "version_major": 2,
       "version_minor": 0
      },
      "text/plain": [
       "Validation: 0it [00:00, ?it/s]"
      ]
     },
     "metadata": {},
     "output_type": "display_data"
    },
    {
     "data": {
      "application/vnd.jupyter.widget-view+json": {
       "model_id": "",
       "version_major": 2,
       "version_minor": 0
      },
      "text/plain": [
       "Validation: 0it [00:00, ?it/s]"
      ]
     },
     "metadata": {},
     "output_type": "display_data"
    },
    {
     "data": {
      "application/vnd.jupyter.widget-view+json": {
       "model_id": "",
       "version_major": 2,
       "version_minor": 0
      },
      "text/plain": [
       "Validation: 0it [00:00, ?it/s]"
      ]
     },
     "metadata": {},
     "output_type": "display_data"
    },
    {
     "data": {
      "application/vnd.jupyter.widget-view+json": {
       "model_id": "",
       "version_major": 2,
       "version_minor": 0
      },
      "text/plain": [
       "Validation: 0it [00:00, ?it/s]"
      ]
     },
     "metadata": {},
     "output_type": "display_data"
    },
    {
     "data": {
      "application/vnd.jupyter.widget-view+json": {
       "model_id": "",
       "version_major": 2,
       "version_minor": 0
      },
      "text/plain": [
       "Validation: 0it [00:00, ?it/s]"
      ]
     },
     "metadata": {},
     "output_type": "display_data"
    },
    {
     "data": {
      "application/vnd.jupyter.widget-view+json": {
       "model_id": "",
       "version_major": 2,
       "version_minor": 0
      },
      "text/plain": [
       "Validation: 0it [00:00, ?it/s]"
      ]
     },
     "metadata": {},
     "output_type": "display_data"
    },
    {
     "data": {
      "application/vnd.jupyter.widget-view+json": {
       "model_id": "",
       "version_major": 2,
       "version_minor": 0
      },
      "text/plain": [
       "Validation: 0it [00:00, ?it/s]"
      ]
     },
     "metadata": {},
     "output_type": "display_data"
    },
    {
     "data": {
      "application/vnd.jupyter.widget-view+json": {
       "model_id": "",
       "version_major": 2,
       "version_minor": 0
      },
      "text/plain": [
       "Validation: 0it [00:00, ?it/s]"
      ]
     },
     "metadata": {},
     "output_type": "display_data"
    },
    {
     "data": {
      "application/vnd.jupyter.widget-view+json": {
       "model_id": "",
       "version_major": 2,
       "version_minor": 0
      },
      "text/plain": [
       "Validation: 0it [00:00, ?it/s]"
      ]
     },
     "metadata": {},
     "output_type": "display_data"
    },
    {
     "data": {
      "application/vnd.jupyter.widget-view+json": {
       "model_id": "",
       "version_major": 2,
       "version_minor": 0
      },
      "text/plain": [
       "Validation: 0it [00:00, ?it/s]"
      ]
     },
     "metadata": {},
     "output_type": "display_data"
    },
    {
     "data": {
      "application/vnd.jupyter.widget-view+json": {
       "model_id": "",
       "version_major": 2,
       "version_minor": 0
      },
      "text/plain": [
       "Validation: 0it [00:00, ?it/s]"
      ]
     },
     "metadata": {},
     "output_type": "display_data"
    },
    {
     "data": {
      "application/vnd.jupyter.widget-view+json": {
       "model_id": "",
       "version_major": 2,
       "version_minor": 0
      },
      "text/plain": [
       "Validation: 0it [00:00, ?it/s]"
      ]
     },
     "metadata": {},
     "output_type": "display_data"
    },
    {
     "data": {
      "application/vnd.jupyter.widget-view+json": {
       "model_id": "",
       "version_major": 2,
       "version_minor": 0
      },
      "text/plain": [
       "Validation: 0it [00:00, ?it/s]"
      ]
     },
     "metadata": {},
     "output_type": "display_data"
    },
    {
     "data": {
      "application/vnd.jupyter.widget-view+json": {
       "model_id": "",
       "version_major": 2,
       "version_minor": 0
      },
      "text/plain": [
       "Validation: 0it [00:00, ?it/s]"
      ]
     },
     "metadata": {},
     "output_type": "display_data"
    },
    {
     "data": {
      "application/vnd.jupyter.widget-view+json": {
       "model_id": "",
       "version_major": 2,
       "version_minor": 0
      },
      "text/plain": [
       "Validation: 0it [00:00, ?it/s]"
      ]
     },
     "metadata": {},
     "output_type": "display_data"
    },
    {
     "data": {
      "application/vnd.jupyter.widget-view+json": {
       "model_id": "",
       "version_major": 2,
       "version_minor": 0
      },
      "text/plain": [
       "Validation: 0it [00:00, ?it/s]"
      ]
     },
     "metadata": {},
     "output_type": "display_data"
    },
    {
     "data": {
      "application/vnd.jupyter.widget-view+json": {
       "model_id": "",
       "version_major": 2,
       "version_minor": 0
      },
      "text/plain": [
       "Validation: 0it [00:00, ?it/s]"
      ]
     },
     "metadata": {},
     "output_type": "display_data"
    },
    {
     "data": {
      "application/vnd.jupyter.widget-view+json": {
       "model_id": "",
       "version_major": 2,
       "version_minor": 0
      },
      "text/plain": [
       "Validation: 0it [00:00, ?it/s]"
      ]
     },
     "metadata": {},
     "output_type": "display_data"
    },
    {
     "data": {
      "application/vnd.jupyter.widget-view+json": {
       "model_id": "",
       "version_major": 2,
       "version_minor": 0
      },
      "text/plain": [
       "Validation: 0it [00:00, ?it/s]"
      ]
     },
     "metadata": {},
     "output_type": "display_data"
    },
    {
     "data": {
      "application/vnd.jupyter.widget-view+json": {
       "model_id": "",
       "version_major": 2,
       "version_minor": 0
      },
      "text/plain": [
       "Validation: 0it [00:00, ?it/s]"
      ]
     },
     "metadata": {},
     "output_type": "display_data"
    },
    {
     "data": {
      "application/vnd.jupyter.widget-view+json": {
       "model_id": "",
       "version_major": 2,
       "version_minor": 0
      },
      "text/plain": [
       "Validation: 0it [00:00, ?it/s]"
      ]
     },
     "metadata": {},
     "output_type": "display_data"
    },
    {
     "data": {
      "application/vnd.jupyter.widget-view+json": {
       "model_id": "",
       "version_major": 2,
       "version_minor": 0
      },
      "text/plain": [
       "Validation: 0it [00:00, ?it/s]"
      ]
     },
     "metadata": {},
     "output_type": "display_data"
    },
    {
     "data": {
      "application/vnd.jupyter.widget-view+json": {
       "model_id": "",
       "version_major": 2,
       "version_minor": 0
      },
      "text/plain": [
       "Validation: 0it [00:00, ?it/s]"
      ]
     },
     "metadata": {},
     "output_type": "display_data"
    },
    {
     "data": {
      "application/vnd.jupyter.widget-view+json": {
       "model_id": "",
       "version_major": 2,
       "version_minor": 0
      },
      "text/plain": [
       "Validation: 0it [00:00, ?it/s]"
      ]
     },
     "metadata": {},
     "output_type": "display_data"
    },
    {
     "data": {
      "application/vnd.jupyter.widget-view+json": {
       "model_id": "",
       "version_major": 2,
       "version_minor": 0
      },
      "text/plain": [
       "Validation: 0it [00:00, ?it/s]"
      ]
     },
     "metadata": {},
     "output_type": "display_data"
    },
    {
     "data": {
      "application/vnd.jupyter.widget-view+json": {
       "model_id": "",
       "version_major": 2,
       "version_minor": 0
      },
      "text/plain": [
       "Validation: 0it [00:00, ?it/s]"
      ]
     },
     "metadata": {},
     "output_type": "display_data"
    },
    {
     "data": {
      "application/vnd.jupyter.widget-view+json": {
       "model_id": "",
       "version_major": 2,
       "version_minor": 0
      },
      "text/plain": [
       "Validation: 0it [00:00, ?it/s]"
      ]
     },
     "metadata": {},
     "output_type": "display_data"
    },
    {
     "data": {
      "application/vnd.jupyter.widget-view+json": {
       "model_id": "",
       "version_major": 2,
       "version_minor": 0
      },
      "text/plain": [
       "Validation: 0it [00:00, ?it/s]"
      ]
     },
     "metadata": {},
     "output_type": "display_data"
    },
    {
     "data": {
      "application/vnd.jupyter.widget-view+json": {
       "model_id": "",
       "version_major": 2,
       "version_minor": 0
      },
      "text/plain": [
       "Validation: 0it [00:00, ?it/s]"
      ]
     },
     "metadata": {},
     "output_type": "display_data"
    },
    {
     "data": {
      "application/vnd.jupyter.widget-view+json": {
       "model_id": "",
       "version_major": 2,
       "version_minor": 0
      },
      "text/plain": [
       "Validation: 0it [00:00, ?it/s]"
      ]
     },
     "metadata": {},
     "output_type": "display_data"
    },
    {
     "data": {
      "application/vnd.jupyter.widget-view+json": {
       "model_id": "",
       "version_major": 2,
       "version_minor": 0
      },
      "text/plain": [
       "Validation: 0it [00:00, ?it/s]"
      ]
     },
     "metadata": {},
     "output_type": "display_data"
    },
    {
     "data": {
      "application/vnd.jupyter.widget-view+json": {
       "model_id": "",
       "version_major": 2,
       "version_minor": 0
      },
      "text/plain": [
       "Validation: 0it [00:00, ?it/s]"
      ]
     },
     "metadata": {},
     "output_type": "display_data"
    },
    {
     "data": {
      "application/vnd.jupyter.widget-view+json": {
       "model_id": "",
       "version_major": 2,
       "version_minor": 0
      },
      "text/plain": [
       "Validation: 0it [00:00, ?it/s]"
      ]
     },
     "metadata": {},
     "output_type": "display_data"
    },
    {
     "data": {
      "application/vnd.jupyter.widget-view+json": {
       "model_id": "",
       "version_major": 2,
       "version_minor": 0
      },
      "text/plain": [
       "Validation: 0it [00:00, ?it/s]"
      ]
     },
     "metadata": {},
     "output_type": "display_data"
    },
    {
     "data": {
      "application/vnd.jupyter.widget-view+json": {
       "model_id": "",
       "version_major": 2,
       "version_minor": 0
      },
      "text/plain": [
       "Validation: 0it [00:00, ?it/s]"
      ]
     },
     "metadata": {},
     "output_type": "display_data"
    },
    {
     "data": {
      "application/vnd.jupyter.widget-view+json": {
       "model_id": "",
       "version_major": 2,
       "version_minor": 0
      },
      "text/plain": [
       "Validation: 0it [00:00, ?it/s]"
      ]
     },
     "metadata": {},
     "output_type": "display_data"
    },
    {
     "data": {
      "application/vnd.jupyter.widget-view+json": {
       "model_id": "",
       "version_major": 2,
       "version_minor": 0
      },
      "text/plain": [
       "Validation: 0it [00:00, ?it/s]"
      ]
     },
     "metadata": {},
     "output_type": "display_data"
    },
    {
     "data": {
      "application/vnd.jupyter.widget-view+json": {
       "model_id": "",
       "version_major": 2,
       "version_minor": 0
      },
      "text/plain": [
       "Validation: 0it [00:00, ?it/s]"
      ]
     },
     "metadata": {},
     "output_type": "display_data"
    },
    {
     "data": {
      "application/vnd.jupyter.widget-view+json": {
       "model_id": "",
       "version_major": 2,
       "version_minor": 0
      },
      "text/plain": [
       "Validation: 0it [00:00, ?it/s]"
      ]
     },
     "metadata": {},
     "output_type": "display_data"
    },
    {
     "data": {
      "application/vnd.jupyter.widget-view+json": {
       "model_id": "",
       "version_major": 2,
       "version_minor": 0
      },
      "text/plain": [
       "Validation: 0it [00:00, ?it/s]"
      ]
     },
     "metadata": {},
     "output_type": "display_data"
    },
    {
     "data": {
      "application/vnd.jupyter.widget-view+json": {
       "model_id": "",
       "version_major": 2,
       "version_minor": 0
      },
      "text/plain": [
       "Validation: 0it [00:00, ?it/s]"
      ]
     },
     "metadata": {},
     "output_type": "display_data"
    },
    {
     "data": {
      "application/vnd.jupyter.widget-view+json": {
       "model_id": "",
       "version_major": 2,
       "version_minor": 0
      },
      "text/plain": [
       "Validation: 0it [00:00, ?it/s]"
      ]
     },
     "metadata": {},
     "output_type": "display_data"
    },
    {
     "data": {
      "application/vnd.jupyter.widget-view+json": {
       "model_id": "",
       "version_major": 2,
       "version_minor": 0
      },
      "text/plain": [
       "Validation: 0it [00:00, ?it/s]"
      ]
     },
     "metadata": {},
     "output_type": "display_data"
    },
    {
     "data": {
      "application/vnd.jupyter.widget-view+json": {
       "model_id": "",
       "version_major": 2,
       "version_minor": 0
      },
      "text/plain": [
       "Validation: 0it [00:00, ?it/s]"
      ]
     },
     "metadata": {},
     "output_type": "display_data"
    },
    {
     "data": {
      "application/vnd.jupyter.widget-view+json": {
       "model_id": "",
       "version_major": 2,
       "version_minor": 0
      },
      "text/plain": [
       "Validation: 0it [00:00, ?it/s]"
      ]
     },
     "metadata": {},
     "output_type": "display_data"
    },
    {
     "data": {
      "application/vnd.jupyter.widget-view+json": {
       "model_id": "",
       "version_major": 2,
       "version_minor": 0
      },
      "text/plain": [
       "Validation: 0it [00:00, ?it/s]"
      ]
     },
     "metadata": {},
     "output_type": "display_data"
    },
    {
     "data": {
      "application/vnd.jupyter.widget-view+json": {
       "model_id": "",
       "version_major": 2,
       "version_minor": 0
      },
      "text/plain": [
       "Validation: 0it [00:00, ?it/s]"
      ]
     },
     "metadata": {},
     "output_type": "display_data"
    },
    {
     "data": {
      "application/vnd.jupyter.widget-view+json": {
       "model_id": "",
       "version_major": 2,
       "version_minor": 0
      },
      "text/plain": [
       "Validation: 0it [00:00, ?it/s]"
      ]
     },
     "metadata": {},
     "output_type": "display_data"
    },
    {
     "data": {
      "application/vnd.jupyter.widget-view+json": {
       "model_id": "",
       "version_major": 2,
       "version_minor": 0
      },
      "text/plain": [
       "Validation: 0it [00:00, ?it/s]"
      ]
     },
     "metadata": {},
     "output_type": "display_data"
    },
    {
     "data": {
      "application/vnd.jupyter.widget-view+json": {
       "model_id": "",
       "version_major": 2,
       "version_minor": 0
      },
      "text/plain": [
       "Validation: 0it [00:00, ?it/s]"
      ]
     },
     "metadata": {},
     "output_type": "display_data"
    },
    {
     "data": {
      "application/vnd.jupyter.widget-view+json": {
       "model_id": "",
       "version_major": 2,
       "version_minor": 0
      },
      "text/plain": [
       "Validation: 0it [00:00, ?it/s]"
      ]
     },
     "metadata": {},
     "output_type": "display_data"
    },
    {
     "data": {
      "application/vnd.jupyter.widget-view+json": {
       "model_id": "",
       "version_major": 2,
       "version_minor": 0
      },
      "text/plain": [
       "Validation: 0it [00:00, ?it/s]"
      ]
     },
     "metadata": {},
     "output_type": "display_data"
    },
    {
     "data": {
      "application/vnd.jupyter.widget-view+json": {
       "model_id": "",
       "version_major": 2,
       "version_minor": 0
      },
      "text/plain": [
       "Validation: 0it [00:00, ?it/s]"
      ]
     },
     "metadata": {},
     "output_type": "display_data"
    },
    {
     "data": {
      "application/vnd.jupyter.widget-view+json": {
       "model_id": "",
       "version_major": 2,
       "version_minor": 0
      },
      "text/plain": [
       "Validation: 0it [00:00, ?it/s]"
      ]
     },
     "metadata": {},
     "output_type": "display_data"
    },
    {
     "data": {
      "application/vnd.jupyter.widget-view+json": {
       "model_id": "",
       "version_major": 2,
       "version_minor": 0
      },
      "text/plain": [
       "Validation: 0it [00:00, ?it/s]"
      ]
     },
     "metadata": {},
     "output_type": "display_data"
    },
    {
     "data": {
      "application/vnd.jupyter.widget-view+json": {
       "model_id": "",
       "version_major": 2,
       "version_minor": 0
      },
      "text/plain": [
       "Validation: 0it [00:00, ?it/s]"
      ]
     },
     "metadata": {},
     "output_type": "display_data"
    },
    {
     "data": {
      "application/vnd.jupyter.widget-view+json": {
       "model_id": "",
       "version_major": 2,
       "version_minor": 0
      },
      "text/plain": [
       "Validation: 0it [00:00, ?it/s]"
      ]
     },
     "metadata": {},
     "output_type": "display_data"
    },
    {
     "data": {
      "application/vnd.jupyter.widget-view+json": {
       "model_id": "",
       "version_major": 2,
       "version_minor": 0
      },
      "text/plain": [
       "Validation: 0it [00:00, ?it/s]"
      ]
     },
     "metadata": {},
     "output_type": "display_data"
    },
    {
     "data": {
      "application/vnd.jupyter.widget-view+json": {
       "model_id": "",
       "version_major": 2,
       "version_minor": 0
      },
      "text/plain": [
       "Validation: 0it [00:00, ?it/s]"
      ]
     },
     "metadata": {},
     "output_type": "display_data"
    },
    {
     "data": {
      "application/vnd.jupyter.widget-view+json": {
       "model_id": "",
       "version_major": 2,
       "version_minor": 0
      },
      "text/plain": [
       "Validation: 0it [00:00, ?it/s]"
      ]
     },
     "metadata": {},
     "output_type": "display_data"
    },
    {
     "data": {
      "application/vnd.jupyter.widget-view+json": {
       "model_id": "",
       "version_major": 2,
       "version_minor": 0
      },
      "text/plain": [
       "Validation: 0it [00:00, ?it/s]"
      ]
     },
     "metadata": {},
     "output_type": "display_data"
    },
    {
     "data": {
      "application/vnd.jupyter.widget-view+json": {
       "model_id": "",
       "version_major": 2,
       "version_minor": 0
      },
      "text/plain": [
       "Validation: 0it [00:00, ?it/s]"
      ]
     },
     "metadata": {},
     "output_type": "display_data"
    },
    {
     "name": "stderr",
     "output_type": "stream",
     "text": [
      "[NeMo W 2022-05-24 02:21:39 nemo_logging:349] /media/boris/F/anaconda3/envs/nemo/lib/python3.9/site-packages/pytorch_lightning/trainer/trainer.py:724: UserWarning: Detected KeyboardInterrupt, attempting graceful shutdown...\n",
      "      rank_zero_warn(\"Detected KeyboardInterrupt, attempting graceful shutdown...\")\n",
      "    \n"
     ]
    }
   ],
   "source": [
    "model_name = 'carnelinet'\n",
    "\n",
    "for corruption_prob in [0.1, 0.2, 0.3, 0.4, 0.5]:\n",
    "    config_path = models[model_name]['config_path']\n",
    "    with open(config_path) as f:\n",
    "        config = yaml.load(f)\n",
    "\n",
    "    model = EncDecCTCModelBPE_extended.from_config_dict(DictConfig(config['model']))\n",
    "    model.corruption_prob = corruption_prob\n",
    "    \n",
    "    callback = PrintTableMetricsCallback()\n",
    "    \n",
    "    trainer = pl.Trainer(devices=1, accelerator='gpu', max_epochs=200, check_val_every_n_epoch=5, callbacks=[callback])\n",
    "    trainer.fit(model)"
   ]
  },
  {
   "cell_type": "code",
   "execution_count": 17,
   "id": "5ab11580",
   "metadata": {},
   "outputs": [
    {
     "data": {
      "text/plain": [
       "Text(0.5, 0, 'validation_step')"
      ]
     },
     "execution_count": 17,
     "metadata": {},
     "output_type": "execute_result"
    },
    {
     "data": {
      "image/png": "[encoded data removed]",
      "text/plain": [
       "<Figure size 1280x800 with 1 Axes>"
      ]
     },
     "metadata": {
      "needs_background": "light"
     },
     "output_type": "display_data"
    }
   ],
   "source": [
    "model_name = 'carnelinet'\n",
    "\n",
    "figure(figsize=(8, 5), dpi=160)\n",
    "\n",
    "for corruption_prob in [0.0, 0.1, 0.2, 0.3, 0.4, 0.5]:\n",
    "    res = pd.read_csv(root_dir + f'experiment_results/{model_name}_200_paired_dae_{corruption_prob}.csv')\n",
    "    res['Value'].rolling(18, win_type='gaussian').mean(std=5).plot(label=f'corruption_prob_{corruption_prob}')\n",
    "\n",
    "plt.legend(loc=\"upper right\")\n",
    "plt.ylabel('cer')\n",
    "plt.xlabel('validation_step')"
   ]
  },
  {
   "cell_type": "code",
   "execution_count": 5,
   "id": "b39c26c5",
   "metadata": {
    "scrolled": false
   },
   "outputs": [
    {
     "data": {
      "text/plain": [
       "Text(0.5, 0, 'validation_step')"
      ]
     },
     "execution_count": 5,
     "metadata": {},
     "output_type": "execute_result"
    },
    {
     "data": {
      "image/png": "[encoded data removed]",
      "text/plain": [
       "<Figure size 1280x800 with 1 Axes>"
      ]
     },
     "metadata": {
      "needs_background": "light"
     },
     "output_type": "display_data"
    }
   ],
   "source": [
    "figure(figsize=(8, 5), dpi=160)\n",
    "\n",
    "for experiment_path in ['carnelinet_200_paired_dae_0.0',\n",
    "                        'carnelinet_200_paired_dae_0.5',\n",
    "                        'carnelinet_200_paired_dae_0.5_bidirectional']:\n",
    "    res = pd.read_csv(root_dir + f'experiment_results/{experiment_path}.csv')\n",
    "    res['Value'][:40].rolling(10, win_type='gaussian').mean(std=5).plot(label=f'{experiment_path}')\n",
    "\n",
    "plt.legend(loc=\"upper right\")\n",
    "plt.ylabel('cer')\n",
    "plt.xlabel('validation_step')"
   ]
  },
  {
   "cell_type": "code",
   "execution_count": 49,
   "id": "5413d563",
   "metadata": {},
   "outputs": [
    {
     "data": {
      "text/plain": [
       "Text(0.5, 0, 'validation_step')"
      ]
     },
     "execution_count": 49,
     "metadata": {},
     "output_type": "execute_result"
    },
    {
     "data": {
      "image/png": "[encoded data removed]",
      "text/plain": [
       "<Figure size 1280x640 with 1 Axes>"
      ]
     },
     "metadata": {
      "needs_background": "light"
     },
     "output_type": "display_data"
    }
   ],
   "source": [
    "figure(figsize=(8, 4), dpi=160)\n",
    "\n",
    "for experiment_path in ['carnelinet_200_paired_dae_0.0',\n",
    "                       'dual_transformation']:\n",
    "    res = pd.read_csv(root_dir + f'experiment_results/{experiment_path}.csv')\n",
    "    if experiment_path == 'carnelinet_200_paired_dae_0.0':\n",
    "        res['Value'].rolling(20, win_type='gaussian').mean(std=20).plot(label=f'{experiment_path}')\n",
    "    else:\n",
    "        res[::2].reset_index()['Value'].rolling(20, win_type='gaussian').mean(std=20).plot(label=f'{experiment_path}')\n",
    "plt.legend(loc=\"upper right\")\n",
    "plt.ylabel('cer')\n",
    "plt.xlabel('validation_step')"
   ]
  },
  {
   "cell_type": "code",
   "execution_count": 36,
   "id": "991d6a26",
   "metadata": {
    "scrolled": true
   },
   "outputs": [
    {
     "data": {
      "text/html": [
       "<div>\n",
       "<style scoped>\n",
       "    .dataframe tbody tr th:only-of-type {\n",
       "        vertical-align: middle;\n",
       "    }\n",
       "\n",
       "    .dataframe tbody tr th {\n",
       "        vertical-align: top;\n",
       "    }\n",
       "\n",
       "    .dataframe thead th {\n",
       "        text-align: right;\n",
       "    }\n",
       "</style>\n",
       "<table border=\"1\" class=\"dataframe\">\n",
       "  <thead>\n",
       "    <tr style=\"text-align: right;\">\n",
       "      <th></th>\n",
       "      <th>index</th>\n",
       "      <th>Wall time</th>\n",
       "      <th>Step</th>\n",
       "      <th>Value</th>\n",
       "    </tr>\n",
       "  </thead>\n",
       "  <tbody>\n",
       "    <tr>\n",
       "      <th>0</th>\n",
       "      <td>0</td>\n",
       "      <td>1.653537e+09</td>\n",
       "      <td>199</td>\n",
       "      <td>0.796022</td>\n",
       "    </tr>\n",
       "    <tr>\n",
       "      <th>1</th>\n",
       "      <td>2</td>\n",
       "      <td>1.653537e+09</td>\n",
       "      <td>599</td>\n",
       "      <td>0.606323</td>\n",
       "    </tr>\n",
       "    <tr>\n",
       "      <th>2</th>\n",
       "      <td>4</td>\n",
       "      <td>1.653538e+09</td>\n",
       "      <td>999</td>\n",
       "      <td>0.605303</td>\n",
       "    </tr>\n",
       "    <tr>\n",
       "      <th>3</th>\n",
       "      <td>6</td>\n",
       "      <td>1.653538e+09</td>\n",
       "      <td>1399</td>\n",
       "      <td>0.578786</td>\n",
       "    </tr>\n",
       "    <tr>\n",
       "      <th>4</th>\n",
       "      <td>8</td>\n",
       "      <td>1.653538e+09</td>\n",
       "      <td>1799</td>\n",
       "      <td>0.580826</td>\n",
       "    </tr>\n",
       "    <tr>\n",
       "      <th>5</th>\n",
       "      <td>10</td>\n",
       "      <td>1.653538e+09</td>\n",
       "      <td>2199</td>\n",
       "      <td>0.617542</td>\n",
       "    </tr>\n",
       "    <tr>\n",
       "      <th>6</th>\n",
       "      <td>12</td>\n",
       "      <td>1.653538e+09</td>\n",
       "      <td>2599</td>\n",
       "      <td>0.657318</td>\n",
       "    </tr>\n",
       "    <tr>\n",
       "      <th>7</th>\n",
       "      <td>14</td>\n",
       "      <td>1.653538e+09</td>\n",
       "      <td>2999</td>\n",
       "      <td>0.544620</td>\n",
       "    </tr>\n",
       "    <tr>\n",
       "      <th>8</th>\n",
       "      <td>16</td>\n",
       "      <td>1.653538e+09</td>\n",
       "      <td>3399</td>\n",
       "      <td>0.537991</td>\n",
       "    </tr>\n",
       "    <tr>\n",
       "      <th>9</th>\n",
       "      <td>18</td>\n",
       "      <td>1.653538e+09</td>\n",
       "      <td>3799</td>\n",
       "      <td>0.557879</td>\n",
       "    </tr>\n",
       "    <tr>\n",
       "      <th>10</th>\n",
       "      <td>20</td>\n",
       "      <td>1.653538e+09</td>\n",
       "      <td>4199</td>\n",
       "      <td>0.544620</td>\n",
       "    </tr>\n",
       "    <tr>\n",
       "      <th>11</th>\n",
       "      <td>22</td>\n",
       "      <td>1.653538e+09</td>\n",
       "      <td>4599</td>\n",
       "      <td>0.539521</td>\n",
       "    </tr>\n",
       "    <tr>\n",
       "      <th>12</th>\n",
       "      <td>24</td>\n",
       "      <td>1.653539e+09</td>\n",
       "      <td>4999</td>\n",
       "      <td>0.584906</td>\n",
       "    </tr>\n",
       "    <tr>\n",
       "      <th>13</th>\n",
       "      <td>26</td>\n",
       "      <td>1.653539e+09</td>\n",
       "      <td>5399</td>\n",
       "      <td>0.571647</td>\n",
       "    </tr>\n",
       "    <tr>\n",
       "      <th>14</th>\n",
       "      <td>28</td>\n",
       "      <td>1.653539e+09</td>\n",
       "      <td>5799</td>\n",
       "      <td>0.558899</td>\n",
       "    </tr>\n",
       "    <tr>\n",
       "      <th>15</th>\n",
       "      <td>30</td>\n",
       "      <td>1.653539e+09</td>\n",
       "      <td>6199</td>\n",
       "      <td>0.566548</td>\n",
       "    </tr>\n",
       "    <tr>\n",
       "      <th>16</th>\n",
       "      <td>32</td>\n",
       "      <td>1.653539e+09</td>\n",
       "      <td>6599</td>\n",
       "      <td>0.562978</td>\n",
       "    </tr>\n",
       "    <tr>\n",
       "      <th>17</th>\n",
       "      <td>34</td>\n",
       "      <td>1.653539e+09</td>\n",
       "      <td>6999</td>\n",
       "      <td>0.572157</td>\n",
       "    </tr>\n",
       "    <tr>\n",
       "      <th>18</th>\n",
       "      <td>36</td>\n",
       "      <td>1.653539e+09</td>\n",
       "      <td>7399</td>\n",
       "      <td>0.533911</td>\n",
       "    </tr>\n",
       "    <tr>\n",
       "      <th>19</th>\n",
       "      <td>38</td>\n",
       "      <td>1.653539e+09</td>\n",
       "      <td>7799</td>\n",
       "      <td>0.663437</td>\n",
       "    </tr>\n",
       "    <tr>\n",
       "      <th>20</th>\n",
       "      <td>40</td>\n",
       "      <td>1.653539e+09</td>\n",
       "      <td>8199</td>\n",
       "      <td>0.602244</td>\n",
       "    </tr>\n",
       "    <tr>\n",
       "      <th>21</th>\n",
       "      <td>42</td>\n",
       "      <td>1.653539e+09</td>\n",
       "      <td>8599</td>\n",
       "      <td>0.527792</td>\n",
       "    </tr>\n",
       "    <tr>\n",
       "      <th>22</th>\n",
       "      <td>44</td>\n",
       "      <td>1.653539e+09</td>\n",
       "      <td>8999</td>\n",
       "      <td>0.604284</td>\n",
       "    </tr>\n",
       "    <tr>\n",
       "      <th>23</th>\n",
       "      <td>46</td>\n",
       "      <td>1.653540e+09</td>\n",
       "      <td>9399</td>\n",
       "      <td>0.694034</td>\n",
       "    </tr>\n",
       "    <tr>\n",
       "      <th>24</th>\n",
       "      <td>48</td>\n",
       "      <td>1.653540e+09</td>\n",
       "      <td>9799</td>\n",
       "      <td>0.518613</td>\n",
       "    </tr>\n",
       "    <tr>\n",
       "      <th>25</th>\n",
       "      <td>50</td>\n",
       "      <td>1.653542e+09</td>\n",
       "      <td>10199</td>\n",
       "      <td>0.560428</td>\n",
       "    </tr>\n",
       "    <tr>\n",
       "      <th>26</th>\n",
       "      <td>52</td>\n",
       "      <td>1.653544e+09</td>\n",
       "      <td>10599</td>\n",
       "      <td>0.591025</td>\n",
       "    </tr>\n",
       "    <tr>\n",
       "      <th>27</th>\n",
       "      <td>54</td>\n",
       "      <td>1.653547e+09</td>\n",
       "      <td>10999</td>\n",
       "      <td>0.554309</td>\n",
       "    </tr>\n",
       "    <tr>\n",
       "      <th>28</th>\n",
       "      <td>56</td>\n",
       "      <td>1.653549e+09</td>\n",
       "      <td>11399</td>\n",
       "      <td>0.559408</td>\n",
       "    </tr>\n",
       "    <tr>\n",
       "      <th>29</th>\n",
       "      <td>58</td>\n",
       "      <td>1.653552e+09</td>\n",
       "      <td>11799</td>\n",
       "      <td>0.609383</td>\n",
       "    </tr>\n",
       "    <tr>\n",
       "      <th>30</th>\n",
       "      <td>60</td>\n",
       "      <td>1.653554e+09</td>\n",
       "      <td>12199</td>\n",
       "      <td>0.577257</td>\n",
       "    </tr>\n",
       "    <tr>\n",
       "      <th>31</th>\n",
       "      <td>62</td>\n",
       "      <td>1.653557e+09</td>\n",
       "      <td>12599</td>\n",
       "      <td>0.534421</td>\n",
       "    </tr>\n",
       "    <tr>\n",
       "      <th>32</th>\n",
       "      <td>64</td>\n",
       "      <td>1.653559e+09</td>\n",
       "      <td>12999</td>\n",
       "      <td>0.530852</td>\n",
       "    </tr>\n",
       "    <tr>\n",
       "      <th>33</th>\n",
       "      <td>66</td>\n",
       "      <td>1.653562e+09</td>\n",
       "      <td>13399</td>\n",
       "      <td>0.541560</td>\n",
       "    </tr>\n",
       "    <tr>\n",
       "      <th>34</th>\n",
       "      <td>68</td>\n",
       "      <td>1.653565e+09</td>\n",
       "      <td>13799</td>\n",
       "      <td>0.556349</td>\n",
       "    </tr>\n",
       "    <tr>\n",
       "      <th>35</th>\n",
       "      <td>70</td>\n",
       "      <td>1.653567e+09</td>\n",
       "      <td>14199</td>\n",
       "      <td>0.537991</td>\n",
       "    </tr>\n",
       "    <tr>\n",
       "      <th>36</th>\n",
       "      <td>72</td>\n",
       "      <td>1.653570e+09</td>\n",
       "      <td>14599</td>\n",
       "      <td>0.535441</td>\n",
       "    </tr>\n",
       "    <tr>\n",
       "      <th>37</th>\n",
       "      <td>74</td>\n",
       "      <td>1.653572e+09</td>\n",
       "      <td>14999</td>\n",
       "      <td>0.583376</td>\n",
       "    </tr>\n",
       "    <tr>\n",
       "      <th>38</th>\n",
       "      <td>76</td>\n",
       "      <td>1.653575e+09</td>\n",
       "      <td>15399</td>\n",
       "      <td>0.628761</td>\n",
       "    </tr>\n",
       "    <tr>\n",
       "      <th>39</th>\n",
       "      <td>78</td>\n",
       "      <td>1.653578e+09</td>\n",
       "      <td>15799</td>\n",
       "      <td>0.533401</td>\n",
       "    </tr>\n",
       "  </tbody>\n",
       "</table>\n",
       "</div>"
      ],
      "text/plain": [
       "    index     Wall time   Step     Value\n",
       "0       0  1.653537e+09    199  0.796022\n",
       "1       2  1.653537e+09    599  0.606323\n",
       "2       4  1.653538e+09    999  0.605303\n",
       "3       6  1.653538e+09   1399  0.578786\n",
       "4       8  1.653538e+09   1799  0.580826\n",
       "5      10  1.653538e+09   2199  0.617542\n",
       "6      12  1.653538e+09   2599  0.657318\n",
       "7      14  1.653538e+09   2999  0.544620\n",
       "8      16  1.653538e+09   3399  0.537991\n",
       "9      18  1.653538e+09   3799  0.557879\n",
       "10     20  1.653538e+09   4199  0.544620\n",
       "11     22  1.653538e+09   4599  0.539521\n",
       "12     24  1.653539e+09   4999  0.584906\n",
       "13     26  1.653539e+09   5399  0.571647\n",
       "14     28  1.653539e+09   5799  0.558899\n",
       "15     30  1.653539e+09   6199  0.566548\n",
       "16     32  1.653539e+09   6599  0.562978\n",
       "17     34  1.653539e+09   6999  0.572157\n",
       "18     36  1.653539e+09   7399  0.533911\n",
       "19     38  1.653539e+09   7799  0.663437\n",
       "20     40  1.653539e+09   8199  0.602244\n",
       "21     42  1.653539e+09   8599  0.527792\n",
       "22     44  1.653539e+09   8999  0.604284\n",
       "23     46  1.653540e+09   9399  0.694034\n",
       "24     48  1.653540e+09   9799  0.518613\n",
       "25     50  1.653542e+09  10199  0.560428\n",
       "26     52  1.653544e+09  10599  0.591025\n",
       "27     54  1.653547e+09  10999  0.554309\n",
       "28     56  1.653549e+09  11399  0.559408\n",
       "29     58  1.653552e+09  11799  0.609383\n",
       "30     60  1.653554e+09  12199  0.577257\n",
       "31     62  1.653557e+09  12599  0.534421\n",
       "32     64  1.653559e+09  12999  0.530852\n",
       "33     66  1.653562e+09  13399  0.541560\n",
       "34     68  1.653565e+09  13799  0.556349\n",
       "35     70  1.653567e+09  14199  0.537991\n",
       "36     72  1.653570e+09  14599  0.535441\n",
       "37     74  1.653572e+09  14999  0.583376\n",
       "38     76  1.653575e+09  15399  0.628761\n",
       "39     78  1.653578e+09  15799  0.533401"
      ]
     },
     "execution_count": 36,
     "metadata": {},
     "output_type": "execute_result"
    }
   ],
   "source": [
    "res[::2].reset_index()"
   ]
  },
  {
   "cell_type": "markdown",
   "id": "67844314",
   "metadata": {},
   "source": [
    "Some examples"
   ]
  },
  {
   "cell_type": "markdown",
   "id": "a262fc64",
   "metadata": {},
   "source": [
    "# Validation\n",
    "\n",
    "{\"audio_filepath\": \"./an4/wav/an4test_clstk/fjlp/cen1-fjlp-b.wav\", \"duration\": 2.8, \"text\": \"p a t t e r s o n\"}\n",
    "\n",
    "{\"audio_filepath\": \"./an4/wav/an4test_clstk/fjlp/cen2-fjlp-b.wav\", \"duration\": 2.4, \"text\": \"j a n e t\"}\n",
    "\n",
    "{\"audio_filepath\": \"./an4/wav/an4test_clstk/fjlp/cen3-fjlp-b.wav\", \"duration\": 1.3, \"text\": \"one fifty\"}\n",
    "\n",
    "{\"audio_filepath\": \"./an4/wav/an4test_clstk/fjlp/cen4-fjlp-b.wav\", \"duration\": 2.3, \"text\": \"s p e e r\"}\n",
    "\n",
    "{\"audio_filepath\": \"./an4/wav/an4test_clstk/fjlp/cen5-fjlp-b.wav\", \"duration\": 5.0, \"text\": \"m c k e e s r o c k s\"}\n",
    "\n",
    "{\"audio_filepath\": \"./an4/wav/an4test_clstk/fjlp/cen6-fjlp-b.wav\", \"duration\": 2.3, \"text\": \"one five one three six\"}\n",
    "\n",
    "{\"audio_filepath\": \"./an4/wav/an4test_clstk/fjlp/cen7-fjlp-b.wav\", \"duration\": 3.3, \"text\": \"three three one oh one eight eight\"}\n",
    "\n",
    "{\"audio_filepath\": \"./an4/wav/an4test_clstk/fjlp/cen8-fjlp-b.wav\", \"duration\": 2.5, \"text\": \"twelve twenty nine fifty nine\"}"
   ]
  },
  {
   "cell_type": "code",
   "execution_count": 16,
   "id": "25cc5855",
   "metadata": {
    "scrolled": true
   },
   "outputs": [
    {
     "data": {
      "application/vnd.jupyter.widget-view+json": {
       "model_id": "e579eced4b444d0aa136242fe97fe4fa",
       "version_major": 2,
       "version_minor": 0
      },
      "text/plain": [
       "Transcribing:   0%|          | 0/2 [00:00<?, ?it/s]"
      ]
     },
     "metadata": {},
     "output_type": "display_data"
    },
    {
     "data": {
      "text/plain": [
       "['p d l four',\n",
       " 'p a t c',\n",
       " ' ⁇  twenty five',\n",
       " 'p e i g',\n",
       " 'yes m a z rubout r nine',\n",
       " 'one five five eight nine six',\n",
       " 'fifty one nine a sixty',\n",
       " 'eleven fourteen sixty one nine']"
      ]
     },
     "execution_count": 16,
     "metadata": {},
     "output_type": "execute_result"
    }
   ],
   "source": [
    "model.transcribe([\n",
    "    \"./an4/wav/an4test_clstk/fjlp/cen1-fjlp-b.wav\",\n",
    "    \"./an4/wav/an4test_clstk/fjlp/cen2-fjlp-b.wav\",\n",
    "    \"./an4/wav/an4test_clstk/fjlp/cen3-fjlp-b.wav\",\n",
    "    \"./an4/wav/an4test_clstk/fjlp/cen4-fjlp-b.wav\",\n",
    "    \"./an4/wav/an4test_clstk/fjlp/cen5-fjlp-b.wav\",\n",
    "    \"./an4/wav/an4test_clstk/fjlp/cen6-fjlp-b.wav\",\n",
    "    \"./an4/wav/an4test_clstk/fjlp/cen7-fjlp-b.wav\",\n",
    "    \"./an4/wav/an4test_clstk/fjlp/cen8-fjlp-b.wav\"\n",
    "])"
   ]
  },
  {
   "cell_type": "markdown",
   "id": "a333c14a",
   "metadata": {},
   "source": [
    "# Training\n",
    "\n",
    "{\"audio_filepath\": \"./an4/wav/an4_clstk/fnsv/cen1-fnsv-b.wav\", \"duration\": 3.6, \"text\": \"v e c c h i\"}\n",
    "\n",
    "{\"audio_filepath\": \"./an4/wav/an4_clstk/fnsv/cen2-fnsv-b.wav\", \"duration\": 2.8, \"text\": \"n i c o l e\"}\n",
    "\n",
    "{\"audio_filepath\": \"./an4/wav/an4_clstk/fnsv/cen3-fnsv-b.wav\", \"duration\": 2.5, \"text\": \"fifty six oh five\"}\n",
    "\n",
    "{\"audio_filepath\": \"./an4/wav/an4_clstk/fnsv/cen4-fnsv-b.wav\", \"duration\": 4.7, \"text\": \"e l l s w o r t h\"}\n",
    "\n",
    "{\"audio_filepath\": \"./an4/wav/an4_clstk/fnsv/cen5-fnsv-b.wav\", \"duration\": 5.2, \"text\": \"p i t t s b u r g h\"}\n",
    "\n",
    "{\"audio_filepath\": \"./an4/wav/an4_clstk/fnsv/cen6-fnsv-b.wav\", \"duration\": 2.6, \"text\": \"one five two three two\"}\n",
    "\n",
    "{\"audio_filepath\": \"./an4/wav/an4_clstk/fnsv/cen7-fnsv-b.wav\", \"duration\": 3.9, \"text\": \"six six one five zero six four\"}\n",
    "\n",
    "{\"audio_filepath\": \"./an4/wav/an4_clstk/fnsv/cen8-fnsv-b.wav\", \"duration\": 3.4, \"text\": \"january fifteenth nineteen sixty three\"}"
   ]
  },
  {
   "cell_type": "code",
   "execution_count": 17,
   "id": "84f403b5",
   "metadata": {
    "scrolled": false
   },
   "outputs": [
    {
     "data": {
      "application/vnd.jupyter.widget-view+json": {
       "model_id": "704738833fb04b129fc1cb70d3002bb1",
       "version_major": 2,
       "version_minor": 0
      },
      "text/plain": [
       "Transcribing:   0%|          | 0/2 [00:00<?, ?it/s]"
      ]
     },
     "metadata": {},
     "output_type": "display_data"
    },
    {
     "data": {
      "text/plain": [
       "['v e c c h i',\n",
       " 'n i c o l e',\n",
       " 'fifty six oh five',\n",
       " 'e l l s w o r t h',\n",
       " 'p i t t s b u r g h',\n",
       " ' ⁇  one five two three two',\n",
       " 'six six one five zero six four',\n",
       " 'january fifteenth nineteen sixty three']"
      ]
     },
     "execution_count": 17,
     "metadata": {},
     "output_type": "execute_result"
    }
   ],
   "source": [
    "model.transcribe([\n",
    "    \"./an4/wav/an4_clstk/fnsv/cen1-fnsv-b.wav\",\n",
    "    \"./an4/wav/an4_clstk/fnsv/cen2-fnsv-b.wav\",\n",
    "    \"./an4/wav/an4_clstk/fnsv/cen3-fnsv-b.wav\",\n",
    "    \"./an4/wav/an4_clstk/fnsv/cen4-fnsv-b.wav\",\n",
    "    \"./an4/wav/an4_clstk/fnsv/cen5-fnsv-b.wav\",\n",
    "    \"./an4/wav/an4_clstk/fnsv/cen6-fnsv-b.wav\",\n",
    "    \"./an4/wav/an4_clstk/fnsv/cen7-fnsv-b.wav\",\n",
    "    \"./an4/wav/an4_clstk/fnsv/cen8-fnsv-b.wav\",\n",
    "])"
   ]
  },
  {
   "cell_type": "code",
   "execution_count": 16,
   "id": "8d5e9049",
   "metadata": {
    "scrolled": true
   },
   "outputs": [
    {
     "name": "stdout",
     "output_type": "stream",
     "text": [
      "/media/boris/F/anaconda3/envs/nemo/lib/python3.9/site-packages/apex/pyprof/__init__.py:5: FutureWarning: pyprof will be removed by the end of June, 2022\n",
      "  warnings.warn(\"pyprof will be removed by the end of June, 2022\", FutureWarning)\n",
      "INFO:root:Corpus already exists at path : tokenizer/text_corpus/document.txt\n",
      "[NeMo I 2022-05-14 01:26:29 sentencepiece_tokenizer:307] Processing tokenizer/text_corpus/document.txt and store at tokenizer/tokenizer_spe_bpe_v1024\n",
      "sentencepiece_trainer.cc(177) LOG(INFO) Running command: --input=tokenizer/text_corpus/document.txt --model_prefix=tokenizer/tokenizer_spe_bpe_v1024/tokenizer --vocab_size=1024 --shuffle_input_sentence=true --hard_vocab_limit=false --model_type=bpe --character_coverage=1.0 --bos_id=-1 --eos_id=-1 --normalization_rule_name=nmt_nfkc_cf\n",
      "sentencepiece_trainer.cc(77) LOG(INFO) Starts training with : \n",
      "trainer_spec {\n",
      "  input: tokenizer/text_corpus/document.txt\n",
      "  input_format: \n",
      "  model_prefix: tokenizer/tokenizer_spe_bpe_v1024/tokenizer\n",
      "  model_type: BPE\n",
      "  vocab_size: 1024\n",
      "  self_test_sample_size: 0\n",
      "  character_coverage: 1\n",
      "  input_sentence_size: 0\n",
      "  shuffle_input_sentence: 1\n",
      "  seed_sentencepiece_size: 1000000\n",
      "  shrinking_factor: 0.75\n",
      "  max_sentence_length: 4192\n",
      "  num_threads: 16\n",
      "  num_sub_iterations: 2\n",
      "  max_sentencepiece_length: 16\n",
      "  split_by_unicode_script: 1\n",
      "  split_by_number: 1\n",
      "  split_by_whitespace: 1\n",
      "  split_digits: 0\n",
      "  treat_whitespace_as_suffix: 0\n",
      "  allow_whitespace_only_pieces: 0\n",
      "  required_chars: \n",
      "  byte_fallback: 0\n",
      "  vocabulary_output_piece_score: 1\n",
      "  train_extremely_large_corpus: 0\n",
      "  hard_vocab_limit: 0\n",
      "  use_all_vocab: 0\n",
      "  unk_id: 0\n",
      "  bos_id: -1\n",
      "  eos_id: -1\n",
      "  pad_id: -1\n",
      "  unk_piece: <unk>\n",
      "  bos_piece: <s>\n",
      "  eos_piece: </s>\n",
      "  pad_piece: <pad>\n",
      "  unk_surface:  ⁇ \n",
      "}\n",
      "normalizer_spec {\n",
      "  name: nmt_nfkc_cf\n",
      "  add_dummy_prefix: 1\n",
      "  remove_extra_whitespaces: 1\n",
      "  escape_whitespaces: 1\n",
      "  normalization_rule_tsv: \n",
      "}\n",
      "denormalizer_spec {}\n",
      "trainer_interface.cc(329) LOG(INFO) SentenceIterator is not specified. Using MultiFileSentenceIterator.\n",
      "trainer_interface.cc(178) LOG(INFO) Loading corpus: tokenizer/text_corpus/document.txt\n",
      "trainer_interface.cc(385) LOG(INFO) Loaded all 1200 sentences\n",
      "trainer_interface.cc(400) LOG(INFO) Adding meta_piece: <unk>\n",
      "trainer_interface.cc(405) LOG(INFO) Normalizing sentences...\n",
      "trainer_interface.cc(466) LOG(INFO) all chars count=24474\n",
      "trainer_interface.cc(487) LOG(INFO) Alphabet size=27\n",
      "trainer_interface.cc(488) LOG(INFO) Final character coverage=1\n",
      "trainer_interface.cc(520) LOG(INFO) Done! preprocessed 1200 sentences.\n",
      "trainer_interface.cc(526) LOG(INFO) Tokenizing input sentences with whitespace: 1200\n",
      "trainer_interface.cc(537) LOG(INFO) Done! 72\n",
      "bpe_model_trainer.cc(167) LOG(INFO) Updating active symbols. max_freq=876 min_freq=6\n",
      "bpe_model_trainer.cc(258) LOG(INFO) Added: freq=264 size=20 all=172 active=145 piece=▁l\n",
      "bpe_model_trainer.cc(258) LOG(INFO) Added: freq=168 size=40 all=185 active=158 piece=▁y\n",
      "bpe_model_trainer.cc(258) LOG(INFO) Added: freq=78 size=60 all=193 active=166 piece=▁enter\n",
      "bpe_model_trainer.cc(258) LOG(INFO) Added: freq=42 size=80 all=191 active=164 piece=▁seventy\n",
      "bpe_model_trainer.cc(258) LOG(INFO) Added: freq=18 size=100 all=196 active=169 piece=▁rep\n",
      "bpe_model_trainer.cc(167) LOG(INFO) Updating active symbols. max_freq=18 min_freq=0\n",
      "bpe_model_trainer.cc(258) LOG(INFO) Added: freq=12 size=120 all=193 active=166 piece=teenth\n",
      "bpe_model_trainer.cc(258) LOG(INFO) Added: freq=6 size=140 all=194 active=167 piece=ember\n",
      "bpe_model_trainer.cc(258) LOG(INFO) Added: freq=0 size=160 all=179 active=152 piece=fi\n",
      "bpe_model_trainer.cc(258) LOG(INFO) Added: freq=0 size=180 all=159 active=132 piece=mb\n",
      "bpe_model_trainer.cc(258) LOG(INFO) Added: freq=0 size=200 all=139 active=112 piece=si\n",
      "bpe_model_trainer.cc(167) LOG(INFO) Updating active symbols. max_freq=0 min_freq=0\n",
      "bpe_model_trainer.cc(258) LOG(INFO) Added: freq=0 size=220 all=119 active=92 piece=eth\n",
      "bpe_model_trainer.cc(258) LOG(INFO) Added: freq=0 size=240 all=99 active=72 piece=▁an\n",
      "bpe_model_trainer.cc(258) LOG(INFO) Added: freq=0 size=260 all=79 active=52 piece=inet\n",
      "bpe_model_trainer.cc(258) LOG(INFO) Added: freq=0 size=280 all=59 active=32 piece=▁thr\n",
      "bpe_model_trainer.cc(258) LOG(INFO) Added: freq=0 size=300 all=39 active=12 piece=ctober\n",
      "bpe_model_trainer.cc(167) LOG(INFO) Updating active symbols. max_freq=0 min_freq=0\n",
      "bpe_model_trainer.cc(242) LOG(WARNING) No valid symbol found\n",
      "trainer_interface.cc(615) LOG(INFO) Saving model: tokenizer/tokenizer_spe_bpe_v1024/tokenizer.model\n",
      "trainer_interface.cc(626) LOG(INFO) Saving vocabs: tokenizer/tokenizer_spe_bpe_v1024/tokenizer.vocab\n",
      "Serialized tokenizer at location : tokenizer/tokenizer_spe_bpe_v1024\n",
      "INFO:root:Done!\n"
     ]
    }
   ],
   "source": [
    "!python process_asr_text_tokenizer.py --manifest='an4/train_manifest_200.json,an4/test_manifest.json' \\\n",
    "        --data_root=\"tokenizer\" \\\n",
    "        --vocab_size=1024 \\\n",
    "        --tokenizer=\"spe\" \\\n",
    "        --log"
   ]
  }
 ],
 "metadata": {
  "kernelspec": {
   "display_name": "Python 3 (ipykernel)",
   "language": "python",
   "name": "python3"
  },
  "language_info": {
   "codemirror_mode": {
    "name": "ipython",
    "version": 3
   },
   "file_extension": ".py",
   "mimetype": "text/x-python",
   "name": "python",
   "nbconvert_exporter": "python",
   "pygments_lexer": "ipython3",
   "version": "3.9.7"
  }
 },
 "nbformat": 4,
 "nbformat_minor": 5
}
