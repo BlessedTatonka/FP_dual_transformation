{
 "cells": [
  {
   "cell_type": "code",
   "execution_count": 1,
   "metadata": {
    "scrolled": false
   },
   "outputs": [
    {
     "name": "stderr",
     "output_type": "stream",
     "text": [
      "[NeMo W 2022-02-07 01:51:20 optimizers:47] Apex was not found. Using the lamb optimizer will error out.\n",
      "[NeMo W 2022-02-07 01:51:20 nemo_logging:349] /home/boris/anaconda3/lib/python3.7/site-packages/pydub/utils.py:170: RuntimeWarning: Couldn't find ffmpeg or avconv - defaulting to ffmpeg, but may not work\n",
      "      warn(\"Couldn't find ffmpeg or avconv - defaulting to ffmpeg, but may not work\", RuntimeWarning)\n",
      "    \n",
      "[NeMo W 2022-02-07 01:51:20 nmse_clustering:54] Using eigen decomposition from scipy, upgrade torch to 1.9 or higher for faster clustering\n",
      "################################################################################\n",
      "### WARNING, path does not exist: KALDI_ROOT=/mnt/matylda5/iveselyk/Tools/kaldi-trunk\n",
      "###          (please add 'export KALDI_ROOT=<your_path>' in your $HOME/.profile)\n",
      "###          (or run as: KALDI_ROOT=<your_path> python <your_script>.py)\n",
      "################################################################################\n",
      "\n",
      "[NeMo W 2022-02-07 01:51:20 nemo_logging:349] /home/boris/anaconda3/lib/python3.7/site-packages/torchaudio/backend/utils.py:54: UserWarning: \"sox\" backend is being deprecated. The default backend will be changed to \"sox_io\" backend in 0.8.0 and \"sox\" backend will be removed in 0.9.0. Please migrate to \"sox_io\" backend. Please refer to https://github.com/pytorch/audio/issues/903 for the detail.\n",
      "      '\"sox\" backend is being deprecated. '\n",
      "    \n",
      "[NeMo W 2022-02-07 01:51:21 experimental:28] Module <class 'nemo.collections.asr.data.audio_to_text_dali._AudioTextDALIDataset'> is experimental, not ready for production and is not fully supported. Use at your own risk.\n"
     ]
    }
   ],
   "source": [
    "import nemo\n",
    "import nemo.collections.asr as nemo_asr\n",
    "import pytorch_lightning as pl\n",
    "from omegaconf import DictConfig\n",
    "import pathlib\n",
    "import nemo.collections.asr as nemo_asr\n",
    "import pytorch_lightning as pl\n",
    "import os\n",
    "import matplotlib.pyplot as plt\n",
    "import re\n",
    "\n",
    "import copy\n",
    "import json\n",
    "import os\n",
    "import tempfile\n",
    "from math import ceil\n",
    "from typing import Dict, List, Optional, Union\n",
    "\n",
    "import torch\n",
    "from omegaconf import DictConfig, OmegaConf, open_dict\n",
    "from pytorch_lightning import Trainer\n",
    "from torch.utils.data import ChainDataset\n",
    "from tqdm.auto import tqdm\n",
    "\n",
    "from nemo.collections.asr.data import audio_to_text_dataset\n",
    "from nemo.collections.asr.data.audio_to_text_dali import DALIOutputs\n",
    "from nemo.collections.asr.losses.ctc import CTCLoss\n",
    "from nemo.collections.asr.metrics.wer import WER\n",
    "from nemo.collections.asr.models.asr_model import ASRModel, ExportableEncDecModel\n",
    "from nemo.collections.asr.parts.mixins import ASRModuleMixin\n",
    "from nemo.collections.asr.parts.preprocessing.perturb import process_augmentations\n",
    "from nemo.core.classes.common import PretrainedModelInfo, typecheck\n",
    "from nemo.core.neural_types import AudioSignal, LabelsType, LengthsType, LogprobsType, NeuralType, SpectrogramType\n",
    "from nemo.utils import logging\n",
    "from nemo.collections.tts.models import FastPitchHifiGanE2EModel\n",
    "\n",
    "import IPython.display as ipd\n",
    "import librosa\n",
    "import librosa.display\n",
    "import numpy as np\n",
    "import torch\n",
    "from matplotlib import pyplot as plt\n",
    "%matplotlib inline\n",
    "\n",
    "# Reduce logging messages for this notebook\n",
    "from nemo.utils import logging\n",
    "logging.setLevel(logging.ERROR)\n",
    "\n",
    "from nemo.collections.tts.models import FastPitchModel\n",
    "from nemo.collections.tts.models import HifiGanModel\n",
    "from nemo.collections.tts.helpers.helpers import regulate_len\n",
    "from nemo.collections.tts.models import MelGanModel\n",
    "\n",
    "import torch.nn.functional as F\n",
    "from matplotlib.pyplot import imshow\n",
    "\n",
    "from nemo.collections.tts.models import FastPitchModel\n",
    "import pytorch_lightning as pl\n",
    "\n",
    "from nemo.collections.common.callbacks import LogEpochTimeCallback\n",
    "from nemo.collections.tts.models import FastPitchModel\n",
    "from nemo.core.config import hydra_runner\n",
    "from nemo.utils import logging\n",
    "from nemo.utils.exp_manager import exp_manager\n",
    "import noisereduce as nr\n",
    "\n",
    "\n",
    "try:\n",
    "    from ruamel.yaml import YAML\n",
    "except ModuleNotFoundError:\n",
    "    from ruamel_yaml import YAML\n",
    "\n",
    "from dataset import UnpairedAudioToBPEDataset"
   ]
  },
  {
   "cell_type": "code",
   "execution_count": 80,
   "metadata": {},
   "outputs": [
    {
     "name": "stderr",
     "output_type": "stream",
     "text": [
      "GPU available: True, used: True\n",
      "TPU available: False, using: 0 TPU cores\n",
      "IPU available: False, using: 0 IPUs\n"
     ]
    },
    {
     "ename": "InterpolationKeyError",
     "evalue": "Interpolation key 'name' not found\n    full_key: exp_manager.name\n    object_type=dict",
     "output_type": "error",
     "traceback": [
      "\u001b[0;31m---------------------------------------------------------------------------\u001b[0m",
      "\u001b[0;31mInterpolationKeyError\u001b[0m                     Traceback (most recent call last)",
      "\u001b[0;32m<ipython-input-80-fafa28c4835f>\u001b[0m in \u001b[0;36m<module>\u001b[0;34m\u001b[0m\n\u001b[1;32m      9\u001b[0m                     )\n\u001b[1;32m     10\u001b[0m \u001b[0;34m\u001b[0m\u001b[0m\n\u001b[0;32m---> 11\u001b[0;31m \u001b[0mexp_manager\u001b[0m\u001b[0;34m(\u001b[0m\u001b[0mtrainer\u001b[0m\u001b[0;34m,\u001b[0m \u001b[0mDictConfig\u001b[0m\u001b[0;34m(\u001b[0m\u001b[0mconfig\u001b[0m\u001b[0;34m)\u001b[0m\u001b[0;34m.\u001b[0m\u001b[0mget\u001b[0m\u001b[0;34m(\u001b[0m\u001b[0;34m\"exp_manager\"\u001b[0m\u001b[0;34m,\u001b[0m \u001b[0;32mNone\u001b[0m\u001b[0;34m)\u001b[0m\u001b[0;34m)\u001b[0m\u001b[0;34m\u001b[0m\u001b[0;34m\u001b[0m\u001b[0m\n\u001b[0m\u001b[1;32m     12\u001b[0m \u001b[0;34m\u001b[0m\u001b[0m\n\u001b[1;32m     13\u001b[0m \u001b[0mlr_logger\u001b[0m \u001b[0;34m=\u001b[0m \u001b[0mpl\u001b[0m\u001b[0;34m.\u001b[0m\u001b[0mcallbacks\u001b[0m\u001b[0;34m.\u001b[0m\u001b[0mLearningRateMonitor\u001b[0m\u001b[0;34m(\u001b[0m\u001b[0;34m)\u001b[0m\u001b[0;34m\u001b[0m\u001b[0;34m\u001b[0m\u001b[0m\n",
      "\u001b[0;32m~/anaconda3/lib/python3.7/site-packages/nemo/utils/exp_manager.py\u001b[0m in \u001b[0;36mexp_manager\u001b[0;34m(trainer, cfg)\u001b[0m\n\u001b[1;32m    181\u001b[0m     \u001b[0;32melif\u001b[0m \u001b[0;32mnot\u001b[0m \u001b[0misinstance\u001b[0m\u001b[0;34m(\u001b[0m\u001b[0mcfg\u001b[0m\u001b[0;34m,\u001b[0m \u001b[0mDictConfig\u001b[0m\u001b[0;34m)\u001b[0m\u001b[0;34m:\u001b[0m\u001b[0;34m\u001b[0m\u001b[0;34m\u001b[0m\u001b[0m\n\u001b[1;32m    182\u001b[0m         \u001b[0;32mraise\u001b[0m \u001b[0mValueError\u001b[0m\u001b[0;34m(\u001b[0m\u001b[0;34mf\"cfg was type: {type(cfg)}. Expected either a dict or a DictConfig\"\u001b[0m\u001b[0;34m)\u001b[0m\u001b[0;34m\u001b[0m\u001b[0;34m\u001b[0m\u001b[0m\n\u001b[0;32m--> 183\u001b[0;31m     \u001b[0mcfg\u001b[0m \u001b[0;34m=\u001b[0m \u001b[0mOmegaConf\u001b[0m\u001b[0;34m.\u001b[0m\u001b[0mcreate\u001b[0m\u001b[0;34m(\u001b[0m\u001b[0mOmegaConf\u001b[0m\u001b[0;34m.\u001b[0m\u001b[0mto_container\u001b[0m\u001b[0;34m(\u001b[0m\u001b[0mcfg\u001b[0m\u001b[0;34m,\u001b[0m \u001b[0mresolve\u001b[0m\u001b[0;34m=\u001b[0m\u001b[0;32mTrue\u001b[0m\u001b[0;34m)\u001b[0m\u001b[0;34m)\u001b[0m\u001b[0;34m\u001b[0m\u001b[0;34m\u001b[0m\u001b[0m\n\u001b[0m\u001b[1;32m    184\u001b[0m     \u001b[0mcfg\u001b[0m \u001b[0;34m=\u001b[0m \u001b[0mOmegaConf\u001b[0m\u001b[0;34m.\u001b[0m\u001b[0mmerge\u001b[0m\u001b[0;34m(\u001b[0m\u001b[0mschema\u001b[0m\u001b[0;34m,\u001b[0m \u001b[0mcfg\u001b[0m\u001b[0;34m)\u001b[0m\u001b[0;34m\u001b[0m\u001b[0;34m\u001b[0m\u001b[0m\n\u001b[1;32m    185\u001b[0m \u001b[0;34m\u001b[0m\u001b[0m\n",
      "\u001b[0;32m~/anaconda3/lib/python3.7/site-packages/omegaconf/omegaconf.py\u001b[0m in \u001b[0;36mto_container\u001b[0;34m(cfg, resolve, throw_on_missing, enum_to_str, structured_config_mode)\u001b[0m\n\u001b[1;32m    556\u001b[0m             \u001b[0mthrow_on_missing\u001b[0m\u001b[0;34m=\u001b[0m\u001b[0mthrow_on_missing\u001b[0m\u001b[0;34m,\u001b[0m\u001b[0;34m\u001b[0m\u001b[0;34m\u001b[0m\u001b[0m\n\u001b[1;32m    557\u001b[0m             \u001b[0menum_to_str\u001b[0m\u001b[0;34m=\u001b[0m\u001b[0menum_to_str\u001b[0m\u001b[0;34m,\u001b[0m\u001b[0;34m\u001b[0m\u001b[0;34m\u001b[0m\u001b[0m\n\u001b[0;32m--> 558\u001b[0;31m             \u001b[0mstructured_config_mode\u001b[0m\u001b[0;34m=\u001b[0m\u001b[0mstructured_config_mode\u001b[0m\u001b[0;34m,\u001b[0m\u001b[0;34m\u001b[0m\u001b[0;34m\u001b[0m\u001b[0m\n\u001b[0m\u001b[1;32m    559\u001b[0m         )\n\u001b[1;32m    560\u001b[0m \u001b[0;34m\u001b[0m\u001b[0m\n",
      "\u001b[0;32m~/anaconda3/lib/python3.7/site-packages/omegaconf/basecontainer.py\u001b[0m in \u001b[0;36m_to_content\u001b[0;34m(conf, resolve, throw_on_missing, enum_to_str, structured_config_mode)\u001b[0m\n\u001b[1;32m    251\u001b[0m             \u001b[0mretdict\u001b[0m\u001b[0;34m:\u001b[0m \u001b[0mDict\u001b[0m\u001b[0;34m[\u001b[0m\u001b[0mDictKeyType\u001b[0m\u001b[0;34m,\u001b[0m \u001b[0mAny\u001b[0m\u001b[0;34m]\u001b[0m \u001b[0;34m=\u001b[0m \u001b[0;34m{\u001b[0m\u001b[0;34m}\u001b[0m\u001b[0;34m\u001b[0m\u001b[0;34m\u001b[0m\u001b[0m\n\u001b[1;32m    252\u001b[0m             \u001b[0;32mfor\u001b[0m \u001b[0mkey\u001b[0m \u001b[0;32min\u001b[0m \u001b[0mconf\u001b[0m\u001b[0;34m.\u001b[0m\u001b[0mkeys\u001b[0m\u001b[0;34m(\u001b[0m\u001b[0;34m)\u001b[0m\u001b[0;34m:\u001b[0m\u001b[0;34m\u001b[0m\u001b[0;34m\u001b[0m\u001b[0m\n\u001b[0;32m--> 253\u001b[0;31m                 \u001b[0mvalue\u001b[0m \u001b[0;34m=\u001b[0m \u001b[0mget_node_value\u001b[0m\u001b[0;34m(\u001b[0m\u001b[0mkey\u001b[0m\u001b[0;34m)\u001b[0m\u001b[0;34m\u001b[0m\u001b[0;34m\u001b[0m\u001b[0m\n\u001b[0m\u001b[1;32m    254\u001b[0m                 \u001b[0;32mif\u001b[0m \u001b[0menum_to_str\u001b[0m \u001b[0;32mand\u001b[0m \u001b[0misinstance\u001b[0m\u001b[0;34m(\u001b[0m\u001b[0mkey\u001b[0m\u001b[0;34m,\u001b[0m \u001b[0mEnum\u001b[0m\u001b[0;34m)\u001b[0m\u001b[0;34m:\u001b[0m\u001b[0;34m\u001b[0m\u001b[0;34m\u001b[0m\u001b[0m\n\u001b[1;32m    255\u001b[0m                     \u001b[0mkey\u001b[0m \u001b[0;34m=\u001b[0m \u001b[0;34mf\"{key.name}\"\u001b[0m\u001b[0;34m\u001b[0m\u001b[0;34m\u001b[0m\u001b[0m\n",
      "\u001b[0;32m~/anaconda3/lib/python3.7/site-packages/omegaconf/basecontainer.py\u001b[0m in \u001b[0;36mget_node_value\u001b[0;34m(key)\u001b[0m\n\u001b[1;32m    203\u001b[0m                     \u001b[0mnode\u001b[0m \u001b[0;34m=\u001b[0m \u001b[0mnode\u001b[0m\u001b[0;34m.\u001b[0m\u001b[0m_dereference_node\u001b[0m\u001b[0;34m(\u001b[0m\u001b[0;34m)\u001b[0m\u001b[0;34m\u001b[0m\u001b[0;34m\u001b[0m\u001b[0m\n\u001b[1;32m    204\u001b[0m                 \u001b[0;32mexcept\u001b[0m \u001b[0mInterpolationResolutionError\u001b[0m \u001b[0;32mas\u001b[0m \u001b[0me\u001b[0m\u001b[0;34m:\u001b[0m\u001b[0;34m\u001b[0m\u001b[0;34m\u001b[0m\u001b[0m\n\u001b[0;32m--> 205\u001b[0;31m                     \u001b[0mconf\u001b[0m\u001b[0;34m.\u001b[0m\u001b[0m_format_and_raise\u001b[0m\u001b[0;34m(\u001b[0m\u001b[0mkey\u001b[0m\u001b[0;34m=\u001b[0m\u001b[0mkey\u001b[0m\u001b[0;34m,\u001b[0m \u001b[0mvalue\u001b[0m\u001b[0;34m=\u001b[0m\u001b[0;32mNone\u001b[0m\u001b[0;34m,\u001b[0m \u001b[0mcause\u001b[0m\u001b[0;34m=\u001b[0m\u001b[0me\u001b[0m\u001b[0;34m)\u001b[0m\u001b[0;34m\u001b[0m\u001b[0;34m\u001b[0m\u001b[0m\n\u001b[0m\u001b[1;32m    206\u001b[0m \u001b[0;34m\u001b[0m\u001b[0m\n\u001b[1;32m    207\u001b[0m             \u001b[0;32mif\u001b[0m \u001b[0misinstance\u001b[0m\u001b[0;34m(\u001b[0m\u001b[0mnode\u001b[0m\u001b[0;34m,\u001b[0m \u001b[0mContainer\u001b[0m\u001b[0;34m)\u001b[0m\u001b[0;34m:\u001b[0m\u001b[0;34m\u001b[0m\u001b[0;34m\u001b[0m\u001b[0m\n",
      "\u001b[0;32m~/anaconda3/lib/python3.7/site-packages/omegaconf/base.py\u001b[0m in \u001b[0;36m_format_and_raise\u001b[0;34m(self, key, value, cause, type_override)\u001b[0m\n\u001b[1;32m    194\u001b[0m             \u001b[0mmsg\u001b[0m\u001b[0;34m=\u001b[0m\u001b[0mstr\u001b[0m\u001b[0;34m(\u001b[0m\u001b[0mcause\u001b[0m\u001b[0;34m)\u001b[0m\u001b[0;34m,\u001b[0m\u001b[0;34m\u001b[0m\u001b[0;34m\u001b[0m\u001b[0m\n\u001b[1;32m    195\u001b[0m             \u001b[0mcause\u001b[0m\u001b[0;34m=\u001b[0m\u001b[0mcause\u001b[0m\u001b[0;34m,\u001b[0m\u001b[0;34m\u001b[0m\u001b[0;34m\u001b[0m\u001b[0m\n\u001b[0;32m--> 196\u001b[0;31m             \u001b[0mtype_override\u001b[0m\u001b[0;34m=\u001b[0m\u001b[0mtype_override\u001b[0m\u001b[0;34m,\u001b[0m\u001b[0;34m\u001b[0m\u001b[0;34m\u001b[0m\u001b[0m\n\u001b[0m\u001b[1;32m    197\u001b[0m         )\n\u001b[1;32m    198\u001b[0m         \u001b[0;32massert\u001b[0m \u001b[0;32mFalse\u001b[0m\u001b[0;34m\u001b[0m\u001b[0;34m\u001b[0m\u001b[0m\n",
      "\u001b[0;32m~/anaconda3/lib/python3.7/site-packages/omegaconf/_utils.py\u001b[0m in \u001b[0;36mformat_and_raise\u001b[0;34m(node, key, value, msg, cause, type_override)\u001b[0m\n\u001b[1;32m    819\u001b[0m         \u001b[0mex\u001b[0m\u001b[0;34m.\u001b[0m\u001b[0mref_type_str\u001b[0m \u001b[0;34m=\u001b[0m \u001b[0mref_type_str\u001b[0m\u001b[0;34m\u001b[0m\u001b[0;34m\u001b[0m\u001b[0m\n\u001b[1;32m    820\u001b[0m \u001b[0;34m\u001b[0m\u001b[0m\n\u001b[0;32m--> 821\u001b[0;31m     \u001b[0m_raise\u001b[0m\u001b[0;34m(\u001b[0m\u001b[0mex\u001b[0m\u001b[0;34m,\u001b[0m \u001b[0mcause\u001b[0m\u001b[0;34m)\u001b[0m\u001b[0;34m\u001b[0m\u001b[0;34m\u001b[0m\u001b[0m\n\u001b[0m\u001b[1;32m    822\u001b[0m \u001b[0;34m\u001b[0m\u001b[0m\n\u001b[1;32m    823\u001b[0m \u001b[0;34m\u001b[0m\u001b[0m\n",
      "\u001b[0;32m~/anaconda3/lib/python3.7/site-packages/omegaconf/_utils.py\u001b[0m in \u001b[0;36m_raise\u001b[0;34m(ex, cause)\u001b[0m\n\u001b[1;32m    717\u001b[0m     \u001b[0;32melse\u001b[0m\u001b[0;34m:\u001b[0m\u001b[0;34m\u001b[0m\u001b[0;34m\u001b[0m\u001b[0m\n\u001b[1;32m    718\u001b[0m         \u001b[0mex\u001b[0m\u001b[0;34m.\u001b[0m\u001b[0m__cause__\u001b[0m \u001b[0;34m=\u001b[0m \u001b[0;32mNone\u001b[0m\u001b[0;34m\u001b[0m\u001b[0;34m\u001b[0m\u001b[0m\n\u001b[0;32m--> 719\u001b[0;31m     \u001b[0;32mraise\u001b[0m \u001b[0mex\u001b[0m\u001b[0;34m.\u001b[0m\u001b[0mwith_traceback\u001b[0m\u001b[0;34m(\u001b[0m\u001b[0msys\u001b[0m\u001b[0;34m.\u001b[0m\u001b[0mexc_info\u001b[0m\u001b[0;34m(\u001b[0m\u001b[0;34m)\u001b[0m\u001b[0;34m[\u001b[0m\u001b[0;36m2\u001b[0m\u001b[0;34m]\u001b[0m\u001b[0;34m)\u001b[0m  \u001b[0;31m# set end OC_CAUSE=1 for full backtrace\u001b[0m\u001b[0;34m\u001b[0m\u001b[0;34m\u001b[0m\u001b[0m\n\u001b[0m\u001b[1;32m    720\u001b[0m \u001b[0;34m\u001b[0m\u001b[0m\n\u001b[1;32m    721\u001b[0m \u001b[0;34m\u001b[0m\u001b[0m\n",
      "\u001b[0;32m~/anaconda3/lib/python3.7/site-packages/omegaconf/basecontainer.py\u001b[0m in \u001b[0;36mget_node_value\u001b[0;34m(key)\u001b[0m\n\u001b[1;32m    201\u001b[0m             \u001b[0;32mif\u001b[0m \u001b[0mresolve\u001b[0m\u001b[0;34m:\u001b[0m\u001b[0;34m\u001b[0m\u001b[0;34m\u001b[0m\u001b[0m\n\u001b[1;32m    202\u001b[0m                 \u001b[0;32mtry\u001b[0m\u001b[0;34m:\u001b[0m\u001b[0;34m\u001b[0m\u001b[0;34m\u001b[0m\u001b[0m\n\u001b[0;32m--> 203\u001b[0;31m                     \u001b[0mnode\u001b[0m \u001b[0;34m=\u001b[0m \u001b[0mnode\u001b[0m\u001b[0;34m.\u001b[0m\u001b[0m_dereference_node\u001b[0m\u001b[0;34m(\u001b[0m\u001b[0;34m)\u001b[0m\u001b[0;34m\u001b[0m\u001b[0;34m\u001b[0m\u001b[0m\n\u001b[0m\u001b[1;32m    204\u001b[0m                 \u001b[0;32mexcept\u001b[0m \u001b[0mInterpolationResolutionError\u001b[0m \u001b[0;32mas\u001b[0m \u001b[0me\u001b[0m\u001b[0;34m:\u001b[0m\u001b[0;34m\u001b[0m\u001b[0;34m\u001b[0m\u001b[0m\n\u001b[1;32m    205\u001b[0m                     \u001b[0mconf\u001b[0m\u001b[0;34m.\u001b[0m\u001b[0m_format_and_raise\u001b[0m\u001b[0;34m(\u001b[0m\u001b[0mkey\u001b[0m\u001b[0;34m=\u001b[0m\u001b[0mkey\u001b[0m\u001b[0;34m,\u001b[0m \u001b[0mvalue\u001b[0m\u001b[0;34m=\u001b[0m\u001b[0;32mNone\u001b[0m\u001b[0;34m,\u001b[0m \u001b[0mcause\u001b[0m\u001b[0;34m=\u001b[0m\u001b[0me\u001b[0m\u001b[0;34m)\u001b[0m\u001b[0;34m\u001b[0m\u001b[0;34m\u001b[0m\u001b[0m\n",
      "\u001b[0;32m~/anaconda3/lib/python3.7/site-packages/omegaconf/base.py\u001b[0m in \u001b[0;36m_dereference_node\u001b[0;34m(self)\u001b[0m\n\u001b[1;32m    203\u001b[0m \u001b[0;34m\u001b[0m\u001b[0m\n\u001b[1;32m    204\u001b[0m     \u001b[0;32mdef\u001b[0m \u001b[0m_dereference_node\u001b[0m\u001b[0;34m(\u001b[0m\u001b[0mself\u001b[0m\u001b[0;34m)\u001b[0m \u001b[0;34m->\u001b[0m \u001b[0;34m\"Node\"\u001b[0m\u001b[0;34m:\u001b[0m\u001b[0;34m\u001b[0m\u001b[0;34m\u001b[0m\u001b[0m\n\u001b[0;32m--> 205\u001b[0;31m         \u001b[0mnode\u001b[0m \u001b[0;34m=\u001b[0m \u001b[0mself\u001b[0m\u001b[0;34m.\u001b[0m\u001b[0m_dereference_node_impl\u001b[0m\u001b[0;34m(\u001b[0m\u001b[0mthrow_on_resolution_failure\u001b[0m\u001b[0;34m=\u001b[0m\u001b[0;32mTrue\u001b[0m\u001b[0;34m)\u001b[0m\u001b[0;34m\u001b[0m\u001b[0;34m\u001b[0m\u001b[0m\n\u001b[0m\u001b[1;32m    206\u001b[0m         \u001b[0;32massert\u001b[0m \u001b[0mnode\u001b[0m \u001b[0;32mis\u001b[0m \u001b[0;32mnot\u001b[0m \u001b[0;32mNone\u001b[0m\u001b[0;34m\u001b[0m\u001b[0;34m\u001b[0m\u001b[0m\n\u001b[1;32m    207\u001b[0m         \u001b[0;32mreturn\u001b[0m \u001b[0mnode\u001b[0m\u001b[0;34m\u001b[0m\u001b[0;34m\u001b[0m\u001b[0m\n",
      "\u001b[0;32m~/anaconda3/lib/python3.7/site-packages/omegaconf/base.py\u001b[0m in \u001b[0;36m_dereference_node_impl\u001b[0;34m(self, throw_on_resolution_failure, memo)\u001b[0m\n\u001b[1;32m    240\u001b[0m             \u001b[0mparse_tree\u001b[0m\u001b[0;34m=\u001b[0m\u001b[0mparse\u001b[0m\u001b[0;34m(\u001b[0m\u001b[0m_get_value\u001b[0m\u001b[0;34m(\u001b[0m\u001b[0mself\u001b[0m\u001b[0;34m)\u001b[0m\u001b[0;34m)\u001b[0m\u001b[0;34m,\u001b[0m\u001b[0;34m\u001b[0m\u001b[0;34m\u001b[0m\u001b[0m\n\u001b[1;32m    241\u001b[0m             \u001b[0mthrow_on_resolution_failure\u001b[0m\u001b[0;34m=\u001b[0m\u001b[0mthrow_on_resolution_failure\u001b[0m\u001b[0;34m,\u001b[0m\u001b[0;34m\u001b[0m\u001b[0;34m\u001b[0m\u001b[0m\n\u001b[0;32m--> 242\u001b[0;31m             \u001b[0mmemo\u001b[0m\u001b[0;34m=\u001b[0m\u001b[0mmemo\u001b[0m\u001b[0;34m,\u001b[0m\u001b[0;34m\u001b[0m\u001b[0;34m\u001b[0m\u001b[0m\n\u001b[0m\u001b[1;32m    243\u001b[0m         )\n\u001b[1;32m    244\u001b[0m \u001b[0;34m\u001b[0m\u001b[0m\n",
      "\u001b[0;32m~/anaconda3/lib/python3.7/site-packages/omegaconf/base.py\u001b[0m in \u001b[0;36m_resolve_interpolation_from_parse_tree\u001b[0;34m(self, parent, value, key, parse_tree, throw_on_resolution_failure, memo)\u001b[0m\n\u001b[1;32m    481\u001b[0m         \u001b[0;32mtry\u001b[0m\u001b[0;34m:\u001b[0m\u001b[0;34m\u001b[0m\u001b[0;34m\u001b[0m\u001b[0m\n\u001b[1;32m    482\u001b[0m             resolved = self.resolve_parse_tree(\n\u001b[0;32m--> 483\u001b[0;31m                 \u001b[0mparse_tree\u001b[0m\u001b[0;34m=\u001b[0m\u001b[0mparse_tree\u001b[0m\u001b[0;34m,\u001b[0m \u001b[0mnode\u001b[0m\u001b[0;34m=\u001b[0m\u001b[0mvalue\u001b[0m\u001b[0;34m,\u001b[0m \u001b[0mkey\u001b[0m\u001b[0;34m=\u001b[0m\u001b[0mkey\u001b[0m\u001b[0;34m,\u001b[0m \u001b[0mparent\u001b[0m\u001b[0;34m=\u001b[0m\u001b[0mparent\u001b[0m\u001b[0;34m,\u001b[0m \u001b[0mmemo\u001b[0m\u001b[0;34m=\u001b[0m\u001b[0mmemo\u001b[0m\u001b[0;34m\u001b[0m\u001b[0;34m\u001b[0m\u001b[0m\n\u001b[0m\u001b[1;32m    484\u001b[0m             )\n\u001b[1;32m    485\u001b[0m         \u001b[0;32mexcept\u001b[0m \u001b[0mInterpolationResolutionError\u001b[0m\u001b[0;34m:\u001b[0m\u001b[0;34m\u001b[0m\u001b[0;34m\u001b[0m\u001b[0m\n",
      "\u001b[0;32m~/anaconda3/lib/python3.7/site-packages/omegaconf/base.py\u001b[0m in \u001b[0;36mresolve_parse_tree\u001b[0;34m(self, parse_tree, node, memo, key, parent)\u001b[0m\n\u001b[1;32m    660\u001b[0m         )\n\u001b[1;32m    661\u001b[0m         \u001b[0;32mtry\u001b[0m\u001b[0;34m:\u001b[0m\u001b[0;34m\u001b[0m\u001b[0;34m\u001b[0m\u001b[0m\n\u001b[0;32m--> 662\u001b[0;31m             \u001b[0;32mreturn\u001b[0m \u001b[0mvisitor\u001b[0m\u001b[0;34m.\u001b[0m\u001b[0mvisit\u001b[0m\u001b[0;34m(\u001b[0m\u001b[0mparse_tree\u001b[0m\u001b[0;34m)\u001b[0m\u001b[0;34m\u001b[0m\u001b[0;34m\u001b[0m\u001b[0m\n\u001b[0m\u001b[1;32m    663\u001b[0m         \u001b[0;32mexcept\u001b[0m \u001b[0mInterpolationResolutionError\u001b[0m\u001b[0;34m:\u001b[0m\u001b[0;34m\u001b[0m\u001b[0;34m\u001b[0m\u001b[0m\n\u001b[1;32m    664\u001b[0m             \u001b[0;32mraise\u001b[0m\u001b[0;34m\u001b[0m\u001b[0;34m\u001b[0m\u001b[0m\n",
      "\u001b[0;32m~/anaconda3/lib/python3.7/site-packages/antlr4/tree/Tree.py\u001b[0m in \u001b[0;36mvisit\u001b[0;34m(self, tree)\u001b[0m\n\u001b[1;32m     32\u001b[0m \u001b[0;32mclass\u001b[0m \u001b[0mParseTreeVisitor\u001b[0m\u001b[0;34m(\u001b[0m\u001b[0mobject\u001b[0m\u001b[0;34m)\u001b[0m\u001b[0;34m:\u001b[0m\u001b[0;34m\u001b[0m\u001b[0;34m\u001b[0m\u001b[0m\n\u001b[1;32m     33\u001b[0m     \u001b[0;32mdef\u001b[0m \u001b[0mvisit\u001b[0m\u001b[0;34m(\u001b[0m\u001b[0mself\u001b[0m\u001b[0;34m,\u001b[0m \u001b[0mtree\u001b[0m\u001b[0;34m)\u001b[0m\u001b[0;34m:\u001b[0m\u001b[0;34m\u001b[0m\u001b[0;34m\u001b[0m\u001b[0m\n\u001b[0;32m---> 34\u001b[0;31m         \u001b[0;32mreturn\u001b[0m \u001b[0mtree\u001b[0m\u001b[0;34m.\u001b[0m\u001b[0maccept\u001b[0m\u001b[0;34m(\u001b[0m\u001b[0mself\u001b[0m\u001b[0;34m)\u001b[0m\u001b[0;34m\u001b[0m\u001b[0;34m\u001b[0m\u001b[0m\n\u001b[0m\u001b[1;32m     35\u001b[0m \u001b[0;34m\u001b[0m\u001b[0m\n\u001b[1;32m     36\u001b[0m     \u001b[0;32mdef\u001b[0m \u001b[0mvisitChildren\u001b[0m\u001b[0;34m(\u001b[0m\u001b[0mself\u001b[0m\u001b[0;34m,\u001b[0m \u001b[0mnode\u001b[0m\u001b[0;34m)\u001b[0m\u001b[0;34m:\u001b[0m\u001b[0;34m\u001b[0m\u001b[0;34m\u001b[0m\u001b[0m\n",
      "\u001b[0;32m~/anaconda3/lib/python3.7/site-packages/omegaconf/grammar/gen/OmegaConfGrammarParser.py\u001b[0m in \u001b[0;36maccept\u001b[0;34m(self, visitor)\u001b[0m\n\u001b[1;32m    203\u001b[0m         \u001b[0;32mdef\u001b[0m \u001b[0maccept\u001b[0m\u001b[0;34m(\u001b[0m\u001b[0mself\u001b[0m\u001b[0;34m,\u001b[0m \u001b[0mvisitor\u001b[0m\u001b[0;34m:\u001b[0m\u001b[0mParseTreeVisitor\u001b[0m\u001b[0;34m)\u001b[0m\u001b[0;34m:\u001b[0m\u001b[0;34m\u001b[0m\u001b[0;34m\u001b[0m\u001b[0m\n\u001b[1;32m    204\u001b[0m             \u001b[0;32mif\u001b[0m \u001b[0mhasattr\u001b[0m\u001b[0;34m(\u001b[0m \u001b[0mvisitor\u001b[0m\u001b[0;34m,\u001b[0m \u001b[0;34m\"visitConfigValue\"\u001b[0m \u001b[0;34m)\u001b[0m\u001b[0;34m:\u001b[0m\u001b[0;34m\u001b[0m\u001b[0;34m\u001b[0m\u001b[0m\n\u001b[0;32m--> 205\u001b[0;31m                 \u001b[0;32mreturn\u001b[0m \u001b[0mvisitor\u001b[0m\u001b[0;34m.\u001b[0m\u001b[0mvisitConfigValue\u001b[0m\u001b[0;34m(\u001b[0m\u001b[0mself\u001b[0m\u001b[0;34m)\u001b[0m\u001b[0;34m\u001b[0m\u001b[0;34m\u001b[0m\u001b[0m\n\u001b[0m\u001b[1;32m    206\u001b[0m             \u001b[0;32melse\u001b[0m\u001b[0;34m:\u001b[0m\u001b[0;34m\u001b[0m\u001b[0;34m\u001b[0m\u001b[0m\n\u001b[1;32m    207\u001b[0m                 \u001b[0;32mreturn\u001b[0m \u001b[0mvisitor\u001b[0m\u001b[0;34m.\u001b[0m\u001b[0mvisitChildren\u001b[0m\u001b[0;34m(\u001b[0m\u001b[0mself\u001b[0m\u001b[0;34m)\u001b[0m\u001b[0;34m\u001b[0m\u001b[0;34m\u001b[0m\u001b[0m\n",
      "\u001b[0;32m~/anaconda3/lib/python3.7/site-packages/omegaconf/grammar_visitor.py\u001b[0m in \u001b[0;36mvisitConfigValue\u001b[0;34m(self, ctx)\u001b[0m\n\u001b[1;32m     99\u001b[0m         \u001b[0;31m# text EOF\u001b[0m\u001b[0;34m\u001b[0m\u001b[0;34m\u001b[0m\u001b[0;34m\u001b[0m\u001b[0m\n\u001b[1;32m    100\u001b[0m         \u001b[0;32massert\u001b[0m \u001b[0mctx\u001b[0m\u001b[0;34m.\u001b[0m\u001b[0mgetChildCount\u001b[0m\u001b[0;34m(\u001b[0m\u001b[0;34m)\u001b[0m \u001b[0;34m==\u001b[0m \u001b[0;36m2\u001b[0m\u001b[0;34m\u001b[0m\u001b[0;34m\u001b[0m\u001b[0m\n\u001b[0;32m--> 101\u001b[0;31m         \u001b[0;32mreturn\u001b[0m \u001b[0mself\u001b[0m\u001b[0;34m.\u001b[0m\u001b[0mvisit\u001b[0m\u001b[0;34m(\u001b[0m\u001b[0mctx\u001b[0m\u001b[0;34m.\u001b[0m\u001b[0mgetChild\u001b[0m\u001b[0;34m(\u001b[0m\u001b[0;36m0\u001b[0m\u001b[0;34m)\u001b[0m\u001b[0;34m)\u001b[0m\u001b[0;34m\u001b[0m\u001b[0;34m\u001b[0m\u001b[0m\n\u001b[0m\u001b[1;32m    102\u001b[0m \u001b[0;34m\u001b[0m\u001b[0m\n\u001b[1;32m    103\u001b[0m     \u001b[0;32mdef\u001b[0m \u001b[0mvisitDictKey\u001b[0m\u001b[0;34m(\u001b[0m\u001b[0mself\u001b[0m\u001b[0;34m,\u001b[0m \u001b[0mctx\u001b[0m\u001b[0;34m:\u001b[0m \u001b[0mOmegaConfGrammarParser\u001b[0m\u001b[0;34m.\u001b[0m\u001b[0mDictKeyContext\u001b[0m\u001b[0;34m)\u001b[0m \u001b[0;34m->\u001b[0m \u001b[0mAny\u001b[0m\u001b[0;34m:\u001b[0m\u001b[0;34m\u001b[0m\u001b[0;34m\u001b[0m\u001b[0m\n",
      "\u001b[0;32m~/anaconda3/lib/python3.7/site-packages/antlr4/tree/Tree.py\u001b[0m in \u001b[0;36mvisit\u001b[0;34m(self, tree)\u001b[0m\n\u001b[1;32m     32\u001b[0m \u001b[0;32mclass\u001b[0m \u001b[0mParseTreeVisitor\u001b[0m\u001b[0;34m(\u001b[0m\u001b[0mobject\u001b[0m\u001b[0;34m)\u001b[0m\u001b[0;34m:\u001b[0m\u001b[0;34m\u001b[0m\u001b[0;34m\u001b[0m\u001b[0m\n\u001b[1;32m     33\u001b[0m     \u001b[0;32mdef\u001b[0m \u001b[0mvisit\u001b[0m\u001b[0;34m(\u001b[0m\u001b[0mself\u001b[0m\u001b[0;34m,\u001b[0m \u001b[0mtree\u001b[0m\u001b[0;34m)\u001b[0m\u001b[0;34m:\u001b[0m\u001b[0;34m\u001b[0m\u001b[0;34m\u001b[0m\u001b[0m\n\u001b[0;32m---> 34\u001b[0;31m         \u001b[0;32mreturn\u001b[0m \u001b[0mtree\u001b[0m\u001b[0;34m.\u001b[0m\u001b[0maccept\u001b[0m\u001b[0;34m(\u001b[0m\u001b[0mself\u001b[0m\u001b[0;34m)\u001b[0m\u001b[0;34m\u001b[0m\u001b[0;34m\u001b[0m\u001b[0m\n\u001b[0m\u001b[1;32m     35\u001b[0m \u001b[0;34m\u001b[0m\u001b[0m\n\u001b[1;32m     36\u001b[0m     \u001b[0;32mdef\u001b[0m \u001b[0mvisitChildren\u001b[0m\u001b[0;34m(\u001b[0m\u001b[0mself\u001b[0m\u001b[0;34m,\u001b[0m \u001b[0mnode\u001b[0m\u001b[0;34m)\u001b[0m\u001b[0;34m:\u001b[0m\u001b[0;34m\u001b[0m\u001b[0;34m\u001b[0m\u001b[0m\n",
      "\u001b[0;32m~/anaconda3/lib/python3.7/site-packages/omegaconf/grammar/gen/OmegaConfGrammarParser.py\u001b[0m in \u001b[0;36maccept\u001b[0;34m(self, visitor)\u001b[0m\n\u001b[1;32m    337\u001b[0m         \u001b[0;32mdef\u001b[0m \u001b[0maccept\u001b[0m\u001b[0;34m(\u001b[0m\u001b[0mself\u001b[0m\u001b[0;34m,\u001b[0m \u001b[0mvisitor\u001b[0m\u001b[0;34m:\u001b[0m\u001b[0mParseTreeVisitor\u001b[0m\u001b[0;34m)\u001b[0m\u001b[0;34m:\u001b[0m\u001b[0;34m\u001b[0m\u001b[0;34m\u001b[0m\u001b[0m\n\u001b[1;32m    338\u001b[0m             \u001b[0;32mif\u001b[0m \u001b[0mhasattr\u001b[0m\u001b[0;34m(\u001b[0m \u001b[0mvisitor\u001b[0m\u001b[0;34m,\u001b[0m \u001b[0;34m\"visitText\"\u001b[0m \u001b[0;34m)\u001b[0m\u001b[0;34m:\u001b[0m\u001b[0;34m\u001b[0m\u001b[0;34m\u001b[0m\u001b[0m\n\u001b[0;32m--> 339\u001b[0;31m                 \u001b[0;32mreturn\u001b[0m \u001b[0mvisitor\u001b[0m\u001b[0;34m.\u001b[0m\u001b[0mvisitText\u001b[0m\u001b[0;34m(\u001b[0m\u001b[0mself\u001b[0m\u001b[0;34m)\u001b[0m\u001b[0;34m\u001b[0m\u001b[0;34m\u001b[0m\u001b[0m\n\u001b[0m\u001b[1;32m    340\u001b[0m             \u001b[0;32melse\u001b[0m\u001b[0;34m:\u001b[0m\u001b[0;34m\u001b[0m\u001b[0;34m\u001b[0m\u001b[0m\n\u001b[1;32m    341\u001b[0m                 \u001b[0;32mreturn\u001b[0m \u001b[0mvisitor\u001b[0m\u001b[0;34m.\u001b[0m\u001b[0mvisitChildren\u001b[0m\u001b[0;34m(\u001b[0m\u001b[0mself\u001b[0m\u001b[0;34m)\u001b[0m\u001b[0;34m\u001b[0m\u001b[0;34m\u001b[0m\u001b[0m\n",
      "\u001b[0;32m~/anaconda3/lib/python3.7/site-packages/omegaconf/grammar_visitor.py\u001b[0m in \u001b[0;36mvisitText\u001b[0;34m(self, ctx)\u001b[0m\n\u001b[1;32m    296\u001b[0m             \u001b[0mc\u001b[0m \u001b[0;34m=\u001b[0m \u001b[0mctx\u001b[0m\u001b[0;34m.\u001b[0m\u001b[0mgetChild\u001b[0m\u001b[0;34m(\u001b[0m\u001b[0;36m0\u001b[0m\u001b[0;34m)\u001b[0m\u001b[0;34m\u001b[0m\u001b[0;34m\u001b[0m\u001b[0m\n\u001b[1;32m    297\u001b[0m             \u001b[0;32mif\u001b[0m \u001b[0misinstance\u001b[0m\u001b[0;34m(\u001b[0m\u001b[0mc\u001b[0m\u001b[0;34m,\u001b[0m \u001b[0mOmegaConfGrammarParser\u001b[0m\u001b[0;34m.\u001b[0m\u001b[0mInterpolationContext\u001b[0m\u001b[0;34m)\u001b[0m\u001b[0;34m:\u001b[0m\u001b[0;34m\u001b[0m\u001b[0;34m\u001b[0m\u001b[0m\n\u001b[0;32m--> 298\u001b[0;31m                 \u001b[0;32mreturn\u001b[0m \u001b[0mself\u001b[0m\u001b[0;34m.\u001b[0m\u001b[0mvisitInterpolation\u001b[0m\u001b[0;34m(\u001b[0m\u001b[0mc\u001b[0m\u001b[0;34m)\u001b[0m\u001b[0;34m\u001b[0m\u001b[0;34m\u001b[0m\u001b[0m\n\u001b[0m\u001b[1;32m    299\u001b[0m \u001b[0;34m\u001b[0m\u001b[0m\n\u001b[1;32m    300\u001b[0m         \u001b[0;31m# Otherwise, concatenate string representations together.\u001b[0m\u001b[0;34m\u001b[0m\u001b[0;34m\u001b[0m\u001b[0;34m\u001b[0m\u001b[0m\n",
      "\u001b[0;32m~/anaconda3/lib/python3.7/site-packages/omegaconf/grammar_visitor.py\u001b[0m in \u001b[0;36mvisitInterpolation\u001b[0;34m(self, ctx)\u001b[0m\n\u001b[1;32m    123\u001b[0m     ) -> Any:\n\u001b[1;32m    124\u001b[0m         \u001b[0;32massert\u001b[0m \u001b[0mctx\u001b[0m\u001b[0;34m.\u001b[0m\u001b[0mgetChildCount\u001b[0m\u001b[0;34m(\u001b[0m\u001b[0;34m)\u001b[0m \u001b[0;34m==\u001b[0m \u001b[0;36m1\u001b[0m  \u001b[0;31m# interpolationNode | interpolationResolver\u001b[0m\u001b[0;34m\u001b[0m\u001b[0;34m\u001b[0m\u001b[0m\n\u001b[0;32m--> 125\u001b[0;31m         \u001b[0;32mreturn\u001b[0m \u001b[0mself\u001b[0m\u001b[0;34m.\u001b[0m\u001b[0mvisit\u001b[0m\u001b[0;34m(\u001b[0m\u001b[0mctx\u001b[0m\u001b[0;34m.\u001b[0m\u001b[0mgetChild\u001b[0m\u001b[0;34m(\u001b[0m\u001b[0;36m0\u001b[0m\u001b[0;34m)\u001b[0m\u001b[0;34m)\u001b[0m\u001b[0;34m\u001b[0m\u001b[0;34m\u001b[0m\u001b[0m\n\u001b[0m\u001b[1;32m    126\u001b[0m \u001b[0;34m\u001b[0m\u001b[0m\n\u001b[1;32m    127\u001b[0m     def visitInterpolationNode(\n",
      "\u001b[0;32m~/anaconda3/lib/python3.7/site-packages/antlr4/tree/Tree.py\u001b[0m in \u001b[0;36mvisit\u001b[0;34m(self, tree)\u001b[0m\n\u001b[1;32m     32\u001b[0m \u001b[0;32mclass\u001b[0m \u001b[0mParseTreeVisitor\u001b[0m\u001b[0;34m(\u001b[0m\u001b[0mobject\u001b[0m\u001b[0;34m)\u001b[0m\u001b[0;34m:\u001b[0m\u001b[0;34m\u001b[0m\u001b[0;34m\u001b[0m\u001b[0m\n\u001b[1;32m     33\u001b[0m     \u001b[0;32mdef\u001b[0m \u001b[0mvisit\u001b[0m\u001b[0;34m(\u001b[0m\u001b[0mself\u001b[0m\u001b[0;34m,\u001b[0m \u001b[0mtree\u001b[0m\u001b[0;34m)\u001b[0m\u001b[0;34m:\u001b[0m\u001b[0;34m\u001b[0m\u001b[0;34m\u001b[0m\u001b[0m\n\u001b[0;32m---> 34\u001b[0;31m         \u001b[0;32mreturn\u001b[0m \u001b[0mtree\u001b[0m\u001b[0;34m.\u001b[0m\u001b[0maccept\u001b[0m\u001b[0;34m(\u001b[0m\u001b[0mself\u001b[0m\u001b[0;34m)\u001b[0m\u001b[0;34m\u001b[0m\u001b[0;34m\u001b[0m\u001b[0m\n\u001b[0m\u001b[1;32m     35\u001b[0m \u001b[0;34m\u001b[0m\u001b[0m\n\u001b[1;32m     36\u001b[0m     \u001b[0;32mdef\u001b[0m \u001b[0mvisitChildren\u001b[0m\u001b[0;34m(\u001b[0m\u001b[0mself\u001b[0m\u001b[0;34m,\u001b[0m \u001b[0mnode\u001b[0m\u001b[0;34m)\u001b[0m\u001b[0;34m:\u001b[0m\u001b[0;34m\u001b[0m\u001b[0;34m\u001b[0m\u001b[0m\n",
      "\u001b[0;32m~/anaconda3/lib/python3.7/site-packages/omegaconf/grammar/gen/OmegaConfGrammarParser.py\u001b[0m in \u001b[0;36maccept\u001b[0;34m(self, visitor)\u001b[0m\n\u001b[1;32m    909\u001b[0m         \u001b[0;32mdef\u001b[0m \u001b[0maccept\u001b[0m\u001b[0;34m(\u001b[0m\u001b[0mself\u001b[0m\u001b[0;34m,\u001b[0m \u001b[0mvisitor\u001b[0m\u001b[0;34m:\u001b[0m\u001b[0mParseTreeVisitor\u001b[0m\u001b[0;34m)\u001b[0m\u001b[0;34m:\u001b[0m\u001b[0;34m\u001b[0m\u001b[0;34m\u001b[0m\u001b[0m\n\u001b[1;32m    910\u001b[0m             \u001b[0;32mif\u001b[0m \u001b[0mhasattr\u001b[0m\u001b[0;34m(\u001b[0m \u001b[0mvisitor\u001b[0m\u001b[0;34m,\u001b[0m \u001b[0;34m\"visitInterpolationNode\"\u001b[0m \u001b[0;34m)\u001b[0m\u001b[0;34m:\u001b[0m\u001b[0;34m\u001b[0m\u001b[0;34m\u001b[0m\u001b[0m\n\u001b[0;32m--> 911\u001b[0;31m                 \u001b[0;32mreturn\u001b[0m \u001b[0mvisitor\u001b[0m\u001b[0;34m.\u001b[0m\u001b[0mvisitInterpolationNode\u001b[0m\u001b[0;34m(\u001b[0m\u001b[0mself\u001b[0m\u001b[0;34m)\u001b[0m\u001b[0;34m\u001b[0m\u001b[0;34m\u001b[0m\u001b[0m\n\u001b[0m\u001b[1;32m    912\u001b[0m             \u001b[0;32melse\u001b[0m\u001b[0;34m:\u001b[0m\u001b[0;34m\u001b[0m\u001b[0;34m\u001b[0m\u001b[0m\n\u001b[1;32m    913\u001b[0m                 \u001b[0;32mreturn\u001b[0m \u001b[0mvisitor\u001b[0m\u001b[0;34m.\u001b[0m\u001b[0mvisitChildren\u001b[0m\u001b[0;34m(\u001b[0m\u001b[0mself\u001b[0m\u001b[0;34m)\u001b[0m\u001b[0;34m\u001b[0m\u001b[0;34m\u001b[0m\u001b[0m\n",
      "\u001b[0;32m~/anaconda3/lib/python3.7/site-packages/omegaconf/grammar_visitor.py\u001b[0m in \u001b[0;36mvisitInterpolationNode\u001b[0;34m(self, ctx)\u001b[0m\n\u001b[1;32m    156\u001b[0m \u001b[0;34m\u001b[0m\u001b[0m\n\u001b[1;32m    157\u001b[0m         \u001b[0minter_key\u001b[0m \u001b[0;34m=\u001b[0m \u001b[0;34m\"\"\u001b[0m\u001b[0;34m.\u001b[0m\u001b[0mjoin\u001b[0m\u001b[0;34m(\u001b[0m\u001b[0minter_key_tokens\u001b[0m\u001b[0;34m)\u001b[0m\u001b[0;34m\u001b[0m\u001b[0;34m\u001b[0m\u001b[0m\n\u001b[0;32m--> 158\u001b[0;31m         \u001b[0;32mreturn\u001b[0m \u001b[0mself\u001b[0m\u001b[0;34m.\u001b[0m\u001b[0mnode_interpolation_callback\u001b[0m\u001b[0;34m(\u001b[0m\u001b[0minter_key\u001b[0m\u001b[0;34m,\u001b[0m \u001b[0mself\u001b[0m\u001b[0;34m.\u001b[0m\u001b[0mmemo\u001b[0m\u001b[0;34m)\u001b[0m\u001b[0;34m\u001b[0m\u001b[0;34m\u001b[0m\u001b[0m\n\u001b[0m\u001b[1;32m    159\u001b[0m \u001b[0;34m\u001b[0m\u001b[0m\n\u001b[1;32m    160\u001b[0m     def visitInterpolationResolver(\n",
      "\u001b[0;32m~/anaconda3/lib/python3.7/site-packages/omegaconf/base.py\u001b[0m in \u001b[0;36mnode_interpolation_callback\u001b[0;34m(inter_key, memo)\u001b[0m\n\u001b[1;32m    641\u001b[0m             \u001b[0minter_key\u001b[0m\u001b[0;34m:\u001b[0m \u001b[0mstr\u001b[0m\u001b[0;34m,\u001b[0m \u001b[0mmemo\u001b[0m\u001b[0;34m:\u001b[0m \u001b[0mOptional\u001b[0m\u001b[0;34m[\u001b[0m\u001b[0mSet\u001b[0m\u001b[0;34m[\u001b[0m\u001b[0mint\u001b[0m\u001b[0;34m]\u001b[0m\u001b[0;34m]\u001b[0m\u001b[0;34m\u001b[0m\u001b[0;34m\u001b[0m\u001b[0m\n\u001b[1;32m    642\u001b[0m         ) -> Optional[\"Node\"]:\n\u001b[0;32m--> 643\u001b[0;31m             \u001b[0;32mreturn\u001b[0m \u001b[0mself\u001b[0m\u001b[0;34m.\u001b[0m\u001b[0m_resolve_node_interpolation\u001b[0m\u001b[0;34m(\u001b[0m\u001b[0minter_key\u001b[0m\u001b[0;34m=\u001b[0m\u001b[0minter_key\u001b[0m\u001b[0;34m,\u001b[0m \u001b[0mmemo\u001b[0m\u001b[0;34m=\u001b[0m\u001b[0mmemo\u001b[0m\u001b[0;34m)\u001b[0m\u001b[0;34m\u001b[0m\u001b[0;34m\u001b[0m\u001b[0m\n\u001b[0m\u001b[1;32m    644\u001b[0m \u001b[0;34m\u001b[0m\u001b[0m\n\u001b[1;32m    645\u001b[0m         def resolver_interpolation_callback(\n",
      "\u001b[0;32m~/anaconda3/lib/python3.7/site-packages/omegaconf/base.py\u001b[0m in \u001b[0;36m_resolve_node_interpolation\u001b[0;34m(self, inter_key, memo)\u001b[0m\n\u001b[1;32m    571\u001b[0m \u001b[0;34m\u001b[0m\u001b[0m\n\u001b[1;32m    572\u001b[0m         \u001b[0;32mif\u001b[0m \u001b[0mparent\u001b[0m \u001b[0;32mis\u001b[0m \u001b[0;32mNone\u001b[0m \u001b[0;32mor\u001b[0m \u001b[0mvalue\u001b[0m \u001b[0;32mis\u001b[0m \u001b[0;32mNone\u001b[0m\u001b[0;34m:\u001b[0m\u001b[0;34m\u001b[0m\u001b[0;34m\u001b[0m\u001b[0m\n\u001b[0;32m--> 573\u001b[0;31m             \u001b[0;32mraise\u001b[0m \u001b[0mInterpolationKeyError\u001b[0m\u001b[0;34m(\u001b[0m\u001b[0;34mf\"Interpolation key '{inter_key}' not found\"\u001b[0m\u001b[0;34m)\u001b[0m\u001b[0;34m\u001b[0m\u001b[0;34m\u001b[0m\u001b[0m\n\u001b[0m\u001b[1;32m    574\u001b[0m         \u001b[0;32melse\u001b[0m\u001b[0;34m:\u001b[0m\u001b[0;34m\u001b[0m\u001b[0;34m\u001b[0m\u001b[0m\n\u001b[1;32m    575\u001b[0m             \u001b[0mself\u001b[0m\u001b[0;34m.\u001b[0m\u001b[0m_validate_not_dereferencing_to_parent\u001b[0m\u001b[0;34m(\u001b[0m\u001b[0mnode\u001b[0m\u001b[0;34m=\u001b[0m\u001b[0mself\u001b[0m\u001b[0;34m,\u001b[0m \u001b[0mtarget\u001b[0m\u001b[0;34m=\u001b[0m\u001b[0mvalue\u001b[0m\u001b[0;34m)\u001b[0m\u001b[0;34m\u001b[0m\u001b[0;34m\u001b[0m\u001b[0m\n",
      "\u001b[0;31mInterpolationKeyError\u001b[0m: Interpolation key 'name' not found\n    full_key: exp_manager.name\n    object_type=dict"
     ]
    }
   ],
   "source": [
    "trainer = pl.Trainer(max_epochs=1,\n",
    "                     gpus=1,\n",
    "                     checkpoint_callback=False,\n",
    "#                      logger=False,\n",
    "                     gradient_clip_val=1000.0,\n",
    "                     flush_logs_every_n_steps=1000,\n",
    "                     log_every_n_steps=100,\n",
    "                     check_val_every_n_epoch=3, \n",
    "                    )\n",
    "\n",
    "exp_manager(trainer, DictConfig(config).get(\"exp_manager\", None))\n",
    "\n",
    "lr_logger = pl.callbacks.LearningRateMonitor()\n",
    "epoch_time_logger = LogEpochTimeCallback()\n",
    "trainer.callbacks.extend([lr_logger, epoch_time_logger])\n",
    "# trainer.fit(asr_model)"
   ]
  },
  {
   "cell_type": "code",
   "execution_count": 31,
   "metadata": {},
   "outputs": [],
   "source": [
    "def training_step(model, batch, batch_nb):\n",
    "    signal, signal_len, transcript, transcript_len = batch\n",
    "    if isinstance(batch, DALIOutputs) and batch.has_processed_signal:\n",
    "        log_probs, encoded_len, predictions = model.forward(\n",
    "            processed_signal=signal, processed_signal_length=signal_len\n",
    "        )\n",
    "    else:\n",
    "        log_probs, encoded_len, predictions = model.forward(input_signal=signal, input_signal_length=signal_len)\n",
    "\n",
    "    loss_value = model.loss(\n",
    "        log_probs=log_probs, targets=transcript, input_lengths=encoded_len, target_lengths=transcript_len\n",
    "    )\n",
    "\n",
    "#     tensorboard_logs = {'train_loss': loss_value, 'learning_rate': self._optimizer.param_groups[0]['lr']}\n",
    "\n",
    "#     if hasattr(model, '_trainer') and model._trainer is not None:\n",
    "#         log_every_n_steps = self._trainer.log_every_n_steps\n",
    "#     else:\n",
    "#         log_every_n_steps = 1\n",
    "\n",
    "#     if (batch_nb + 1) % log_every_n_steps == 0:\n",
    "#         self._wer.update(\n",
    "#             predictions=predictions,\n",
    "#             targets=transcript,\n",
    "#             target_lengths=transcript_len,\n",
    "#             predictions_lengths=encoded_len,\n",
    "#         )\n",
    "#         wer, _, _ = self._wer.compute()\n",
    "#         self._wer.reset()\n",
    "#         tensorboard_logs.update({'training_batch_wer': wer})\n",
    "\n",
    "    return {'loss': loss_value} #, 'log': tensorboard_logs}"
   ]
  },
  {
   "cell_type": "code",
   "execution_count": 8,
   "metadata": {},
   "outputs": [],
   "source": [
    "def tts_training_step(batch, batch_idx):\n",
    "        \n",
    "    spec_gen.on_train_batch_start(batch, batch_idx, dataloader_idx)\n",
    "\n",
    "    spec_gen.on_before_batch_transfer(batch, dataloader_idx)\n",
    "    spec_gen.transfer_batch_to_device(batch, torch.device(\"cuda\"), dataloader_idx)\n",
    "    spec_gen.on_after_batch_transfer(batch, dataloader_idx)\n",
    "\n",
    "    # |-------------------------------------------------------------|\n",
    "\n",
    "    attn_prior, durs, speaker = None, None, None\n",
    "    audio, audio_lens, text, text_lens, attn_prior, pitch, speaker = batch\n",
    "\n",
    "    mels, spec_len = spec_gen.preprocessor(input_signal=audio, length=audio_lens)\n",
    "\n",
    "    mels_pred, _, _, log_durs_pred, pitch_pred, attn_soft, attn_logprob, attn_hard, attn_hard_dur, pitch = spec_gen(\n",
    "        text=text,\n",
    "        durs=durs,\n",
    "        pitch=pitch,\n",
    "        speaker=speaker,\n",
    "        pace=1.0,\n",
    "        spec=mels,\n",
    "        attn_prior=attn_prior,\n",
    "        mel_lens=spec_len,\n",
    "        input_lens=text_lens,\n",
    "    )\n",
    "    if durs is None:\n",
    "        durs = attn_hard_dur\n",
    "\n",
    "    mel_loss = spec_gen.mel_loss(spect_predicted=mels_pred, spect_tgt=mels)\n",
    "    dur_loss = spec_gen.duration_loss(log_durs_predicted=log_durs_pred, durs_tgt=durs, len=text_lens)\n",
    "    loss = mel_loss + dur_loss\n",
    "#         if self.learn_alignment:\n",
    "    ctc_loss = spec_gen.forward_sum_loss(attn_logprob=attn_logprob, in_lens=text_lens, out_lens=spec_len)\n",
    "    bin_loss_weight = min(spec_gen.current_epoch / spec_gen.bin_loss_warmup_epochs, 1.0) * 1.0\n",
    "    bin_loss = spec_gen.bin_loss(hard_attention=attn_hard, soft_attention=attn_soft) * bin_loss_weight\n",
    "    loss += ctc_loss + bin_loss\n",
    "\n",
    "    pitch_loss = spec_gen.pitch_loss(pitch_predicted=pitch_pred, pitch_tgt=pitch, len=text_lens)\n",
    "    loss += pitch_loss\n",
    "\n",
    "    # |-------------------------------------------------------------|\n",
    "\n",
    "    spec_gen.on_before_zero_grad(spec_gen._optimizer)\n",
    "    spec_gen.optimizer_zero_grad(epoch, batch_idx, spec_gen._optimizer, batch_idx)\n",
    "\n",
    "    spec_gen.on_before_backward(loss)\n",
    "    spec_gen.backward(loss, spec_gen._optimizer, batch_idx)\n",
    "    spec_gen.on_after_backward()\n",
    "\n",
    "    spec_gen.on_before_optimizer_step(spec_gen._optimizer, batch_idx)\n",
    "    spec_gen.optimizer_step(epoch, batch_idx, spec_gen._optimizer, batch_idx)\n",
    "\n",
    "    spec_gen.on_train_batch_end(mels_pred, batch, batch_idx, dataloader_idx)\n",
    "\n",
    "    # |-------------------------------------------------------------|\n",
    "\n",
    "    batch = [audio, audio_lens, mels_pred]\n",
    "\n",
    "    vocoder.on_train_batch_start(batch, batch_idx, dataloader_idx)\n",
    "\n",
    "#         vocoder.on_before_batch_transfer(batch, dataloader_idx)\n",
    "#         vocoder.transfer_batch_to_device(batch, torch.device(\"cuda\"), dataloader_idx)\n",
    "#         vocoder.on_after_batch_transfer(batch, dataloader_idx)\n",
    "\n",
    "    # |-------------------------------------------------------------|\n",
    "\n",
    "    audio, audio_len, audio_mel = batch\n",
    "\n",
    "    # Mel as input for L1 mel loss\n",
    "    audio_trg_mel, _ = vocoder.trg_melspec_fn(audio, audio_len)\n",
    "    audio = audio.unsqueeze(1)\n",
    "\n",
    "    audio_pred = vocoder.generator(x=audio_mel)\n",
    "    audio_pred_mel, _ = vocoder.trg_melspec_fn(audio_pred.squeeze(1), audio_len)\n",
    "\n",
    "    optim_g, optim_d = vocoder.optim_g, vocoder.optim_g\n",
    "\n",
    "    # Train discriminator\n",
    "    vocoder.on_before_zero_grad(optim_d)\n",
    "    vocoder.optimizer_zero_grad(epoch, batch_idx, optim_d, batch_idx)\n",
    "\n",
    "    mpd_score_real, mpd_score_gen, _, _ = vocoder.mpd(y=audio, y_hat=audio_pred.detach())\n",
    "    loss_disc_mpd, _, _ = vocoder.discriminator_loss(\n",
    "        disc_real_outputs=mpd_score_real, disc_generated_outputs=mpd_score_gen\n",
    "    )\n",
    "    msd_score_real, msd_score_gen, _, _ = vocoder.msd(y=audio, y_hat=audio_pred.detach())\n",
    "    loss_disc_msd, _, _ = vocoder.discriminator_loss(\n",
    "        disc_real_outputs=msd_score_real, disc_generated_outputs=msd_score_gen\n",
    "    )\n",
    "    loss_d = loss_disc_msd + loss_disc_mpd\n",
    "#         spec_gen.backward(loss_d, optim_g, 0)\n",
    "#         optim_d.step()\n",
    "\n",
    "    # |-------------------------------------------------------------|\n",
    "\n",
    "    vocoder.on_before_backward(loss_d)\n",
    "    vocoder.backward(loss_d, optim_d, 0)\n",
    "    vocoder.on_after_backward()\n",
    "\n",
    "    vocoder.on_before_optimizer_step(optim_d, batch_idx)\n",
    "    vocoder.optimizer_step(epoch, batch_idx, optim_d, 0)\n",
    "\n",
    "    # |-------------------------------------------------------------|\n",
    "\n",
    "\n",
    "#         # Train generator\n",
    "#         spec_gen.on_before_zero_grad(optim_g)\n",
    "#         spec_gen.optimizer_zero_grad(epoch, batch_idx, optim_g, batch_idx)\n",
    "\n",
    "#         loss_mel = F.l1_loss(audio_pred_mel, audio_trg_mel)\n",
    "#         _, mpd_score_gen, fmap_mpd_real, fmap_mpd_gen = vocoder.mpd(y=audio, y_hat=audio_pred)\n",
    "#         _, msd_score_gen, fmap_msd_real, fmap_msd_gen = vocoder.msd(y=audio, y_hat=audio_pred)\n",
    "#         loss_fm_mpd = vocoder.feature_loss(fmap_r=fmap_mpd_real, fmap_g=fmap_mpd_gen)\n",
    "#         loss_fm_msd = vocoder.feature_loss(fmap_r=fmap_msd_real, fmap_g=fmap_msd_gen)\n",
    "#         loss_gen_mpd, _ = vocoder.generator_loss(disc_outputs=mpd_score_gen)\n",
    "#         loss_gen_msd, _ = vocoder.generator_loss(disc_outputs=msd_score_gen)\n",
    "#         loss_g = loss_gen_msd + loss_gen_mpd + loss_fm_msd + loss_fm_mpd + loss_mel * vocoder.l1_factor\n",
    "\n",
    "#         spec_gen.on_before_backward(loss_g)\n",
    "#         spec_gen.backward(loss_g, optim_g, 0)\n",
    "#         spec_gen.on_after_backward()\n",
    "\n",
    "#         spec_gen.on_before_optimizer_step(optim_g, batch_idx)\n",
    "#         spec_gen.optimizer_step(epoch, batch_idx, optim_g, 0)\n",
    "\n",
    "#         # Run schedulers\n",
    "    schedulers = vocoder.lr_schedulers()\n",
    "    if schedulers is not None:\n",
    "        sch1, sch2 = schedulers\n",
    "        sch1.step()\n",
    "        sch2.step()\n",
    "    vocoder.on_train_batch_end(audio_pred, batch, batch_idx, dataloader_idx)\n",
    "\n",
    "    # |-------------------------------------------------------------|\n",
    "\n",
    "    return loss.cpu().detach().numpy(), loss_d.cpu().detach().numpy()"
   ]
  },
  {
   "cell_type": "code",
   "execution_count": 6,
   "metadata": {},
   "outputs": [
    {
     "data": {
      "text/plain": [
       "tensor([[ 0, 86, 92, 74, 98,  0]], device='cuda:0')"
      ]
     },
     "execution_count": 6,
     "metadata": {},
     "output_type": "execute_result"
    }
   ],
   "source": [
    "spec_gen.parse('qwe')"
   ]
  },
  {
   "cell_type": "code",
   "execution_count": 11,
   "metadata": {
    "scrolled": true
   },
   "outputs": [
    {
     "data": {
      "text/plain": [
       "[48,\n",
       " 2,\n",
       " 47,\n",
       " 10,\n",
       " 56,\n",
       " 345,\n",
       " 12,\n",
       " 664,\n",
       " 1,\n",
       " 8,\n",
       " 23,\n",
       " 514,\n",
       " 303,\n",
       " 346,\n",
       " 10,\n",
       " 284,\n",
       " 0,\n",
       " 70,\n",
       " 24,\n",
       " 553,\n",
       " 30,\n",
       " 55,\n",
       " 914,\n",
       " 14,\n",
       " 215,\n",
       " 34,\n",
       " 148,\n",
       " 27,\n",
       " 15,\n",
       " 1,\n",
       " 47,\n",
       " 40,\n",
       " 101,\n",
       " 1,\n",
       " 3,\n",
       " 272,\n",
       " 345,\n",
       " 44,\n",
       " 2,\n",
       " 315,\n",
       " 378,\n",
       " 147,\n",
       " 68,\n",
       " 10,\n",
       " 819,\n",
       " 22,\n",
       " 18,\n",
       " 697,\n",
       " 1,\n",
       " 0]"
      ]
     },
     "execution_count": 11,
     "metadata": {},
     "output_type": "execute_result"
    }
   ],
   "source": [
    "asr_model.tokenizer.text_to_ids('with the reduction of numbers to be accommodated, there was ample space in newgate for its reconstruction on the most approved modern lines.')"
   ]
  },
  {
   "cell_type": "code",
   "execution_count": 10,
   "metadata": {},
   "outputs": [
    {
     "name": "stdout",
     "output_type": "stream",
     "text": [
      "[tensor([[ 0.0002,  0.0002,  0.0003,  ..., -0.0003, -0.0007, -0.0008]]), tensor([186013]), tensor([[ 48,   2,  47,  10,  56, 345,  12, 664,   1,   8,  23, 514, 303, 346,\n",
      "          10, 284,   0,  70,  24, 553,  30,  55, 914,  14, 215,  34, 148,  27,\n",
      "          15,   1,  47,  40, 101,   1,   3, 272, 345,  44,   2, 315, 378, 147,\n",
      "          68,  10, 819,  22,  18, 697,   1,   0]]), tensor([50])]\n"
     ]
    }
   ],
   "source": [
    "for batch in asr_model.train_dataloader():\n",
    "    print(batch)\n",
    "    break"
   ]
  },
  {
   "cell_type": "code",
   "execution_count": 9,
   "metadata": {
    "scrolled": true
   },
   "outputs": [
    {
     "name": "stdout",
     "output_type": "stream",
     "text": [
      "0 2.664061 4.1731133\n",
      "1 2.3329694 4.1397004\n",
      "2 2.1727934 4.1421585\n"
     ]
    },
    {
     "ename": "KeyboardInterrupt",
     "evalue": "",
     "output_type": "error",
     "traceback": [
      "\u001b[0;31m---------------------------------------------------------------------------\u001b[0m",
      "\u001b[0;31mKeyboardInterrupt\u001b[0m                         Traceback (most recent call last)",
      "\u001b[0;32m<ipython-input-9-3122135d8fc6>\u001b[0m in \u001b[0;36m<module>\u001b[0;34m\u001b[0m\n\u001b[1;32m     12\u001b[0m         \u001b[0mbatch\u001b[0m \u001b[0;34m=\u001b[0m \u001b[0;34m[\u001b[0m\u001b[0msignal\u001b[0m\u001b[0;34m,\u001b[0m \u001b[0msignal_len\u001b[0m\u001b[0;34m,\u001b[0m \u001b[0mtranscript\u001b[0m\u001b[0;34m,\u001b[0m \u001b[0mtranscript_len\u001b[0m\u001b[0;34m,\u001b[0m \u001b[0mattn_prior\u001b[0m\u001b[0;34m,\u001b[0m \u001b[0mpitch\u001b[0m\u001b[0;34m,\u001b[0m \u001b[0mspeaker\u001b[0m\u001b[0;34m]\u001b[0m\u001b[0;34m\u001b[0m\u001b[0;34m\u001b[0m\u001b[0m\n\u001b[1;32m     13\u001b[0m \u001b[0;34m\u001b[0m\u001b[0m\n\u001b[0;32m---> 14\u001b[0;31m         \u001b[0mloss\u001b[0m\u001b[0;34m,\u001b[0m \u001b[0mloss_d\u001b[0m \u001b[0;34m=\u001b[0m \u001b[0mtts_training_step\u001b[0m\u001b[0;34m(\u001b[0m\u001b[0mbatch\u001b[0m\u001b[0;34m,\u001b[0m \u001b[0mbatch_idx\u001b[0m\u001b[0;34m)\u001b[0m\u001b[0;34m\u001b[0m\u001b[0;34m\u001b[0m\u001b[0m\n\u001b[0m\u001b[1;32m     15\u001b[0m         \u001b[0mloss_avg\u001b[0m\u001b[0;34m.\u001b[0m\u001b[0mappend\u001b[0m\u001b[0;34m(\u001b[0m\u001b[0mloss\u001b[0m\u001b[0;34m)\u001b[0m\u001b[0;34m\u001b[0m\u001b[0;34m\u001b[0m\u001b[0m\n\u001b[1;32m     16\u001b[0m         \u001b[0mloss_d_avg\u001b[0m\u001b[0;34m.\u001b[0m\u001b[0mappend\u001b[0m\u001b[0;34m(\u001b[0m\u001b[0mloss_d\u001b[0m\u001b[0;34m)\u001b[0m\u001b[0;34m\u001b[0m\u001b[0;34m\u001b[0m\u001b[0m\n",
      "\u001b[0;32m<ipython-input-8-e5043dbd0e16>\u001b[0m in \u001b[0;36mtts_training_step\u001b[0;34m(batch, batch_idx)\u001b[0m\n\u001b[1;32m    135\u001b[0m     \u001b[0;31m# |-------------------------------------------------------------|\u001b[0m\u001b[0;34m\u001b[0m\u001b[0;34m\u001b[0m\u001b[0;34m\u001b[0m\u001b[0m\n\u001b[1;32m    136\u001b[0m \u001b[0;34m\u001b[0m\u001b[0m\n\u001b[0;32m--> 137\u001b[0;31m     \u001b[0;32mreturn\u001b[0m \u001b[0mloss\u001b[0m\u001b[0;34m.\u001b[0m\u001b[0mcpu\u001b[0m\u001b[0;34m(\u001b[0m\u001b[0;34m)\u001b[0m\u001b[0;34m.\u001b[0m\u001b[0mdetach\u001b[0m\u001b[0;34m(\u001b[0m\u001b[0;34m)\u001b[0m\u001b[0;34m.\u001b[0m\u001b[0mnumpy\u001b[0m\u001b[0;34m(\u001b[0m\u001b[0;34m)\u001b[0m\u001b[0;34m,\u001b[0m \u001b[0mloss_d\u001b[0m\u001b[0;34m.\u001b[0m\u001b[0mcpu\u001b[0m\u001b[0;34m(\u001b[0m\u001b[0;34m)\u001b[0m\u001b[0;34m.\u001b[0m\u001b[0mdetach\u001b[0m\u001b[0;34m(\u001b[0m\u001b[0;34m)\u001b[0m\u001b[0;34m.\u001b[0m\u001b[0mnumpy\u001b[0m\u001b[0;34m(\u001b[0m\u001b[0;34m)\u001b[0m\u001b[0;34m\u001b[0m\u001b[0;34m\u001b[0m\u001b[0m\n\u001b[0m",
      "\u001b[0;31mKeyboardInterrupt\u001b[0m: "
     ]
    }
   ],
   "source": [
    "on_train_start()\n",
    "\n",
    "dataloader_idx = 0\n",
    "for epoch in range(5):\n",
    "    loss_avg = []\n",
    "    loss_d_avg = []\n",
    "    for batch_idx, batch in enumerate(spec_gen.train_dataloader()):\n",
    "        signal, signal_len, transcript, transcript_len, attn_prior, pitch, speaker = batch\n",
    "        signal, signal_len, transcript, transcript_len, attn_prior, pitch = \\\n",
    "            signal.cuda(), signal_len.cuda(), \\\n",
    "            transcript.cuda(), transcript_len.cuda(), attn_prior.cuda(), pitch.cuda()\n",
    "        batch = [signal, signal_len, transcript, transcript_len, attn_prior, pitch, speaker]\n",
    "        \n",
    "        loss, loss_d = tts_training_step(batch, batch_idx)\n",
    "        loss_avg.append(loss)\n",
    "        loss_d_avg.append(loss_d)\n",
    "#         print(loss_value)\n",
    "    print(epoch, np.mean(loss_avg), np.mean(loss_d_avg))"
   ]
  },
  {
   "cell_type": "code",
   "execution_count": 2,
   "metadata": {},
   "outputs": [],
   "source": [
    "def hifigan_training_step(self, batch, batch_idx):\n",
    "        if self.input_as_mel:\n",
    "            # Pre-computed spectrograms will be used as input\n",
    "            audio, audio_len, audio_mel = batch\n",
    "        else:\n",
    "            audio, audio_len = batch\n",
    "            audio_mel, _ = self.audio_to_melspec_precessor(audio, audio_len)\n",
    "\n",
    "        # Mel as input for L1 mel loss\n",
    "        audio_trg_mel, _ = self.trg_melspec_fn(audio, audio_len)\n",
    "        audio = audio.unsqueeze(1)\n",
    "\n",
    "        audio_pred = self.generator(x=audio_mel)\n",
    "        audio_pred_mel, _ = self.trg_melspec_fn(audio_pred.squeeze(1), audio_len)\n",
    "\n",
    "        optim_g, optim_d = self.optimizers()\n",
    "\n",
    "        # Train discriminator\n",
    "        optim_d.zero_grad()\n",
    "        mpd_score_real, mpd_score_gen, _, _ = self.mpd(y=audio, y_hat=audio_pred.detach())\n",
    "        loss_disc_mpd, _, _ = self.discriminator_loss(\n",
    "            disc_real_outputs=mpd_score_real, disc_generated_outputs=mpd_score_gen\n",
    "        )\n",
    "        msd_score_real, msd_score_gen, _, _ = self.msd(y=audio, y_hat=audio_pred.detach())\n",
    "        loss_disc_msd, _, _ = self.discriminator_loss(\n",
    "            disc_real_outputs=msd_score_real, disc_generated_outputs=msd_score_gen\n",
    "        )\n",
    "        loss_d = loss_disc_msd + loss_disc_mpd\n",
    "        self.manual_backward(loss_d)\n",
    "        optim_d.step()\n",
    "\n",
    "        # Train generator\n",
    "        optim_g.zero_grad()\n",
    "        loss_mel = F.l1_loss(audio_pred_mel, audio_trg_mel)\n",
    "        _, mpd_score_gen, fmap_mpd_real, fmap_mpd_gen = self.mpd(y=audio, y_hat=audio_pred)\n",
    "        _, msd_score_gen, fmap_msd_real, fmap_msd_gen = self.msd(y=audio, y_hat=audio_pred)\n",
    "        loss_fm_mpd = self.feature_loss(fmap_r=fmap_mpd_real, fmap_g=fmap_mpd_gen)\n",
    "        loss_fm_msd = self.feature_loss(fmap_r=fmap_msd_real, fmap_g=fmap_msd_gen)\n",
    "        loss_gen_mpd, _ = self.generator_loss(disc_outputs=mpd_score_gen)\n",
    "        loss_gen_msd, _ = self.generator_loss(disc_outputs=msd_score_gen)\n",
    "        loss_g = loss_gen_msd + loss_gen_mpd + loss_fm_msd + loss_fm_mpd + loss_mel * self.l1_factor\n",
    "        self.manual_backward(loss_g)\n",
    "        optim_g.step()\n",
    "\n",
    "        # Run schedulers\n",
    "        schedulers = self.lr_schedulers()\n",
    "        if schedulers is not None:\n",
    "            sch1, sch2 = schedulers\n",
    "            sch1.step()\n",
    "            sch2.step()\n",
    "\n",
    "        metrics = {\n",
    "            \"g_loss_fm_mpd\": loss_fm_mpd,\n",
    "            \"g_loss_fm_msd\": loss_fm_msd,\n",
    "            \"g_loss_gen_mpd\": loss_gen_mpd,\n",
    "            \"g_loss_gen_msd\": loss_gen_msd,\n",
    "            \"g_loss\": loss_g,\n",
    "            \"d_loss_mpd\": loss_disc_mpd,\n",
    "            \"d_loss_msd\": loss_disc_msd,\n",
    "            \"d_loss\": loss_d,\n",
    "            \"global_step\": self.global_step,\n",
    "            \"lr\": optim_g.param_groups[0]['lr'],\n",
    "        }\n",
    "        self.log_dict(metrics, on_step=True, sync_dist=True)\n",
    "        self.log(\"g_l1_loss\", loss_mel, prog_bar=True, logger=False, sync_dist=True)"
   ]
  },
  {
   "cell_type": "code",
   "execution_count": 2,
   "metadata": {},
   "outputs": [],
   "source": [
    "config_path = 'stt_en_citrinet_256_gamma_0_25'\n",
    "config_name = 'model_config.yaml'\n",
    "yaml = YAML(typ='safe')\n",
    "\n",
    "with open(os.path.join(config_path, config_name)) as f:\n",
    "    config = yaml.load(f)\n",
    "\n",
    "config['tokenizer']['dir'] = 'citrinet_tokenizer/tokenizer_spe_unigram_v1024'\n",
    "config['tokenizer']['type'] = 'bpe'\n",
    "\n",
    "config['train_ds']['manifest_filepath']=\"../../datasets/LJSpeech-1.1/small_manifest.json\"\n",
    "# config['train_ds']['manifest_filepath']=\"../../datasets/an4/train_manifest.json\"\n",
    "config['train_ds']['batch_size'] = 1\n",
    "config['train_ds']['num_workers'] = 12\n",
    "config['train_ds']['pin_memory'] = True\n",
    "\n",
    "config['validation_ds']['manifest_filepath']=\"../../datasets/LJSpeech-1.1/train_manifest_text.json\"\n",
    "# config['validation_ds']['manifest_filepath']=\"../../datasets/an4/test_manifest.json\"\n",
    "config['validation_ds']['batch_size'] = 1\n",
    "config['validation_ds']['num_workers'] = 12\n",
    "config['validation_ds']['pin_memory'] = True\n",
    "\n",
    "config['tokenizer']['model_path'] = 'stt_en_citrinet_256_gamma_0_25/3d20ebb793c84a64a20c7ad26fc64d62_tokenizer.model'\n",
    "config['tokenizer']['vocab_path'] = 'stt_en_citrinet_256_gamma_0_25/df5191f216004f10a268c44e90fdb63f_vocab.txt'\n",
    "config['tokenizer']['spe_tokenizer_vocab'] = 'stt_en_citrinet_256_gamma_0_25/b774eaac83804907843607272fde21a4_tokenizer.vocab'\n",
    "\n",
    "asr_model = nemo_asr.models.EncDecCTCModelBPE(cfg=DictConfig(config))\n",
    "\n",
    "# asr_model.setup_optimization()"
   ]
  },
  {
   "cell_type": "code",
   "execution_count": 3,
   "metadata": {},
   "outputs": [
    {
     "name": "stderr",
     "output_type": "stream",
     "text": [
      "[NeMo E 2022-02-07 01:51:31 fastpitch:345] The train dataloader for FastPitchModel() has shuffle set to False!!!\n",
      "[NeMo E 2022-02-07 01:51:31 vocabs:324] Torch distributed needs to be initialized before you initialized <nemo.collections.asr.data.vocabs.Phonemes object at 0x7f842efd41d0>. This class is prone to data access race conditions. Now downloading corpora from global rank 0. If other ranks pass this before rank 0, errors might result.\n",
      "[NeMo E 2022-02-07 01:51:33 vocabs:324] Torch distributed needs to be initialized before you initialized <nemo.collections.asr.data.vocabs.Phonemes object at 0x7f8404176510>. This class is prone to data access race conditions. Now downloading corpora from global rank 0. If other ranks pass this before rank 0, errors might result.\n",
      "[NeMo E 2022-02-07 01:51:34 vocabs:324] Torch distributed needs to be initialized before you initialized <nemo.collections.asr.data.vocabs.Phonemes object at 0x7f83fc4e5090>. This class is prone to data access race conditions. Now downloading corpora from global rank 0. If other ranks pass this before rank 0, errors might result.\n",
      "[NeMo E 2022-02-07 01:51:36 vocabs:324] Torch distributed needs to be initialized before you initialized <nemo.collections.asr.data.vocabs.Phonemes object at 0x7f83f48ffc50>. This class is prone to data access race conditions. Now downloading corpora from global rank 0. If other ranks pass this before rank 0, errors might result.\n"
     ]
    }
   ],
   "source": [
    "config_path = 'configs'\n",
    "config_name = 'fastpitch_align.yaml'\n",
    "yaml = YAML(typ='safe')\n",
    "\n",
    "with open(os.path.join(config_path, config_name)) as f:\n",
    "    config = yaml.load(f)\n",
    "\n",
    "config['model']['train_ds']['manifest_filepath']=\"../../datasets/LJSpeech-1.1/small_manifest.json\"\n",
    "config['model']['train_ds']['batch_size'] = 1\n",
    "config['model']['train_ds']['num_workers'] = 12\n",
    "config['model']['train_ds']['pin_memory'] = True\n",
    "\n",
    "config['model']['validation_ds']['manifest_filepath']=\"../../datasets/LJSpeech-1.1/train_manifest_text.json\"\n",
    "config['model']['validation_ds']['batch_size'] = 1\n",
    "config['model']['validation_ds']['num_workers'] = 12\n",
    "config['model']['validation_ds']['pin_memory'] = True\n",
    "\n",
    "config['init_from_nemo_model'] = './tts_en_fastpitch_align.nemo'\n",
    "\n",
    "spec_gen = FastPitchModel.from_config_dict(DictConfig(config['model']))\n",
    "spec_gen.maybe_init_from_pretrained_checkpoint(cfg=DictConfig(config))"
   ]
  },
  {
   "cell_type": "code",
   "execution_count": 4,
   "metadata": {},
   "outputs": [],
   "source": [
    "config_path = 'conf/hifigan'\n",
    "config_name = 'hifigan22050.yaml'\n",
    "yaml = YAML(typ='safe')\n",
    "\n",
    "with open(os.path.join(config_path, config_name)) as f:\n",
    "    config = yaml.load(f)\n",
    "\n",
    "vocoder = HifiGanModel.from_config_dict(DictConfig(config))\n",
    "vocoder.maybe_init_from_pretrained_checkpoint(cfg=DictConfig(config))"
   ]
  },
  {
   "cell_type": "code",
   "execution_count": 5,
   "metadata": {},
   "outputs": [],
   "source": [
    "# config_path = 'conf'\n",
    "# config_name = 'model_config_melgan.yaml'\n",
    "# yaml = YAML(typ='safe')\n",
    "\n",
    "# with open(os.path.join(config_path, config_name)) as f:\n",
    "#     config = yaml.load(f)\n",
    "\n",
    "# vocoder = MelGanModel.from_config_dict(DictConfig(config))"
   ]
  },
  {
   "cell_type": "code",
   "execution_count": 5,
   "metadata": {},
   "outputs": [],
   "source": [
    "asr_model.cuda()\n",
    "spec_gen.cuda()\n",
    "vocoder.train().cuda()\n",
    "\n",
    "pass"
   ]
  },
  {
   "cell_type": "code",
   "execution_count": null,
   "metadata": {},
   "outputs": [],
   "source": []
  },
  {
   "cell_type": "code",
   "execution_count": 7,
   "metadata": {
    "scrolled": false
   },
   "outputs": [
    {
     "data": {
      "text/plain": [
       "(Adam (\n",
       " Parameter Group 0\n",
       "     amsgrad: False\n",
       "     betas: [0.9, 0.98]\n",
       "     eps: 1e-08\n",
       "     lr: 0.0002\n",
       "     weight_decay: 1e-06\n",
       " ),\n",
       " None)"
      ]
     },
     "execution_count": 7,
     "metadata": {},
     "output_type": "execute_result"
    }
   ],
   "source": [
    "spec_gen.setup_optimization()"
   ]
  },
  {
   "cell_type": "code",
   "execution_count": 7,
   "metadata": {},
   "outputs": [],
   "source": [
    "def on_train_start():\n",
    "    asr_model.configure_optimizers()\n",
    "    spec_gen.configure_optimizers()\n",
    "    vocoder.configure_optimizers()\n",
    "    asr_model.configure_callbacks()\n",
    "    spec_gen.configure_callbacks()\n",
    "    vocoder.configure_callbacks()\n",
    "\n",
    "    asr_model.on_fit_start()\n",
    "    spec_gen.on_fit_start()\n",
    "    vocoder.on_fit_start()\n",
    "    asr_model.setup(\"fit\")\n",
    "    spec_gen.setup(\"fit\")\n",
    "    vocoder.setup(\"fit\")\n",
    "\n",
    "    asr_model.on_pretrain_routine_start()\n",
    "    spec_gen.on_pretrain_routine_start()\n",
    "    vocoder.on_pretrain_routine_start()\n",
    "\n",
    "    asr_model.on_pretrain_routine_end()\n",
    "    spec_gen.on_pretrain_routine_end()\n",
    "    vocoder.on_pretrain_routine_end()\n",
    "\n",
    "    asr_model.on_train_start()\n",
    "    spec_gen.on_train_start()\n",
    "    vocoder.on_train_start()\n",
    "    \n",
    "def on_epoch_start():\n",
    "    asr_model.on_epoch_start()\n",
    "    spec_gen.on_epoch_start()\n",
    "    vocoder.on_epoch_start()\n",
    "    asr_model.on_train_epoch_start()\n",
    "    spec_gen.on_train_epoch_start()\n",
    "    vocoder.on_train_epoch_start()"
   ]
  },
  {
   "cell_type": "code",
   "execution_count": 9,
   "metadata": {},
   "outputs": [],
   "source": [
    "on_train_start()"
   ]
  },
  {
   "cell_type": "code",
   "execution_count": 8,
   "metadata": {},
   "outputs": [
    {
     "name": "stderr",
     "output_type": "stream",
     "text": [
      "GPU available: True, used: True\n",
      "TPU available: False, using: 0 TPU cores\n",
      "IPU available: False, using: 0 IPUs\n",
      "LOCAL_RANK: 0 - CUDA_VISIBLE_DEVICES: [0]\n",
      "\n",
      "  | Name             | Type                              | Params\n",
      "-----------------------------------------------------------------------\n",
      "0 | mel_loss         | MelLoss                           | 0     \n",
      "1 | pitch_loss       | PitchLoss                         | 0     \n",
      "2 | duration_loss    | DurationLoss                      | 0     \n",
      "3 | aligner          | AlignmentEncoder                  | 1.0 M \n",
      "4 | forward_sum_loss | ForwardSumLoss                    | 0     \n",
      "5 | bin_loss         | BinLoss                           | 0     \n",
      "6 | preprocessor     | AudioToMelSpectrogramPreprocessor | 0     \n",
      "7 | fastpitch        | FastPitchModule                   | 45.8 M\n",
      "-----------------------------------------------------------------------\n",
      "45.8 M    Trainable params\n",
      "0         Non-trainable params\n",
      "45.8 M    Total params\n",
      "183.035   Total estimated model params size (MB)\n"
     ]
    },
    {
     "data": {
      "application/vnd.jupyter.widget-view+json": {
       "model_id": "",
       "version_major": 2,
       "version_minor": 0
      },
      "text/plain": [
       "Validation sanity check: 0it [00:00, ?it/s]"
      ]
     },
     "metadata": {},
     "output_type": "display_data"
    },
    {
     "data": {
      "application/vnd.jupyter.widget-view+json": {
       "model_id": "18ba4a5041414bec83d2e89d44a4c742",
       "version_major": 2,
       "version_minor": 0
      },
      "text/plain": [
       "Training: -1it [00:00, ?it/s]"
      ]
     },
     "metadata": {},
     "output_type": "display_data"
    },
    {
     "data": {
      "application/vnd.jupyter.widget-view+json": {
       "model_id": "",
       "version_major": 2,
       "version_minor": 0
      },
      "text/plain": [
       "Validating: 0it [00:00, ?it/s]"
      ]
     },
     "metadata": {},
     "output_type": "display_data"
    },
    {
     "data": {
      "application/vnd.jupyter.widget-view+json": {
       "model_id": "",
       "version_major": 2,
       "version_minor": 0
      },
      "text/plain": [
       "Validating: 0it [00:00, ?it/s]"
      ]
     },
     "metadata": {},
     "output_type": "display_data"
    },
    {
     "data": {
      "application/vnd.jupyter.widget-view+json": {
       "model_id": "",
       "version_major": 2,
       "version_minor": 0
      },
      "text/plain": [
       "Validating: 0it [00:00, ?it/s]"
      ]
     },
     "metadata": {},
     "output_type": "display_data"
    },
    {
     "data": {
      "application/vnd.jupyter.widget-view+json": {
       "model_id": "",
       "version_major": 2,
       "version_minor": 0
      },
      "text/plain": [
       "Validating: 0it [00:00, ?it/s]"
      ]
     },
     "metadata": {},
     "output_type": "display_data"
    },
    {
     "data": {
      "application/vnd.jupyter.widget-view+json": {
       "model_id": "",
       "version_major": 2,
       "version_minor": 0
      },
      "text/plain": [
       "Validating: 0it [00:00, ?it/s]"
      ]
     },
     "metadata": {},
     "output_type": "display_data"
    }
   ],
   "source": [
    "trainer = pl.Trainer(max_epochs=110, gpus=1)\n",
    "\n",
    "trainer.fit(spec_gen)\n"
   ]
  },
  {
   "cell_type": "code",
   "execution_count": 10,
   "metadata": {},
   "outputs": [],
   "source": [
    "def paired_asr_training_step(batch_idx, asr_batch, dataloader_idx=0):\n",
    "    asr_model.on_train_batch_start(asr_batch, batch_idx, dataloader_idx)\n",
    "\n",
    "    asr_model.on_before_batch_transfer(asr_batch, dataloader_idx)\n",
    "    asr_model.transfer_batch_to_device(asr_batch, torch.device(\"cuda\"), dataloader_idx)\n",
    "    asr_model.on_after_batch_transfer(asr_batch, dataloader_idx)\n",
    "\n",
    "    signal, signal_len, transcript, transcript_len = asr_batch\n",
    "        \n",
    "    signal, signal_len, transcript, transcript_len = signal.cuda(), signal_len.cuda(), \\\n",
    "        transcript.cuda(), transcript_len.cuda()\n",
    "    \n",
    "    log_probs, encoded_len, predictions = asr_model.forward(input_signal=signal, input_signal_length=signal_len)\n",
    "\n",
    "    loss = asr_model.loss(\n",
    "        log_probs=log_probs, targets=transcript, input_lengths=encoded_len, target_lengths=transcript_len\n",
    "    )\n",
    "    \n",
    "    print(signal.shape, loss)\n",
    "\n",
    "    asr_model.on_before_zero_grad(asr_model._optimizer)\n",
    "    asr_model.optimizer_zero_grad(epoch, batch_idx, asr_model._optimizer, batch_idx)\n",
    "\n",
    "    asr_model.on_before_backward(loss)\n",
    "    asr_model.backward(loss, asr_model._optimizer, batch_idx)\n",
    "    asr_model.on_after_backward()\n",
    "\n",
    "    asr_model.on_before_optimizer_step(asr_model._optimizer, batch_idx)\n",
    "    asr_model.optimizer_step(epoch, batch_idx, asr_model._optimizer, batch_idx)\n",
    "\n",
    "    asr_model.on_train_batch_end(predictions, asr_batch, batch_idx, dataloader_idx)\n",
    "    \n",
    "    del log_probs, encoded_len, predictions\n",
    "#     del signal, signal_len, transcript, transcript_len\n",
    "    \n",
    "    return loss.cpu().detach()"
   ]
  },
  {
   "cell_type": "code",
   "execution_count": 11,
   "metadata": {},
   "outputs": [],
   "source": [
    "def paired_spec_gen_vocoder_step(batch_idx, tts_batch, dataloader_idx=0):\n",
    "    spec_gen.on_train_batch_start(tts_batch, batch_idx, dataloader_idx)\n",
    "        \n",
    "    spec_gen.on_before_batch_transfer(tts_batch, dataloader_idx)\n",
    "    spec_gen.transfer_batch_to_device(tts_batch, torch.device(\"cuda\"), dataloader_idx)\n",
    "    spec_gen.on_after_batch_transfer(tts_batch, dataloader_idx)\n",
    "\n",
    "    audio, audio_lens, text, text_lens, attn_prior, pitch, speaker = tts_batch\n",
    "    audio, audio_lens, text, text_lens, attn_prior, pitch, speaker = audio.cuda(), \\\n",
    "        audio_lens.cuda(), text.cuda(), text_lens.cuda(), attn_prior, pitch, speaker\n",
    "    \n",
    "    if pitch is not None:\n",
    "        pitch = pitch.cuda()\n",
    "        \n",
    "    attn_prior, durs, speaker = None, None, None\n",
    "\n",
    "    mels, spec_len = spec_gen.preprocessor(input_signal=audio, length=audio_lens)\n",
    "\n",
    "    mels_pred, _, _, log_durs_pred, pitch_pred, attn_soft, attn_logprob, attn_hard, attn_hard_dur, pitch = \\\n",
    "    spec_gen.forward(\n",
    "        text=text,\n",
    "        durs=durs,\n",
    "        pitch=pitch,\n",
    "        speaker=speaker,\n",
    "        pace=1.0,\n",
    "        spec=mels,\n",
    "        attn_prior=attn_prior,\n",
    "        mel_lens=spec_len,\n",
    "        input_lens=text_lens,\n",
    "    )\n",
    "\n",
    "    if durs is None:\n",
    "        durs = attn_hard_dur\n",
    "\n",
    "    mel_loss = spec_gen.mel_loss(spect_predicted=mels_pred, spect_tgt=mels)\n",
    "    dur_loss = spec_gen.duration_loss(\n",
    "        log_durs_predicted=log_durs_pred.cuda(), durs_tgt=durs.cuda(), len=text_lens.cuda())\n",
    "    spec_gen_loss = mel_loss + dur_loss\n",
    "\n",
    "    if pitch is not None:    \n",
    "        pitch_loss = spec_gen.pitch_loss(pitch_predicted=pitch_pred.cuda(), pitch_tgt=pitch,\n",
    "                                      len=text_lens.cuda())\n",
    "    else:\n",
    "        pitch_loss = 0\n",
    "    spec_gen_loss += pitch_loss\n",
    "\n",
    "    spec_gen.on_before_zero_grad(spec_gen._optimizer)\n",
    "    spec_gen.optimizer_zero_grad(epoch, batch_idx, spec_gen._optimizer, batch_idx)\n",
    "\n",
    "    spec_gen.on_before_backward(spec_gen_loss)\n",
    "    spec_gen.backward(spec_gen_loss, spec_gen._optimizer, batch_idx)\n",
    "    spec_gen.on_after_backward()\n",
    "\n",
    "    spec_gen.on_before_optimizer_step(spec_gen._optimizer, batch_idx)\n",
    "    spec_gen.optimizer_step(epoch, batch_idx, spec_gen._optimizer, batch_idx)\n",
    "\n",
    "    spec_gen.on_train_batch_end(mels_pred, tts_batch, batch_idx, dataloader_idx)\n",
    "\n",
    "    del mels, spec_len\n",
    "    del log_durs_pred, pitch_pred, attn_soft, attn_logprob, attn_hard, attn_hard_dur, pitch\n",
    "    del mel_loss, dur_loss\n",
    "    \n",
    "    # vocoder\n",
    "\n",
    "    vocoder.on_train_batch_start(tts_batch, batch_idx, dataloader_idx)\n",
    "\n",
    "    vocoder.on_before_batch_transfer(tts_batch, dataloader_idx)\n",
    "    vocoder.transfer_batch_to_device(tts_batch, torch.device(\"cuda\"), dataloader_idx)\n",
    "    vocoder.on_after_batch_transfer(tts_batch, dataloader_idx)\n",
    "    \n",
    "#     audio_mel, _ = vocoder.audio_to_melspec_precessor(audio, audio_lens)\n",
    "    audio_trg_mel, _ = vocoder.trg_melspec_fn(audio, audio_lens)\n",
    "    audio = audio.unsqueeze(1)\n",
    "\n",
    "    audio_pred = vocoder.generator(x=mels_pred)\n",
    "    audio_pred_mel, _ = vocoder.trg_melspec_fn(audio_pred.squeeze(1), audio_lens)\n",
    "\n",
    "    audio = audio_pred[:, :audio.shape[1]]\n",
    "    \n",
    "    [optim_d, optim_g], [sch1, sch2] = vocoder.configure_optimizers()\n",
    "    \n",
    "    # train discriminator\n",
    "    vocoder.on_before_zero_grad(optim_d)\n",
    "    vocoder.optimizer_zero_grad(epoch, batch_idx, optim_d, batch_idx)\n",
    "    optim_d.zero_grad()\n",
    "    mpd_score_real, mpd_score_gen, _, _ = vocoder.mpd(y=audio, y_hat=audio_pred.detach())\n",
    "    loss_disc_mpd, _, _ = vocoder.discriminator_loss(\n",
    "        disc_real_outputs=mpd_score_real, disc_generated_outputs=mpd_score_gen\n",
    "    )\n",
    "    msd_score_real, msd_score_gen, _, _ = vocoder.msd(y=audio, y_hat=audio_pred.detach())\n",
    "    loss_disc_msd, _, _ = vocoder.discriminator_loss(\n",
    "        disc_real_outputs=msd_score_real, disc_generated_outputs=msd_score_gen\n",
    "    )\n",
    "    loss_d = loss_disc_msd + loss_disc_mpd\n",
    "    vocoder.on_before_backward(loss_d)\n",
    "#     vocoder.backward(loss_d, optimizer=optim_d, optimizer_idx=0)\n",
    "    optim_d.step()\n",
    "    vocoder.on_after_backward()\n",
    "\n",
    "    vocoder.on_before_optimizer_step(optim_d, batch_idx)\n",
    "    vocoder.optimizer_step(epoch, batch_idx, optim_d, batch_idx)\n",
    "    \n",
    "    # train generator\n",
    "    vocoder.on_before_zero_grad(optim_g)\n",
    "    vocoder.optimizer_zero_grad(epoch, batch_idx, optim_g, batch_idx)\n",
    "    optim_g.zero_grad()\n",
    "    audio_pred_mel_ = audio_pred_mel.squeeze(1)[:, :, :audio_trg_mel.shape[2]]\n",
    "    audio_trg_mel_ = audio_trg_mel.squeeze(1)[:, :, :audio_pred_mel_.shape[2]]\n",
    "    \n",
    "    loss_mel = F.l1_loss(audio_pred_mel_, audio_trg_mel_)\n",
    "    _, mpd_score_gen, fmap_mpd_real, fmap_mpd_gen = vocoder.mpd(y=audio, y_hat=audio_pred)\n",
    "    _, msd_score_gen, fmap_msd_real, fmap_msd_gen = vocoder.msd(y=audio, y_hat=audio_pred)\n",
    "    \n",
    "    loss_fm_mpd = vocoder.feature_loss(fmap_r=fmap_mpd_real, fmap_g=fmap_mpd_gen)\n",
    "    loss_fm_msd = vocoder.feature_loss(fmap_r=fmap_msd_real, fmap_g=fmap_msd_gen)\n",
    "    loss_gen_mpd, _ = vocoder.generator_loss(disc_outputs=mpd_score_gen)\n",
    "    loss_gen_msd, _ = vocoder.generator_loss(disc_outputs=msd_score_gen)\n",
    "    loss_g = loss_gen_msd + loss_gen_mpd + loss_fm_msd + loss_fm_mpd + loss_mel * vocoder.l1_factor\n",
    "    vocoder.on_before_backward(loss_g)\n",
    "#     vocoder.backward(loss_g, optimizer=optim_d, optimizer_idx=1)\n",
    "    vocoder.on_after_backward()\n",
    "    optim_g.step()\n",
    "    vocoder.on_before_optimizer_step(optim_g, batch_idx)\n",
    "    vocoder.optimizer_step(epoch, batch_idx, optim_g, batch_idx)\n",
    "    # run schedulers\n",
    "\n",
    "    sch1, sch2 = vocoder.scheduler_d, vocoder.scheduler_g\n",
    "    sch1.step()\n",
    "    sch2.step()\n",
    "\n",
    "    vocoder.on_train_batch_end(audio_pred, tts_batch, batch_idx, dataloader_idx)\n",
    "    \n",
    "#     loss_d.cpu().detach()\n",
    "#     loss_g.cpu().detach()\n",
    "        \n",
    "#     vocoder_loss = loss_d + loss_g\n",
    "        \n",
    "    del audio_pred\n",
    "#     del loss_d, loss_g\n",
    "    del tts_batch\n",
    "    del audio, audio_lens, text, text_lens\n",
    "    del audio_pred_mel_, audio_trg_mel_\n",
    "    del loss_mel\n",
    "    del mpd_score_gen, fmap_mpd_real, fmap_mpd_gen\n",
    "    del msd_score_gen, fmap_msd_real, fmap_msd_gen\n",
    "    del loss_fm_mpd, loss_fm_msd, loss_gen_mpd, loss_gen_msd\n",
    "#     del audio\n",
    "#     del \n",
    "        \n",
    "    return spec_gen_loss.cpu().detach().numpy(), loss_d.cpu().detach().numpy(), loss_g.cpu().detach().numpy()"
   ]
  },
  {
   "cell_type": "code",
   "execution_count": null,
   "metadata": {},
   "outputs": [],
   "source": []
  },
  {
   "cell_type": "code",
   "execution_count": 12,
   "metadata": {},
   "outputs": [],
   "source": [
    "def dual_transformation_asr_step(batch_idx, raw_signal_batch, dataloader_idx=0):\n",
    "    signal, signal_len, _, _ = raw_signal_batch\n",
    "    signal, signal_len = signal.cuda(), signal_len.cuda()\n",
    "\n",
    "    log_probs, encoded_len, predictions = asr_model.forward(input_signal=signal, input_signal_length=signal_len)\n",
    "\n",
    "    current_hypotheses = asr_model._wer.ctc_decoder_predictions_tensor(\n",
    "        predictions, predictions_len=encoded_len, return_hypotheses=False,\n",
    "    )\n",
    "        \n",
    "    transcript = spec_gen.parse(current_hypotheses[0])\n",
    "        \n",
    "    transcript_len = torch.tensor([len(transcript)])\n",
    "        \n",
    "    batch = (signal.cpu().detach(), signal_len.cpu().detach(), \\\n",
    "             transcript.cpu().detach(), transcript_len.cpu().detach(), None, None, None)\n",
    "    \n",
    "    del log_probs, encoded_len, predictions, current_hypotheses\n",
    "    \n",
    "    return paired_spec_gen_vocoder_step(batch_idx, batch)"
   ]
  },
  {
   "cell_type": "code",
   "execution_count": 13,
   "metadata": {},
   "outputs": [],
   "source": [
    "def dual_transformation_tts_step(batch_idx, raw_text_batch, dataloader_idx=0):\n",
    "    _, _, text, text_lens = raw_text_batch\n",
    "    text, text_lens = text.cuda(), text_lens.cuda()\n",
    "    \n",
    "    target = asr_model._wer.ctc_decoder_predictions_tensor(\n",
    "        text, predictions_len=text_lens, return_hypotheses=False,\n",
    "    )\n",
    "\n",
    "    print(target)\n",
    "\n",
    "    parsed = spec_gen.parse(target[0])\n",
    "#     text_len = torch.tensor([len(text[0])])\n",
    "#     print(text, text_len)\n",
    "#     text = text.squeeze(0)  \n",
    "        \n",
    "    mels_pred = spec_gen.generate_spectrogram(tokens=parsed)\n",
    "    signal = vocoder.convert_spectrogram_to_audio(spec=mels_pred)\n",
    "    signal_len = torch.tensor([len(signal[0])])\n",
    "#     signal = signal.squeeze(0)\n",
    "        \n",
    "    del mels_pred\n",
    "    \n",
    "    return paired_asr_training_step(batch_idx, (signal, signal_len, text, text_lens))"
   ]
  },
  {
   "cell_type": "code",
   "execution_count": 14,
   "metadata": {},
   "outputs": [],
   "source": [
    "def on_epoch_end():\n",
    "    asr_model.on_train_epoch_end() \n",
    "    spec_gen.on_train_epoch_end()\n",
    "    vocoder.on_train_epoch_end()\n",
    "    \n",
    "    asr_model.on_epoch_end()\n",
    "    spec_gen.on_epoch_end()\n",
    "    vocoder.on_epoch_end()\n",
    "    \n",
    "def on_train_end():\n",
    "    asr_model.on_train_end()\n",
    "    spec_gen.on_train_end()\n",
    "    vocoder.on_train_end()\n",
    "\n",
    "    asr_model.on_fit_end()\n",
    "    spec_gen.on_fit_end()\n",
    "    vocoder.on_fit_end()\n",
    "\n",
    "    asr_model.teardown(\"fit\")\n",
    "    spec_gen.teardown(\"fit\")\n",
    "    vocoder.teardown(\"fit\")"
   ]
  },
  {
   "cell_type": "code",
   "execution_count": 15,
   "metadata": {},
   "outputs": [],
   "source": [
    "def flip_batch(batch):\n",
    "    for i in range(len(batch)):\n",
    "        try:\n",
    "            for j in range(len(batch[i])):\n",
    "                batch[i][j] = torch.flip(batch[i][j], dims=[0])\n",
    "        except Exception:\n",
    "            pass\n",
    "    return batch"
   ]
  },
  {
   "cell_type": "code",
   "execution_count": 16,
   "metadata": {},
   "outputs": [],
   "source": [
    "max_epochs = 10\n",
    "\n",
    "dataloader_idx = 0\n",
    "\n",
    "on_train_start()\n",
    "\n",
    "overall_loss = {'epoch': [], 'asr_model_loss': [], 'spec_gen_loss': [], 'vocoder_loss': []}"
   ]
  },
  {
   "cell_type": "code",
   "execution_count": 12,
   "metadata": {
    "scrolled": true
   },
   "outputs": [
    {
     "ename": "NameError",
     "evalue": "name 'max_epochs' is not defined",
     "output_type": "error",
     "traceback": [
      "\u001b[0;31m---------------------------------------------------------------------------\u001b[0m",
      "\u001b[0;31mNameError\u001b[0m                                 Traceback (most recent call last)",
      "\u001b[0;32m<ipython-input-12-13008997bdb1>\u001b[0m in \u001b[0;36m<module>\u001b[0;34m\u001b[0m\n\u001b[0;32m----> 1\u001b[0;31m \u001b[0;32mfor\u001b[0m \u001b[0mepoch\u001b[0m \u001b[0;32min\u001b[0m \u001b[0mrange\u001b[0m\u001b[0;34m(\u001b[0m\u001b[0mmax_epochs\u001b[0m\u001b[0;34m)\u001b[0m\u001b[0;34m:\u001b[0m\u001b[0;34m\u001b[0m\u001b[0;34m\u001b[0m\u001b[0m\n\u001b[0m\u001b[1;32m      2\u001b[0m     \u001b[0mepoch_loss\u001b[0m \u001b[0;34m=\u001b[0m \u001b[0;34m{\u001b[0m\u001b[0;34m'asr_model_loss'\u001b[0m\u001b[0;34m:\u001b[0m \u001b[0;34m[\u001b[0m\u001b[0;34m]\u001b[0m\u001b[0;34m,\u001b[0m \u001b[0;34m'spec_gen_loss'\u001b[0m\u001b[0;34m:\u001b[0m \u001b[0;34m[\u001b[0m\u001b[0;34m]\u001b[0m\u001b[0;34m,\u001b[0m \u001b[0;34m'vocoder_loss'\u001b[0m\u001b[0;34m:\u001b[0m \u001b[0;34m[\u001b[0m\u001b[0;34m]\u001b[0m\u001b[0;34m}\u001b[0m\u001b[0;34m\u001b[0m\u001b[0;34m\u001b[0m\u001b[0m\n\u001b[1;32m      3\u001b[0m \u001b[0;34m\u001b[0m\u001b[0m\n\u001b[1;32m      4\u001b[0m     \u001b[0mon_epoch_start\u001b[0m\u001b[0;34m(\u001b[0m\u001b[0;34m)\u001b[0m\u001b[0;34m\u001b[0m\u001b[0;34m\u001b[0m\u001b[0m\n\u001b[1;32m      5\u001b[0m \u001b[0;34m\u001b[0m\u001b[0m\n",
      "\u001b[0;31mNameError\u001b[0m: name 'max_epochs' is not defined"
     ]
    }
   ],
   "source": [
    "for epoch in range(max_epochs):\n",
    "    epoch_loss = {'asr_model_loss': [], 'spec_gen_loss': [], 'vocoder_loss': []}\n",
    "    \n",
    "    on_epoch_start()\n",
    "    \n",
    "    for batch_idx, (asr_batch, tts_batch, raw_signal_batch, raw_text_batch) in \\\n",
    "        enumerate(zip(asr_model.train_dataloader(), spec_gen.train_dataloader(), \n",
    "                     asr_model.val_dataloader(), spec_gen.val_dataloader())):\n",
    "        \n",
    "        asr_model_loss, spec_gen_loss, vocoder_loss = 0, 0, 0\n",
    "    \n",
    "        asr_model_loss0 = paired_asr_training_step(batch_idx, asr_batch) \n",
    "        asr_model_loss1 = paired_asr_training_step(batch_idx, flip_batch(asr_batch)) \n",
    "        \n",
    "        asr_model_loss2 = dual_transformation_tts_step(batch_idx, asr_batch)\n",
    "        asr_model_loss3 = dual_transformation_tts_step(batch_idx, flip_batch(asr_batch))\n",
    "        \n",
    "        print(asr_model_loss0, asr_model_loss1, asr_model_loss2, asr_model_loss3)\n",
    "        \n",
    "        epoch_loss['asr_model_loss'].append(asr_model_loss)\n",
    "        \n",
    "#         _sgl, _vl, _ = paired_spec_gen_vocoder_step(batch_idx, tts_batch)\n",
    "#         spec_gen_loss += _sgl\n",
    "#         vocoder_loss += _vl + _\n",
    "#         _sgl, _vl, _ = paired_spec_gen_vocoder_step(batch_idx, flip_batch(tts_batch))\n",
    "#         spec_gen_loss += _sgl\n",
    "#         vocoder_loss += _vl + _\n",
    "        \n",
    "#         _sgl, _vl = dual_transformation_asr_step(batch_idx, raw_signal_batch)\n",
    "#         spec_gen_loss += _sgl\n",
    "#         vocoder_loss += _vl\n",
    "#         _sgl, _vl = dual_transformation_asr_step(batch_idx, flip_batch(raw_signal_batch))\n",
    "#         spec_gen_loss += _sgl\n",
    "#         vocoder_loss += _vl\n",
    "                \n",
    "        epoch_loss['spec_gen_loss'].append(spec_gen_loss)\n",
    "        epoch_loss['vocoder_loss'].append(vocoder_loss)\n",
    "        \n",
    "#         print(asr_model_loss, spec_gen_loss, vocoder_loss)\n",
    "        \n",
    "#         del asr_model_loss, spec_gen_loss, vocoder_loss\n",
    "        \n",
    "    overall_loss['epoch'].append(epoch)\n",
    "    overall_loss['asr_model_loss'].append(torch.mean(torch.tensor(epoch_loss['asr_model_loss'])))\n",
    "#     overall_loss['spec_gen_loss'].append(torch.mean(torch.tensor(epoch_loss['spec_gen_loss'])))\n",
    "#     overall_loss['vocoder_loss'].append(torch.mean(torch.tensor(epoch_loss['vocoder_loss'])))\n",
    "\n",
    "    \n",
    "    \n",
    "    print(epoch, overall_loss['asr_model_loss'][-1])\n",
    "\n",
    "    on_epoch_end()\n",
    "    \n",
    "on_train_end()"
   ]
  },
  {
   "cell_type": "code",
   "execution_count": 9,
   "metadata": {},
   "outputs": [
    {
     "data": {
      "text/plain": [
       "FastPitchModel(\n",
       "  (mel_loss): MelLoss()\n",
       "  (pitch_loss): PitchLoss()\n",
       "  (duration_loss): DurationLoss()\n",
       "  (aligner): AlignmentEncoder(\n",
       "    (softmax): Softmax(dim=3)\n",
       "    (log_softmax): LogSoftmax(dim=3)\n",
       "    (key_proj): Sequential(\n",
       "      (0): ConvNorm(\n",
       "        (conv): Conv1d(384, 768, kernel_size=(3,), stride=(1,), padding=(1,))\n",
       "      )\n",
       "      (1): ReLU()\n",
       "      (2): ConvNorm(\n",
       "        (conv): Conv1d(768, 80, kernel_size=(1,), stride=(1,))\n",
       "      )\n",
       "    )\n",
       "    (query_proj): Sequential(\n",
       "      (0): ConvNorm(\n",
       "        (conv): Conv1d(80, 160, kernel_size=(3,), stride=(1,), padding=(1,))\n",
       "      )\n",
       "      (1): ReLU()\n",
       "      (2): ConvNorm(\n",
       "        (conv): Conv1d(160, 80, kernel_size=(1,), stride=(1,))\n",
       "      )\n",
       "      (3): ReLU()\n",
       "      (4): ConvNorm(\n",
       "        (conv): Conv1d(80, 80, kernel_size=(1,), stride=(1,))\n",
       "      )\n",
       "    )\n",
       "  )\n",
       "  (forward_sum_loss): ForwardSumLoss(\n",
       "    (log_softmax): LogSoftmax(dim=3)\n",
       "    (ctc_loss): CTCLoss()\n",
       "  )\n",
       "  (bin_loss): BinLoss()\n",
       "  (preprocessor): AudioToMelSpectrogramPreprocessor(\n",
       "    (featurizer): FilterbankFeatures()\n",
       "  )\n",
       "  (fastpitch): FastPitchModule(\n",
       "    (encoder): FFTransformerEncoder(\n",
       "      (pos_emb): PositionalEmbedding()\n",
       "      (drop): Dropout(p=0.0, inplace=False)\n",
       "      (layers): ModuleList(\n",
       "        (0): TransformerLayer(\n",
       "          (dec_attn): MultiHeadAttn(\n",
       "            (qkv_net): Linear(in_features=384, out_features=192, bias=True)\n",
       "            (drop): Dropout(p=0.1, inplace=False)\n",
       "            (dropatt): Dropout(p=0.1, inplace=False)\n",
       "            (o_net): Linear(in_features=64, out_features=384, bias=False)\n",
       "            (layer_norm): LayerNorm((384,), eps=1e-05, elementwise_affine=True)\n",
       "          )\n",
       "          (pos_ff): PositionwiseConvFF(\n",
       "            (CoreNet): Sequential(\n",
       "              (0): Conv1d(384, 1536, kernel_size=(3,), stride=(1,), padding=(1,))\n",
       "              (1): ReLU()\n",
       "              (2): Conv1d(1536, 384, kernel_size=(3,), stride=(1,), padding=(1,))\n",
       "              (3): Dropout(p=0.1, inplace=False)\n",
       "            )\n",
       "            (layer_norm): LayerNorm((384,), eps=1e-05, elementwise_affine=True)\n",
       "          )\n",
       "        )\n",
       "        (1): TransformerLayer(\n",
       "          (dec_attn): MultiHeadAttn(\n",
       "            (qkv_net): Linear(in_features=384, out_features=192, bias=True)\n",
       "            (drop): Dropout(p=0.1, inplace=False)\n",
       "            (dropatt): Dropout(p=0.1, inplace=False)\n",
       "            (o_net): Linear(in_features=64, out_features=384, bias=False)\n",
       "            (layer_norm): LayerNorm((384,), eps=1e-05, elementwise_affine=True)\n",
       "          )\n",
       "          (pos_ff): PositionwiseConvFF(\n",
       "            (CoreNet): Sequential(\n",
       "              (0): Conv1d(384, 1536, kernel_size=(3,), stride=(1,), padding=(1,))\n",
       "              (1): ReLU()\n",
       "              (2): Conv1d(1536, 384, kernel_size=(3,), stride=(1,), padding=(1,))\n",
       "              (3): Dropout(p=0.1, inplace=False)\n",
       "            )\n",
       "            (layer_norm): LayerNorm((384,), eps=1e-05, elementwise_affine=True)\n",
       "          )\n",
       "        )\n",
       "        (2): TransformerLayer(\n",
       "          (dec_attn): MultiHeadAttn(\n",
       "            (qkv_net): Linear(in_features=384, out_features=192, bias=True)\n",
       "            (drop): Dropout(p=0.1, inplace=False)\n",
       "            (dropatt): Dropout(p=0.1, inplace=False)\n",
       "            (o_net): Linear(in_features=64, out_features=384, bias=False)\n",
       "            (layer_norm): LayerNorm((384,), eps=1e-05, elementwise_affine=True)\n",
       "          )\n",
       "          (pos_ff): PositionwiseConvFF(\n",
       "            (CoreNet): Sequential(\n",
       "              (0): Conv1d(384, 1536, kernel_size=(3,), stride=(1,), padding=(1,))\n",
       "              (1): ReLU()\n",
       "              (2): Conv1d(1536, 384, kernel_size=(3,), stride=(1,), padding=(1,))\n",
       "              (3): Dropout(p=0.1, inplace=False)\n",
       "            )\n",
       "            (layer_norm): LayerNorm((384,), eps=1e-05, elementwise_affine=True)\n",
       "          )\n",
       "        )\n",
       "        (3): TransformerLayer(\n",
       "          (dec_attn): MultiHeadAttn(\n",
       "            (qkv_net): Linear(in_features=384, out_features=192, bias=True)\n",
       "            (drop): Dropout(p=0.1, inplace=False)\n",
       "            (dropatt): Dropout(p=0.1, inplace=False)\n",
       "            (o_net): Linear(in_features=64, out_features=384, bias=False)\n",
       "            (layer_norm): LayerNorm((384,), eps=1e-05, elementwise_affine=True)\n",
       "          )\n",
       "          (pos_ff): PositionwiseConvFF(\n",
       "            (CoreNet): Sequential(\n",
       "              (0): Conv1d(384, 1536, kernel_size=(3,), stride=(1,), padding=(1,))\n",
       "              (1): ReLU()\n",
       "              (2): Conv1d(1536, 384, kernel_size=(3,), stride=(1,), padding=(1,))\n",
       "              (3): Dropout(p=0.1, inplace=False)\n",
       "            )\n",
       "            (layer_norm): LayerNorm((384,), eps=1e-05, elementwise_affine=True)\n",
       "          )\n",
       "        )\n",
       "        (4): TransformerLayer(\n",
       "          (dec_attn): MultiHeadAttn(\n",
       "            (qkv_net): Linear(in_features=384, out_features=192, bias=True)\n",
       "            (drop): Dropout(p=0.1, inplace=False)\n",
       "            (dropatt): Dropout(p=0.1, inplace=False)\n",
       "            (o_net): Linear(in_features=64, out_features=384, bias=False)\n",
       "            (layer_norm): LayerNorm((384,), eps=1e-05, elementwise_affine=True)\n",
       "          )\n",
       "          (pos_ff): PositionwiseConvFF(\n",
       "            (CoreNet): Sequential(\n",
       "              (0): Conv1d(384, 1536, kernel_size=(3,), stride=(1,), padding=(1,))\n",
       "              (1): ReLU()\n",
       "              (2): Conv1d(1536, 384, kernel_size=(3,), stride=(1,), padding=(1,))\n",
       "              (3): Dropout(p=0.1, inplace=False)\n",
       "            )\n",
       "            (layer_norm): LayerNorm((384,), eps=1e-05, elementwise_affine=True)\n",
       "          )\n",
       "        )\n",
       "        (5): TransformerLayer(\n",
       "          (dec_attn): MultiHeadAttn(\n",
       "            (qkv_net): Linear(in_features=384, out_features=192, bias=True)\n",
       "            (drop): Dropout(p=0.1, inplace=False)\n",
       "            (dropatt): Dropout(p=0.1, inplace=False)\n",
       "            (o_net): Linear(in_features=64, out_features=384, bias=False)\n",
       "            (layer_norm): LayerNorm((384,), eps=1e-05, elementwise_affine=True)\n",
       "          )\n",
       "          (pos_ff): PositionwiseConvFF(\n",
       "            (CoreNet): Sequential(\n",
       "              (0): Conv1d(384, 1536, kernel_size=(3,), stride=(1,), padding=(1,))\n",
       "              (1): ReLU()\n",
       "              (2): Conv1d(1536, 384, kernel_size=(3,), stride=(1,), padding=(1,))\n",
       "              (3): Dropout(p=0.1, inplace=False)\n",
       "            )\n",
       "            (layer_norm): LayerNorm((384,), eps=1e-05, elementwise_affine=True)\n",
       "          )\n",
       "        )\n",
       "      )\n",
       "      (word_emb): Embedding(115, 384, padding_idx=112)\n",
       "    )\n",
       "    (decoder): FFTransformerDecoder(\n",
       "      (pos_emb): PositionalEmbedding()\n",
       "      (drop): Dropout(p=0.0, inplace=False)\n",
       "      (layers): ModuleList(\n",
       "        (0): TransformerLayer(\n",
       "          (dec_attn): MultiHeadAttn(\n",
       "            (qkv_net): Linear(in_features=384, out_features=192, bias=True)\n",
       "            (drop): Dropout(p=0.1, inplace=False)\n",
       "            (dropatt): Dropout(p=0.1, inplace=False)\n",
       "            (o_net): Linear(in_features=64, out_features=384, bias=False)\n",
       "            (layer_norm): LayerNorm((384,), eps=1e-05, elementwise_affine=True)\n",
       "          )\n",
       "          (pos_ff): PositionwiseConvFF(\n",
       "            (CoreNet): Sequential(\n",
       "              (0): Conv1d(384, 1536, kernel_size=(3,), stride=(1,), padding=(1,))\n",
       "              (1): ReLU()\n",
       "              (2): Conv1d(1536, 384, kernel_size=(3,), stride=(1,), padding=(1,))\n",
       "              (3): Dropout(p=0.1, inplace=False)\n",
       "            )\n",
       "            (layer_norm): LayerNorm((384,), eps=1e-05, elementwise_affine=True)\n",
       "          )\n",
       "        )\n",
       "        (1): TransformerLayer(\n",
       "          (dec_attn): MultiHeadAttn(\n",
       "            (qkv_net): Linear(in_features=384, out_features=192, bias=True)\n",
       "            (drop): Dropout(p=0.1, inplace=False)\n",
       "            (dropatt): Dropout(p=0.1, inplace=False)\n",
       "            (o_net): Linear(in_features=64, out_features=384, bias=False)\n",
       "            (layer_norm): LayerNorm((384,), eps=1e-05, elementwise_affine=True)\n",
       "          )\n",
       "          (pos_ff): PositionwiseConvFF(\n",
       "            (CoreNet): Sequential(\n",
       "              (0): Conv1d(384, 1536, kernel_size=(3,), stride=(1,), padding=(1,))\n",
       "              (1): ReLU()\n",
       "              (2): Conv1d(1536, 384, kernel_size=(3,), stride=(1,), padding=(1,))\n",
       "              (3): Dropout(p=0.1, inplace=False)\n",
       "            )\n",
       "            (layer_norm): LayerNorm((384,), eps=1e-05, elementwise_affine=True)\n",
       "          )\n",
       "        )\n",
       "        (2): TransformerLayer(\n",
       "          (dec_attn): MultiHeadAttn(\n",
       "            (qkv_net): Linear(in_features=384, out_features=192, bias=True)\n",
       "            (drop): Dropout(p=0.1, inplace=False)\n",
       "            (dropatt): Dropout(p=0.1, inplace=False)\n",
       "            (o_net): Linear(in_features=64, out_features=384, bias=False)\n",
       "            (layer_norm): LayerNorm((384,), eps=1e-05, elementwise_affine=True)\n",
       "          )\n",
       "          (pos_ff): PositionwiseConvFF(\n",
       "            (CoreNet): Sequential(\n",
       "              (0): Conv1d(384, 1536, kernel_size=(3,), stride=(1,), padding=(1,))\n",
       "              (1): ReLU()\n",
       "              (2): Conv1d(1536, 384, kernel_size=(3,), stride=(1,), padding=(1,))\n",
       "              (3): Dropout(p=0.1, inplace=False)\n",
       "            )\n",
       "            (layer_norm): LayerNorm((384,), eps=1e-05, elementwise_affine=True)\n",
       "          )\n",
       "        )\n",
       "        (3): TransformerLayer(\n",
       "          (dec_attn): MultiHeadAttn(\n",
       "            (qkv_net): Linear(in_features=384, out_features=192, bias=True)\n",
       "            (drop): Dropout(p=0.1, inplace=False)\n",
       "            (dropatt): Dropout(p=0.1, inplace=False)\n",
       "            (o_net): Linear(in_features=64, out_features=384, bias=False)\n",
       "            (layer_norm): LayerNorm((384,), eps=1e-05, elementwise_affine=True)\n",
       "          )\n",
       "          (pos_ff): PositionwiseConvFF(\n",
       "            (CoreNet): Sequential(\n",
       "              (0): Conv1d(384, 1536, kernel_size=(3,), stride=(1,), padding=(1,))\n",
       "              (1): ReLU()\n",
       "              (2): Conv1d(1536, 384, kernel_size=(3,), stride=(1,), padding=(1,))\n",
       "              (3): Dropout(p=0.1, inplace=False)\n",
       "            )\n",
       "            (layer_norm): LayerNorm((384,), eps=1e-05, elementwise_affine=True)\n",
       "          )\n",
       "        )\n",
       "        (4): TransformerLayer(\n",
       "          (dec_attn): MultiHeadAttn(\n",
       "            (qkv_net): Linear(in_features=384, out_features=192, bias=True)\n",
       "            (drop): Dropout(p=0.1, inplace=False)\n",
       "            (dropatt): Dropout(p=0.1, inplace=False)\n",
       "            (o_net): Linear(in_features=64, out_features=384, bias=False)\n",
       "            (layer_norm): LayerNorm((384,), eps=1e-05, elementwise_affine=True)\n",
       "          )\n",
       "          (pos_ff): PositionwiseConvFF(\n",
       "            (CoreNet): Sequential(\n",
       "              (0): Conv1d(384, 1536, kernel_size=(3,), stride=(1,), padding=(1,))\n",
       "              (1): ReLU()\n",
       "              (2): Conv1d(1536, 384, kernel_size=(3,), stride=(1,), padding=(1,))\n",
       "              (3): Dropout(p=0.1, inplace=False)\n",
       "            )\n",
       "            (layer_norm): LayerNorm((384,), eps=1e-05, elementwise_affine=True)\n",
       "          )\n",
       "        )\n",
       "        (5): TransformerLayer(\n",
       "          (dec_attn): MultiHeadAttn(\n",
       "            (qkv_net): Linear(in_features=384, out_features=192, bias=True)\n",
       "            (drop): Dropout(p=0.1, inplace=False)\n",
       "            (dropatt): Dropout(p=0.1, inplace=False)\n",
       "            (o_net): Linear(in_features=64, out_features=384, bias=False)\n",
       "            (layer_norm): LayerNorm((384,), eps=1e-05, elementwise_affine=True)\n",
       "          )\n",
       "          (pos_ff): PositionwiseConvFF(\n",
       "            (CoreNet): Sequential(\n",
       "              (0): Conv1d(384, 1536, kernel_size=(3,), stride=(1,), padding=(1,))\n",
       "              (1): ReLU()\n",
       "              (2): Conv1d(1536, 384, kernel_size=(3,), stride=(1,), padding=(1,))\n",
       "              (3): Dropout(p=0.1, inplace=False)\n",
       "            )\n",
       "            (layer_norm): LayerNorm((384,), eps=1e-05, elementwise_affine=True)\n",
       "          )\n",
       "        )\n",
       "      )\n",
       "    )\n",
       "    (duration_predictor): TemporalPredictor(\n",
       "      (layers): Sequential(\n",
       "        (0): ConvReLUNorm(\n",
       "          (conv): Conv1d(384, 256, kernel_size=(3,), stride=(1,), padding=(1,))\n",
       "          (norm): LayerNorm((256,), eps=1e-05, elementwise_affine=True)\n",
       "          (dropout): Dropout(p=0.1, inplace=False)\n",
       "        )\n",
       "        (1): ConvReLUNorm(\n",
       "          (conv): Conv1d(256, 256, kernel_size=(3,), stride=(1,), padding=(1,))\n",
       "          (norm): LayerNorm((256,), eps=1e-05, elementwise_affine=True)\n",
       "          (dropout): Dropout(p=0.1, inplace=False)\n",
       "        )\n",
       "      )\n",
       "      (fc): Linear(in_features=256, out_features=1, bias=True)\n",
       "    )\n",
       "    (pitch_predictor): TemporalPredictor(\n",
       "      (layers): Sequential(\n",
       "        (0): ConvReLUNorm(\n",
       "          (conv): Conv1d(384, 256, kernel_size=(3,), stride=(1,), padding=(1,))\n",
       "          (norm): LayerNorm((256,), eps=1e-05, elementwise_affine=True)\n",
       "          (dropout): Dropout(p=0.1, inplace=False)\n",
       "        )\n",
       "        (1): ConvReLUNorm(\n",
       "          (conv): Conv1d(256, 256, kernel_size=(3,), stride=(1,), padding=(1,))\n",
       "          (norm): LayerNorm((256,), eps=1e-05, elementwise_affine=True)\n",
       "          (dropout): Dropout(p=0.1, inplace=False)\n",
       "        )\n",
       "      )\n",
       "      (fc): Linear(in_features=256, out_features=1, bias=True)\n",
       "    )\n",
       "    (aligner): AlignmentEncoder(\n",
       "      (softmax): Softmax(dim=3)\n",
       "      (log_softmax): LogSoftmax(dim=3)\n",
       "      (key_proj): Sequential(\n",
       "        (0): ConvNorm(\n",
       "          (conv): Conv1d(384, 768, kernel_size=(3,), stride=(1,), padding=(1,))\n",
       "        )\n",
       "        (1): ReLU()\n",
       "        (2): ConvNorm(\n",
       "          (conv): Conv1d(768, 80, kernel_size=(1,), stride=(1,))\n",
       "        )\n",
       "      )\n",
       "      (query_proj): Sequential(\n",
       "        (0): ConvNorm(\n",
       "          (conv): Conv1d(80, 160, kernel_size=(3,), stride=(1,), padding=(1,))\n",
       "        )\n",
       "        (1): ReLU()\n",
       "        (2): ConvNorm(\n",
       "          (conv): Conv1d(160, 80, kernel_size=(1,), stride=(1,))\n",
       "        )\n",
       "        (3): ReLU()\n",
       "        (4): ConvNorm(\n",
       "          (conv): Conv1d(80, 80, kernel_size=(1,), stride=(1,))\n",
       "        )\n",
       "      )\n",
       "    )\n",
       "    (pitch_emb): Conv1d(1, 384, kernel_size=(3,), stride=(1,), padding=(1,))\n",
       "    (proj): Linear(in_features=384, out_features=80, bias=True)\n",
       "  )\n",
       ")"
      ]
     },
     "execution_count": 9,
     "metadata": {},
     "output_type": "execute_result"
    }
   ],
   "source": [
    "spec_gen.cuda()"
   ]
  },
  {
   "cell_type": "code",
   "execution_count": 10,
   "metadata": {
    "scrolled": true
   },
   "outputs": [
    {
     "name": "stderr",
     "output_type": "stream",
     "text": [
      "[NeMo E 2022-02-07 01:49:08 vocabs:324] Torch distributed needs to be initialized before you initialized <nemo.collections.asr.data.vocabs.Phonemes object at 0x7f59a10aae50>. This class is prone to data access race conditions. Now downloading corpora from global rank 0. If other ranks pass this before rank 0, errors might result.\n"
     ]
    },
    {
     "data": {
      "text/plain": [
       "<matplotlib.image.AxesImage at 0x7f59a1193d90>"
      ]
     },
     "execution_count": 10,
     "metadata": {},
     "output_type": "execute_result"
    },
    {
     "data": {
      "image/png": "[encoded data removed]",
      "text/plain": [
       "<Figure size 432x288 with 1 Axes>"
      ]
     },
     "metadata": {
      "needs_background": "light"
     },
     "output_type": "display_data"
    }
   ],
   "source": [
    "def infer(spec_gen_model, vocoder_model, str_input, speaker = None):\n",
    "    \"\"\"\n",
    "    Synthesizes spectrogram and audio from a text string given a spectrogram synthesis and vocoder model.\n",
    "    \n",
    "    Arguments:\n",
    "    spec_gen_model -- Instance of FastPitch model\n",
    "    vocoder_model -- Instance of a vocoder model (HiFiGAN in our case)\n",
    "    str_input -- Text input for the synthesis\n",
    "    speaker -- Speaker number (in the case of a multi-speaker model -- in the mixing case)\n",
    "    \n",
    "    Returns:\n",
    "    spectrogram, waveform of the synthesized audio.\n",
    "    \"\"\"\n",
    "    parser_model = spec_gen_model\n",
    "    with torch.no_grad():\n",
    "        parsed = parser_model.parse(str_input)\n",
    "        if speaker is not None:\n",
    "            speaker = torch.tensor([speaker]).long().cuda()\n",
    "        spectrogram = spec_gen_model.generate_spectrogram(tokens=parsed, speaker = speaker)\n",
    "        audio = vocoder_model.convert_spectrogram_to_audio(spec=spectrogram)\n",
    "        \n",
    "    if spectrogram is not None:\n",
    "        if isinstance(spectrogram, torch.Tensor):\n",
    "            spectrogram = spectrogram.to('cpu').numpy()\n",
    "        if len(spectrogram.shape) == 3:\n",
    "            spectrogram = spectrogram[0]\n",
    "    if isinstance(audio, torch.Tensor):\n",
    "        audio = audio.to('cpu').numpy()\n",
    "    return spectrogram, audio\n",
    "\n",
    "imshow(infer(spec_gen, vocoder, 'with the reduction of numbers to be accommodated, there was ample space in newgate for its reconstruction on the most approved modern lines.')[0], origin=\"lower\", aspect = \"auto\")"
   ]
  },
  {
   "cell_type": "code",
   "execution_count": 11,
   "metadata": {
    "scrolled": true
   },
   "outputs": [
    {
     "data": {
      "text/plain": [
       "<matplotlib.image.AxesImage at 0x7ff8beb884d0>"
      ]
     },
     "execution_count": 11,
     "metadata": {},
     "output_type": "execute_result"
    },
    {
     "data": {
      "image/png": "[encoded data removed]",
      "text/plain": [
       "<Figure size 432x288 with 1 Axes>"
      ]
     },
     "metadata": {
      "needs_background": "light"
     },
     "output_type": "display_data"
    }
   ],
   "source": [
    "imshow(infer(spec_gen, vocoder, 'with the reduction of numbers to be accommodated, there was ample space in newgate for its reconstruction on the most approved modern lines.')[0], origin=\"lower\", aspect = \"auto\")"
   ]
  },
  {
   "cell_type": "code",
   "execution_count": 38,
   "metadata": {},
   "outputs": [
    {
     "data": {
      "text/plain": [
       "tensor([[[-1.4040, -1.5973, -1.5042,  ..., -1.9274, -1.8231, -1.8963],\n",
       "         [-1.6984, -2.1206, -1.9091,  ..., -1.9824, -1.9668, -1.7048],\n",
       "         [-0.6311, -0.9111, -0.6124,  ..., -0.9617, -0.6592, -0.5671],\n",
       "         ...,\n",
       "         [-1.5024, -1.4428, -1.2400,  ..., -1.3411, -1.3336, -1.4258],\n",
       "         [-0.5703, -0.5187, -0.6938,  ..., -0.2374, -0.3465,  0.1954],\n",
       "         [-1.6109, -1.3275, -1.6824,  ..., -1.3092, -1.3722, -1.2248]]],\n",
       "       device='cuda:0', grad_fn=<TransposeBackward0>)"
      ]
     },
     "execution_count": 38,
     "metadata": {},
     "output_type": "execute_result"
    }
   ],
   "source": [
    "mels_pred"
   ]
  },
  {
   "cell_type": "code",
   "execution_count": null,
   "metadata": {},
   "outputs": [],
   "source": [
    "# for batch_idx, batch in enumerate(UnpairedAudioToBPEDataset(manifest_filepath=\"../../datasets/LJSpeech-1.1/small_manifest.json\",\n",
    "#                     unpaired_text_manifest_filepath=\"../../datasets/LJSpeech-1.1/train_manifest_text.json\",\n",
    "#                     unpaired_signal_manifest_filepath=\"../../datasets/LJSpeech-1.1/train_manifest_signal.json\",                   \n",
    "#                     tokenizer=asr_model.tokenizer,\n",
    "#                     sample_rate=22050)):    \n",
    "    \n",
    "#     signal, signal_len, transcript, transcript_len, raw_signal, raw_signal_len, raw_text, raw_text_len = batch\n",
    "# #     signal, signal_len, transcript, transcript_len = signal.cuda(), signal_len.cuda(), \\\n",
    "# #         transcript.cuda(), transcript_len.cuda()\n",
    "#     print(raw_text)\n",
    "    \n",
    "#     break"
   ]
  },
  {
   "cell_type": "code",
   "execution_count": 34,
   "metadata": {},
   "outputs": [],
   "source": [
    "config_path = 'stt_en_citrinet_256_gamma_0_25'\n",
    "config_name = 'model_config.yaml'\n",
    "yaml = YAML(typ='safe')\n",
    "\n",
    "with open(os.path.join(config_path, config_name)) as f:\n",
    "    config = yaml.load(f)\n",
    "\n",
    "config['tokenizer']['dir'] = 'citrinet_tokenizer/tokenizer_spe_unigram_v1024'\n",
    "config['tokenizer']['type'] = 'bpe'\n",
    "\n",
    "config['train_ds']['manifest_filepath']=\"../../datasets/LJSpeech-1.1/small_manifest.json\"\n",
    "# config['train_ds']['manifest_filepath']=\"../../datasets/an4/train_manifest.json\"\n",
    "config['train_ds']['batch_size'] = 1\n",
    "config['train_ds']['num_workers'] = 12\n",
    "config['train_ds']['pin_memory'] = True\n",
    "\n",
    "config['validation_ds']['manifest_filepath']=\"../../datasets/LJSpeech-1.1/small_manifest.json\"\n",
    "# config['validation_ds']['manifest_filepath']=\"../../datasets/an4/test_manifest.json\"\n",
    "config['validation_ds']['batch_size'] = 1\n",
    "config['validation_ds']['num_workers'] = 12\n",
    "config['validation_ds']['pin_memory'] = True\n",
    "\n",
    "config['spec_augment']['freq_masks'] = 0\n",
    "config['spec_augment']['time_masks'] = 0\n",
    "config['optim']['lr'] = 1e-1\n",
    "config['optim']['name'] = 'novograd'\n",
    "config['optim']['betas'] = [0.8, 0.25]\n",
    "config['optim']['weight_decay'] = 0.001\n",
    "config['optim']['sched']['warmup_steps']=1000\n",
    "config['optim']['sched']['min_lr'] = 0.00001\n",
    "\n",
    "config['tokenizer']['model_path'] = 'stt_en_citrinet_256_gamma_0_25/3d20ebb793c84a64a20c7ad26fc64d62_tokenizer.model'\n",
    "config['tokenizer']['vocab_path'] = 'stt_en_citrinet_256_gamma_0_25/df5191f216004f10a268c44e90fdb63f_vocab.txt'\n",
    "config['tokenizer']['spe_tokenizer_vocab'] = 'stt_en_citrinet_256_gamma_0_25/b774eaac83804907843607272fde21a4_tokenizer.vocab'\n",
    "\n",
    "asr_model = nemo_asr.models.EncDecCTCModelBPE(cfg=DictConfig(config))\n",
    "\n",
    "# asr_model.setup_optimization()"
   ]
  },
  {
   "cell_type": "code",
   "execution_count": 35,
   "metadata": {},
   "outputs": [
    {
     "name": "stderr",
     "output_type": "stream",
     "text": [
      "GPU available: True, used: True\n",
      "TPU available: False, using: 0 TPU cores\n",
      "IPU available: False, using: 0 IPUs\n",
      "LOCAL_RANK: 0 - CUDA_VISIBLE_DEVICES: [0]\n",
      "\n",
      "  | Name              | Type                              | Params\n",
      "------------------------------------------------------------------------\n",
      "0 | preprocessor      | AudioToMelSpectrogramPreprocessor | 0     \n",
      "1 | encoder           | ConvASREncoder                    | 9.1 M \n",
      "2 | decoder           | ConvASRDecoder                    | 657 K \n",
      "3 | loss              | CTCLoss                           | 0     \n",
      "4 | spec_augmentation | SpectrogramAugmentation           | 0     \n",
      "5 | _wer              | WERBPE                            | 0     \n",
      "------------------------------------------------------------------------\n",
      "9.8 M     Trainable params\n",
      "0         Non-trainable params\n",
      "9.8 M     Total params\n",
      "39.145    Total estimated model params size (MB)\n"
     ]
    },
    {
     "data": {
      "application/vnd.jupyter.widget-view+json": {
       "model_id": "",
       "version_major": 2,
       "version_minor": 0
      },
      "text/plain": [
       "Validation sanity check: 0it [00:00, ?it/s]"
      ]
     },
     "metadata": {},
     "output_type": "display_data"
    },
    {
     "data": {
      "application/vnd.jupyter.widget-view+json": {
       "model_id": "5962a47be08d43c79d87223be2ccfafa",
       "version_major": 2,
       "version_minor": 0
      },
      "text/plain": [
       "Training: -1it [00:00, ?it/s]"
      ]
     },
     "metadata": {},
     "output_type": "display_data"
    },
    {
     "data": {
      "application/vnd.jupyter.widget-view+json": {
       "model_id": "",
       "version_major": 2,
       "version_minor": 0
      },
      "text/plain": [
       "Validating: 0it [00:00, ?it/s]"
      ]
     },
     "metadata": {},
     "output_type": "display_data"
    },
    {
     "data": {
      "application/vnd.jupyter.widget-view+json": {
       "model_id": "",
       "version_major": 2,
       "version_minor": 0
      },
      "text/plain": [
       "Validating: 0it [00:00, ?it/s]"
      ]
     },
     "metadata": {},
     "output_type": "display_data"
    },
    {
     "data": {
      "application/vnd.jupyter.widget-view+json": {
       "model_id": "",
       "version_major": 2,
       "version_minor": 0
      },
      "text/plain": [
       "Validating: 0it [00:00, ?it/s]"
      ]
     },
     "metadata": {},
     "output_type": "display_data"
    },
    {
     "data": {
      "application/vnd.jupyter.widget-view+json": {
       "model_id": "",
       "version_major": 2,
       "version_minor": 0
      },
      "text/plain": [
       "Validating: 0it [00:00, ?it/s]"
      ]
     },
     "metadata": {},
     "output_type": "display_data"
    },
    {
     "data": {
      "application/vnd.jupyter.widget-view+json": {
       "model_id": "",
       "version_major": 2,
       "version_minor": 0
      },
      "text/plain": [
       "Validating: 0it [00:00, ?it/s]"
      ]
     },
     "metadata": {},
     "output_type": "display_data"
    },
    {
     "data": {
      "application/vnd.jupyter.widget-view+json": {
       "model_id": "",
       "version_major": 2,
       "version_minor": 0
      },
      "text/plain": [
       "Validating: 0it [00:00, ?it/s]"
      ]
     },
     "metadata": {},
     "output_type": "display_data"
    },
    {
     "data": {
      "application/vnd.jupyter.widget-view+json": {
       "model_id": "",
       "version_major": 2,
       "version_minor": 0
      },
      "text/plain": [
       "Validating: 0it [00:00, ?it/s]"
      ]
     },
     "metadata": {},
     "output_type": "display_data"
    },
    {
     "data": {
      "application/vnd.jupyter.widget-view+json": {
       "model_id": "",
       "version_major": 2,
       "version_minor": 0
      },
      "text/plain": [
       "Validating: 0it [00:00, ?it/s]"
      ]
     },
     "metadata": {},
     "output_type": "display_data"
    },
    {
     "data": {
      "application/vnd.jupyter.widget-view+json": {
       "model_id": "",
       "version_major": 2,
       "version_minor": 0
      },
      "text/plain": [
       "Validating: 0it [00:00, ?it/s]"
      ]
     },
     "metadata": {},
     "output_type": "display_data"
    },
    {
     "data": {
      "application/vnd.jupyter.widget-view+json": {
       "model_id": "",
       "version_major": 2,
       "version_minor": 0
      },
      "text/plain": [
       "Validating: 0it [00:00, ?it/s]"
      ]
     },
     "metadata": {},
     "output_type": "display_data"
    }
   ],
   "source": [
    "trainer = pl.Trainer(max_epochs=10, gpus=1)\n",
    "\n",
    "trainer.fit(asr_model)"
   ]
  },
  {
   "cell_type": "code",
   "execution_count": 29,
   "metadata": {},
   "outputs": [],
   "source": [
    "def val():\n",
    "    torch.set_grad_enabled(False)\n",
    "    asr_model.on_validation_start()\n",
    "    asr_model.on_epoch_start()\n",
    "    asr_model.on_validation_epoch_start()\n",
    "\n",
    "    val_outs = []\n",
    "\n",
    "    for batch_idx, val_batch in enumerate(asr_model.val_dataloader()):\n",
    "\n",
    "        asr_model.on_validation_batch_start(val_batch, batch_idx, dataloader_idx)\n",
    "\n",
    "        batch = asr_model.on_before_batch_transfer(val_batch, dataloader_idx)\n",
    "        batch = asr_model.transfer_batch_to_device(batch, torch.device('cuda'), dataloader_idx)\n",
    "        batch = asr_model.on_after_batch_transfer(batch, dataloader_idx)\n",
    "\n",
    "        out = asr_model.cuda().validation_step(batch, batch_idx)\n",
    "\n",
    "        val_loss, val_wer_num, val_wer_denom, val_wer = out\n",
    "        \n",
    "        asr_model.on_validation_batch_end(out, batch, batch_idx, dataloader_idx)\n",
    "        val_outs.append(out)\n",
    "        \n",
    "    asr_model.on_epoch_end()\n",
    "    asr_model.on_validation_end()\n",
    "\n",
    "    torch.set_grad_enabled(True)\n",
    "    \n",
    "    return val_outs"
   ]
  },
  {
   "cell_type": "code",
   "execution_count": null,
   "metadata": {},
   "outputs": [],
   "source": [
    "val_outs = val()"
   ]
  },
  {
   "cell_type": "code",
   "execution_count": null,
   "metadata": {},
   "outputs": [],
   "source": [
    "val_wer = []\n",
    "for item in val_outs:\n",
    "    val_wer.append(item['val_wer'])\n",
    "    \n",
    "print(torch.mean(torch.tensor(val_wer)))"
   ]
  },
  {
   "cell_type": "code",
   "execution_count": null,
   "metadata": {},
   "outputs": [],
   "source": [
    "# tensor(0.9326)"
   ]
  },
  {
   "cell_type": "code",
   "execution_count": null,
   "metadata": {},
   "outputs": [],
   "source": [
    "asr_model.transcribe([\"../../datasets//LJSpeech-1.1/wavs/LJ015-0247.wav\",\n",
    "                     \"../../datasets//LJSpeech-1.1/wavs/LJ028-0475.wav\",\n",
    "                     \"../../datasets//LJSpeech-1.1/wavs/LJ013-0049.wav\"])"
   ]
  },
  {
   "cell_type": "code",
   "execution_count": 8,
   "metadata": {
    "scrolled": true
   },
   "outputs": [],
   "source": [
    "def fastpitch_training_step(self, audio, audio_lens, text, text_lens, durs, pitch, batch_idx=1):\n",
    "    mels, spec_len = self.preprocessor(input_signal=audio, length=audio_lens)\n",
    "\n",
    "    mels_pred, _, _, log_durs_pred, pitch_pred, attn_soft, attn_logprob, attn_hard, attn_hard_dur, pitch = self(\n",
    "        text=text,\n",
    "        durs=durs,\n",
    "        pitch=pitch,\n",
    "        speaker=None,\n",
    "        pace=1.0,\n",
    "        spec=mels if self.learn_alignment else None,\n",
    "        attn_prior=None,\n",
    "        mel_lens=spec_len,\n",
    "        input_lens=text_lens,\n",
    "    )\n",
    "    if durs is None:\n",
    "        durs = attn_hard_dur\n",
    "\n",
    "    mel_loss = self.mel_loss(spect_predicted=mels_pred, spect_tgt=mels)\n",
    "    dur_loss = self.duration_loss(log_durs_predicted=log_durs_pred, durs_tgt=durs, len=text_lens)\n",
    "    loss = mel_loss + dur_loss\n",
    "\n",
    "    pitch_loss = self.pitch_loss(pitch_predicted=pitch_pred, pitch_tgt=pitch, len=text_lens)\n",
    "    loss += pitch_loss\n",
    "\n",
    "    return loss\n",
    "\n",
    "def hifigan_training_step(self, batch, batch_idx, optimizer_idx):\n",
    "    # if in finetune mode the mels are pre-computed using a\n",
    "    # spectrogram generator\n",
    "    if self.input_as_mel:\n",
    "        audio, audio_len, audio_mel = batch\n",
    "    # else, we compute the mel using the ground truth audio\n",
    "    else:\n",
    "        audio, audio_len = batch\n",
    "        # mel as input for generator\n",
    "        audio_mel, _ = self.audio_to_melspec_precessor(audio, audio_len)\n",
    "\n",
    "    # mel as input for L1 mel loss\n",
    "    audio_trg_mel, _ = self.trg_melspec_fn(audio, audio_len)\n",
    "    audio = audio.unsqueeze(1)\n",
    "\n",
    "    audio_pred = self.generator(x=audio_mel)\n",
    "    audio_pred_mel, _ = self.trg_melspec_fn(audio_pred.squeeze(1), audio_len)\n",
    "\n",
    "    # train discriminator\n",
    "#     self.optim_d.zero_grad()\n",
    "    mpd_score_real, mpd_score_gen, _, _ = self.mpd(y=audio, y_hat=audio_pred.detach())\n",
    "    loss_disc_mpd, _, _ = self.discriminator_loss(\n",
    "        disc_real_outputs=mpd_score_real, disc_generated_outputs=mpd_score_gen\n",
    "    )\n",
    "    msd_score_real, msd_score_gen, _, _ = self.msd(y=audio, y_hat=audio_pred.detach())\n",
    "    loss_disc_msd, _, _ = self.discriminator_loss(\n",
    "        disc_real_outputs=msd_score_real, disc_generated_outputs=msd_score_gen\n",
    "    )\n",
    "    loss_d = loss_disc_msd + loss_disc_mpd\n",
    "    \n",
    "    return loss_d\n",
    "#     self.manual_backward(loss_d)\n",
    "#     self.optim_d.step()\n",
    "\n",
    "#     # train generator\n",
    "#     self.optim_g.zero_grad()\n",
    "#     loss_mel = F.l1_loss(audio_pred_mel, audio_trg_mel)\n",
    "#     _, mpd_score_gen, fmap_mpd_real, fmap_mpd_gen = self.mpd(y=audio, y_hat=audio_pred)\n",
    "#     _, msd_score_gen, fmap_msd_real, fmap_msd_gen = self.msd(y=audio, y_hat=audio_pred)\n",
    "#     loss_fm_mpd = self.feature_loss(fmap_r=fmap_mpd_real, fmap_g=fmap_mpd_gen)\n",
    "#     loss_fm_msd = self.feature_loss(fmap_r=fmap_msd_real, fmap_g=fmap_msd_gen)\n",
    "#     loss_gen_mpd, _ = self.generator_loss(disc_outputs=mpd_score_gen)\n",
    "#     loss_gen_msd, _ = self.generator_loss(disc_outputs=msd_score_gen)\n",
    "#     loss_g = loss_gen_msd + loss_gen_mpd + loss_fm_msd + loss_fm_mpd + loss_mel * self.l1_factor\n",
    "#     self.manual_backward(loss_g)\n",
    "#     self.optim_g.step()\n",
    "\n",
    "def citrinet_training_step(self, batch, batch_nb):\n",
    "    signal, signal_len, transcript, transcript_len = batch\n",
    "    \n",
    "    log_probs, encoded_len, predictions = self.forward(input_signal=signal, input_signal_length=signal_len)\n",
    "\n",
    "    loss_value = self.loss(\n",
    "        log_probs=log_probs, targets=transcript, input_lengths=encoded_len, target_lengths=transcript_len\n",
    "    )\n",
    "\n",
    "    return loss_value\n",
    "\n",
    "# for batch in asr_model.test_dataloader():\n",
    "#     signal, signal_len, transcript, transcript_len = batch\n",
    "        \n",
    "#     target = asr_model._wer.ctc_decoder_predictions_tensor(\n",
    "#         transcript, predictions_len=transcript_len, return_hypotheses=False,\n",
    "#     )\n",
    "    \n",
    "#     parsed = fastpitch.parse(target[0])\n",
    "    \n",
    "#     spec, _, durs_pred, _, pitch_pred, *_ = fastpitch.eval()(text=parsed,\n",
    "#                                                              durs=None, pitch=None, speaker=None, pace=1.0)\n",
    "        \n",
    "#     loss = fastpitch_training_step(fastpitch.cpu().train(), signal, signal_len, parsed,\n",
    "#                                    torch.tensor([len(parsed)]), durs_pred, pitch_pred, batch_idx=1).cpu()\n",
    "    \n",
    "#     hifigan.input_as_mel = True\n",
    "#     loss_2 = hifigan_training_step(hifigan.cpu().train(), batch=[signal, signal_len, spec], batch_idx=1, optimizer_idx=1)\n",
    "    \n",
    "#     loss_asr = citrinet_training_step(asr_model.cpu().train(), batch=batch, batch_nb=1)\n",
    "    \n",
    "#     print(loss, loss_2, loss_asr)\n",
    "#     break"
   ]
  },
  {
   "cell_type": "code",
   "execution_count": 98,
   "metadata": {},
   "outputs": [],
   "source": [
    "# # Dual Transformation: text -> predicted_speech -> predicted_text -> loss\n",
    "# def dt_text_training_step(batch, batch_idx, optimizer_idx=None):\n",
    "#     if optimizer_idx is None:\n",
    "#         optimizer_idx = batch_idx\n",
    "    \n",
    "#     _, _, transcript, transcript_len = batch\n",
    "        \n",
    "#     target = asr_model._wer.ctc_decoder_predictions_tensor(\n",
    "#         transcript, predictions_len=transcript_len, return_hypotheses=False,\n",
    "#     )\n",
    "    \n",
    "#     parsed = fastpitch.parse(target[0]).cpu()\n",
    "    \n",
    "#     spec, _, durs_pred, _, pitch_pred, *_ = fastpitch.cpu().eval()(text=parsed,\n",
    "#                                                              durs=None, pitch=None, speaker=None, pace=1.0)\n",
    "        \n",
    "#     fastpitch.eval()(text=parsed, durs=durs_pred, pitch=pitch_pred, speaker=None, pace=1.0)\n",
    "    \n",
    "#     signal = hifigan.cpu().eval().convert_spectrogram_to_audio(spec=spec).to('cpu')\n",
    "#     signal_len = torch.tensor([len(signal[0])])\n",
    "        \n",
    "#     loss = citrinet_training_step(asr_model.cpu().train(),\n",
    "#                                   batch=[signal, signal_len, transcript, transcript_len], batch_nb=batch_idx)\n",
    "\n",
    "#     fastpitch_training_step(fastpitch.cpu().train(), signal, signal_len, parsed,\n",
    "#                                    torch.tensor([len(parsed)]), durs_pred, pitch_pred, batch_idx=batch_idx).cpu()\n",
    "\n",
    "#     hifigan.input_as_mel = True\n",
    "#     hifigan_training_step(hifigan.cpu().train(),\n",
    "#                                    batch=[signal, signal_len, spec], batch_idx=batch_idx, optimizer_idx=optimizer_idx)\n",
    "    \n",
    "#     return loss"
   ]
  },
  {
   "cell_type": "code",
   "execution_count": 94,
   "metadata": {},
   "outputs": [],
   "source": [
    "# # Dual Transformation: speech -> predicted_text -> predicted_speech -> loss\n",
    "# def dt_speech_training_step(batch, batch_idx, optimizer_idx=None):\n",
    "#     if optimizer_idx is None:\n",
    "#         optimizer_idx = batch_idx\n",
    "        \n",
    "#     signal, signal_len, _, _ = batch\n",
    "\n",
    "#     logits, logits_len, greedy_predictions = asr_model.eval().cpu()(input_signal=signal,\n",
    "#                                                                     input_signal_length=signal_len)\n",
    "#     current_hypotheses = asr_model._wer.ctc_decoder_predictions_tensor(\n",
    "#         greedy_predictions, predictions_len=logits_len\n",
    "#     )\n",
    "    \n",
    "#     transcript = fastpitch.parse(current_hypotheses[0])\n",
    "#     transcript_len = torch.tensor([len(transcript[0])]) \n",
    "        \n",
    "#     spec, _, durs_pred, _, pitch_pred, *_ = fastpitch.eval()(text=transcript, durs=None, pitch=None, speaker=None, pace=1.0)\n",
    "#     gt = train_batch[0]\n",
    "# #     pred = hifigan.cpu().eval().convert_spectrogram_to_audio(spec=spec.cpu()).to('cpu')\n",
    "                 \n",
    "# #     citrinet_training_step(asr_model.cpu().train(),\n",
    "# #                                   batch=[signal, signal_len, transcript, transcript_len], batch_nb=batch_idx)\n",
    "\n",
    "# #     fastpitch_training_step(fastpitch.cpu().train(), signal, signal_len, transcript,\n",
    "# #                                    transcript_len.cpu(), durs_pred, pitch_pred, batch_idx=batch_idx).cpu()\n",
    "\n",
    "# #     hifigan.input_as_mel = True\n",
    "# #     hifigan_training_step(hifigan.cpu().train(),\n",
    "# #                                    batch=[signal, signal_len, spec], batch_idx=batch_idx, optimizer_idx=optimizer_idx)    \n",
    "    \n",
    "# #     return ((signal[0][:min(len(signal[0]), len(pred[0]))] - \n",
    "# #              pred[0][:min(len(signal[0]), len(pred[0]))].detach().numpy()) ** 2).sum()\n",
    "    "
   ]
  },
  {
   "cell_type": "code",
   "execution_count": 24,
   "metadata": {},
   "outputs": [],
   "source": [
    "# for step, train_batch in enumerate(asr_model.train_dataloader()):\n",
    "#     loss = 0\n",
    "    \n",
    "#     loss += dt_text_training_step(train_batch, step)\n",
    "# #     loss += dt_text_training_step(flip_batch(train_batch), step)\n",
    "    \n",
    "# #     loss += dt_speech_training_step(train_batch, step)\n",
    "# #     loss += dt_text_training_step(flip_batch(train_batch), step)\n",
    "    \n",
    "#     ###\n",
    "#     # Add loss for paired data\n",
    "#     ###\n",
    "\n",
    "#     ###\n",
    "#     # Add loss for Denoising Auto-Encoder\n",
    "#     ###\n",
    "\n",
    "#     # print(step, loss)\n",
    "    "
   ]
  },
  {
   "cell_type": "code",
   "execution_count": null,
   "metadata": {},
   "outputs": [],
   "source": []
  }
 ],
 "metadata": {
  "kernelspec": {
   "display_name": "Python 3 (ipykernel)",
   "language": "python",
   "name": "python3"
  },
  "language_info": {
   "codemirror_mode": {
    "name": "ipython",
    "version": 3
   },
   "file_extension": ".py",
   "mimetype": "text/x-python",
   "name": "python",
   "nbconvert_exporter": "python",
   "pygments_lexer": "ipython3",
   "version": "3.9.7"
  }
 },
 "nbformat": 4,
 "nbformat_minor": 4
}
