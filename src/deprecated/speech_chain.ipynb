{
 "cells": [
  {
   "cell_type": "code",
   "execution_count": 1,
   "id": "e1afe5be",
   "metadata": {},
   "outputs": [],
   "source": [
    "import nemo\n",
    "import nemo.collections.asr as nemo_asr"
   ]
  },
  {
   "cell_type": "code",
   "execution_count": 3,
   "id": "27f84013",
   "metadata": {
    "scrolled": false
   },
   "outputs": [
    {
     "name": "stderr",
     "output_type": "stream",
     "text": [
      "[NeMo W 2022-05-26 01:00:50 experimental:27] Module <class 'nemo.collections.nlp.data.language_modeling.megatron.megatron_batch_samplers.MegatronPretrainingRandomBatchSampler'> is experimental, not ready for production and is not fully supported. Use at your own risk.\n"
     ]
    }
   ],
   "source": [
    "import nemo\n",
    "import nemo.collections.asr as nemo_asr\n",
    "from my_model_quartznet import MyModel\n",
    "import os\n",
    "import numpy as np\n",
    "import pandas as pd\n",
    "import pytorch_lightning as pl\n",
    "import copy\n",
    "\n",
    "from omegaconf import DictConfig\n",
    "\n",
    "from nemo.utils.exp_manager import exp_manager\n",
    "from nemo.collections.asr.models import EncDecCTCModel\n",
    "\n",
    "# --- Config Information ---#\n",
    "try:\n",
    "    from ruamel.yaml import YAML\n",
    "except ModuleNotFoundError:\n",
    "    from ruamel_yaml import YAML\n",
    "config_path = './configs/quartznet_15x5.yaml'\n",
    "\n",
    "yaml = YAML(typ='safe')"
   ]
  },
  {
   "cell_type": "code",
   "execution_count": 4,
   "id": "7bfa7036",
   "metadata": {},
   "outputs": [],
   "source": [
    "from itertools import zip_longest\n",
    "from typing import Any, Callable, Dict, List, Optional\n",
    "\n",
    "from pytorch_lightning import LightningModule, Trainer\n",
    "from pytorch_lightning.callbacks import Callback\n",
    "from pytorch_lightning.utilities import rank_zero_info\n",
    "\n",
    "class PrintTableMetricsCallback(Callback):\n",
    "    def __init__(self) -> None:\n",
    "        self.metrics: List = []\n",
    "\n",
    "    def on_epoch_end(self, trainer: Trainer, pl_module: LightningModule) -> None:\n",
    "        metrics_dict = copy.copy(trainer.callback_metrics)\n",
    "        self.metrics.append(metrics_dict)"
   ]
  },
  {
   "cell_type": "code",
   "execution_count": 3,
   "id": "55fc2d2a",
   "metadata": {
    "scrolled": true
   },
   "outputs": [
    {
     "name": "stderr",
     "output_type": "stream",
     "text": [
      "GPU available: True, used: True\n",
      "TPU available: False, using: 0 TPU cores\n",
      "IPU available: False, using: 0 IPUs\n",
      "HPU available: False, using: 0 HPUs\n"
     ]
    },
    {
     "name": "stdout",
     "output_type": "stream",
     "text": [
      "[NeMo I 2022-05-21 15:47:20 exp_manager:281] Experiments will be logged at /media/boris/F/NeMo_own_research/transfer_learning/nemo_experiments/QuartzNet15x5/2022-05-21_15-47-20\n",
      "[NeMo I 2022-05-21 15:47:20 exp_manager:647] TensorboardLogger has been set up\n"
     ]
    },
    {
     "name": "stderr",
     "output_type": "stream",
     "text": [
      "[NeMo W 2022-05-21 15:47:20 nemo_logging:349] /media/boris/F/anaconda3/envs/nemo/lib/python3.9/site-packages/pytorch_lightning/trainer/trainer.py:2302: LightningDeprecationWarning: `Trainer.weights_save_path` has been deprecated in v1.6 and will be removed in v1.8.\n",
      "      rank_zero_deprecation(\"`Trainer.weights_save_path` has been deprecated in v1.6 and will be removed in v1.8.\")\n",
      "    \n",
      "[NeMo W 2022-05-21 15:47:20 exp_manager:881] The checkpoint callback was told to monitor a validation value and trainer's max_steps was set to -1. Please ensure that max_steps will run for at least 5 epochs to ensure that checkpointing will not error out.\n"
     ]
    },
    {
     "name": "stdout",
     "output_type": "stream",
     "text": [
      "[NeMo I 2022-05-21 15:47:20 collections:186] Dataset loaded with 200 files totalling 0.16 hours\n",
      "[NeMo I 2022-05-21 15:47:20 collections:187] 0 files were filtered totalling 0.00 hours\n",
      "[NeMo I 2022-05-21 15:47:20 collections:186] Dataset loaded with 130 files totalling 0.10 hours\n",
      "[NeMo I 2022-05-21 15:47:20 collections:187] 0 files were filtered totalling 0.00 hours\n"
     ]
    },
    {
     "name": "stderr",
     "output_type": "stream",
     "text": [
      "[NeMo W 2022-05-21 15:47:20 ctc_models:423] Could not load dataset as `manifest_filepath` was None. Provided config : {'manifest_filepath': None, 'sample_rate': 22050, 'labels': [' ', 'a', 'b', 'c', 'd', 'e', 'f', 'g', 'h', 'i', 'j', 'k', 'l', 'm', 'n', 'o', 'p', 'q', 'r', 's', 't', 'u', 'v', 'w', 'x', 'y', 'z', \"'\"], 'batch_size': 32, 'shuffle': False}\n"
     ]
    },
    {
     "name": "stdout",
     "output_type": "stream",
     "text": [
      "[NeMo I 2022-05-21 15:47:20 features:259] PADDING: 16\n",
      "[NeMo I 2022-05-21 15:47:20 features:276] STFT using torch\n"
     ]
    },
    {
     "name": "stderr",
     "output_type": "stream",
     "text": [
      "[NeMo W 2022-05-21 15:47:20 nemo_logging:349] /media/boris/F/anaconda3/envs/nemo/lib/python3.9/site-packages/pytorch_lightning/trainer/configuration_validator.py:385: LightningDeprecationWarning: The `Callback.on_epoch_end` hook was deprecated in v1.6 and will be removed in v1.8. Please use `Callback.on_<train/validation/test>_epoch_end` instead.\n",
      "      rank_zero_deprecation(\n",
      "    \n",
      "LOCAL_RANK: 0 - CUDA_VISIBLE_DEVICES: [0]\n",
      "[NeMo W 2022-05-21 15:47:22 modelPT:496] The lightning trainer received accelerator: <pytorch_lightning.accelerators.gpu.GPUAccelerator object at 0x7f98e3046bb0>. We recommend to use 'ddp' instead.\n"
     ]
    },
    {
     "name": "stdout",
     "output_type": "stream",
     "text": [
      "[NeMo I 2022-05-21 15:47:22 modelPT:587] Optimizer config = Novograd (\n",
      "    Parameter Group 0\n",
      "        amsgrad: False\n",
      "        betas: [0.8, 0.5]\n",
      "        eps: 1e-08\n",
      "        grad_averaging: False\n",
      "        lr: 0.01\n",
      "        weight_decay: 0.001\n",
      "    )\n",
      "[NeMo I 2022-05-21 15:47:22 lr_scheduler:833] Scheduler \"<nemo.core.optim.lr_scheduler.CosineAnnealing object at 0x7f98a8806a90>\" \n",
      "    will be used during training (effective maximum steps = 12500) - \n",
      "    Parameters : \n",
      "    (warmup_steps: null\n",
      "    warmup_ratio: null\n",
      "    min_lr: 0.0\n",
      "    last_epoch: -1\n",
      "    max_steps: 12500\n",
      "    )\n"
     ]
    },
    {
     "name": "stderr",
     "output_type": "stream",
     "text": [
      "\n",
      "  | Name              | Type                              | Params\n",
      "------------------------------------------------------------------------\n",
      "0 | preprocessor      | AudioToMelSpectrogramPreprocessor | 0     \n",
      "1 | encoder           | ConvASREncoder                    | 18.9 M\n",
      "2 | decoder           | ConvASRDecoder                    | 29.7 K\n",
      "3 | loss              | CTCLoss                           | 0     \n",
      "4 | spec_augmentation | SpectrogramAugmentation           | 0     \n",
      "5 | _wer              | WER                               | 0     \n",
      "------------------------------------------------------------------------\n",
      "18.9 M    Trainable params\n",
      "0         Non-trainable params\n",
      "18.9 M    Total params\n",
      "75.698    Total estimated model params size (MB)\n"
     ]
    },
    {
     "data": {
      "application/vnd.jupyter.widget-view+json": {
       "model_id": "",
       "version_major": 2,
       "version_minor": 0
      },
      "text/plain": [
       "Sanity Checking: 0it [00:00, ?it/s]"
      ]
     },
     "metadata": {},
     "output_type": "display_data"
    },
    {
     "name": "stderr",
     "output_type": "stream",
     "text": [
      "[NeMo W 2022-05-21 15:47:22 nemo_logging:349] /media/boris/F/anaconda3/envs/nemo/lib/python3.9/site-packages/pytorch_lightning/trainer/connectors/data_connector.py:240: PossibleUserWarning: The dataloader, val_dataloader 0, does not have many workers which may be a bottleneck. Consider increasing the value of the `num_workers` argument` (try 24 which is the number of cpus on this machine) in the `DataLoader` init to improve performance.\n",
      "      rank_zero_warn(\n",
      "    \n",
      "[NeMo W 2022-05-21 15:47:23 nemo_logging:349] /media/boris/F/anaconda3/envs/nemo/lib/python3.9/site-packages/pytorch_lightning/trainer/connectors/data_connector.py:240: PossibleUserWarning: The dataloader, train_dataloader, does not have many workers which may be a bottleneck. Consider increasing the value of the `num_workers` argument` (try 24 which is the number of cpus on this machine) in the `DataLoader` init to improve performance.\n",
      "      rank_zero_warn(\n",
      "    \n"
     ]
    },
    {
     "data": {
      "application/vnd.jupyter.widget-view+json": {
       "model_id": "cd058c4a23e449b4b53adf814bd311f4",
       "version_major": 2,
       "version_minor": 0
      },
      "text/plain": [
       "Training: 0it [00:00, ?it/s]"
      ]
     },
     "metadata": {},
     "output_type": "display_data"
    },
    {
     "data": {
      "application/vnd.jupyter.widget-view+json": {
       "model_id": "",
       "version_major": 2,
       "version_minor": 0
      },
      "text/plain": [
       "Validation: 0it [00:00, ?it/s]"
      ]
     },
     "metadata": {},
     "output_type": "display_data"
    },
    {
     "name": "stderr",
     "output_type": "stream",
     "text": [
      "Epoch 4, global step 250: 'val_wer' reached 1.00000 (best 1.00000), saving model to '/media/boris/F/NeMo_own_research/transfer_learning/nemo_experiments/QuartzNet15x5/2022-05-21_15-47-20/checkpoints/QuartzNet15x5--val_wer=1.0000-epoch=4.ckpt' as top 3\n",
      "[NeMo W 2022-05-21 15:48:32 nemo_logging:349] /media/boris/F/anaconda3/envs/nemo/lib/python3.9/site-packages/torch/nn/modules/module.py:1385: UserWarning: positional arguments and argument \"destination\" are deprecated. nn.Module.state_dict will not accept them in the future. Refer to https://pytorch.org/docs/master/generated/torch.nn.Module.html#torch.nn.Module.state_dict for details.\n",
      "      warnings.warn(\n",
      "    \n",
      "[NeMo W 2022-05-21 15:48:32 nemo_logging:349] /media/boris/F/anaconda3/envs/nemo/lib/python3.9/site-packages/torch/nn/modules/module.py:1385: UserWarning: argument \"destination\" are deprecated. nn.Module.state_dict will not accept them in the future. Refer to https://pytorch.org/docs/master/generated/torch.nn.Module.html#torch.nn.Module.state_dict for details.\n",
      "      warnings.warn(\n",
      "    \n"
     ]
    },
    {
     "data": {
      "application/vnd.jupyter.widget-view+json": {
       "model_id": "",
       "version_major": 2,
       "version_minor": 0
      },
      "text/plain": [
       "Validation: 0it [00:00, ?it/s]"
      ]
     },
     "metadata": {},
     "output_type": "display_data"
    },
    {
     "name": "stderr",
     "output_type": "stream",
     "text": [
      "Epoch 9, global step 500: 'val_wer' reached 0.99224 (best 0.99224), saving model to '/media/boris/F/NeMo_own_research/transfer_learning/nemo_experiments/QuartzNet15x5/2022-05-21_15-47-20/checkpoints/QuartzNet15x5--val_wer=0.9922-epoch=9.ckpt' as top 3\n"
     ]
    },
    {
     "data": {
      "application/vnd.jupyter.widget-view+json": {
       "model_id": "",
       "version_major": 2,
       "version_minor": 0
      },
      "text/plain": [
       "Validation: 0it [00:00, ?it/s]"
      ]
     },
     "metadata": {},
     "output_type": "display_data"
    },
    {
     "name": "stderr",
     "output_type": "stream",
     "text": [
      "Epoch 14, global step 750: 'val_wer' reached 1.00000 (best 0.99224), saving model to '/media/boris/F/NeMo_own_research/transfer_learning/nemo_experiments/QuartzNet15x5/2022-05-21_15-47-20/checkpoints/QuartzNet15x5--val_wer=1.0000-epoch=14.ckpt' as top 3\n"
     ]
    },
    {
     "data": {
      "application/vnd.jupyter.widget-view+json": {
       "model_id": "",
       "version_major": 2,
       "version_minor": 0
      },
      "text/plain": [
       "Validation: 0it [00:00, ?it/s]"
      ]
     },
     "metadata": {},
     "output_type": "display_data"
    },
    {
     "name": "stderr",
     "output_type": "stream",
     "text": [
      "Epoch 19, global step 1000: 'val_wer' reached 0.98706 (best 0.98706), saving model to '/media/boris/F/NeMo_own_research/transfer_learning/nemo_experiments/QuartzNet15x5/2022-05-21_15-47-20/checkpoints/QuartzNet15x5--val_wer=0.9871-epoch=19.ckpt' as top 3\n",
      "[NeMo W 2022-05-21 15:52:34 nemo_logging:349] /media/boris/F/anaconda3/envs/nemo/lib/python3.9/site-packages/pytorch_lightning/trainer/trainer.py:724: UserWarning: Detected KeyboardInterrupt, attempting graceful shutdown...\n",
      "      rank_zero_warn(\"Detected KeyboardInterrupt, attempting graceful shutdown...\")\n",
      "    \n",
      "\n",
      "KeyboardInterrupt\n",
      "\n"
     ]
    }
   ],
   "source": [
    "res = []\n",
    "# for corruption_prob in np.arange(0.01, 1, 0.3):\n",
    "with open(config_path) as f:\n",
    "    params = yaml.load(f)\n",
    "\n",
    "callback = PrintTableMetricsCallback()\n",
    "trainer = pl.Trainer(devices=1,\n",
    "                     accelerator='gpu',\n",
    "                     max_epochs=250,\n",
    "#                          num_nodes=1,\n",
    "                     check_val_every_n_epoch=5,\n",
    "                     callbacks=[callback],\n",
    "#                          accumulate_grad_batches=1,\n",
    "                     enable_checkpointing=False,\n",
    "                     logger=False,\n",
    "#                          precision=32\n",
    "                    )\n",
    "\n",
    "exp_manager(trainer, params.get(\"exp_manager\", None))\n",
    "\n",
    "#     params['model']['train_ds']['manifest_filepath'] = train_manifest\n",
    "#     params['model']['validation_ds']['manifest_filepath'] = test_manifest\n",
    "#     params['model']['corruption_prob'] = float(corruption_prob)\n",
    "\n",
    "first_asr_model = EncDecCTCModel(cfg=DictConfig(params['model']), trainer=trainer)\n",
    "\n",
    "trainer.fit(first_asr_model)\n",
    "df = pd.DataFrame(callback.metrics).astype(float)\n",
    "res.append(df)"
   ]
  },
  {
   "cell_type": "code",
   "execution_count": 19,
   "id": "47e1dc8e",
   "metadata": {},
   "outputs": [
    {
     "data": {
      "text/plain": [
       "Text(0, 0.5, 'cer')"
      ]
     },
     "execution_count": 19,
     "metadata": {},
     "output_type": "execute_result"
    },
    {
     "data": {
      "image/png": "[encoded data removed]",
      "text/plain": [
       "<Figure size 960x600 with 1 Axes>"
      ]
     },
     "metadata": {
      "needs_background": "light"
     },
     "output_type": "display_data"
    }
   ],
   "source": [
    "from matplotlib.pyplot import figure\n",
    "import matplotlib.pyplot as plt\n",
    "\n",
    "\n",
    "figure(figsize=(8, 5), dpi=120)\n",
    "\n",
    "for corruption_prob in [0.0, 0.1, 0.2, 0.3, 0.4, 0.5]:\n",
    "    res = pd.read_csv(f'/media/boris/F/NeMo_own_research/transfer_learning/dataframes/dae_{corruption_prob}')\n",
    "    res[::2].reset_index()['val_wer'].rolling(30, win_type='gaussian').mean(std=100).plot(label=f'corruption_prob_{corruption_prob}')\n",
    "\n",
    "plt.legend(loc=\"upper right\")\n",
    "plt.xlabel('epoch')\n",
    "plt.ylabel('cer')"
   ]
  },
  {
   "cell_type": "code",
   "execution_count": 1,
   "id": "57fd7d96",
   "metadata": {
    "scrolled": true
   },
   "outputs": [
    {
     "name": "stderr",
     "output_type": "stream",
     "text": [
      "/media/boris/F/anaconda3/envs/nemo/lib/python3.9/site-packages/apex/pyprof/__init__.py:5: FutureWarning: pyprof will be removed by the end of June, 2022\n",
      "  warnings.warn(\"pyprof will be removed by the end of June, 2022\", FutureWarning)\n",
      "################################################################################\n",
      "### WARNING, path does not exist: KALDI_ROOT=media/boris/F/pykaldi/kaldi\n",
      "###          (please add 'export KALDI_ROOT=<your_path>' in your $HOME/.profile)\n",
      "###          (or run as: KALDI_ROOT=<your_path> python <your_script>.py)\n",
      "################################################################################\n",
      "\n",
      "[NeMo W 2022-05-20 15:04:22 experimental:27] Module <class 'nemo.collections.nlp.data.language_modeling.megatron.megatron_batch_samplers.MegatronPretrainingRandomBatchSampler'> is experimental, not ready for production and is not fully supported. Use at your own risk.\n"
     ]
    }
   ],
   "source": [
    "from nemo.collections.asr.models import EncDecCTCModel\n",
    "from nemo.collections.tts.models import FastPitchModel"
   ]
  },
  {
   "cell_type": "code",
   "execution_count": 2,
   "id": "de0cf3c3",
   "metadata": {},
   "outputs": [],
   "source": [
    "import contextlib\n",
    "from typing import Optional\n",
    "\n",
    "import torch\n",
    "from hydra.utils import instantiate\n",
    "from omegaconf import DictConfig, open_dict\n",
    "from pytorch_lightning import Trainer\n",
    "from pytorch_lightning.loggers import LoggerCollection, TensorBoardLogger\n",
    "\n",
    "from nemo.collections.asr.data.audio_to_text import AudioToCharWithDursF0Dataset\n",
    "from nemo.collections.common.parts.preprocessing import parsers\n",
    "from nemo.collections.tts.helpers.helpers import plot_alignment_to_numpy, plot_spectrogram_to_numpy\n",
    "from nemo.collections.tts.losses.aligner_loss import BinLoss, ForwardSumLoss\n",
    "from nemo.collections.tts.losses.fastpitchloss import DurationLoss, MelLoss, PitchLoss\n",
    "from nemo.collections.tts.models.base import SpectrogramGenerator\n",
    "# from nemo.collections.tts.modules.fastpitch import \\\n",
    "from nemo.collections.tts.torch.tts_data_types import SpeakerID\n",
    "from nemo.core.classes import Exportable\n",
    "from nemo.core.classes.common import PretrainedModelInfo, typecheck\n",
    "from nemo.core.neural_types.elements import (\n",
    "    Index,\n",
    "    LengthsType,\n",
    "    MelSpectrogramType,\n",
    "    ProbsType,\n",
    "    RegressionValuesType,\n",
    "    TokenDurationType,\n",
    "    TokenIndex,\n",
    "    TokenLogDurationType,\n",
    ")\n",
    "from nemo.core.neural_types.neural_type import NeuralType\n",
    "from nemo.utils import logging, model_utils\n",
    "\n",
    "from nemo.core.classes import ModelPT\n",
    "\n",
    "import nemo\n",
    "import nemo.collections.asr as nemo_asr\n",
    "from my_model_quartznet import MyModel\n",
    "import os\n",
    "import numpy as np\n",
    "import pandas as pd\n",
    "import pytorch_lightning as pl\n",
    "import copy"
   ]
  },
  {
   "cell_type": "code",
   "execution_count": 3,
   "id": "d220c644",
   "metadata": {},
   "outputs": [],
   "source": [
    "import random\n",
    "import copy\n",
    "import inspect\n",
    "import os\n",
    "import uuid\n",
    "from abc import abstractmethod\n",
    "from os import path\n",
    "from pathlib import Path\n",
    "from typing import Callable, Dict, List, Optional, Union\n",
    "\n",
    "import hydra\n",
    "import torch\n",
    "from omegaconf import DictConfig, OmegaConf, open_dict\n",
    "from pytorch_lightning import LightningModule, Trainer\n",
    "from pytorch_lightning.utilities import rank_zero_only\n",
    "\n",
    "from nemo import package_info\n",
    "from nemo.core import optim\n",
    "from nemo.core.classes.common import Model\n",
    "from nemo.core.connectors.save_restore_connector import SaveRestoreConnector\n",
    "from nemo.core.optim import prepare_lr_scheduler\n",
    "from nemo.utils import logging, model_utils\n",
    "from nemo.utils.app_state import AppState\n",
    "from nemo.utils.get_rank import is_global_rank_zero\n",
    "from nemo.collections.tts.models import Tacotron2Model\n"
   ]
  },
  {
   "cell_type": "code",
   "execution_count": 4,
   "id": "d25da967",
   "metadata": {},
   "outputs": [],
   "source": [
    "def flip_batch(batch):\n",
    "    new_batch = torch.clone(batch[0]), torch.clone(batch[1]), torch.clone(batch[2]), torch.clone(batch[3])\n",
    "    for i in range(len(new_batch)):\n",
    "        try:\n",
    "            for j in range(len(new_batch[i])):\n",
    "                new_batch[i][j] = torch.flip(new_batch[i][j], dims=[0])\n",
    "        except Exception:\n",
    "            pass\n",
    "    return new_batch"
   ]
  },
  {
   "cell_type": "code",
   "execution_count": 170,
   "id": "f3dccabb",
   "metadata": {},
   "outputs": [],
   "source": [
    "class DT_model(ModelPT):\n",
    "    \n",
    "    def __init__(self, asr_cfg: DictConfig, tts_cfg: DictConfig, trainer: Trainer = None, *args, **kwargs):\n",
    "        cfg = OmegaConf.structured({})\n",
    "        super().__init__(cfg, trainer=kwargs.get('trainer', None))\n",
    "        self.asr_model = EncDecCTCModel.from_config_dict(asr_cfg)\n",
    "        self.spec_gen = Tacotron2Model.from_config_dict(tts_cfg)\n",
    "        \n",
    "        self._wer = []\n",
    "        self._other_wer = []\n",
    "        self.corruption_prob = 0.4\n",
    "        \n",
    "        self.asr_model.setup_optimization()\n",
    "        self.spec_gen.setup_optimization()\n",
    "\n",
    "    \n",
    "        self._train_dl = self.spec_gen._train_dl\n",
    "        self._validation_dl = self.spec_gen._validation_dl\n",
    "        self._test_dl = self.spec_gen._test_dl\n",
    "        \n",
    "        self._optimizer_param_groups = self.asr_model._optimizer_param_groups\n",
    "        self._optimizer = self.asr_model._optimizer\n",
    "        self._scheduler = self.asr_model._scheduler\n",
    "    \n",
    "    def train_dataloader(self):\n",
    "#         dataset = OnesDataset(10000)\n",
    "        return self.spec_gen.train_dataloader()\n",
    "\n",
    "    def val_dataloader(self):\n",
    "#         dataset = OnesDataset(10)\n",
    "        return self.spec_gen.val_dataloader()\n",
    "\n",
    "    def predict_dataloader(self):\n",
    "#         dataset = OnesDataset(10)\n",
    "        return self.spec_gen.predict_dataloader()\n",
    "\n",
    "    def forward_asr(\n",
    "        self, input_signal=None, input_signal_length=None, processed_signal=None, processed_signal_length=None,\n",
    "            dae=False\n",
    "    ):\n",
    "        processed_signal, processed_signal_length = self.asr_model.preprocessor(\n",
    "            input_signal=input_signal, length=input_signal_length,\n",
    "        )\n",
    "\n",
    "        ## batch size 16\n",
    "            \n",
    "        ## audio corruption marking 8-15 parts of paired data\n",
    "\n",
    "        encoded, encoded_len = self.asr_model.encoder(audio_signal=processed_signal, length=processed_signal_length)\n",
    "        \n",
    "        log_probs = self.asr_model.decoder(encoder_output=encoded)\n",
    "        greedy_predictions = log_probs.argmax(dim=-1, keepdim=False)\n",
    "\n",
    "        return log_probs, encoded_len, greedy_predictions\n",
    "\n",
    "    def forward_spec_gen(self, *, tokens, token_len, audio=None, audio_len=None, dae=False):\n",
    "        \n",
    "        if audio is not None and audio_len is not None:\n",
    "            spec_target, spec_target_len = self.spec_gen.audio_to_melspec_precessor(audio, audio_len)\n",
    "        token_embedding = self.spec_gen.text_embedding(tokens).transpose(1, 2)\n",
    "        encoder_embedding = self.spec_gen.encoder(token_embedding=token_embedding, token_len=token_len)\n",
    "        if self.spec_gen.training:\n",
    "            spec_pred_dec, gate_pred, alignments = self.spec_gen.decoder(\n",
    "                memory=encoder_embedding, decoder_inputs=spec_target, memory_lengths=token_len\n",
    "            )\n",
    "        else:\n",
    "            spec_pred_dec, gate_pred, alignments, pred_length = self.spec_gen.decoder(\n",
    "                memory=encoder_embedding, memory_lengths=token_len\n",
    "            )\n",
    "        spec_pred_postnet = self.spec_gen.postnet(mel_spec=spec_pred_dec)\n",
    "\n",
    "        if not self.spec_gen.calculate_loss:\n",
    "            return spec_pred_dec, spec_pred_postnet, gate_pred, alignments, pred_length\n",
    "        return spec_pred_dec, spec_pred_postnet, gate_pred, spec_target, spec_target_len, alignments\n",
    "\n",
    "    def forward_dt_spec_gen(self, *, signal, signal_len):\n",
    "        processed_signal, processed_signal_length = self.asr_model.preprocessor(\n",
    "            input_signal=signal, length=signal_len,\n",
    "        )\n",
    "\n",
    "        encoded, encoded_len = self.asr_model.encoder(audio_signal=processed_signal, length=processed_signal_length)\n",
    "\n",
    "        spec_target, spec_target_len = self.spec_gen.audio_to_melspec_precessor(signal, signal_len)\n",
    "\n",
    "        spec_pred_dec, gate_pred, alignments = self.spec_gen.decoder(\n",
    "            memory=encoded.permute(0, 2, 1).cuda(), decoder_inputs=spec_target.cuda(),\n",
    "                memory_lengths=(torch.ones(encoded.shape[0]) * encoded.shape[2]).long().cuda()\n",
    "        )\n",
    "\n",
    "        del signal, signal_len, processed_signal, processed_signal_length, encoded, encoded_len\n",
    "        \n",
    "        spec_pred_postnet = self.spec_gen.postnet(mel_spec=spec_pred_dec)\n",
    "\n",
    "        if not self.spec_gen.calculate_loss:\n",
    "            return spec_pred_dec, spec_pred_postnet, gate_pred, alignments, pred_length\n",
    "\n",
    "        return spec_pred_dec, spec_pred_postnet, gate_pred, spec_target, spec_target_len, alignments\n",
    "    \n",
    "    def forward_dt_asr(self, *, tokens, token_len):\n",
    "        token_embedding = self.spec_gen.text_embedding(tokens).transpose(1, 2)\n",
    "        encoder_embedding = self.spec_gen.encoder(token_embedding=token_embedding, token_len=token_len).permute(0, 2, 1)\n",
    "\n",
    "        encoded_len = []\n",
    "        for i in range(encoder_embedding.shape[0]):\n",
    "            pos = encoder_embedding.shape[2]\n",
    "            for j in range(len(encoder_embedding[i][0])):\n",
    "                if encoder_embedding[i][0][j] == 0:\n",
    "                    pos = j\n",
    "                    break\n",
    "            encoded_len.append(pos)\n",
    "        encoded_len = torch.tensor(encoded_len)\n",
    "\n",
    "        log_probs = self.asr_model.decoder(encoder_output=encoder_embedding)\n",
    "        greedy_predictions = log_probs.argmax(dim=-1, keepdim=False)\n",
    "        \n",
    "        del tokens, token_len, token_embedding, encoder_embedding\n",
    "        \n",
    "        return log_probs, encoded_len, greedy_predictions\n",
    "    \n",
    "    def validation_step_asr(self, batch, batch_idx, dataloader_idx=0):\n",
    "        signal, signal_len, transcript, transcript_len = batch\n",
    "        \n",
    "        \n",
    "        \n",
    "        transcript = transcript * (transcript < 28)\n",
    "        \n",
    "        log_probs, encoded_len, predictions = self.forward_asr(input_signal=signal, input_signal_length=signal_len, dae=False)\n",
    "\n",
    "        loss_value = self.asr_model.loss(\n",
    "            log_probs=log_probs, targets=transcript, input_lengths=encoded_len, target_lengths=transcript_len\n",
    "        )\n",
    "        self.asr_model._wer.update(\n",
    "            predictions=predictions, targets=transcript, target_lengths=transcript_len, predictions_lengths=encoded_len\n",
    "        )\n",
    "        wer, wer_num, wer_denom = self.asr_model._wer.compute()\n",
    "        self.asr_model._wer.reset()\n",
    "        return {\n",
    "            'val_loss': loss_value,\n",
    "            'val_wer_num': wer_num,\n",
    "            'val_wer_denom': wer_denom,\n",
    "            'val_wer': wer,\n",
    "        }\n",
    "\n",
    "    def training_step_asr(self, batch, batch_idx):\n",
    "\n",
    "        signal, signal_len, transcript, transcript_len = batch\n",
    "                                                  \n",
    "        for i in range(signal.shape[0] // 2):\n",
    "            corruption = np.random.choice([0,1], signal[i].shape[0], p=[self.corruption_prob, 1 - self.corruption_prob])\n",
    "            signal[i] = signal[i].cpu() * corruption\n",
    "            signal[i].cuda()\n",
    "                \n",
    "        transcript = transcript * (transcript < 28)\n",
    "        \n",
    "        log_probs, encoded_len, predictions = self.forward_asr(input_signal=signal, input_signal_length=signal_len)\n",
    "        \n",
    "        loss_value = self.asr_model.loss(\n",
    "            log_probs=log_probs, targets=transcript, input_lengths=encoded_len, target_lengths=transcript_len\n",
    "        )\n",
    "        \n",
    "#         for raw_batch in self.spec_gen.val_dataloader():\n",
    "#             _, _, tokens, token_len = batch\n",
    "            \n",
    "#             log_probs, encoded_len, predictions = self.forward_dt_asr(tokens=tokens, token_len=token_len)\n",
    "        \n",
    "#             loss_value += self.asr_model.loss(\n",
    "#                 log_probs=log_probs, targets=transcript, input_lengths=encoded_len, target_lengths=transcript_len\n",
    "#             )\n",
    "\n",
    "#             break\n",
    "        \n",
    "#         flipped_batch = flip_batch(batch)\n",
    "        \n",
    "#         flipped_signal, flipped_signal_len, flipped_transcript, flipped_transcript_len = flipped_batch\n",
    "                                                  \n",
    "#         for i in range(flipped_signal.shape[0] // 2):\n",
    "#             corruption = np.random.choice([0,1], flipped_signal[i].shape[0], p=[self.corruption_prob, 1 - self.corruption_prob])\n",
    "#             flipped_signal[i] = flipped_signal[i].cpu() * corruption\n",
    "#             flipped_signal[i].cuda()\n",
    "            \n",
    "#         flipped_transcript = flipped_transcript * (flipped_transcript < 28)\n",
    "        \n",
    "#         log_probs, encoded_len, predictions = self.forward_asr(input_signal=flipped_signal,\n",
    "#                                                                input_signal_length=flipped_signal_len)\n",
    "        \n",
    "#         loss_value += self.asr_model.loss(\n",
    "#             log_probs=log_probs, targets=flipped_transcript, input_lengths=encoded_len, target_lengths=flipped_transcript_len\n",
    "#         )\n",
    "        \n",
    "        tensorboard_logs = {'train_loss': loss_value, 'learning_rate': self.asr_model._optimizer.param_groups[0]['lr']}\n",
    "\n",
    "        log_every_n_steps = 50\n",
    "\n",
    "        if (batch_idx + 1) % log_every_n_steps == 0:\n",
    "            self.asr_model._wer.update(\n",
    "                predictions=predictions,\n",
    "                targets=transcript,\n",
    "                target_lengths=transcript_len,\n",
    "                predictions_lengths=encoded_len,\n",
    "            )\n",
    "            wer, _, _ = self.asr_model._wer.compute()\n",
    "            self.asr_model._wer.reset()\n",
    "            tensorboard_logs.update({'training_batch_wer': wer})\n",
    "            self._other_wer.append(wer)\n",
    "            \n",
    "        return {'loss': loss_value} #, 'log': tensorboard_logs}\n",
    "\n",
    "    def validation_step_spec_gen(self, batch, batch_idx):\n",
    "        audio, audio_len, tokens, token_len = batch\n",
    "        spec_pred_dec, spec_pred_postnet, gate_pred, spec_target, spec_target_len, alignments = self.forward_spec_gen(\n",
    "            audio=audio, audio_len=audio_len, tokens=tokens, token_len=token_len, dae=False\n",
    "        )\n",
    "\n",
    "        loss, gate_target = self.spec_gen.loss(\n",
    "            spec_pred_dec=spec_pred_dec,\n",
    "            spec_pred_postnet=spec_pred_postnet,\n",
    "            gate_pred=gate_pred,\n",
    "            spec_target=spec_target,\n",
    "            spec_target_len=spec_target_len,\n",
    "            pad_value=self.spec_gen.pad_value,\n",
    "        )\n",
    "        return {\n",
    "            \"val_loss\": loss,\n",
    "            \"mel_target\": spec_target,\n",
    "            \"mel_postnet\": spec_pred_postnet,\n",
    "            \"gate\": gate_pred,\n",
    "            \"gate_target\": gate_target,\n",
    "            \"alignments\": alignments,\n",
    "        }\n",
    "    \n",
    "    def training_step_spec_gen(self, batch, batch_idx):\n",
    "        audio, audio_len, _tokens, token_len = batch\n",
    "        \n",
    "        tokens = torch.clone(_tokens)\n",
    "        \n",
    "        for i in range(tokens.shape[0] // 2):\n",
    "            corruption = np.random.choice([0,1], tokens[i].shape[0], p=[self.corruption_prob, 1 - self.corruption_prob])\n",
    "            tokens[i] = tokens[i].cpu() * corruption\n",
    "            tokens[i].cuda()\n",
    "        \n",
    "        spec_pred_dec, spec_pred_postnet, gate_pred, spec_target, spec_target_len, _ = self.forward_spec_gen(\n",
    "            audio=audio, audio_len=audio_len, tokens=tokens, token_len=token_len\n",
    "        )\n",
    "\n",
    "        loss, _ = self.spec_gen.loss(\n",
    "            spec_pred_dec=spec_pred_dec,\n",
    "            spec_pred_postnet=spec_pred_postnet,\n",
    "            gate_pred=gate_pred,\n",
    "            spec_target=spec_target,\n",
    "            spec_target_len=spec_target_len,\n",
    "            pad_value=self.spec_gen.pad_value,\n",
    "        )\n",
    "        \n",
    "#         for raw_batch in self.spec_gen.val_dataloader():\n",
    "            \n",
    "#             signal, signal_len, _, _ = raw_batch\n",
    "#             signal, signal_len = signal.cuda(), signal_len.cuda()\n",
    "            \n",
    "#             spec_pred_dec, spec_pred_postnet, gate_pred, spec_target, spec_target_len, _ = \\\n",
    "#                 self.forward_dt_spec_gen(signal=signal, signal_len=signal_len)\n",
    "                \n",
    "#             loss += self.spec_gen.loss(\n",
    "#                 spec_pred_dec=spec_pred_dec,\n",
    "#                 spec_pred_postnet=spec_pred_postnet,\n",
    "#                 gate_pred=gate_pred,\n",
    "#                 spec_target=spec_target,\n",
    "#                 spec_target_len=spec_target_len,\n",
    "#                 pad_value=self.spec_gen.pad_value,\n",
    "#             )[0]\n",
    "                \n",
    "                \n",
    "#             del raw_batch\n",
    "                \n",
    "#             break\n",
    "        \n",
    "#         flipped_batch = flip_batch(batch)\n",
    "        \n",
    "#         flipped_audio, flipped_audio_len, flipped__tokens, flipped_token_len = flipped_batch\n",
    "        \n",
    "#         flipped_tokens = torch.clone(flipped__tokens)\n",
    "        \n",
    "#         for i in range(flipped_tokens.shape[0] // 2):\n",
    "#             for j in range(flipped_tokens.shape[1]):\n",
    "#                 if random.random() < self.corruption_prob:\n",
    "#                     flipped_tokens[i][j] = 0\n",
    "        \n",
    "#         spec_pred_dec, spec_pred_postnet, gate_pred, spec_target, spec_target_len, _ = self.forward_spec_gen(\n",
    "#             audio=flipped_audio, audio_len=flipped_audio_len, tokens=flipped_tokens, token_len=flipped_token_len\n",
    "#         )\n",
    "\n",
    "#         loss, _ += self.spec_gen.loss(\n",
    "#             spec_pred_dec=spec_pred_dec,\n",
    "#             spec_pred_postnet=spec_pred_postnet,\n",
    "#             gate_pred=gate_pred,\n",
    "#             spec_target=spec_target,\n",
    "#             spec_target_len=spec_target_len,\n",
    "#             pad_value=self.spec_gen.pad_value,\n",
    "#         )\n",
    "                \n",
    "\n",
    "#         output = {\n",
    "#             'loss': loss,\n",
    "#             'progress_bar': {'training_loss': loss},\n",
    "#             'log': {'loss': loss},\n",
    "#         }\n",
    "        return {'loss': loss}\n",
    "    \n",
    "    def validation_step(self, batch, batch_idx):\n",
    "        val_asr = self.validation_step_asr(batch, batch_idx)\n",
    "        val_spec_gen = self.validation_step_spec_gen(batch, batch_idx)\n",
    "    \n",
    "        if batch_idx == 0:\n",
    "            print('spec_gen val loss', val_spec_gen['val_loss'])\n",
    "    \n",
    "        return {k: val_asr.get(k, 0) + val_spec_gen.get(k, 0) for k in set(val_asr) | set(val_spec_gen)}\n",
    "    \n",
    "    def training_step(self, batch, batch_idx):\n",
    "        training_asr = self.training_step_asr(batch, batch_idx)\n",
    "        training_spec_gen = self.training_step_spec_gen(batch, batch_idx)\n",
    "    \n",
    "        if batch_idx == 0:\n",
    "            print('spec_gen train loss', training_spec_gen['loss'])\n",
    "    \n",
    "        return {k: training_asr.get(k, 0) + training_spec_gen.get(k, 0) for k in set(training_asr) | set(training_spec_gen)}\n",
    "    \n",
    "    def list_available_models(self):\n",
    "        pass\n",
    "\n",
    "    def setup_training_data(self):\n",
    "        pass\n",
    "\n",
    "    def setup_validation_data(self):\n",
    "        pass\n",
    "\n",
    "    def validation_epoch_end(self, loss):\n",
    "        \n",
    "        wer_nums = []\n",
    "        wer_denoms = []\n",
    "        \n",
    "        for test_batch in self.asr_model.val_dataloader():\n",
    "            test_batch = [x.cuda() for x in test_batch]\n",
    "            targets = test_batch[2]\n",
    "            targets_lengths = test_batch[3]        \n",
    "            log_probs, encoded_len, greedy_predictions = self.asr_model(\n",
    "                input_signal=test_batch[0], input_signal_length=test_batch[1]\n",
    "            )\n",
    "            # Notice the model has a helper object to compute WER\n",
    "            self.asr_model._wer.update(greedy_predictions, targets, targets_lengths)\n",
    "            _, wer_num, wer_denom = self.asr_model._wer.compute()\n",
    "            self.asr_model._wer.reset()\n",
    "            wer_nums.append(wer_num.detach().cpu().numpy())\n",
    "            wer_denoms.append(wer_denom.detach().cpu().numpy())\n",
    "\n",
    "            # Release tensors from GPU memory\n",
    "            del test_batch, log_probs, targets, targets_lengths, encoded_len, greedy_predictions\n",
    "\n",
    "        # We need to sum all numerators and denominators first. Then divide.\n",
    "        print(f\"WER = {sum(wer_nums)/sum(wer_denoms)}\")\n",
    "        \n",
    "        self._wer.append(sum(wer_nums)/sum(wer_denoms))\n",
    "        \n",
    "        return self.asr_model.validation_epoch_end(loss)\n",
    "    \n",
    "    def optimizer_step(self, epoch, batch_idx, optimizer, optimizer_idx,\n",
    "                   optimizer_closure, on_tpu, using_native_amp, using_lbfgs):\n",
    "        pass\n",
    "#         self.asr_model._optimizer.step(closure=optimizer_closure)\n",
    "#         self.spec_gen._optimizer.step(closure=optimizer_closure)"
   ]
  },
  {
   "cell_type": "code",
   "execution_count": 171,
   "id": "c4851ac1",
   "metadata": {
    "scrolled": true
   },
   "outputs": [
    {
     "name": "stdout",
     "output_type": "stream",
     "text": [
      "[NeMo I 2022-05-12 07:51:33 audio_to_text_dataset:41] Model level config does not container `sample_rate`, please explicitly provide `sample_rate` to the dataloaders.\n",
      "[NeMo I 2022-05-12 07:51:33 audio_to_text_dataset:41] Model level config does not container `labels`, please explicitly provide `labels` to the dataloaders.\n",
      "[NeMo I 2022-05-12 07:51:33 collections:183] Dataset loaded with 1200 files totalling 0.93 hours\n",
      "[NeMo I 2022-05-12 07:51:33 collections:184] 0 files were filtered totalling 0.00 hours\n",
      "[NeMo I 2022-05-12 07:51:33 audio_to_text_dataset:41] Model level config does not container `sample_rate`, please explicitly provide `sample_rate` to the dataloaders.\n",
      "[NeMo I 2022-05-12 07:51:33 audio_to_text_dataset:41] Model level config does not container `labels`, please explicitly provide `labels` to the dataloaders.\n",
      "[NeMo I 2022-05-12 07:51:33 collections:183] Dataset loaded with 878 files totalling 0.65 hours\n",
      "[NeMo I 2022-05-12 07:51:33 collections:184] 0 files were filtered totalling 0.00 hours\n",
      "[NeMo I 2022-05-12 07:51:33 features:259] PADDING: 16\n",
      "[NeMo I 2022-05-12 07:51:33 features:276] STFT using torch\n"
     ]
    },
    {
     "name": "stderr",
     "output_type": "stream",
     "text": [
      "[NeMo E 2022-05-12 07:51:33 tacotron2:288] The train dataloader for Tacotron2Model() has shuffle set to False!!!\n"
     ]
    },
    {
     "name": "stdout",
     "output_type": "stream",
     "text": [
      "[NeMo I 2022-05-12 07:51:33 collections:183] Dataset loaded with 1200 files totalling 0.93 hours\n",
      "[NeMo I 2022-05-12 07:51:33 collections:184] 0 files were filtered totalling 0.00 hours\n"
     ]
    },
    {
     "name": "stderr",
     "output_type": "stream",
     "text": [
      "[NeMo E 2022-05-12 07:51:33 tacotron2:290] The validation dataloader for Tacotron2Model() has shuffle set to True!!!\n"
     ]
    },
    {
     "name": "stdout",
     "output_type": "stream",
     "text": [
      "[NeMo I 2022-05-12 07:51:34 collections:183] Dataset loaded with 878 files totalling 0.65 hours\n",
      "[NeMo I 2022-05-12 07:51:34 collections:184] 0 files were filtered totalling 0.00 hours\n",
      "[NeMo I 2022-05-12 07:51:34 features:259] PADDING: 16\n",
      "[NeMo I 2022-05-12 07:51:34 features:276] STFT using torch\n"
     ]
    },
    {
     "name": "stderr",
     "output_type": "stream",
     "text": [
      "[NeMo W 2022-05-12 07:51:34 modelPT:475] Trainer wasn't specified in model constructor. Make sure that you really wanted it.\n"
     ]
    },
    {
     "name": "stdout",
     "output_type": "stream",
     "text": [
      "[NeMo I 2022-05-12 07:51:34 modelPT:587] Optimizer config = Novograd (\n",
      "    Parameter Group 0\n",
      "        amsgrad: False\n",
      "        betas: [0.8, 0.5]\n",
      "        eps: 1e-08\n",
      "        grad_averaging: False\n",
      "        lr: 0.01\n",
      "        weight_decay: 0.001\n",
      "    )\n"
     ]
    },
    {
     "name": "stderr",
     "output_type": "stream",
     "text": [
      "[NeMo W 2022-05-12 07:51:34 lr_scheduler:816] Neither `max_steps` nor `iters_per_batch` were provided to `optim.sched`, cannot compute effective `max_steps` !\n",
      "    Scheduler will not be instantiated !\n",
      "[NeMo W 2022-05-12 07:51:34 modelPT:475] Trainer wasn't specified in model constructor. Make sure that you really wanted it.\n"
     ]
    },
    {
     "name": "stdout",
     "output_type": "stream",
     "text": [
      "[NeMo I 2022-05-12 07:51:34 modelPT:587] Optimizer config = Adam (\n",
      "    Parameter Group 0\n",
      "        amsgrad: False\n",
      "        betas: (0.9, 0.999)\n",
      "        eps: 1e-08\n",
      "        foreach: None\n",
      "        lr: 0.001\n",
      "        maximize: False\n",
      "        weight_decay: 1e-06\n",
      "    )\n"
     ]
    },
    {
     "name": "stderr",
     "output_type": "stream",
     "text": [
      "[NeMo W 2022-05-12 07:51:34 lr_scheduler:816] Neither `max_steps` nor `iters_per_batch` were provided to `optim.sched`, cannot compute effective `max_steps` !\n",
      "    Scheduler will not be instantiated !\n"
     ]
    }
   ],
   "source": [
    "\n",
    "dt_model = DT_model(asr_cfg=DictConfig(params['model']),\n",
    "                        tts_cfg=DictConfig(config['model']),\n",
    "                        trainer=trainer)\n"
   ]
  },
  {
   "cell_type": "code",
   "execution_count": 2,
   "id": "690fd197",
   "metadata": {
    "scrolled": true
   },
   "outputs": [],
   "source": [
    "trainer = pl.Trainer(devices=1, accelerator='gpu', max_epochs=1000, check_val_every_n_epoch=1)\n",
    "\n",
    "trainer.fit(dt_model)"
   ]
  },
  {
   "cell_type": "code",
   "execution_count": 44,
   "id": "623c668d",
   "metadata": {
    "scrolled": true
   },
   "outputs": [
    {
     "data": {
      "text/plain": [
       "[<matplotlib.lines.Line2D at 0x7f25255c54f0>]"
      ]
     },
     "execution_count": 44,
     "metadata": {},
     "output_type": "execute_result"
    },
    {
     "data": {
      "image/png": "[encoded data removed]",
      "text/plain": [
       "<Figure size 432x288 with 1 Axes>"
      ]
     },
     "metadata": {
      "needs_background": "light"
     },
     "output_type": "display_data"
    }
   ],
   "source": [
    "plt.plot(dt_model._wer)"
   ]
  }
 ],
 "metadata": {
  "kernelspec": {
   "display_name": "Python 3 (ipykernel)",
   "language": "python",
   "name": "python3"
  },
  "language_info": {
   "codemirror_mode": {
    "name": "ipython",
    "version": 3
   },
   "file_extension": ".py",
   "mimetype": "text/x-python",
   "name": "python",
   "nbconvert_exporter": "python",
   "pygments_lexer": "ipython3",
   "version": "3.9.7"
  }
 },
 "nbformat": 4,
 "nbformat_minor": 5
}
